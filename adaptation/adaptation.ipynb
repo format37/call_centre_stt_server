{
 "cells": [
  {
   "cell_type": "code",
   "execution_count": 1,
   "metadata": {},
   "outputs": [],
   "source": [
    "# https://pypi.org/project/jiwer/\n",
    "#!pip install jiwer"
   ]
  },
  {
   "cell_type": "code",
   "execution_count": 21,
   "metadata": {},
   "outputs": [],
   "source": [
    "import os\n",
    "import wave\n",
    "from vosk import Model, KaldiRecognizer, SetLogLevel\n",
    "import json\n",
    "import difflib\n",
    "import math\n",
    "import numpy as np\n",
    "import requests\n",
    "import jiwer"
   ]
  },
  {
   "cell_type": "code",
   "execution_count": 3,
   "metadata": {},
   "outputs": [],
   "source": [
    "def make_file_splitted(side, original_file_name):\n",
    "    \n",
    "    # init ++\n",
    "    temp_file_path = ''\n",
    "    temp_file_name = 'temp'+('_R' if side else '_L')+'.wav'\n",
    "    original_file_path = ''\n",
    "    # init --\n",
    "    \n",
    "    # crop '.wav' & append postfix\n",
    "    temp_file_name = original_file_name[:-4]+('_R' if side else '_L')+'.wav'\n",
    "\n",
    "    os_cmd = 'ffmpeg -y -i '\n",
    "    os_cmd += original_file_path\n",
    "    os_cmd += original_file_name\n",
    "    os_cmd += ' -ar 16000 -af \"pan=mono|c0=F'\n",
    "    os_cmd += 'R' if side else 'L'\n",
    "    os_cmd += '\" '\n",
    "    os_cmd += temp_file_path\n",
    "    os_cmd += temp_file_name\n",
    "\n",
    "    try:\n",
    "        os.system(os_cmd)\n",
    "    except Exception as e:\n",
    "        print('make_file_splitted error:',str(e))\n",
    "    return os.path.isfile(temp_file_path + temp_file_name)"
   ]
  },
  {
   "cell_type": "code",
   "execution_count": 4,
   "metadata": {},
   "outputs": [
    {
     "data": {
      "text/plain": [
       "(True, True)"
      ]
     },
     "execution_count": 4,
     "metadata": {},
     "output_type": "execute_result"
    }
   ],
   "source": [
    "file_name = 'in_74992317889_2020-10-27-11-53-19rxtx'\n",
    "temp_l = make_file_splitted(0,file_name+'.wav')\n",
    "temp_r = make_file_splitted(1,file_name+'.wav')\n",
    "temp_l, temp_r"
   ]
  },
  {
   "cell_type": "code",
   "execution_count": 5,
   "metadata": {},
   "outputs": [],
   "source": [
    "def transcribe(side, file_name, source_id):\n",
    "\n",
    "    # transcribation_date = datetime.datetime.now().strftime('%Y-%m-%dT%H:%M:%S')\n",
    "    # init ++\n",
    "    temp_file_path = ''\n",
    "    if source_id == 1:\n",
    "        temp_file_name = file_name+('_R' if side else '_L')+'.wav'\n",
    "    else:\n",
    "        temp_file_name = file_name+('-in' if side else '-out')+'.wav'\n",
    "    #model_path = '/home/alex/projects/vosk-api/python/example/model'\n",
    "    ### adaptation ++\n",
    "    model_path = '/home/alex/projects/vosk-api/python/example/vosk-model-ru-0.10'\n",
    "    ### adaptation --\n",
    "    phrases_list = []\n",
    "    # init --\n",
    "\n",
    "    # read file\n",
    "    wf = wave.open(temp_file_path + temp_file_name, \"rb\")\n",
    "\n",
    "    # read model\n",
    "    model = Model(model_path)\n",
    "    rec = KaldiRecognizer(model, wf.getframerate())\n",
    "    ### adaptation ++\n",
    "    #appended_words = '[\"да приорова шестнадцать корпус один хорошо ваш заказ отменен\"]'\n",
    "    #rec = KaldiRecognizer(model, wf.getframerate(), appended_words)\n",
    "    ### adaptation --\n",
    "\n",
    "    # recognizing\n",
    "    #phrases_count = 0\n",
    "\n",
    "    while True:\n",
    "\n",
    "        conf_score = []\n",
    "\n",
    "        data = wf.readframes(4000)\n",
    "        if len(data) == 0:\n",
    "            break\n",
    "\n",
    "        if rec.AcceptWaveform(data):\n",
    "            accept = json.loads(rec.Result())\n",
    "            print(accept)\n",
    "            if accept['text'] !='':\n",
    "\n",
    "                accept_start\t= str(accept['result'][0]['start'])\n",
    "                accept_end   \t= accept['result'][-1:][0]['end']\n",
    "                accept_text\t\t= str(accept['text'])\n",
    "\n",
    "                for result_rec in accept['result']:\n",
    "                    conf_score.append(float(result_rec['conf']))\n",
    "                conf_mid = str(sum(conf_score)/len(conf_score))\n",
    "                conf_score = []\n",
    "                \n",
    "                #self.save_result(accept_text, accept_start, accept_end, side, transcribation_date, conf_mid, linkedid, dst)\n",
    "                phrases_list.append(accept_text)\n",
    "                #phrases_count+=1\n",
    "\n",
    "    #if phrases_count == 0:\n",
    "        #self.save_result('', '0', '0', side, transcribation_date, 0, linkedid, dst)\n",
    "    return phrases_list"
   ]
  },
  {
   "cell_type": "code",
   "execution_count": 6,
   "metadata": {},
   "outputs": [],
   "source": [
    "def score(robot, human):\n",
    "    scores = []\n",
    "    for i in range(len(robot)):\n",
    "        scores.append({\n",
    "            'robot': robot[i],\n",
    "            'human': human[i],\n",
    "            'score': int(difflib.SequenceMatcher(None, robot[i], human[i]).ratio()*100)\n",
    "        })\n",
    "        print(scores[i]['score'], '#', scores[i]['robot'])\n",
    "    print('average', np.average([i['score'] for i in scores]))\n",
    "    print('median ', np.median([i['score'] for i in scores]))"
   ]
  },
  {
   "cell_type": "code",
   "execution_count": 24,
   "metadata": {},
   "outputs": [],
   "source": [
    "def error(ground_truth, hypothesis):\n",
    "    wer = jiwer.wer(ground_truth, hypothesis)\n",
    "    mer = jiwer.mer(ground_truth, hypothesis)\n",
    "    wil = jiwer.wil(ground_truth, hypothesis)\n",
    "\n",
    "    # faster, because `compute_measures` only needs to perform the heavy lifting once:\n",
    "    measures = jiwer.compute_measures(ground_truth, hypothesis)\n",
    "    wer = measures['wer']\n",
    "    mer = measures['mer']\n",
    "    wil = measures['wil']\n",
    "\n",
    "    print('wer', wer)\n",
    "    print('mer', mer)\n",
    "    print('wil', wil)"
   ]
  },
  {
   "cell_type": "code",
   "execution_count": 7,
   "metadata": {},
   "outputs": [],
   "source": [
    "#master_talk_0 = transcribe(0, '1612424788.1439425', 2)\n",
    "#master_talk_0"
   ]
  },
  {
   "cell_type": "code",
   "execution_count": 8,
   "metadata": {
    "scrolled": true
   },
   "outputs": [],
   "source": [
    "#master_talk_1 = transcribe(1, '1612424788.1439425', 2)\n",
    "#master_talk_1"
   ]
  },
  {
   "cell_type": "code",
   "execution_count": null,
   "metadata": {},
   "outputs": [],
   "source": [
    "human_text = []\n",
    "# lo1615966037.2256002-out.wav\t\n",
    "human_text.append('але да да ну надо ремонтировать')\n",
    "human_text.append('a')\n",
    "human_text.append('a')\n",
    "human_text.append('a')\n",
    "human_text.append('a')\n",
    "df.human_text = human_text"
   ]
  },
  {
   "cell_type": "markdown",
   "metadata": {},
   "source": [
    "### vosk"
   ]
  },
  {
   "cell_type": "code",
   "execution_count": 9,
   "metadata": {},
   "outputs": [
    {
     "name": "stdout",
     "output_type": "stream",
     "text": [
      "{'result': [{'conf': 1.0, 'end': 1.98, 'start': 0.061167, 'word': 'и'}], 'text': 'и'}\n",
      "{'result': [{'conf': 0.53699, 'end': 4.47, 'start': 4.2, 'word': 'иди'}, {'conf': 0.278438, 'end': 4.829677, 'start': 4.47, 'word': 'нахуй'}, {'conf': 0.219468, 'end': 5.129524, 'start': 4.839676, 'word': 'ваша'}, {'conf': 0.32185, 'end': 5.456853, 'start': 5.129524, 'word': 'раса'}, {'conf': 0.914464, 'end': 5.938568, 'start': 5.456853, 'word': 'оператора'}, {'conf': 0.878963, 'end': 6.30055, 'start': 5.938568, 'word': 'оксана'}, {'conf': 0.464882, 'end': 6.93, 'start': 6.30055, 'word': 'здравствуйте'}], 'text': 'иди нахуй ваша раса оператора оксана здравствуйте'}\n",
      "{'text': ''}\n",
      "{'text': ''}\n",
      "{'result': [{'conf': 1.0, 'end': 18.06, 'start': 17.730168, 'word': 'номер'}, {'conf': 0.621418, 'end': 18.719648, 'start': 18.06, 'word': 'заказан'}, {'conf': 1.0, 'end': 18.96, 'start': 18.719648, 'word': 'номер'}, {'conf': 1.0, 'end': 19.41, 'start': 18.96, 'word': 'телефона'}, {'conf': 1.0, 'end': 19.68, 'start': 19.41, 'word': 'могли'}, {'conf': 1.0, 'end': 19.77, 'start': 19.68, 'word': 'бы'}, {'conf': 1.0, 'end': 20.25, 'start': 19.77, 'word': 'назвать'}], 'text': 'номер заказан номер телефона могли бы назвать'}\n",
      "{'result': [{'conf': 0.959625, 'end': 25.47, 'start': 24.72, 'word': 'секунду'}], 'text': 'секунду'}\n",
      "{'result': [{'conf': 0.50371, 'end': 28.140143, 'start': 27.66, 'word': 'приора'}, {'conf': 0.390753, 'end': 28.59, 'start': 28.264204, 'word': 'стас'}, {'conf': 0.720916, 'end': 28.978035, 'start': 28.592516, 'word': 'корпус'}, {'conf': 0.25928, 'end': 29.28, 'start': 28.979698, 'word': 'сайты'}, {'conf': 0.476058, 'end': 29.4, 'start': 29.280791, 'word': 'ну'}, {'conf': 0.997087, 'end': 29.968742, 'start': 29.421123, 'word': 'хорошо'}, {'conf': 1.0, 'end': 30.18, 'start': 29.97, 'word': 'ваш'}, {'conf': 1.0, 'end': 30.63, 'start': 30.18, 'word': 'заказ'}, {'conf': 0.593658, 'end': 30.75, 'start': 30.63, 'word': 'от'}, {'conf': 0.593073, 'end': 31.08, 'start': 30.750022, 'word': 'меня'}], 'text': 'приора стас корпус сайты ну хорошо ваш заказ от меня'}\n",
      "{'result': [{'conf': 0.908458, 'end': 32.82, 'start': 32.190073, 'word': 'хорошо'}], 'text': 'хорошо'}\n",
      "{'result': [{'conf': 0.981143, 'end': 34.17, 'start': 33.69, 'word': 'хорошо'}, {'conf': 0.964102, 'end': 34.26, 'start': 34.17, 'word': 'до'}, {'conf': 0.964741, 'end': 34.77, 'start': 34.26, 'word': 'свидания'}], 'text': 'хорошо до свидания'}\n"
     ]
    }
   ],
   "source": [
    "vosk_phrases = transcribe(1, file_name, 1)"
   ]
  },
  {
   "cell_type": "code",
   "execution_count": 10,
   "metadata": {},
   "outputs": [
    {
     "data": {
      "text/plain": [
       "['и',\n",
       " 'иди нахуй ваша раса оператора оксана здравствуйте',\n",
       " 'номер заказан номер телефона могли бы назвать',\n",
       " 'секунду',\n",
       " 'приора стас корпус сайты ну хорошо ваш заказ от меня',\n",
       " 'хорошо',\n",
       " 'хорошо до свидания']"
      ]
     },
     "execution_count": 10,
     "metadata": {},
     "output_type": "execute_result"
    }
   ],
   "source": [
    "vosk_phrases"
   ]
  },
  {
   "cell_type": "markdown",
   "metadata": {},
   "source": [
    "### sova"
   ]
  },
  {
   "cell_type": "code",
   "execution_count": 11,
   "metadata": {},
   "outputs": [],
   "source": [
    "# https://github.com/sovaai/sova-asr"
   ]
  },
  {
   "cell_type": "code",
   "execution_count": 19,
   "metadata": {},
   "outputs": [
    {
     "name": "stdout",
     "output_type": "stream",
     "text": [
      "{\"r\": [{\"response_audio_url\": \"/media/e7a15903-799a-4912-8d70-d2f840e0bec8.wav\", \"response_code\": 0, \"response\": [{\"text\": \"единая служба старается оператор крана здравствуйте ну вашей матери меня звонила это ну в общем будешь кататься своих нет это в общем заказ пока отмените состав я перезвоню там номер заказа номер телефона могли бы назвать номер девятьсот с семьсот сорок шесть девяносто три восемьдесят секунду это протокола звонила первосортная перевести что я перезвоню так хорошо спасибо все хорошо\", \"time\": 31.842}]}]}\n"
     ]
    }
   ],
   "source": [
    "#filename = 'in_74992317889_2020-10-27-11-53-19rxtx_R.wav'\n",
    "filename = 'in_74992317889_2020-10-27-11-53-19rxtx.wav'\n",
    "url = \"http://localhost:8888/asr/\"\n",
    "f1 = open(filename, 'rb')\n",
    "response = requests.post(url,files={\"audio_blob\": f1}) #several files accepted maybe\n",
    "print(response.text)"
   ]
  },
  {
   "cell_type": "code",
   "execution_count": 15,
   "metadata": {},
   "outputs": [],
   "source": [
    "sova_phrases = [\n",
    "    '',\n",
    "    'единая служба старается оператор оксана здравствуйте',\n",
    "    'номер заказа номер телефона могли бы назвать',\n",
    "    'секунду',\n",
    "    'да приор вас паспорт сабина хорошо ваш заказ от меня',\n",
    "    'так хорошо',\n",
    "    'все хорошо до свидания',\n",
    "]"
   ]
  },
  {
   "cell_type": "markdown",
   "metadata": {},
   "source": [
    "### comparing"
   ]
  },
  {
   "cell_type": "code",
   "execution_count": 16,
   "metadata": {},
   "outputs": [],
   "source": [
    "human_phrases = [\n",
    "    'и',\n",
    "    'единая служба сервиса оператор оксана здравсвуйте',\n",
    "    'номер заказа или номер телефона могли бы назвать',\n",
    "    'секунду',\n",
    "    'да приорова шестнадцать корпус один хорошо ваш заказ отменен',\n",
    "    'да хорошо',\n",
    "    'угу всего хорошего до свидания',\n",
    "]"
   ]
  },
  {
   "cell_type": "code",
   "execution_count": 17,
   "metadata": {},
   "outputs": [
    {
     "name": "stdout",
     "output_type": "stream",
     "text": [
      "100 # и\n",
      "77 # иди нахуй ваша раса оператора оксана здравствуйте\n",
      "94 # номер заказан номер телефона могли бы назвать\n",
      "100 # секунду\n",
      "75 # приора стас корпус сайты ну хорошо ваш заказ от меня\n",
      "80 # хорошо\n",
      "75 # хорошо до свидания\n",
      "average 85.85714285714286\n",
      "median  80.0\n"
     ]
    }
   ],
   "source": [
    "score(vosk_phrases, human_phrases)"
   ]
  },
  {
   "cell_type": "code",
   "execution_count": 18,
   "metadata": {
    "scrolled": true
   },
   "outputs": [
    {
     "name": "stdout",
     "output_type": "stream",
     "text": [
      "0 # \n",
      "87 # единая служба старается оператор оксана здравствуйте\n",
      "95 # номер заказа номер телефона могли бы назвать\n",
      "100 # секунду\n",
      "67 # да приор вас паспорт сабина хорошо ваш заказ от меня\n",
      "84 # так хорошо\n",
      "84 # все хорошо до свидания\n",
      "average 73.85714285714286\n",
      "median  84.0\n"
     ]
    }
   ],
   "source": [
    "score(sova_phrases, human_phrases)"
   ]
  },
  {
   "cell_type": "markdown",
   "metadata": {},
   "source": [
    "### error rate"
   ]
  },
  {
   "cell_type": "code",
   "execution_count": 25,
   "metadata": {},
   "outputs": [
    {
     "name": "stdout",
     "output_type": "stream",
     "text": [
      "wer 0.5625\n",
      "mer 0.5454545454545454\n",
      "wil 0.765625\n"
     ]
    }
   ],
   "source": [
    "error(human_phrases, vosk_phrases)"
   ]
  },
  {
   "cell_type": "code",
   "execution_count": 26,
   "metadata": {},
   "outputs": [
    {
     "name": "stdout",
     "output_type": "stream",
     "text": [
      "wer 0.4375\n",
      "mer 0.4375\n",
      "wil 0.6625000000000001\n"
     ]
    }
   ],
   "source": [
    "error(human_phrases, sova_phrases)"
   ]
  }
 ],
 "metadata": {
  "kernelspec": {
   "display_name": "Python 3",
   "language": "python",
   "name": "python3"
  },
  "language_info": {
   "codemirror_mode": {
    "name": "ipython",
    "version": 3
   },
   "file_extension": ".py",
   "mimetype": "text/x-python",
   "name": "python",
   "nbconvert_exporter": "python",
   "pygments_lexer": "ipython3",
   "version": "3.7.6"
  }
 },
 "nbformat": 4,
 "nbformat_minor": 4
}
