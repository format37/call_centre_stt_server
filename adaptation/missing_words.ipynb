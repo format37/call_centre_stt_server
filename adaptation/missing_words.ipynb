{
 "cells": [
  {
   "cell_type": "code",
   "execution_count": 3,
   "metadata": {},
   "outputs": [],
   "source": [
    "import pandas as pd"
   ]
  },
  {
   "cell_type": "code",
   "execution_count": 154,
   "metadata": {},
   "outputs": [
    {
     "data": {
      "text/html": [
       "<div>\n",
       "<style scoped>\n",
       "    .dataframe tbody tr th:only-of-type {\n",
       "        vertical-align: middle;\n",
       "    }\n",
       "\n",
       "    .dataframe tbody tr th {\n",
       "        vertical-align: top;\n",
       "    }\n",
       "\n",
       "    .dataframe thead th {\n",
       "        text-align: right;\n",
       "    }\n",
       "</style>\n",
       "<table border=\"1\" class=\"dataframe\">\n",
       "  <thead>\n",
       "    <tr style=\"text-align: right;\">\n",
       "      <th></th>\n",
       "      <th>line</th>\n",
       "      <th>id</th>\n",
       "    </tr>\n",
       "  </thead>\n",
       "  <tbody>\n",
       "  </tbody>\n",
       "</table>\n",
       "</div>"
      ],
      "text/plain": [
       "Empty DataFrame\n",
       "Columns: [line, id]\n",
       "Index: []"
      ]
     },
     "execution_count": 154,
     "metadata": {},
     "output_type": "execute_result"
    }
   ],
   "source": [
    "words_path = '/media/alex/nvme-a/vosk-model-ru-0.10/graph/words.txt'\n",
    "words = pd.read_csv(words_path, sep=\" \")\n",
    "words.columns = ['line', 'id']\n",
    "words[words.line.str.contains('шолохово')]"
   ]
  },
  {
   "cell_type": "markdown",
   "metadata": {},
   "source": [
    "### clean and concatenate streets"
   ]
  },
  {
   "cell_type": "code",
   "execution_count": 122,
   "metadata": {},
   "outputs": [],
   "source": [
    "def street_data(path):\n",
    "    \n",
    "    with open(path, 'rt', encoding=\"utf8\", errors='ignore') as file:\n",
    "        streets = file.read()\n",
    "    streets = streets.lower()\n",
    "    \n",
    "    correct = '\\nйцукенгшщзхъфывапролджэячсмитьбю '\n",
    "    used = ''.join(list(set(streets)))\n",
    "    for u in used:\n",
    "        if u not in correct:\n",
    "            streets = streets.replace(u, ' ')\n",
    "    while '  ' in streets:\n",
    "        streets = streets.replace('  ', ' ')\n",
    "    streets = streets.replace(' ', '\\n')\n",
    "    \n",
    "    with open('b_'+path, 'w') as file:\n",
    "        file.write(streets)\n",
    "        \n",
    "    streets = pd.read_csv('b_'+path, header=None)\n",
    "    streets.columns = ['street']\n",
    "    streets.street = pd.DataFrame(streets.street.unique())\n",
    "    streets = streets.dropna()\n",
    "    \n",
    "    return streets"
   ]
  },
  {
   "cell_type": "code",
   "execution_count": 123,
   "metadata": {},
   "outputs": [],
   "source": [
    "df = pd.DataFrame(columns = ['street'])\n",
    "streets_path = ['streets_msk.csv', 'streets_spb.csv', 'streets_reg.csv']\n",
    "for path in streets_path:\n",
    "    df = pd.concat([df, street_data(path)], axis = 0)"
   ]
  },
  {
   "cell_type": "code",
   "execution_count": 134,
   "metadata": {},
   "outputs": [],
   "source": [
    "df.street = pd.DataFrame(df.street.unique())\n",
    "df = df.dropna()\n",
    "df = pd.DataFrame(df[df.street.str.len()>3])\n",
    "df.to_csv('all_streets.csv')"
   ]
  },
  {
   "cell_type": "code",
   "execution_count": 135,
   "metadata": {},
   "outputs": [
    {
     "data": {
      "text/plain": [
       "35957"
      ]
     },
     "execution_count": 135,
     "metadata": {},
     "output_type": "execute_result"
    }
   ],
   "source": [
    "len(df)"
   ]
  },
  {
   "cell_type": "markdown",
   "metadata": {},
   "source": [
    "### missing streets"
   ]
  },
  {
   "cell_type": "code",
   "execution_count": 158,
   "metadata": {},
   "outputs": [
    {
     "name": "stdout",
     "output_type": "stream",
     "text": [
      "слов в модели: 709156\n",
      "улиц в 1С: 35957\n",
      "улиц, отсутствующих в модели: 17108\n"
     ]
    },
    {
     "data": {
      "text/html": [
       "<div>\n",
       "<style scoped>\n",
       "    .dataframe tbody tr th:only-of-type {\n",
       "        vertical-align: middle;\n",
       "    }\n",
       "\n",
       "    .dataframe tbody tr th {\n",
       "        vertical-align: top;\n",
       "    }\n",
       "\n",
       "    .dataframe thead th {\n",
       "        text-align: right;\n",
       "    }\n",
       "</style>\n",
       "<table border=\"1\" class=\"dataframe\">\n",
       "  <thead>\n",
       "    <tr style=\"text-align: right;\">\n",
       "      <th></th>\n",
       "      <th>street</th>\n",
       "    </tr>\n",
       "  </thead>\n",
       "  <tbody>\n",
       "    <tr>\n",
       "      <th>5</th>\n",
       "      <td>пыхчево</td>\n",
       "    </tr>\n",
       "    <tr>\n",
       "      <th>10</th>\n",
       "      <td>тигина</td>\n",
       "    </tr>\n",
       "    <tr>\n",
       "      <th>11</th>\n",
       "      <td>шестово</td>\n",
       "    </tr>\n",
       "    <tr>\n",
       "      <th>16</th>\n",
       "      <td>шолохово</td>\n",
       "    </tr>\n",
       "    <tr>\n",
       "      <th>24</th>\n",
       "      <td>верейское</td>\n",
       "    </tr>\n",
       "  </tbody>\n",
       "</table>\n",
       "</div>"
      ],
      "text/plain": [
       "       street\n",
       "5     пыхчево\n",
       "10     тигина\n",
       "11    шестово\n",
       "16   шолохово\n",
       "24  верейское"
      ]
     },
     "execution_count": 158,
     "metadata": {},
     "output_type": "execute_result"
    }
   ],
   "source": [
    "missing_words = df[df.street.isin(words.line)==False]\n",
    "missing_words.to_csv('missing_streets.csv')\n",
    "print('слов в модели:', len(words))\n",
    "print('улиц в 1С:', len(df))\n",
    "print('улиц, отсутствующих в модели:', len(missing_words))\n",
    "missing_words.head()"
   ]
  }
 ],
 "metadata": {
  "kernelspec": {
   "display_name": "Python 3",
   "language": "python",
   "name": "python3"
  },
  "language_info": {
   "codemirror_mode": {
    "name": "ipython",
    "version": 3
   },
   "file_extension": ".py",
   "mimetype": "text/x-python",
   "name": "python",
   "nbconvert_exporter": "python",
   "pygments_lexer": "ipython3",
   "version": "3.7.3"
  }
 },
 "nbformat": 4,
 "nbformat_minor": 2
}
