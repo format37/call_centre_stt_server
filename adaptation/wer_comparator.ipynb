{
 "cells": [
  {
   "cell_type": "code",
   "execution_count": null,
   "metadata": {},
   "outputs": [],
   "source": [
    "# https://pypi.org/project/jiwer/\n",
    "#!pip install jiwer"
   ]
  },
  {
   "cell_type": "code",
   "execution_count": 1,
   "metadata": {},
   "outputs": [],
   "source": [
    "import os\n",
    "import wave\n",
    "from vosk import Model, KaldiRecognizer, SetLogLevel\n",
    "import json\n",
    "import requests\n",
    "import jiwer\n",
    "import pandas as pd\n",
    "import numpy as np\n",
    "import matplotlib.pyplot as plt"
   ]
  },
  {
   "cell_type": "code",
   "execution_count": 18,
   "metadata": {},
   "outputs": [],
   "source": [
    "#!pip install --upgrade google-cloud-speech"
   ]
  },
  {
   "cell_type": "code",
   "execution_count": 17,
   "metadata": {},
   "outputs": [],
   "source": [
    "import io\n",
    "import os\n",
    "from google.cloud import speech_v1p1beta1"
   ]
  },
  {
   "cell_type": "code",
   "execution_count": 2,
   "metadata": {},
   "outputs": [],
   "source": [
    "def transcribe_vosk(file_name):\n",
    "\n",
    "    model_path = '/home/alex/projects/vosk-api/python/example/vosk-model-ru-0.10'\n",
    "    phrases_list = []\n",
    "\n",
    "    # read file\n",
    "    wf = wave.open(file_name, \"rb\")\n",
    "\n",
    "    # read model\n",
    "    model = Model(model_path)\n",
    "    rec = KaldiRecognizer(model, wf.getframerate())\n",
    "\n",
    "    # recognizing\n",
    "    while True:\n",
    "\n",
    "        conf_score = []\n",
    "\n",
    "        data = wf.readframes(4000)\n",
    "        if len(data) == 0:\n",
    "            break\n",
    "\n",
    "        if rec.AcceptWaveform(data):\n",
    "            accept = json.loads(rec.Result())\n",
    "            if accept['text'] !='':\n",
    "\n",
    "                accept_start\t= str(accept['result'][0]['start'])\n",
    "                accept_end   \t= accept['result'][-1:][0]['end']\n",
    "                accept_text\t\t= str(accept['text'])\n",
    "\n",
    "                for result_rec in accept['result']:\n",
    "                    conf_score.append(float(result_rec['conf']))\n",
    "                conf_mid = str(sum(conf_score)/len(conf_score))\n",
    "                conf_score = []\n",
    "                \n",
    "                phrases_list.append(accept_text)\n",
    "    return phrases_list"
   ]
  },
  {
   "cell_type": "code",
   "execution_count": 3,
   "metadata": {},
   "outputs": [],
   "source": [
    "def transcribe_sova(file_name):\n",
    "    url = \"http://localhost:8888/asr/\"\n",
    "    f1 = open(file_name, 'rb')\n",
    "    response = requests.post(url,files={\"audio_blob\": f1}).text\n",
    "    return json.loads(response)['r'][0]['response'][0]['text']    "
   ]
  },
  {
   "cell_type": "code",
   "execution_count": 73,
   "metadata": {},
   "outputs": [],
   "source": [
    "def transcribe_google(file_path):\n",
    "    os.environ[\"GOOGLE_APPLICATION_CREDENTIALS\"] = 'google_app_cred.json'    \n",
    "    language = 'ru'\n",
    "    client = speech_v1p1beta1.SpeechClient()\n",
    "    ##https://cloud.google.com/speech-to-text/docs/reference/rest/v1/RecognitionConfig?hl=ru#AudioEncoding\n",
    "    sample_rate_hertz = 8000\n",
    "    encoding = speech_v1p1beta1.RecognitionConfig.AudioEncoding.MP3\n",
    "\n",
    "    config = {\n",
    "        \"language_code\": language,\n",
    "        \"sample_rate_hertz\": sample_rate_hertz,\n",
    "        \"encoding\": encoding,\n",
    "    }\n",
    "    with io.open(file_path, 'rb') as audio_file:\n",
    "        content = audio_file.read()\n",
    "        audio = speech_v1p1beta1.RecognitionAudio(content=content)\n",
    "\n",
    "        response = client.recognize(config = config, audio = audio)\n",
    "        results = []\n",
    "        for result in response.results:\n",
    "            alternative = result.alternatives[0]\n",
    "            results.append(alternative.transcript)\n",
    "    return ''.join([str(item) for item in results]).lower()"
   ]
  },
  {
   "cell_type": "code",
   "execution_count": 4,
   "metadata": {},
   "outputs": [],
   "source": [
    "def error(ground_truth, hypothesis):\n",
    "    wer = jiwer.wer(ground_truth, hypothesis)\n",
    "    mer = jiwer.mer(ground_truth, hypothesis)\n",
    "    wil = jiwer.wil(ground_truth, hypothesis)\n",
    "\n",
    "    # faster, because `compute_measures` only needs to perform the heavy lifting once:\n",
    "    measures = jiwer.compute_measures(ground_truth, hypothesis)\n",
    "    return measures"
   ]
  },
  {
   "cell_type": "code",
   "execution_count": 5,
   "metadata": {},
   "outputs": [],
   "source": [
    "def load_data(files):    \n",
    "    frames = [pd.read_csv(file) for file in files]\n",
    "    return pd.concat(frames, ignore_index=True)"
   ]
  },
  {
   "cell_type": "code",
   "execution_count": 6,
   "metadata": {},
   "outputs": [],
   "source": [
    "def dictonary_init_print(path, skip_init = False):\n",
    "    if not skip_init:\n",
    "        print(\"human = []\")\n",
    "    for root, dirs, files in os.walk(path):\n",
    "        files.sort()\n",
    "        for filename in files:\n",
    "            print(\"human.append({'path': '\" + path + \"', 'file': '\" + filename + \"', 'human_text': ''})\")"
   ]
  },
  {
   "cell_type": "code",
   "execution_count": 7,
   "metadata": {},
   "outputs": [],
   "source": [
    "def evaluate(name):    \n",
    "    wer = []\n",
    "    mer = []\n",
    "    wil = []\n",
    "    for row in range(len(df)):\n",
    "        measures = error(df.iloc[row].human_text, df.iloc[row][name + '_text'])\n",
    "        wer.append(measures['wer'])\n",
    "        mer.append(measures['mer'])\n",
    "        wil.append(measures['wil'])\n",
    "    df[name + '_wer'] = wer\n",
    "    df[name + '_mer'] = mer\n",
    "    df[name + '_wil'] = wil"
   ]
  },
  {
   "cell_type": "code",
   "execution_count": 8,
   "metadata": {},
   "outputs": [],
   "source": [
    "def plot(names):\n",
    "    errors = ['wer', 'mer', 'wil']\n",
    "    for r in errors:\n",
    "        df.plot(y = [n + '_' + r for n in names], kind='bar')\n",
    "        plt.legend(bbox_to_anchor=(1, 1), loc='upper left', ncol=1)\n",
    "        plt.grid(linestyle='--', alpha=0.5)\n",
    "        plt.show()"
   ]
  },
  {
   "cell_type": "code",
   "execution_count": 9,
   "metadata": {},
   "outputs": [],
   "source": [
    "def comparator(engines, evals):\n",
    "    comparing = []\n",
    "    for g in engines:\n",
    "        for v in evals:\n",
    "            comparing.append({\n",
    "                'engine': g,\n",
    "                'eval_func': v,\n",
    "                'val': np.median(df[g + '_' + v])\n",
    "            })\n",
    "    comp_df = pd.DataFrame(comparing)\n",
    "    for v in evals:\n",
    "        data_pointer = comp_df[comp_df.eval_func == v]\n",
    "        plt.plot(data_pointer.engine, data_pointer.val, label = v)\n",
    "    plt.legend(bbox_to_anchor=(1, 1), loc='upper left', ncol=1)\n",
    "    plt.grid(linestyle='--', alpha=0.5)\n",
    "    plt.show()\n",
    "\n",
    "    for v in evals:\n",
    "        print('\\n' + v + ':')\n",
    "        for g in engines:    \n",
    "            print(g, np.median(df[g + '_' + v]))"
   ]
  },
  {
   "cell_type": "markdown",
   "metadata": {},
   "source": [
    "### fill with human typed data"
   ]
  },
  {
   "cell_type": "code",
   "execution_count": 30,
   "metadata": {},
   "outputs": [
    {
     "name": "stdout",
     "output_type": "stream",
     "text": [
      "human = []\n",
      "human.append({'path': 'data', 'file': 'audio_01.zip', 'human_text': ''})\n",
      "human.append({'path': 'data', 'file': 'lo1615965189.2255215-out.wav', 'human_text': ''})\n",
      "human.append({'path': 'data', 'file': 'lo1615966037.2256002-out.wav', 'human_text': ''})\n",
      "human.append({'path': 'data', 'file': 'lo1615967475.2257111-out.wav', 'human_text': ''})\n",
      "human.append({'path': 'data', 'file': 'lo1615967560.2257152-out.wav', 'human_text': ''})\n"
     ]
    }
   ],
   "source": [
    "# batch 0\n",
    "dictonary_init_print(path = 'data')"
   ]
  },
  {
   "cell_type": "code",
   "execution_count": 31,
   "metadata": {},
   "outputs": [],
   "source": [
    "human = []\n",
    "human.append({'path': 'data', 'file': 'lo1615965189.2255215-out.wav', 'human_text': 'слушаю вас ага вы знаете что я вчера вечером в одинадцать часов включила стиральную машину она бош натуральная немецкой сборки очень старая мах четыре ну и работала так быстро быстро быстро в одинадцать вечера и вот он вдруг погасло все выключилось и не включается света нету стиральная машина ну спасибо большое досвидания'})\n",
    "human.append({'path': 'data', 'file': 'lo1615966037.2256002-out.wav', 'human_text': 'але да да ну надо ремонтировать там и это ну там комфорка плохо работает и надо еще метель смотреть да да да да ясно тогда ладно лучше я договорюсь хозяйку потому что угу хорошо ага спасибо'})\n",
    "human.append({'path': 'data', 'file': 'lo1615967475.2257111-out.wav', 'human_text': 'алло да ну вроде бы жена постирала вроде бы жалоб небыло вроде бы отжала хорошо да спасибо'})\n",
    "human.append({'path': 'data', 'file': 'lo1615967560.2257152-out.wav', 'human_text': 'да але а вы извините он у нас начал показывать спасибо большое за это за заботу что то там отдохнул маленько и показывать стал алё ага досвидания'})"
   ]
  },
  {
   "cell_type": "code",
   "execution_count": 32,
   "metadata": {
    "scrolled": false
   },
   "outputs": [
    {
     "name": "stdout",
     "output_type": "stream",
     "text": [
      "human.append({'path': 'low2', 'file': '1615968462.2257561-in.wav', 'human_text': ''})\n",
      "human.append({'path': 'low2', 'file': '1615968751.2257736-in.wav', 'human_text': ''})\n",
      "human.append({'path': 'low2', 'file': '1615974690.2261028-out.wav', 'human_text': ''})\n",
      "human.append({'path': 'low2', 'file': '1615979494.2263673-in.wav', 'human_text': ''})\n",
      "human.append({'path': 'low2', 'file': '1615981935.2265552-out.wav', 'human_text': ''})\n",
      "human.append({'path': 'low2', 'file': '1615982614.2265863-out.wav', 'human_text': ''})\n",
      "human.append({'path': 'low2', 'file': '1615987721.2268171-in.wav', 'human_text': ''})\n",
      "human.append({'path': 'low2', 'file': '1616046849.2275204-in.wav', 'human_text': ''})\n",
      "human.append({'path': 'low2', 'file': '1616047338.2275327-out.wav', 'human_text': ''})\n",
      "human.append({'path': 'low2', 'file': '1616051676.2277358-in.wav', 'human_text': ''})\n",
      "human.append({'path': 'low2', 'file': '1616053311.2278833-out.wav', 'human_text': ''})\n",
      "human.append({'path': 'low2', 'file': '1616062036.2283558-out.wav', 'human_text': ''})\n",
      "human.append({'path': 'low2', 'file': '1616065078.2284974-out.wav', 'human_text': ''})\n",
      "human.append({'path': 'low2', 'file': '1616066615.2285968-in.wav', 'human_text': ''})\n",
      "human.append({'path': 'low2', 'file': '1616066615.2285968-out.wav', 'human_text': ''})\n",
      "human.append({'path': 'low2', 'file': '1616070696.2288408-out.wav', 'human_text': ''})\n",
      "human.append({'path': 'low2', 'file': '1616073178.2289438-in.wav', 'human_text': ''})\n",
      "human.append({'path': 'low2', 'file': '1616074025.2289882-out.wav', 'human_text': ''})\n",
      "human.append({'path': 'low2', 'file': '1616084945.2294168-in.wav', 'human_text': ''})\n",
      "human.append({'path': 'low2', 'file': '1616143839.2301898-in.wav', 'human_text': ''})\n",
      "human.append({'path': 'low2', 'file': '1616143955.2301955-in.wav', 'human_text': ''})\n",
      "human.append({'path': 'low2', 'file': '1616152551.2306419-in.wav', 'human_text': ''})\n"
     ]
    }
   ],
   "source": [
    "# batch 1\n",
    "dictonary_init_print(path = 'low2', skip_init = True)"
   ]
  },
  {
   "cell_type": "code",
   "execution_count": 33,
   "metadata": {},
   "outputs": [],
   "source": [
    "human.append({'path': 'low2', 'file': '1615968462.2257561-in.wav', 'human_text': 'алло здравствуйте это я сейчас не к вам звонил случайно алло аздрастье меня зовут иван мастер по стиральным машинам скажите пожалуйста если подъеду где то с часу до четырех дома будете хорошо тогда предварительно через пять минут вам наберем постараться можно будет но обычно с десяти до двенадцати в таком промежутке все давайте я да заранее позвоню да все давайте на пятницу тогда давайте'})\n",
    "human.append({'path': 'low2', 'file': '1615968751.2257736-in.wav', 'human_text': 'алло здравсвуйте алло да здрасьте это роман по ремонту стиральных машин мастер вы дома ну еду к вам тогда там когда будете ну все тогда я я понял ну я на автозаводе тоже выезжаю ну все тогда я еду к вам ага все до свидания'})\n",
    "human.append({'path': 'low2', 'file': '1615974690.2261028-out.wav', 'human_text': 'отк ксения здравствуйте чеботовская семнадцать минутку але через час ну да все конечно нормально ждем вас ага угу до свидания'})\n",
    "human.append({'path': 'low2', 'file': '1615979494.2263673-in.wav', 'human_text': 'але алло здравствуйте еще раз это мастер да я еще не закончил тут примерно помоему закончу примерно закончу около шести так семи может приеду к вам если успею да успею я щас могу и не успеть ну вот я стараюсь там может побыстрей ну ладно я вас буду ждать хорошо я позвоню еще ага хорошо хорошо ладно'})\n",
    "human.append({'path': 'low2', 'file': '1615981935.2265552-out.wav', 'human_text': 'да слушаю ага так да да да двадцать восьмая квартира этот четвертый этаж да там один всего подъезд вы из лифта выходите и налево поворачиваете из лифта вниз по лестнице налево да двадцать восемь просто набрать и все хорошо спасибо до свидания'})\n",
    "human.append({'path': 'low2', 'file': '1615982614.2265863-out.wav', 'human_text': 'але да да это двадцать второго было да это начинать да да пять пятницу буду я девятнадцатого да да да да да послезавтра да да знаю до встречи'})\n",
    "human.append({'path': 'low2', 'file': '1615987721.2268171-in.wav', 'human_text': 'да да это мастер слушайте у меня такая просьба а если давайте завтра может часикам к одинадцати нормально будет с одинадцати до двенадцати да а то у меня не успели запчасти ну сальник привезти а привезут его после шести а там работы часа на полтора два ну уже просто поздновато будет все да часикам к одинадцати завтра меня ждите тогда да да да все записываю единственное что я сразу вам скажу там если будет че то какая нибудь там простыночка старая что нибудь такого найдите пожалуйста ладно да все понял все сегодня все возьму запчасти все завтра все сделаем ага все завтра тогда спасибо'})\n",
    "human.append({'path': 'low2', 'file': '1616046849.2275204-in.wav', 'human_text': 'доброе утро это телемастер заявочку оставляли вы хотели на исадченко он у вас был да когда то приставку угу я ему передам он вам перезвонит будьте на связи ну решите ну с ним пообщаетесь угу до свидания пожалуйста'})\n",
    "human.append({'path': 'low2', 'file': '1616047338.2275327-out.wav', 'human_text': 'але ага здрасьте да все все нормально не надо уже да да да все все нормально не знаю так вы можете сказать что клиент отказался ну давайте ладно наберу все давайте да давайте да вот на этот номер набрать да давайте все давайте до свидания'})\n",
    "human.append({'path': 'low2', 'file': '1616051676.2277358-in.wav', 'human_text': 'але добрый христин сто пятьдесят пять тридцать один девяносто шесть сто пятьдесят пять тридцать один девяносто шесть да щас че обратил внимание там пометка стоит сообщение клиент просит перезвонить там перезванивал общались ага ага понятно ну тогда позвоните спросите что хотели угу'})\n",
    "human.append({'path': 'low2', 'file': '1616053311.2278833-out.wav', 'human_text': 'але на два стекло бесплатно девушка это раз два всегда ну он хочет пятнадцать тысяч за диагностику прикалываетесь что ли девушка не девушка диагностика бесплатно я с вами разговаривал он выехал посмотрел и посмотрел что вы прикалываетесь девушка он там даже ничего не сделал он там посмотрел две с половиной тысячи вам буду отдавать пускай делает обратно он ничего не сделал я не готов я не готов ничего не оплатить девушка он посмотрел и ничего не сделал я никуда не поеду девушка до свидания'})\n",
    "human.append({'path': 'low2', 'file': '1616062036.2283558-out.wav', 'human_text': 'отк евгения все вышки ожидайте да дома ждут вас пожалуйста'})\n",
    "human.append({'path': 'low2', 'file': '1616065078.2284974-out.wav', 'human_text': 'отк татьяна здравствуйте угу угу на этаже у парадной угу минутку алексей юрьевич он едет будет в течении пятнадцати минут подождете угу все тогда угу'})\n",
    "human.append({'path': 'low2', 'file': '1616066615.2285968-in.wav', 'human_text': 'японская фирма ширихари я знаю жена покупает постоянно такенный балон да ну что там делаешь что делаешь пойдешь не звонила ребятам там нет ну ладно устала нормально ладно давай тогда шуруй родителям не звонила что то там опять эти горчишник ставят тридцать сем температура блин угу набери спроси что он там слышь все ладно тогда пришли что нибудь там дениска фотографировать видео давай пока'})\n",
    "human.append({'path': 'low2', 'file': '1616066615.2285968-out.wav', 'human_text': 'але да дома ну ща пойду уже угу да нет да нет нормально угу давай да нет не звонит господи о понятно угу ладно давай пока'})\n",
    "human.append({'path': 'low2', 'file': '1616070696.2288408-out.wav', 'human_text': 'алло привет я у тебя хотела спросить этот самый ты когда можешь или сегодня или завтра вы ой хотела ну ненадолго зайти нет ни я могу зайти ага ну ладно ага ну потихонечку ну вот он как скажем ну все ага не ну я сегодня хотела до храма тоже дойти хот это я еще не была а тогда тут тогда к тебе заскочу ладно все а ладно все а угу да'})\n",
    "human.append({'path': 'low2', 'file': '1616073178.2289438-in.wav', 'human_text': 'алло это мастер в общем к пяти я подъезжаю да к вам а даже можно пораньше подъехать будет а а все тогда ждите скоро буду ага ну диагностика тысяча четыреста а да работа ага не ничего не нужно ага все все ждите'})\n",
    "human.append({'path': 'low2', 'file': '1616074025.2289882-out.wav', 'human_text': 'да угу а квартира восьем ой дом восемь квартира восемнадцать первый подъезд пятый этаж домофон шестьдесят три восемьдесят шесть да или позвоните там у меня домофон дома это вы прийдете уже делать угу хорошо жду вас угу'})\n",
    "human.append({'path': 'low2', 'file': '1616084945.2294168-in.wav', 'human_text': 'алло еще раз здравствуйте это мастер я про вас не забыл еду к вам минут где то в течении тридцати буду у вас у вас подъезд какой будет в течении тридцати минут угу тридцать подъезд у вас какой будет подъезд подъезд какой будет хорошо все позвоню вам подъеду'})\n",
    "human.append({'path': 'low2', 'file': '1616143839.2301898-in.wav', 'human_text': 'алло здрасьте это насчет холодильника александр беспокоит вы как дома вообще находитесь ага ну я к вам подъеду тогда конаковский проезд дом двенадцать корпус два квартира напомните э подъезд этаж код домофона как пройти да это на площадке который находится на лестнице хорошо ну он сейчас выключен да мы с вами договаривались холодильник включен да мы с вами договаривались ага ну давайте сейчас я быстренько подъеду к вам ага'})\n",
    "human.append({'path': 'low2', 'file': '1616143955.2301955-in.wav', 'human_text': 'але добрый день да сервисный центр мастер беспокоит по поводу холодильника да индезит да а морозильник да не морозит да я понял вы дома дома так семашко семнадцать корпус один квартира какая будет шестьдесят три подъезд этаж угу этаж четвертый скажите он сейчас включенный работает или выключенный ну включите его в розетку пускай начнет работать в любом состоянии я сейчас подъеду посмотрим давайте да'})\n",
    "human.append({'path': 'low2', 'file': '1616152551.2306419-in.wav', 'human_text': 'але это мастер здравствуйте еще раз подскажите подъезд этаж и номер квартиры двадцать пять этаж я я еще не подъехал я только еду угу угу хорошо а подъезд номер все хорошо хорошо через пол часа я буду у вас'})"
   ]
  },
  {
   "cell_type": "code",
   "execution_count": null,
   "metadata": {},
   "outputs": [],
   "source": [
    "df = pd.DataFrame().from_dict(human)"
   ]
  },
  {
   "cell_type": "markdown",
   "metadata": {},
   "source": [
    "### tts"
   ]
  },
  {
   "cell_type": "code",
   "execution_count": null,
   "metadata": {},
   "outputs": [],
   "source": [
    "# vosk\n",
    "transcribations = []\n",
    "for path, file in df[['path', 'file']].values:\n",
    "    vosk_phrases = transcribe_vosk(path + '/' + file)            \n",
    "    transcribations.append(' '.join([str(item) for item in vosk_phrases]))\n",
    "df['vosk_text'] = transcribations"
   ]
  },
  {
   "cell_type": "code",
   "execution_count": null,
   "metadata": {},
   "outputs": [],
   "source": [
    "# sova\n",
    "transcribations = []\n",
    "for path, file in df[['path', 'file']].values:\n",
    "    transcribations.append(transcribe_sova(path + '/' + file))\n",
    "df['sova_text'] = transcribations"
   ]
  },
  {
   "cell_type": "code",
   "execution_count": 74,
   "metadata": {},
   "outputs": [],
   "source": [
    "# google\n",
    "transcribations = []\n",
    "for path, file in df[['path', 'file']].values:\n",
    "    transcribations.append(transcribe_google(path + '/' + file))\n",
    "df['google_text'] = transcribations"
   ]
  },
  {
   "cell_type": "markdown",
   "metadata": {},
   "source": [
    "### eval"
   ]
  },
  {
   "cell_type": "code",
   "execution_count": 76,
   "metadata": {},
   "outputs": [],
   "source": [
    "evaluate('vosk')\n",
    "evaluate('sova')\n",
    "evaluate('google')"
   ]
  },
  {
   "cell_type": "markdown",
   "metadata": {},
   "source": [
    "### load data"
   ]
  },
  {
   "cell_type": "code",
   "execution_count": 38,
   "metadata": {},
   "outputs": [],
   "source": [
    "df = load_data(['data_full.csv'])"
   ]
  },
  {
   "cell_type": "markdown",
   "metadata": {},
   "source": [
    "### save data"
   ]
  },
  {
   "cell_type": "code",
   "execution_count": 77,
   "metadata": {},
   "outputs": [],
   "source": [
    "df.to_csv('data_full.csv', index=False)"
   ]
  },
  {
   "cell_type": "markdown",
   "metadata": {},
   "source": [
    "### plot"
   ]
  },
  {
   "cell_type": "code",
   "execution_count": 78,
   "metadata": {
    "scrolled": false
   },
   "outputs": [
    {
     "data": {
      "image/png": "[encoded data removed]",
      "text/plain": [
       "<Figure size 432x288 with 1 Axes>"
      ]
     },
     "metadata": {
      "needs_background": "light"
     },
     "output_type": "display_data"
    },
    {
     "data": {
      "image/png": "[encoded data removed]",
      "text/plain": [
       "<Figure size 432x288 with 1 Axes>"
      ]
     },
     "metadata": {
      "needs_background": "light"
     },
     "output_type": "display_data"
    },
    {
     "data": {
      "image/png": "[encoded data removed]",
      "text/plain": [
       "<Figure size 432x288 with 1 Axes>"
      ]
     },
     "metadata": {
      "needs_background": "light"
     },
     "output_type": "display_data"
    }
   ],
   "source": [
    "plot(['vosk', 'sova', 'google'])"
   ]
  },
  {
   "cell_type": "code",
   "execution_count": 79,
   "metadata": {
    "scrolled": false
   },
   "outputs": [
    {
     "data": {
      "image/png": "[encoded data removed]",
      "text/plain": [
       "<Figure size 432x288 with 1 Axes>"
      ]
     },
     "metadata": {
      "needs_background": "light"
     },
     "output_type": "display_data"
    },
    {
     "name": "stdout",
     "output_type": "stream",
     "text": [
      "\n",
      "wer:\n",
      "vosk 0.5892857142857143\n",
      "sova 0.5807291666666667\n",
      "google 0.513157894736842\n",
      "\n",
      "mer:\n",
      "vosk 0.5699537750385208\n",
      "sova 0.5807291666666667\n",
      "google 0.513157894736842\n",
      "\n",
      "wil:\n",
      "vosk 0.7612601214574899\n",
      "sova 0.7650660742766006\n",
      "google 0.6752854102167183\n"
     ]
    }
   ],
   "source": [
    "comparator(\n",
    "    engines = ['vosk', 'sova', 'google'],\n",
    "    evals = ['wer', 'mer', 'wil']\n",
    ")"
   ]
  },
  {
   "cell_type": "markdown",
   "metadata": {},
   "source": [
    "### Word Error Rate\n",
    "The present de facto standard index for ASR system assessment is the Word Error Rate, which is defined as the proportion of word errors to\n",
    "words processed\n",
    "### Match error rate\n",
    "Probability of a given match being incorrect\n",
    "### Word information lost\n",
    "Simple function of HSDI counts by making use of an equation linking mutual information with Pearson's Large Sample Statistic, and then retaining only dominant terms.\n",
    "\n",
    "### Conclusion\n",
    "MER and WIL both provide simple CSR performance measures which vary from 0 when there are no errors to 1 when\n",
    "there are no hits. They are more suitable than WER for the evaluation of any application in which the proportion of word information communicated is more meaningful than edit cost.   \n",
    "At low error rates all three give similar scores so that the inappropriate theoretical basis for the WER measure is not noticeable. However, in tests for many real world applications, where significant error rates are common and choosing the best system is very important, the rankings given by each measure start to differ significantly and the risk of incorrect choice of best performing system becomes very real. Statistical tests used with WER can also be applied to MER and WIL. Both MER and WIL have intuitively simple probabilistic interpretations, but in so far as WIL measures the proportion of (mapping sensitive) word information communicated (at least, when N is dominated by H), and communication is mainly what speech is for, it is the preferred measure.\n",
    "   \n",
    "<a href=\"https://www.researchgate.net/publication/221478089_From_WER_and_RIL_to_MER_and_WIL_improved_evaluation_measures_for_connected_speech_recognition\">From_WER_and_RIL_to_MER_and_WIL_improved_evaluatio.pdf</a>\n"
   ]
  }
 ],
 "metadata": {
  "kernelspec": {
   "display_name": "Python 3",
   "language": "python",
   "name": "python3"
  },
  "language_info": {
   "codemirror_mode": {
    "name": "ipython",
    "version": 3
   },
   "file_extension": ".py",
   "mimetype": "text/x-python",
   "name": "python",
   "nbconvert_exporter": "python",
   "pygments_lexer": "ipython3",
   "version": "3.7.6"
  }
 },
 "nbformat": 4,
 "nbformat_minor": 4
}
