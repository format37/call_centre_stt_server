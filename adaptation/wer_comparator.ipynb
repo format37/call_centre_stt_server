{
 "cells": [
  {
   "cell_type": "code",
   "execution_count": null,
   "metadata": {},
   "outputs": [],
   "source": [
    "# https://pypi.org/project/jiwer/\n",
    "#!pip install jiwer"
   ]
  },
  {
   "cell_type": "code",
   "execution_count": 1,
   "metadata": {},
   "outputs": [],
   "source": [
    "import os\n",
    "import wave\n",
    "from vosk import Model, KaldiRecognizer, SetLogLevel\n",
    "import json\n",
    "import requests\n",
    "import jiwer\n",
    "import pandas as pd"
   ]
  },
  {
   "cell_type": "code",
   "execution_count": 2,
   "metadata": {},
   "outputs": [],
   "source": [
    "def transcribe_vosk(file_name):\n",
    "\n",
    "    model_path = '/home/alex/projects/vosk-api/python/example/vosk-model-ru-0.10'\n",
    "    phrases_list = []\n",
    "\n",
    "    # read file\n",
    "    wf = wave.open(file_name, \"rb\")\n",
    "\n",
    "    # read model\n",
    "    model = Model(model_path)\n",
    "    rec = KaldiRecognizer(model, wf.getframerate())\n",
    "\n",
    "    # recognizing\n",
    "    while True:\n",
    "\n",
    "        conf_score = []\n",
    "\n",
    "        data = wf.readframes(4000)\n",
    "        if len(data) == 0:\n",
    "            break\n",
    "\n",
    "        if rec.AcceptWaveform(data):\n",
    "            accept = json.loads(rec.Result())\n",
    "            if accept['text'] !='':\n",
    "\n",
    "                accept_start\t= str(accept['result'][0]['start'])\n",
    "                accept_end   \t= accept['result'][-1:][0]['end']\n",
    "                accept_text\t\t= str(accept['text'])\n",
    "\n",
    "                for result_rec in accept['result']:\n",
    "                    conf_score.append(float(result_rec['conf']))\n",
    "                conf_mid = str(sum(conf_score)/len(conf_score))\n",
    "                conf_score = []\n",
    "                \n",
    "                phrases_list.append(accept_text)\n",
    "    return phrases_list"
   ]
  },
  {
   "cell_type": "code",
   "execution_count": 3,
   "metadata": {},
   "outputs": [],
   "source": [
    "def transcribe_sova(file_name):\n",
    "    url = \"http://localhost:8888/asr/\"\n",
    "    f1 = open(file_name, 'rb')\n",
    "    response = requests.post(url,files={\"audio_blob\": f1}).text\n",
    "    return json.loads(response)['r'][0]['response'][0]['text']    "
   ]
  },
  {
   "cell_type": "code",
   "execution_count": 6,
   "metadata": {},
   "outputs": [],
   "source": [
    "df = pd.DataFrame(columns = ['file', 'human_text', 'vosk_text', 'sova_text'])"
   ]
  },
  {
   "cell_type": "code",
   "execution_count": 7,
   "metadata": {},
   "outputs": [],
   "source": [
    "data_path = 'data/'\n",
    "transcribations_vosk = []\n",
    "transcribations_sova = []\n",
    "filelist = []\n",
    "for root, dirs, files in os.walk(data_path):\n",
    "    for filename in files:\n",
    "        \n",
    "        vosk_phrases = transcribe_vosk(data_path + filename)        \n",
    "        transcribations_vosk.append(' '.join(str(item) for item in vosk_phrases))\n",
    "                 \n",
    "        transcribations_sova.append(transcribe_sova(data_path + filename))\n",
    "        filelist.append(filename)\n",
    "        \n",
    "df.file = filelist\n",
    "df.vosk_text = transcribations_vosk\n",
    "df.sova_text = transcribations_sova"
   ]
  },
  {
   "cell_type": "code",
   "execution_count": 16,
   "metadata": {},
   "outputs": [
    {
     "data": {
      "text/html": [
       "<div>\n",
       "<style scoped>\n",
       "    .dataframe tbody tr th:only-of-type {\n",
       "        vertical-align: middle;\n",
       "    }\n",
       "\n",
       "    .dataframe tbody tr th {\n",
       "        vertical-align: top;\n",
       "    }\n",
       "\n",
       "    .dataframe thead th {\n",
       "        text-align: right;\n",
       "    }\n",
       "</style>\n",
       "<table border=\"1\" class=\"dataframe\">\n",
       "  <thead>\n",
       "    <tr style=\"text-align: right;\">\n",
       "      <th></th>\n",
       "      <th>file</th>\n",
       "      <th>human_text</th>\n",
       "      <th>vosk_text</th>\n",
       "      <th>sova_text</th>\n",
       "    </tr>\n",
       "  </thead>\n",
       "  <tbody>\n",
       "    <tr>\n",
       "      <th>0</th>\n",
       "      <td>lo1615966037.2256002-out.wav</td>\n",
       "      <td>NaN</td>\n",
       "      <td>королев далее ну надо ремонтировать там я там ...</td>\n",
       "      <td>алло да но надо ремонтировать там кретину там ...</td>\n",
       "    </tr>\n",
       "    <tr>\n",
       "      <th>1</th>\n",
       "      <td>lo1615967475.2257111-out.wav</td>\n",
       "      <td>NaN</td>\n",
       "      <td>и и о а а вы вроде тоже она подбирала вроде бы...</td>\n",
       "      <td>алло так вроде тоже она подбирала вроде бежал ...</td>\n",
       "    </tr>\n",
       "    <tr>\n",
       "      <th>2</th>\n",
       "      <td>lo1615965189.2255215-out.wav</td>\n",
       "      <td>NaN</td>\n",
       "      <td>и и сельма а ага твоя моча раме впадина телом ...</td>\n",
       "      <td>у вас так ага знаете что я сейчас вечер в один...</td>\n",
       "    </tr>\n",
       "    <tr>\n",
       "      <th>3</th>\n",
       "      <td>lo1615967560.2257152-out.wav</td>\n",
       "      <td>NaN</td>\n",
       "      <td>доходах а вы извините у нас начал показывать с...</td>\n",
       "      <td>да да вы видел у нас начал показывать спасибо ...</td>\n",
       "    </tr>\n",
       "  </tbody>\n",
       "</table>\n",
       "</div>"
      ],
      "text/plain": [
       "                           file human_text  \\\n",
       "0  lo1615966037.2256002-out.wav        NaN   \n",
       "1  lo1615967475.2257111-out.wav        NaN   \n",
       "2  lo1615965189.2255215-out.wav        NaN   \n",
       "3  lo1615967560.2257152-out.wav        NaN   \n",
       "\n",
       "                                           vosk_text  \\\n",
       "0  королев далее ну надо ремонтировать там я там ...   \n",
       "1  и и о а а вы вроде тоже она подбирала вроде бы...   \n",
       "2  и и сельма а ага твоя моча раме впадина телом ...   \n",
       "3  доходах а вы извините у нас начал показывать с...   \n",
       "\n",
       "                                           sova_text  \n",
       "0  алло да но надо ремонтировать там кретину там ...  \n",
       "1  алло так вроде тоже она подбирала вроде бежал ...  \n",
       "2  у вас так ага знаете что я сейчас вечер в один...  \n",
       "3  да да вы видел у нас начал показывать спасибо ...  "
      ]
     },
     "execution_count": 16,
     "metadata": {},
     "output_type": "execute_result"
    }
   ],
   "source": [
    "df"
   ]
  },
  {
   "cell_type": "code",
   "execution_count": 26,
   "metadata": {},
   "outputs": [],
   "source": [
    "human_text = []\n",
    "# lo1615966037.2256002-out.wav\n",
    "human_text.append('але да да ну надо ремонтировать там и это ну там комфорка плохо работает и надо еще метель смотреть да да да да ясно тогда ладно лучше я договорюсь хозяйку потому что угу хорошо ага спасибо')\n",
    "# lo1615967475.2257111-out.wav\n",
    "human_text.append('алло да ну вроде бы жена постирала вроде бы жалоб небыло вроде бы отжала хорошо да спасибо')\n",
    "# lo1615965189.2255215-out.wav\n",
    "human_text.append('слушаю вас ага вы знаете что я вчера вечером в одинадцать часов включила стиральную машину она бош натуральная немецкой сборки очень старая мах четыре ну и работала так быстро быстро быстро в одинадцать вечера и вот он вдруг погасло все выключилось и не включается света нету стиральная машина ну спасибо большое досвидания')\n",
    "# lo1615967560.2257152-out.wav\n",
    "human_text.append('да але а вы извините он у нас начал показывать спасибо большое за это за заботу что то там отдохнул маленько и показывать стал алё ага досвидания')\n",
    "df.human_text = human_text"
   ]
  },
  {
   "cell_type": "code",
   "execution_count": 27,
   "metadata": {},
   "outputs": [
    {
     "data": {
      "text/html": [
       "<div>\n",
       "<style scoped>\n",
       "    .dataframe tbody tr th:only-of-type {\n",
       "        vertical-align: middle;\n",
       "    }\n",
       "\n",
       "    .dataframe tbody tr th {\n",
       "        vertical-align: top;\n",
       "    }\n",
       "\n",
       "    .dataframe thead th {\n",
       "        text-align: right;\n",
       "    }\n",
       "</style>\n",
       "<table border=\"1\" class=\"dataframe\">\n",
       "  <thead>\n",
       "    <tr style=\"text-align: right;\">\n",
       "      <th></th>\n",
       "      <th>file</th>\n",
       "      <th>human_text</th>\n",
       "      <th>vosk_text</th>\n",
       "      <th>sova_text</th>\n",
       "    </tr>\n",
       "  </thead>\n",
       "  <tbody>\n",
       "    <tr>\n",
       "      <th>0</th>\n",
       "      <td>lo1615966037.2256002-out.wav</td>\n",
       "      <td>але да да ну надо ремонтировать там и это ну т...</td>\n",
       "      <td>королев далее ну надо ремонтировать там я там ...</td>\n",
       "      <td>алло да но надо ремонтировать там кретину там ...</td>\n",
       "    </tr>\n",
       "    <tr>\n",
       "      <th>1</th>\n",
       "      <td>lo1615967475.2257111-out.wav</td>\n",
       "      <td>алло да ну вроде бы жена постирала вроде бы жа...</td>\n",
       "      <td>и и о а а вы вроде тоже она подбирала вроде бы...</td>\n",
       "      <td>алло так вроде тоже она подбирала вроде бежал ...</td>\n",
       "    </tr>\n",
       "    <tr>\n",
       "      <th>2</th>\n",
       "      <td>lo1615965189.2255215-out.wav</td>\n",
       "      <td>слушаю вас ага вы знаете что я вчера вечером в...</td>\n",
       "      <td>и и сельма а ага твоя моча раме впадина телом ...</td>\n",
       "      <td>у вас так ага знаете что я сейчас вечер в один...</td>\n",
       "    </tr>\n",
       "    <tr>\n",
       "      <th>3</th>\n",
       "      <td>lo1615967560.2257152-out.wav</td>\n",
       "      <td>да але а вы извините он у нас начал показывать...</td>\n",
       "      <td>доходах а вы извините у нас начал показывать с...</td>\n",
       "      <td>да да вы видел у нас начал показывать спасибо ...</td>\n",
       "    </tr>\n",
       "  </tbody>\n",
       "</table>\n",
       "</div>"
      ],
      "text/plain": [
       "                           file  \\\n",
       "0  lo1615966037.2256002-out.wav   \n",
       "1  lo1615967475.2257111-out.wav   \n",
       "2  lo1615965189.2255215-out.wav   \n",
       "3  lo1615967560.2257152-out.wav   \n",
       "\n",
       "                                          human_text  \\\n",
       "0  але да да ну надо ремонтировать там и это ну т...   \n",
       "1  алло да ну вроде бы жена постирала вроде бы жа...   \n",
       "2  слушаю вас ага вы знаете что я вчера вечером в...   \n",
       "3  да але а вы извините он у нас начал показывать...   \n",
       "\n",
       "                                           vosk_text  \\\n",
       "0  королев далее ну надо ремонтировать там я там ...   \n",
       "1  и и о а а вы вроде тоже она подбирала вроде бы...   \n",
       "2  и и сельма а ага твоя моча раме впадина телом ...   \n",
       "3  доходах а вы извините у нас начал показывать с...   \n",
       "\n",
       "                                           sova_text  \n",
       "0  алло да но надо ремонтировать там кретину там ...  \n",
       "1  алло так вроде тоже она подбирала вроде бежал ...  \n",
       "2  у вас так ага знаете что я сейчас вечер в один...  \n",
       "3  да да вы видел у нас начал показывать спасибо ...  "
      ]
     },
     "execution_count": 27,
     "metadata": {},
     "output_type": "execute_result"
    }
   ],
   "source": [
    "df"
   ]
  },
  {
   "cell_type": "code",
   "execution_count": 30,
   "metadata": {},
   "outputs": [],
   "source": [
    "def error(ground_truth, hypothesis):\n",
    "    wer = jiwer.wer(ground_truth, hypothesis)\n",
    "    mer = jiwer.mer(ground_truth, hypothesis)\n",
    "    wil = jiwer.wil(ground_truth, hypothesis)\n",
    "\n",
    "    # faster, because `compute_measures` only needs to perform the heavy lifting once:\n",
    "    measures = jiwer.compute_measures(ground_truth, hypothesis)\n",
    "    return measures\n",
    "    \"\"\"wer = measures['wer']\n",
    "    mer = measures['mer']\n",
    "    wil = measures['wil']\n",
    "\n",
    "    print('wer', wer)\n",
    "    print('mer', mer)\n",
    "    print('wil', wil)\"\"\""
   ]
  },
  {
   "cell_type": "code",
   "execution_count": 35,
   "metadata": {},
   "outputs": [],
   "source": [
    "vosk_wer = []\n",
    "vosk_mer = []\n",
    "vosk_wil = []\n",
    "for row in range(len(df)):\n",
    "    measures = error(df.iloc[row].human_text, df.iloc[row].vosk_text)\n",
    "    vosk_wer.append(measures['wer'])\n",
    "    vosk_mer.append(measures['mer'])\n",
    "    vosk_wil.append(measures['wil'])\n",
    "df['vosk_wer'] = vosk_wer\n",
    "df['vosk_mer'] = vosk_mer\n",
    "df['vosk_wil'] = vosk_wil"
   ]
  },
  {
   "cell_type": "code",
   "execution_count": 39,
   "metadata": {},
   "outputs": [],
   "source": [
    "sova_wer = []\n",
    "sova_mer = []\n",
    "sova_wil = []\n",
    "for row in range(len(df)):\n",
    "    measures = error(df.iloc[row].human_text, df.iloc[row].sova_text)\n",
    "    sova_wer.append(measures['wer'])\n",
    "    sova_mer.append(measures['mer'])\n",
    "    sova_wil.append(measures['wil'])\n",
    "df['sova_wer'] = sova_wer\n",
    "df['sova_mer'] = sova_mer\n",
    "df['sova_wil'] = sova_wil"
   ]
  },
  {
   "cell_type": "code",
   "execution_count": 40,
   "metadata": {},
   "outputs": [
    {
     "data": {
      "text/html": [
       "<div>\n",
       "<style scoped>\n",
       "    .dataframe tbody tr th:only-of-type {\n",
       "        vertical-align: middle;\n",
       "    }\n",
       "\n",
       "    .dataframe tbody tr th {\n",
       "        vertical-align: top;\n",
       "    }\n",
       "\n",
       "    .dataframe thead th {\n",
       "        text-align: right;\n",
       "    }\n",
       "</style>\n",
       "<table border=\"1\" class=\"dataframe\">\n",
       "  <thead>\n",
       "    <tr style=\"text-align: right;\">\n",
       "      <th></th>\n",
       "      <th>file</th>\n",
       "      <th>human_text</th>\n",
       "      <th>vosk_text</th>\n",
       "      <th>sova_text</th>\n",
       "      <th>vosk_wer</th>\n",
       "      <th>vosk_mer</th>\n",
       "      <th>vosk_wil</th>\n",
       "      <th>sova_wer</th>\n",
       "      <th>sova_mer</th>\n",
       "      <th>sova_wil</th>\n",
       "    </tr>\n",
       "  </thead>\n",
       "  <tbody>\n",
       "    <tr>\n",
       "      <th>0</th>\n",
       "      <td>lo1615966037.2256002-out.wav</td>\n",
       "      <td>але да да ну надо ремонтировать там и это ну т...</td>\n",
       "      <td>королев далее ну надо ремонтировать там я там ...</td>\n",
       "      <td>алло да но надо ремонтировать там кретину там ...</td>\n",
       "      <td>0.583333</td>\n",
       "      <td>0.583333</td>\n",
       "      <td>0.798387</td>\n",
       "      <td>0.583333</td>\n",
       "      <td>0.583333</td>\n",
       "      <td>0.776786</td>\n",
       "    </tr>\n",
       "    <tr>\n",
       "      <th>1</th>\n",
       "      <td>lo1615967475.2257111-out.wav</td>\n",
       "      <td>алло да ну вроде бы жена постирала вроде бы жа...</td>\n",
       "      <td>и и о а а вы вроде тоже она подбирала вроде бы...</td>\n",
       "      <td>алло так вроде тоже она подбирала вроде бежал ...</td>\n",
       "      <td>0.882353</td>\n",
       "      <td>0.833333</td>\n",
       "      <td>0.968858</td>\n",
       "      <td>0.764706</td>\n",
       "      <td>0.764706</td>\n",
       "      <td>0.921569</td>\n",
       "    </tr>\n",
       "    <tr>\n",
       "      <th>2</th>\n",
       "      <td>lo1615965189.2255215-out.wav</td>\n",
       "      <td>слушаю вас ага вы знаете что я вчера вечером в...</td>\n",
       "      <td>и и сельма а ага твоя моча раме впадина телом ...</td>\n",
       "      <td>у вас так ага знаете что я сейчас вечер в один...</td>\n",
       "      <td>0.596154</td>\n",
       "      <td>0.563636</td>\n",
       "      <td>0.769231</td>\n",
       "      <td>0.461538</td>\n",
       "      <td>0.452830</td>\n",
       "      <td>0.676538</td>\n",
       "    </tr>\n",
       "    <tr>\n",
       "      <th>3</th>\n",
       "      <td>lo1615967560.2257152-out.wav</td>\n",
       "      <td>да але а вы извините он у нас начал показывать...</td>\n",
       "      <td>доходах а вы извините у нас начал показывать с...</td>\n",
       "      <td>да да вы видел у нас начал показывать спасибо ...</td>\n",
       "      <td>0.481481</td>\n",
       "      <td>0.481481</td>\n",
       "      <td>0.670034</td>\n",
       "      <td>0.555556</td>\n",
       "      <td>0.555556</td>\n",
       "      <td>0.757576</td>\n",
       "    </tr>\n",
       "  </tbody>\n",
       "</table>\n",
       "</div>"
      ],
      "text/plain": [
       "                           file  \\\n",
       "0  lo1615966037.2256002-out.wav   \n",
       "1  lo1615967475.2257111-out.wav   \n",
       "2  lo1615965189.2255215-out.wav   \n",
       "3  lo1615967560.2257152-out.wav   \n",
       "\n",
       "                                          human_text  \\\n",
       "0  але да да ну надо ремонтировать там и это ну т...   \n",
       "1  алло да ну вроде бы жена постирала вроде бы жа...   \n",
       "2  слушаю вас ага вы знаете что я вчера вечером в...   \n",
       "3  да але а вы извините он у нас начал показывать...   \n",
       "\n",
       "                                           vosk_text  \\\n",
       "0  королев далее ну надо ремонтировать там я там ...   \n",
       "1  и и о а а вы вроде тоже она подбирала вроде бы...   \n",
       "2  и и сельма а ага твоя моча раме впадина телом ...   \n",
       "3  доходах а вы извините у нас начал показывать с...   \n",
       "\n",
       "                                           sova_text  vosk_wer  vosk_mer  \\\n",
       "0  алло да но надо ремонтировать там кретину там ...  0.583333  0.583333   \n",
       "1  алло так вроде тоже она подбирала вроде бежал ...  0.882353  0.833333   \n",
       "2  у вас так ага знаете что я сейчас вечер в один...  0.596154  0.563636   \n",
       "3  да да вы видел у нас начал показывать спасибо ...  0.481481  0.481481   \n",
       "\n",
       "   vosk_wil  sova_wer  sova_mer  sova_wil  \n",
       "0  0.798387  0.583333  0.583333  0.776786  \n",
       "1  0.968858  0.764706  0.764706  0.921569  \n",
       "2  0.769231  0.461538  0.452830  0.676538  \n",
       "3  0.670034  0.555556  0.555556  0.757576  "
      ]
     },
     "execution_count": 40,
     "metadata": {},
     "output_type": "execute_result"
    }
   ],
   "source": [
    "df"
   ]
  },
  {
   "cell_type": "code",
   "execution_count": 47,
   "metadata": {},
   "outputs": [],
   "source": [
    "df.to_csv('data.csv', index=False)\n",
    "#pd.read_csv('data.csv')"
   ]
  },
  {
   "cell_type": "code",
   "execution_count": 44,
   "metadata": {},
   "outputs": [
    {
     "data": {
      "text/plain": [
       "<matplotlib.axes._subplots.AxesSubplot at 0x7fec1f7d2d50>"
      ]
     },
     "execution_count": 44,
     "metadata": {},
     "output_type": "execute_result"
    },
    {
     "data": {
      "image/png": "[encoded data removed]",
      "text/plain": [
       "<Figure size 432x288 with 1 Axes>"
      ]
     },
     "metadata": {
      "needs_background": "light"
     },
     "output_type": "display_data"
    }
   ],
   "source": [
    "df.plot(y=[\"vosk_wer\", \"sova_wer\"], kind=\"bar\")"
   ]
  },
  {
   "cell_type": "code",
   "execution_count": 45,
   "metadata": {},
   "outputs": [
    {
     "data": {
      "text/plain": [
       "<matplotlib.axes._subplots.AxesSubplot at 0x7fec1f755210>"
      ]
     },
     "execution_count": 45,
     "metadata": {},
     "output_type": "execute_result"
    },
    {
     "data": {
      "image/png": "[encoded data removed]",
      "text/plain": [
       "<Figure size 432x288 with 1 Axes>"
      ]
     },
     "metadata": {
      "needs_background": "light"
     },
     "output_type": "display_data"
    }
   ],
   "source": [
    "df.plot(y=[\"vosk_mer\", \"sova_mer\"], kind=\"bar\")"
   ]
  },
  {
   "cell_type": "code",
   "execution_count": 46,
   "metadata": {},
   "outputs": [
    {
     "data": {
      "text/plain": [
       "<matplotlib.axes._subplots.AxesSubplot at 0x7fec1f6ba290>"
      ]
     },
     "execution_count": 46,
     "metadata": {},
     "output_type": "execute_result"
    },
    {
     "data": {
      "image/png": "[encoded data removed]",
      "text/plain": [
       "<Figure size 432x288 with 1 Axes>"
      ]
     },
     "metadata": {
      "needs_background": "light"
     },
     "output_type": "display_data"
    }
   ],
   "source": [
    "df.plot(y=[\"vosk_wil\", \"sova_wil\"], kind=\"bar\")"
   ]
  }
 ],
 "metadata": {
  "kernelspec": {
   "display_name": "Python 3",
   "language": "python",
   "name": "python3"
  },
  "language_info": {
   "codemirror_mode": {
    "name": "ipython",
    "version": 3
   },
   "file_extension": ".py",
   "mimetype": "text/x-python",
   "name": "python",
   "nbconvert_exporter": "python",
   "pygments_lexer": "ipython3",
   "version": "3.7.6"
  }
 },
 "nbformat": 4,
 "nbformat_minor": 4
}
