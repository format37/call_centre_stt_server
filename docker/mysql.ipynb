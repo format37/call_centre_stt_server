{
 "cells": [
  {
   "cell_type": "code",
   "execution_count": 1,
   "metadata": {},
   "outputs": [],
   "source": [
    "# sudo service mysql stop\n",
    "# docker run --name mysql_call -p 3306:3306 -e MYSQL_ROOT_PASSWORD=your_secret_pwd -d mysql:latest"
   ]
  },
  {
   "cell_type": "code",
   "execution_count": 1,
   "metadata": {},
   "outputs": [],
   "source": [
    "import pymysql"
   ]
  },
  {
   "cell_type": "code",
   "execution_count": 2,
   "metadata": {},
   "outputs": [],
   "source": [
    "with open('mysql_local.pass','r') as file:\n",
    "    mysql_pass = file.read().replace('\\n', '')\n",
    "    file.close()"
   ]
  },
  {
   "cell_type": "code",
   "execution_count": 3,
   "metadata": {},
   "outputs": [],
   "source": [
    "conn = pymysql.connect(\n",
    "            host = '10.2.4.87', \n",
    "            user = 'root',\n",
    "            passwd = mysql_pass,\n",
    "            db = 'mysql',\n",
    "            autocommit = True\n",
    "        )"
   ]
  },
  {
   "cell_type": "code",
   "execution_count": 4,
   "metadata": {},
   "outputs": [],
   "source": [
    "cursor = conn.cursor()"
   ]
  },
  {
   "cell_type": "code",
   "execution_count": 40,
   "metadata": {},
   "outputs": [
    {
     "data": {
      "text/plain": [
       "1"
      ]
     },
     "execution_count": 40,
     "metadata": {},
     "output_type": "execute_result"
    }
   ],
   "source": [
    "query = \"create database 1c;\"\n",
    "cursor.execute(query)"
   ]
  },
  {
   "cell_type": "code",
   "execution_count": 5,
   "metadata": {},
   "outputs": [],
   "source": [
    "query = \"use 1c;\"\n",
    "cursor.execute(query)\n",
    "for row in cursor.fetchall():\n",
    "    print(row)"
   ]
  },
  {
   "cell_type": "code",
   "execution_count": 6,
   "metadata": {},
   "outputs": [
    {
     "name": "stdout",
     "output_type": "stream",
     "text": [
      "('calls',)\n"
     ]
    }
   ],
   "source": [
    "query = \"show tables;\"\n",
    "cursor.execute(query)\n",
    "for row in cursor.fetchall():\n",
    "    print(row)"
   ]
  },
  {
   "cell_type": "code",
   "execution_count": 9,
   "metadata": {},
   "outputs": [],
   "source": [
    "#--create table users ( id int not null auto_increment, token varchar(36), \n",
    "#email varchar(64), event_date DATETIME, primary key (id) );\n",
    "query = \"create table calls\"\n",
    "query += \" (\"\n",
    "query += \" id int not null auto_increment,\"\n",
    "query += \" call_date DATETIME,\"\n",
    "query += \" ak BOOLEAN,\"\n",
    "query += \" miko BOOLEAN,\"\n",
    "query += \" mrm BOOLEAN,\"\n",
    "query += \" incoming BOOLEAN,\"\n",
    "query += \" linkedid varchar(64),\"\n",
    "query += \" base_name varchar(64),\"\n",
    "query += \" primary key (id)\"\n",
    "query += \" );\"\n",
    "cursor.execute(query)\n",
    "for row in cursor.fetchall():\n",
    "    print(row)"
   ]
  },
  {
   "cell_type": "code",
   "execution_count": 8,
   "metadata": {},
   "outputs": [],
   "source": [
    "query = \"drop table calls;\"\n",
    "cursor.execute(query)\n",
    "for row in cursor.fetchall():\n",
    "    print(row)"
   ]
  }
 ],
 "metadata": {
  "kernelspec": {
   "display_name": "Python 3",
   "language": "python",
   "name": "python3"
  },
  "language_info": {
   "codemirror_mode": {
    "name": "ipython",
    "version": 3
   },
   "file_extension": ".py",
   "mimetype": "text/x-python",
   "name": "python",
   "nbconvert_exporter": "python",
   "pygments_lexer": "ipython3",
   "version": "3.7.6"
  }
 },
 "nbformat": 4,
 "nbformat_minor": 4
}
