{
 "cells": [
  {
   "cell_type": "markdown",
   "metadata": {},
   "source": [
    "# read files"
   ]
  },
  {
   "cell_type": "code",
   "execution_count": 1,
   "metadata": {},
   "outputs": [],
   "source": [
    "import pymssql\n",
    "import pymysql as mysql\n",
    "import os\n",
    "import re\n",
    "import pandas as pd\n",
    "import datetime"
   ]
  },
  {
   "cell_type": "code",
   "execution_count": 2,
   "metadata": {},
   "outputs": [],
   "source": [
    "class stt_server:\n",
    "\n",
    "    def __init__(self, cpu_id):\n",
    "\n",
    "        # settings ++\n",
    "        self.cpu_id = cpu_id\n",
    "        self.cpu_cores = [i for i in range(0,15)]\n",
    "\n",
    "        # ms sql\n",
    "        self.sql_name = 'voice_ai'\n",
    "        self.sql_server = '10.2.4.124'\n",
    "        self.sql_login = 'ICECORP\\\\1c_sql'\n",
    "\n",
    "        # mysql\n",
    "        self.mysql_name = {\n",
    "            1: 'MICO_96',\n",
    "            2: 'asterisk',\n",
    "        }\n",
    "        self.mysql_server = '10.2.4.146'\n",
    "        self.mysql_login = 'asterisk'\n",
    "\n",
    "        self.script_path = '/home/alex/projects/call_centre_stt_server/'\n",
    "        self.model_path = '/home/alex/projects/vosk-api/python/example/model'\n",
    "        self.source_id = 0\n",
    "        self.sources = {\n",
    "            'call': 1,\n",
    "            'master': 2,\n",
    "        }\n",
    "        self.original_storage_path = {\n",
    "            1: '/mnt/share/audio/MSK_SRVCALL/RX_TX/',\n",
    "            2: '/mnt/share/audio/MSK_SRVCALL/REC_IN_OUT/'\n",
    "        }\n",
    "        self.temp_file_path = self.script_path+'files/'\n",
    "        # settings --\n",
    "\n",
    "        self.temp_file_name = ''\n",
    "        self.original_file_path = ''\n",
    "        #self.original_file_name = ''\n",
    "        self.original_file_duration\t= 0\n",
    "        self.date_y = ''\n",
    "        self.date_m = ''\n",
    "        self.date_d = ''\n",
    "        self.rec_date = ''\n",
    "\n",
    "        #store pass in file, to prevent pass publication on gitdelete_current_queue\n",
    "        with open(self.script_path+'sql.pass','r') as file:\n",
    "            self.sql_pass = file.read().replace('\\n', '')\n",
    "            file.close()\n",
    "\n",
    "        with open(self.script_path+'mysql.pass','r') as file:\n",
    "            self.mysql_pass = file.read().replace('\\n', '')\n",
    "            file.close()\n",
    "\n",
    "        self.conn = self.connect_sql()\n",
    "        self.mysql_conn = {\n",
    "            1: self.connect_mysql(1),\n",
    "            2: self.connect_mysql(2),\n",
    "        }\n",
    "\n",
    "    def connect_sql(self):\n",
    "\n",
    "        return pymssql.connect(\n",
    "            server = self.sql_server,\n",
    "            user = self.sql_login,\n",
    "            password = self.sql_pass,\n",
    "            database = self.sql_name,\n",
    "            #autocommit=True\n",
    "        )\n",
    "\n",
    "    def connect_mysql(self, source_id):\n",
    "\n",
    "        return mysql.connect(\n",
    "            host = self.mysql_server, \n",
    "            user = self.mysql_login, \n",
    "            passwd = self.mysql_pass,\n",
    "            db = self.mysql_name[source_id],\n",
    "            #autocommit = True\n",
    "        )\n",
    "\n",
    "    def get_fs_files_list(self, queue):\n",
    "        \n",
    "        fd_list = []\n",
    "\n",
    "        if self.source_id == self.sources['call']:\n",
    "            #print('call', len(queue), self.original_file_path)\n",
    "            for root, dirs, files in os.walk(self.original_storage_path[self.source_id]):\n",
    "                #find_files += [os.path.join(root, name) for name in files if name[-4:] == '.wav'] \n",
    "                for filename in files:\n",
    "                    if filename[-4:] == '.wav' and not filename in queue:\n",
    "                        rec_source_date = re.findall(r'\\d{4}-\\d{2}-\\d{2}-\\d{2}-\\d{2}-\\d{2}', filename)\n",
    "                        if len(rec_source_date) and len(rec_source_date[0]):\n",
    "                            rec_date = rec_source_date[0][:10] + ' ' + rec_source_date[0][11:].replace('-', ':')\n",
    "\n",
    "                            if len(re.findall(r'\\d{4}-\\d{2}-\\d{2} \\d{2}:\\d{2}:\\d{2}', rec_date)) == 0:\n",
    "                                rec_date = 'Null'\n",
    "                                print('0 Unable to extract date:', root, filename)\n",
    "\n",
    "                            date_string  = re.findall(r'\\d{4}-\\d{2}-\\d{2}', filename)\n",
    "                            if len(date_string):\n",
    "                                self.date_y = date_string[0][:4]\n",
    "                                self.date_m = date_string[0][5:-3]\n",
    "                                self.date_d = date_string[0][-2:]\n",
    "                                #print(date_y, date_m, date_d, filename)\n",
    "                                linkedid, dst, src = self.linkedid_by_filename(filename) # cycled query\n",
    "\n",
    "                                fd_list.append({\n",
    "                                    'filepath': root,\n",
    "                                    'filename': filename,\n",
    "                                    'rec_date': rec_date,\n",
    "                                    'src': src,\n",
    "                                    'dst': dst,\n",
    "                                    'linkedid': linkedid,\n",
    "                                })\n",
    "                        else:\n",
    "                            print('1 Unable to extract date:', root, filename)\n",
    "        \n",
    "        elif self.source_id == self.sources['master']:\n",
    "            files_list = []\n",
    "            for (dirpath, dirnames, filenames) in os.walk(self.original_storage_path[self.source_id]):\n",
    "                files_list.extend(filenames)\n",
    "                break\n",
    "\n",
    "            # get record date\n",
    "            for filename in files_list:\n",
    "                if not filename in queue:\n",
    "                    rec_date = 'Null'\n",
    "\n",
    "                    #elif self.source_id == self.sources['master']:\n",
    "                    uniqueid = re.findall(r'^\\d*.\\d*', filename)[0]\n",
    "                    cursor = self.mysql_conn[self.source_id].cursor()\n",
    "                    query = \"select calldate, src, dst from cdr where uniqueid = '\" + uniqueid + \"' limit 1;\"\n",
    "                    cursor.execute(query)  # cycled query\n",
    "                    src = ''\n",
    "                    dst = ''\n",
    "                    linkedid = uniqueid\n",
    "                    for row in cursor.fetchall():\n",
    "                        rec_date = str(row[0])\n",
    "                        src = str(row[1])\n",
    "                        dst = str(row[2])\n",
    "                    if len(re.findall(r'\\d{4}-\\d{2}-\\d{2} \\d{2}:\\d{2}:\\d{2}', rec_date)) == 0:\n",
    "                        rec_date = 'Null'\n",
    "                        print('Unable to extract date from filename', filename)\n",
    "\n",
    "                    fd_list.append({\n",
    "                        'filepath': self.original_storage_path[self.source_id],\n",
    "                        'filename': filename,\n",
    "                        'rec_date': rec_date,\n",
    "                        'src': src,\n",
    "                        'dst': dst,\n",
    "                        'linkedid': linkedid,\n",
    "                    })\n",
    "\n",
    "        df = pd.DataFrame(fd_list, columns = ['filepath', 'filename', 'rec_date', 'src', 'dst', 'linkedid'])\n",
    "        df.sort_values(['rec_date', 'filename'], ascending=True, inplace=True)\n",
    "\n",
    "        return df.values\n",
    "    \n",
    "    def get_sql_complete_files(self):\n",
    "\n",
    "        cursor = self.conn.cursor()\n",
    "        sql_query = \"select distinct filename from queue where\"\n",
    "        sql_query += \" source_id='\" + str(self.source_id) + \"'\"\n",
    "        sql_query += \" order by filename;\"\n",
    "        cursor.execute(sql_query)\n",
    "        complete_files = []\n",
    "        for row in cursor.fetchall():\n",
    "            complete_files.append(row[0])\n",
    "\n",
    "        return complete_files\n",
    "    \n",
    "    def get_source_id(self, source_name):\n",
    "        for source in self.sources.items():\n",
    "            if source[0] == source_name:\n",
    "                return source[1]\n",
    "        return 0\n",
    "    \n",
    "    def set_today_ymd(self):\n",
    "        self.date_y\t= datetime.datetime.today().strftime('%Y')\n",
    "        self.date_m\t= datetime.datetime.today().strftime('%m')\n",
    "        self.date_d\t= datetime.datetime.today().strftime('%d')\n",
    "        \n",
    "    def linkedid_by_filename(self, original_file_name):\n",
    "\n",
    "        filename = original_file_name.replace('rxtx.wav', '')\n",
    "\n",
    "        \n",
    "        #print('linkedid_by_filename', self.date_y, self.date_m, self.date_d, original_file_name)\n",
    "        \n",
    "        date_from = datetime.datetime(int(self.date_y), int(self.date_m), int(self.date_d))\n",
    "        date_toto = date_from+datetime.timedelta(days=1)\n",
    "        date_from = datetime.datetime.strptime(str(date_from), '%Y-%m-%d %H:%M:%S').strftime('%Y-%m-%dT%H:%M:%S')\n",
    "        date_toto = datetime.datetime.strptime(str(date_toto), '%Y-%m-%d %H:%M:%S').strftime('%Y-%m-%dT%H:%M:%S')\n",
    "\n",
    "        mysql_conn = self.connect_mysql(self.source_id)\n",
    "\n",
    "        with mysql_conn:\n",
    "        #with self.mysql_conn[self.source_id]:\n",
    "            query = \"\"\"\n",
    "            select \n",
    "                linkedid,\n",
    "                SUBSTRING(dstchannel, 5, 4),\n",
    "                src\n",
    "                from PT1C_cdr_MICO as PT1C_cdr_MICO\n",
    "                where \n",
    "                    calldate>'\"\"\"+date_from+\"\"\"' and \n",
    "                    calldate<'\"\"\"+date_toto+\"\"\"' and \n",
    "                    PT1C_cdr_MICO.recordingfile LIKE '%\"\"\"+filename+\"\"\"%' \n",
    "                    limit 1;\"\"\"\n",
    "\n",
    "            #cursor = mysql_conn[self.source_id].cursor()\n",
    "            cursor = mysql_conn.cursor()\n",
    "            cursor.execute(query)\n",
    "            for row in cursor.fetchall():\n",
    "                linkedid, dstchannel, src = row[0], row[1], row[2]\n",
    "                #print('linkedid, dstchannel', linkedid, dstchannel)\n",
    "                return linkedid, dstchannel, src\n",
    "        return '', '', ''"
   ]
  },
  {
   "cell_type": "markdown",
   "metadata": {},
   "source": [
    "### perf_log"
   ]
  },
  {
   "cell_type": "code",
   "execution_count": null,
   "metadata": {},
   "outputs": [],
   "source": [
    "server_object = stt_server(0)\n",
    "server_object.source_id = 2\n",
    "\n",
    "cursor = server_object.conn.cursor()\n",
    "\n",
    "sql_query = \"select top 4 transcribation_date, count(distinct audio_file_name) from transcribations group by transcribation_date, audio_file_name order by transcribation_date desc\"\n",
    "cursor.execute(sql_query)\n",
    "for row in cursor.fetchall():\n",
    "    print(row)"
   ]
  },
  {
   "cell_type": "markdown",
   "metadata": {},
   "source": [
    "### performance monitoring"
   ]
  },
  {
   "cell_type": "code",
   "execution_count": 3,
   "metadata": {},
   "outputs": [],
   "source": [
    "server_object = stt_server(0)\n",
    "server_object.source_id = 2"
   ]
  },
  {
   "cell_type": "code",
   "execution_count": 16,
   "metadata": {},
   "outputs": [
    {
     "name": "stdout",
     "output_type": "stream",
     "text": [
      "('/mnt/share/audio/MSK_SRVCALL/REC_IN_OUT/', '1614753605.1975710-in.wav', 72.3, 2, None, '', '', '1614753605.1975710')\n",
      "('/mnt/share/audio/MSK_SRVCALL/REC_IN_OUT/', '1614755503.1976672-out.wav', 170.1, 2, None, '', '', '1614755503.1976672')\n",
      "('/mnt/share/audio/MSK_SRVCALL/REC_IN_OUT/', '1614759911.1979512-out.wav', 238.1, 2, None, '', '', '1614759911.1979512')\n",
      "('/mnt/share/audio/MSK_SRVCALL/REC_IN_OUT/', '1614760260.1979748-out.wav', 40.42, 2, None, '', '', '1614760260.1979748')\n",
      "('/mnt/share/audio/MSK_SRVCALL/REC_IN_OUT/', '1614760480.1979883-out.wav', 28.92, 2, None, '', '', '1614760480.1979883')\n",
      "('/mnt/share/audio/MSK_SRVCALL/REC_IN_OUT/', '1614760744.1980019-in.wav', 15.04, 2, None, '', '', '1614760744.1980019')\n",
      "('/mnt/share/audio/MSK_SRVCALL/REC_IN_OUT/', '1614762881.1981180-in.wav', 33.88, 2, None, '', '', '1614762881.1981180')\n",
      "('/mnt/share/audio/MSK_SRVCALL/REC_IN_OUT/', '1614763797.1981716-in.wav', 126.32, 2, None, '', '', '1614763797.1981716')\n",
      "('/mnt/share/audio/MSK_SRVCALL/REC_IN_OUT/', '1614763889.1981770-out.wav', 177.64, 2, None, '', '', '1614763889.1981770')\n",
      "('/mnt/share/audio/MSK_SRVCALL/REC_IN_OUT/', '1614764007.1981837-in.wav', 22.8, 2, None, '', '', '1614764007.1981837')\n",
      "('/mnt/share/audio/MSK_SRVCALL/REC_IN_OUT/', '1614764151.1981912-out.wav', 30.32, 2, None, '', '', '1614764151.1981912')\n",
      "('/mnt/share/audio/MSK_SRVCALL/REC_IN_OUT/', '1614764257.1981975-in.wav', 16.08, 2, None, '', '', '1614764257.1981975')\n",
      "('/mnt/share/audio/MSK_SRVCALL/REC_IN_OUT/', '1614764361.1982030-in.wav', 0.0, 2, None, '', '', '1614764361.1982030')\n",
      "('/mnt/share/audio/MSK_SRVCALL/REC_IN_OUT/', '1614764419.1982064-out.wav', 0.0, 2, None, '', '', '1614764419.1982064')\n",
      "('/mnt/share/audio/MSK_SRVCALL/REC_IN_OUT/', '1614765057.1982477-out.wav', 98.86, 2, None, '', '', '1614765057.1982477')\n",
      "('/mnt/share/audio/MSK_SRVCALL/REC_IN_OUT/', '1614765102.1982531-in.wav', 0.0, 2, None, '', '', '1614765102.1982531')\n",
      "('/mnt/share/audio/MSK_SRVCALL/REC_IN_OUT/', '1614765138.1982554-in.wav', 0.0, 2, None, '', '', '1614765138.1982554')\n",
      "('/mnt/share/audio/MSK_SRVCALL/REC_IN_OUT/', '1614765241.1982599-out.wav', 27.98, 2, None, '', '', '1614765241.1982599')\n",
      "('/mnt/share/audio/MSK_SRVCALL/REC_IN_OUT/', '1614765388.1982688-out.wav', 154.48, 2, None, '', '', '1614765388.1982688')\n",
      "('/mnt/share/audio/MSK_SRVCALL/REC_IN_OUT/', '1614765745.1982881-in.wav', 401.78, 2, None, '', '', '1614765745.1982881')\n",
      "('/mnt/share/audio/MSK_SRVCALL/REC_IN_OUT/', '1614766007.1983027-in.wav', 0.0, 2, None, '', '', '1614766007.1983027')\n",
      "('/mnt/share/audio/MSK_SRVCALL/REC_IN_OUT/', '1614766272.1983155-in.wav', 173.52, 2, None, '', '', '1614766272.1983155')\n",
      "('/mnt/share/audio/MSK_SRVCALL/REC_IN_OUT/', '1614766338.1983213-in.wav', 86.58, 2, None, '', '', '1614766338.1983213')\n",
      "('/mnt/share/audio/MSK_SRVCALL/REC_IN_OUT/', '1614766611.1983376-in.wav', 143.8, 2, None, '', '', '1614766611.1983376')\n",
      "('/mnt/share/audio/MSK_SRVCALL/REC_IN_OUT/', '1614766769.1983456-out.wav', 68.46, 2, None, '', '', '1614766769.1983456')\n",
      "('/mnt/share/audio/MSK_SRVCALL/REC_IN_OUT/', '1614766896.1983527-out.wav', 46.06, 2, None, '', '', '1614766896.1983527')\n",
      "('/mnt/share/audio/MSK_SRVCALL/REC_IN_OUT/', '1614766994.1983584-in.wav', 0.0, 2, None, '', '', '1614766994.1983584')\n",
      "('/mnt/share/audio/MSK_SRVCALL/REC_IN_OUT/', '1614767152.1983669-out.wav', 38.64, 2, None, '', '', '1614767152.1983669')\n",
      "('/mnt/share/audio/MSK_SRVCALL/REC_IN_OUT/', '1614767328.1983753-out.wav', 35.04, 2, None, '', '', '1614767328.1983753')\n",
      "('/mnt/share/audio/MSK_SRVCALL/REC_IN_OUT/', '1614767459.1983816-in.wav', 21.62, 2, None, '', '', '1614767459.1983816')\n",
      "('/mnt/share/audio/MSK_SRVCALL/REC_IN_OUT/', '1614767557.1983875-out.wav', 159.48, 2, None, '', '', '1614767557.1983875')\n",
      "('/mnt/share/audio/MSK_SRVCALL/REC_IN_OUT/', '1614767617.1983929-in.wav', 65.94, 2, None, '', '', '1614767617.1983929')\n",
      "('/mnt/share/audio/MSK_SRVCALL/REC_IN_OUT/', '1614767715.1983986-out.wav', 19.48, 2, None, '', '', '1614767715.1983986')\n",
      "('/mnt/share/audio/MSK_SRVCALL/REC_IN_OUT/', '1614767927.1984148-in.wav', 13.82, 2, None, '', '', '1614767927.1984148')\n",
      "('/mnt/share/audio/MSK_SRVCALL/REC_IN_OUT/', '1614768016.1984211-in.wav', 40.98, 2, None, '', '', '1614768016.1984211')\n",
      "('/mnt/share/audio/MSK_SRVCALL/REC_IN_OUT/', '1614768167.1984277-in.wav', 0.0, 2, None, '', '', '1614768167.1984277')\n",
      "('/mnt/share/audio/MSK_SRVCALL/REC_IN_OUT/', '1614768298.1984333-out.wav', 0.0, 2, None, '', '', '1614768298.1984333')\n",
      "('/mnt/share/audio/MSK_SRVCALL/REC_IN_OUT/', '1614768469.1984406-in.wav', 93.94, 2, None, '', '', '1614768469.1984406')\n",
      "('/mnt/share/audio/MSK_SRVCALL/RX_TX/RXTX_2021-02/16/', 'in_9257075368_2021-02-16-07-54-48rxtx.wav', 172.34, 1, datetime.datetime(2021, 2, 16, 7, 54, 48), '9257075368', '5072', '1613451287.1591793')\n",
      "('/mnt/share/audio/MSK_SRVCALL/RX_TX/RXTX_2021-02/16/', 'in_4957237230_2021-02-16-08-04-34rxtx.wav', 6.32, 1, datetime.datetime(2021, 2, 16, 8, 4, 34), '4957237230', '5072', '1613451873.1592028')\n"
     ]
    }
   ],
   "source": [
    "# select\n",
    "cursor = server_object.conn.cursor()\n",
    "#sql_query = \"select * from perf_log;\"\n",
    "sql_query = \"select top 40 filepath, filename, duration, source_id, \"\n",
    "sql_query += \"record_date, src, dst, linkedid from queue \"\n",
    "sql_query += \"where cpu_id='\"+str(server_object.cpu_id)+\"' \"\n",
    "sql_query += \"order by record_date, filename;\"\n",
    "cursor.execute(sql_query)\n",
    "rows = []\n",
    "for row in cursor.fetchall():\n",
    "    print(row)\n",
    "    rows.append(row)"
   ]
  },
  {
   "cell_type": "code",
   "execution_count": 10,
   "metadata": {},
   "outputs": [
    {
     "data": {
      "text/plain": [
       "1926"
      ]
     },
     "execution_count": 10,
     "metadata": {},
     "output_type": "execute_result"
    }
   ],
   "source": [
    "len(rows)"
   ]
  },
  {
   "cell_type": "code",
   "execution_count": 5,
   "metadata": {},
   "outputs": [],
   "source": [
    "# insert\n",
    "cursor = server_object.conn.cursor()\n",
    "sql_query = \"insert into perf_log(event_date, step, time, cpu, file_name) \"\n",
    "sql_query += \"values ( '2021-02-11T16:51:28', 0, 1, 2, 'test');\"\n",
    "cursor.execute(sql_query)\n",
    "server_object.conn.commit()"
   ]
  },
  {
   "cell_type": "markdown",
   "metadata": {},
   "source": [
    "### last transcribed"
   ]
  },
  {
   "cell_type": "code",
   "execution_count": null,
   "metadata": {},
   "outputs": [],
   "source": [
    "server_object = stt_server(0)\n",
    "server_object.source_id = 2\n",
    "\n",
    "cursor = server_object.conn.cursor()\n",
    "\n",
    "#sql_query = \"select audio_file_name, linkedid, record_date, start, side, text from transcribations where source_id = '2' order by record_date, start, side;\"\n",
    "sql_query = \"select top 4 linkedid, transcribation_date, record_date, audio_file_name from transcribations \"\n",
    "sql_query += \"where linkedid = '1614577576.20753637'\"\n",
    "#sql_query += \"where source_id = '2' and \"\n",
    "#sql_query += \"transcribation_date<'2021-02-15 12:00:00' \"\n",
    "sql_query += \"order by record_date desc, start desc;\"\n",
    "cursor.execute(sql_query)\n",
    "for row in cursor.fetchall():\n",
    "    print(row)"
   ]
  },
  {
   "cell_type": "markdown",
   "metadata": {},
   "source": [
    "### date repair"
   ]
  },
  {
   "cell_type": "code",
   "execution_count": null,
   "metadata": {},
   "outputs": [],
   "source": []
  },
  {
   "cell_type": "markdown",
   "metadata": {},
   "source": [
    "### check date cdr"
   ]
  },
  {
   "cell_type": "code",
   "execution_count": null,
   "metadata": {},
   "outputs": [],
   "source": []
  },
  {
   "cell_type": "code",
   "execution_count": null,
   "metadata": {},
   "outputs": [],
   "source": [
    "uniqueid = '1612432458.1443773'\n",
    "cursor = server_object.mysql_conn[server_object.source_id].cursor()\n",
    "query = \"select calldate from cdr where uniqueid = '\"+uniqueid+\"' limit 1;\"\n",
    "cursor.execute(query)\n",
    "for row in cursor.fetchall():\n",
    "    #rec_date = str(row[0])\n",
    "    print(row[0])"
   ]
  },
  {
   "cell_type": "markdown",
   "metadata": {},
   "source": [
    "### file list 1"
   ]
  },
  {
   "cell_type": "code",
   "execution_count": null,
   "metadata": {},
   "outputs": [],
   "source": [
    "server_object = stt_server(0)\n",
    "server_object.source_id = 1"
   ]
  },
  {
   "cell_type": "code",
   "execution_count": null,
   "metadata": {},
   "outputs": [],
   "source": [
    "complete_files = server_object.get_sql_complete_files()\n",
    "len(complete_files)"
   ]
  },
  {
   "cell_type": "code",
   "execution_count": null,
   "metadata": {},
   "outputs": [],
   "source": [
    "new_files = server_object.get_fs_files_list(complete_files)\n",
    "len(new_files)"
   ]
  },
  {
   "cell_type": "code",
   "execution_count": null,
   "metadata": {},
   "outputs": [],
   "source": [
    "new_files[0]"
   ]
  },
  {
   "cell_type": "markdown",
   "metadata": {},
   "source": [
    "### file list 2"
   ]
  },
  {
   "cell_type": "code",
   "execution_count": null,
   "metadata": {},
   "outputs": [],
   "source": [
    "server_object = stt_server(0)\n",
    "server_object.source_id = 2"
   ]
  },
  {
   "cell_type": "code",
   "execution_count": null,
   "metadata": {},
   "outputs": [],
   "source": [
    "complete_files_2 = server_object.get_sql_complete_files()\n",
    "len(complete_files_2)"
   ]
  },
  {
   "cell_type": "code",
   "execution_count": null,
   "metadata": {},
   "outputs": [],
   "source": [
    "new_files_2 = server_object.get_fs_files_list(complete_files_2)\n",
    "len(new_files_2)"
   ]
  },
  {
   "cell_type": "code",
   "execution_count": null,
   "metadata": {},
   "outputs": [],
   "source": [
    "new_files_2[0]"
   ]
  },
  {
   "cell_type": "markdown",
   "metadata": {},
   "source": [
    "### next"
   ]
  },
  {
   "cell_type": "code",
   "execution_count": null,
   "metadata": {},
   "outputs": [],
   "source": [
    "def find_files(catalog):\n",
    "    fd_list = []\n",
    "    for root, dirs, files in os.walk(catalog):        \n",
    "        #find_files += [os.path.join(root, name) for name in files if name[-4:] == '.wav'] \n",
    "        for filename in files:\n",
    "            if filename[-4:] == '.wav':\n",
    "                #print(filename)\n",
    "                rec_source_date = re.findall(r'\\d{4}-\\d{2}-\\d{2}-\\d{2}-\\d{2}-\\d{2}', filename)\n",
    "                if len(rec_source_date) and len(rec_source_date[0]):\n",
    "                    rec_date = rec_source_date[0][:10] + ' ' + rec_source_date[0][11:].replace('-', ':')\n",
    "                    \n",
    "                    if len(re.findall(r'\\d{4}-\\d{2}-\\d{2} \\d{2}:\\d{2}:\\d{2}', rec_date)) == 0:\n",
    "                        rec_date = 'Null'\n",
    "                        print('0 Unable to extract date:', root, filename)\n",
    "\n",
    "                    fd_list.append({\n",
    "                        'filepath': root,\n",
    "                        'filename': filename,\n",
    "                        'rec_date': rec_date\n",
    "                    })\n",
    "                else:\n",
    "                    print('1 Unable to extract date:', root, filename)\n",
    "    return fd_list"
   ]
  },
  {
   "cell_type": "code",
   "execution_count": null,
   "metadata": {},
   "outputs": [],
   "source": [
    "fs_list = find_files(server_object.original_storage_path[server_object.source_id])\n",
    "len(fs_list), fs_list[0]"
   ]
  },
  {
   "cell_type": "markdown",
   "metadata": {},
   "source": [
    "### remove complete files"
   ]
  },
  {
   "cell_type": "code",
   "execution_count": null,
   "metadata": {},
   "outputs": [],
   "source": [
    "transcribed = []\n",
    "server_object = stt_server(0)\n",
    "server_object.source_id = 1\n",
    "cursor = server_object.conn.cursor()\n",
    "sql_query = \"select distinct audio_file_name as filename, date_y, date_m, date_d\"\n",
    "sql_query += \" from transcribations where source_id=1;\"\n",
    "cursor.execute(sql_query)\n",
    "for row in cursor.fetchall():\n",
    "    transcribed.append({\n",
    "                'filename': row[0],\n",
    "                'date_y': row[1],\n",
    "                'date_m': row[2],\n",
    "                'date_d': row[3],\n",
    "            })\n",
    "len(transcribed), transcribed[0]"
   ]
  },
  {
   "cell_type": "code",
   "execution_count": null,
   "metadata": {},
   "outputs": [],
   "source": [
    "full_path = server_object.original_storage_path[1]\n",
    "full_path += 'RXTX_' + transcribed[0]['date_y']\n",
    "full_path += '-' + transcribed[0]['date_m'] + '/'\n",
    "full_path += transcribed[0]['date_d'] + '/'\n",
    "full_path += transcribed[0]['filename']\n",
    "os.path.isfile(full_path), full_path"
   ]
  },
  {
   "cell_type": "markdown",
   "metadata": {},
   "source": [
    "# end"
   ]
  },
  {
   "cell_type": "code",
   "execution_count": null,
   "metadata": {},
   "outputs": [],
   "source": [
    "server_object = stt_server(0)\n",
    "server_object.set_today_ymd()\n",
    "for source_id in server_object.sources: # ['call', 'master']\n",
    "    #server_object.source_id = server_object.sources['call']\n",
    "    server_object.source_id = server_object.get_source_id(source_id)\n",
    "    complete_files\t= server_object.get_sql_complete_files()\n",
    "    incomplete_count = 0\n",
    "    complete_count = 0\n",
    "    print('server_object.source_id', server_object.source_id)\n",
    "    for filename, rec_date in server_object.get_fs_files_list():\n",
    "        print(filename, rec_date)\n",
    "    break"
   ]
  },
  {
   "cell_type": "code",
   "execution_count": null,
   "metadata": {},
   "outputs": [],
   "source": [
    "complete_files"
   ]
  },
  {
   "cell_type": "code",
   "execution_count": null,
   "metadata": {},
   "outputs": [],
   "source": [
    "server_object = stt_server(0)\n",
    "server_object.source_id = 2\n",
    "fd_list = server_object.get_fs_files_list()\n",
    "len(fd_list)"
   ]
  },
  {
   "cell_type": "code",
   "execution_count": null,
   "metadata": {},
   "outputs": [],
   "source": [
    "fd_list[0]"
   ]
  },
  {
   "cell_type": "code",
   "execution_count": null,
   "metadata": {},
   "outputs": [],
   "source": [
    "df = pd.DataFrame(fd_list)\n",
    "df.sort_values(['rec_date', 'filename'], ascending=False, inplace=True)"
   ]
  },
  {
   "cell_type": "code",
   "execution_count": null,
   "metadata": {},
   "outputs": [],
   "source": [
    "#df[df.rec_date=='Null']\n",
    "for f,d in df.values:\n",
    "    print(f,d)\n",
    "    break"
   ]
  },
  {
   "cell_type": "code",
   "execution_count": null,
   "metadata": {},
   "outputs": [],
   "source": [
    "filename = '1612946589.1564912-in.wav'\n",
    "uniqueid = re.findall(r'^\\d*.\\d*', filename)[0]\n",
    "uniqueid"
   ]
  },
  {
   "cell_type": "code",
   "execution_count": null,
   "metadata": {},
   "outputs": [],
   "source": [
    "cursor = server_object.mysql_conn[server_object.source_id].cursor()\n",
    "query = \"select calldate from cdr where uniqueid = '\"+uniqueid+\"' limit 1;\"\n",
    "cursor.execute(query)\n",
    "for row in cursor.fetchall():\n",
    "    #rec_date = str(row[0])\n",
    "    print(row[0])"
   ]
  },
  {
   "cell_type": "code",
   "execution_count": null,
   "metadata": {},
   "outputs": [],
   "source": [
    "def get_source_id(source_name):\n",
    "    for source in server_object.sources.items():\n",
    "        if source[0] == source_name:\n",
    "            return source[1]\n",
    "    return 0\n",
    "get_source_id('master')"
   ]
  },
  {
   "cell_type": "code",
   "execution_count": null,
   "metadata": {},
   "outputs": [],
   "source": [
    "server_object.rec_date = 'Null'\n",
    "filename = 'in_4957237230_2021-02-10-07-16-03rxtx.wav'\n",
    "rec_source_date = re.findall(r'\\d{4}-\\d{2}-\\d{2}-\\d{2}-\\d{2}-\\d{2}', filename)[0]                \n",
    "if len(rec_source_date):\n",
    "    server_object.rec_date = rec_source_date[:10] + ' ' + rec_source_date[11:].replace('-', ':')\n",
    "if len(re.findall(r'\\d{4}-\\d{2}-\\d{2} \\d{2}:\\d{2}:\\d{2}', server_object.rec_date)) == 0:\n",
    "    print('Unable to extract date from filename', filename)\n",
    "server_object.rec_date"
   ]
  },
  {
   "cell_type": "code",
   "execution_count": null,
   "metadata": {},
   "outputs": [],
   "source": [
    "rec_source_date"
   ]
  },
  {
   "cell_type": "code",
   "execution_count": null,
   "metadata": {},
   "outputs": [],
   "source": [
    "server_object.rec_date"
   ]
  },
  {
   "cell_type": "code",
   "execution_count": null,
   "metadata": {},
   "outputs": [],
   "source": [
    "re.findall(r'\\d{4}-\\d{2}-\\d{2} \\d{2}:\\d{2}:\\d{2}', server_object.rec_date)"
   ]
  },
  {
   "cell_type": "code",
   "execution_count": null,
   "metadata": {},
   "outputs": [],
   "source": [
    "for source_id in server_object.sources:\n",
    "    print(get_source_id(source_id))"
   ]
  },
  {
   "cell_type": "code",
   "execution_count": null,
   "metadata": {},
   "outputs": [],
   "source": [
    "server_object = stt_server(0)\n",
    "server_object.source_id = 1"
   ]
  },
  {
   "cell_type": "code",
   "execution_count": null,
   "metadata": {},
   "outputs": [],
   "source": [
    "files = server_object.get_fs_files_list()\n",
    "len(files), files[0]"
   ]
  },
  {
   "cell_type": "code",
   "execution_count": null,
   "metadata": {},
   "outputs": [],
   "source": [
    "files"
   ]
  },
  {
   "cell_type": "code",
   "execution_count": null,
   "metadata": {},
   "outputs": [],
   "source": [
    "complete = server_object.get_sql_complete_files()\n",
    "len(complete)"
   ]
  },
  {
   "cell_type": "markdown",
   "metadata": {},
   "source": [
    "### transcribations show columns"
   ]
  },
  {
   "cell_type": "code",
   "execution_count": null,
   "metadata": {},
   "outputs": [],
   "source": [
    "cursor = server_object.conn.cursor()\n",
    "query = \"SELECT column_name FROM information_schema.columns WHERE table_name='transcribations';\"\n",
    "cursor.execute(query)\n",
    "for row in cursor.fetchall():\n",
    "        print(row)"
   ]
  },
  {
   "cell_type": "markdown",
   "metadata": {},
   "source": [
    "### PT1C_cdr_MICO show columns"
   ]
  },
  {
   "cell_type": "code",
   "execution_count": null,
   "metadata": {},
   "outputs": [],
   "source": [
    "cursor = server_object.mysql_conn[1].cursor()\n",
    "query = \"SELECT column_name FROM information_schema.columns WHERE table_name='PT1C_cdr_MICO';\"\n",
    "cursor.execute(query)\n",
    "for row in cursor.fetchall():\n",
    "        print(row)"
   ]
  },
  {
   "cell_type": "markdown",
   "metadata": {},
   "source": [
    "### tables"
   ]
  },
  {
   "cell_type": "code",
   "execution_count": null,
   "metadata": {},
   "outputs": [],
   "source": [
    "cursor = server_object.mysql_conn[1].cursor()\n",
    "query = \"show tables;\"\n",
    "cursor.execute(query)\n",
    "for row in cursor.fetchall():\n",
    "        print(row)"
   ]
  },
  {
   "cell_type": "markdown",
   "metadata": {},
   "source": [
    "### cel columns"
   ]
  },
  {
   "cell_type": "code",
   "execution_count": null,
   "metadata": {},
   "outputs": [],
   "source": [
    "cursor = server_object.mysql_conn[1].cursor()\n",
    "query = \"SELECT column_name FROM information_schema.columns WHERE table_name='cel';\"\n",
    "cursor.execute(query)\n",
    "for row in cursor.fetchall():\n",
    "        print(row)"
   ]
  },
  {
   "cell_type": "code",
   "execution_count": null,
   "metadata": {},
   "outputs": [],
   "source": [
    "cursor = server_object.mysql_conn[1].cursor()\n",
    "uniqueid = '1613647500.1738521'\n",
    "query = \"select calldate, src, dst from cdr where uniqueid = '\" + uniqueid + \"' limit 1;\"\n",
    "cursor.execute(sql_query)\n",
    "for row in cursor.fetchall():\n",
    "    print(row)"
   ]
  },
  {
   "cell_type": "markdown",
   "metadata": {},
   "source": [
    "### select from cel"
   ]
  },
  {
   "cell_type": "code",
   "execution_count": null,
   "metadata": {},
   "outputs": [],
   "source": [
    "cursor = server_object.mysql_conn[1].cursor()\n",
    "\n",
    "sql_query = \"select * from cel where linkedid = '1613049028.1603159';\"\n",
    "cursor.execute(sql_query)\n",
    "for row in cursor.fetchall():\n",
    "    print(row)"
   ]
  },
  {
   "cell_type": "markdown",
   "metadata": {},
   "source": [
    "### queue show columns"
   ]
  },
  {
   "cell_type": "code",
   "execution_count": null,
   "metadata": {},
   "outputs": [],
   "source": [
    "cursor = server_object.conn.cursor()\n",
    "query = \"SELECT column_name FROM information_schema.columns WHERE table_name='queue';\"\n",
    "cursor.execute(query)\n",
    "for row in cursor.fetchall():\n",
    "        print(row)"
   ]
  },
  {
   "cell_type": "markdown",
   "metadata": {},
   "source": [
    "### transcribations show columns"
   ]
  },
  {
   "cell_type": "code",
   "execution_count": null,
   "metadata": {},
   "outputs": [],
   "source": [
    "cursor = server_object.conn.cursor()\n",
    "query = \"SELECT column_name FROM information_schema.columns WHERE table_name='transcribations';\"\n",
    "cursor.execute(query)\n",
    "for row in cursor.fetchall():\n",
    "        print(row)"
   ]
  },
  {
   "cell_type": "markdown",
   "metadata": {},
   "source": [
    "### transcribed phrases"
   ]
  },
  {
   "cell_type": "code",
   "execution_count": null,
   "metadata": {
    "scrolled": true
   },
   "outputs": [],
   "source": [
    "server_object = stt_server(0)\n",
    "server_object.source_id = 2\n",
    "\n",
    "cursor = server_object.conn.cursor()\n",
    "\n",
    "#sql_query = \"select audio_file_name, linkedid, record_date, start, side, text from transcribations where source_id = '2' order by record_date, start, side;\"\n",
    "sql_query = \"select top 4 conf, src, dst, audio_file_name, side, record_date from transcribations where source_id = '2' group by conf, src, dst, audio_file_name, side, record_date order by record_date desc;\"\n",
    "cursor.execute(sql_query)\n",
    "for row in cursor.fetchall():\n",
    "    print(row)"
   ]
  },
  {
   "cell_type": "code",
   "execution_count": null,
   "metadata": {},
   "outputs": [],
   "source": [
    "cursor = server_object.conn.cursor()\n",
    "\n",
    "sql_query = \"select start, side, src, dst, text from transcribations where linkedid = '1613049028.1603159'\"\n",
    "sql_query += \" order by start, side;\"\n",
    "cursor.execute(sql_query)\n",
    "for row in cursor.fetchall():\n",
    "    print(row)"
   ]
  },
  {
   "cell_type": "markdown",
   "metadata": {},
   "source": [
    "### get record date from cdr"
   ]
  },
  {
   "cell_type": "code",
   "execution_count": null,
   "metadata": {},
   "outputs": [],
   "source": [
    "cursor = server_object.mysql_conn[server_object.source_id].cursor()\n",
    "query = \"SELECT * FROM cdr WHERE uniqueid = '1613049028.1603159';\"\n",
    "cursor.execute(query)\n",
    "for row in cursor.fetchall():\n",
    "        print(row)"
   ]
  },
  {
   "cell_type": "code",
   "execution_count": null,
   "metadata": {},
   "outputs": [],
   "source": [
    "cursor = server_object.mysql_conn[server_object.source_id].cursor()\n",
    "query = \"SELECT column_name FROM information_schema.columns WHERE table_name='cdr';\"\n",
    "cursor.execute(query)\n",
    "for row in cursor.fetchall():\n",
    "        print(row)"
   ]
  },
  {
   "cell_type": "code",
   "execution_count": null,
   "metadata": {},
   "outputs": [],
   "source": [
    "server_object.source_id = 2\n",
    "#server_object.original_file_name = '1612427793.1440877-in.wav'#files[0] #debug\n",
    "server_object.original_file_name = '1612427793.1440877-in.wav'#files[0] #debug\n",
    "uniqueid = re.findall(r'^\\d*.\\d*', server_object.original_file_name)[0]\n",
    "print('uniqueid', uniqueid)\n",
    "cursor = server_object.mysql_conn[server_object.source_id].cursor()\n",
    "#query = \"select src, dst from cdr where uniqueid = '\"+uniqueid+\"' limit 1;\"\n",
    "query = \"select calldate, src, dst from cdr where uniqueid = '\"+uniqueid+\"' limit 1;\"\n",
    "cursor.execute(query)\n",
    "for row in cursor.fetchall():\n",
    "    print(row)"
   ]
  },
  {
   "cell_type": "markdown",
   "metadata": {},
   "source": [
    "### insert into queue debug"
   ]
  },
  {
   "cell_type": "code",
   "execution_count": null,
   "metadata": {},
   "outputs": [],
   "source": [
    "server_object = stt_server(0)\n",
    "sql_query = \"insert into transcribations( audio_file_name, transcribation_date, date_y, date_m, date_d, text, start, end_time, side, conf, linkedid, src, dst, record_date, source_id) values ( '1613048825.1603082-in.wav', '2021-02-11T16:51:28', '2021', '02', '11', 'аллё здравствуйте вячеслав мареку компании единственная служба сервиса звоню по вашему резюме на избита удобно сейчас разговаривать', '6.27', '15.6', '0', '0.8597108235294117', '1613048825.1603082', '', '','None' ,'2');\"\n",
    "#cursor = server_object.conn.cursor()\n",
    "#cursor.execute(sql_query)\n",
    "#server_object.conn.commit() # autocommit"
   ]
  },
  {
   "cell_type": "markdown",
   "metadata": {},
   "source": [
    "### delete from queue"
   ]
  },
  {
   "cell_type": "code",
   "execution_count": 17,
   "metadata": {},
   "outputs": [],
   "source": [
    "server_object = stt_server(0)\n",
    "#server_object.source_id = 1\n",
    "cursor = server_object.conn.cursor()\n",
    "#sql_query = \"delete from queue where source_id = 2;\"\n",
    "sql_query = \"delete from queue;\"\n",
    "cursor.execute(sql_query)\n",
    "server_object.conn.commit() # autocommit"
   ]
  },
  {
   "cell_type": "markdown",
   "metadata": {},
   "source": [
    "### select from queue"
   ]
  },
  {
   "cell_type": "code",
   "execution_count": 18,
   "metadata": {
    "scrolled": false
   },
   "outputs": [
    {
     "name": "stdout",
     "output_type": "stream",
     "text": [
      "# 1\n",
      "(datetime.datetime(2021, 3, 3, 16, 40, 22), 12, '/mnt/share/audio/MSK_SRVCALL/RX_TX/RXTX_2021-02/16/', None, None, None, 'in_4957237230_2021-02-16-08-09-10rxtx.wav', 5.46, datetime.datetime(2021, 2, 16, 8, 9, 10), 1, '4957237230', '5020', '1613452149.1592147')\n",
      "# 2\n",
      "# count 1\n",
      "(20256,)\n",
      "# count 2\n",
      "(0,)\n",
      "# cpus\n"
     ]
    }
   ],
   "source": [
    "server_object = stt_server(0)\n",
    "server_object.source_id = 2\n",
    "\n",
    "cursor = server_object.conn.cursor()\n",
    "#sql_query = \"select count(filename) from queue where source_id = '\"+str(server_object.source_id)+\"';\"\n",
    "#sql_query = \"select distinct cpu_id from queue where source_id = '\"+str(server_object.source_id)+\"';\"\n",
    "#sql_query = \"select filename, record_date, cpu_id, duration, source_id from queue \"\n",
    "#sql_query += \"where source_id='\" + str(server_object.source_id) + \"' \"\n",
    "#sql_query += \"where duration=60 \"\n",
    "#sql_query += \"order by record_date;\"\n",
    "\n",
    "print('# 1')\n",
    "sql_query = \"select top 1 * from queue \"\n",
    "sql_query += \"where source_id='1';\"\n",
    "#sql_query += \"limit 1;\"\n",
    "cursor.execute(sql_query)\n",
    "for row in cursor.fetchall():\n",
    "    #print(row[0], row[1], row[2], row[3])\n",
    "    print(row)\n",
    "\n",
    "print('# 2')\n",
    "sql_query = \"select top 1 * from queue \"\n",
    "sql_query += \"where source_id='2' \"\n",
    "sql_query += \"order by record_date;\"\n",
    "#sql_query += \"limit 1;\"\n",
    "cursor.execute(sql_query)\n",
    "for row in cursor.fetchall():\n",
    "    #print(row[0], row[1], row[2], row[3])\n",
    "    print(row)\n",
    "    \n",
    "print('# count 1')\n",
    "sql_query = \"select count(filename) from queue where source_id = '1';\"\n",
    "#sql_query += \"limit 1;\"\n",
    "cursor.execute(sql_query)\n",
    "for row in cursor.fetchall():\n",
    "    #print(row[0], row[1], row[2], row[3])\n",
    "    print(row)\n",
    "    \n",
    "print('# count 2')\n",
    "sql_query = \"select count(filename) from queue where source_id = '2';\"\n",
    "#sql_query += \"limit 1;\"\n",
    "cursor.execute(sql_query)\n",
    "for row in cursor.fetchall():\n",
    "    #print(row[0], row[1], row[2], row[3])\n",
    "    print(row)\n",
    "    \n",
    "print('# cpus')\n",
    "sql_query = \"select distinct cpu_id from queue where cpu_id='30' order by cpu_id;\"\n",
    "cursor.execute(sql_query)\n",
    "for row in cursor.fetchall():\n",
    "    #print(row[0], row[1], row[2], row[3])\n",
    "    print(row)\n"
   ]
  },
  {
   "cell_type": "markdown",
   "metadata": {},
   "source": [
    "### call queue"
   ]
  },
  {
   "cell_type": "code",
   "execution_count": null,
   "metadata": {},
   "outputs": [],
   "source": [
    "server_object = stt_server(0)\n",
    "server_object.source_id = 1\n",
    "cursor = server_object.conn.cursor()\n",
    "#sql_query = \"select top 2 * from queue where source_id='1' and duration = 0;\"\n",
    "sql_query = \"select top 200 record_date from queue where source_id='2' and duration >5 order by record_date;\"\n",
    "#sql_query = \"select count(filename) from queue where source_id='2' and duration >5;\"\n",
    "cursor.execute(sql_query)\n",
    "for row in cursor.fetchall():    \n",
    "    print(row)"
   ]
  },
  {
   "cell_type": "markdown",
   "metadata": {},
   "source": [
    "### delete from transcribations"
   ]
  },
  {
   "cell_type": "code",
   "execution_count": null,
   "metadata": {},
   "outputs": [],
   "source": [
    "cursor = server_object.conn.cursor()\n",
    "sql_query = \"delete from transcribations where source_id = '2';\"\n",
    "#cursor.execute(sql_query)\n",
    "#server_object.conn.commit() # autocommit"
   ]
  },
  {
   "cell_type": "code",
   "execution_count": null,
   "metadata": {},
   "outputs": [],
   "source": [
    "sql_query"
   ]
  },
  {
   "cell_type": "code",
   "execution_count": null,
   "metadata": {},
   "outputs": [],
   "source": [
    "server_object.get_sql_complete_files()"
   ]
  },
  {
   "cell_type": "markdown",
   "metadata": {},
   "source": [
    "### select from transcribations"
   ]
  },
  {
   "cell_type": "code",
   "execution_count": null,
   "metadata": {},
   "outputs": [],
   "source": [
    "server_object = stt_server(0)\n",
    "#server_object.source_id = 1\n",
    "\n",
    "cursor = server_object.conn.cursor()\n",
    "sql_query = \"select top 1 * from transcribations;\"\n",
    "cursor.execute(sql_query)\n",
    "for row in cursor.fetchall():\n",
    "    print(row)"
   ]
  },
  {
   "cell_type": "markdown",
   "metadata": {},
   "source": [
    "# other"
   ]
  },
  {
   "cell_type": "code",
   "execution_count": null,
   "metadata": {},
   "outputs": [],
   "source": [
    "import datetime"
   ]
  },
  {
   "cell_type": "code",
   "execution_count": null,
   "metadata": {},
   "outputs": [],
   "source": [
    "cur_date = datetime.datetime.now()\n",
    "DD = datetime.timedelta(days=int(365 / 2))\n",
    "crop_date = cur_date - DD\n",
    "cur_date_y = crop_date.strftime(\"%Y\")\n",
    "cur_date_m = crop_date.strftime(\"%m\")\n",
    "cur_date_d = crop_date.strftime(\"%d\")\n",
    "cur_date_y, cur_date_m, cur_date_d"
   ]
  },
  {
   "cell_type": "code",
   "execution_count": null,
   "metadata": {},
   "outputs": [],
   "source": [
    "cur_date = datetime.datetime.now()\n",
    "cur_date"
   ]
  },
  {
   "cell_type": "code",
   "execution_count": null,
   "metadata": {},
   "outputs": [],
   "source": [
    "DD = datetime.timedelta(days=int(365/2))\n",
    "crop_date = cur_date - DD\n",
    "crop_date"
   ]
  },
  {
   "cell_type": "code",
   "execution_count": null,
   "metadata": {},
   "outputs": [],
   "source": [
    "#datetime.datetime.now().year\n",
    "datetime.datetime.now().strftime(\"%Y\")"
   ]
  },
  {
   "cell_type": "code",
   "execution_count": null,
   "metadata": {},
   "outputs": [],
   "source": [
    "#datetime.datetime.now().month\n",
    "datetime.datetime.now().strftime(\"%m\")"
   ]
  },
  {
   "cell_type": "code",
   "execution_count": null,
   "metadata": {},
   "outputs": [],
   "source": [
    "cur_date = datetime.datetime.strptime(\"2021-04-12T07:00:00Z\",\"%Y-%m-%dT%H:%M:%SZ\")\n",
    "DD = datetime.timedelta(days=int(365 / 2))\n",
    "crop_date = cur_date - DD\n",
    "#datetime.datetime.strptime(str(datetime.datetime.now()),\"%m\")\n",
    "crop_date"
   ]
  },
  {
   "cell_type": "code",
   "execution_count": null,
   "metadata": {},
   "outputs": [],
   "source": [
    "#datetime.datetime.now().day\n",
    "datetime.datetime.now().strftime(\"%d\")"
   ]
  },
  {
   "cell_type": "code",
   "execution_count": null,
   "metadata": {},
   "outputs": [],
   "source": [
    "import pandas as pd\n",
    "from init_server import stt_server\n",
    "from deeppavlov import build_model, configs\n",
    "import numpy as np"
   ]
  },
  {
   "cell_type": "code",
   "execution_count": null,
   "metadata": {},
   "outputs": [],
   "source": [
    "BATCH_SIZE = 3"
   ]
  },
  {
   "cell_type": "code",
   "execution_count": null,
   "metadata": {},
   "outputs": [],
   "source": [
    "server_object = stt_server(0)"
   ]
  },
  {
   "cell_type": "code",
   "execution_count": null,
   "metadata": {},
   "outputs": [],
   "source": [
    "query = \"\"\"\n",
    "    select top \"\"\"+str(BATCH_SIZE)+\"\"\" \n",
    "    id,\n",
    "    text,\n",
    "    sentiment\n",
    "    from transcribations \n",
    "    where sentiment is NULL and text!=''\n",
    "    \"\"\""
   ]
  },
  {
   "cell_type": "code",
   "execution_count": null,
   "metadata": {},
   "outputs": [],
   "source": [
    "df = pd.read_sql(query, server_object.conn)"
   ]
  },
  {
   "cell_type": "markdown",
   "metadata": {},
   "source": [
    "model = build_model(configs.classifiers.rusentiment_bert, download=True) #download first time\n",
    "res = model(df.text)\n",
    "df['sentiment'] = model(df.text)"
   ]
  },
  {
   "cell_type": "code",
   "execution_count": null,
   "metadata": {},
   "outputs": [],
   "source": [
    "print(df)"
   ]
  },
  {
   "cell_type": "code",
   "execution_count": null,
   "metadata": {},
   "outputs": [],
   "source": [
    "df['sentiment'] = ['neutral','negative','skip']"
   ]
  },
  {
   "cell_type": "code",
   "execution_count": null,
   "metadata": {},
   "outputs": [],
   "source": [
    "df"
   ]
  },
  {
   "cell_type": "code",
   "execution_count": null,
   "metadata": {},
   "outputs": [],
   "source": [
    "for index, row in df.iterrows():\n",
    "    print(index, row.id,row.sentiment)"
   ]
  },
  {
   "cell_type": "code",
   "execution_count": null,
   "metadata": {},
   "outputs": [],
   "source": [
    "for row in df.values:\n",
    "    print(row.sentiment)"
   ]
  },
  {
   "cell_type": "code",
   "execution_count": null,
   "metadata": {},
   "outputs": [],
   "source": [
    "for index, row in df.iterrows():\n",
    "    if row.sentiment == 'negative':\n",
    "        neg = 1\n",
    "        pos = 0\n",
    "    else:\n",
    "        neg = 0\n",
    "        pos = 1\n",
    "    query = \"update transcribations set \"\n",
    "    query += \"sentiment = '\"+row.sentiment+\"', \"\n",
    "    query += \"sentiment_neg = \"+str(neg)+\", \"\n",
    "    query += \"sentiment_pos = \"+str(pos)+\" \"\n",
    "    query += \"where id = \"+str(row.id)\n",
    "    break"
   ]
  },
  {
   "cell_type": "code",
   "execution_count": null,
   "metadata": {},
   "outputs": [],
   "source": [
    "query"
   ]
  },
  {
   "cell_type": "code",
   "execution_count": null,
   "metadata": {},
   "outputs": [],
   "source": [
    "df['sentiment_neg']=np.zeros(len(df))\n",
    "df['sentiment_pos']=np.zeros(len(df))"
   ]
  },
  {
   "cell_type": "code",
   "execution_count": null,
   "metadata": {},
   "outputs": [],
   "source": [
    "sentiments = pd.DataFrame(columns=['sentiment','sentiment_neg','sentiment_pos'])"
   ]
  },
  {
   "cell_type": "code",
   "execution_count": null,
   "metadata": {},
   "outputs": [],
   "source": [
    "sentiments = sentiments.append(pd.DataFrame({\n",
    "    'sentiment':\n",
    "        [\n",
    "            'negative',\n",
    "            'positive',\n",
    "            'neutral',\n",
    "            'speech',\n",
    "            'skip'\n",
    "        ],\n",
    "    'sentiment_neg':\n",
    "        [\n",
    "            1,0,0,0,0\n",
    "        ],\n",
    "    'sentiment_pos':\n",
    "        [\n",
    "            0,1,1,1,1\n",
    "        ]\n",
    "}))"
   ]
  },
  {
   "cell_type": "code",
   "execution_count": null,
   "metadata": {
    "scrolled": true
   },
   "outputs": [],
   "source": [
    "sentiments"
   ]
  },
  {
   "cell_type": "code",
   "execution_count": null,
   "metadata": {
    "scrolled": true
   },
   "outputs": [],
   "source": [
    "df"
   ]
  },
  {
   "cell_type": "code",
   "execution_count": null,
   "metadata": {},
   "outputs": [],
   "source": [
    "df[df.sentiment=='negative'].sentiment_neg=np.ones(len(df[df.sentiment=='negative']))"
   ]
  },
  {
   "cell_type": "code",
   "execution_count": null,
   "metadata": {},
   "outputs": [],
   "source": [
    "df[df.sentiment=='negative']"
   ]
  },
  {
   "cell_type": "code",
   "execution_count": null,
   "metadata": {},
   "outputs": [],
   "source": [
    "df[df.sentiment=='negative'].sentiment_neg=[1]"
   ]
  },
  {
   "cell_type": "code",
   "execution_count": null,
   "metadata": {},
   "outputs": [],
   "source": [
    "df[df.sentiment=='negative'].sentiment_neg"
   ]
  },
  {
   "cell_type": "code",
   "execution_count": null,
   "metadata": {},
   "outputs": [],
   "source": [
    "df.set_value[df.sentiment=='negative']['sentiment_neg']=np.ones(len(df[df.sentiment=='negative']))\n",
    "#df[df.sentiment!='negative']['sentiment_pos']=1\n",
    "#df.fillna(0)\n",
    "#df.set_value('C', 'x', 10)"
   ]
  },
  {
   "cell_type": "code",
   "execution_count": null,
   "metadata": {},
   "outputs": [],
   "source": [
    "df[df.sentiment=='negative']['sentiment_neg']"
   ]
  }
 ],
 "metadata": {
  "kernelspec": {
   "display_name": "Python 3",
   "language": "python",
   "name": "python3"
  },
  "language_info": {
   "codemirror_mode": {
    "name": "ipython",
    "version": 3
   },
   "file_extension": ".py",
   "mimetype": "text/x-python",
   "name": "python",
   "nbconvert_exporter": "python",
   "pygments_lexer": "ipython3",
   "version": "3.7.6"
  }
 },
 "nbformat": 4,
 "nbformat_minor": 4
}
