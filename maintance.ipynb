{
 "cells": [
  {
   "cell_type": "markdown",
   "metadata": {},
   "source": [
    "# read files"
   ]
  },
  {
   "cell_type": "code",
   "execution_count": 1,
   "metadata": {},
   "outputs": [],
   "source": [
    "import pymssql\n",
    "import pymysql as mysql\n",
    "import os\n",
    "import re\n",
    "import pandas as pd\n",
    "import datetime"
   ]
  },
  {
   "cell_type": "code",
   "execution_count": 2,
   "metadata": {},
   "outputs": [],
   "source": [
    "class stt_server:\n",
    "\n",
    "    def __init__(self, cpu_id):\n",
    "\n",
    "        # settings ++\n",
    "        self.cpu_id = cpu_id\n",
    "        self.cpu_cores = [i for i in range(0,15)]\n",
    "\n",
    "        # ms sql\n",
    "        self.sql_name = 'voice_ai'\n",
    "        self.sql_server = '10.2.4.124'\n",
    "        self.sql_login = 'ICECORP\\\\1c_sql'\n",
    "\n",
    "        # mysql\n",
    "        self.mysql_name = {\n",
    "            1: 'MICO_96',\n",
    "            2: 'asterisk',\n",
    "        }\n",
    "        self.mysql_server = '10.2.4.146'\n",
    "        self.mysql_login = 'asterisk'\n",
    "\n",
    "        self.script_path = '/home/alex/projects/call_centre_stt_server/'\n",
    "        self.model_path = '/home/alex/projects/vosk-api/python/example/model'\n",
    "        self.source_id = 0\n",
    "        self.sources = {\n",
    "            'call': 1,\n",
    "            'master': 2,\n",
    "        }\n",
    "        self.original_storage_path = {\n",
    "            1: '/mnt/share/audio_call/',\n",
    "            2: '/mnt/share/audio_master/REC_IN_OUT/',\n",
    "        }\n",
    "        self.original_storage_prefix = {\n",
    "            1: 'RXTX_',\n",
    "            2: '',\n",
    "        }\n",
    "        self.temp_file_path = self.script_path+'files/'\n",
    "        # settings --\n",
    "\n",
    "        self.temp_file_name = ''\n",
    "        self.original_file_path = ''\n",
    "        self.original_file_name = ''\n",
    "        self.original_file_duration\t= 0\n",
    "        self.date_y = ''\n",
    "        self.date_m = ''\n",
    "        self.date_d = ''\n",
    "        self.rec_date = ''\n",
    "\n",
    "        #store pass in file, to prevent pass publication on gitdelete_current_queue\n",
    "        with open(self.script_path+'sql.pass','r') as file:\n",
    "            self.sql_pass = file.read().replace('\\n', '')\n",
    "            file.close()\n",
    "\n",
    "        with open(self.script_path+'mysql.pass','r') as file:\n",
    "            self.mysql_pass = file.read().replace('\\n', '')\n",
    "            file.close()\n",
    "\n",
    "        self.conn = self.connect_sql()\n",
    "        self.mysql_conn = {\n",
    "            1: self.connect_mysql(1),\n",
    "            2: self.connect_mysql(2),\n",
    "        }\n",
    "\n",
    "    def connect_sql(self):\n",
    "\n",
    "        return pymssql.connect(\n",
    "            server = self.sql_server,\n",
    "            user = self.sql_login,\n",
    "            password = self.sql_pass,\n",
    "            database = self.sql_name,\n",
    "            #autocommit=True\n",
    "        )\n",
    "\n",
    "    def connect_mysql(self, source_id):\n",
    "\n",
    "        return mysql.connect(\n",
    "            host = self.mysql_server, \n",
    "            user = self.mysql_login, \n",
    "            passwd = self.mysql_pass,\n",
    "            db = self.mysql_name[source_id],\n",
    "            #autocommit = True\n",
    "        )\n",
    "\n",
    "    def get_fs_files_list(self):\n",
    "\n",
    "        self.original_file_path = self.original_storage_path[self.source_id]\n",
    "        self.original_file_path += self.original_storage_prefix[self.source_id]\n",
    "        if self.source_id == self.sources['call']:\n",
    "            self.original_file_path += self.date_y + '-' + self.date_m + '/' + self.date_d + '/'\n",
    "        files_list = []\n",
    "        for (dirpath, dirnames, filenames) in os.walk(self.original_file_path):\n",
    "            files_list.extend(filenames)\n",
    "            break\n",
    "\n",
    "        # get record date\n",
    "        fd_list = []\n",
    "        for filename in files_list:\n",
    "\n",
    "            rec_date = 'Null'\n",
    "\n",
    "            if self.source_id == self.sources['call']:\n",
    "                rec_source_date = re.findall(r'\\d{4}-\\d{2}-\\d{2}-\\d{2}-\\d{2}-\\d{2}', filename)[0]\n",
    "                if len(rec_source_date):\n",
    "                    rec_date = rec_source_date[:10] + ' ' + rec_source_date[11:].replace('-', ':')\n",
    "                if len(re.findall(r'\\d{4}-\\d{2}-\\d{2} \\d{2}:\\d{2}:\\d{2}', rec_date)) == 0:\n",
    "                    rec_date = 'Null'\n",
    "                    print('Unable to extract date from filename', filename)\n",
    "\n",
    "            elif self.source_id == self.sources['master']:\n",
    "                uniqueid = re.findall(r'^\\d*.\\d*', filename)[0]\n",
    "                cursor = self.mysql_conn[self.source_id].cursor()\n",
    "                query = \"select calldate from cdr where uniqueid = '\" + uniqueid + \"' limit 1;\"\n",
    "                cursor.execute(query)\n",
    "                for row in cursor.fetchall():\n",
    "                    rec_date = str(row[0])\n",
    "\n",
    "            fd_list.append({\n",
    "                'filename': filename,\n",
    "                'rec_date': rec_date\n",
    "            })\n",
    "\n",
    "            #break  # todo: REMOVE\n",
    "\n",
    "        df = pd.DataFrame(fd_list)\n",
    "        df.sort_values(['rec_date', 'filename'], ascending=True, inplace=True)\n",
    "\n",
    "        return df.values\n",
    "    \n",
    "    def get_sql_complete_files(self):\n",
    "\n",
    "        cursor = self.conn.cursor()\n",
    "        \n",
    "        if self.source_id == self.sources['call']:\n",
    "            sql_query = \"select distinct filename from queue where \"\n",
    "            sql_query += \"source_id='\"+str(self.source_id)+\"' and \"\n",
    "            sql_query += \"date_y='\"+self.date_y+\"' and \"\n",
    "            sql_query += \"date_m='\"+self.date_m+\"' and \"\n",
    "            sql_query += \"date_d='\"+self.date_d+\"' \"\n",
    "            sql_query += \"union all \"\n",
    "            sql_query += \"select distinct audio_file_name from transcribations where \"\n",
    "            sql_query += \"date_y='\"+self.date_y+\"' and \"\n",
    "            sql_query += \"date_m='\"+self.date_m+\"' and \"\n",
    "            sql_query += \"date_d='\"+self.date_d+\"' \"\n",
    "            sql_query += \"order by filename;\"\n",
    "        \n",
    "        elif self.source_id == self.sources['master']:\n",
    "            sql_query = \"select distinct filename from queue \"\n",
    "            sql_query += \"where source_id='\"+str(self.source_id)+\"' \"\n",
    "            sql_query += \"order by filename;\"\n",
    "            \n",
    "        cursor.execute(sql_query)\n",
    "        complete_files = []\n",
    "        for row in cursor.fetchall():\n",
    "            complete_files.append(row[0])\n",
    "\n",
    "        return complete_files\n",
    "    \n",
    "    def get_source_id(self, source_name):\n",
    "        for source in self.sources.items():\n",
    "            if source[0] == source_name:\n",
    "                return source[1]\n",
    "        return 0\n",
    "    \n",
    "    def set_today_ymd(self):\n",
    "        self.date_y\t= datetime.datetime.today().strftime('%Y')\n",
    "        self.date_m\t= datetime.datetime.today().strftime('%m')\n",
    "        self.date_d\t= datetime.datetime.today().strftime('%d')"
   ]
  },
  {
   "cell_type": "code",
   "execution_count": null,
   "metadata": {},
   "outputs": [],
   "source": [
    "server_object = stt_server(0)\n",
    "server_object.set_today_ymd()\n",
    "for source_id in server_object.sources: # ['call', 'master']\n",
    "    #server_object.source_id = server_object.sources['call']\n",
    "    server_object.source_id = server_object.get_source_id(source_id)\n",
    "    complete_files\t= server_object.get_sql_complete_files()\n",
    "    incomplete_count = 0\n",
    "    complete_count = 0\n",
    "    print('server_object.source_id', server_object.source_id)\n",
    "    for filename, rec_date in server_object.get_fs_files_list():\n",
    "        print(filename, rec_date)\n",
    "    break"
   ]
  },
  {
   "cell_type": "code",
   "execution_count": null,
   "metadata": {},
   "outputs": [],
   "source": [
    "complete_files"
   ]
  },
  {
   "cell_type": "code",
   "execution_count": null,
   "metadata": {},
   "outputs": [],
   "source": [
    "server_object = stt_server(0)\n",
    "server_object.source_id = 2\n",
    "fd_list = server_object.get_fs_files_list()\n",
    "fd_list"
   ]
  },
  {
   "cell_type": "code",
   "execution_count": null,
   "metadata": {},
   "outputs": [],
   "source": [
    "df = pd.DataFrame(fd_list)\n",
    "df.sort_values(['rec_date', 'filename'], ascending=False, inplace=True)"
   ]
  },
  {
   "cell_type": "code",
   "execution_count": null,
   "metadata": {},
   "outputs": [],
   "source": [
    "#df[df.rec_date=='Null']\n",
    "for f,d in df.values:\n",
    "    print(f,d)\n",
    "    break"
   ]
  },
  {
   "cell_type": "code",
   "execution_count": null,
   "metadata": {},
   "outputs": [],
   "source": [
    "filename = '1612946589.1564912-in.wav'\n",
    "uniqueid = re.findall(r'^\\d*.\\d*', filename)[0]\n",
    "uniqueid"
   ]
  },
  {
   "cell_type": "code",
   "execution_count": 44,
   "metadata": {},
   "outputs": [
    {
     "name": "stdout",
     "output_type": "stream",
     "text": [
      "2021-02-04 11:36:33\n"
     ]
    }
   ],
   "source": [
    "cursor = server_object.mysql_conn[server_object.source_id].cursor()\n",
    "query = \"select calldate from cdr where uniqueid = '\"+uniqueid+\"' limit 1;\"\n",
    "cursor.execute(query)\n",
    "for row in cursor.fetchall():\n",
    "    #rec_date = str(row[0])\n",
    "    print(row[0])"
   ]
  },
  {
   "cell_type": "code",
   "execution_count": null,
   "metadata": {},
   "outputs": [],
   "source": [
    "def get_source_id(source_name):\n",
    "    for source in server_object.sources.items():\n",
    "        if source[0] == source_name:\n",
    "            return source[1]\n",
    "    return 0\n",
    "get_source_id('master')"
   ]
  },
  {
   "cell_type": "code",
   "execution_count": null,
   "metadata": {},
   "outputs": [],
   "source": [
    "server_object.rec_date = 'Null'\n",
    "filename = 'in_4957237230_2021-02-10-07-16-03rxtx.wav'\n",
    "rec_source_date = re.findall(r'\\d{4}-\\d{2}-\\d{2}-\\d{2}-\\d{2}-\\d{2}', filename)[0]                \n",
    "if len(rec_source_date):\n",
    "    server_object.rec_date = rec_source_date[:10] + ' ' + rec_source_date[11:].replace('-', ':')\n",
    "if len(re.findall(r'\\d{4}-\\d{2}-\\d{2} \\d{2}:\\d{2}:\\d{2}', server_object.rec_date)) == 0:\n",
    "    print('Unable to extract date from filename', filename)\n",
    "server_object.rec_date"
   ]
  },
  {
   "cell_type": "code",
   "execution_count": null,
   "metadata": {},
   "outputs": [],
   "source": [
    "rec_source_date"
   ]
  },
  {
   "cell_type": "code",
   "execution_count": null,
   "metadata": {},
   "outputs": [],
   "source": [
    "server_object.rec_date"
   ]
  },
  {
   "cell_type": "code",
   "execution_count": null,
   "metadata": {},
   "outputs": [],
   "source": [
    "re.findall(r'\\d{4}-\\d{2}-\\d{2} \\d{2}:\\d{2}:\\d{2}', server_object.rec_date)"
   ]
  },
  {
   "cell_type": "code",
   "execution_count": null,
   "metadata": {},
   "outputs": [],
   "source": [
    "for source_id in server_object.sources:\n",
    "    print(get_source_id(source_id))"
   ]
  },
  {
   "cell_type": "code",
   "execution_count": null,
   "metadata": {},
   "outputs": [],
   "source": [
    "server_object = stt_server(0)\n",
    "server_object.source_id = 1"
   ]
  },
  {
   "cell_type": "code",
   "execution_count": null,
   "metadata": {},
   "outputs": [],
   "source": [
    "files = server_object.get_fs_files_list()\n",
    "len(files), files[0]"
   ]
  },
  {
   "cell_type": "code",
   "execution_count": null,
   "metadata": {},
   "outputs": [],
   "source": [
    "files"
   ]
  },
  {
   "cell_type": "code",
   "execution_count": null,
   "metadata": {},
   "outputs": [],
   "source": [
    "complete = server_object.get_sql_complete_files()\n",
    "len(complete)"
   ]
  },
  {
   "cell_type": "markdown",
   "metadata": {},
   "source": [
    "### transcribations show columns"
   ]
  },
  {
   "cell_type": "code",
   "execution_count": 37,
   "metadata": {},
   "outputs": [
    {
     "name": "stdout",
     "output_type": "stream",
     "text": [
      "('transcribation_date',)\n",
      "('date_y',)\n",
      "('date_m',)\n",
      "('date_d',)\n",
      "('side',)\n",
      "('text',)\n",
      "('start',)\n",
      "('audio_file_name',)\n",
      "('conf',)\n",
      "('end_time',)\n",
      "('sentiment',)\n",
      "('sentiment_pos',)\n",
      "('sentiment_neg',)\n",
      "('ID',)\n",
      "('linkedid',)\n",
      "('dst',)\n",
      "('record_date',)\n",
      "('source_id',)\n",
      "('src',)\n"
     ]
    }
   ],
   "source": [
    "cursor = server_object.conn.cursor()\n",
    "query = \"SELECT column_name FROM information_schema.columns WHERE table_name='transcribations';\"\n",
    "cursor.execute(query)\n",
    "for row in cursor.fetchall():\n",
    "        print(row)"
   ]
  },
  {
   "cell_type": "markdown",
   "metadata": {},
   "source": [
    "### check date cdr"
   ]
  },
  {
   "cell_type": "code",
   "execution_count": 48,
   "metadata": {},
   "outputs": [
    {
     "data": {
      "text/plain": [
       "'2021-02-11 12:16:12'"
      ]
     },
     "execution_count": 48,
     "metadata": {},
     "output_type": "execute_result"
    }
   ],
   "source": [
    "datetime.datetime.now().strftime('%Y-%m-%d %H:%M:%S')"
   ]
  },
  {
   "cell_type": "code",
   "execution_count": 46,
   "metadata": {},
   "outputs": [],
   "source": [
    "uniqueid = '1613032036.1593933'"
   ]
  },
  {
   "cell_type": "code",
   "execution_count": 47,
   "metadata": {},
   "outputs": [
    {
     "name": "stdout",
     "output_type": "stream",
     "text": [
      "2021-02-11 11:27:16\n"
     ]
    }
   ],
   "source": [
    "cursor = server_object.mysql_conn[server_object.source_id].cursor()\n",
    "query = \"select calldate from cdr where uniqueid = '\"+uniqueid+\"' limit 1;\"\n",
    "cursor.execute(query)\n",
    "for row in cursor.fetchall():\n",
    "    #rec_date = str(row[0])\n",
    "    print(row[0])"
   ]
  },
  {
   "cell_type": "markdown",
   "metadata": {},
   "source": [
    "### PT1C_cdr_MICO show columns"
   ]
  },
  {
   "cell_type": "code",
   "execution_count": 14,
   "metadata": {},
   "outputs": [
    {
     "name": "stdout",
     "output_type": "stream",
     "text": [
      "('id',)\n",
      "('calldate',)\n",
      "('clid',)\n",
      "('src',)\n",
      "('dst',)\n",
      "('dcontext',)\n",
      "('lastapp',)\n",
      "('lastdata',)\n",
      "('duration',)\n",
      "('billsec',)\n",
      "('disposition',)\n",
      "('channel',)\n",
      "('dstchannel',)\n",
      "('amaflags',)\n",
      "('accountcode',)\n",
      "('uniqueid',)\n",
      "('userfield',)\n",
      "('answer',)\n",
      "('end',)\n",
      "('recordingfile',)\n",
      "('peeraccount',)\n",
      "('linkedid',)\n",
      "('sequence',)\n"
     ]
    }
   ],
   "source": [
    "cursor = server_object.mysql_conn[1].cursor()\n",
    "query = \"SELECT column_name FROM information_schema.columns WHERE table_name='PT1C_cdr_MICO';\"\n",
    "cursor.execute(query)\n",
    "for row in cursor.fetchall():\n",
    "        print(row)"
   ]
  },
  {
   "cell_type": "markdown",
   "metadata": {},
   "source": [
    "### queue show columns"
   ]
  },
  {
   "cell_type": "code",
   "execution_count": 9,
   "metadata": {},
   "outputs": [
    {
     "name": "stdout",
     "output_type": "stream",
     "text": [
      "('date',)\n",
      "('cpu_id',)\n",
      "('filepath',)\n",
      "('date_y',)\n",
      "('date_m',)\n",
      "('date_d',)\n",
      "('filename',)\n",
      "('duration',)\n",
      "('record_date',)\n",
      "('source_id',)\n"
     ]
    }
   ],
   "source": [
    "cursor = server_object.conn.cursor()\n",
    "query = \"SELECT column_name FROM information_schema.columns WHERE table_name='queue';\"\n",
    "cursor.execute(query)\n",
    "for row in cursor.fetchall():\n",
    "        print(row)"
   ]
  },
  {
   "cell_type": "markdown",
   "metadata": {},
   "source": [
    "### transcribations show columns"
   ]
  },
  {
   "cell_type": "code",
   "execution_count": 12,
   "metadata": {},
   "outputs": [
    {
     "name": "stdout",
     "output_type": "stream",
     "text": [
      "('transcribation_date',)\n",
      "('date_y',)\n",
      "('date_m',)\n",
      "('date_d',)\n",
      "('side',)\n",
      "('text',)\n",
      "('start',)\n",
      "('audio_file_name',)\n",
      "('conf',)\n",
      "('end_time',)\n",
      "('sentiment',)\n",
      "('sentiment_pos',)\n",
      "('sentiment_neg',)\n",
      "('ID',)\n",
      "('linkedid',)\n",
      "('dst',)\n",
      "('record_date',)\n",
      "('source_id',)\n",
      "('src',)\n"
     ]
    }
   ],
   "source": [
    "cursor = server_object.conn.cursor()\n",
    "query = \"SELECT column_name FROM information_schema.columns WHERE table_name='transcribations';\"\n",
    "cursor.execute(query)\n",
    "for row in cursor.fetchall():\n",
    "        print(row)"
   ]
  },
  {
   "cell_type": "markdown",
   "metadata": {},
   "source": [
    "### get record date from cdr"
   ]
  },
  {
   "cell_type": "code",
   "execution_count": 6,
   "metadata": {},
   "outputs": [
    {
     "name": "stdout",
     "output_type": "stream",
     "text": [
      "('calldate',)\n",
      "('clid',)\n",
      "('src',)\n",
      "('dst',)\n",
      "('dcontext',)\n",
      "('channel',)\n",
      "('dstchannel',)\n",
      "('lastapp',)\n",
      "('lastdata',)\n",
      "('duration',)\n",
      "('billsec',)\n",
      "('disposition',)\n",
      "('amaflags',)\n",
      "('accountcode',)\n",
      "('uniqueid',)\n",
      "('userfield',)\n",
      "('did',)\n",
      "('recordingfile',)\n",
      "('calldate',)\n",
      "('clid',)\n",
      "('src',)\n",
      "('dst',)\n",
      "('dcontext',)\n",
      "('channel',)\n",
      "('dstchannel',)\n",
      "('lastapp',)\n",
      "('lastdata',)\n",
      "('duration',)\n",
      "('billsec',)\n",
      "('disposition',)\n",
      "('amaflags',)\n",
      "('accountcode',)\n",
      "('uniqueid',)\n",
      "('userfield',)\n",
      "('did',)\n",
      "('recordingfile',)\n",
      "('calldate',)\n",
      "('clid',)\n",
      "('src',)\n",
      "('dst',)\n",
      "('dcontext',)\n",
      "('channel',)\n",
      "('dstchannel',)\n",
      "('lastapp',)\n",
      "('lastdata',)\n",
      "('duration',)\n",
      "('billsec',)\n",
      "('disposition',)\n",
      "('amaflags',)\n",
      "('accountcode',)\n",
      "('uniqueid',)\n",
      "('userfield',)\n",
      "('did',)\n",
      "('recordingfile',)\n",
      "('id',)\n",
      "('calldate',)\n",
      "('clid',)\n",
      "('src',)\n",
      "('dst',)\n",
      "('dcontext',)\n",
      "('channel',)\n",
      "('dstchannel',)\n",
      "('lastapp',)\n",
      "('lastdata',)\n",
      "('duration',)\n",
      "('billsec',)\n",
      "('disposition',)\n",
      "('amaflags',)\n",
      "('accountcode',)\n",
      "('uniqueid',)\n",
      "('peeraccount',)\n",
      "('linkedid',)\n",
      "('sequence',)\n",
      "('userfield',)\n",
      "('calldate',)\n",
      "('clid',)\n",
      "('src',)\n",
      "('dst',)\n",
      "('dcontext',)\n",
      "('channel',)\n",
      "('dstchannel',)\n",
      "('lastapp',)\n",
      "('lastdata',)\n",
      "('duration',)\n",
      "('billsec',)\n",
      "('disposition',)\n",
      "('amaflags',)\n",
      "('accountcode',)\n",
      "('uniqueid',)\n",
      "('userfield',)\n",
      "('did',)\n",
      "('recordingfile',)\n",
      "('cnum',)\n",
      "('filename',)\n",
      "('cnam',)\n",
      "('outbound_cnum',)\n",
      "('outbound_cnam',)\n",
      "('dst_cnam',)\n",
      "('region',)\n",
      "('operator',)\n"
     ]
    }
   ],
   "source": [
    "cursor = server_object.mysql_conn[server_object.source_id].cursor()\n",
    "query = \"SELECT column_name FROM information_schema.columns WHERE table_name='cdr';\"\n",
    "cursor.execute(query)\n",
    "for row in cursor.fetchall():\n",
    "        print(row)"
   ]
  },
  {
   "cell_type": "code",
   "execution_count": 12,
   "metadata": {},
   "outputs": [
    {
     "name": "stdout",
     "output_type": "stream",
     "text": [
      "uniqueid 1612427793.1440877\n",
      "(datetime.datetime(2021, 2, 4, 11, 36, 33), '5113', '989533444853')\n"
     ]
    }
   ],
   "source": [
    "server_object.source_id = 2\n",
    "#server_object.original_file_name = '1612427793.1440877-in.wav'#files[0] #debug\n",
    "server_object.original_file_name = '1612427793.1440877-in.wav'#files[0] #debug\n",
    "uniqueid = re.findall(r'^\\d*.\\d*', server_object.original_file_name)[0]\n",
    "print('uniqueid', uniqueid)\n",
    "cursor = server_object.mysql_conn[server_object.source_id].cursor()\n",
    "#query = \"select src, dst from cdr where uniqueid = '\"+uniqueid+\"' limit 1;\"\n",
    "query = \"select calldate, src, dst from cdr where uniqueid = '\"+uniqueid+\"' limit 1;\"\n",
    "cursor.execute(query)\n",
    "for row in cursor.fetchall():\n",
    "    print(row)"
   ]
  },
  {
   "cell_type": "markdown",
   "metadata": {},
   "source": [
    "### insert into queue debug"
   ]
  },
  {
   "cell_type": "code",
   "execution_count": 55,
   "metadata": {},
   "outputs": [],
   "source": [
    "server_object = stt_server(0)\n",
    "sql_query = \"insert into queue (filepath, filename, cpu_id, date, date_y, date_m, date_d, duration, record_date, source_id, src, dst, linkedid) values ('/mnt/share/audio_master/REC_IN_OUT/','1613043347.1600548-out.wav','3','2021-02-11 14:36:41','2021','02','11','0',Null,'2','1810','989859826939','1613042947.1600204');\"\n",
    "cursor = server_object.conn.cursor()\n",
    "cursor.execute(sql_query)\n",
    "server_object.conn.commit() # autocommit"
   ]
  },
  {
   "cell_type": "markdown",
   "metadata": {},
   "source": [
    "### delete from queue"
   ]
  },
  {
   "cell_type": "code",
   "execution_count": 50,
   "metadata": {},
   "outputs": [],
   "source": [
    "server_object = stt_server(0)\n",
    "#server_object.source_id = 1\n",
    "cursor = server_object.conn.cursor()\n",
    "sql_query = \"delete from queue;\"\n",
    "cursor.execute(sql_query)\n",
    "server_object.conn.commit() # autocommit"
   ]
  },
  {
   "cell_type": "markdown",
   "metadata": {},
   "source": [
    "### select from queue"
   ]
  },
  {
   "cell_type": "code",
   "execution_count": 53,
   "metadata": {},
   "outputs": [
    {
     "name": "stdout",
     "output_type": "stream",
     "text": [
      "# 1\n",
      "(datetime.datetime(2021, 2, 11, 12, 18, 22), 11, '/mnt/share/audio_call/RXTX_2021-02/11/', '2021', '02', '11', 'in_4957237230_2021-02-11-07-16-05rxtx.wav', 8.3, datetime.datetime(2021, 2, 11, 7, 16, 5), 1, '79057407030', 'None', '1612992225.1482483')\n",
      "# 2\n",
      "(datetime.datetime(2021, 2, 11, 12, 18, 55), 17, '/mnt/share/audio_master/REC_IN_OUT/', '2021', '02', '11', '1612425037.1439526-in.wav', 0.0, datetime.datetime(2021, 2, 4, 10, 50, 37), 2, '9055316577', '989168860883', '1612425037.1439526')\n",
      "# count 1\n",
      "(1260,)\n",
      "# count 2\n",
      "(59069,)\n",
      "# cpus\n",
      "(30,)\n"
     ]
    }
   ],
   "source": [
    "server_object = stt_server(0)\n",
    "server_object.source_id = 2\n",
    "\n",
    "cursor = server_object.conn.cursor()\n",
    "#sql_query = \"select count(filename) from queue where source_id = '\"+str(server_object.source_id)+\"';\"\n",
    "#sql_query = \"select distinct cpu_id from queue where source_id = '\"+str(server_object.source_id)+\"';\"\n",
    "#sql_query = \"select filename, record_date, cpu_id, duration, source_id from queue \"\n",
    "#sql_query += \"where source_id='\" + str(server_object.source_id) + \"' \"\n",
    "#sql_query += \"where duration=60 \"\n",
    "#sql_query += \"order by record_date;\"\n",
    "\n",
    "print('# 1')\n",
    "sql_query = \"select top 1 * from queue \"\n",
    "sql_query += \"where source_id='1';\"\n",
    "#sql_query += \"limit 1;\"\n",
    "cursor.execute(sql_query)\n",
    "for row in cursor.fetchall():\n",
    "    #print(row[0], row[1], row[2], row[3])\n",
    "    print(row)\n",
    "\n",
    "print('# 2')\n",
    "sql_query = \"select top 1 * from queue \"\n",
    "sql_query += \"where source_id='2';\"\n",
    "#sql_query += \"limit 1;\"\n",
    "cursor.execute(sql_query)\n",
    "for row in cursor.fetchall():\n",
    "    #print(row[0], row[1], row[2], row[3])\n",
    "    print(row)\n",
    "    \n",
    "print('# count 1')\n",
    "sql_query = \"select count(filename) from queue where source_id = '1';\"\n",
    "#sql_query += \"limit 1;\"\n",
    "cursor.execute(sql_query)\n",
    "for row in cursor.fetchall():\n",
    "    #print(row[0], row[1], row[2], row[3])\n",
    "    print(row)\n",
    "    \n",
    "print('# count 2')\n",
    "sql_query = \"select count(filename) from queue where source_id = '2';\"\n",
    "#sql_query += \"limit 1;\"\n",
    "cursor.execute(sql_query)\n",
    "for row in cursor.fetchall():\n",
    "    #print(row[0], row[1], row[2], row[3])\n",
    "    print(row)\n",
    "    \n",
    "print('# cpus')\n",
    "sql_query = \"select distinct cpu_id from queue where cpu_id='30' order by cpu_id;\"\n",
    "cursor.execute(sql_query)\n",
    "for row in cursor.fetchall():\n",
    "    #print(row[0], row[1], row[2], row[3])\n",
    "    print(row)\n"
   ]
  },
  {
   "cell_type": "markdown",
   "metadata": {},
   "source": [
    "### delete from transcribations"
   ]
  },
  {
   "cell_type": "code",
   "execution_count": 49,
   "metadata": {},
   "outputs": [],
   "source": [
    "cursor = server_object.conn.cursor()\n",
    "sql_query = \"delete from transcribations where source_id = '2';\"\n",
    "cursor.execute(sql_query)\n",
    "server_object.conn.commit() # autocommit"
   ]
  },
  {
   "cell_type": "markdown",
   "metadata": {},
   "source": [
    "### transcribed phrases"
   ]
  },
  {
   "cell_type": "code",
   "execution_count": 52,
   "metadata": {
    "scrolled": true
   },
   "outputs": [
    {
     "name": "stdout",
     "output_type": "stream",
     "text": [
      "('1612427076.1440458-in.wav', datetime.datetime(2021, 2, 4, 11, 24, 36), 2.1, False, 'а')\n",
      "('1612427076.1440458-in.wav', datetime.datetime(2021, 2, 4, 11, 24, 36), 17.85, False, 'здравствуйте сервисный центр по поводу холодильником')\n",
      "('1612427076.1440458-in.wav', datetime.datetime(2021, 2, 4, 11, 24, 36), 22.2, False, 'меня зовут евгений что у вас случилось')\n",
      "('1612427076.1440458-in.wav', datetime.datetime(2021, 2, 4, 11, 24, 36), 35.01, False, 'но насколько сильно порвалась магнита высыпались на месте')\n",
      "('1612427076.1440458-in.wav', datetime.datetime(2021, 2, 4, 11, 24, 36), 44.67, False, 'ну разберу такие сквозные и несквозные')\n",
      "('1612427076.1440458-in.wav', datetime.datetime(2021, 2, 4, 11, 24, 36), 63.36, False, 'ну не совсем понял что значит до конца резина она многослойная вас все слои спор')\n",
      "('1612427076.1440458-in.wav', datetime.datetime(2021, 2, 4, 11, 24, 36), 85.98, False, 'но вдруг один слой верхние и останется своровал работают')\n",
      "('1612427076.1440458-in.wav', datetime.datetime(2021, 2, 4, 11, 24, 36), 93.09, False, 'целое про скорее всего резиновом менять не надо')\n",
      "('1612427076.1440458-in.wav', datetime.datetime(2021, 2, 4, 11, 24, 36), 96.51, False, 'вот и в случае с ледяным нет свет ремонтировать возможно')\n",
      "('1612427076.1440458-in.wav', datetime.datetime(2021, 2, 4, 11, 24, 36), 105.695837, False, 'не в этом мастер только ремонтировать может')\n",
      "('1612427076.1440458-in.wav', datetime.datetime(2021, 2, 4, 11, 24, 36), 111.451611, False, 'здесь уже не подскажу нужно подъезжать и смотреть как фронт работ оценить тогда будет ясно по стоимости а так я все таки не вижу резину')\n",
      "('1612427076.1440458-in.wav', datetime.datetime(2021, 2, 4, 11, 24, 36), 119.73, False, 'резина меня у крайне редком случае если там в лохмотья порвана ли домашнее животное разгрызая вот тогда меняет')\n"
     ]
    }
   ],
   "source": [
    "server_object = stt_server(0)\n",
    "server_object.source_id = 2\n",
    "\n",
    "cursor = server_object.conn.cursor()\n",
    "\n",
    "sql_query = \"select audio_file_name, record_date, start, side, text from transcribations where source_id = '2' order by record_date, start, side;\"\n",
    "cursor.execute(sql_query)\n",
    "for row in cursor.fetchall():\n",
    "    print(row)"
   ]
  },
  {
   "cell_type": "code",
   "execution_count": 18,
   "metadata": {},
   "outputs": [
    {
     "data": {
      "text/plain": [
       "\"select * from queue where source_id='2' limit 1;\""
      ]
     },
     "execution_count": 18,
     "metadata": {},
     "output_type": "execute_result"
    }
   ],
   "source": [
    "sql_query"
   ]
  },
  {
   "cell_type": "code",
   "execution_count": null,
   "metadata": {},
   "outputs": [],
   "source": [
    "server_object.get_sql_complete_files()"
   ]
  },
  {
   "cell_type": "markdown",
   "metadata": {},
   "source": [
    "### select from transcribations"
   ]
  },
  {
   "cell_type": "code",
   "execution_count": 4,
   "metadata": {},
   "outputs": [
    {
     "name": "stdout",
     "output_type": "stream",
     "text": [
      "(datetime.datetime(2020, 10, 9, 8, 39, 8), '2020', '10', '09', True, '', 0.0, 'in_4957237230_2020-10-09-07-36-05rxtx.wav', None, None, None, None, None, 1, None, None, datetime.datetime(2020, 10, 9, 7, 36, 5), 1)\n"
     ]
    }
   ],
   "source": [
    "server_object = stt_server(0)\n",
    "#server_object.source_id = 1\n",
    "\n",
    "cursor = server_object.conn.cursor()\n",
    "sql_query = \"select top 1 * from transcribations;\"\n",
    "cursor.execute(sql_query)\n",
    "for row in cursor.fetchall():\n",
    "    print(row)"
   ]
  },
  {
   "cell_type": "markdown",
   "metadata": {},
   "source": [
    "# other"
   ]
  },
  {
   "cell_type": "code",
   "execution_count": null,
   "metadata": {},
   "outputs": [],
   "source": [
    "import datetime"
   ]
  },
  {
   "cell_type": "code",
   "execution_count": null,
   "metadata": {},
   "outputs": [],
   "source": [
    "cur_date = datetime.datetime.now()\n",
    "DD = datetime.timedelta(days=int(365 / 2))\n",
    "crop_date = cur_date - DD\n",
    "cur_date_y = crop_date.strftime(\"%Y\")\n",
    "cur_date_m = crop_date.strftime(\"%m\")\n",
    "cur_date_d = crop_date.strftime(\"%d\")\n",
    "cur_date_y, cur_date_m, cur_date_d"
   ]
  },
  {
   "cell_type": "code",
   "execution_count": null,
   "metadata": {},
   "outputs": [],
   "source": [
    "cur_date = datetime.datetime.now()\n",
    "cur_date"
   ]
  },
  {
   "cell_type": "code",
   "execution_count": null,
   "metadata": {},
   "outputs": [],
   "source": [
    "DD = datetime.timedelta(days=int(365/2))\n",
    "crop_date = cur_date - DD\n",
    "crop_date"
   ]
  },
  {
   "cell_type": "code",
   "execution_count": null,
   "metadata": {},
   "outputs": [],
   "source": [
    "#datetime.datetime.now().year\n",
    "datetime.datetime.now().strftime(\"%Y\")"
   ]
  },
  {
   "cell_type": "code",
   "execution_count": null,
   "metadata": {},
   "outputs": [],
   "source": [
    "#datetime.datetime.now().month\n",
    "datetime.datetime.now().strftime(\"%m\")"
   ]
  },
  {
   "cell_type": "code",
   "execution_count": null,
   "metadata": {},
   "outputs": [],
   "source": [
    "cur_date = datetime.datetime.strptime(\"2021-04-12T07:00:00Z\",\"%Y-%m-%dT%H:%M:%SZ\")\n",
    "DD = datetime.timedelta(days=int(365 / 2))\n",
    "crop_date = cur_date - DD\n",
    "#datetime.datetime.strptime(str(datetime.datetime.now()),\"%m\")\n",
    "crop_date"
   ]
  },
  {
   "cell_type": "code",
   "execution_count": null,
   "metadata": {},
   "outputs": [],
   "source": [
    "#datetime.datetime.now().day\n",
    "datetime.datetime.now().strftime(\"%d\")"
   ]
  },
  {
   "cell_type": "code",
   "execution_count": null,
   "metadata": {},
   "outputs": [],
   "source": [
    "import pandas as pd\n",
    "from init_server import stt_server\n",
    "from deeppavlov import build_model, configs\n",
    "import numpy as np"
   ]
  },
  {
   "cell_type": "code",
   "execution_count": null,
   "metadata": {},
   "outputs": [],
   "source": [
    "BATCH_SIZE = 3"
   ]
  },
  {
   "cell_type": "code",
   "execution_count": null,
   "metadata": {},
   "outputs": [],
   "source": [
    "server_object = stt_server(0)"
   ]
  },
  {
   "cell_type": "code",
   "execution_count": null,
   "metadata": {},
   "outputs": [],
   "source": [
    "query = \"\"\"\n",
    "    select top \"\"\"+str(BATCH_SIZE)+\"\"\" \n",
    "    id,\n",
    "    text,\n",
    "    sentiment\n",
    "    from transcribations \n",
    "    where sentiment is NULL and text!=''\n",
    "    \"\"\""
   ]
  },
  {
   "cell_type": "code",
   "execution_count": null,
   "metadata": {},
   "outputs": [],
   "source": [
    "df = pd.read_sql(query, server_object.conn)"
   ]
  },
  {
   "cell_type": "markdown",
   "metadata": {},
   "source": [
    "model = build_model(configs.classifiers.rusentiment_bert, download=True) #download first time\n",
    "res = model(df.text)\n",
    "df['sentiment'] = model(df.text)"
   ]
  },
  {
   "cell_type": "code",
   "execution_count": null,
   "metadata": {},
   "outputs": [],
   "source": [
    "print(df)"
   ]
  },
  {
   "cell_type": "code",
   "execution_count": null,
   "metadata": {},
   "outputs": [],
   "source": [
    "df['sentiment'] = ['neutral','negative','skip']"
   ]
  },
  {
   "cell_type": "code",
   "execution_count": null,
   "metadata": {},
   "outputs": [],
   "source": [
    "df"
   ]
  },
  {
   "cell_type": "code",
   "execution_count": null,
   "metadata": {},
   "outputs": [],
   "source": [
    "for index, row in df.iterrows():\n",
    "    print(index, row.id,row.sentiment)"
   ]
  },
  {
   "cell_type": "code",
   "execution_count": null,
   "metadata": {},
   "outputs": [],
   "source": [
    "for row in df.values:\n",
    "    print(row.sentiment)"
   ]
  },
  {
   "cell_type": "code",
   "execution_count": null,
   "metadata": {},
   "outputs": [],
   "source": [
    "for index, row in df.iterrows():\n",
    "    if row.sentiment == 'negative':\n",
    "        neg = 1\n",
    "        pos = 0\n",
    "    else:\n",
    "        neg = 0\n",
    "        pos = 1\n",
    "    query = \"update transcribations set \"\n",
    "    query += \"sentiment = '\"+row.sentiment+\"', \"\n",
    "    query += \"sentiment_neg = \"+str(neg)+\", \"\n",
    "    query += \"sentiment_pos = \"+str(pos)+\" \"\n",
    "    query += \"where id = \"+str(row.id)\n",
    "    break"
   ]
  },
  {
   "cell_type": "code",
   "execution_count": null,
   "metadata": {},
   "outputs": [],
   "source": [
    "query"
   ]
  },
  {
   "cell_type": "code",
   "execution_count": null,
   "metadata": {},
   "outputs": [],
   "source": [
    "df['sentiment_neg']=np.zeros(len(df))\n",
    "df['sentiment_pos']=np.zeros(len(df))"
   ]
  },
  {
   "cell_type": "code",
   "execution_count": null,
   "metadata": {},
   "outputs": [],
   "source": [
    "sentiments = pd.DataFrame(columns=['sentiment','sentiment_neg','sentiment_pos'])"
   ]
  },
  {
   "cell_type": "code",
   "execution_count": null,
   "metadata": {},
   "outputs": [],
   "source": [
    "sentiments = sentiments.append(pd.DataFrame({\n",
    "    'sentiment':\n",
    "        [\n",
    "            'negative',\n",
    "            'positive',\n",
    "            'neutral',\n",
    "            'speech',\n",
    "            'skip'\n",
    "        ],\n",
    "    'sentiment_neg':\n",
    "        [\n",
    "            1,0,0,0,0\n",
    "        ],\n",
    "    'sentiment_pos':\n",
    "        [\n",
    "            0,1,1,1,1\n",
    "        ]\n",
    "}))"
   ]
  },
  {
   "cell_type": "code",
   "execution_count": null,
   "metadata": {
    "scrolled": true
   },
   "outputs": [],
   "source": [
    "sentiments"
   ]
  },
  {
   "cell_type": "code",
   "execution_count": null,
   "metadata": {
    "scrolled": true
   },
   "outputs": [],
   "source": [
    "df"
   ]
  },
  {
   "cell_type": "code",
   "execution_count": null,
   "metadata": {},
   "outputs": [],
   "source": [
    "df[df.sentiment=='negative'].sentiment_neg=np.ones(len(df[df.sentiment=='negative']))"
   ]
  },
  {
   "cell_type": "code",
   "execution_count": null,
   "metadata": {},
   "outputs": [],
   "source": [
    "df[df.sentiment=='negative']"
   ]
  },
  {
   "cell_type": "code",
   "execution_count": null,
   "metadata": {},
   "outputs": [],
   "source": [
    "df[df.sentiment=='negative'].sentiment_neg=[1]"
   ]
  },
  {
   "cell_type": "code",
   "execution_count": null,
   "metadata": {},
   "outputs": [],
   "source": [
    "df[df.sentiment=='negative'].sentiment_neg"
   ]
  },
  {
   "cell_type": "code",
   "execution_count": null,
   "metadata": {},
   "outputs": [],
   "source": [
    "df.set_value[df.sentiment=='negative']['sentiment_neg']=np.ones(len(df[df.sentiment=='negative']))\n",
    "#df[df.sentiment!='negative']['sentiment_pos']=1\n",
    "#df.fillna(0)\n",
    "#df.set_value('C', 'x', 10)"
   ]
  },
  {
   "cell_type": "code",
   "execution_count": null,
   "metadata": {},
   "outputs": [],
   "source": [
    "df[df.sentiment=='negative']['sentiment_neg']"
   ]
  }
 ],
 "metadata": {
  "kernelspec": {
   "display_name": "Python 3",
   "language": "python",
   "name": "python3"
  },
  "language_info": {
   "codemirror_mode": {
    "name": "ipython",
    "version": 3
   },
   "file_extension": ".py",
   "mimetype": "text/x-python",
   "name": "python",
   "nbconvert_exporter": "python",
   "pygments_lexer": "ipython3",
   "version": "3.7.6"
  }
 },
 "nbformat": 4,
 "nbformat_minor": 4
}
