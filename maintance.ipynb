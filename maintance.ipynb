{
 "cells": [
  {
   "cell_type": "markdown",
   "metadata": {},
   "source": [
    "# read files"
   ]
  },
  {
   "cell_type": "code",
   "execution_count": 1,
   "metadata": {},
   "outputs": [],
   "source": [
    "import pymssql\n",
    "import pymysql as mysql\n",
    "import os\n",
    "import re\n",
    "import pandas as pd\n",
    "import datetime"
   ]
  },
  {
   "cell_type": "code",
   "execution_count": 11,
   "metadata": {},
   "outputs": [],
   "source": [
    "class stt_server:\n",
    "\n",
    "    def __init__(self, cpu_id):\n",
    "\n",
    "        # settings ++\n",
    "        self.cpu_id = cpu_id\n",
    "        self.cpu_cores = [i for i in range(0,15)]\n",
    "\n",
    "        # ms sql\n",
    "        self.sql_name = 'voice_ai'\n",
    "        self.sql_server = '10.2.4.124'\n",
    "        self.sql_login = 'ICECORP\\\\1c_sql'\n",
    "\n",
    "        # mysql\n",
    "        self.mysql_name = {\n",
    "            1: 'MICO_96',\n",
    "            2: 'asterisk',\n",
    "        }\n",
    "        self.mysql_server = '10.2.4.146'\n",
    "        self.mysql_login = 'asterisk'\n",
    "\n",
    "        self.script_path = '/home/alex/projects/call_centre_stt_server/'\n",
    "        self.model_path = '/home/alex/projects/vosk-api/python/example/model'\n",
    "        self.source_id = 0\n",
    "        self.sources = {\n",
    "            'call': 1,\n",
    "            'master': 2,\n",
    "        }\n",
    "        self.original_storage_path = {\n",
    "            #1: '/mnt/share/audio_call/',\n",
    "            #2: '/mnt/share/audio_master/REC_IN_OUT/',\n",
    "            1: '/mnt/share/audio/MSK_SRVCALL/RX_TX/',\n",
    "            2: '/mnt/share/audio/MSK_SRVCALL/REC_IN_OUT/'\n",
    "        }\n",
    "        \"\"\"self.original_storage_prefix = {\n",
    "            1: 'RXTX_',\n",
    "            2: '',\n",
    "        }\"\"\"\n",
    "        self.temp_file_path = self.script_path+'files/'\n",
    "        # settings --\n",
    "\n",
    "        self.temp_file_name = ''\n",
    "        self.original_file_path = ''\n",
    "        #self.original_file_name = ''\n",
    "        self.original_file_duration\t= 0\n",
    "        self.date_y = ''\n",
    "        self.date_m = ''\n",
    "        self.date_d = ''\n",
    "        self.rec_date = ''\n",
    "\n",
    "        #store pass in file, to prevent pass publication on gitdelete_current_queue\n",
    "        with open(self.script_path+'sql.pass','r') as file:\n",
    "            self.sql_pass = file.read().replace('\\n', '')\n",
    "            file.close()\n",
    "\n",
    "        with open(self.script_path+'mysql.pass','r') as file:\n",
    "            self.mysql_pass = file.read().replace('\\n', '')\n",
    "            file.close()\n",
    "\n",
    "        self.conn = self.connect_sql()\n",
    "        self.mysql_conn = {\n",
    "            1: self.connect_mysql(1),\n",
    "            2: self.connect_mysql(2),\n",
    "        }\n",
    "\n",
    "    def connect_sql(self):\n",
    "\n",
    "        return pymssql.connect(\n",
    "            server = self.sql_server,\n",
    "            user = self.sql_login,\n",
    "            password = self.sql_pass,\n",
    "            database = self.sql_name,\n",
    "            #autocommit=True\n",
    "        )\n",
    "\n",
    "    def connect_mysql(self, source_id):\n",
    "\n",
    "        return mysql.connect(\n",
    "            host = self.mysql_server, \n",
    "            user = self.mysql_login, \n",
    "            passwd = self.mysql_pass,\n",
    "            db = self.mysql_name[source_id],\n",
    "            #autocommit = True\n",
    "        )\n",
    "\n",
    "    def get_fs_files_list(self, queue):\n",
    "        \n",
    "        fd_list = []\n",
    "\n",
    "        if self.source_id == self.sources['call']:\n",
    "            #print('call', len(queue), self.original_file_path)\n",
    "            for root, dirs, files in os.walk(self.original_storage_path[self.source_id]):\n",
    "                #find_files += [os.path.join(root, name) for name in files if name[-4:] == '.wav'] \n",
    "                for filename in files:\n",
    "                    if filename[-4:] == '.wav' and not filename in queue:\n",
    "                        rec_source_date = re.findall(r'\\d{4}-\\d{2}-\\d{2}-\\d{2}-\\d{2}-\\d{2}', filename)\n",
    "                        if len(rec_source_date) and len(rec_source_date[0]):\n",
    "                            rec_date = rec_source_date[0][:10] + ' ' + rec_source_date[0][11:].replace('-', ':')\n",
    "\n",
    "                            if len(re.findall(r'\\d{4}-\\d{2}-\\d{2} \\d{2}:\\d{2}:\\d{2}', rec_date)) == 0:\n",
    "                                rec_date = 'Null'\n",
    "                                print('0 Unable to extract date:', root, filename)\n",
    "\n",
    "                            date_string  = re.findall(r'\\d{4}-\\d{2}-\\d{2}', filename)\n",
    "                            if len(date_string):\n",
    "                                self.date_y = date_string[0][:4]\n",
    "                                self.date_m = date_string[0][5:-3]\n",
    "                                self.date_d = date_string[0][-2:]\n",
    "                                #print(date_y, date_m, date_d, filename)\n",
    "                                linkedid, dst, src = self.linkedid_by_filename(filename) # cycled query\n",
    "\n",
    "                                fd_list.append({\n",
    "                                    'filepath': root,\n",
    "                                    'filename': filename,\n",
    "                                    'rec_date': rec_date,\n",
    "                                    'src': src,\n",
    "                                    'dst': dst,\n",
    "                                    'linkedid': linkedid,\n",
    "                                })\n",
    "                        else:\n",
    "                            print('1 Unable to extract date:', root, filename)\n",
    "        \n",
    "        elif self.source_id == self.sources['master']:\n",
    "            files_list = []\n",
    "            for (dirpath, dirnames, filenames) in os.walk(self.original_storage_path[self.source_id]):\n",
    "                files_list.extend(filenames)\n",
    "                break\n",
    "\n",
    "            # get record date\n",
    "            for filename in files_list:\n",
    "                if not filename in queue:\n",
    "                    rec_date = 'Null'\n",
    "\n",
    "                    #elif self.source_id == self.sources['master']:\n",
    "                    uniqueid = re.findall(r'^\\d*.\\d*', filename)[0]\n",
    "                    cursor = self.mysql_conn[self.source_id].cursor()\n",
    "                    query = \"select calldate, src, dst from cdr where uniqueid = '\" + uniqueid + \"' limit 1;\"\n",
    "                    cursor.execute(query)  # cycled query\n",
    "                    src = ''\n",
    "                    dst = ''\n",
    "                    linkedid = uniqueid\n",
    "                    for row in cursor.fetchall():\n",
    "                        rec_date = str(row[0])\n",
    "                        src = str(row[1])\n",
    "                        dst = str(row[2])\n",
    "                    if len(re.findall(r'\\d{4}-\\d{2}-\\d{2} \\d{2}:\\d{2}:\\d{2}', rec_date)) == 0:\n",
    "                        rec_date = 'Null'\n",
    "                        print('Unable to extract date from filename', filename)\n",
    "\n",
    "                    fd_list.append({\n",
    "                        'filepath': self.original_storage_path[self.source_id],\n",
    "                        'filename': filename,\n",
    "                        'rec_date': rec_date,\n",
    "                        'src': src,\n",
    "                        'dst': dst,\n",
    "                        'linkedid': linkedid,\n",
    "                    })\n",
    "\n",
    "        df = pd.DataFrame(fd_list, columns = ['filepath', 'filename', 'rec_date', 'src', 'dst', 'linkedid'])\n",
    "        df.sort_values(['rec_date', 'filename'], ascending=True, inplace=True)\n",
    "\n",
    "        return df.values\n",
    "    \n",
    "    def get_sql_complete_files(self):\n",
    "\n",
    "        cursor = self.conn.cursor()\n",
    "        sql_query = \"select distinct filename from queue where\"\n",
    "        sql_query += \" source_id='\" + str(self.source_id) + \"'\"\n",
    "        sql_query += \" order by filename;\"\n",
    "        cursor.execute(sql_query)\n",
    "        complete_files = []\n",
    "        for row in cursor.fetchall():\n",
    "            complete_files.append(row[0])\n",
    "\n",
    "        return complete_files\n",
    "    \n",
    "    def get_source_id(self, source_name):\n",
    "        for source in self.sources.items():\n",
    "            if source[0] == source_name:\n",
    "                return source[1]\n",
    "        return 0\n",
    "    \n",
    "    def set_today_ymd(self):\n",
    "        self.date_y\t= datetime.datetime.today().strftime('%Y')\n",
    "        self.date_m\t= datetime.datetime.today().strftime('%m')\n",
    "        self.date_d\t= datetime.datetime.today().strftime('%d')\n",
    "        \n",
    "    def linkedid_by_filename(self, original_file_name):\n",
    "\n",
    "        filename = original_file_name.replace('rxtx.wav', '')\n",
    "\n",
    "        \n",
    "        #print('linkedid_by_filename', self.date_y, self.date_m, self.date_d, original_file_name)\n",
    "        \n",
    "        date_from = datetime.datetime(int(self.date_y), int(self.date_m), int(self.date_d))\n",
    "        date_toto = date_from+datetime.timedelta(days=1)\n",
    "        date_from = datetime.datetime.strptime(str(date_from), '%Y-%m-%d %H:%M:%S').strftime('%Y-%m-%dT%H:%M:%S')\n",
    "        date_toto = datetime.datetime.strptime(str(date_toto), '%Y-%m-%d %H:%M:%S').strftime('%Y-%m-%dT%H:%M:%S')\n",
    "\n",
    "        mysql_conn = self.connect_mysql(self.source_id)\n",
    "\n",
    "        with mysql_conn:\n",
    "        #with self.mysql_conn[self.source_id]:\n",
    "            query = \"\"\"\n",
    "            select \n",
    "                linkedid,\n",
    "                SUBSTRING(dstchannel, 5, 4),\n",
    "                src\n",
    "                from PT1C_cdr_MICO as PT1C_cdr_MICO\n",
    "                where \n",
    "                    calldate>'\"\"\"+date_from+\"\"\"' and \n",
    "                    calldate<'\"\"\"+date_toto+\"\"\"' and \n",
    "                    PT1C_cdr_MICO.recordingfile LIKE '%\"\"\"+filename+\"\"\"%' \n",
    "                    limit 1;\"\"\"\n",
    "\n",
    "            #cursor = mysql_conn[self.source_id].cursor()\n",
    "            cursor = mysql_conn.cursor()\n",
    "            cursor.execute(query)\n",
    "            for row in cursor.fetchall():\n",
    "                linkedid, dstchannel, src = row[0], row[1], row[2]\n",
    "                #print('linkedid, dstchannel', linkedid, dstchannel)\n",
    "                return linkedid, dstchannel, src\n",
    "        return '', '', ''"
   ]
  },
  {
   "cell_type": "markdown",
   "metadata": {},
   "source": [
    "filename = 'in_74954825630_2020-11-25-21-54-00rxtx.wav'\n",
    "date_string  = re.findall(r'\\d{4}-\\d{2}-\\d{2}', filename)\n",
    "if len(date_string):\n",
    "    date_y = date_string[0][:4]\n",
    "    date_m = date_string[0][5:-3]\n",
    "    date_d = date_string[0][-2:]\n",
    "date_y, date_m, date_d"
   ]
  },
  {
   "cell_type": "markdown",
   "metadata": {},
   "source": [
    "### file list 1"
   ]
  },
  {
   "cell_type": "code",
   "execution_count": 3,
   "metadata": {},
   "outputs": [],
   "source": [
    "server_object = stt_server(0)\n",
    "server_object.source_id = 1"
   ]
  },
  {
   "cell_type": "code",
   "execution_count": 4,
   "metadata": {},
   "outputs": [
    {
     "data": {
      "text/plain": [
       "450"
      ]
     },
     "execution_count": 4,
     "metadata": {},
     "output_type": "execute_result"
    }
   ],
   "source": [
    "complete_files = server_object.get_sql_complete_files()\n",
    "len(complete_files)"
   ]
  },
  {
   "cell_type": "code",
   "execution_count": 5,
   "metadata": {},
   "outputs": [
    {
     "data": {
      "text/plain": [
       "14240"
      ]
     },
     "execution_count": 5,
     "metadata": {},
     "output_type": "execute_result"
    }
   ],
   "source": [
    "new_files = server_object.get_fs_files_list(complete_files)\n",
    "len(new_files)"
   ]
  },
  {
   "cell_type": "code",
   "execution_count": 6,
   "metadata": {},
   "outputs": [
    {
     "data": {
      "text/plain": [
       "array(['/mnt/share/audio/MSK_SRVCALL/RX_TX/RXTX_2020-11/25',\n",
       "       'in_9670330468_2020-11-25-21-24-49rxtx.wav', '2020-11-25 21:24:49',\n",
       "       '9670330468', '5023', '1606328688.15369803'], dtype=object)"
      ]
     },
     "execution_count": 6,
     "metadata": {},
     "output_type": "execute_result"
    }
   ],
   "source": [
    "new_files[0]"
   ]
  },
  {
   "cell_type": "markdown",
   "metadata": {},
   "source": [
    "### file list 2"
   ]
  },
  {
   "cell_type": "code",
   "execution_count": 12,
   "metadata": {},
   "outputs": [],
   "source": [
    "server_object = stt_server(0)\n",
    "server_object.source_id = 2"
   ]
  },
  {
   "cell_type": "code",
   "execution_count": 13,
   "metadata": {},
   "outputs": [
    {
     "data": {
      "text/plain": [
       "2224"
      ]
     },
     "execution_count": 13,
     "metadata": {},
     "output_type": "execute_result"
    }
   ],
   "source": [
    "complete_files_2 = server_object.get_sql_complete_files()\n",
    "len(complete_files_2)"
   ]
  },
  {
   "cell_type": "code",
   "execution_count": 14,
   "metadata": {},
   "outputs": [
    {
     "name": "stdout",
     "output_type": "stream",
     "text": [
      "Unable to extract date from filename 1613546579.1710346-in.wav\n",
      "Unable to extract date from filename 1613546579.1710346-out.wav\n",
      "Unable to extract date from filename 1613546586.1710350-in.wav\n",
      "Unable to extract date from filename 1613546586.1710350-out.wav\n",
      "Unable to extract date from filename 1613546598.1710369-in.wav\n",
      "Unable to extract date from filename 1613546598.1710369-out.wav\n",
      "Unable to extract date from filename 1613546607.1710381-in.wav\n",
      "Unable to extract date from filename 1613546607.1710381-out.wav\n",
      "Unable to extract date from filename 1613546609.1710385-in.wav\n",
      "Unable to extract date from filename 1613546609.1710385-out.wav\n",
      "Unable to extract date from filename 1613546637.1710403-in.wav\n",
      "Unable to extract date from filename 1613546637.1710403-out.wav\n",
      "Unable to extract date from filename 1613546644.1710407-in.wav\n",
      "Unable to extract date from filename 1613546644.1710407-out.wav\n",
      "Unable to extract date from filename 1613546654.1710421-in.wav\n",
      "Unable to extract date from filename 1613546654.1710421-out.wav\n",
      "Unable to extract date from filename 1613546671.1710437-in.wav\n",
      "Unable to extract date from filename 1613546671.1710437-out.wav\n"
     ]
    },
    {
     "data": {
      "text/plain": [
       "43711"
      ]
     },
     "execution_count": 14,
     "metadata": {},
     "output_type": "execute_result"
    }
   ],
   "source": [
    "new_files_2 = server_object.get_fs_files_list(complete_files_2)\n",
    "len(new_files_2)"
   ]
  },
  {
   "cell_type": "code",
   "execution_count": 15,
   "metadata": {},
   "outputs": [
    {
     "data": {
      "text/plain": [
       "array(['/mnt/share/audio/MSK_SRVCALL/REC_IN_OUT/',\n",
       "       '1612424800.1439441-in.wav', '2021-02-04 10:46:40', '9647664004',\n",
       "       '989859259303', '1612424800.1439441'], dtype=object)"
      ]
     },
     "execution_count": 15,
     "metadata": {},
     "output_type": "execute_result"
    }
   ],
   "source": [
    "new_files_2[0]"
   ]
  },
  {
   "cell_type": "markdown",
   "metadata": {},
   "source": [
    "### next"
   ]
  },
  {
   "cell_type": "code",
   "execution_count": 32,
   "metadata": {},
   "outputs": [],
   "source": [
    "def find_files(catalog):\n",
    "    fd_list = []\n",
    "    for root, dirs, files in os.walk(catalog):        \n",
    "        #find_files += [os.path.join(root, name) for name in files if name[-4:] == '.wav'] \n",
    "        for filename in files:\n",
    "            if filename[-4:] == '.wav':\n",
    "                #print(filename)\n",
    "                rec_source_date = re.findall(r'\\d{4}-\\d{2}-\\d{2}-\\d{2}-\\d{2}-\\d{2}', filename)\n",
    "                if len(rec_source_date) and len(rec_source_date[0]):\n",
    "                    rec_date = rec_source_date[0][:10] + ' ' + rec_source_date[0][11:].replace('-', ':')\n",
    "                    \n",
    "                    if len(re.findall(r'\\d{4}-\\d{2}-\\d{2} \\d{2}:\\d{2}:\\d{2}', rec_date)) == 0:\n",
    "                        rec_date = 'Null'\n",
    "                        print('0 Unable to extract date:', root, filename)\n",
    "\n",
    "                    fd_list.append({\n",
    "                        'filepath': root,\n",
    "                        'filename': filename,\n",
    "                        'rec_date': rec_date\n",
    "                    })\n",
    "                else:\n",
    "                    print('1 Unable to extract date:', root, filename)\n",
    "    return fd_list"
   ]
  },
  {
   "cell_type": "code",
   "execution_count": 33,
   "metadata": {},
   "outputs": [
    {
     "data": {
      "text/plain": [
       "(13398,\n",
       " {'filepath': '/mnt/share/audio/MSK_SRVCALL/RX_TX/RXTX_2020-11/25',\n",
       "  'filename': 'in_74954825630_2020-11-25-21-54-00rxtx.wav',\n",
       "  'rec_date': '2020-11-25 21:54:00'})"
      ]
     },
     "execution_count": 33,
     "metadata": {},
     "output_type": "execute_result"
    }
   ],
   "source": [
    "fs_list = find_files(server_object.original_storage_path[server_object.source_id])\n",
    "len(fs_list), fs_list[0]"
   ]
  },
  {
   "cell_type": "markdown",
   "metadata": {},
   "source": [
    "### remove complete files"
   ]
  },
  {
   "cell_type": "code",
   "execution_count": 32,
   "metadata": {},
   "outputs": [
    {
     "data": {
      "text/plain": [
       "(279736,\n",
       " {'filename': 'in_4953894961_2021-01-13-19-00-39rxtx.wav',\n",
       "  'date_y': '2021',\n",
       "  'date_m': '01',\n",
       "  'date_d': '13'})"
      ]
     },
     "execution_count": 32,
     "metadata": {},
     "output_type": "execute_result"
    }
   ],
   "source": [
    "transcribed = []\n",
    "server_object = stt_server(0)\n",
    "server_object.source_id = 1\n",
    "cursor = server_object.conn.cursor()\n",
    "sql_query = \"select distinct audio_file_name as filename, date_y, date_m, date_d\"\n",
    "sql_query += \" from transcribations where source_id=1;\"\n",
    "cursor.execute(sql_query)\n",
    "for row in cursor.fetchall():\n",
    "    transcribed.append({\n",
    "                'filename': row[0],\n",
    "                'date_y': row[1],\n",
    "                'date_m': row[2],\n",
    "                'date_d': row[3],\n",
    "            })\n",
    "len(transcribed), transcribed[0]"
   ]
  },
  {
   "cell_type": "code",
   "execution_count": 37,
   "metadata": {},
   "outputs": [
    {
     "data": {
      "text/plain": [
       "(True,\n",
       " '/mnt/share/audio/MSK_SRVCALL/RX_TX/RXTX_2021-01/13/in_4953894961_2021-01-13-19-00-39rxtx.wav')"
      ]
     },
     "execution_count": 37,
     "metadata": {},
     "output_type": "execute_result"
    }
   ],
   "source": [
    "full_path = server_object.original_storage_path[1]\n",
    "full_path += 'RXTX_' + transcribed[0]['date_y']\n",
    "full_path += '-' + transcribed[0]['date_m'] + '/'\n",
    "full_path += transcribed[0]['date_d'] + '/'\n",
    "full_path += transcribed[0]['filename']\n",
    "os.path.isfile(full_path), full_path"
   ]
  },
  {
   "cell_type": "markdown",
   "metadata": {},
   "source": [
    "# end"
   ]
  },
  {
   "cell_type": "code",
   "execution_count": null,
   "metadata": {},
   "outputs": [],
   "source": [
    "server_object = stt_server(0)\n",
    "server_object.set_today_ymd()\n",
    "for source_id in server_object.sources: # ['call', 'master']\n",
    "    #server_object.source_id = server_object.sources['call']\n",
    "    server_object.source_id = server_object.get_source_id(source_id)\n",
    "    complete_files\t= server_object.get_sql_complete_files()\n",
    "    incomplete_count = 0\n",
    "    complete_count = 0\n",
    "    print('server_object.source_id', server_object.source_id)\n",
    "    for filename, rec_date in server_object.get_fs_files_list():\n",
    "        print(filename, rec_date)\n",
    "    break"
   ]
  },
  {
   "cell_type": "code",
   "execution_count": null,
   "metadata": {},
   "outputs": [],
   "source": [
    "complete_files"
   ]
  },
  {
   "cell_type": "code",
   "execution_count": 20,
   "metadata": {},
   "outputs": [
    {
     "data": {
      "text/plain": [
       "44452"
      ]
     },
     "execution_count": 20,
     "metadata": {},
     "output_type": "execute_result"
    }
   ],
   "source": [
    "server_object = stt_server(0)\n",
    "server_object.source_id = 2\n",
    "fd_list = server_object.get_fs_files_list()\n",
    "len(fd_list)"
   ]
  },
  {
   "cell_type": "code",
   "execution_count": 17,
   "metadata": {},
   "outputs": [
    {
     "data": {
      "text/plain": [
       "array(['2021-02-04 10:46:40', '1612424800.1439441-in.wav'], dtype=object)"
      ]
     },
     "execution_count": 17,
     "metadata": {},
     "output_type": "execute_result"
    }
   ],
   "source": [
    "fd_list[0]"
   ]
  },
  {
   "cell_type": "code",
   "execution_count": null,
   "metadata": {},
   "outputs": [],
   "source": [
    "df = pd.DataFrame(fd_list)\n",
    "df.sort_values(['rec_date', 'filename'], ascending=False, inplace=True)"
   ]
  },
  {
   "cell_type": "code",
   "execution_count": null,
   "metadata": {},
   "outputs": [],
   "source": [
    "#df[df.rec_date=='Null']\n",
    "for f,d in df.values:\n",
    "    print(f,d)\n",
    "    break"
   ]
  },
  {
   "cell_type": "code",
   "execution_count": null,
   "metadata": {},
   "outputs": [],
   "source": [
    "filename = '1612946589.1564912-in.wav'\n",
    "uniqueid = re.findall(r'^\\d*.\\d*', filename)[0]\n",
    "uniqueid"
   ]
  },
  {
   "cell_type": "code",
   "execution_count": 44,
   "metadata": {},
   "outputs": [
    {
     "name": "stdout",
     "output_type": "stream",
     "text": [
      "2021-02-04 11:36:33\n"
     ]
    }
   ],
   "source": [
    "cursor = server_object.mysql_conn[server_object.source_id].cursor()\n",
    "query = \"select calldate from cdr where uniqueid = '\"+uniqueid+\"' limit 1;\"\n",
    "cursor.execute(query)\n",
    "for row in cursor.fetchall():\n",
    "    #rec_date = str(row[0])\n",
    "    print(row[0])"
   ]
  },
  {
   "cell_type": "code",
   "execution_count": null,
   "metadata": {},
   "outputs": [],
   "source": [
    "def get_source_id(source_name):\n",
    "    for source in server_object.sources.items():\n",
    "        if source[0] == source_name:\n",
    "            return source[1]\n",
    "    return 0\n",
    "get_source_id('master')"
   ]
  },
  {
   "cell_type": "code",
   "execution_count": null,
   "metadata": {},
   "outputs": [],
   "source": [
    "server_object.rec_date = 'Null'\n",
    "filename = 'in_4957237230_2021-02-10-07-16-03rxtx.wav'\n",
    "rec_source_date = re.findall(r'\\d{4}-\\d{2}-\\d{2}-\\d{2}-\\d{2}-\\d{2}', filename)[0]                \n",
    "if len(rec_source_date):\n",
    "    server_object.rec_date = rec_source_date[:10] + ' ' + rec_source_date[11:].replace('-', ':')\n",
    "if len(re.findall(r'\\d{4}-\\d{2}-\\d{2} \\d{2}:\\d{2}:\\d{2}', server_object.rec_date)) == 0:\n",
    "    print('Unable to extract date from filename', filename)\n",
    "server_object.rec_date"
   ]
  },
  {
   "cell_type": "code",
   "execution_count": null,
   "metadata": {},
   "outputs": [],
   "source": [
    "rec_source_date"
   ]
  },
  {
   "cell_type": "code",
   "execution_count": null,
   "metadata": {},
   "outputs": [],
   "source": [
    "server_object.rec_date"
   ]
  },
  {
   "cell_type": "code",
   "execution_count": null,
   "metadata": {},
   "outputs": [],
   "source": [
    "re.findall(r'\\d{4}-\\d{2}-\\d{2} \\d{2}:\\d{2}:\\d{2}', server_object.rec_date)"
   ]
  },
  {
   "cell_type": "code",
   "execution_count": null,
   "metadata": {},
   "outputs": [],
   "source": [
    "for source_id in server_object.sources:\n",
    "    print(get_source_id(source_id))"
   ]
  },
  {
   "cell_type": "code",
   "execution_count": null,
   "metadata": {},
   "outputs": [],
   "source": [
    "server_object = stt_server(0)\n",
    "server_object.source_id = 1"
   ]
  },
  {
   "cell_type": "code",
   "execution_count": null,
   "metadata": {},
   "outputs": [],
   "source": [
    "files = server_object.get_fs_files_list()\n",
    "len(files), files[0]"
   ]
  },
  {
   "cell_type": "code",
   "execution_count": null,
   "metadata": {},
   "outputs": [],
   "source": [
    "files"
   ]
  },
  {
   "cell_type": "code",
   "execution_count": null,
   "metadata": {},
   "outputs": [],
   "source": [
    "complete = server_object.get_sql_complete_files()\n",
    "len(complete)"
   ]
  },
  {
   "cell_type": "markdown",
   "metadata": {},
   "source": [
    "### transcribations show columns"
   ]
  },
  {
   "cell_type": "code",
   "execution_count": 37,
   "metadata": {},
   "outputs": [
    {
     "name": "stdout",
     "output_type": "stream",
     "text": [
      "('transcribation_date',)\n",
      "('date_y',)\n",
      "('date_m',)\n",
      "('date_d',)\n",
      "('side',)\n",
      "('text',)\n",
      "('start',)\n",
      "('audio_file_name',)\n",
      "('conf',)\n",
      "('end_time',)\n",
      "('sentiment',)\n",
      "('sentiment_pos',)\n",
      "('sentiment_neg',)\n",
      "('ID',)\n",
      "('linkedid',)\n",
      "('dst',)\n",
      "('record_date',)\n",
      "('source_id',)\n",
      "('src',)\n"
     ]
    }
   ],
   "source": [
    "cursor = server_object.conn.cursor()\n",
    "query = \"SELECT column_name FROM information_schema.columns WHERE table_name='transcribations';\"\n",
    "cursor.execute(query)\n",
    "for row in cursor.fetchall():\n",
    "        print(row)"
   ]
  },
  {
   "cell_type": "markdown",
   "metadata": {},
   "source": [
    "### check date cdr"
   ]
  },
  {
   "cell_type": "code",
   "execution_count": 48,
   "metadata": {},
   "outputs": [
    {
     "data": {
      "text/plain": [
       "'2021-02-11 12:16:12'"
      ]
     },
     "execution_count": 48,
     "metadata": {},
     "output_type": "execute_result"
    }
   ],
   "source": [
    "datetime.datetime.now().strftime('%Y-%m-%d %H:%M:%S')"
   ]
  },
  {
   "cell_type": "code",
   "execution_count": 46,
   "metadata": {},
   "outputs": [],
   "source": [
    "uniqueid = '1613032036.1593933'"
   ]
  },
  {
   "cell_type": "code",
   "execution_count": 47,
   "metadata": {},
   "outputs": [
    {
     "name": "stdout",
     "output_type": "stream",
     "text": [
      "2021-02-11 11:27:16\n"
     ]
    }
   ],
   "source": [
    "cursor = server_object.mysql_conn[server_object.source_id].cursor()\n",
    "query = \"select calldate from cdr where uniqueid = '\"+uniqueid+\"' limit 1;\"\n",
    "cursor.execute(query)\n",
    "for row in cursor.fetchall():\n",
    "    #rec_date = str(row[0])\n",
    "    print(row[0])"
   ]
  },
  {
   "cell_type": "markdown",
   "metadata": {},
   "source": [
    "### PT1C_cdr_MICO show columns"
   ]
  },
  {
   "cell_type": "code",
   "execution_count": 14,
   "metadata": {},
   "outputs": [
    {
     "name": "stdout",
     "output_type": "stream",
     "text": [
      "('id',)\n",
      "('calldate',)\n",
      "('clid',)\n",
      "('src',)\n",
      "('dst',)\n",
      "('dcontext',)\n",
      "('lastapp',)\n",
      "('lastdata',)\n",
      "('duration',)\n",
      "('billsec',)\n",
      "('disposition',)\n",
      "('channel',)\n",
      "('dstchannel',)\n",
      "('amaflags',)\n",
      "('accountcode',)\n",
      "('uniqueid',)\n",
      "('userfield',)\n",
      "('answer',)\n",
      "('end',)\n",
      "('recordingfile',)\n",
      "('peeraccount',)\n",
      "('linkedid',)\n",
      "('sequence',)\n"
     ]
    }
   ],
   "source": [
    "cursor = server_object.mysql_conn[1].cursor()\n",
    "query = \"SELECT column_name FROM information_schema.columns WHERE table_name='PT1C_cdr_MICO';\"\n",
    "cursor.execute(query)\n",
    "for row in cursor.fetchall():\n",
    "        print(row)"
   ]
  },
  {
   "cell_type": "markdown",
   "metadata": {},
   "source": [
    "### queue show columns"
   ]
  },
  {
   "cell_type": "code",
   "execution_count": 9,
   "metadata": {},
   "outputs": [
    {
     "name": "stdout",
     "output_type": "stream",
     "text": [
      "('date',)\n",
      "('cpu_id',)\n",
      "('filepath',)\n",
      "('date_y',)\n",
      "('date_m',)\n",
      "('date_d',)\n",
      "('filename',)\n",
      "('duration',)\n",
      "('record_date',)\n",
      "('source_id',)\n"
     ]
    }
   ],
   "source": [
    "cursor = server_object.conn.cursor()\n",
    "query = \"SELECT column_name FROM information_schema.columns WHERE table_name='queue';\"\n",
    "cursor.execute(query)\n",
    "for row in cursor.fetchall():\n",
    "        print(row)"
   ]
  },
  {
   "cell_type": "markdown",
   "metadata": {},
   "source": [
    "### transcribations show columns"
   ]
  },
  {
   "cell_type": "code",
   "execution_count": 12,
   "metadata": {},
   "outputs": [
    {
     "name": "stdout",
     "output_type": "stream",
     "text": [
      "('transcribation_date',)\n",
      "('date_y',)\n",
      "('date_m',)\n",
      "('date_d',)\n",
      "('side',)\n",
      "('text',)\n",
      "('start',)\n",
      "('audio_file_name',)\n",
      "('conf',)\n",
      "('end_time',)\n",
      "('sentiment',)\n",
      "('sentiment_pos',)\n",
      "('sentiment_neg',)\n",
      "('ID',)\n",
      "('linkedid',)\n",
      "('dst',)\n",
      "('record_date',)\n",
      "('source_id',)\n",
      "('src',)\n"
     ]
    }
   ],
   "source": [
    "cursor = server_object.conn.cursor()\n",
    "query = \"SELECT column_name FROM information_schema.columns WHERE table_name='transcribations';\"\n",
    "cursor.execute(query)\n",
    "for row in cursor.fetchall():\n",
    "        print(row)"
   ]
  },
  {
   "cell_type": "markdown",
   "metadata": {},
   "source": [
    "### get record date from cdr"
   ]
  },
  {
   "cell_type": "code",
   "execution_count": 6,
   "metadata": {},
   "outputs": [
    {
     "name": "stdout",
     "output_type": "stream",
     "text": [
      "('calldate',)\n",
      "('clid',)\n",
      "('src',)\n",
      "('dst',)\n",
      "('dcontext',)\n",
      "('channel',)\n",
      "('dstchannel',)\n",
      "('lastapp',)\n",
      "('lastdata',)\n",
      "('duration',)\n",
      "('billsec',)\n",
      "('disposition',)\n",
      "('amaflags',)\n",
      "('accountcode',)\n",
      "('uniqueid',)\n",
      "('userfield',)\n",
      "('did',)\n",
      "('recordingfile',)\n",
      "('calldate',)\n",
      "('clid',)\n",
      "('src',)\n",
      "('dst',)\n",
      "('dcontext',)\n",
      "('channel',)\n",
      "('dstchannel',)\n",
      "('lastapp',)\n",
      "('lastdata',)\n",
      "('duration',)\n",
      "('billsec',)\n",
      "('disposition',)\n",
      "('amaflags',)\n",
      "('accountcode',)\n",
      "('uniqueid',)\n",
      "('userfield',)\n",
      "('did',)\n",
      "('recordingfile',)\n",
      "('calldate',)\n",
      "('clid',)\n",
      "('src',)\n",
      "('dst',)\n",
      "('dcontext',)\n",
      "('channel',)\n",
      "('dstchannel',)\n",
      "('lastapp',)\n",
      "('lastdata',)\n",
      "('duration',)\n",
      "('billsec',)\n",
      "('disposition',)\n",
      "('amaflags',)\n",
      "('accountcode',)\n",
      "('uniqueid',)\n",
      "('userfield',)\n",
      "('did',)\n",
      "('recordingfile',)\n",
      "('id',)\n",
      "('calldate',)\n",
      "('clid',)\n",
      "('src',)\n",
      "('dst',)\n",
      "('dcontext',)\n",
      "('channel',)\n",
      "('dstchannel',)\n",
      "('lastapp',)\n",
      "('lastdata',)\n",
      "('duration',)\n",
      "('billsec',)\n",
      "('disposition',)\n",
      "('amaflags',)\n",
      "('accountcode',)\n",
      "('uniqueid',)\n",
      "('peeraccount',)\n",
      "('linkedid',)\n",
      "('sequence',)\n",
      "('userfield',)\n",
      "('calldate',)\n",
      "('clid',)\n",
      "('src',)\n",
      "('dst',)\n",
      "('dcontext',)\n",
      "('channel',)\n",
      "('dstchannel',)\n",
      "('lastapp',)\n",
      "('lastdata',)\n",
      "('duration',)\n",
      "('billsec',)\n",
      "('disposition',)\n",
      "('amaflags',)\n",
      "('accountcode',)\n",
      "('uniqueid',)\n",
      "('userfield',)\n",
      "('did',)\n",
      "('recordingfile',)\n",
      "('cnum',)\n",
      "('filename',)\n",
      "('cnam',)\n",
      "('outbound_cnum',)\n",
      "('outbound_cnam',)\n",
      "('dst_cnam',)\n",
      "('region',)\n",
      "('operator',)\n"
     ]
    }
   ],
   "source": [
    "cursor = server_object.mysql_conn[server_object.source_id].cursor()\n",
    "query = \"SELECT column_name FROM information_schema.columns WHERE table_name='cdr';\"\n",
    "cursor.execute(query)\n",
    "for row in cursor.fetchall():\n",
    "        print(row)"
   ]
  },
  {
   "cell_type": "code",
   "execution_count": 12,
   "metadata": {},
   "outputs": [
    {
     "name": "stdout",
     "output_type": "stream",
     "text": [
      "uniqueid 1612427793.1440877\n",
      "(datetime.datetime(2021, 2, 4, 11, 36, 33), '5113', '989533444853')\n"
     ]
    }
   ],
   "source": [
    "server_object.source_id = 2\n",
    "#server_object.original_file_name = '1612427793.1440877-in.wav'#files[0] #debug\n",
    "server_object.original_file_name = '1612427793.1440877-in.wav'#files[0] #debug\n",
    "uniqueid = re.findall(r'^\\d*.\\d*', server_object.original_file_name)[0]\n",
    "print('uniqueid', uniqueid)\n",
    "cursor = server_object.mysql_conn[server_object.source_id].cursor()\n",
    "#query = \"select src, dst from cdr where uniqueid = '\"+uniqueid+\"' limit 1;\"\n",
    "query = \"select calldate, src, dst from cdr where uniqueid = '\"+uniqueid+\"' limit 1;\"\n",
    "cursor.execute(query)\n",
    "for row in cursor.fetchall():\n",
    "    print(row)"
   ]
  },
  {
   "cell_type": "markdown",
   "metadata": {},
   "source": [
    "### insert into queue debug"
   ]
  },
  {
   "cell_type": "code",
   "execution_count": 100,
   "metadata": {},
   "outputs": [],
   "source": [
    "server_object = stt_server(0)\n",
    "sql_query = \"insert into transcribations( audio_file_name, transcribation_date, date_y, date_m, date_d, text, start, end_time, side, conf, linkedid, src, dst, record_date, source_id) values ( '1613048825.1603082-in.wav', '2021-02-11T16:51:28', '2021', '02', '11', 'аллё здравствуйте вячеслав мареку компании единственная служба сервиса звоню по вашему резюме на избита удобно сейчас разговаривать', '6.27', '15.6', '0', '0.8597108235294117', '1613048825.1603082', '', '','None' ,'2');\"\n",
    "#cursor = server_object.conn.cursor()\n",
    "#cursor.execute(sql_query)\n",
    "#server_object.conn.commit() # autocommit"
   ]
  },
  {
   "cell_type": "markdown",
   "metadata": {},
   "source": [
    "### delete from queue"
   ]
  },
  {
   "cell_type": "code",
   "execution_count": 30,
   "metadata": {},
   "outputs": [],
   "source": [
    "server_object = stt_server(0)\n",
    "#server_object.source_id = 1\n",
    "cursor = server_object.conn.cursor()\n",
    "#sql_query = \"delete from queue where source_id = 2;\"\n",
    "sql_query = \"delete from queue;\"\n",
    "cursor.execute(sql_query)\n",
    "server_object.conn.commit() # autocommit"
   ]
  },
  {
   "cell_type": "markdown",
   "metadata": {},
   "source": [
    "### select from queue"
   ]
  },
  {
   "cell_type": "code",
   "execution_count": 20,
   "metadata": {
    "scrolled": false
   },
   "outputs": [
    {
     "name": "stdout",
     "output_type": "stream",
     "text": [
      "# 1\n",
      "(datetime.datetime(2021, 2, 17, 12, 41, 47), 10, '/mnt/share/audio/MSK_SRVCALL/RX_TX/RXTX_2021-02/10', None, None, None, 'in_9155948611_2021-02-10-15-23-39rxtx.wav', 0.0, datetime.datetime(2021, 2, 10, 15, 23, 39), 1, '9155948611', '5018', '1612959817.1473645')\n",
      "# 2\n",
      "(datetime.datetime(2021, 2, 17, 13, 8, 38), 20, '/mnt/share/audio/MSK_SRVCALL/REC_IN_OUT/', None, None, None, '1612424800.1439441-in.wav', 83.24, datetime.datetime(2021, 2, 4, 10, 46, 40), 2, '9647664004', '989859259303', '1612424800.1439441')\n",
      "# count 1\n",
      "(15241,)\n",
      "# count 2\n",
      "(21946,)\n",
      "# cpus\n",
      "(30,)\n"
     ]
    }
   ],
   "source": [
    "server_object = stt_server(0)\n",
    "server_object.source_id = 2\n",
    "\n",
    "cursor = server_object.conn.cursor()\n",
    "#sql_query = \"select count(filename) from queue where source_id = '\"+str(server_object.source_id)+\"';\"\n",
    "#sql_query = \"select distinct cpu_id from queue where source_id = '\"+str(server_object.source_id)+\"';\"\n",
    "#sql_query = \"select filename, record_date, cpu_id, duration, source_id from queue \"\n",
    "#sql_query += \"where source_id='\" + str(server_object.source_id) + \"' \"\n",
    "#sql_query += \"where duration=60 \"\n",
    "#sql_query += \"order by record_date;\"\n",
    "\n",
    "print('# 1')\n",
    "sql_query = \"select top 1 * from queue \"\n",
    "sql_query += \"where source_id='1';\"\n",
    "#sql_query += \"limit 1;\"\n",
    "cursor.execute(sql_query)\n",
    "for row in cursor.fetchall():\n",
    "    #print(row[0], row[1], row[2], row[3])\n",
    "    print(row)\n",
    "\n",
    "print('# 2')\n",
    "sql_query = \"select top 1 * from queue \"\n",
    "sql_query += \"where source_id='2' \"\n",
    "sql_query += \"order by record_date;\"\n",
    "#sql_query += \"limit 1;\"\n",
    "cursor.execute(sql_query)\n",
    "for row in cursor.fetchall():\n",
    "    #print(row[0], row[1], row[2], row[3])\n",
    "    print(row)\n",
    "    \n",
    "print('# count 1')\n",
    "sql_query = \"select count(filename) from queue where source_id = '1';\"\n",
    "#sql_query += \"limit 1;\"\n",
    "cursor.execute(sql_query)\n",
    "for row in cursor.fetchall():\n",
    "    #print(row[0], row[1], row[2], row[3])\n",
    "    print(row)\n",
    "    \n",
    "print('# count 2')\n",
    "sql_query = \"select count(filename) from queue where source_id = '2';\"\n",
    "#sql_query += \"limit 1;\"\n",
    "cursor.execute(sql_query)\n",
    "for row in cursor.fetchall():\n",
    "    #print(row[0], row[1], row[2], row[3])\n",
    "    print(row)\n",
    "    \n",
    "print('# cpus')\n",
    "sql_query = \"select distinct cpu_id from queue where cpu_id='30' order by cpu_id;\"\n",
    "cursor.execute(sql_query)\n",
    "for row in cursor.fetchall():\n",
    "    #print(row[0], row[1], row[2], row[3])\n",
    "    print(row)\n"
   ]
  },
  {
   "cell_type": "markdown",
   "metadata": {},
   "source": [
    "### call queue"
   ]
  },
  {
   "cell_type": "code",
   "execution_count": 40,
   "metadata": {},
   "outputs": [
    {
     "name": "stdout",
     "output_type": "stream",
     "text": [
      "(41725,)\n"
     ]
    }
   ],
   "source": [
    "server_object = stt_server(0)\n",
    "server_object.source_id = 1\n",
    "cursor = server_object.conn.cursor()\n",
    "#sql_query = \"select top 2 * from queue where source_id='1' and duration = 0;\"\n",
    "sql_query = \"select count(filename) from queue where source_id='2' and duration >5;\"\n",
    "cursor.execute(sql_query)\n",
    "for row in cursor.fetchall():    \n",
    "    print(row)"
   ]
  },
  {
   "cell_type": "markdown",
   "metadata": {},
   "source": [
    "### delete from transcribations"
   ]
  },
  {
   "cell_type": "code",
   "execution_count": 49,
   "metadata": {},
   "outputs": [],
   "source": [
    "cursor = server_object.conn.cursor()\n",
    "sql_query = \"delete from transcribations where source_id = '2';\"\n",
    "#cursor.execute(sql_query)\n",
    "#server_object.conn.commit() # autocommit"
   ]
  },
  {
   "cell_type": "markdown",
   "metadata": {},
   "source": [
    "### transcribed phrases"
   ]
  },
  {
   "cell_type": "code",
   "execution_count": 122,
   "metadata": {
    "scrolled": true
   },
   "outputs": [
    {
     "name": "stdout",
     "output_type": "stream",
     "text": [
      "('1612503468.1457247-in.wav', False, datetime.datetime(2021, 2, 5, 8, 37, 48))\n",
      "('1612503468.1457247-in.wav', True, datetime.datetime(2021, 2, 5, 8, 37, 48))\n",
      "('1612502951.1457175-in.wav', False, datetime.datetime(2021, 2, 5, 8, 29, 11))\n",
      "('1612502951.1457175-out.wav', True, datetime.datetime(2021, 2, 5, 8, 29, 11))\n"
     ]
    }
   ],
   "source": [
    "server_object = stt_server(0)\n",
    "server_object.source_id = 2\n",
    "\n",
    "cursor = server_object.conn.cursor()\n",
    "\n",
    "#sql_query = \"select audio_file_name, linkedid, record_date, start, side, text from transcribations where source_id = '2' order by record_date, start, side;\"\n",
    "sql_query = \"select top 4 audio_file_name, side, record_date from transcribations where source_id = '2' group by audio_file_name, side, record_date order by record_date desc;\"\n",
    "cursor.execute(sql_query)\n",
    "for row in cursor.fetchall():\n",
    "    print(row)"
   ]
  },
  {
   "cell_type": "code",
   "execution_count": 124,
   "metadata": {},
   "outputs": [
    {
     "name": "stdout",
     "output_type": "stream",
     "text": [
      "(0.09, True, 'и')\n",
      "(6.12, True, 'новации')\n",
      "(7.05, False, 'здравствуйте татьяна беспокоит скажите пожалуйста вы перераспределение присылайте сегодня да')\n",
      "(9.33, True, 'здравствуй черт')\n",
      "(12.69, True, 'да')\n",
      "(13.92, False, 'а вы не могли бы вычесть заявки бирюкова пятьдесят девятая в конце цифр')\n",
      "(19.78494, True, 'как она там по-арабски')\n",
      "(21.93, False, 'ну да ну да')\n",
      "(24.870641, True, 'выглядит заявок')\n",
      "(27.371929, True, 'одолели дальше обсудим')\n",
      "(29.04, False, 'пасибо')\n"
     ]
    }
   ],
   "source": [
    "cursor = server_object.conn.cursor()\n",
    "\n",
    "sql_query = \"select start, side, text from transcribations where linkedid = '1612502951.1457175' order by start, side;\"\n",
    "cursor.execute(sql_query)\n",
    "for row in cursor.fetchall():\n",
    "    print(row)"
   ]
  },
  {
   "cell_type": "code",
   "execution_count": 18,
   "metadata": {},
   "outputs": [
    {
     "data": {
      "text/plain": [
       "\"select * from queue where source_id='2' limit 1;\""
      ]
     },
     "execution_count": 18,
     "metadata": {},
     "output_type": "execute_result"
    }
   ],
   "source": [
    "sql_query"
   ]
  },
  {
   "cell_type": "code",
   "execution_count": null,
   "metadata": {},
   "outputs": [],
   "source": [
    "server_object.get_sql_complete_files()"
   ]
  },
  {
   "cell_type": "markdown",
   "metadata": {},
   "source": [
    "### select from transcribations"
   ]
  },
  {
   "cell_type": "code",
   "execution_count": 4,
   "metadata": {},
   "outputs": [
    {
     "name": "stdout",
     "output_type": "stream",
     "text": [
      "(datetime.datetime(2020, 10, 9, 8, 39, 8), '2020', '10', '09', True, '', 0.0, 'in_4957237230_2020-10-09-07-36-05rxtx.wav', None, None, None, None, None, 1, None, None, datetime.datetime(2020, 10, 9, 7, 36, 5), 1)\n"
     ]
    }
   ],
   "source": [
    "server_object = stt_server(0)\n",
    "#server_object.source_id = 1\n",
    "\n",
    "cursor = server_object.conn.cursor()\n",
    "sql_query = \"select top 1 * from transcribations;\"\n",
    "cursor.execute(sql_query)\n",
    "for row in cursor.fetchall():\n",
    "    print(row)"
   ]
  },
  {
   "cell_type": "markdown",
   "metadata": {},
   "source": [
    "# other"
   ]
  },
  {
   "cell_type": "code",
   "execution_count": null,
   "metadata": {},
   "outputs": [],
   "source": [
    "import datetime"
   ]
  },
  {
   "cell_type": "code",
   "execution_count": null,
   "metadata": {},
   "outputs": [],
   "source": [
    "cur_date = datetime.datetime.now()\n",
    "DD = datetime.timedelta(days=int(365 / 2))\n",
    "crop_date = cur_date - DD\n",
    "cur_date_y = crop_date.strftime(\"%Y\")\n",
    "cur_date_m = crop_date.strftime(\"%m\")\n",
    "cur_date_d = crop_date.strftime(\"%d\")\n",
    "cur_date_y, cur_date_m, cur_date_d"
   ]
  },
  {
   "cell_type": "code",
   "execution_count": null,
   "metadata": {},
   "outputs": [],
   "source": [
    "cur_date = datetime.datetime.now()\n",
    "cur_date"
   ]
  },
  {
   "cell_type": "code",
   "execution_count": null,
   "metadata": {},
   "outputs": [],
   "source": [
    "DD = datetime.timedelta(days=int(365/2))\n",
    "crop_date = cur_date - DD\n",
    "crop_date"
   ]
  },
  {
   "cell_type": "code",
   "execution_count": null,
   "metadata": {},
   "outputs": [],
   "source": [
    "#datetime.datetime.now().year\n",
    "datetime.datetime.now().strftime(\"%Y\")"
   ]
  },
  {
   "cell_type": "code",
   "execution_count": null,
   "metadata": {},
   "outputs": [],
   "source": [
    "#datetime.datetime.now().month\n",
    "datetime.datetime.now().strftime(\"%m\")"
   ]
  },
  {
   "cell_type": "code",
   "execution_count": null,
   "metadata": {},
   "outputs": [],
   "source": [
    "cur_date = datetime.datetime.strptime(\"2021-04-12T07:00:00Z\",\"%Y-%m-%dT%H:%M:%SZ\")\n",
    "DD = datetime.timedelta(days=int(365 / 2))\n",
    "crop_date = cur_date - DD\n",
    "#datetime.datetime.strptime(str(datetime.datetime.now()),\"%m\")\n",
    "crop_date"
   ]
  },
  {
   "cell_type": "code",
   "execution_count": null,
   "metadata": {},
   "outputs": [],
   "source": [
    "#datetime.datetime.now().day\n",
    "datetime.datetime.now().strftime(\"%d\")"
   ]
  },
  {
   "cell_type": "code",
   "execution_count": null,
   "metadata": {},
   "outputs": [],
   "source": [
    "import pandas as pd\n",
    "from init_server import stt_server\n",
    "from deeppavlov import build_model, configs\n",
    "import numpy as np"
   ]
  },
  {
   "cell_type": "code",
   "execution_count": null,
   "metadata": {},
   "outputs": [],
   "source": [
    "BATCH_SIZE = 3"
   ]
  },
  {
   "cell_type": "code",
   "execution_count": null,
   "metadata": {},
   "outputs": [],
   "source": [
    "server_object = stt_server(0)"
   ]
  },
  {
   "cell_type": "code",
   "execution_count": null,
   "metadata": {},
   "outputs": [],
   "source": [
    "query = \"\"\"\n",
    "    select top \"\"\"+str(BATCH_SIZE)+\"\"\" \n",
    "    id,\n",
    "    text,\n",
    "    sentiment\n",
    "    from transcribations \n",
    "    where sentiment is NULL and text!=''\n",
    "    \"\"\""
   ]
  },
  {
   "cell_type": "code",
   "execution_count": null,
   "metadata": {},
   "outputs": [],
   "source": [
    "df = pd.read_sql(query, server_object.conn)"
   ]
  },
  {
   "cell_type": "markdown",
   "metadata": {},
   "source": [
    "model = build_model(configs.classifiers.rusentiment_bert, download=True) #download first time\n",
    "res = model(df.text)\n",
    "df['sentiment'] = model(df.text)"
   ]
  },
  {
   "cell_type": "code",
   "execution_count": null,
   "metadata": {},
   "outputs": [],
   "source": [
    "print(df)"
   ]
  },
  {
   "cell_type": "code",
   "execution_count": null,
   "metadata": {},
   "outputs": [],
   "source": [
    "df['sentiment'] = ['neutral','negative','skip']"
   ]
  },
  {
   "cell_type": "code",
   "execution_count": null,
   "metadata": {},
   "outputs": [],
   "source": [
    "df"
   ]
  },
  {
   "cell_type": "code",
   "execution_count": null,
   "metadata": {},
   "outputs": [],
   "source": [
    "for index, row in df.iterrows():\n",
    "    print(index, row.id,row.sentiment)"
   ]
  },
  {
   "cell_type": "code",
   "execution_count": null,
   "metadata": {},
   "outputs": [],
   "source": [
    "for row in df.values:\n",
    "    print(row.sentiment)"
   ]
  },
  {
   "cell_type": "code",
   "execution_count": null,
   "metadata": {},
   "outputs": [],
   "source": [
    "for index, row in df.iterrows():\n",
    "    if row.sentiment == 'negative':\n",
    "        neg = 1\n",
    "        pos = 0\n",
    "    else:\n",
    "        neg = 0\n",
    "        pos = 1\n",
    "    query = \"update transcribations set \"\n",
    "    query += \"sentiment = '\"+row.sentiment+\"', \"\n",
    "    query += \"sentiment_neg = \"+str(neg)+\", \"\n",
    "    query += \"sentiment_pos = \"+str(pos)+\" \"\n",
    "    query += \"where id = \"+str(row.id)\n",
    "    break"
   ]
  },
  {
   "cell_type": "code",
   "execution_count": null,
   "metadata": {},
   "outputs": [],
   "source": [
    "query"
   ]
  },
  {
   "cell_type": "code",
   "execution_count": null,
   "metadata": {},
   "outputs": [],
   "source": [
    "df['sentiment_neg']=np.zeros(len(df))\n",
    "df['sentiment_pos']=np.zeros(len(df))"
   ]
  },
  {
   "cell_type": "code",
   "execution_count": null,
   "metadata": {},
   "outputs": [],
   "source": [
    "sentiments = pd.DataFrame(columns=['sentiment','sentiment_neg','sentiment_pos'])"
   ]
  },
  {
   "cell_type": "code",
   "execution_count": null,
   "metadata": {},
   "outputs": [],
   "source": [
    "sentiments = sentiments.append(pd.DataFrame({\n",
    "    'sentiment':\n",
    "        [\n",
    "            'negative',\n",
    "            'positive',\n",
    "            'neutral',\n",
    "            'speech',\n",
    "            'skip'\n",
    "        ],\n",
    "    'sentiment_neg':\n",
    "        [\n",
    "            1,0,0,0,0\n",
    "        ],\n",
    "    'sentiment_pos':\n",
    "        [\n",
    "            0,1,1,1,1\n",
    "        ]\n",
    "}))"
   ]
  },
  {
   "cell_type": "code",
   "execution_count": null,
   "metadata": {
    "scrolled": true
   },
   "outputs": [],
   "source": [
    "sentiments"
   ]
  },
  {
   "cell_type": "code",
   "execution_count": null,
   "metadata": {
    "scrolled": true
   },
   "outputs": [],
   "source": [
    "df"
   ]
  },
  {
   "cell_type": "code",
   "execution_count": null,
   "metadata": {},
   "outputs": [],
   "source": [
    "df[df.sentiment=='negative'].sentiment_neg=np.ones(len(df[df.sentiment=='negative']))"
   ]
  },
  {
   "cell_type": "code",
   "execution_count": null,
   "metadata": {},
   "outputs": [],
   "source": [
    "df[df.sentiment=='negative']"
   ]
  },
  {
   "cell_type": "code",
   "execution_count": null,
   "metadata": {},
   "outputs": [],
   "source": [
    "df[df.sentiment=='negative'].sentiment_neg=[1]"
   ]
  },
  {
   "cell_type": "code",
   "execution_count": null,
   "metadata": {},
   "outputs": [],
   "source": [
    "df[df.sentiment=='negative'].sentiment_neg"
   ]
  },
  {
   "cell_type": "code",
   "execution_count": null,
   "metadata": {},
   "outputs": [],
   "source": [
    "df.set_value[df.sentiment=='negative']['sentiment_neg']=np.ones(len(df[df.sentiment=='negative']))\n",
    "#df[df.sentiment!='negative']['sentiment_pos']=1\n",
    "#df.fillna(0)\n",
    "#df.set_value('C', 'x', 10)"
   ]
  },
  {
   "cell_type": "code",
   "execution_count": null,
   "metadata": {},
   "outputs": [],
   "source": [
    "df[df.sentiment=='negative']['sentiment_neg']"
   ]
  }
 ],
 "metadata": {
  "kernelspec": {
   "display_name": "Python 3",
   "language": "python",
   "name": "python3"
  },
  "language_info": {
   "codemirror_mode": {
    "name": "ipython",
    "version": 3
   },
   "file_extension": ".py",
   "mimetype": "text/x-python",
   "name": "python",
   "nbconvert_exporter": "python",
   "pygments_lexer": "ipython3",
   "version": "3.7.6"
  }
 },
 "nbformat": 4,
 "nbformat_minor": 4
}
