{
 "cells": [
  {
   "cell_type": "markdown",
   "metadata": {},
   "source": [
    "# read files"
   ]
  },
  {
   "cell_type": "code",
   "execution_count": 1,
   "metadata": {},
   "outputs": [],
   "source": [
    "import pymssql\n",
    "import pymysql as mysql\n",
    "import os\n",
    "import re\n",
    "import pandas as pd\n",
    "import datetime\n",
    "import requests\n",
    "import pendulum"
   ]
  },
  {
   "cell_type": "code",
   "execution_count": 2,
   "metadata": {},
   "outputs": [],
   "source": [
    "class stt_server:\n",
    "\n",
    "    def __init__(self, cpu_id):\n",
    "\n",
    "        # settings ++\n",
    "        self.cpu_id = cpu_id\n",
    "        self.cpu_cores = [i for i in range(0,15)]\n",
    "\n",
    "        # ms sql\n",
    "        self.sql_name = 'voice_ai'\n",
    "        self.sql_server = '10.2.4.124'\n",
    "        self.sql_login = 'ICECORP\\\\1c_sql'\n",
    "\n",
    "        # mysql\n",
    "        self.mysql_name = {\n",
    "            1: 'MICO_96',\n",
    "            2: 'asterisk',\n",
    "        }\n",
    "        self.mysql_server = '10.2.4.146'\n",
    "        self.mysql_login = 'asterisk'\n",
    "\n",
    "        self.script_path = '/home/alex/projects/call_centre_stt_server/'\n",
    "        self.model_path = '/home/alex/projects/vosk-api/python/example/model'\n",
    "        self.source_id = 0\n",
    "        self.sources = {\n",
    "            'call': 1,\n",
    "            'master': 2,\n",
    "        }\n",
    "        self.original_storage_path = {\n",
    "            1: '/mnt/share/audio/MSK_SRVCALL/RX_TX/',\n",
    "            2: '/mnt/share/audio/MSK_SRVCALL/REC_IN_OUT/'\n",
    "        }\n",
    "        self.temp_file_path = self.script_path+'files/'\n",
    "        # settings --\n",
    "\n",
    "        self.temp_file_name = ''\n",
    "        self.original_file_path = ''\n",
    "        self.original_file_duration\t= 0\n",
    "        self.date_y = ''\n",
    "        self.date_m = ''\n",
    "        self.date_d = ''\n",
    "        self.rec_date = ''\n",
    "\n",
    "        #store pass in file, to prevent pass publication on gitdelete_current_queue\n",
    "        with open(self.script_path+'sql.pass','r') as file:\n",
    "            self.sql_pass = file.read().replace('\\n', '')\n",
    "            file.close()\n",
    "\n",
    "        with open(self.script_path+'mysql.pass','r') as file:\n",
    "            self.mysql_pass = file.read().replace('\\n', '')\n",
    "            file.close()\n",
    "\n",
    "        self.conn = self.connect_sql()\n",
    "        self.mysql_conn = {\n",
    "            1: self.connect_mysql(1),\n",
    "            2: self.connect_mysql(2),\n",
    "        }\n",
    "        \n",
    "    def perf_log(self, step, spent_time, duration, linkedid):\n",
    "        \n",
    "        current_date = datetime.datetime.now().strftime('%Y-%m-%d %H:%M:%S')\n",
    "        cursor = self.conn.cursor()\n",
    "        sql_query = \"insert into perf_log(event_date, step, time, cpu, file_name, duration, linkedid, source_id) \"\n",
    "        sql_query += \"values (\"\n",
    "        sql_query += \"'\" + current_date + \"', \"\n",
    "        sql_query += str(step) + \", \"\n",
    "        sql_query += str(spent_time) + \", \"\n",
    "        sql_query += str(self.cpu_id) + \", \"\n",
    "        sql_query += \"'\" + self.temp_file_name + \"', \"\n",
    "        sql_query += \"'\" + str(duration) + \"', \"\n",
    "        sql_query += \"'\" + str(linkedid) + \"', \"\n",
    "        sql_query += \"'\" + str(self.source_id) + \"');\"\n",
    "        print(sql_query)\n",
    "        cursor.execute(sql_query)\n",
    "        server_object.conn.commit()\n",
    "\n",
    "    def connect_sql(self):\n",
    "\n",
    "        return pymssql.connect(\n",
    "            server = self.sql_server,\n",
    "            user = self.sql_login,\n",
    "            password = self.sql_pass,\n",
    "            database = self.sql_name,\n",
    "            #autocommit=True\n",
    "        )\n",
    "\n",
    "    def connect_mysql(self, source_id):\n",
    "\n",
    "        return mysql.connect(\n",
    "            host = self.mysql_server, \n",
    "            user = self.mysql_login, \n",
    "            passwd = self.mysql_pass,\n",
    "            db = self.mysql_name[source_id],\n",
    "            #autocommit = True\n",
    "        )\n",
    "\n",
    "    def get_fs_files_list(self, queue):\n",
    "        \n",
    "        fd_list = []\n",
    "\n",
    "        if self.source_id == self.sources['call']:\n",
    "            #print('call', len(queue), self.original_file_path)\n",
    "            for root, dirs, files in os.walk(self.original_storage_path[self.source_id]):\n",
    "                #find_files += [os.path.join(root, name) for name in files if name[-4:] == '.wav'] \n",
    "                for filename in files:\n",
    "                    if filename[-4:] == '.wav' and not filename in queue:\n",
    "                        rec_source_date = re.findall(r'\\d{4}-\\d{2}-\\d{2}-\\d{2}-\\d{2}-\\d{2}', filename)\n",
    "                        if len(rec_source_date) and len(rec_source_date[0]):\n",
    "                            rec_date = rec_source_date[0][:10] + ' ' + rec_source_date[0][11:].replace('-', ':')\n",
    "\n",
    "                            if len(re.findall(r'\\d{4}-\\d{2}-\\d{2} \\d{2}:\\d{2}:\\d{2}', rec_date)) == 0:\n",
    "                                rec_date = 'Null'\n",
    "                                print('0 Unable to extract date:', root, filename)\n",
    "\n",
    "                            date_string  = re.findall(r'\\d{4}-\\d{2}-\\d{2}', filename)\n",
    "                            if len(date_string):\n",
    "                                self.date_y = date_string[0][:4]\n",
    "                                self.date_m = date_string[0][5:-3]\n",
    "                                self.date_d = date_string[0][-2:]\n",
    "                                #print(date_y, date_m, date_d, filename)\n",
    "                                linkedid, dst, src = self.linkedid_by_filename(filename) # cycled query\n",
    "\n",
    "                                fd_list.append({\n",
    "                                    'filepath': root,\n",
    "                                    'filename': filename,\n",
    "                                    'rec_date': rec_date,\n",
    "                                    'src': src,\n",
    "                                    'dst': dst,\n",
    "                                    'linkedid': linkedid,\n",
    "                                })\n",
    "                        else:\n",
    "                            print('1 Unable to extract date:', root, filename)\n",
    "        \n",
    "        elif self.source_id == self.sources['master']:\n",
    "            files_list = []\n",
    "            for (dirpath, dirnames, filenames) in os.walk(self.original_storage_path[self.source_id]):\n",
    "                files_list.extend(filenames)\n",
    "                break\n",
    "\n",
    "            # get record date\n",
    "            for filename in files_list:\n",
    "                if not filename in queue:\n",
    "                    rec_date = 'Null'\n",
    "\n",
    "                    #elif self.source_id == self.sources['master']:\n",
    "                    uniqueid = re.findall(r'^\\d*.\\d*', filename)[0]\n",
    "                    cursor = self.mysql_conn[self.source_id].cursor()\n",
    "                    query = \"select calldate, src, dst from cdr where uniqueid = '\" + uniqueid + \"' limit 1;\"\n",
    "                    cursor.execute(query)  # cycled query\n",
    "                    src = ''\n",
    "                    dst = ''\n",
    "                    linkedid = uniqueid\n",
    "                    for row in cursor.fetchall():\n",
    "                        rec_date = str(row[0])\n",
    "                        src = str(row[1])\n",
    "                        dst = str(row[2])\n",
    "                    if len(re.findall(r'\\d{4}-\\d{2}-\\d{2} \\d{2}:\\d{2}:\\d{2}', rec_date)) == 0:\n",
    "                        rec_date = 'Null'\n",
    "                        print('Unable to extract date from filename', filename)\n",
    "\n",
    "                    fd_list.append({\n",
    "                        'filepath': self.original_storage_path[self.source_id],\n",
    "                        'filename': filename,\n",
    "                        'rec_date': rec_date,\n",
    "                        'src': src,\n",
    "                        'dst': dst,\n",
    "                        'linkedid': linkedid,\n",
    "                    })\n",
    "\n",
    "        df = pd.DataFrame(fd_list, columns = ['filepath', 'filename', 'rec_date', 'src', 'dst', 'linkedid'])\n",
    "        df.sort_values(['rec_date', 'filename'], ascending=True, inplace=True)\n",
    "\n",
    "        return df.values\n",
    "    \n",
    "    def get_sql_complete_files(self):\n",
    "\n",
    "        cursor = self.conn.cursor()\n",
    "        sql_query = \"select distinct filename from queue where\"\n",
    "        sql_query += \" source_id='\" + str(self.source_id) + \"'\"\n",
    "        sql_query += \" order by filename;\"\n",
    "        cursor.execute(sql_query)\n",
    "        complete_files = []\n",
    "        for row in cursor.fetchall():\n",
    "            complete_files.append(row[0])\n",
    "\n",
    "        return complete_files\n",
    "    \n",
    "    def get_source_id(self, source_name):\n",
    "        for source in self.sources.items():\n",
    "            if source[0] == source_name:\n",
    "                return source[1]\n",
    "        return 0\n",
    "    \n",
    "    def set_today_ymd(self):\n",
    "        self.date_y\t= datetime.datetime.today().strftime('%Y')\n",
    "        self.date_m\t= datetime.datetime.today().strftime('%m')\n",
    "        self.date_d\t= datetime.datetime.today().strftime('%d')\n",
    "        \n",
    "    def linkedid_by_filename(self, original_file_name):\n",
    "\n",
    "        filename = original_file_name.replace('rxtx.wav', '')\n",
    "\n",
    "        \n",
    "        #print('linkedid_by_filename', self.date_y, self.date_m, self.date_d, original_file_name)\n",
    "        \n",
    "        date_from = datetime.datetime(int(self.date_y), int(self.date_m), int(self.date_d))\n",
    "        date_toto = date_from+datetime.timedelta(days=1)\n",
    "        date_from = datetime.datetime.strptime(str(date_from), '%Y-%m-%d %H:%M:%S').strftime('%Y-%m-%dT%H:%M:%S')\n",
    "        date_toto = datetime.datetime.strptime(str(date_toto), '%Y-%m-%d %H:%M:%S').strftime('%Y-%m-%dT%H:%M:%S')\n",
    "\n",
    "        mysql_conn = self.connect_mysql(self.source_id)\n",
    "\n",
    "        with mysql_conn:\n",
    "        #with self.mysql_conn[self.source_id]:\n",
    "            query = \"\"\"\n",
    "            select \n",
    "                linkedid,\n",
    "                SUBSTRING(dstchannel, 5, 4),\n",
    "                src\n",
    "                from PT1C_cdr_MICO as PT1C_cdr_MICO\n",
    "                where \n",
    "                    calldate>'\"\"\"+date_from+\"\"\"' and \n",
    "                    calldate<'\"\"\"+date_toto+\"\"\"' and \n",
    "                    PT1C_cdr_MICO.recordingfile LIKE '%\"\"\"+filename+\"\"\"%' \n",
    "                    limit 1;\"\"\"\n",
    "\n",
    "            #cursor = mysql_conn[self.source_id].cursor()\n",
    "            cursor = mysql_conn.cursor()\n",
    "            cursor.execute(query)\n",
    "            for row in cursor.fetchall():\n",
    "                linkedid, dstchannel, src = row[0], row[1], row[2]\n",
    "                #print('linkedid, dstchannel', linkedid, dstchannel)\n",
    "                return linkedid, dstchannel, src\n",
    "        return '', '', ''\n",
    "    \n",
    "    def get_fs_files_list(self, queue):\n",
    "\n",
    "        fd_list = []\n",
    "\n",
    "        if self.source_id == self.sources['call']:\n",
    "            for root, dirs, files in os.walk(self.original_storage_path[self.source_id]):\n",
    "                for filename in files:\n",
    "                    if filename[-4:] == '.wav' and not filename in queue:\n",
    "                        rec_source_date = re.findall(r'\\d{4}-\\d{2}-\\d{2}-\\d{2}-\\d{2}-\\d{2}', filename)\n",
    "                        if len(rec_source_date) and len(rec_source_date[0]):\n",
    "                            rec_date = rec_source_date[0][:10] + ' ' + rec_source_date[0][11:].replace('-', ':')\n",
    "\n",
    "                            if len(re.findall(r'\\d{4}-\\d{2}-\\d{2} \\d{2}:\\d{2}:\\d{2}', rec_date)) == 0:\n",
    "                                rec_date = 'Null'\n",
    "                                print('0 Unable to extract date:', root, filename)\n",
    "\n",
    "                            date_string = re.findall(r'\\d{4}-\\d{2}-\\d{2}', filename)\n",
    "                            if len(date_string):\n",
    "                                date_y = date_string[0][:4]\n",
    "                                date_m = date_string[0][5:-3]\n",
    "                                date_d = date_string[0][-2:]\n",
    "                                linkedid, dst, src = self.linkedid_by_filename(filename, date_y, date_m, date_d)  # cycled query\n",
    "\n",
    "                                fd_list.append({\n",
    "                                    'filepath': root+'/',\n",
    "                                    'filename': filename,\n",
    "                                    'rec_date': rec_date,\n",
    "                                    'src': src,\n",
    "                                    'dst': dst,\n",
    "                                    'linkedid': linkedid,\n",
    "                                })\n",
    "                        else:\n",
    "                            print('1 Unable to extract date:', root, filename)\n",
    "                # break # ToDo: remove\n",
    "\n",
    "        elif self.source_id == self.sources['master']:\n",
    "            #print('d1 master')\n",
    "            files_list = []\n",
    "            for (dirpath, dirnames, filenames) in os.walk(self.original_storage_path[self.source_id]):\n",
    "                files_list.extend(filenames)\n",
    "                \n",
    "            #print('d2 os.walk')\n",
    "            # get record date\n",
    "            files_extracted = 0\n",
    "            files_withoud_cdr_data = 0\n",
    "            for filename in files_list:\n",
    "                if not filename in queue:\n",
    "                    rec_date = 'Null'\n",
    "                    uniqueid = re.findall(r'^\\d*.\\d*', filename)[0]\n",
    "                    cursor = self.mysql_conn[self.source_id].cursor()\n",
    "                    query = \"select calldate, src, dst from cdr where uniqueid = '\" + uniqueid + \"' limit 1;\"\n",
    "                    cursor.execute(query)  # cycled query\n",
    "                    src = ''\n",
    "                    dst = ''\n",
    "                    linkedid = uniqueid\n",
    "                    for row in cursor.fetchall():\n",
    "                        rec_date = str(row[0])\n",
    "                        src = str(row[1])\n",
    "                        dst = str(row[2])\n",
    "                    if len(re.findall(r'\\d{4}-\\d{2}-\\d{2} \\d{2}:\\d{2}:\\d{2}', rec_date)) == 0:\n",
    "                        rec_date = 'Null'\n",
    "                        #print('Unable to extract date from filename', filename)\n",
    "                        files_withoud_cdr_data += 1\n",
    "                        continue\n",
    "\n",
    "                    fd_list.append({\n",
    "                        'filepath': self.original_storage_path[self.source_id],\n",
    "                        'filename': filename,\n",
    "                        'rec_date': rec_date,\n",
    "                        'src': src,\n",
    "                        'dst': dst,\n",
    "                        'linkedid': linkedid,\n",
    "                    })\n",
    "                    files_extracted += 1\n",
    "                    \n",
    "            print('master extracted:', files_extracted, 'without cdr data:', files_withoud_cdr_data)\n",
    "\n",
    "        df = pd.DataFrame(fd_list, columns=['filepath', 'filename', 'rec_date', 'src', 'dst', 'linkedid'])\n",
    "        df.sort_values(['rec_date', 'filename'], ascending=True, inplace=True)\n",
    "        \n",
    "        \n",
    "\n",
    "        return df.values"
   ]
  },
  {
   "cell_type": "markdown",
   "metadata": {},
   "source": [
    "### sorting fix"
   ]
  },
  {
   "cell_type": "code",
   "execution_count": 10,
   "metadata": {},
   "outputs": [
    {
     "name": "stdout",
     "output_type": "stream",
     "text": [
      "('/mnt/share/audio/MSK_SRVCALL/RX_TX/RXTX_2021-02/16/', 'in_9633201587_2021-02-16-07-04-00rxtx.wav', 101.26, 1, datetime.datetime(2021, 2, 16, 7, 4), '9633201587', '5072', '1613448239.1591526')\n",
      "('/mnt/share/audio/MSK_SRVCALL/RX_TX/RXTX_2021-02/16/', 'in_9295742822_2021-02-16-08-03-43rxtx.wav', 193.94, 1, datetime.datetime(2021, 2, 16, 8, 3, 43), '9295742822', '5020', '1613451821.1592006')\n",
      "('/mnt/share/audio/MSK_SRVCALL/RX_TX/RXTX_2021-02/16/', 'in_4957237230_2021-02-16-08-06-57rxtx.wav', 7.0, 1, datetime.datetime(2021, 2, 16, 8, 6, 57), '4957237230', '5075', '1613452015.1592078')\n"
     ]
    }
   ],
   "source": [
    "server_object = stt_server(0)\n",
    "server_object.source_id = 2\n",
    "cursor = server_object.conn.cursor()\n",
    "past_in_minutes = pendulum.now().add(minutes=-6).strftime('%Y-%m-%d %H:%M:%S')\n",
    "sql_query = \"select top 3 filepath, filename, duration, source_id, \"\n",
    "sql_query += \"record_date, src, dst, linkedid from queue \"\n",
    "sql_query += \"where cpu_id='\" + str(server_object.cpu_id) + \"' \"\n",
    "sql_query += \"and ( (source_id = '2' and record_date < '\" + past_in_minutes + \"') or not source_id = '2' ) \"\n",
    "sql_query += \"order by record_date, filename;\"\n",
    "cursor.execute(sql_query)\n",
    "for row in cursor.fetchall():\n",
    "    print(row)"
   ]
  },
  {
   "cell_type": "code",
   "execution_count": null,
   "metadata": {},
   "outputs": [],
   "source": []
  },
  {
   "cell_type": "markdown",
   "metadata": {},
   "source": [
    "### 1c - mrm relation"
   ]
  },
  {
   "cell_type": "code",
   "execution_count": 65,
   "metadata": {},
   "outputs": [],
   "source": [
    "server_object = stt_server(0)\n",
    "server_object.source_id = 2"
   ]
  },
  {
   "cell_type": "code",
   "execution_count": 66,
   "metadata": {},
   "outputs": [
    {
     "name": "stdout",
     "output_type": "stream",
     "text": [
      "('transcribation_date',)\n",
      "('date_y',)\n",
      "('date_m',)\n",
      "('date_d',)\n",
      "('side',)\n",
      "('text',)\n",
      "('start',)\n",
      "('audio_file_name',)\n",
      "('conf',)\n",
      "('end_time',)\n",
      "('sentiment',)\n",
      "('sentiment_pos',)\n",
      "('sentiment_neg',)\n",
      "('ID',)\n",
      "('linkedid',)\n",
      "('dst',)\n",
      "('record_date',)\n",
      "('source_id',)\n",
      "('src',)\n",
      "('cpu_id',)\n",
      "('duration',)\n"
     ]
    }
   ],
   "source": [
    "cursor = server_object.conn.cursor()\n",
    "query = \"SELECT column_name FROM information_schema.columns WHERE table_name='transcribations';\"\n",
    "cursor.execute(query)\n",
    "for row in cursor.fetchall():\n",
    "    print(row)"
   ]
  },
  {
   "cell_type": "code",
   "execution_count": 72,
   "metadata": {},
   "outputs": [
    {
     "name": "stdout",
     "output_type": "stream",
     "text": [
      "(10.920495, False, 'для бровей')\n",
      "(13.053334, False, 'мне владимир зовут мастер ремонт швейных машин и позовёшь получил')\n",
      "(17.82, False, 'вы в какой день хотели встретиться')\n",
      "(23.67, False, 'ну если можно завтра потому что сегодня день уже расписан')\n",
      "(27.27, False, 'по большей части')\n",
      "(31.47, False, 'так доктор тринадцатая')\n",
      "(35.673083, False, 'так')\n",
      "(39.63, False, 'ну где то сейчас с одиннадцати до часу')\n",
      "(44.79, False, 'я вам тогда заранее переживанию')\n",
      "(48.06, False, 'до свидания')\n",
      "(49.8, False, 'дара')\n",
      "(55.95, False, 'но у меня кое-что есть с собой там какие-то запчасти')\n",
      "(60.6, False, 'я тогда')\n",
      "(63.0, False, 'ну в общем я свяжусь с вами')\n",
      "(67.08, False, 'да')\n",
      "(69.071118, False, 'пока трудно сказать без первичного осмотра')\n",
      "(78.78, False, 'ну пределы пределы вы понимаете я могу назначить какие-то свои пределы вы скажете что у меня столько денег нет поэтому буду подстраиваться под вас')\n",
      "(92.52, False, 'все дозатор населения')\n"
     ]
    }
   ],
   "source": [
    "linkedid = '1615539298.2155707'\n",
    "cursor = server_object.conn.cursor()\n",
    "query = \"SELECT start, side, text from transcribations where linkedid = '\" + linkedid + \"' order by start;\"\n",
    "cursor.execute(query)\n",
    "for row in cursor.fetchall():\n",
    "    print(row)"
   ]
  },
  {
   "cell_type": "code",
   "execution_count": 77,
   "metadata": {},
   "outputs": [],
   "source": [
    "naufon = '1615538028.2112236'"
   ]
  },
  {
   "cell_type": "code",
   "execution_count": 78,
   "metadata": {},
   "outputs": [
    {
     "name": "stdout",
     "output_type": "stream",
     "text": [
      "(0.061393, True, 'и')\n",
      "(0.600222, False, 'это я тоже делаю на руках сейчас я попробую позвонить')\n",
      "(4.68, True, 'монтана оператора юлия слушаю вас')\n",
      "(7.11, False, 'здрасте скажите просто монтируется')\n",
      "(12.3, False, 'швейная машинка чайка сто сорок два эм электрическое')\n",
      "(16.07606, True, 'в москве проживает')\n",
      "(17.46, False, 'да да')\n",
      "(19.47, True, 'да ремонтируем')\n",
      "(21.93, True, 'звонок от мастера будет в ближайшее время то есть в ближайшее час примерно так чайка да она у вас какая неисправность')\n",
      "(27.36, False, 'да чай')\n",
      "(28.86, False, 'человек сто сорок два эм у нас')\n",
      "(31.98, False, 'вылетела вот штучка которая за натяжение нити отвечает')\n",
      "(37.95, True, 'она у вас электрическая или обычная электрическая')\n",
      "(39.84, False, 'электрическая электрическая')\n",
      "(43.148405, True, 'здесь')\n",
      "(48.27, True, 'получается петля и дана прыжке')\n",
      "(51.0, False, 'а')\n",
      "(51.69, True, 'петляет при шитье да раз натяжение нету')\n",
      "(54.36, False, 'она нет она просто оттуда вылетела просто невозможно даже ничего прошить')\n",
      "(58.47, True, 'а все поняла')\n",
      "(60.63, True, 'давайте я вас запишу звонок будет в течение часа с мастером обсудите и время и соответственно все что вас интересует и попробуйте')\n",
      "(67.56, False, 'хорошо он подать номер будете звонить')\n",
      "(69.99, True, 'вот сейчас я запишу какой номер пройдёт тот и будет как вас зовут')\n",
      "(72.51, False, 'а')\n",
      "(74.19, False, 'ирина')\n",
      "(75.75, True, 'ирина и надо ещё будет указать хотя бы улицу с номером домом ну и естесно контактный телефон то что мастера по районам работает чтобы мастеровой по вашему району')\n",
      "(82.71, False, 'филёвский бульвар')\n",
      "(84.72, True, 'филёвский бульвар дом')\n",
      "(86.13, False, 'дом семь корпуса один')\n",
      "(92.28, True, 'дом семь корпус один на метро ближайшая')\n",
      "(95.52, False, 'фили')\n",
      "(98.49, True, 'телефон ваш контактный')\n",
      "(100.65, False, 'девятьсот шесть')\n",
      "(103.14, False, 'семь два один')\n",
      "(104.52, True, 'семь два один')\n",
      "(105.99, False, 'один один пять пять')\n",
      "(108.45, True, 'так сверяем девятьсот шесть семь семьсот двадцать один один один пять пять москва филевский бульвар дом семь корпус')\n",
      "(115.68, True, 'один так сейчас секундочку я дальше все сделаю')\n",
      "(116.85, False, 'гм')\n",
      "(125.04, True, 'да')\n",
      "(125.456528, True, 'чайка')\n",
      "(130.56, True, 'так сломан натяжитель нити я правильно поняла')\n",
      "(133.35, False, 'да ну и что сейчас клеит чела не знаю что там может быть из-за этого')\n",
      "(140.67, True, 'может быть ожидайте пожалуйста в ближайший час звонок специалиста номер вашей заявки сто пятьдесят девять девяносто девять десять')\n",
      "(148.74, True, 'сто пятьдесят четыре девяносто судить необязательно к телефону к вашему заявку привязывается так что если неудобно не записывайте')\n",
      "(149.19, False, 'а у многол')\n",
      "(153.93, False, 'а')\n",
      "(155.34, False, 'хорошо')\n",
      "(156.3, True, 'всего добро до свидания')\n",
      "(157.23, False, 'спасибо большое')\n",
      "(158.28, True, 'да место')\n"
     ]
    }
   ],
   "source": [
    "cursor = server_object.conn.cursor()\n",
    "query = \"SELECT start, side, text from transcribations where linkedid = '\" + naufon + \"' order by start;\"\n",
    "cursor.execute(query)\n",
    "for row in cursor.fetchall():\n",
    "    print(row)"
   ]
  },
  {
   "cell_type": "code",
   "execution_count": 76,
   "metadata": {},
   "outputs": [
    {
     "name": "stdout",
     "output_type": "stream",
     "text": [
      "('1615539298.2155707-out.wav', datetime.datetime(2021, 3, 12, 11, 54, 58))\n"
     ]
    }
   ],
   "source": [
    "cursor = server_object.conn.cursor()\n",
    "sql_query = \"select filename, record_date from queue where\"\n",
    "sql_query += \" linkedid='\" + linkedid + \"'\"\n",
    "sql_query += \" order by filename;\"\n",
    "cursor.execute(sql_query)\n",
    "complete_files = []\n",
    "for row in cursor.fetchall():\n",
    "    print(row)"
   ]
  },
  {
   "cell_type": "markdown",
   "metadata": {},
   "source": [
    "### drop transcribation duplicates"
   ]
  },
  {
   "cell_type": "code",
   "execution_count": 5,
   "metadata": {},
   "outputs": [
    {
     "name": "stdout",
     "output_type": "stream",
     "text": [
      "(13866322,)\n"
     ]
    }
   ],
   "source": [
    "# all records counter\n",
    "server_object = stt_server(0)\n",
    "server_object.source_id = 2\n",
    "cursor = server_object.conn.cursor()\n",
    "query = \"SELECT count(a.id) from transcribations as a;\"\n",
    "cursor.execute(query)\n",
    "for row in cursor.fetchall():\n",
    "    print(row)"
   ]
  },
  {
   "cell_type": "code",
   "execution_count": 6,
   "metadata": {},
   "outputs": [
    {
     "name": "stdout",
     "output_type": "stream",
     "text": [
      "(5475,)\n"
     ]
    }
   ],
   "source": [
    "# duplicates counter\n",
    "server_object = stt_server(0)\n",
    "server_object.source_id = 2\n",
    "cursor = server_object.conn.cursor()\n",
    "query = \"select count(distinct a.id) from transcribations as a\"\n",
    "query += \" inner join transcribations as b\"\n",
    "query += \" on a.record_date = b.record_date\"\n",
    "query += \" and a.start = b.start\"\n",
    "query += \" and a.side = b.side\"\n",
    "query += \" and not a.id = b.id;\"\n",
    "cursor.execute(query)\n",
    "for row in cursor.fetchall():\n",
    "    print(row)"
   ]
  },
  {
   "cell_type": "code",
   "execution_count": 7,
   "metadata": {},
   "outputs": [],
   "source": [
    "# show duplicates\n",
    "server_object = stt_server(0)\n",
    "server_object.source_id = 2\n",
    "cursor = server_object.conn.cursor()\n",
    "query = \"select a.record_date, a.start, a.source_id, a.side, a.text, b.text from transcribations as a\"\n",
    "query += \" inner join transcribations as b\"\n",
    "query += \" on a.record_date = b.record_date\"\n",
    "query += \" and a.start = b.start\"\n",
    "query += \" and a.side = b.side\"\n",
    "query += \" and not a.id = b.id;\"\n",
    "#cursor.execute(query)\n",
    "#for row in cursor.fetchall():\n",
    "#    print(row)"
   ]
  },
  {
   "cell_type": "code",
   "execution_count": 6,
   "metadata": {},
   "outputs": [
    {
     "name": "stdout",
     "output_type": "stream",
     "text": [
      "duplicates removed\n"
     ]
    }
   ],
   "source": [
    "# duplicates remover\n",
    "server_object = stt_server(0)\n",
    "server_object.source_id = 2\n",
    "cursor = server_object.conn.cursor()\n",
    "query = \"delete from transcribations where id in\"\n",
    "query += \" (select distinct a.id as id from transcribations as a\"\n",
    "query += \" inner join transcribations as b\"\n",
    "query += \" on a.record_date = b.record_date\"\n",
    "query += \" and a.start = b.start\"\n",
    "query += \" and a.side = b.side\"\n",
    "query += \" and not a.id = b.id);\"\n",
    "cursor.execute(query)\n",
    "server_object.conn.commit()\n",
    "print('duplicates removed')"
   ]
  },
  {
   "cell_type": "markdown",
   "metadata": {},
   "source": [
    "### master date by linkedid fix ++"
   ]
  },
  {
   "cell_type": "code",
   "execution_count": 20,
   "metadata": {},
   "outputs": [],
   "source": [
    "server_object = stt_server(0)\n",
    "server_object.source_id = 2"
   ]
  },
  {
   "cell_type": "code",
   "execution_count": 5,
   "metadata": {},
   "outputs": [
    {
     "name": "stdout",
     "output_type": "stream",
     "text": [
      "('transcribation_date',)\n",
      "('date_y',)\n",
      "('date_m',)\n",
      "('date_d',)\n",
      "('side',)\n",
      "('text',)\n",
      "('start',)\n",
      "('audio_file_name',)\n",
      "('conf',)\n",
      "('end_time',)\n",
      "('sentiment',)\n",
      "('sentiment_pos',)\n",
      "('sentiment_neg',)\n",
      "('ID',)\n",
      "('linkedid',)\n",
      "('dst',)\n",
      "('record_date',)\n",
      "('source_id',)\n",
      "('src',)\n",
      "('cpu_id',)\n",
      "('duration',)\n"
     ]
    }
   ],
   "source": [
    "cursor = server_object.conn.cursor()\n",
    "query = \"SELECT column_name FROM information_schema.columns WHERE table_name='transcribations';\"\n",
    "cursor.execute(query)\n",
    "for row in cursor.fetchall():\n",
    "    print(row)"
   ]
  },
  {
   "cell_type": "code",
   "execution_count": 7,
   "metadata": {},
   "outputs": [
    {
     "name": "stdout",
     "output_type": "stream",
     "text": [
      "(datetime.datetime(2021, 3, 10, 7, 21, 58), None, '1615349750.2104256', '1615349750.2104256-in.wav', 7.36)\n"
     ]
    }
   ],
   "source": [
    "# last transcribed file whithout record_date\n",
    "cursor = server_object.conn.cursor()\n",
    "\n",
    "query = 'select top 1 transcribation_date, record_date, linkedid, audio_file_name, duration'\n",
    "query += ' from transcribations where record_date is Null'\n",
    "query += ' order by transcribation_date desc;'\n",
    "\n",
    "cursor.execute(query)\n",
    "for row in cursor.fetchall():\n",
    "    print(row)"
   ]
  },
  {
   "cell_type": "code",
   "execution_count": 12,
   "metadata": {},
   "outputs": [
    {
     "data": {
      "text/plain": [
       "'1615447249.2130536'"
      ]
     },
     "execution_count": 12,
     "metadata": {},
     "output_type": "execute_result"
    }
   ],
   "source": [
    "filename = '1615447249.2130536-in.wav'\n",
    "uniqueid = re.findall(r'^\\d*.\\d*', filename)[0]\n",
    "uniqueid"
   ]
  },
  {
   "cell_type": "code",
   "execution_count": 64,
   "metadata": {},
   "outputs": [
    {
     "ename": "InternalError",
     "evalue": "(1054, \"Unknown column 'linked_id' in 'where clause'\")",
     "output_type": "error",
     "traceback": [
      "\u001b[0;31m---------------------------------------------------------------------------\u001b[0m",
      "\u001b[0;31mInternalError\u001b[0m                             Traceback (most recent call last)",
      "\u001b[0;32m<ipython-input-64-d1432188f020>\u001b[0m in \u001b[0;36m<module>\u001b[0;34m\u001b[0m\n\u001b[1;32m      5\u001b[0m \u001b[0mcursor\u001b[0m \u001b[0;34m=\u001b[0m \u001b[0mserver_object\u001b[0m\u001b[0;34m.\u001b[0m\u001b[0mmysql_conn\u001b[0m\u001b[0;34m[\u001b[0m\u001b[0mserver_object\u001b[0m\u001b[0;34m.\u001b[0m\u001b[0msource_id\u001b[0m\u001b[0;34m]\u001b[0m\u001b[0;34m.\u001b[0m\u001b[0mcursor\u001b[0m\u001b[0;34m(\u001b[0m\u001b[0;34m)\u001b[0m\u001b[0;34m\u001b[0m\u001b[0;34m\u001b[0m\u001b[0m\n\u001b[1;32m      6\u001b[0m \u001b[0mquery\u001b[0m \u001b[0;34m=\u001b[0m \u001b[0;34m\"select calldate, src, dst from cdr where linked_id = '\"\u001b[0m \u001b[0;34m+\u001b[0m \u001b[0muniqueid\u001b[0m \u001b[0;34m+\u001b[0m \u001b[0;34m\"' limit 1;\"\u001b[0m\u001b[0;34m\u001b[0m\u001b[0;34m\u001b[0m\u001b[0m\n\u001b[0;32m----> 7\u001b[0;31m \u001b[0mcursor\u001b[0m\u001b[0;34m.\u001b[0m\u001b[0mexecute\u001b[0m\u001b[0;34m(\u001b[0m\u001b[0mquery\u001b[0m\u001b[0;34m)\u001b[0m  \u001b[0;31m# cycled query\u001b[0m\u001b[0;34m\u001b[0m\u001b[0;34m\u001b[0m\u001b[0m\n\u001b[0m\u001b[1;32m      8\u001b[0m \u001b[0msrc\u001b[0m \u001b[0;34m=\u001b[0m \u001b[0;34m''\u001b[0m\u001b[0;34m\u001b[0m\u001b[0;34m\u001b[0m\u001b[0m\n\u001b[1;32m      9\u001b[0m \u001b[0mdst\u001b[0m \u001b[0;34m=\u001b[0m \u001b[0;34m''\u001b[0m\u001b[0;34m\u001b[0m\u001b[0;34m\u001b[0m\u001b[0m\n",
      "\u001b[0;32m~/anaconda3/lib/python3.7/site-packages/pymysql/cursors.py\u001b[0m in \u001b[0;36mexecute\u001b[0;34m(self, query, args)\u001b[0m\n\u001b[1;32m    168\u001b[0m         \u001b[0mquery\u001b[0m \u001b[0;34m=\u001b[0m \u001b[0mself\u001b[0m\u001b[0;34m.\u001b[0m\u001b[0mmogrify\u001b[0m\u001b[0;34m(\u001b[0m\u001b[0mquery\u001b[0m\u001b[0;34m,\u001b[0m \u001b[0margs\u001b[0m\u001b[0;34m)\u001b[0m\u001b[0;34m\u001b[0m\u001b[0;34m\u001b[0m\u001b[0m\n\u001b[1;32m    169\u001b[0m \u001b[0;34m\u001b[0m\u001b[0m\n\u001b[0;32m--> 170\u001b[0;31m         \u001b[0mresult\u001b[0m \u001b[0;34m=\u001b[0m \u001b[0mself\u001b[0m\u001b[0;34m.\u001b[0m\u001b[0m_query\u001b[0m\u001b[0;34m(\u001b[0m\u001b[0mquery\u001b[0m\u001b[0;34m)\u001b[0m\u001b[0;34m\u001b[0m\u001b[0;34m\u001b[0m\u001b[0m\n\u001b[0m\u001b[1;32m    171\u001b[0m         \u001b[0mself\u001b[0m\u001b[0;34m.\u001b[0m\u001b[0m_executed\u001b[0m \u001b[0;34m=\u001b[0m \u001b[0mquery\u001b[0m\u001b[0;34m\u001b[0m\u001b[0;34m\u001b[0m\u001b[0m\n\u001b[1;32m    172\u001b[0m         \u001b[0;32mreturn\u001b[0m \u001b[0mresult\u001b[0m\u001b[0;34m\u001b[0m\u001b[0;34m\u001b[0m\u001b[0m\n",
      "\u001b[0;32m~/anaconda3/lib/python3.7/site-packages/pymysql/cursors.py\u001b[0m in \u001b[0;36m_query\u001b[0;34m(self, q)\u001b[0m\n\u001b[1;32m    326\u001b[0m         \u001b[0mself\u001b[0m\u001b[0;34m.\u001b[0m\u001b[0m_last_executed\u001b[0m \u001b[0;34m=\u001b[0m \u001b[0mq\u001b[0m\u001b[0;34m\u001b[0m\u001b[0;34m\u001b[0m\u001b[0m\n\u001b[1;32m    327\u001b[0m         \u001b[0mself\u001b[0m\u001b[0;34m.\u001b[0m\u001b[0m_clear_result\u001b[0m\u001b[0;34m(\u001b[0m\u001b[0;34m)\u001b[0m\u001b[0;34m\u001b[0m\u001b[0;34m\u001b[0m\u001b[0m\n\u001b[0;32m--> 328\u001b[0;31m         \u001b[0mconn\u001b[0m\u001b[0;34m.\u001b[0m\u001b[0mquery\u001b[0m\u001b[0;34m(\u001b[0m\u001b[0mq\u001b[0m\u001b[0;34m)\u001b[0m\u001b[0;34m\u001b[0m\u001b[0;34m\u001b[0m\u001b[0m\n\u001b[0m\u001b[1;32m    329\u001b[0m         \u001b[0mself\u001b[0m\u001b[0;34m.\u001b[0m\u001b[0m_do_get_result\u001b[0m\u001b[0;34m(\u001b[0m\u001b[0;34m)\u001b[0m\u001b[0;34m\u001b[0m\u001b[0;34m\u001b[0m\u001b[0m\n\u001b[1;32m    330\u001b[0m         \u001b[0;32mreturn\u001b[0m \u001b[0mself\u001b[0m\u001b[0;34m.\u001b[0m\u001b[0mrowcount\u001b[0m\u001b[0;34m\u001b[0m\u001b[0;34m\u001b[0m\u001b[0m\n",
      "\u001b[0;32m~/anaconda3/lib/python3.7/site-packages/pymysql/connections.py\u001b[0m in \u001b[0;36mquery\u001b[0;34m(self, sql, unbuffered)\u001b[0m\n\u001b[1;32m    515\u001b[0m                 \u001b[0msql\u001b[0m \u001b[0;34m=\u001b[0m \u001b[0msql\u001b[0m\u001b[0;34m.\u001b[0m\u001b[0mencode\u001b[0m\u001b[0;34m(\u001b[0m\u001b[0mself\u001b[0m\u001b[0;34m.\u001b[0m\u001b[0mencoding\u001b[0m\u001b[0;34m,\u001b[0m \u001b[0;34m'surrogateescape'\u001b[0m\u001b[0;34m)\u001b[0m\u001b[0;34m\u001b[0m\u001b[0;34m\u001b[0m\u001b[0m\n\u001b[1;32m    516\u001b[0m         \u001b[0mself\u001b[0m\u001b[0;34m.\u001b[0m\u001b[0m_execute_command\u001b[0m\u001b[0;34m(\u001b[0m\u001b[0mCOMMAND\u001b[0m\u001b[0;34m.\u001b[0m\u001b[0mCOM_QUERY\u001b[0m\u001b[0;34m,\u001b[0m \u001b[0msql\u001b[0m\u001b[0;34m)\u001b[0m\u001b[0;34m\u001b[0m\u001b[0;34m\u001b[0m\u001b[0m\n\u001b[0;32m--> 517\u001b[0;31m         \u001b[0mself\u001b[0m\u001b[0;34m.\u001b[0m\u001b[0m_affected_rows\u001b[0m \u001b[0;34m=\u001b[0m \u001b[0mself\u001b[0m\u001b[0;34m.\u001b[0m\u001b[0m_read_query_result\u001b[0m\u001b[0;34m(\u001b[0m\u001b[0munbuffered\u001b[0m\u001b[0;34m=\u001b[0m\u001b[0munbuffered\u001b[0m\u001b[0;34m)\u001b[0m\u001b[0;34m\u001b[0m\u001b[0;34m\u001b[0m\u001b[0m\n\u001b[0m\u001b[1;32m    518\u001b[0m         \u001b[0;32mreturn\u001b[0m \u001b[0mself\u001b[0m\u001b[0;34m.\u001b[0m\u001b[0m_affected_rows\u001b[0m\u001b[0;34m\u001b[0m\u001b[0;34m\u001b[0m\u001b[0m\n\u001b[1;32m    519\u001b[0m \u001b[0;34m\u001b[0m\u001b[0m\n",
      "\u001b[0;32m~/anaconda3/lib/python3.7/site-packages/pymysql/connections.py\u001b[0m in \u001b[0;36m_read_query_result\u001b[0;34m(self, unbuffered)\u001b[0m\n\u001b[1;32m    730\u001b[0m         \u001b[0;32melse\u001b[0m\u001b[0;34m:\u001b[0m\u001b[0;34m\u001b[0m\u001b[0;34m\u001b[0m\u001b[0m\n\u001b[1;32m    731\u001b[0m             \u001b[0mresult\u001b[0m \u001b[0;34m=\u001b[0m \u001b[0mMySQLResult\u001b[0m\u001b[0;34m(\u001b[0m\u001b[0mself\u001b[0m\u001b[0;34m)\u001b[0m\u001b[0;34m\u001b[0m\u001b[0;34m\u001b[0m\u001b[0m\n\u001b[0;32m--> 732\u001b[0;31m             \u001b[0mresult\u001b[0m\u001b[0;34m.\u001b[0m\u001b[0mread\u001b[0m\u001b[0;34m(\u001b[0m\u001b[0;34m)\u001b[0m\u001b[0;34m\u001b[0m\u001b[0;34m\u001b[0m\u001b[0m\n\u001b[0m\u001b[1;32m    733\u001b[0m         \u001b[0mself\u001b[0m\u001b[0;34m.\u001b[0m\u001b[0m_result\u001b[0m \u001b[0;34m=\u001b[0m \u001b[0mresult\u001b[0m\u001b[0;34m\u001b[0m\u001b[0;34m\u001b[0m\u001b[0m\n\u001b[1;32m    734\u001b[0m         \u001b[0;32mif\u001b[0m \u001b[0mresult\u001b[0m\u001b[0;34m.\u001b[0m\u001b[0mserver_status\u001b[0m \u001b[0;32mis\u001b[0m \u001b[0;32mnot\u001b[0m \u001b[0;32mNone\u001b[0m\u001b[0;34m:\u001b[0m\u001b[0;34m\u001b[0m\u001b[0;34m\u001b[0m\u001b[0m\n",
      "\u001b[0;32m~/anaconda3/lib/python3.7/site-packages/pymysql/connections.py\u001b[0m in \u001b[0;36mread\u001b[0;34m(self)\u001b[0m\n\u001b[1;32m   1073\u001b[0m     \u001b[0;32mdef\u001b[0m \u001b[0mread\u001b[0m\u001b[0;34m(\u001b[0m\u001b[0mself\u001b[0m\u001b[0;34m)\u001b[0m\u001b[0;34m:\u001b[0m\u001b[0;34m\u001b[0m\u001b[0;34m\u001b[0m\u001b[0m\n\u001b[1;32m   1074\u001b[0m         \u001b[0;32mtry\u001b[0m\u001b[0;34m:\u001b[0m\u001b[0;34m\u001b[0m\u001b[0;34m\u001b[0m\u001b[0m\n\u001b[0;32m-> 1075\u001b[0;31m             \u001b[0mfirst_packet\u001b[0m \u001b[0;34m=\u001b[0m \u001b[0mself\u001b[0m\u001b[0;34m.\u001b[0m\u001b[0mconnection\u001b[0m\u001b[0;34m.\u001b[0m\u001b[0m_read_packet\u001b[0m\u001b[0;34m(\u001b[0m\u001b[0;34m)\u001b[0m\u001b[0;34m\u001b[0m\u001b[0;34m\u001b[0m\u001b[0m\n\u001b[0m\u001b[1;32m   1076\u001b[0m \u001b[0;34m\u001b[0m\u001b[0m\n\u001b[1;32m   1077\u001b[0m             \u001b[0;32mif\u001b[0m \u001b[0mfirst_packet\u001b[0m\u001b[0;34m.\u001b[0m\u001b[0mis_ok_packet\u001b[0m\u001b[0;34m(\u001b[0m\u001b[0;34m)\u001b[0m\u001b[0;34m:\u001b[0m\u001b[0;34m\u001b[0m\u001b[0;34m\u001b[0m\u001b[0m\n",
      "\u001b[0;32m~/anaconda3/lib/python3.7/site-packages/pymysql/connections.py\u001b[0m in \u001b[0;36m_read_packet\u001b[0;34m(self, packet_type)\u001b[0m\n\u001b[1;32m    682\u001b[0m \u001b[0;34m\u001b[0m\u001b[0m\n\u001b[1;32m    683\u001b[0m         \u001b[0mpacket\u001b[0m \u001b[0;34m=\u001b[0m \u001b[0mpacket_type\u001b[0m\u001b[0;34m(\u001b[0m\u001b[0mbuff\u001b[0m\u001b[0;34m,\u001b[0m \u001b[0mself\u001b[0m\u001b[0;34m.\u001b[0m\u001b[0mencoding\u001b[0m\u001b[0;34m)\u001b[0m\u001b[0;34m\u001b[0m\u001b[0;34m\u001b[0m\u001b[0m\n\u001b[0;32m--> 684\u001b[0;31m         \u001b[0mpacket\u001b[0m\u001b[0;34m.\u001b[0m\u001b[0mcheck_error\u001b[0m\u001b[0;34m(\u001b[0m\u001b[0;34m)\u001b[0m\u001b[0;34m\u001b[0m\u001b[0;34m\u001b[0m\u001b[0m\n\u001b[0m\u001b[1;32m    685\u001b[0m         \u001b[0;32mreturn\u001b[0m \u001b[0mpacket\u001b[0m\u001b[0;34m\u001b[0m\u001b[0;34m\u001b[0m\u001b[0m\n\u001b[1;32m    686\u001b[0m \u001b[0;34m\u001b[0m\u001b[0m\n",
      "\u001b[0;32m~/anaconda3/lib/python3.7/site-packages/pymysql/protocol.py\u001b[0m in \u001b[0;36mcheck_error\u001b[0;34m(self)\u001b[0m\n\u001b[1;32m    218\u001b[0m             \u001b[0merrno\u001b[0m \u001b[0;34m=\u001b[0m \u001b[0mself\u001b[0m\u001b[0;34m.\u001b[0m\u001b[0mread_uint16\u001b[0m\u001b[0;34m(\u001b[0m\u001b[0;34m)\u001b[0m\u001b[0;34m\u001b[0m\u001b[0;34m\u001b[0m\u001b[0m\n\u001b[1;32m    219\u001b[0m             \u001b[0;32mif\u001b[0m \u001b[0mDEBUG\u001b[0m\u001b[0;34m:\u001b[0m \u001b[0mprint\u001b[0m\u001b[0;34m(\u001b[0m\u001b[0;34m\"errno =\"\u001b[0m\u001b[0;34m,\u001b[0m \u001b[0merrno\u001b[0m\u001b[0;34m)\u001b[0m\u001b[0;34m\u001b[0m\u001b[0;34m\u001b[0m\u001b[0m\n\u001b[0;32m--> 220\u001b[0;31m             \u001b[0merr\u001b[0m\u001b[0;34m.\u001b[0m\u001b[0mraise_mysql_exception\u001b[0m\u001b[0;34m(\u001b[0m\u001b[0mself\u001b[0m\u001b[0;34m.\u001b[0m\u001b[0m_data\u001b[0m\u001b[0;34m)\u001b[0m\u001b[0;34m\u001b[0m\u001b[0;34m\u001b[0m\u001b[0m\n\u001b[0m\u001b[1;32m    221\u001b[0m \u001b[0;34m\u001b[0m\u001b[0m\n\u001b[1;32m    222\u001b[0m     \u001b[0;32mdef\u001b[0m \u001b[0mdump\u001b[0m\u001b[0;34m(\u001b[0m\u001b[0mself\u001b[0m\u001b[0;34m)\u001b[0m\u001b[0;34m:\u001b[0m\u001b[0;34m\u001b[0m\u001b[0;34m\u001b[0m\u001b[0m\n",
      "\u001b[0;32m~/anaconda3/lib/python3.7/site-packages/pymysql/err.py\u001b[0m in \u001b[0;36mraise_mysql_exception\u001b[0;34m(data)\u001b[0m\n\u001b[1;32m    107\u001b[0m         \u001b[0merrval\u001b[0m \u001b[0;34m=\u001b[0m \u001b[0mdata\u001b[0m\u001b[0;34m[\u001b[0m\u001b[0;36m3\u001b[0m\u001b[0;34m:\u001b[0m\u001b[0;34m]\u001b[0m\u001b[0;34m.\u001b[0m\u001b[0mdecode\u001b[0m\u001b[0;34m(\u001b[0m\u001b[0;34m'utf-8'\u001b[0m\u001b[0;34m,\u001b[0m \u001b[0;34m'replace'\u001b[0m\u001b[0;34m)\u001b[0m\u001b[0;34m\u001b[0m\u001b[0;34m\u001b[0m\u001b[0m\n\u001b[1;32m    108\u001b[0m     \u001b[0merrorclass\u001b[0m \u001b[0;34m=\u001b[0m \u001b[0merror_map\u001b[0m\u001b[0;34m.\u001b[0m\u001b[0mget\u001b[0m\u001b[0;34m(\u001b[0m\u001b[0merrno\u001b[0m\u001b[0;34m,\u001b[0m \u001b[0mInternalError\u001b[0m\u001b[0;34m)\u001b[0m\u001b[0;34m\u001b[0m\u001b[0;34m\u001b[0m\u001b[0m\n\u001b[0;32m--> 109\u001b[0;31m     \u001b[0;32mraise\u001b[0m \u001b[0merrorclass\u001b[0m\u001b[0;34m(\u001b[0m\u001b[0merrno\u001b[0m\u001b[0;34m,\u001b[0m \u001b[0merrval\u001b[0m\u001b[0;34m)\u001b[0m\u001b[0;34m\u001b[0m\u001b[0;34m\u001b[0m\u001b[0m\n\u001b[0m",
      "\u001b[0;31mInternalError\u001b[0m: (1054, \"Unknown column 'linked_id' in 'where clause'\")"
     ]
    }
   ],
   "source": [
    "files_withoud_cdr_data = 0\n",
    "filename = '1615539298.2155707-out.wav'\n",
    "rec_date = 'Nulle'\n",
    "uniqueid = re.findall(r'^\\d*.\\d*', filename)[0]\n",
    "cursor = server_object.mysql_conn[server_object.source_id].cursor()\n",
    "query = \"select calldate, src, dst from cdr where linked_id = '\" + uniqueid + \"' limit 1;\"\n",
    "cursor.execute(query)  # cycled query\n",
    "src = ''\n",
    "dst = ''\n",
    "linkedid = uniqueid\n",
    "for row in cursor.fetchall():\n",
    "    rec_date = str(row[0])\n",
    "    src = str(row[1])\n",
    "    dst = str(row[2])\n",
    "if len(re.findall(r'\\d{4}-\\d{2}-\\d{2} \\d{2}:\\d{2}:\\d{2}', rec_date)) == 0:\n",
    "    print('u:', uniqueid, 'r:', rec_date, 'Unable to extract date from filename:', filename)\n",
    "    rec_date = 'Null'\n",
    "    files_withoud_cdr_data += 1"
   ]
  },
  {
   "cell_type": "code",
   "execution_count": 31,
   "metadata": {},
   "outputs": [
    {
     "data": {
      "text/plain": [
       "True"
      ]
     },
     "execution_count": 31,
     "metadata": {},
     "output_type": "execute_result"
    }
   ],
   "source": [
    "uniqueid == uniqueid_2"
   ]
  },
  {
   "cell_type": "code",
   "execution_count": 57,
   "metadata": {},
   "outputs": [],
   "source": [
    "#server_object.source_id = 2\n",
    "# cdr info by linkedid\n",
    "#uniqueid = '1615535566.2153554'\n",
    "cursor = server_object.mysql_conn[server_object.source_id].cursor()\n",
    "query = \"select calldate from cdr where uniqueid = '\"+uniqueid+\"' limit 1;\"\n",
    "cursor.execute(query)\n",
    "for row in cursor.fetchall():\n",
    "    rec_date = str(row[0])\n",
    "    print(row[0])\n",
    "\n",
    "if False:\n",
    "    for row in cursor.fetchall():\n",
    "        rec_date = str(row[0])\n",
    "        #src = str(row[1])\n",
    "        #dst = str(row[2])\n",
    "    if len(re.findall(r'\\d{4}-\\d{2}-\\d{2} \\d{2}:\\d{2}:\\d{2}', rec_date)) == 0:\n",
    "        rec_date = 'Null'\n",
    "        print(rec_date, 'Unable to extract date from filename', filename)\n",
    "        #files_withoud_cdr_data += 1\n",
    "        #continue\n",
    "    else:\n",
    "        print('k', rec_date)\n"
   ]
  },
  {
   "cell_type": "code",
   "execution_count": 11,
   "metadata": {},
   "outputs": [
    {
     "data": {
      "text/plain": [
       "'2021-03-11 10:20:49'"
      ]
     },
     "execution_count": 11,
     "metadata": {},
     "output_type": "execute_result"
    }
   ],
   "source": [
    "rec_date"
   ]
  },
  {
   "cell_type": "code",
   "execution_count": 15,
   "metadata": {},
   "outputs": [
    {
     "data": {
      "text/plain": [
       "True"
      ]
     },
     "execution_count": 15,
     "metadata": {},
     "output_type": "execute_result"
    }
   ],
   "source": [
    "server_object.source_id == server_object.sources['master']"
   ]
  },
  {
   "cell_type": "code",
   "execution_count": 22,
   "metadata": {},
   "outputs": [],
   "source": [
    "server_object = stt_server(0)\n",
    "server_object.source_id = 2\n",
    "complete_files = []\n",
    "#for filepath, filename, rec_date, src, dst, linkedid in server_object.get_fs_files_list(complete_files):\n",
    "    #print(filename, rec_date, linkedid)"
   ]
  },
  {
   "cell_type": "markdown",
   "metadata": {},
   "source": [
    "### master date by linkedid fix --"
   ]
  },
  {
   "cell_type": "code",
   "execution_count": 27,
   "metadata": {},
   "outputs": [],
   "source": [
    "import time"
   ]
  },
  {
   "cell_type": "code",
   "execution_count": 39,
   "metadata": {},
   "outputs": [
    {
     "name": "stdout",
     "output_type": "stream",
     "text": [
      "File not found: /mnt/share/audio/MSK_SRVCALL/RX_TX/RXTX_2021-03/09/in_8125609584_2021-03-09-13-54-03rxtx.wav\n",
      "Removing from queue..\n",
      "/mnt/share/audio/MSK_SRVCALL/RX_TX/RXTX_2021-03/09/in_9030102285_2021-03-09-13-51-01rxtx.wav exists\n",
      "k\n"
     ]
    }
   ],
   "source": [
    "server_object = stt_server(0)\n",
    "cursor = server_object.conn.cursor()\n",
    "sql_query = \"select filepath, filename, duration, source_id, \"\n",
    "sql_query += \"record_date, src, dst, linkedid from queue \"\n",
    "sql_query += \"where cpu_id='\"+str(server_object.cpu_id)+\"' \"\n",
    "sql_query += \"and source_id = '1' \" # ToDo: remove\n",
    "sql_query += \"order by ISNULL(record_date, 0) desc, record_date, linkedid, filename;\"\n",
    "processed = 0\n",
    "cursor.execute(sql_query)\n",
    "linkedid = ''\n",
    "for row in cursor.fetchall():\n",
    "\n",
    "    #queue_start = datetime.datetime.now()\n",
    "    queue_start = time.time()\n",
    "\n",
    "    original_file_path = row[0]\n",
    "    original_file_name = row[1]\n",
    "    original_file_duration = row[2]\n",
    "    server_object.source_id = row[3]\n",
    "    rec_date = row[4]\n",
    "    src = row[5]\n",
    "    dst = row[6]\n",
    "    linkedid = row[7]\n",
    "\n",
    "    files_converted = 0\n",
    "\n",
    "    if not os.path.isfile(original_file_path + original_file_name):\n",
    "        msg = 'File not found: '+ original_file_path + original_file_name\n",
    "        msg += '\\nRemoving from queue..'\n",
    "        print(msg)\n",
    "        #server_object.send_to_telegram(msg)\n",
    "        #server_object.delete_current_queue(original_file_name, linkedid)\n",
    "        continue\n",
    "    print(original_file_path + original_file_name, 'exists')\n",
    "    break\n",
    "print('k')"
   ]
  },
  {
   "cell_type": "code",
   "execution_count": 43,
   "metadata": {},
   "outputs": [
    {
     "data": {
      "text/plain": [
       "True"
      ]
     },
     "execution_count": 43,
     "metadata": {},
     "output_type": "execute_result"
    }
   ],
   "source": [
    "#os.path.isfile('/mnt/share/audio/MSK_SRVCALL/RX_TX/RXTX_2021-03/09/in_8125609584_2021-03-09-13-54-03rxtx.wav')\n",
    "os.path.isfile('/mnt/share/audio/MSK_SRVCALL/RX_TX/RXTX_2021-03/09/in_9030102285_2021-03-09-13-51-01rxtx.wav')"
   ]
  },
  {
   "cell_type": "markdown",
   "metadata": {},
   "source": [
    "### file remove error alert"
   ]
  },
  {
   "cell_type": "code",
   "execution_count": 8,
   "metadata": {},
   "outputs": [],
   "source": [
    "chat = '106129214'"
   ]
  },
  {
   "cell_type": "code",
   "execution_count": 5,
   "metadata": {},
   "outputs": [],
   "source": [
    "with open('telegram_bot.token','r') as file:\n",
    "    telegram_bot_token = file.read().replace('\\n', '')\n",
    "    file.close()"
   ]
  },
  {
   "cell_type": "code",
   "execution_count": 15,
   "metadata": {},
   "outputs": [],
   "source": [
    "def send_to_telegram(chat,message):\n",
    "    headers = {\n",
    "    \"Origin\": \"https://api.telegram.org\",\n",
    "    \"Referer\": 'https://api.telegram.org/bot' + telegram_bot_token,\n",
    "    'User-Agent': 'Mozilla/5.0 (Windows NT 10.0; Win64; x64) AppleWebKit/537.36 (KHTML, like Gecko) Chrome/70.0.3538.110 Safari/537.36'}\n",
    "    #url\t= \"http://scriptlab.net/telegram/bots/relaybot/relaylocked.php?chat=\"+chat+\"&text=\"+message\n",
    "    url = 'https://api.telegram.org/bot' + telegram_bot_token\n",
    "    url += '/sendMessage?chat_id=' + str(chat)\n",
    "    url += '&text=' + str(message)\n",
    "    requests.get(url,headers = headers)"
   ]
  },
  {
   "cell_type": "code",
   "execution_count": 16,
   "metadata": {},
   "outputs": [
    {
     "name": "stdout",
     "output_type": "stream",
     "text": [
      "Error: /home/alex/test_4.txt - No such file or directory.\n"
     ]
    }
   ],
   "source": [
    "#myfile = \"/var/www/html/test_4.txt\"\n",
    "myfile = \"/home/alex/test_4.txt\"\n",
    "try:\n",
    "    os.remove(myfile)\n",
    "    print('succesfully removed', myfile)\n",
    "except OSError as e:  ## if failed, report it back to the user ##\n",
    "    print(\"Error: %s - %s.\" % (e.filename, e.strerror))\n",
    "    send_to_telegram(chat,'Unable to remove file:\\n' + myfile + '\\n' + str(e))"
   ]
  },
  {
   "cell_type": "markdown",
   "metadata": {},
   "source": [
    "### ***"
   ]
  },
  {
   "cell_type": "code",
   "execution_count": 23,
   "metadata": {
    "scrolled": true
   },
   "outputs": [],
   "source": [
    "# select\n",
    "cursor = server_object.conn.cursor()\n",
    "#sql_query = \"select * from perf_log;\"\n",
    "sql_query = \"select \"\n",
    "sql_query += \"record_date, ISNULL(record_date, 0) from queue \"\n",
    "#sql_query += \"where record_date is Null \"\n",
    "sql_query += \"order by ISNULL(record_date, 0) desc, record_date;\"\n",
    "cursor.execute(sql_query)\n",
    "rows = []\n",
    "#for row in cursor.fetchall():\n",
    "#    print(row)\n",
    "#    rows.append(row)"
   ]
  },
  {
   "cell_type": "code",
   "execution_count": 31,
   "metadata": {},
   "outputs": [
    {
     "data": {
      "text/plain": [
       "230"
      ]
     },
     "execution_count": 31,
     "metadata": {},
     "output_type": "execute_result"
    }
   ],
   "source": [
    "len(rows)"
   ]
  },
  {
   "cell_type": "code",
   "execution_count": 60,
   "metadata": {},
   "outputs": [
    {
     "name": "stdout",
     "output_type": "stream",
     "text": [
      "(0, 24969.55999999996, 128)\n",
      "(1, 4926.919999999998, 52)\n",
      "(2, 6574.420000000005, 45)\n",
      "(3, 4786.860000000001, 49)\n",
      "(4, 8733.160000000003, 69)\n",
      "(5, 14827.299999999992, 77)\n",
      "(6, 10175.54, 74)\n",
      "(7, 22766.56, 38)\n",
      "(8, 16021.760000000007, 64)\n",
      "(9, 2963.379999999997, 57)\n",
      "(10, 18047.879999999994, 54)\n",
      "(11, 4111.4000000000015, 60)\n",
      "(12, 2893.86, 49)\n",
      "(13, 6097.759999999994, 56)\n",
      "(14, 8504.520000000002, 56)\n",
      "(15, 13787.759999999987, 58)\n",
      "(16, 34499.080000000045, 77)\n",
      "(17, 2908.8999999999987, 53)\n",
      "(18, 15529.199999999988, 60)\n",
      "(19, 13816.439999999988, 57)\n",
      "(20, 12196.959999999988, 61)\n",
      "(21, 3991.8199999999997, 41)\n",
      "(22, 7416.539999999995, 63)\n",
      "(23, 8700.320000000005, 62)\n",
      "(24, 11277.419999999995, 57)\n",
      "(25, 13973.69999999998, 65)\n",
      "(26, 6924.080000000006, 54)\n",
      "(27, 12595.279999999982, 61)\n",
      "(28, 10292.320000000003, 61)\n"
     ]
    }
   ],
   "source": [
    "server_object = stt_server(0)\n",
    "server_object.source_id = 2\n",
    "cursor = server_object.conn.cursor()\n",
    "\n",
    "query = 'select '\n",
    "query += 'cpu_id, '\n",
    "query += 'sum(duration), '\n",
    "query += 'count(id) as cnt '\n",
    "\"\"\"query += 'max(record_date) as trans_date, '\n",
    "query += 'max(transcribation_date) as rec_date '\"\"\"\n",
    "query += 'from transcribations '\n",
    "query += 'where not cpu_id is null '\n",
    "query += 'group by cpu_id order by cpu_id;'\n",
    "\n",
    "\"\"\"query = 'select '\n",
    "query += 'cpu_id, '\n",
    "query += 'count(distinct filename) as filename, '\n",
    "query += 'max(record_date) as trans_date '\n",
    "#query += 'max(transcribation_date) as rec_date '\n",
    "query += 'from queue group by cpu_id order by cpu_id;'\n",
    "\"\"\"\n",
    "cursor.execute(query)\n",
    "for row in cursor.fetchall():\n",
    "    print(row)"
   ]
  },
  {
   "cell_type": "code",
   "execution_count": 62,
   "metadata": {},
   "outputs": [
    {
     "name": "stdout",
     "output_type": "stream",
     "text": [
      "(0, 33293.21999999993, 179)\n",
      "(1, 12063.480000000018, 107)\n",
      "(2, 10781.14000000001, 95)\n",
      "(3, 8678.560000000001, 98)\n",
      "(4, 12063.219999999992, 107)\n",
      "(5, 19926.199999999983, 128)\n",
      "(6, 21307.52000000001, 124)\n",
      "(7, 46731.360000000044, 78)\n",
      "(8, 21951.619999999984, 117)\n",
      "(9, 7639.68000000001, 109)\n",
      "(10, 27272.160000000025, 94)\n",
      "(11, 8188.899999999996, 122)\n",
      "(12, 9417.379999999994, 101)\n",
      "(13, 11930.859999999982, 107)\n",
      "(14, 12510.699999999999, 104)\n",
      "(15, 19569.019999999997, 115)\n",
      "(16, 54212.840000000084, 121)\n",
      "(17, 9237.539999999985, 116)\n",
      "(18, 23623.679999999982, 107)\n",
      "(19, 21304.439999999984, 94)\n",
      "(20, 20738.579999999994, 112)\n",
      "(21, 9357.040000000005, 93)\n",
      "(22, 12944.339999999971, 121)\n",
      "(23, 12302.600000000026, 107)\n",
      "(24, 21568.519999999997, 118)\n",
      "(25, 22194.439999999962, 112)\n",
      "(26, 13093.999999999998, 105)\n",
      "(27, 16315.359999999973, 102)\n",
      "(28, 14569.300000000008, 108)\n"
     ]
    }
   ],
   "source": [
    "server_object = stt_server(0)\n",
    "server_object.source_id = 2\n",
    "cursor = server_object.conn.cursor()\n",
    "\n",
    "query = 'select '\n",
    "query += 'cpu_id, '\n",
    "query += 'sum(duration), '\n",
    "query += 'count(id) as cnt '\n",
    "query += 'from transcribations '\n",
    "query += 'where not cpu_id is null '\n",
    "query += 'group by cpu_id order by cpu_id;'\n",
    "\n",
    "cursor.execute(query)\n",
    "for row in cursor.fetchall():\n",
    "    print(row)"
   ]
  },
  {
   "cell_type": "code",
   "execution_count": 9,
   "metadata": {},
   "outputs": [
    {
     "name": "stdout",
     "output_type": "stream",
     "text": [
      "(True, 2, None, datetime.datetime(2021, 3, 4, 10, 1, 46))\n",
      "(True, 2, None, datetime.datetime(2021, 3, 4, 10, 1, 10))\n",
      "(True, 2, None, datetime.datetime(2021, 3, 4, 10, 0, 58))\n",
      "(True, 2, None, datetime.datetime(2021, 3, 4, 10, 0, 58))\n",
      "(True, 2, None, datetime.datetime(2021, 3, 4, 10, 0, 58))\n",
      "(True, 2, None, datetime.datetime(2021, 3, 4, 10, 0, 58))\n",
      "(True, 2, None, datetime.datetime(2021, 3, 4, 10, 0, 58))\n",
      "(True, 2, None, datetime.datetime(2021, 3, 4, 10, 0, 58))\n",
      "(True, 2, None, datetime.datetime(2021, 3, 4, 10, 0, 58))\n",
      "(True, 2, None, datetime.datetime(2021, 3, 4, 10, 0, 57))\n"
     ]
    }
   ],
   "source": [
    "server_object = stt_server(0)\n",
    "server_object.source_id = 2\n",
    "cursor = server_object.conn.cursor()\n",
    "query = 'select top 10'\n",
    "#query += 'cpu_id, '\n",
    "#query += 'count(distinct audio_file_name) as filename, '\n",
    "query += 'side, source_id, record_date as trans_date, '\n",
    "query += 'transcribation_date as rec_date '\n",
    "query += 'from transcribations order by transcribation_date desc;'\n",
    "cursor.execute(query)\n",
    "for row in cursor.fetchall():\n",
    "    print(row)"
   ]
  },
  {
   "cell_type": "code",
   "execution_count": null,
   "metadata": {},
   "outputs": [],
   "source": []
  },
  {
   "cell_type": "markdown",
   "metadata": {},
   "source": [
    "### perf_log"
   ]
  },
  {
   "cell_type": "code",
   "execution_count": 64,
   "metadata": {},
   "outputs": [
    {
     "name": "stdout",
     "output_type": "stream",
     "text": [
      "(datetime.datetime(2021, 3, 4, 13, 12, 27), 1)\n",
      "(datetime.datetime(2021, 3, 4, 13, 12, 22), 1)\n",
      "(datetime.datetime(2021, 3, 4, 13, 12, 21), 1)\n",
      "(datetime.datetime(2021, 3, 4, 13, 12, 21), 1)\n"
     ]
    }
   ],
   "source": [
    "server_object = stt_server(0)\n",
    "server_object.source_id = 2\n",
    "\n",
    "cursor = server_object.conn.cursor()\n",
    "\n",
    "sql_query = \"select top 4 transcribation_date, count(distinct audio_file_name) from transcribations group by transcribation_date, audio_file_name order by transcribation_date desc\"\n",
    "cursor.execute(sql_query)\n",
    "for row in cursor.fetchall():\n",
    "    print(row)"
   ]
  },
  {
   "cell_type": "markdown",
   "metadata": {},
   "source": [
    "### performance monitoring"
   ]
  },
  {
   "cell_type": "code",
   "execution_count": 3,
   "metadata": {},
   "outputs": [],
   "source": [
    "server_object = stt_server(0)\n",
    "server_object.source_id = 2"
   ]
  },
  {
   "cell_type": "code",
   "execution_count": 16,
   "metadata": {},
   "outputs": [
    {
     "name": "stdout",
     "output_type": "stream",
     "text": [
      "('/mnt/share/audio/MSK_SRVCALL/REC_IN_OUT/', '1614753605.1975710-in.wav', 72.3, 2, None, '', '', '1614753605.1975710')\n",
      "('/mnt/share/audio/MSK_SRVCALL/REC_IN_OUT/', '1614755503.1976672-out.wav', 170.1, 2, None, '', '', '1614755503.1976672')\n",
      "('/mnt/share/audio/MSK_SRVCALL/REC_IN_OUT/', '1614759911.1979512-out.wav', 238.1, 2, None, '', '', '1614759911.1979512')\n",
      "('/mnt/share/audio/MSK_SRVCALL/REC_IN_OUT/', '1614760260.1979748-out.wav', 40.42, 2, None, '', '', '1614760260.1979748')\n",
      "('/mnt/share/audio/MSK_SRVCALL/REC_IN_OUT/', '1614760480.1979883-out.wav', 28.92, 2, None, '', '', '1614760480.1979883')\n",
      "('/mnt/share/audio/MSK_SRVCALL/REC_IN_OUT/', '1614760744.1980019-in.wav', 15.04, 2, None, '', '', '1614760744.1980019')\n",
      "('/mnt/share/audio/MSK_SRVCALL/REC_IN_OUT/', '1614762881.1981180-in.wav', 33.88, 2, None, '', '', '1614762881.1981180')\n",
      "('/mnt/share/audio/MSK_SRVCALL/REC_IN_OUT/', '1614763797.1981716-in.wav', 126.32, 2, None, '', '', '1614763797.1981716')\n",
      "('/mnt/share/audio/MSK_SRVCALL/REC_IN_OUT/', '1614763889.1981770-out.wav', 177.64, 2, None, '', '', '1614763889.1981770')\n",
      "('/mnt/share/audio/MSK_SRVCALL/REC_IN_OUT/', '1614764007.1981837-in.wav', 22.8, 2, None, '', '', '1614764007.1981837')\n",
      "('/mnt/share/audio/MSK_SRVCALL/REC_IN_OUT/', '1614764151.1981912-out.wav', 30.32, 2, None, '', '', '1614764151.1981912')\n",
      "('/mnt/share/audio/MSK_SRVCALL/REC_IN_OUT/', '1614764257.1981975-in.wav', 16.08, 2, None, '', '', '1614764257.1981975')\n",
      "('/mnt/share/audio/MSK_SRVCALL/REC_IN_OUT/', '1614764361.1982030-in.wav', 0.0, 2, None, '', '', '1614764361.1982030')\n",
      "('/mnt/share/audio/MSK_SRVCALL/REC_IN_OUT/', '1614764419.1982064-out.wav', 0.0, 2, None, '', '', '1614764419.1982064')\n",
      "('/mnt/share/audio/MSK_SRVCALL/REC_IN_OUT/', '1614765057.1982477-out.wav', 98.86, 2, None, '', '', '1614765057.1982477')\n",
      "('/mnt/share/audio/MSK_SRVCALL/REC_IN_OUT/', '1614765102.1982531-in.wav', 0.0, 2, None, '', '', '1614765102.1982531')\n",
      "('/mnt/share/audio/MSK_SRVCALL/REC_IN_OUT/', '1614765138.1982554-in.wav', 0.0, 2, None, '', '', '1614765138.1982554')\n",
      "('/mnt/share/audio/MSK_SRVCALL/REC_IN_OUT/', '1614765241.1982599-out.wav', 27.98, 2, None, '', '', '1614765241.1982599')\n",
      "('/mnt/share/audio/MSK_SRVCALL/REC_IN_OUT/', '1614765388.1982688-out.wav', 154.48, 2, None, '', '', '1614765388.1982688')\n",
      "('/mnt/share/audio/MSK_SRVCALL/REC_IN_OUT/', '1614765745.1982881-in.wav', 401.78, 2, None, '', '', '1614765745.1982881')\n",
      "('/mnt/share/audio/MSK_SRVCALL/REC_IN_OUT/', '1614766007.1983027-in.wav', 0.0, 2, None, '', '', '1614766007.1983027')\n",
      "('/mnt/share/audio/MSK_SRVCALL/REC_IN_OUT/', '1614766272.1983155-in.wav', 173.52, 2, None, '', '', '1614766272.1983155')\n",
      "('/mnt/share/audio/MSK_SRVCALL/REC_IN_OUT/', '1614766338.1983213-in.wav', 86.58, 2, None, '', '', '1614766338.1983213')\n",
      "('/mnt/share/audio/MSK_SRVCALL/REC_IN_OUT/', '1614766611.1983376-in.wav', 143.8, 2, None, '', '', '1614766611.1983376')\n",
      "('/mnt/share/audio/MSK_SRVCALL/REC_IN_OUT/', '1614766769.1983456-out.wav', 68.46, 2, None, '', '', '1614766769.1983456')\n",
      "('/mnt/share/audio/MSK_SRVCALL/REC_IN_OUT/', '1614766896.1983527-out.wav', 46.06, 2, None, '', '', '1614766896.1983527')\n",
      "('/mnt/share/audio/MSK_SRVCALL/REC_IN_OUT/', '1614766994.1983584-in.wav', 0.0, 2, None, '', '', '1614766994.1983584')\n",
      "('/mnt/share/audio/MSK_SRVCALL/REC_IN_OUT/', '1614767152.1983669-out.wav', 38.64, 2, None, '', '', '1614767152.1983669')\n",
      "('/mnt/share/audio/MSK_SRVCALL/REC_IN_OUT/', '1614767328.1983753-out.wav', 35.04, 2, None, '', '', '1614767328.1983753')\n",
      "('/mnt/share/audio/MSK_SRVCALL/REC_IN_OUT/', '1614767459.1983816-in.wav', 21.62, 2, None, '', '', '1614767459.1983816')\n",
      "('/mnt/share/audio/MSK_SRVCALL/REC_IN_OUT/', '1614767557.1983875-out.wav', 159.48, 2, None, '', '', '1614767557.1983875')\n",
      "('/mnt/share/audio/MSK_SRVCALL/REC_IN_OUT/', '1614767617.1983929-in.wav', 65.94, 2, None, '', '', '1614767617.1983929')\n",
      "('/mnt/share/audio/MSK_SRVCALL/REC_IN_OUT/', '1614767715.1983986-out.wav', 19.48, 2, None, '', '', '1614767715.1983986')\n",
      "('/mnt/share/audio/MSK_SRVCALL/REC_IN_OUT/', '1614767927.1984148-in.wav', 13.82, 2, None, '', '', '1614767927.1984148')\n",
      "('/mnt/share/audio/MSK_SRVCALL/REC_IN_OUT/', '1614768016.1984211-in.wav', 40.98, 2, None, '', '', '1614768016.1984211')\n",
      "('/mnt/share/audio/MSK_SRVCALL/REC_IN_OUT/', '1614768167.1984277-in.wav', 0.0, 2, None, '', '', '1614768167.1984277')\n",
      "('/mnt/share/audio/MSK_SRVCALL/REC_IN_OUT/', '1614768298.1984333-out.wav', 0.0, 2, None, '', '', '1614768298.1984333')\n",
      "('/mnt/share/audio/MSK_SRVCALL/REC_IN_OUT/', '1614768469.1984406-in.wav', 93.94, 2, None, '', '', '1614768469.1984406')\n",
      "('/mnt/share/audio/MSK_SRVCALL/RX_TX/RXTX_2021-02/16/', 'in_9257075368_2021-02-16-07-54-48rxtx.wav', 172.34, 1, datetime.datetime(2021, 2, 16, 7, 54, 48), '9257075368', '5072', '1613451287.1591793')\n",
      "('/mnt/share/audio/MSK_SRVCALL/RX_TX/RXTX_2021-02/16/', 'in_4957237230_2021-02-16-08-04-34rxtx.wav', 6.32, 1, datetime.datetime(2021, 2, 16, 8, 4, 34), '4957237230', '5072', '1613451873.1592028')\n"
     ]
    }
   ],
   "source": [
    "# select\n",
    "cursor = server_object.conn.cursor()\n",
    "#sql_query = \"select * from perf_log;\"\n",
    "sql_query = \"select top 40 filepath, filename, duration, source_id, \"\n",
    "sql_query += \"record_date, src, dst, linkedid from queue \"\n",
    "sql_query += \"where cpu_id='\"+str(server_object.cpu_id)+\"' \"\n",
    "sql_query += \"order by record_date, filename;\"\n",
    "cursor.execute(sql_query)\n",
    "rows = []\n",
    "for row in cursor.fetchall():\n",
    "    print(row)\n",
    "    rows.append(row)"
   ]
  },
  {
   "cell_type": "code",
   "execution_count": 10,
   "metadata": {},
   "outputs": [
    {
     "data": {
      "text/plain": [
       "1926"
      ]
     },
     "execution_count": 10,
     "metadata": {},
     "output_type": "execute_result"
    }
   ],
   "source": [
    "len(rows)"
   ]
  },
  {
   "cell_type": "code",
   "execution_count": 4,
   "metadata": {},
   "outputs": [],
   "source": [
    "server_object = stt_server(0)\n",
    "server_object.source_id = 2\n",
    "cursor = server_object.conn.cursor()"
   ]
  },
  {
   "cell_type": "code",
   "execution_count": 56,
   "metadata": {},
   "outputs": [],
   "source": [
    "# Delete from perf_log\n",
    "server_object = stt_server(0)\n",
    "sql_query = \"delete from perf_log;\"\n",
    "cursor = server_object.conn.cursor()\n",
    "#cursor.execute(sql_query)\n",
    "#server_object.conn.commit() # autocommit"
   ]
  },
  {
   "cell_type": "code",
   "execution_count": 75,
   "metadata": {},
   "outputs": [],
   "source": [
    "query = \"select event_date from perf_log where cores = 9 and event_date = '2021-03-05 14:49:12';\"\n",
    "cursor.execute(query)\n",
    "for row in cursor.fetchall():\n",
    "    print(row)"
   ]
  },
  {
   "cell_type": "code",
   "execution_count": 76,
   "metadata": {},
   "outputs": [],
   "source": [
    "server_object = stt_server(0)\n",
    "sql_query = \"delete from perf_log where cores = 9 and event_date = '2021-03-05 14:49:12';\"\n",
    "cursor = server_object.conn.cursor()\n",
    "#cursor.execute(sql_query)\n",
    "#server_object.conn.commit() # autocommit"
   ]
  },
  {
   "cell_type": "code",
   "execution_count": 58,
   "metadata": {},
   "outputs": [
    {
     "name": "stdout",
     "output_type": "stream",
     "text": [
      "(12.394242525100708, 41.14, '1614936540.2023716')\n"
     ]
    }
   ],
   "source": [
    "# select from perflog\n",
    "sql_query = \"select top 10 time, duration, linkedid from perf_log where step = 2;\"\n",
    "cursor.execute(sql_query)\n",
    "for row in cursor.fetchall():\n",
    "    print(row)"
   ]
  },
  {
   "cell_type": "code",
   "execution_count": 10,
   "metadata": {},
   "outputs": [
    {
     "name": "stdout",
     "output_type": "stream",
     "text": [
      "(440.6440496997757, 128.1874653626724, 9816)\n"
     ]
    }
   ],
   "source": [
    "# perf_log stat: transcribing\n",
    "sql_query = \"select avg(time), avg(duration), count(linkedid) from perf_log \"\n",
    "sql_query += \"where step = 1 and source_id = 1;\"\n",
    "cursor.execute(sql_query)\n",
    "for row in cursor.fetchall():\n",
    "    print(row)"
   ]
  },
  {
   "cell_type": "code",
   "execution_count": 45,
   "metadata": {},
   "outputs": [
    {
     "name": "stdout",
     "output_type": "stream",
     "text": [
      "(None, None, 0)\n"
     ]
    }
   ],
   "source": [
    "# perf_log stat: transcribing\n",
    "sql_query = \"select avg(time), avg(duration), count(linkedid) from perf_log \"\n",
    "sql_query += \"where step = 2 and source_id = 1;\"\n",
    "cursor.execute(sql_query)\n",
    "for row in cursor.fetchall():\n",
    "    print(row)"
   ]
  },
  {
   "cell_type": "code",
   "execution_count": 129,
   "metadata": {},
   "outputs": [
    {
     "name": "stdout",
     "output_type": "stream",
     "text": [
      "insert into perf_log(event_date, step, time, cpu, file_name, duration, linkedid, source_id) values ('2021-03-04 15:28:57', 2, 4, 0, '', '30', '9879.378429', '2');\n"
     ]
    }
   ],
   "source": [
    "# insert func\n",
    "server_object.perf_log(2, 4, 30, '9879.378429')"
   ]
  },
  {
   "cell_type": "code",
   "execution_count": 29,
   "metadata": {},
   "outputs": [],
   "source": [
    "import time"
   ]
  },
  {
   "cell_type": "code",
   "execution_count": 32,
   "metadata": {},
   "outputs": [
    {
     "data": {
      "text/plain": [
       "('ms', 2)"
      ]
     },
     "execution_count": 32,
     "metadata": {},
     "output_type": "execute_result"
    }
   ],
   "source": [
    "trans_start = datetime.datetime.now()\n",
    "time.sleep(2.5)\n",
    "trans_end = datetime.datetime.now()\n",
    "trans_diff_ms = (trans_end - trans_start)#.microseconds / 1000000\n",
    "'ms', trans_diff_ms.seconds# + trans_diff_ms.microseconds / 1000000b"
   ]
  },
  {
   "cell_type": "code",
   "execution_count": 38,
   "metadata": {},
   "outputs": [
    {
     "name": "stdout",
     "output_type": "stream",
     "text": [
      "1.3016088008880615\n"
     ]
    }
   ],
   "source": [
    "import time\n",
    "start = time.time()\n",
    "\n",
    "time.sleep(1.3)  # or do something more productive\n",
    "\n",
    "done = time.time()\n",
    "elapsed = done - start\n",
    "print(elapsed)"
   ]
  },
  {
   "cell_type": "markdown",
   "metadata": {},
   "source": [
    "### last transcribed"
   ]
  },
  {
   "cell_type": "code",
   "execution_count": null,
   "metadata": {},
   "outputs": [],
   "source": [
    "server_object = stt_server(0)\n",
    "server_object.source_id = 2\n",
    "\n",
    "cursor = server_object.conn.cursor()\n",
    "\n",
    "#sql_query = \"select audio_file_name, linkedid, record_date, start, side, text from transcribations where source_id = '2' order by record_date, start, side;\"\n",
    "sql_query = \"select top 4 linkedid, transcribation_date, record_date, audio_file_name from transcribations \"\n",
    "sql_query += \"where linkedid = '1614577576.20753637'\"\n",
    "#sql_query += \"where source_id = '2' and \"\n",
    "#sql_query += \"transcribation_date<'2021-02-15 12:00:00' \"\n",
    "sql_query += \"order by record_date desc, start desc;\"\n",
    "cursor.execute(sql_query)\n",
    "for row in cursor.fetchall():\n",
    "    print(row)"
   ]
  },
  {
   "cell_type": "markdown",
   "metadata": {},
   "source": [
    "### date repair"
   ]
  },
  {
   "cell_type": "code",
   "execution_count": null,
   "metadata": {},
   "outputs": [],
   "source": []
  },
  {
   "cell_type": "markdown",
   "metadata": {},
   "source": [
    "### check date cdr"
   ]
  },
  {
   "cell_type": "code",
   "execution_count": null,
   "metadata": {},
   "outputs": [],
   "source": []
  },
  {
   "cell_type": "code",
   "execution_count": null,
   "metadata": {},
   "outputs": [],
   "source": [
    "uniqueid = '1612432458.1443773'\n",
    "cursor = server_object.mysql_conn[server_object.source_id].cursor()\n",
    "query = \"select calldate from cdr where uniqueid = '\"+uniqueid+\"' limit 1;\"\n",
    "cursor.execute(query)\n",
    "for row in cursor.fetchall():\n",
    "    #rec_date = str(row[0])\n",
    "    print(row[0])"
   ]
  },
  {
   "cell_type": "markdown",
   "metadata": {},
   "source": [
    "### file list 1"
   ]
  },
  {
   "cell_type": "code",
   "execution_count": null,
   "metadata": {},
   "outputs": [],
   "source": [
    "server_object = stt_server(0)\n",
    "server_object.source_id = 1"
   ]
  },
  {
   "cell_type": "code",
   "execution_count": null,
   "metadata": {},
   "outputs": [],
   "source": [
    "complete_files = server_object.get_sql_complete_files()\n",
    "len(complete_files)"
   ]
  },
  {
   "cell_type": "code",
   "execution_count": null,
   "metadata": {},
   "outputs": [],
   "source": [
    "new_files = server_object.get_fs_files_list(complete_files)\n",
    "len(new_files)"
   ]
  },
  {
   "cell_type": "code",
   "execution_count": null,
   "metadata": {},
   "outputs": [],
   "source": [
    "new_files[0]"
   ]
  },
  {
   "cell_type": "markdown",
   "metadata": {},
   "source": [
    "### file list 2"
   ]
  },
  {
   "cell_type": "code",
   "execution_count": null,
   "metadata": {},
   "outputs": [],
   "source": [
    "server_object = stt_server(0)\n",
    "server_object.source_id = 2"
   ]
  },
  {
   "cell_type": "code",
   "execution_count": null,
   "metadata": {},
   "outputs": [],
   "source": [
    "complete_files_2 = server_object.get_sql_complete_files()\n",
    "len(complete_files_2)"
   ]
  },
  {
   "cell_type": "code",
   "execution_count": null,
   "metadata": {},
   "outputs": [],
   "source": [
    "new_files_2 = server_object.get_fs_files_list(complete_files_2)\n",
    "len(new_files_2)"
   ]
  },
  {
   "cell_type": "code",
   "execution_count": null,
   "metadata": {},
   "outputs": [],
   "source": [
    "new_files_2[0]"
   ]
  },
  {
   "cell_type": "markdown",
   "metadata": {},
   "source": [
    "### next"
   ]
  },
  {
   "cell_type": "code",
   "execution_count": null,
   "metadata": {},
   "outputs": [],
   "source": [
    "def find_files(catalog):\n",
    "    fd_list = []\n",
    "    for root, dirs, files in os.walk(catalog):        \n",
    "        #find_files += [os.path.join(root, name) for name in files if name[-4:] == '.wav'] \n",
    "        for filename in files:\n",
    "            if filename[-4:] == '.wav':\n",
    "                #print(filename)\n",
    "                rec_source_date = re.findall(r'\\d{4}-\\d{2}-\\d{2}-\\d{2}-\\d{2}-\\d{2}', filename)\n",
    "                if len(rec_source_date) and len(rec_source_date[0]):\n",
    "                    rec_date = rec_source_date[0][:10] + ' ' + rec_source_date[0][11:].replace('-', ':')\n",
    "                    \n",
    "                    if len(re.findall(r'\\d{4}-\\d{2}-\\d{2} \\d{2}:\\d{2}:\\d{2}', rec_date)) == 0:\n",
    "                        rec_date = 'Null'\n",
    "                        print('0 Unable to extract date:', root, filename)\n",
    "\n",
    "                    fd_list.append({\n",
    "                        'filepath': root,\n",
    "                        'filename': filename,\n",
    "                        'rec_date': rec_date\n",
    "                    })\n",
    "                else:\n",
    "                    print('1 Unable to extract date:', root, filename)\n",
    "    return fd_list"
   ]
  },
  {
   "cell_type": "code",
   "execution_count": null,
   "metadata": {},
   "outputs": [],
   "source": [
    "fs_list = find_files(server_object.original_storage_path[server_object.source_id])\n",
    "len(fs_list), fs_list[0]"
   ]
  },
  {
   "cell_type": "markdown",
   "metadata": {},
   "source": [
    "### remove complete files"
   ]
  },
  {
   "cell_type": "code",
   "execution_count": null,
   "metadata": {},
   "outputs": [],
   "source": [
    "transcribed = []\n",
    "server_object = stt_server(0)\n",
    "server_object.source_id = 1\n",
    "cursor = server_object.conn.cursor()\n",
    "sql_query = \"select distinct audio_file_name as filename, date_y, date_m, date_d\"\n",
    "sql_query += \" from transcribations where source_id=1;\"\n",
    "cursor.execute(sql_query)\n",
    "for row in cursor.fetchall():\n",
    "    transcribed.append({\n",
    "                'filename': row[0],\n",
    "                'date_y': row[1],\n",
    "                'date_m': row[2],\n",
    "                'date_d': row[3],\n",
    "            })\n",
    "len(transcribed), transcribed[0]"
   ]
  },
  {
   "cell_type": "code",
   "execution_count": null,
   "metadata": {},
   "outputs": [],
   "source": [
    "full_path = server_object.original_storage_path[1]\n",
    "full_path += 'RXTX_' + transcribed[0]['date_y']\n",
    "full_path += '-' + transcribed[0]['date_m'] + '/'\n",
    "full_path += transcribed[0]['date_d'] + '/'\n",
    "full_path += transcribed[0]['filename']\n",
    "os.path.isfile(full_path), full_path"
   ]
  },
  {
   "cell_type": "markdown",
   "metadata": {},
   "source": [
    "# end"
   ]
  },
  {
   "cell_type": "code",
   "execution_count": null,
   "metadata": {},
   "outputs": [],
   "source": [
    "server_object = stt_server(0)\n",
    "server_object.set_today_ymd()\n",
    "for source_id in server_object.sources: # ['call', 'master']\n",
    "    #server_object.source_id = server_object.sources['call']\n",
    "    server_object.source_id = server_object.get_source_id(source_id)\n",
    "    complete_files\t= server_object.get_sql_complete_files()\n",
    "    incomplete_count = 0\n",
    "    complete_count = 0\n",
    "    print('server_object.source_id', server_object.source_id)\n",
    "    for filename, rec_date in server_object.get_fs_files_list():\n",
    "        print(filename, rec_date)\n",
    "    break"
   ]
  },
  {
   "cell_type": "code",
   "execution_count": null,
   "metadata": {},
   "outputs": [],
   "source": [
    "complete_files"
   ]
  },
  {
   "cell_type": "code",
   "execution_count": null,
   "metadata": {},
   "outputs": [],
   "source": [
    "server_object = stt_server(0)\n",
    "server_object.source_id = 2\n",
    "fd_list = server_object.get_fs_files_list()\n",
    "len(fd_list)"
   ]
  },
  {
   "cell_type": "code",
   "execution_count": null,
   "metadata": {},
   "outputs": [],
   "source": [
    "fd_list[0]"
   ]
  },
  {
   "cell_type": "code",
   "execution_count": null,
   "metadata": {},
   "outputs": [],
   "source": [
    "df = pd.DataFrame(fd_list)\n",
    "df.sort_values(['rec_date', 'filename'], ascending=False, inplace=True)"
   ]
  },
  {
   "cell_type": "code",
   "execution_count": null,
   "metadata": {},
   "outputs": [],
   "source": [
    "#df[df.rec_date=='Null']\n",
    "for f,d in df.values:\n",
    "    print(f,d)\n",
    "    break"
   ]
  },
  {
   "cell_type": "code",
   "execution_count": null,
   "metadata": {},
   "outputs": [],
   "source": [
    "filename = '1612946589.1564912-in.wav'\n",
    "uniqueid = re.findall(r'^\\d*.\\d*', filename)[0]\n",
    "uniqueid"
   ]
  },
  {
   "cell_type": "code",
   "execution_count": null,
   "metadata": {},
   "outputs": [],
   "source": [
    "cursor = server_object.mysql_conn[server_object.source_id].cursor()\n",
    "query = \"select calldate from cdr where uniqueid = '\"+uniqueid+\"' limit 1;\"\n",
    "cursor.execute(query)\n",
    "for row in cursor.fetchall():\n",
    "    #rec_date = str(row[0])\n",
    "    print(row[0])"
   ]
  },
  {
   "cell_type": "code",
   "execution_count": null,
   "metadata": {},
   "outputs": [],
   "source": [
    "def get_source_id(source_name):\n",
    "    for source in server_object.sources.items():\n",
    "        if source[0] == source_name:\n",
    "            return source[1]\n",
    "    return 0\n",
    "get_source_id('master')"
   ]
  },
  {
   "cell_type": "code",
   "execution_count": null,
   "metadata": {},
   "outputs": [],
   "source": [
    "server_object.rec_date = 'Null'\n",
    "filename = 'in_4957237230_2021-02-10-07-16-03rxtx.wav'\n",
    "rec_source_date = re.findall(r'\\d{4}-\\d{2}-\\d{2}-\\d{2}-\\d{2}-\\d{2}', filename)[0]                \n",
    "if len(rec_source_date):\n",
    "    server_object.rec_date = rec_source_date[:10] + ' ' + rec_source_date[11:].replace('-', ':')\n",
    "if len(re.findall(r'\\d{4}-\\d{2}-\\d{2} \\d{2}:\\d{2}:\\d{2}', server_object.rec_date)) == 0:\n",
    "    print('Unable to extract date from filename', filename)\n",
    "server_object.rec_date"
   ]
  },
  {
   "cell_type": "code",
   "execution_count": null,
   "metadata": {},
   "outputs": [],
   "source": [
    "rec_source_date"
   ]
  },
  {
   "cell_type": "code",
   "execution_count": null,
   "metadata": {},
   "outputs": [],
   "source": [
    "server_object.rec_date"
   ]
  },
  {
   "cell_type": "code",
   "execution_count": null,
   "metadata": {},
   "outputs": [],
   "source": [
    "re.findall(r'\\d{4}-\\d{2}-\\d{2} \\d{2}:\\d{2}:\\d{2}', server_object.rec_date)"
   ]
  },
  {
   "cell_type": "code",
   "execution_count": null,
   "metadata": {},
   "outputs": [],
   "source": [
    "for source_id in server_object.sources:\n",
    "    print(get_source_id(source_id))"
   ]
  },
  {
   "cell_type": "code",
   "execution_count": 4,
   "metadata": {},
   "outputs": [],
   "source": [
    "server_object = stt_server(0)\n",
    "server_object.source_id = 1"
   ]
  },
  {
   "cell_type": "code",
   "execution_count": null,
   "metadata": {},
   "outputs": [],
   "source": [
    "files = server_object.get_fs_files_list()\n",
    "len(files), files[0]"
   ]
  },
  {
   "cell_type": "code",
   "execution_count": null,
   "metadata": {},
   "outputs": [],
   "source": [
    "files"
   ]
  },
  {
   "cell_type": "code",
   "execution_count": null,
   "metadata": {},
   "outputs": [],
   "source": [
    "complete = server_object.get_sql_complete_files()\n",
    "len(complete)"
   ]
  },
  {
   "cell_type": "markdown",
   "metadata": {},
   "source": [
    "### transcribations show columns"
   ]
  },
  {
   "cell_type": "code",
   "execution_count": null,
   "metadata": {},
   "outputs": [],
   "source": [
    "cursor = server_object.conn.cursor()\n",
    "query = \"SELECT column_name FROM information_schema.columns WHERE table_name='transcribations';\"\n",
    "cursor.execute(query)\n",
    "for row in cursor.fetchall():\n",
    "        print(row)"
   ]
  },
  {
   "cell_type": "markdown",
   "metadata": {},
   "source": [
    "### PT1C_cdr_MICO show columns"
   ]
  },
  {
   "cell_type": "code",
   "execution_count": null,
   "metadata": {},
   "outputs": [],
   "source": [
    "cursor = server_object.mysql_conn[1].cursor()\n",
    "query = \"SELECT column_name FROM information_schema.columns WHERE table_name='PT1C_cdr_MICO';\"\n",
    "cursor.execute(query)\n",
    "for row in cursor.fetchall():\n",
    "        print(row)"
   ]
  },
  {
   "cell_type": "markdown",
   "metadata": {},
   "source": [
    "### tables"
   ]
  },
  {
   "cell_type": "code",
   "execution_count": null,
   "metadata": {},
   "outputs": [],
   "source": [
    "cursor = server_object.mysql_conn[1].cursor()\n",
    "query = \"show tables;\"\n",
    "cursor.execute(query)\n",
    "for row in cursor.fetchall():\n",
    "        print(row)"
   ]
  },
  {
   "cell_type": "markdown",
   "metadata": {},
   "source": [
    "### cel columns"
   ]
  },
  {
   "cell_type": "code",
   "execution_count": null,
   "metadata": {},
   "outputs": [],
   "source": [
    "cursor = server_object.mysql_conn[1].cursor()\n",
    "query = \"SELECT column_name FROM information_schema.columns WHERE table_name='cel';\"\n",
    "cursor.execute(query)\n",
    "for row in cursor.fetchall():\n",
    "        print(row)"
   ]
  },
  {
   "cell_type": "code",
   "execution_count": null,
   "metadata": {},
   "outputs": [],
   "source": [
    "cursor = server_object.mysql_conn[1].cursor()\n",
    "uniqueid = '1613647500.1738521'\n",
    "query = \"select calldate, src, dst from cdr where uniqueid = '\" + uniqueid + \"' limit 1;\"\n",
    "cursor.execute(sql_query)\n",
    "for row in cursor.fetchall():\n",
    "    print(row)"
   ]
  },
  {
   "cell_type": "markdown",
   "metadata": {},
   "source": [
    "### select from cel"
   ]
  },
  {
   "cell_type": "code",
   "execution_count": null,
   "metadata": {},
   "outputs": [],
   "source": [
    "cursor = server_object.mysql_conn[1].cursor()\n",
    "\n",
    "sql_query = \"select * from cel where linkedid = '1613049028.1603159';\"\n",
    "cursor.execute(sql_query)\n",
    "for row in cursor.fetchall():\n",
    "    print(row)"
   ]
  },
  {
   "cell_type": "markdown",
   "metadata": {},
   "source": [
    "### queue show columns"
   ]
  },
  {
   "cell_type": "code",
   "execution_count": 77,
   "metadata": {},
   "outputs": [
    {
     "name": "stdout",
     "output_type": "stream",
     "text": [
      "('date',)\n",
      "('cpu_id',)\n",
      "('filepath',)\n",
      "('date_y',)\n",
      "('date_m',)\n",
      "('date_d',)\n",
      "('filename',)\n",
      "('duration',)\n",
      "('record_date',)\n",
      "('source_id',)\n",
      "('src',)\n",
      "('dst',)\n",
      "('linkedid',)\n"
     ]
    }
   ],
   "source": [
    "cursor = server_object.conn.cursor()\n",
    "query = \"SELECT column_name FROM information_schema.columns WHERE table_name='queue';\"\n",
    "cursor.execute(query)\n",
    "for row in cursor.fetchall():\n",
    "        print(row)"
   ]
  },
  {
   "cell_type": "markdown",
   "metadata": {},
   "source": [
    "### transcribations show columns"
   ]
  },
  {
   "cell_type": "code",
   "execution_count": 5,
   "metadata": {},
   "outputs": [
    {
     "name": "stdout",
     "output_type": "stream",
     "text": [
      "('transcribation_date',)\n",
      "('date_y',)\n",
      "('date_m',)\n",
      "('date_d',)\n",
      "('side',)\n",
      "('text',)\n",
      "('start',)\n",
      "('audio_file_name',)\n",
      "('conf',)\n",
      "('end_time',)\n",
      "('sentiment',)\n",
      "('sentiment_pos',)\n",
      "('sentiment_neg',)\n",
      "('ID',)\n",
      "('linkedid',)\n",
      "('dst',)\n",
      "('record_date',)\n",
      "('source_id',)\n",
      "('src',)\n",
      "('cpu_id',)\n",
      "('duration',)\n"
     ]
    }
   ],
   "source": [
    "cursor = server_object.conn.cursor()\n",
    "query = \"SELECT column_name FROM information_schema.columns WHERE table_name='transcribations';\"\n",
    "cursor.execute(query)\n",
    "for row in cursor.fetchall():\n",
    "        print(row)"
   ]
  },
  {
   "cell_type": "markdown",
   "metadata": {},
   "source": [
    "### transcribed phrases"
   ]
  },
  {
   "cell_type": "code",
   "execution_count": null,
   "metadata": {
    "scrolled": true
   },
   "outputs": [],
   "source": [
    "server_object = stt_server(0)\n",
    "server_object.source_id = 2\n",
    "\n",
    "cursor = server_object.conn.cursor()\n",
    "\n",
    "#sql_query = \"select audio_file_name, linkedid, record_date, start, side, text from transcribations where source_id = '2' order by record_date, start, side;\"\n",
    "sql_query = \"select top 4 conf, src, dst, audio_file_name, side, record_date from transcribations where source_id = '2' group by conf, src, dst, audio_file_name, side, record_date order by record_date desc;\"\n",
    "cursor.execute(sql_query)\n",
    "for row in cursor.fetchall():\n",
    "    print(row)"
   ]
  },
  {
   "cell_type": "code",
   "execution_count": null,
   "metadata": {},
   "outputs": [],
   "source": [
    "cursor = server_object.conn.cursor()\n",
    "\n",
    "sql_query = \"select start, side, src, dst, text from transcribations where linkedid = '1613049028.1603159'\"\n",
    "sql_query += \" order by start, side;\"\n",
    "cursor.execute(sql_query)\n",
    "for row in cursor.fetchall():\n",
    "    print(row)"
   ]
  },
  {
   "cell_type": "markdown",
   "metadata": {},
   "source": [
    "### get record date from cdr"
   ]
  },
  {
   "cell_type": "code",
   "execution_count": null,
   "metadata": {},
   "outputs": [],
   "source": [
    "cursor = server_object.mysql_conn[server_object.source_id].cursor()\n",
    "query = \"SELECT * FROM cdr WHERE uniqueid = '1613049028.1603159';\"\n",
    "cursor.execute(query)\n",
    "for row in cursor.fetchall():\n",
    "        print(row)"
   ]
  },
  {
   "cell_type": "code",
   "execution_count": null,
   "metadata": {},
   "outputs": [],
   "source": [
    "cursor = server_object.mysql_conn[server_object.source_id].cursor()\n",
    "query = \"SELECT column_name FROM information_schema.columns WHERE table_name='cdr';\"\n",
    "cursor.execute(query)\n",
    "for row in cursor.fetchall():\n",
    "        print(row)"
   ]
  },
  {
   "cell_type": "code",
   "execution_count": null,
   "metadata": {},
   "outputs": [],
   "source": [
    "server_object.source_id = 2\n",
    "#server_object.original_file_name = '1612427793.1440877-in.wav'#files[0] #debug\n",
    "server_object.original_file_name = '1612427793.1440877-in.wav'#files[0] #debug\n",
    "uniqueid = re.findall(r'^\\d*.\\d*', server_object.original_file_name)[0]\n",
    "print('uniqueid', uniqueid)\n",
    "cursor = server_object.mysql_conn[server_object.source_id].cursor()\n",
    "#query = \"select src, dst from cdr where uniqueid = '\"+uniqueid+\"' limit 1;\"\n",
    "query = \"select calldate, src, dst from cdr where uniqueid = '\"+uniqueid+\"' limit 1;\"\n",
    "cursor.execute(query)\n",
    "for row in cursor.fetchall():\n",
    "    print(row)"
   ]
  },
  {
   "cell_type": "markdown",
   "metadata": {},
   "source": [
    "### insert into queue debug"
   ]
  },
  {
   "cell_type": "code",
   "execution_count": null,
   "metadata": {},
   "outputs": [],
   "source": [
    "server_object = stt_server(0)\n",
    "sql_query = \"insert into transcribations( audio_file_name, transcribation_date, date_y, date_m, date_d, text, start, end_time, side, conf, linkedid, src, dst, record_date, source_id) values ( '1613048825.1603082-in.wav', '2021-02-11T16:51:28', '2021', '02', '11', 'аллё здравствуйте вячеслав мареку компании единственная служба сервиса звоню по вашему резюме на избита удобно сейчас разговаривать', '6.27', '15.6', '0', '0.8597108235294117', '1613048825.1603082', '', '','None' ,'2');\"\n",
    "#cursor = server_object.conn.cursor()\n",
    "#cursor.execute(sql_query)\n",
    "#server_object.conn.commit() # autocommit"
   ]
  },
  {
   "cell_type": "markdown",
   "metadata": {},
   "source": [
    "### delete from queue"
   ]
  },
  {
   "cell_type": "code",
   "execution_count": 3,
   "metadata": {},
   "outputs": [],
   "source": [
    "server_object = stt_server(0)\n",
    "#server_object.source_id = 1\n",
    "cursor = server_object.conn.cursor()\n",
    "#sql_query = \"delete from queue where source_id = 2;\"\n",
    "sql_query = \"delete from queue;\"\n",
    "cursor.execute(sql_query)\n",
    "server_object.conn.commit() # autocommit"
   ]
  },
  {
   "cell_type": "markdown",
   "metadata": {},
   "source": [
    "### select from queue"
   ]
  },
  {
   "cell_type": "code",
   "execution_count": 47,
   "metadata": {},
   "outputs": [
    {
     "name": "stdout",
     "output_type": "stream",
     "text": [
      "# 1\n"
     ]
    }
   ],
   "source": [
    "server_object = stt_server(0)\n",
    "server_object.source_id = 2\n",
    "\n",
    "cursor = server_object.conn.cursor()\n",
    "#sql_query = \"select count(filename) from queue where source_id = '\"+str(server_object.source_id)+\"';\"\n",
    "#sql_query = \"select distinct cpu_id from queue where source_id = '\"+str(server_object.source_id)+\"';\"\n",
    "#sql_query = \"select filename, record_date, cpu_id, duration, source_id from queue \"\n",
    "#sql_query += \"where source_id='\" + str(server_object.source_id) + \"' \"\n",
    "#sql_query += \"where duration=60 \"\n",
    "#sql_query += \"order by record_date;\"\n",
    "\n",
    "print('# 1')\n",
    "sql_query = \"select record_date, count(filename) from queue \"\n",
    "sql_query += \"where source_id='2' and record_date is Null group by record_date;\"\n",
    "#sql_query += \"limit 1;\"\n",
    "cursor.execute(sql_query)\n",
    "for row in cursor.fetchall():\n",
    "    print(row)"
   ]
  },
  {
   "cell_type": "code",
   "execution_count": 4,
   "metadata": {
    "scrolled": false
   },
   "outputs": [
    {
     "name": "stdout",
     "output_type": "stream",
     "text": [
      "# 1\n",
      "(datetime.datetime(2021, 3, 16, 9, 39, 32), 8, '/mnt/share/audio/MSK_SRVCALL/RX_TX/RXTX_2021-02/26/', None, None, None, 'in_74957237230_2021-02-26-08-01-13rxtx.wav', 5.46, datetime.datetime(2021, 2, 26, 8, 1, 13), 1, '74957237230', '5089', '1614315671.1796571')\n",
      "# 2\n",
      "(datetime.datetime(2021, 3, 16, 9, 40, 27), 2, '/mnt/share/audio/MSK_SRVCALL/REC_IN_OUT/', None, None, None, '1615446220.2129819-in.wav', 51.74, datetime.datetime(2021, 3, 11, 10, 3, 40), 2, '5015', '989162452545', '1615446220.2129819')\n",
      "# count 1\n",
      "(1828,)\n",
      "# count 2\n",
      "(1382,)\n",
      "# cpus\n"
     ]
    }
   ],
   "source": [
    "server_object = stt_server(0)\n",
    "server_object.source_id = 2\n",
    "\n",
    "cursor = server_object.conn.cursor()\n",
    "#sql_query = \"select count(filename) from queue where source_id = '\"+str(server_object.source_id)+\"';\"\n",
    "#sql_query = \"select distinct cpu_id from queue where source_id = '\"+str(server_object.source_id)+\"';\"\n",
    "#sql_query = \"select filename, record_date, cpu_id, duration, source_id from queue \"\n",
    "#sql_query += \"where source_id='\" + str(server_object.source_id) + \"' \"\n",
    "#sql_query += \"where duration=60 \"\n",
    "#sql_query += \"order by record_date;\"\n",
    "\n",
    "print('# 1')\n",
    "sql_query = \"select top 1 * from queue \"\n",
    "sql_query += \"where source_id='1';\"\n",
    "#sql_query += \"limit 1;\"\n",
    "cursor.execute(sql_query)\n",
    "for row in cursor.fetchall():\n",
    "    #print(row[0], row[1], row[2], row[3])\n",
    "    print(row)\n",
    "\n",
    "print('# 2')\n",
    "sql_query = \"select top 1 * from queue \"\n",
    "sql_query += \"where source_id='2' \"\n",
    "sql_query += \"order by record_date;\"\n",
    "#sql_query += \"limit 1;\"\n",
    "cursor.execute(sql_query)\n",
    "for row in cursor.fetchall():\n",
    "    #print(row[0], row[1], row[2], row[3])\n",
    "    print(row)\n",
    "    \n",
    "print('# count 1')\n",
    "sql_query = \"select count(filename) from queue where source_id = '1';\"\n",
    "#sql_query += \"limit 1;\"\n",
    "cursor.execute(sql_query)\n",
    "for row in cursor.fetchall():\n",
    "    #print(row[0], row[1], row[2], row[3])\n",
    "    print(row)\n",
    "    \n",
    "print('# count 2')\n",
    "sql_query = \"select count(filename) from queue where source_id = '2';\"\n",
    "#sql_query += \"limit 1;\"\n",
    "cursor.execute(sql_query)\n",
    "for row in cursor.fetchall():\n",
    "    #print(row[0], row[1], row[2], row[3])\n",
    "    print(row)\n",
    "    \n",
    "print('# cpus')\n",
    "sql_query = \"select distinct cpu_id from queue where cpu_id='30' order by cpu_id;\"\n",
    "cursor.execute(sql_query)\n",
    "for row in cursor.fetchall():\n",
    "    #print(row[0], row[1], row[2], row[3])\n",
    "    print(row)\n"
   ]
  },
  {
   "cell_type": "markdown",
   "metadata": {},
   "source": [
    "### call queue"
   ]
  },
  {
   "cell_type": "code",
   "execution_count": 24,
   "metadata": {},
   "outputs": [],
   "source": [
    "server_object = stt_server(0)\n",
    "server_object.source_id = 1\n",
    "cursor = server_object.conn.cursor()\n",
    "#sql_query = \"select top 2 * from queue where source_id='1' and duration = 0;\"\n",
    "sql_query = \"select top 200 record_date from queue where source_id='2' and duration >5 order by record_date;\"\n",
    "#sql_query = \"select count(filename) from queue where source_id='2' and duration >5;\"\n",
    "cursor.execute(sql_query)\n",
    "#for row in cursor.fetchall():    \n",
    "#    print(row)"
   ]
  },
  {
   "cell_type": "markdown",
   "metadata": {},
   "source": [
    "### delete from transcribations"
   ]
  },
  {
   "cell_type": "code",
   "execution_count": null,
   "metadata": {},
   "outputs": [],
   "source": [
    "cursor = server_object.conn.cursor()\n",
    "sql_query = \"delete from transcribations where source_id = '2';\"\n",
    "#cursor.execute(sql_query)\n",
    "#server_object.conn.commit() # autocommit"
   ]
  },
  {
   "cell_type": "code",
   "execution_count": null,
   "metadata": {},
   "outputs": [],
   "source": [
    "sql_query"
   ]
  },
  {
   "cell_type": "code",
   "execution_count": null,
   "metadata": {},
   "outputs": [],
   "source": [
    "server_object.get_sql_complete_files()"
   ]
  },
  {
   "cell_type": "markdown",
   "metadata": {},
   "source": [
    "### select from transcribations"
   ]
  },
  {
   "cell_type": "code",
   "execution_count": null,
   "metadata": {},
   "outputs": [],
   "source": [
    "server_object = stt_server(0)\n",
    "#server_object.source_id = 1\n",
    "\n",
    "cursor = server_object.conn.cursor()\n",
    "sql_query = \"select top 1 * from transcribations;\"\n",
    "cursor.execute(sql_query)\n",
    "for row in cursor.fetchall():\n",
    "    print(row)"
   ]
  },
  {
   "cell_type": "markdown",
   "metadata": {},
   "source": [
    "# other"
   ]
  },
  {
   "cell_type": "code",
   "execution_count": null,
   "metadata": {},
   "outputs": [],
   "source": [
    "import datetime"
   ]
  },
  {
   "cell_type": "code",
   "execution_count": null,
   "metadata": {},
   "outputs": [],
   "source": [
    "cur_date = datetime.datetime.now()\n",
    "DD = datetime.timedelta(days=int(365 / 2))\n",
    "crop_date = cur_date - DD\n",
    "cur_date_y = crop_date.strftime(\"%Y\")\n",
    "cur_date_m = crop_date.strftime(\"%m\")\n",
    "cur_date_d = crop_date.strftime(\"%d\")\n",
    "cur_date_y, cur_date_m, cur_date_d"
   ]
  },
  {
   "cell_type": "code",
   "execution_count": null,
   "metadata": {},
   "outputs": [],
   "source": [
    "cur_date = datetime.datetime.now()\n",
    "cur_date"
   ]
  },
  {
   "cell_type": "code",
   "execution_count": null,
   "metadata": {},
   "outputs": [],
   "source": [
    "DD = datetime.timedelta(days=int(365/2))\n",
    "crop_date = cur_date - DD\n",
    "crop_date"
   ]
  },
  {
   "cell_type": "code",
   "execution_count": null,
   "metadata": {},
   "outputs": [],
   "source": [
    "#datetime.datetime.now().year\n",
    "datetime.datetime.now().strftime(\"%Y\")"
   ]
  },
  {
   "cell_type": "code",
   "execution_count": null,
   "metadata": {},
   "outputs": [],
   "source": [
    "#datetime.datetime.now().month\n",
    "datetime.datetime.now().strftime(\"%m\")"
   ]
  },
  {
   "cell_type": "code",
   "execution_count": null,
   "metadata": {},
   "outputs": [],
   "source": [
    "cur_date = datetime.datetime.strptime(\"2021-04-12T07:00:00Z\",\"%Y-%m-%dT%H:%M:%SZ\")\n",
    "DD = datetime.timedelta(days=int(365 / 2))\n",
    "crop_date = cur_date - DD\n",
    "#datetime.datetime.strptime(str(datetime.datetime.now()),\"%m\")\n",
    "crop_date"
   ]
  },
  {
   "cell_type": "code",
   "execution_count": null,
   "metadata": {},
   "outputs": [],
   "source": [
    "#datetime.datetime.now().day\n",
    "datetime.datetime.now().strftime(\"%d\")"
   ]
  },
  {
   "cell_type": "code",
   "execution_count": null,
   "metadata": {},
   "outputs": [],
   "source": [
    "import pandas as pd\n",
    "from init_server import stt_server\n",
    "from deeppavlov import build_model, configs\n",
    "import numpy as np"
   ]
  },
  {
   "cell_type": "code",
   "execution_count": null,
   "metadata": {},
   "outputs": [],
   "source": [
    "BATCH_SIZE = 3"
   ]
  },
  {
   "cell_type": "code",
   "execution_count": null,
   "metadata": {},
   "outputs": [],
   "source": [
    "server_object = stt_server(0)"
   ]
  },
  {
   "cell_type": "code",
   "execution_count": null,
   "metadata": {},
   "outputs": [],
   "source": [
    "query = \"\"\"\n",
    "    select top \"\"\"+str(BATCH_SIZE)+\"\"\" \n",
    "    id,\n",
    "    text,\n",
    "    sentiment\n",
    "    from transcribations \n",
    "    where sentiment is NULL and text!=''\n",
    "    \"\"\""
   ]
  },
  {
   "cell_type": "code",
   "execution_count": null,
   "metadata": {},
   "outputs": [],
   "source": [
    "df = pd.read_sql(query, server_object.conn)"
   ]
  },
  {
   "cell_type": "markdown",
   "metadata": {},
   "source": [
    "model = build_model(configs.classifiers.rusentiment_bert, download=True) #download first time\n",
    "res = model(df.text)\n",
    "df['sentiment'] = model(df.text)"
   ]
  },
  {
   "cell_type": "code",
   "execution_count": null,
   "metadata": {},
   "outputs": [],
   "source": [
    "print(df)"
   ]
  },
  {
   "cell_type": "code",
   "execution_count": null,
   "metadata": {},
   "outputs": [],
   "source": [
    "df['sentiment'] = ['neutral','negative','skip']"
   ]
  },
  {
   "cell_type": "code",
   "execution_count": null,
   "metadata": {},
   "outputs": [],
   "source": [
    "df"
   ]
  },
  {
   "cell_type": "code",
   "execution_count": null,
   "metadata": {},
   "outputs": [],
   "source": [
    "for index, row in df.iterrows():\n",
    "    print(index, row.id,row.sentiment)"
   ]
  },
  {
   "cell_type": "code",
   "execution_count": null,
   "metadata": {},
   "outputs": [],
   "source": [
    "for row in df.values:\n",
    "    print(row.sentiment)"
   ]
  },
  {
   "cell_type": "code",
   "execution_count": null,
   "metadata": {},
   "outputs": [],
   "source": [
    "for index, row in df.iterrows():\n",
    "    if row.sentiment == 'negative':\n",
    "        neg = 1\n",
    "        pos = 0\n",
    "    else:\n",
    "        neg = 0\n",
    "        pos = 1\n",
    "    query = \"update transcribations set \"\n",
    "    query += \"sentiment = '\"+row.sentiment+\"', \"\n",
    "    query += \"sentiment_neg = \"+str(neg)+\", \"\n",
    "    query += \"sentiment_pos = \"+str(pos)+\" \"\n",
    "    query += \"where id = \"+str(row.id)\n",
    "    break"
   ]
  },
  {
   "cell_type": "code",
   "execution_count": null,
   "metadata": {},
   "outputs": [],
   "source": [
    "query"
   ]
  },
  {
   "cell_type": "code",
   "execution_count": null,
   "metadata": {},
   "outputs": [],
   "source": [
    "df['sentiment_neg']=np.zeros(len(df))\n",
    "df['sentiment_pos']=np.zeros(len(df))"
   ]
  },
  {
   "cell_type": "code",
   "execution_count": null,
   "metadata": {},
   "outputs": [],
   "source": [
    "sentiments = pd.DataFrame(columns=['sentiment','sentiment_neg','sentiment_pos'])"
   ]
  },
  {
   "cell_type": "code",
   "execution_count": null,
   "metadata": {},
   "outputs": [],
   "source": [
    "sentiments = sentiments.append(pd.DataFrame({\n",
    "    'sentiment':\n",
    "        [\n",
    "            'negative',\n",
    "            'positive',\n",
    "            'neutral',\n",
    "            'speech',\n",
    "            'skip'\n",
    "        ],\n",
    "    'sentiment_neg':\n",
    "        [\n",
    "            1,0,0,0,0\n",
    "        ],\n",
    "    'sentiment_pos':\n",
    "        [\n",
    "            0,1,1,1,1\n",
    "        ]\n",
    "}))"
   ]
  },
  {
   "cell_type": "code",
   "execution_count": null,
   "metadata": {
    "scrolled": true
   },
   "outputs": [],
   "source": [
    "sentiments"
   ]
  },
  {
   "cell_type": "code",
   "execution_count": null,
   "metadata": {
    "scrolled": true
   },
   "outputs": [],
   "source": [
    "df"
   ]
  },
  {
   "cell_type": "code",
   "execution_count": null,
   "metadata": {},
   "outputs": [],
   "source": [
    "df[df.sentiment=='negative'].sentiment_neg=np.ones(len(df[df.sentiment=='negative']))"
   ]
  },
  {
   "cell_type": "code",
   "execution_count": null,
   "metadata": {},
   "outputs": [],
   "source": [
    "df[df.sentiment=='negative']"
   ]
  },
  {
   "cell_type": "code",
   "execution_count": null,
   "metadata": {},
   "outputs": [],
   "source": [
    "df[df.sentiment=='negative'].sentiment_neg=[1]"
   ]
  },
  {
   "cell_type": "code",
   "execution_count": null,
   "metadata": {},
   "outputs": [],
   "source": [
    "df[df.sentiment=='negative'].sentiment_neg"
   ]
  },
  {
   "cell_type": "code",
   "execution_count": null,
   "metadata": {},
   "outputs": [],
   "source": [
    "df.set_value[df.sentiment=='negative']['sentiment_neg']=np.ones(len(df[df.sentiment=='negative']))\n",
    "#df[df.sentiment!='negative']['sentiment_pos']=1\n",
    "#df.fillna(0)\n",
    "#df.set_value('C', 'x', 10)"
   ]
  },
  {
   "cell_type": "code",
   "execution_count": null,
   "metadata": {},
   "outputs": [],
   "source": [
    "df[df.sentiment=='negative']['sentiment_neg']"
   ]
  }
 ],
 "metadata": {
  "kernelspec": {
   "display_name": "Python 3",
   "language": "python",
   "name": "python3"
  },
  "language_info": {
   "codemirror_mode": {
    "name": "ipython",
    "version": 3
   },
   "file_extension": ".py",
   "mimetype": "text/x-python",
   "name": "python",
   "nbconvert_exporter": "python",
   "pygments_lexer": "ipython3",
   "version": "3.7.6"
  }
 },
 "nbformat": 4,
 "nbformat_minor": 4
}
