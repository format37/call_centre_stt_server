{
 "cells": [
  {
   "cell_type": "markdown",
   "metadata": {},
   "source": [
    "# read files"
   ]
  },
  {
   "cell_type": "code",
   "execution_count": 7,
   "metadata": {},
   "outputs": [],
   "source": [
    "#!pip install pymysql\n",
    "#!pip install pymssql"
   ]
  },
  {
   "cell_type": "code",
   "execution_count": 2,
   "metadata": {},
   "outputs": [],
   "source": [
    "import pymssql\n",
    "import pymysql as mysql\n",
    "import os\n",
    "import re\n",
    "import pandas as pd\n",
    "import datetime\n",
    "import requests\n",
    "#import pendulum"
   ]
  },
  {
   "cell_type": "code",
   "execution_count": 3,
   "metadata": {},
   "outputs": [],
   "source": [
    "class stt_server:\n",
    "\n",
    "    def __init__(self, cpu_id):\n",
    "\n",
    "        # settings ++\n",
    "        self.cpu_id = cpu_id\n",
    "        self.cpu_cores = [i for i in range(0,15)]\n",
    "\n",
    "        # ms sql\n",
    "        self.sql_name = 'voice_ai'\n",
    "        self.sql_server = '10.2.4.124'\n",
    "        self.sql_login = 'ICECORP\\\\1c_sql'\n",
    "\n",
    "        # mysql\n",
    "        self.mysql_name = {\n",
    "            1: 'MICO_96',\n",
    "            2: 'asterisk',\n",
    "        }\n",
    "        self.mysql_server = '10.2.4.146'\n",
    "        self.mysql_login = 'asterisk'\n",
    "\n",
    "        #self.script_path = '/home/alex/rig1/projects/pc/call_centre_stt_server/'\n",
    "        self.script_path = ''\n",
    "        self.model_path = '/home/alex/rig1/projects/pc/vosk-api/python/example/model'\n",
    "        self.source_id = 0\n",
    "        self.sources = {\n",
    "            'call': 1,\n",
    "            'master': 2,\n",
    "        }\n",
    "        self.original_storage_path = {\n",
    "            1: '/mnt/share/audio/MSK_SRVCALL/RX_TX/',\n",
    "            2: '/mnt/share/audio/MSK_SRVCALL/REC_IN_OUT/'\n",
    "        }\n",
    "        self.temp_file_path = self.script_path+'files/'\n",
    "        # settings --\n",
    "\n",
    "        self.temp_file_name = ''\n",
    "        self.original_file_path = ''\n",
    "        self.original_file_duration\t= 0\n",
    "        self.date_y = ''\n",
    "        self.date_m = ''\n",
    "        self.date_d = ''\n",
    "        self.rec_date = ''\n",
    "\n",
    "        #store pass in file, to prevent pass publication on gitdelete_current_queue\n",
    "        with open(self.script_path+'sql.pass','r') as file:\n",
    "            self.sql_pass = file.read().replace('\\n', '')\n",
    "            file.close()\n",
    "\n",
    "        with open(self.script_path+'mysql.pass','r') as file:\n",
    "            self.mysql_pass = file.read().replace('\\n', '')\n",
    "            file.close()\n",
    "\n",
    "        self.conn = self.connect_sql()\n",
    "        self.mysql_conn = {\n",
    "            1: self.connect_mysql(1),\n",
    "            2: self.connect_mysql(2),\n",
    "        }\n",
    "        \n",
    "    def perf_log(self, step, spent_time, duration, linkedid):\n",
    "        \n",
    "        current_date = datetime.datetime.now().strftime('%Y-%m-%d %H:%M:%S')\n",
    "        cursor = self.conn.cursor()\n",
    "        sql_query = \"insert into perf_log(event_date, step, time, cpu, file_name, duration, linkedid, source_id) \"\n",
    "        sql_query += \"values (\"\n",
    "        sql_query += \"'\" + current_date + \"', \"\n",
    "        sql_query += str(step) + \", \"\n",
    "        sql_query += str(spent_time) + \", \"\n",
    "        sql_query += str(self.cpu_id) + \", \"\n",
    "        sql_query += \"'\" + self.temp_file_name + \"', \"\n",
    "        sql_query += \"'\" + str(duration) + \"', \"\n",
    "        sql_query += \"'\" + str(linkedid) + \"', \"\n",
    "        sql_query += \"'\" + str(self.source_id) + \"');\"\n",
    "        print(sql_query)\n",
    "        cursor.execute(sql_query)\n",
    "        server_object.conn.commit()\n",
    "\n",
    "    def connect_sql(self):\n",
    "\n",
    "        return pymssql.connect(\n",
    "            server = self.sql_server,\n",
    "            user = self.sql_login,\n",
    "            password = self.sql_pass,\n",
    "            database = self.sql_name,\n",
    "            #autocommit=True\n",
    "        )\n",
    "\n",
    "    def connect_mysql(self, source_id):\n",
    "\n",
    "        return mysql.connect(\n",
    "            host = self.mysql_server, \n",
    "            user = self.mysql_login, \n",
    "            passwd = self.mysql_pass,\n",
    "            db = self.mysql_name[source_id],\n",
    "            #autocommit = True\n",
    "        )\n",
    "\n",
    "    def get_fs_files_list(self, queue):\n",
    "        \n",
    "        fd_list = []\n",
    "\n",
    "        if self.source_id == self.sources['call']:\n",
    "            #print('call', len(queue), self.original_file_path)\n",
    "            for root, dirs, files in os.walk(self.original_storage_path[self.source_id]):\n",
    "                #find_files += [os.path.join(root, name) for name in files if name[-4:] == '.wav'] \n",
    "                for filename in files:\n",
    "                    if filename[-4:] == '.wav' and not filename in queue:\n",
    "                        rec_source_date = re.findall(r'\\d{4}-\\d{2}-\\d{2}-\\d{2}-\\d{2}-\\d{2}', filename)\n",
    "                        if len(rec_source_date) and len(rec_source_date[0]):\n",
    "                            rec_date = rec_source_date[0][:10] + ' ' + rec_source_date[0][11:].replace('-', ':')\n",
    "\n",
    "                            if len(re.findall(r'\\d{4}-\\d{2}-\\d{2} \\d{2}:\\d{2}:\\d{2}', rec_date)) == 0:\n",
    "                                rec_date = 'Null'\n",
    "                                print('0 Unable to extract date:', root, filename)\n",
    "\n",
    "                            date_string  = re.findall(r'\\d{4}-\\d{2}-\\d{2}', filename)\n",
    "                            if len(date_string):\n",
    "                                self.date_y = date_string[0][:4]\n",
    "                                self.date_m = date_string[0][5:-3]\n",
    "                                self.date_d = date_string[0][-2:]\n",
    "                                #print(date_y, date_m, date_d, filename)\n",
    "                                linkedid, dst, src = self.linkedid_by_filename(filename) # cycled query\n",
    "\n",
    "                                fd_list.append({\n",
    "                                    'filepath': root,\n",
    "                                    'filename': filename,\n",
    "                                    'rec_date': rec_date,\n",
    "                                    'src': src,\n",
    "                                    'dst': dst,\n",
    "                                    'linkedid': linkedid,\n",
    "                                })\n",
    "                        else:\n",
    "                            print('1 Unable to extract date:', root, filename)\n",
    "        \n",
    "        elif self.source_id == self.sources['master']:\n",
    "            files_list = []\n",
    "            for (dirpath, dirnames, filenames) in os.walk(self.original_storage_path[self.source_id]):\n",
    "                files_list.extend(filenames)\n",
    "                break\n",
    "\n",
    "            # get record date\n",
    "            for filename in files_list:\n",
    "                if not filename in queue:\n",
    "                    rec_date = 'Null'\n",
    "\n",
    "                    #elif self.source_id == self.sources['master']:\n",
    "                    uniqueid = re.findall(r'^\\d*.\\d*', filename)[0]\n",
    "                    cursor = self.mysql_conn[self.source_id].cursor()\n",
    "                    query = \"select calldate, src, dst from cdr where uniqueid = '\" + uniqueid + \"' limit 1;\"\n",
    "                    cursor.execute(query)  # cycled query\n",
    "                    src = ''\n",
    "                    dst = ''\n",
    "                    linkedid = uniqueid\n",
    "                    for row in cursor.fetchall():\n",
    "                        rec_date = str(row[0])\n",
    "                        src = str(row[1])\n",
    "                        dst = str(row[2])\n",
    "                    if len(re.findall(r'\\d{4}-\\d{2}-\\d{2} \\d{2}:\\d{2}:\\d{2}', rec_date)) == 0:\n",
    "                        rec_date = 'Null'\n",
    "                        print('Unable to extract date from filename', filename)\n",
    "\n",
    "                    fd_list.append({\n",
    "                        'filepath': self.original_storage_path[self.source_id],\n",
    "                        'filename': filename,\n",
    "                        'rec_date': rec_date,\n",
    "                        'src': src,\n",
    "                        'dst': dst,\n",
    "                        'linkedid': linkedid,\n",
    "                    })\n",
    "\n",
    "        df = pd.DataFrame(fd_list, columns = ['filepath', 'filename', 'rec_date', 'src', 'dst', 'linkedid'])\n",
    "        df.sort_values(['rec_date', 'filename'], ascending=True, inplace=True)\n",
    "\n",
    "        return df.values\n",
    "    \n",
    "    def get_sql_complete_files(self):\n",
    "\n",
    "        cursor = self.conn.cursor()\n",
    "        sql_query = \"select distinct filename from queue where\"\n",
    "        sql_query += \" source_id='\" + str(self.source_id) + \"'\"\n",
    "        sql_query += \" order by filename;\"\n",
    "        cursor.execute(sql_query)\n",
    "        complete_files = []\n",
    "        for row in cursor.fetchall():\n",
    "            complete_files.append(row[0])\n",
    "\n",
    "        return complete_files\n",
    "    \n",
    "    def get_source_id(self, source_name):\n",
    "        for source in self.sources.items():\n",
    "            if source[0] == source_name:\n",
    "                return source[1]\n",
    "        return 0\n",
    "    \n",
    "    def set_today_ymd(self):\n",
    "        self.date_y\t= datetime.datetime.today().strftime('%Y')\n",
    "        self.date_m\t= datetime.datetime.today().strftime('%m')\n",
    "        self.date_d\t= datetime.datetime.today().strftime('%d')\n",
    "        \n",
    "    def linkedid_by_filename(self, original_file_name):\n",
    "\n",
    "        filename = original_file_name.replace('rxtx.wav', '')\n",
    "\n",
    "        \n",
    "        #print('linkedid_by_filename', self.date_y, self.date_m, self.date_d, original_file_name)\n",
    "        \n",
    "        date_from = datetime.datetime(int(self.date_y), int(self.date_m), int(self.date_d))\n",
    "        date_toto = date_from+datetime.timedelta(days=1)\n",
    "        date_from = datetime.datetime.strptime(str(date_from), '%Y-%m-%d %H:%M:%S').strftime('%Y-%m-%dT%H:%M:%S')\n",
    "        date_toto = datetime.datetime.strptime(str(date_toto), '%Y-%m-%d %H:%M:%S').strftime('%Y-%m-%dT%H:%M:%S')\n",
    "\n",
    "        mysql_conn = self.connect_mysql(self.source_id)\n",
    "\n",
    "        with mysql_conn:\n",
    "        #with self.mysql_conn[self.source_id]:\n",
    "            query = \"\"\"\n",
    "            select \n",
    "                linkedid,\n",
    "                SUBSTRING(dstchannel, 5, 4),\n",
    "                src\n",
    "                from PT1C_cdr_MICO as PT1C_cdr_MICO\n",
    "                where \n",
    "                    calldate>'\"\"\"+date_from+\"\"\"' and \n",
    "                    calldate<'\"\"\"+date_toto+\"\"\"' and \n",
    "                    PT1C_cdr_MICO.recordingfile LIKE '%\"\"\"+filename+\"\"\"%' \n",
    "                    limit 1;\"\"\"\n",
    "\n",
    "            #cursor = mysql_conn[self.source_id].cursor()\n",
    "            cursor = mysql_conn.cursor()\n",
    "            cursor.execute(query)\n",
    "            for row in cursor.fetchall():\n",
    "                linkedid, dstchannel, src = row[0], row[1], row[2]\n",
    "                #print('linkedid, dstchannel', linkedid, dstchannel)\n",
    "                return linkedid, dstchannel, src\n",
    "        return '', '', ''\n",
    "    \n",
    "    def get_fs_files_list(self, queue):\n",
    "\n",
    "        fd_list = []\n",
    "\n",
    "        if self.source_id == self.sources['call']:\n",
    "            for root, dirs, files in os.walk(self.original_storage_path[self.source_id]):\n",
    "                for filename in files:\n",
    "                    if filename[-4:] == '.wav' and not filename in queue:\n",
    "                        rec_source_date = re.findall(r'\\d{4}-\\d{2}-\\d{2}-\\d{2}-\\d{2}-\\d{2}', filename)\n",
    "                        if len(rec_source_date) and len(rec_source_date[0]):\n",
    "                            rec_date = rec_source_date[0][:10] + ' ' + rec_source_date[0][11:].replace('-', ':')\n",
    "\n",
    "                            if len(re.findall(r'\\d{4}-\\d{2}-\\d{2} \\d{2}:\\d{2}:\\d{2}', rec_date)) == 0:\n",
    "                                rec_date = 'Null'\n",
    "                                print('0 Unable to extract date:', root, filename)\n",
    "\n",
    "                            date_string = re.findall(r'\\d{4}-\\d{2}-\\d{2}', filename)\n",
    "                            if len(date_string):\n",
    "                                date_y = date_string[0][:4]\n",
    "                                date_m = date_string[0][5:-3]\n",
    "                                date_d = date_string[0][-2:]\n",
    "                                linkedid, dst, src = self.linkedid_by_filename(filename, date_y, date_m, date_d)  # cycled query\n",
    "\n",
    "                                fd_list.append({\n",
    "                                    'filepath': root+'/',\n",
    "                                    'filename': filename,\n",
    "                                    'rec_date': rec_date,\n",
    "                                    'src': src,\n",
    "                                    'dst': dst,\n",
    "                                    'linkedid': linkedid,\n",
    "                                })\n",
    "                        else:\n",
    "                            print('1 Unable to extract date:', root, filename)\n",
    "                # break # ToDo: remove\n",
    "\n",
    "        elif self.source_id == self.sources['master']:\n",
    "            #print('d1 master')\n",
    "            files_list = []\n",
    "            for (dirpath, dirnames, filenames) in os.walk(self.original_storage_path[self.source_id]):\n",
    "                files_list.extend(filenames)\n",
    "                \n",
    "            #print('d2 os.walk')\n",
    "            # get record date\n",
    "            files_extracted = 0\n",
    "            files_withoud_cdr_data = 0\n",
    "            for filename in files_list:\n",
    "                if not filename in queue:\n",
    "                    rec_date = 'Null'\n",
    "                    uniqueid = re.findall(r'^\\d*.\\d*', filename)[0]\n",
    "                    cursor = self.mysql_conn[self.source_id].cursor()\n",
    "                    query = \"select calldate, src, dst from cdr where uniqueid = '\" + uniqueid + \"' limit 1;\"\n",
    "                    cursor.execute(query)  # cycled query\n",
    "                    src = ''\n",
    "                    dst = ''\n",
    "                    linkedid = uniqueid\n",
    "                    for row in cursor.fetchall():\n",
    "                        rec_date = str(row[0])\n",
    "                        src = str(row[1])\n",
    "                        dst = str(row[2])\n",
    "                    if len(re.findall(r'\\d{4}-\\d{2}-\\d{2} \\d{2}:\\d{2}:\\d{2}', rec_date)) == 0:\n",
    "                        rec_date = 'Null'\n",
    "                        #print('Unable to extract date from filename', filename)\n",
    "                        files_withoud_cdr_data += 1\n",
    "                        continue\n",
    "\n",
    "                    fd_list.append({\n",
    "                        'filepath': self.original_storage_path[self.source_id],\n",
    "                        'filename': filename,\n",
    "                        'rec_date': rec_date,\n",
    "                        'src': src,\n",
    "                        'dst': dst,\n",
    "                        'linkedid': linkedid,\n",
    "                    })\n",
    "                    files_extracted += 1\n",
    "                    \n",
    "            print('master extracted:', files_extracted, 'without cdr data:', files_withoud_cdr_data)\n",
    "\n",
    "        df = pd.DataFrame(fd_list, columns=['filepath', 'filename', 'rec_date', 'src', 'dst', 'linkedid'])\n",
    "        df.sort_values(['rec_date', 'filename'], ascending=True, inplace=True)\n",
    "        \n",
    "        \n",
    "\n",
    "        return df.values"
   ]
  },
  {
   "cell_type": "markdown",
   "metadata": {},
   "source": [
    "### sorting fix"
   ]
  },
  {
   "cell_type": "code",
   "execution_count": 10,
   "metadata": {},
   "outputs": [
    {
     "name": "stdout",
     "output_type": "stream",
     "text": [
      "('/mnt/share/audio/MSK_SRVCALL/RX_TX/RXTX_2021-02/16/', 'in_9633201587_2021-02-16-07-04-00rxtx.wav', 101.26, 1, datetime.datetime(2021, 2, 16, 7, 4), '9633201587', '5072', '1613448239.1591526')\n",
      "('/mnt/share/audio/MSK_SRVCALL/RX_TX/RXTX_2021-02/16/', 'in_9295742822_2021-02-16-08-03-43rxtx.wav', 193.94, 1, datetime.datetime(2021, 2, 16, 8, 3, 43), '9295742822', '5020', '1613451821.1592006')\n",
      "('/mnt/share/audio/MSK_SRVCALL/RX_TX/RXTX_2021-02/16/', 'in_4957237230_2021-02-16-08-06-57rxtx.wav', 7.0, 1, datetime.datetime(2021, 2, 16, 8, 6, 57), '4957237230', '5075', '1613452015.1592078')\n"
     ]
    }
   ],
   "source": [
    "server_object = stt_server(0)\n",
    "server_object.source_id = 2\n",
    "cursor = server_object.conn.cursor()\n",
    "past_in_minutes = pendulum.now().add(minutes=-6).strftime('%Y-%m-%d %H:%M:%S')\n",
    "sql_query = \"select top 3 filepath, filename, duration, source_id, \"\n",
    "sql_query += \"record_date, src, dst, linkedid from queue \"\n",
    "sql_query += \"where cpu_id='\" + str(server_object.cpu_id) + \"' \"\n",
    "sql_query += \"and ( (source_id = '2' and record_date < '\" + past_in_minutes + \"') or not source_id = '2' ) \"\n",
    "sql_query += \"order by record_date, filename;\"\n",
    "cursor.execute(sql_query)\n",
    "for row in cursor.fetchall():\n",
    "    print(row)"
   ]
  },
  {
   "cell_type": "code",
   "execution_count": null,
   "metadata": {},
   "outputs": [],
   "source": []
  },
  {
   "cell_type": "markdown",
   "metadata": {},
   "source": [
    "### mid vosk confidence"
   ]
  },
  {
   "cell_type": "code",
   "execution_count": 14,
   "metadata": {},
   "outputs": [],
   "source": [
    "server_object = stt_server(0)\n",
    "server_object.source_id = 2"
   ]
  },
  {
   "cell_type": "code",
   "execution_count": 17,
   "metadata": {},
   "outputs": [
    {
     "name": "stdout",
     "output_type": "stream",
     "text": [
      "(0.8697060696547252,)\n"
     ]
    }
   ],
   "source": [
    "cursor = server_object.conn.cursor()\n",
    "query = \"SELECT avg(conf) FROM transcribations where not text = '';\"\n",
    "cursor.execute(query)\n",
    "for row in cursor.fetchall():\n",
    "    print(row)"
   ]
  },
  {
   "cell_type": "code",
   "execution_count": 18,
   "metadata": {},
   "outputs": [
    {
     "name": "stdout",
     "output_type": "stream",
     "text": [
      "(14201882,)\n"
     ]
    }
   ],
   "source": [
    "cursor = server_object.conn.cursor()\n",
    "query = \"SELECT count(id) FROM transcribations where not text = '';\"\n",
    "cursor.execute(query)\n",
    "for row in cursor.fetchall():\n",
    "    print(row)"
   ]
  },
  {
   "cell_type": "code",
   "execution_count": 25,
   "metadata": {},
   "outputs": [
    {
     "name": "stdout",
     "output_type": "stream",
     "text": [
      "(4979461,)\n"
     ]
    }
   ],
   "source": [
    "cursor = server_object.conn.cursor()\n",
    "query = \"SELECT count(id) FROM transcribations\"\n",
    "query += \" where not text = '' \"\n",
    "query += \" and conf<0.8697060696547252;\"\n",
    "cursor.execute(query)\n",
    "for row in cursor.fetchall():\n",
    "    print(row)"
   ]
  },
  {
   "cell_type": "code",
   "execution_count": 31,
   "metadata": {},
   "outputs": [
    {
     "name": "stdout",
     "output_type": "stream",
     "text": [
      "(2395819,)\n"
     ]
    }
   ],
   "source": [
    "cursor = server_object.conn.cursor()\n",
    "query = \"SELECT count(id) FROM transcribations\"\n",
    "query += \" where not text = '' \"\n",
    "query += \" and conf<0.76;\"\n",
    "cursor.execute(query)\n",
    "for row in cursor.fetchall():\n",
    "    print(row)"
   ]
  },
  {
   "cell_type": "code",
   "execution_count": 32,
   "metadata": {},
   "outputs": [
    {
     "name": "stdout",
     "output_type": "stream",
     "text": [
      "(4841039,)\n"
     ]
    }
   ],
   "source": [
    "cursor = server_object.conn.cursor()\n",
    "query = \"SELECT count(id) FROM transcribations\"\n",
    "query += \" where not text = '' \"\n",
    "query += \" and conf>0.96;\"\n",
    "cursor.execute(query)\n",
    "for row in cursor.fetchall():\n",
    "    print(row)"
   ]
  },
  {
   "cell_type": "markdown",
   "metadata": {},
   "source": [
    "### 1c - mrm relation"
   ]
  },
  {
   "cell_type": "code",
   "execution_count": 2,
   "metadata": {},
   "outputs": [
    {
     "ename": "NameError",
     "evalue": "name 'stt_server' is not defined",
     "output_type": "error",
     "traceback": [
      "\u001b[0;31m---------------------------------------------------------------------------\u001b[0m",
      "\u001b[0;31mNameError\u001b[0m                                 Traceback (most recent call last)",
      "\u001b[0;32m<ipython-input-2-1793215a4e5f>\u001b[0m in \u001b[0;36m<module>\u001b[0;34m\u001b[0m\n\u001b[0;32m----> 1\u001b[0;31m \u001b[0mserver_object\u001b[0m \u001b[0;34m=\u001b[0m \u001b[0mstt_server\u001b[0m\u001b[0;34m(\u001b[0m\u001b[0;36m0\u001b[0m\u001b[0;34m)\u001b[0m\u001b[0;34m\u001b[0m\u001b[0;34m\u001b[0m\u001b[0m\n\u001b[0m\u001b[1;32m      2\u001b[0m \u001b[0mserver_object\u001b[0m\u001b[0;34m.\u001b[0m\u001b[0msource_id\u001b[0m \u001b[0;34m=\u001b[0m \u001b[0;36m2\u001b[0m\u001b[0;34m\u001b[0m\u001b[0;34m\u001b[0m\u001b[0m\n",
      "\u001b[0;31mNameError\u001b[0m: name 'stt_server' is not defined"
     ]
    }
   ],
   "source": [
    "server_object = stt_server(0)\n",
    "server_object.source_id = 2"
   ]
  },
  {
   "cell_type": "code",
   "execution_count": 66,
   "metadata": {},
   "outputs": [
    {
     "name": "stdout",
     "output_type": "stream",
     "text": [
      "('transcribation_date',)\n",
      "('date_y',)\n",
      "('date_m',)\n",
      "('date_d',)\n",
      "('side',)\n",
      "('text',)\n",
      "('start',)\n",
      "('audio_file_name',)\n",
      "('conf',)\n",
      "('end_time',)\n",
      "('sentiment',)\n",
      "('sentiment_pos',)\n",
      "('sentiment_neg',)\n",
      "('ID',)\n",
      "('linkedid',)\n",
      "('dst',)\n",
      "('record_date',)\n",
      "('source_id',)\n",
      "('src',)\n",
      "('cpu_id',)\n",
      "('duration',)\n"
     ]
    }
   ],
   "source": [
    "cursor = server_object.conn.cursor()\n",
    "query = \"SELECT column_name FROM information_schema.columns WHERE table_name='transcribations';\"\n",
    "cursor.execute(query)\n",
    "for row in cursor.fetchall():\n",
    "    print(row)"
   ]
  },
  {
   "cell_type": "code",
   "execution_count": 5,
   "metadata": {},
   "outputs": [
    {
     "name": "stdout",
     "output_type": "stream",
     "text": [
      "(8178,)\n"
     ]
    }
   ],
   "source": [
    "cursor = server_object.conn.cursor()\n",
    "query = \"SELECT count(distinct linkedid) from transcribations\"\n",
    "query += \" where record_date > '2021-04-19 00:00:00' and record_date < '2021-04-20 00:00:00';\"\n",
    "cursor.execute(query)\n",
    "for row in cursor.fetchall():\n",
    "    print(row)"
   ]
  },
  {
   "cell_type": "code",
   "execution_count": 13,
   "metadata": {},
   "outputs": [
    {
     "name": "stdout",
     "output_type": "stream",
     "text": [
      "(10, 2066644)\n",
      "(0, 1330893)\n",
      "(4, 1297043)\n",
      "(11, 231930)\n",
      "(3, 2259)\n",
      "(14, 247)\n",
      "(9, 102)\n",
      "(2, 45)\n",
      "(12, 10)\n",
      "(8, 6)\n"
     ]
    }
   ],
   "source": [
    "cursor = server_object.conn.cursor()\n",
    "query = \"SELECT LEN(src), count(LEN(src)) from transcribations\"\n",
    "query += \" where source_id = 2 group by LEN(src) order by count(LEN(src)) desc;\"\n",
    "cursor.execute(query)\n",
    "for row in cursor.fetchall():\n",
    "    print(row)"
   ]
  },
  {
   "cell_type": "code",
   "execution_count": 17,
   "metadata": {},
   "outputs": [
    {
     "name": "stdout",
     "output_type": "stream",
     "text": [
      "(datetime.datetime(2021, 4, 13, 9, 48), '9055316577', '89150345780', '1618296480.2807604')\n",
      "(datetime.datetime(2021, 4, 13, 9, 59, 45), '9055316577', '89150345780', '1618297185.2807876')\n",
      "(datetime.datetime(2021, 4, 13, 15, 18, 39), '9055316577', '89150345780', '1618316319.2819830')\n",
      "(datetime.datetime(2021, 4, 13, 16, 13, 50), '9055316577', '89150345780', '1618319630.2821425')\n",
      "(datetime.datetime(2021, 4, 13, 16, 15, 29), '9055316577', '89150345780', '1618319729.2821476')\n",
      "(datetime.datetime(2021, 4, 13, 16, 21, 25), '9055316577', '89150345780', '1618320085.2821663')\n"
     ]
    }
   ],
   "source": [
    "cursor = server_object.conn.cursor()\n",
    "query = \"SELECT top 20 max(record_date), src, dst, linkedid from transcribations\"\n",
    "#query += \" where source_id = 2 and LEN(dst) = 10\"\n",
    "query += \" where src = '9055316577' and dst = '89150345780'\"\n",
    "#query += \" and not substring(src,1,1) = '7'\"\n",
    "query += \" group by src, dst, linkedid;\"\n",
    "cursor.execute(query)\n",
    "for row in cursor.fetchall():\n",
    "    print(row)"
   ]
  },
  {
   "cell_type": "code",
   "execution_count": 14,
   "metadata": {},
   "outputs": [
    {
     "name": "stdout",
     "output_type": "stream",
     "text": [
      "(12, 2928808)\n",
      "(0, 1330893)\n",
      "(11, 326414)\n",
      "(7, 230764)\n",
      "(10, 112123)\n",
      "(1, 172)\n",
      "(4, 35)\n"
     ]
    }
   ],
   "source": [
    "cursor = server_object.conn.cursor()\n",
    "query = \"SELECT LEN(dst), count(LEN(dst)) from transcribations\"\n",
    "query += \" where source_id = 2 group by LEN(dst) order by count(LEN(dst)) desc;\"\n",
    "cursor.execute(query)\n",
    "for row in cursor.fetchall():\n",
    "    print(row)"
   ]
  },
  {
   "cell_type": "code",
   "execution_count": 41,
   "metadata": {},
   "outputs": [
    {
     "name": "stdout",
     "output_type": "stream",
     "text": [
      "('8314351431', '8')\n",
      "('4956452922', '4')\n",
      "('8632855711', '8')\n",
      "('4951981025', '4')\n",
      "('8123320481', '8')\n",
      "('8312653120', '8')\n",
      "('8123320484', '8')\n",
      "('8619914511', '8')\n"
     ]
    }
   ],
   "source": [
    "cursor = server_object.conn.cursor()\n",
    "query = \"SELECT top 100 dst, substring(dst,1,1) from transcribations\"\n",
    "query += \" where source_id = 2 and LEN(dst) = 10  group by dst;\"\n",
    "cursor.execute(query)\n",
    "for row in cursor.fetchall():\n",
    "    print(row)"
   ]
  },
  {
   "cell_type": "code",
   "execution_count": 72,
   "metadata": {},
   "outputs": [
    {
     "name": "stdout",
     "output_type": "stream",
     "text": [
      "(10.920495, False, 'для бровей')\n",
      "(13.053334, False, 'мне владимир зовут мастер ремонт швейных машин и позовёшь получил')\n",
      "(17.82, False, 'вы в какой день хотели встретиться')\n",
      "(23.67, False, 'ну если можно завтра потому что сегодня день уже расписан')\n",
      "(27.27, False, 'по большей части')\n",
      "(31.47, False, 'так доктор тринадцатая')\n",
      "(35.673083, False, 'так')\n",
      "(39.63, False, 'ну где то сейчас с одиннадцати до часу')\n",
      "(44.79, False, 'я вам тогда заранее переживанию')\n",
      "(48.06, False, 'до свидания')\n",
      "(49.8, False, 'дара')\n",
      "(55.95, False, 'но у меня кое-что есть с собой там какие-то запчасти')\n",
      "(60.6, False, 'я тогда')\n",
      "(63.0, False, 'ну в общем я свяжусь с вами')\n",
      "(67.08, False, 'да')\n",
      "(69.071118, False, 'пока трудно сказать без первичного осмотра')\n",
      "(78.78, False, 'ну пределы пределы вы понимаете я могу назначить какие-то свои пределы вы скажете что у меня столько денег нет поэтому буду подстраиваться под вас')\n",
      "(92.52, False, 'все дозатор населения')\n"
     ]
    }
   ],
   "source": [
    "linkedid = '1615539298.2155707'\n",
    "cursor = server_object.conn.cursor()\n",
    "query = \"SELECT start, side, text from transcribations where linkedid = '\" + linkedid + \"' order by start;\"\n",
    "cursor.execute(query)\n",
    "for row in cursor.fetchall():\n",
    "    print(row)"
   ]
  },
  {
   "cell_type": "code",
   "execution_count": 77,
   "metadata": {},
   "outputs": [],
   "source": [
    "naufon = '1615538028.2112236'"
   ]
  },
  {
   "cell_type": "code",
   "execution_count": 78,
   "metadata": {},
   "outputs": [
    {
     "name": "stdout",
     "output_type": "stream",
     "text": [
      "(0.061393, True, 'и')\n",
      "(0.600222, False, 'это я тоже делаю на руках сейчас я попробую позвонить')\n",
      "(4.68, True, 'монтана оператора юлия слушаю вас')\n",
      "(7.11, False, 'здрасте скажите просто монтируется')\n",
      "(12.3, False, 'швейная машинка чайка сто сорок два эм электрическое')\n",
      "(16.07606, True, 'в москве проживает')\n",
      "(17.46, False, 'да да')\n",
      "(19.47, True, 'да ремонтируем')\n",
      "(21.93, True, 'звонок от мастера будет в ближайшее время то есть в ближайшее час примерно так чайка да она у вас какая неисправность')\n",
      "(27.36, False, 'да чай')\n",
      "(28.86, False, 'человек сто сорок два эм у нас')\n",
      "(31.98, False, 'вылетела вот штучка которая за натяжение нити отвечает')\n",
      "(37.95, True, 'она у вас электрическая или обычная электрическая')\n",
      "(39.84, False, 'электрическая электрическая')\n",
      "(43.148405, True, 'здесь')\n",
      "(48.27, True, 'получается петля и дана прыжке')\n",
      "(51.0, False, 'а')\n",
      "(51.69, True, 'петляет при шитье да раз натяжение нету')\n",
      "(54.36, False, 'она нет она просто оттуда вылетела просто невозможно даже ничего прошить')\n",
      "(58.47, True, 'а все поняла')\n",
      "(60.63, True, 'давайте я вас запишу звонок будет в течение часа с мастером обсудите и время и соответственно все что вас интересует и попробуйте')\n",
      "(67.56, False, 'хорошо он подать номер будете звонить')\n",
      "(69.99, True, 'вот сейчас я запишу какой номер пройдёт тот и будет как вас зовут')\n",
      "(72.51, False, 'а')\n",
      "(74.19, False, 'ирина')\n",
      "(75.75, True, 'ирина и надо ещё будет указать хотя бы улицу с номером домом ну и естесно контактный телефон то что мастера по районам работает чтобы мастеровой по вашему району')\n",
      "(82.71, False, 'филёвский бульвар')\n",
      "(84.72, True, 'филёвский бульвар дом')\n",
      "(86.13, False, 'дом семь корпуса один')\n",
      "(92.28, True, 'дом семь корпус один на метро ближайшая')\n",
      "(95.52, False, 'фили')\n",
      "(98.49, True, 'телефон ваш контактный')\n",
      "(100.65, False, 'девятьсот шесть')\n",
      "(103.14, False, 'семь два один')\n",
      "(104.52, True, 'семь два один')\n",
      "(105.99, False, 'один один пять пять')\n",
      "(108.45, True, 'так сверяем девятьсот шесть семь семьсот двадцать один один один пять пять москва филевский бульвар дом семь корпус')\n",
      "(115.68, True, 'один так сейчас секундочку я дальше все сделаю')\n",
      "(116.85, False, 'гм')\n",
      "(125.04, True, 'да')\n",
      "(125.456528, True, 'чайка')\n",
      "(130.56, True, 'так сломан натяжитель нити я правильно поняла')\n",
      "(133.35, False, 'да ну и что сейчас клеит чела не знаю что там может быть из-за этого')\n",
      "(140.67, True, 'может быть ожидайте пожалуйста в ближайший час звонок специалиста номер вашей заявки сто пятьдесят девять девяносто девять десять')\n",
      "(148.74, True, 'сто пятьдесят четыре девяносто судить необязательно к телефону к вашему заявку привязывается так что если неудобно не записывайте')\n",
      "(149.19, False, 'а у многол')\n",
      "(153.93, False, 'а')\n",
      "(155.34, False, 'хорошо')\n",
      "(156.3, True, 'всего добро до свидания')\n",
      "(157.23, False, 'спасибо большое')\n",
      "(158.28, True, 'да место')\n"
     ]
    }
   ],
   "source": [
    "cursor = server_object.conn.cursor()\n",
    "query = \"SELECT start, side, text from transcribations where linkedid = '\" + naufon + \"' order by start;\"\n",
    "cursor.execute(query)\n",
    "for row in cursor.fetchall():\n",
    "    print(row)"
   ]
  },
  {
   "cell_type": "code",
   "execution_count": 17,
   "metadata": {},
   "outputs": [
    {
     "name": "stdout",
     "output_type": "stream",
     "text": [
      "(datetime.datetime(2021, 9, 1, 8, 49, 6), 'a2021-09-01t08:49:06b_c9037934759d_e9166554555f_g1630475344.452250h-in.wav', 1)\n"
     ]
    }
   ],
   "source": [
    "server_object = stt_server(0)\n",
    "cursor = server_object.conn.cursor()\n",
    "sql_query = \"select top 3 record_date, filename, version from queue where cpu_id=1\"\n",
    "#sql_query += \" where linkedid='\" + linkedid + \"'\"\n",
    "sql_query += \" order by record_date desc;\"\n",
    "cursor.execute(sql_query)\n",
    "complete_files = []\n",
    "for row in cursor.fetchall():\n",
    "    print(row)"
   ]
  },
  {
   "cell_type": "code",
   "execution_count": null,
   "metadata": {},
   "outputs": [],
   "source": []
  },
  {
   "cell_type": "markdown",
   "metadata": {},
   "source": [
    "### drop transcribation duplicates"
   ]
  },
  {
   "cell_type": "code",
   "execution_count": 5,
   "metadata": {},
   "outputs": [
    {
     "name": "stdout",
     "output_type": "stream",
     "text": [
      "(13866322,)\n"
     ]
    }
   ],
   "source": [
    "# all records counter\n",
    "server_object = stt_server(0)\n",
    "server_object.source_id = 2\n",
    "cursor = server_object.conn.cursor()\n",
    "query = \"SELECT count(a.id) from transcribations as a;\"\n",
    "cursor.execute(query)\n",
    "for row in cursor.fetchall():\n",
    "    print(row)"
   ]
  },
  {
   "cell_type": "code",
   "execution_count": 6,
   "metadata": {},
   "outputs": [
    {
     "name": "stdout",
     "output_type": "stream",
     "text": [
      "(5475,)\n"
     ]
    }
   ],
   "source": [
    "# duplicates counter\n",
    "server_object = stt_server(0)\n",
    "server_object.source_id = 2\n",
    "cursor = server_object.conn.cursor()\n",
    "query = \"select count(distinct a.id) from transcribations as a\"\n",
    "query += \" inner join transcribations as b\"\n",
    "query += \" on a.record_date = b.record_date\"\n",
    "query += \" and a.start = b.start\"\n",
    "query += \" and a.side = b.side\"\n",
    "query += \" and not a.id = b.id;\"\n",
    "cursor.execute(query)\n",
    "for row in cursor.fetchall():\n",
    "    print(row)"
   ]
  },
  {
   "cell_type": "code",
   "execution_count": 7,
   "metadata": {},
   "outputs": [],
   "source": [
    "# show duplicates\n",
    "server_object = stt_server(0)\n",
    "server_object.source_id = 2\n",
    "cursor = server_object.conn.cursor()\n",
    "query = \"select a.record_date, a.start, a.source_id, a.side, a.text, b.text from transcribations as a\"\n",
    "query += \" inner join transcribations as b\"\n",
    "query += \" on a.record_date = b.record_date\"\n",
    "query += \" and a.start = b.start\"\n",
    "query += \" and a.side = b.side\"\n",
    "query += \" and not a.id = b.id;\"\n",
    "#cursor.execute(query)\n",
    "#for row in cursor.fetchall():\n",
    "#    print(row)"
   ]
  },
  {
   "cell_type": "code",
   "execution_count": 6,
   "metadata": {},
   "outputs": [
    {
     "name": "stdout",
     "output_type": "stream",
     "text": [
      "duplicates removed\n"
     ]
    }
   ],
   "source": [
    "# duplicates remover\n",
    "server_object = stt_server(0)\n",
    "server_object.source_id = 2\n",
    "cursor = server_object.conn.cursor()\n",
    "query = \"delete from transcribations where id in\"\n",
    "query += \" (select distinct a.id as id from transcribations as a\"\n",
    "query += \" inner join transcribations as b\"\n",
    "query += \" on a.record_date = b.record_date\"\n",
    "query += \" and a.start = b.start\"\n",
    "query += \" and a.side = b.side\"\n",
    "query += \" and not a.id = b.id);\"\n",
    "cursor.execute(query)\n",
    "server_object.conn.commit()\n",
    "print('duplicates removed')"
   ]
  },
  {
   "cell_type": "markdown",
   "metadata": {},
   "source": [
    "### master date by linkedid fix ++"
   ]
  },
  {
   "cell_type": "code",
   "execution_count": 20,
   "metadata": {},
   "outputs": [],
   "source": [
    "server_object = stt_server(0)\n",
    "server_object.source_id = 2"
   ]
  },
  {
   "cell_type": "code",
   "execution_count": 5,
   "metadata": {},
   "outputs": [
    {
     "name": "stdout",
     "output_type": "stream",
     "text": [
      "('transcribation_date',)\n",
      "('date_y',)\n",
      "('date_m',)\n",
      "('date_d',)\n",
      "('side',)\n",
      "('text',)\n",
      "('start',)\n",
      "('audio_file_name',)\n",
      "('conf',)\n",
      "('end_time',)\n",
      "('sentiment',)\n",
      "('sentiment_pos',)\n",
      "('sentiment_neg',)\n",
      "('ID',)\n",
      "('linkedid',)\n",
      "('dst',)\n",
      "('record_date',)\n",
      "('source_id',)\n",
      "('src',)\n",
      "('cpu_id',)\n",
      "('duration',)\n"
     ]
    }
   ],
   "source": [
    "cursor = server_object.conn.cursor()\n",
    "query = \"SELECT column_name FROM information_schema.columns WHERE table_name='transcribations';\"\n",
    "cursor.execute(query)\n",
    "for row in cursor.fetchall():\n",
    "    print(row)"
   ]
  },
  {
   "cell_type": "code",
   "execution_count": 7,
   "metadata": {},
   "outputs": [
    {
     "name": "stdout",
     "output_type": "stream",
     "text": [
      "(datetime.datetime(2021, 3, 10, 7, 21, 58), None, '1615349750.2104256', '1615349750.2104256-in.wav', 7.36)\n"
     ]
    }
   ],
   "source": [
    "# last transcribed file whithout record_date\n",
    "cursor = server_object.conn.cursor()\n",
    "\n",
    "query = 'select top 1 transcribation_date, record_date, linkedid, audio_file_name, duration'\n",
    "query += ' from transcribations where record_date is Null'\n",
    "query += ' order by transcribation_date desc;'\n",
    "\n",
    "cursor.execute(query)\n",
    "for row in cursor.fetchall():\n",
    "    print(row)"
   ]
  },
  {
   "cell_type": "code",
   "execution_count": 12,
   "metadata": {},
   "outputs": [
    {
     "data": {
      "text/plain": [
       "'1615447249.2130536'"
      ]
     },
     "execution_count": 12,
     "metadata": {},
     "output_type": "execute_result"
    }
   ],
   "source": [
    "filename = '1615447249.2130536-in.wav'\n",
    "uniqueid = re.findall(r'^\\d*.\\d*', filename)[0]\n",
    "uniqueid"
   ]
  },
  {
   "cell_type": "code",
   "execution_count": 64,
   "metadata": {},
   "outputs": [
    {
     "ename": "InternalError",
     "evalue": "(1054, \"Unknown column 'linked_id' in 'where clause'\")",
     "output_type": "error",
     "traceback": [
      "\u001b[0;31m---------------------------------------------------------------------------\u001b[0m",
      "\u001b[0;31mInternalError\u001b[0m                             Traceback (most recent call last)",
      "\u001b[0;32m<ipython-input-64-d1432188f020>\u001b[0m in \u001b[0;36m<module>\u001b[0;34m\u001b[0m\n\u001b[1;32m      5\u001b[0m \u001b[0mcursor\u001b[0m \u001b[0;34m=\u001b[0m \u001b[0mserver_object\u001b[0m\u001b[0;34m.\u001b[0m\u001b[0mmysql_conn\u001b[0m\u001b[0;34m[\u001b[0m\u001b[0mserver_object\u001b[0m\u001b[0;34m.\u001b[0m\u001b[0msource_id\u001b[0m\u001b[0;34m]\u001b[0m\u001b[0;34m.\u001b[0m\u001b[0mcursor\u001b[0m\u001b[0;34m(\u001b[0m\u001b[0;34m)\u001b[0m\u001b[0;34m\u001b[0m\u001b[0;34m\u001b[0m\u001b[0m\n\u001b[1;32m      6\u001b[0m \u001b[0mquery\u001b[0m \u001b[0;34m=\u001b[0m \u001b[0;34m\"select calldate, src, dst from cdr where linked_id = '\"\u001b[0m \u001b[0;34m+\u001b[0m \u001b[0muniqueid\u001b[0m \u001b[0;34m+\u001b[0m \u001b[0;34m\"' limit 1;\"\u001b[0m\u001b[0;34m\u001b[0m\u001b[0;34m\u001b[0m\u001b[0m\n\u001b[0;32m----> 7\u001b[0;31m \u001b[0mcursor\u001b[0m\u001b[0;34m.\u001b[0m\u001b[0mexecute\u001b[0m\u001b[0;34m(\u001b[0m\u001b[0mquery\u001b[0m\u001b[0;34m)\u001b[0m  \u001b[0;31m# cycled query\u001b[0m\u001b[0;34m\u001b[0m\u001b[0;34m\u001b[0m\u001b[0m\n\u001b[0m\u001b[1;32m      8\u001b[0m \u001b[0msrc\u001b[0m \u001b[0;34m=\u001b[0m \u001b[0;34m''\u001b[0m\u001b[0;34m\u001b[0m\u001b[0;34m\u001b[0m\u001b[0m\n\u001b[1;32m      9\u001b[0m \u001b[0mdst\u001b[0m \u001b[0;34m=\u001b[0m \u001b[0;34m''\u001b[0m\u001b[0;34m\u001b[0m\u001b[0;34m\u001b[0m\u001b[0m\n",
      "\u001b[0;32m~/anaconda3/lib/python3.7/site-packages/pymysql/cursors.py\u001b[0m in \u001b[0;36mexecute\u001b[0;34m(self, query, args)\u001b[0m\n\u001b[1;32m    168\u001b[0m         \u001b[0mquery\u001b[0m \u001b[0;34m=\u001b[0m \u001b[0mself\u001b[0m\u001b[0;34m.\u001b[0m\u001b[0mmogrify\u001b[0m\u001b[0;34m(\u001b[0m\u001b[0mquery\u001b[0m\u001b[0;34m,\u001b[0m \u001b[0margs\u001b[0m\u001b[0;34m)\u001b[0m\u001b[0;34m\u001b[0m\u001b[0;34m\u001b[0m\u001b[0m\n\u001b[1;32m    169\u001b[0m \u001b[0;34m\u001b[0m\u001b[0m\n\u001b[0;32m--> 170\u001b[0;31m         \u001b[0mresult\u001b[0m \u001b[0;34m=\u001b[0m \u001b[0mself\u001b[0m\u001b[0;34m.\u001b[0m\u001b[0m_query\u001b[0m\u001b[0;34m(\u001b[0m\u001b[0mquery\u001b[0m\u001b[0;34m)\u001b[0m\u001b[0;34m\u001b[0m\u001b[0;34m\u001b[0m\u001b[0m\n\u001b[0m\u001b[1;32m    171\u001b[0m         \u001b[0mself\u001b[0m\u001b[0;34m.\u001b[0m\u001b[0m_executed\u001b[0m \u001b[0;34m=\u001b[0m \u001b[0mquery\u001b[0m\u001b[0;34m\u001b[0m\u001b[0;34m\u001b[0m\u001b[0m\n\u001b[1;32m    172\u001b[0m         \u001b[0;32mreturn\u001b[0m \u001b[0mresult\u001b[0m\u001b[0;34m\u001b[0m\u001b[0;34m\u001b[0m\u001b[0m\n",
      "\u001b[0;32m~/anaconda3/lib/python3.7/site-packages/pymysql/cursors.py\u001b[0m in \u001b[0;36m_query\u001b[0;34m(self, q)\u001b[0m\n\u001b[1;32m    326\u001b[0m         \u001b[0mself\u001b[0m\u001b[0;34m.\u001b[0m\u001b[0m_last_executed\u001b[0m \u001b[0;34m=\u001b[0m \u001b[0mq\u001b[0m\u001b[0;34m\u001b[0m\u001b[0;34m\u001b[0m\u001b[0m\n\u001b[1;32m    327\u001b[0m         \u001b[0mself\u001b[0m\u001b[0;34m.\u001b[0m\u001b[0m_clear_result\u001b[0m\u001b[0;34m(\u001b[0m\u001b[0;34m)\u001b[0m\u001b[0;34m\u001b[0m\u001b[0;34m\u001b[0m\u001b[0m\n\u001b[0;32m--> 328\u001b[0;31m         \u001b[0mconn\u001b[0m\u001b[0;34m.\u001b[0m\u001b[0mquery\u001b[0m\u001b[0;34m(\u001b[0m\u001b[0mq\u001b[0m\u001b[0;34m)\u001b[0m\u001b[0;34m\u001b[0m\u001b[0;34m\u001b[0m\u001b[0m\n\u001b[0m\u001b[1;32m    329\u001b[0m         \u001b[0mself\u001b[0m\u001b[0;34m.\u001b[0m\u001b[0m_do_get_result\u001b[0m\u001b[0;34m(\u001b[0m\u001b[0;34m)\u001b[0m\u001b[0;34m\u001b[0m\u001b[0;34m\u001b[0m\u001b[0m\n\u001b[1;32m    330\u001b[0m         \u001b[0;32mreturn\u001b[0m \u001b[0mself\u001b[0m\u001b[0;34m.\u001b[0m\u001b[0mrowcount\u001b[0m\u001b[0;34m\u001b[0m\u001b[0;34m\u001b[0m\u001b[0m\n",
      "\u001b[0;32m~/anaconda3/lib/python3.7/site-packages/pymysql/connections.py\u001b[0m in \u001b[0;36mquery\u001b[0;34m(self, sql, unbuffered)\u001b[0m\n\u001b[1;32m    515\u001b[0m                 \u001b[0msql\u001b[0m \u001b[0;34m=\u001b[0m \u001b[0msql\u001b[0m\u001b[0;34m.\u001b[0m\u001b[0mencode\u001b[0m\u001b[0;34m(\u001b[0m\u001b[0mself\u001b[0m\u001b[0;34m.\u001b[0m\u001b[0mencoding\u001b[0m\u001b[0;34m,\u001b[0m \u001b[0;34m'surrogateescape'\u001b[0m\u001b[0;34m)\u001b[0m\u001b[0;34m\u001b[0m\u001b[0;34m\u001b[0m\u001b[0m\n\u001b[1;32m    516\u001b[0m         \u001b[0mself\u001b[0m\u001b[0;34m.\u001b[0m\u001b[0m_execute_command\u001b[0m\u001b[0;34m(\u001b[0m\u001b[0mCOMMAND\u001b[0m\u001b[0;34m.\u001b[0m\u001b[0mCOM_QUERY\u001b[0m\u001b[0;34m,\u001b[0m \u001b[0msql\u001b[0m\u001b[0;34m)\u001b[0m\u001b[0;34m\u001b[0m\u001b[0;34m\u001b[0m\u001b[0m\n\u001b[0;32m--> 517\u001b[0;31m         \u001b[0mself\u001b[0m\u001b[0;34m.\u001b[0m\u001b[0m_affected_rows\u001b[0m \u001b[0;34m=\u001b[0m \u001b[0mself\u001b[0m\u001b[0;34m.\u001b[0m\u001b[0m_read_query_result\u001b[0m\u001b[0;34m(\u001b[0m\u001b[0munbuffered\u001b[0m\u001b[0;34m=\u001b[0m\u001b[0munbuffered\u001b[0m\u001b[0;34m)\u001b[0m\u001b[0;34m\u001b[0m\u001b[0;34m\u001b[0m\u001b[0m\n\u001b[0m\u001b[1;32m    518\u001b[0m         \u001b[0;32mreturn\u001b[0m \u001b[0mself\u001b[0m\u001b[0;34m.\u001b[0m\u001b[0m_affected_rows\u001b[0m\u001b[0;34m\u001b[0m\u001b[0;34m\u001b[0m\u001b[0m\n\u001b[1;32m    519\u001b[0m \u001b[0;34m\u001b[0m\u001b[0m\n",
      "\u001b[0;32m~/anaconda3/lib/python3.7/site-packages/pymysql/connections.py\u001b[0m in \u001b[0;36m_read_query_result\u001b[0;34m(self, unbuffered)\u001b[0m\n\u001b[1;32m    730\u001b[0m         \u001b[0;32melse\u001b[0m\u001b[0;34m:\u001b[0m\u001b[0;34m\u001b[0m\u001b[0;34m\u001b[0m\u001b[0m\n\u001b[1;32m    731\u001b[0m             \u001b[0mresult\u001b[0m \u001b[0;34m=\u001b[0m \u001b[0mMySQLResult\u001b[0m\u001b[0;34m(\u001b[0m\u001b[0mself\u001b[0m\u001b[0;34m)\u001b[0m\u001b[0;34m\u001b[0m\u001b[0;34m\u001b[0m\u001b[0m\n\u001b[0;32m--> 732\u001b[0;31m             \u001b[0mresult\u001b[0m\u001b[0;34m.\u001b[0m\u001b[0mread\u001b[0m\u001b[0;34m(\u001b[0m\u001b[0;34m)\u001b[0m\u001b[0;34m\u001b[0m\u001b[0;34m\u001b[0m\u001b[0m\n\u001b[0m\u001b[1;32m    733\u001b[0m         \u001b[0mself\u001b[0m\u001b[0;34m.\u001b[0m\u001b[0m_result\u001b[0m \u001b[0;34m=\u001b[0m \u001b[0mresult\u001b[0m\u001b[0;34m\u001b[0m\u001b[0;34m\u001b[0m\u001b[0m\n\u001b[1;32m    734\u001b[0m         \u001b[0;32mif\u001b[0m \u001b[0mresult\u001b[0m\u001b[0;34m.\u001b[0m\u001b[0mserver_status\u001b[0m \u001b[0;32mis\u001b[0m \u001b[0;32mnot\u001b[0m \u001b[0;32mNone\u001b[0m\u001b[0;34m:\u001b[0m\u001b[0;34m\u001b[0m\u001b[0;34m\u001b[0m\u001b[0m\n",
      "\u001b[0;32m~/anaconda3/lib/python3.7/site-packages/pymysql/connections.py\u001b[0m in \u001b[0;36mread\u001b[0;34m(self)\u001b[0m\n\u001b[1;32m   1073\u001b[0m     \u001b[0;32mdef\u001b[0m \u001b[0mread\u001b[0m\u001b[0;34m(\u001b[0m\u001b[0mself\u001b[0m\u001b[0;34m)\u001b[0m\u001b[0;34m:\u001b[0m\u001b[0;34m\u001b[0m\u001b[0;34m\u001b[0m\u001b[0m\n\u001b[1;32m   1074\u001b[0m         \u001b[0;32mtry\u001b[0m\u001b[0;34m:\u001b[0m\u001b[0;34m\u001b[0m\u001b[0;34m\u001b[0m\u001b[0m\n\u001b[0;32m-> 1075\u001b[0;31m             \u001b[0mfirst_packet\u001b[0m \u001b[0;34m=\u001b[0m \u001b[0mself\u001b[0m\u001b[0;34m.\u001b[0m\u001b[0mconnection\u001b[0m\u001b[0;34m.\u001b[0m\u001b[0m_read_packet\u001b[0m\u001b[0;34m(\u001b[0m\u001b[0;34m)\u001b[0m\u001b[0;34m\u001b[0m\u001b[0;34m\u001b[0m\u001b[0m\n\u001b[0m\u001b[1;32m   1076\u001b[0m \u001b[0;34m\u001b[0m\u001b[0m\n\u001b[1;32m   1077\u001b[0m             \u001b[0;32mif\u001b[0m \u001b[0mfirst_packet\u001b[0m\u001b[0;34m.\u001b[0m\u001b[0mis_ok_packet\u001b[0m\u001b[0;34m(\u001b[0m\u001b[0;34m)\u001b[0m\u001b[0;34m:\u001b[0m\u001b[0;34m\u001b[0m\u001b[0;34m\u001b[0m\u001b[0m\n",
      "\u001b[0;32m~/anaconda3/lib/python3.7/site-packages/pymysql/connections.py\u001b[0m in \u001b[0;36m_read_packet\u001b[0;34m(self, packet_type)\u001b[0m\n\u001b[1;32m    682\u001b[0m \u001b[0;34m\u001b[0m\u001b[0m\n\u001b[1;32m    683\u001b[0m         \u001b[0mpacket\u001b[0m \u001b[0;34m=\u001b[0m \u001b[0mpacket_type\u001b[0m\u001b[0;34m(\u001b[0m\u001b[0mbuff\u001b[0m\u001b[0;34m,\u001b[0m \u001b[0mself\u001b[0m\u001b[0;34m.\u001b[0m\u001b[0mencoding\u001b[0m\u001b[0;34m)\u001b[0m\u001b[0;34m\u001b[0m\u001b[0;34m\u001b[0m\u001b[0m\n\u001b[0;32m--> 684\u001b[0;31m         \u001b[0mpacket\u001b[0m\u001b[0;34m.\u001b[0m\u001b[0mcheck_error\u001b[0m\u001b[0;34m(\u001b[0m\u001b[0;34m)\u001b[0m\u001b[0;34m\u001b[0m\u001b[0;34m\u001b[0m\u001b[0m\n\u001b[0m\u001b[1;32m    685\u001b[0m         \u001b[0;32mreturn\u001b[0m \u001b[0mpacket\u001b[0m\u001b[0;34m\u001b[0m\u001b[0;34m\u001b[0m\u001b[0m\n\u001b[1;32m    686\u001b[0m \u001b[0;34m\u001b[0m\u001b[0m\n",
      "\u001b[0;32m~/anaconda3/lib/python3.7/site-packages/pymysql/protocol.py\u001b[0m in \u001b[0;36mcheck_error\u001b[0;34m(self)\u001b[0m\n\u001b[1;32m    218\u001b[0m             \u001b[0merrno\u001b[0m \u001b[0;34m=\u001b[0m \u001b[0mself\u001b[0m\u001b[0;34m.\u001b[0m\u001b[0mread_uint16\u001b[0m\u001b[0;34m(\u001b[0m\u001b[0;34m)\u001b[0m\u001b[0;34m\u001b[0m\u001b[0;34m\u001b[0m\u001b[0m\n\u001b[1;32m    219\u001b[0m             \u001b[0;32mif\u001b[0m \u001b[0mDEBUG\u001b[0m\u001b[0;34m:\u001b[0m \u001b[0mprint\u001b[0m\u001b[0;34m(\u001b[0m\u001b[0;34m\"errno =\"\u001b[0m\u001b[0;34m,\u001b[0m \u001b[0merrno\u001b[0m\u001b[0;34m)\u001b[0m\u001b[0;34m\u001b[0m\u001b[0;34m\u001b[0m\u001b[0m\n\u001b[0;32m--> 220\u001b[0;31m             \u001b[0merr\u001b[0m\u001b[0;34m.\u001b[0m\u001b[0mraise_mysql_exception\u001b[0m\u001b[0;34m(\u001b[0m\u001b[0mself\u001b[0m\u001b[0;34m.\u001b[0m\u001b[0m_data\u001b[0m\u001b[0;34m)\u001b[0m\u001b[0;34m\u001b[0m\u001b[0;34m\u001b[0m\u001b[0m\n\u001b[0m\u001b[1;32m    221\u001b[0m \u001b[0;34m\u001b[0m\u001b[0m\n\u001b[1;32m    222\u001b[0m     \u001b[0;32mdef\u001b[0m \u001b[0mdump\u001b[0m\u001b[0;34m(\u001b[0m\u001b[0mself\u001b[0m\u001b[0;34m)\u001b[0m\u001b[0;34m:\u001b[0m\u001b[0;34m\u001b[0m\u001b[0;34m\u001b[0m\u001b[0m\n",
      "\u001b[0;32m~/anaconda3/lib/python3.7/site-packages/pymysql/err.py\u001b[0m in \u001b[0;36mraise_mysql_exception\u001b[0;34m(data)\u001b[0m\n\u001b[1;32m    107\u001b[0m         \u001b[0merrval\u001b[0m \u001b[0;34m=\u001b[0m \u001b[0mdata\u001b[0m\u001b[0;34m[\u001b[0m\u001b[0;36m3\u001b[0m\u001b[0;34m:\u001b[0m\u001b[0;34m]\u001b[0m\u001b[0;34m.\u001b[0m\u001b[0mdecode\u001b[0m\u001b[0;34m(\u001b[0m\u001b[0;34m'utf-8'\u001b[0m\u001b[0;34m,\u001b[0m \u001b[0;34m'replace'\u001b[0m\u001b[0;34m)\u001b[0m\u001b[0;34m\u001b[0m\u001b[0;34m\u001b[0m\u001b[0m\n\u001b[1;32m    108\u001b[0m     \u001b[0merrorclass\u001b[0m \u001b[0;34m=\u001b[0m \u001b[0merror_map\u001b[0m\u001b[0;34m.\u001b[0m\u001b[0mget\u001b[0m\u001b[0;34m(\u001b[0m\u001b[0merrno\u001b[0m\u001b[0;34m,\u001b[0m \u001b[0mInternalError\u001b[0m\u001b[0;34m)\u001b[0m\u001b[0;34m\u001b[0m\u001b[0;34m\u001b[0m\u001b[0m\n\u001b[0;32m--> 109\u001b[0;31m     \u001b[0;32mraise\u001b[0m \u001b[0merrorclass\u001b[0m\u001b[0;34m(\u001b[0m\u001b[0merrno\u001b[0m\u001b[0;34m,\u001b[0m \u001b[0merrval\u001b[0m\u001b[0;34m)\u001b[0m\u001b[0;34m\u001b[0m\u001b[0;34m\u001b[0m\u001b[0m\n\u001b[0m",
      "\u001b[0;31mInternalError\u001b[0m: (1054, \"Unknown column 'linked_id' in 'where clause'\")"
     ]
    }
   ],
   "source": [
    "files_withoud_cdr_data = 0\n",
    "filename = '1615539298.2155707-out.wav'\n",
    "rec_date = 'Nulle'\n",
    "uniqueid = re.findall(r'^\\d*.\\d*', filename)[0]\n",
    "cursor = server_object.mysql_conn[server_object.source_id].cursor()\n",
    "query = \"select calldate, src, dst from cdr where linked_id = '\" + uniqueid + \"' limit 1;\"\n",
    "cursor.execute(query)  # cycled query\n",
    "src = ''\n",
    "dst = ''\n",
    "linkedid = uniqueid\n",
    "for row in cursor.fetchall():\n",
    "    rec_date = str(row[0])\n",
    "    src = str(row[1])\n",
    "    dst = str(row[2])\n",
    "if len(re.findall(r'\\d{4}-\\d{2}-\\d{2} \\d{2}:\\d{2}:\\d{2}', rec_date)) == 0:\n",
    "    print('u:', uniqueid, 'r:', rec_date, 'Unable to extract date from filename:', filename)\n",
    "    rec_date = 'Null'\n",
    "    files_withoud_cdr_data += 1"
   ]
  },
  {
   "cell_type": "code",
   "execution_count": 31,
   "metadata": {},
   "outputs": [
    {
     "data": {
      "text/plain": [
       "True"
      ]
     },
     "execution_count": 31,
     "metadata": {},
     "output_type": "execute_result"
    }
   ],
   "source": [
    "uniqueid == uniqueid_2"
   ]
  },
  {
   "cell_type": "code",
   "execution_count": 57,
   "metadata": {},
   "outputs": [],
   "source": [
    "#server_object.source_id = 2\n",
    "# cdr info by linkedid\n",
    "#uniqueid = '1615535566.2153554'\n",
    "cursor = server_object.mysql_conn[server_object.source_id].cursor()\n",
    "query = \"select calldate from cdr where uniqueid = '\"+uniqueid+\"' limit 1;\"\n",
    "cursor.execute(query)\n",
    "for row in cursor.fetchall():\n",
    "    rec_date = str(row[0])\n",
    "    print(row[0])\n",
    "\n",
    "if False:\n",
    "    for row in cursor.fetchall():\n",
    "        rec_date = str(row[0])\n",
    "        #src = str(row[1])\n",
    "        #dst = str(row[2])\n",
    "    if len(re.findall(r'\\d{4}-\\d{2}-\\d{2} \\d{2}:\\d{2}:\\d{2}', rec_date)) == 0:\n",
    "        rec_date = 'Null'\n",
    "        print(rec_date, 'Unable to extract date from filename', filename)\n",
    "        #files_withoud_cdr_data += 1\n",
    "        #continue\n",
    "    else:\n",
    "        print('k', rec_date)\n"
   ]
  },
  {
   "cell_type": "code",
   "execution_count": 11,
   "metadata": {},
   "outputs": [
    {
     "data": {
      "text/plain": [
       "'2021-03-11 10:20:49'"
      ]
     },
     "execution_count": 11,
     "metadata": {},
     "output_type": "execute_result"
    }
   ],
   "source": [
    "rec_date"
   ]
  },
  {
   "cell_type": "code",
   "execution_count": 15,
   "metadata": {},
   "outputs": [
    {
     "data": {
      "text/plain": [
       "True"
      ]
     },
     "execution_count": 15,
     "metadata": {},
     "output_type": "execute_result"
    }
   ],
   "source": [
    "server_object.source_id == server_object.sources['master']"
   ]
  },
  {
   "cell_type": "code",
   "execution_count": 22,
   "metadata": {},
   "outputs": [],
   "source": [
    "server_object = stt_server(0)\n",
    "server_object.source_id = 2\n",
    "complete_files = []\n",
    "#for filepath, filename, rec_date, src, dst, linkedid in server_object.get_fs_files_list(complete_files):\n",
    "    #print(filename, rec_date, linkedid)"
   ]
  },
  {
   "cell_type": "markdown",
   "metadata": {},
   "source": [
    "### master date by linkedid fix --"
   ]
  },
  {
   "cell_type": "markdown",
   "metadata": {},
   "source": [
    "### regex filenames ++"
   ]
  },
  {
   "cell_type": "code",
   "execution_count": 31,
   "metadata": {},
   "outputs": [],
   "source": [
    "filename = 'a2021-04-09t16:13:56b_c79101234092d_es_g1617974036.2741630-in.wav'"
   ]
  },
  {
   "cell_type": "code",
   "execution_count": 33,
   "metadata": {},
   "outputs": [
    {
     "data": {
      "text/plain": [
       "'1617974036.2741630'"
      ]
     },
     "execution_count": 33,
     "metadata": {},
     "output_type": "execute_result"
    }
   ],
   "source": [
    "uniqueid = re.findall(r'\\d*\\.\\d*', filename)[0]\n",
    "uniqueid"
   ]
  },
  {
   "cell_type": "code",
   "execution_count": 28,
   "metadata": {},
   "outputs": [
    {
     "name": "stdout",
     "output_type": "stream",
     "text": [
      "v.1 date 2021-04-09 14:25:25\n"
     ]
    },
    {
     "ename": "IndexError",
     "evalue": "list index out of range",
     "output_type": "error",
     "traceback": [
      "\u001b[0;31m---------------------------------------------------------------------------\u001b[0m",
      "\u001b[0;31mIndexError\u001b[0m                                Traceback (most recent call last)",
      "\u001b[0;32m<ipython-input-28-09fae60840b6>\u001b[0m in \u001b[0;36m<module>\u001b[0;34m\u001b[0m\n\u001b[1;32m      6\u001b[0m     \u001b[0mprint\u001b[0m\u001b[0;34m(\u001b[0m\u001b[0;34m'v.1 date'\u001b[0m\u001b[0;34m,\u001b[0m \u001b[0mrec_date\u001b[0m\u001b[0;34m)\u001b[0m\u001b[0;34m\u001b[0m\u001b[0;34m\u001b[0m\u001b[0m\n\u001b[1;32m      7\u001b[0m     \u001b[0msrc\u001b[0m \u001b[0;34m=\u001b[0m \u001b[0mre\u001b[0m\u001b[0;34m.\u001b[0m\u001b[0mfindall\u001b[0m\u001b[0;34m(\u001b[0m\u001b[0;34mr'c.*d'\u001b[0m\u001b[0;34m,\u001b[0m \u001b[0mfilename\u001b[0m\u001b[0;34m)\u001b[0m\u001b[0;34m[\u001b[0m\u001b[0;36m0\u001b[0m\u001b[0;34m]\u001b[0m\u001b[0;34m[\u001b[0m\u001b[0;36m1\u001b[0m\u001b[0;34m:\u001b[0m\u001b[0;34m]\u001b[0m\u001b[0;34m[\u001b[0m\u001b[0;34m:\u001b[0m\u001b[0;34m-\u001b[0m\u001b[0;36m1\u001b[0m\u001b[0;34m]\u001b[0m\u001b[0;34m\u001b[0m\u001b[0;34m\u001b[0m\u001b[0m\n\u001b[0;32m----> 8\u001b[0;31m     \u001b[0mdst\u001b[0m \u001b[0;34m=\u001b[0m \u001b[0mre\u001b[0m\u001b[0;34m.\u001b[0m\u001b[0mfindall\u001b[0m\u001b[0;34m(\u001b[0m\u001b[0;34mr'e.*f'\u001b[0m\u001b[0;34m,\u001b[0m \u001b[0mfilename\u001b[0m\u001b[0;34m)\u001b[0m\u001b[0;34m[\u001b[0m\u001b[0;36m0\u001b[0m\u001b[0;34m]\u001b[0m\u001b[0;34m[\u001b[0m\u001b[0;36m1\u001b[0m\u001b[0;34m:\u001b[0m\u001b[0;34m]\u001b[0m\u001b[0;34m[\u001b[0m\u001b[0;34m:\u001b[0m\u001b[0;34m-\u001b[0m\u001b[0;36m1\u001b[0m\u001b[0;34m]\u001b[0m\u001b[0;34m\u001b[0m\u001b[0;34m\u001b[0m\u001b[0m\n\u001b[0m\u001b[1;32m      9\u001b[0m     \u001b[0mlinkedid\u001b[0m \u001b[0;34m=\u001b[0m \u001b[0mre\u001b[0m\u001b[0;34m.\u001b[0m\u001b[0mfindall\u001b[0m\u001b[0;34m(\u001b[0m\u001b[0;34mr'g.*h'\u001b[0m\u001b[0;34m,\u001b[0m \u001b[0mfilename\u001b[0m\u001b[0;34m)\u001b[0m\u001b[0;34m[\u001b[0m\u001b[0;36m0\u001b[0m\u001b[0;34m]\u001b[0m\u001b[0;34m[\u001b[0m\u001b[0;36m1\u001b[0m\u001b[0;34m:\u001b[0m\u001b[0;34m]\u001b[0m\u001b[0;34m[\u001b[0m\u001b[0;34m:\u001b[0m\u001b[0;34m-\u001b[0m\u001b[0;36m1\u001b[0m\u001b[0;34m]\u001b[0m\u001b[0;34m\u001b[0m\u001b[0;34m\u001b[0m\u001b[0m\n\u001b[1;32m     10\u001b[0m     \u001b[0mversion\u001b[0m \u001b[0;34m=\u001b[0m \u001b[0;36m1\u001b[0m\u001b[0;34m\u001b[0m\u001b[0;34m\u001b[0m\u001b[0m\n",
      "\u001b[0;31mIndexError\u001b[0m: list index out of range"
     ]
    }
   ],
   "source": [
    "rec_date = 'Null'\n",
    "version = 0\n",
    "r_d = re.findall(r'a.*b', filename)\n",
    "if len(r_d) and len(r_d[0]) == 21:\n",
    "    rec_date = r_d[0][1:][:-1].replace('t',' ')\n",
    "    print('v.1 date', rec_date)\n",
    "    src = re.findall(r'c.*d', filename)[0][1:][:-1]\n",
    "    dst = re.findall(r'e.*f', filename)[0][1:][:-1]\n",
    "    linkedid = re.findall(r'g.*h', filename)[0][1:][:-1]\n",
    "    version = 1"
   ]
  },
  {
   "cell_type": "code",
   "execution_count": 23,
   "metadata": {},
   "outputs": [
    {
     "data": {
      "text/plain": [
       "True"
      ]
     },
     "execution_count": 23,
     "metadata": {},
     "output_type": "execute_result"
    }
   ],
   "source": []
  },
  {
   "cell_type": "code",
   "execution_count": 16,
   "metadata": {},
   "outputs": [
    {
     "data": {
      "text/plain": [
       "('2021-04-09t09:32:23', '9771596037', '89057479757', '1617949943.2729065')"
      ]
     },
     "execution_count": 16,
     "metadata": {},
     "output_type": "execute_result"
    }
   ],
   "source": [
    "rec_date = re.findall(r'a.*b', filename)[0][1:][:-1]\n",
    "if len(rec_date) == 19:\n",
    "    src = re.findall(r'c.*d', filename)[0][1:][:-1]\n",
    "    dst = re.findall(r'e.*f', filename)[0][1:][:-1]\n",
    "    uniqueid = re.findall(r'g.*h', filename)[0][1:][:-1]\n",
    "rec_date, src, dst, uniqueid"
   ]
  },
  {
   "cell_type": "markdown",
   "metadata": {},
   "source": [
    "### regex filenames --"
   ]
  },
  {
   "cell_type": "code",
   "execution_count": 27,
   "metadata": {},
   "outputs": [],
   "source": [
    "import time"
   ]
  },
  {
   "cell_type": "code",
   "execution_count": 39,
   "metadata": {},
   "outputs": [
    {
     "name": "stdout",
     "output_type": "stream",
     "text": [
      "File not found: /mnt/share/audio/MSK_SRVCALL/RX_TX/RXTX_2021-03/09/in_8125609584_2021-03-09-13-54-03rxtx.wav\n",
      "Removing from queue..\n",
      "/mnt/share/audio/MSK_SRVCALL/RX_TX/RXTX_2021-03/09/in_9030102285_2021-03-09-13-51-01rxtx.wav exists\n",
      "k\n"
     ]
    }
   ],
   "source": [
    "server_object = stt_server(0)\n",
    "cursor = server_object.conn.cursor()\n",
    "sql_query = \"select filepath, filename, duration, source_id, \"\n",
    "sql_query += \"record_date, src, dst, linkedid from queue \"\n",
    "sql_query += \"where cpu_id='\"+str(server_object.cpu_id)+\"' \"\n",
    "sql_query += \"and source_id = '1' \" # ToDo: remove\n",
    "sql_query += \"order by ISNULL(record_date, 0) desc, record_date, linkedid, filename;\"\n",
    "processed = 0\n",
    "cursor.execute(sql_query)\n",
    "linkedid = ''\n",
    "for row in cursor.fetchall():\n",
    "\n",
    "    #queue_start = datetime.datetime.now()\n",
    "    queue_start = time.time()\n",
    "\n",
    "    original_file_path = row[0]\n",
    "    original_file_name = row[1]\n",
    "    original_file_duration = row[2]\n",
    "    server_object.source_id = row[3]\n",
    "    rec_date = row[4]\n",
    "    src = row[5]\n",
    "    dst = row[6]\n",
    "    linkedid = row[7]\n",
    "\n",
    "    files_converted = 0\n",
    "\n",
    "    if not os.path.isfile(original_file_path + original_file_name):\n",
    "        msg = 'File not found: '+ original_file_path + original_file_name\n",
    "        msg += '\\nRemoving from queue..'\n",
    "        print(msg)\n",
    "        #server_object.send_to_telegram(msg)\n",
    "        #server_object.delete_current_queue(original_file_name, linkedid)\n",
    "        continue\n",
    "    print(original_file_path + original_file_name, 'exists')\n",
    "    break\n",
    "print('k')"
   ]
  },
  {
   "cell_type": "code",
   "execution_count": 43,
   "metadata": {},
   "outputs": [
    {
     "data": {
      "text/plain": [
       "True"
      ]
     },
     "execution_count": 43,
     "metadata": {},
     "output_type": "execute_result"
    }
   ],
   "source": [
    "#os.path.isfile('/mnt/share/audio/MSK_SRVCALL/RX_TX/RXTX_2021-03/09/in_8125609584_2021-03-09-13-54-03rxtx.wav')\n",
    "os.path.isfile('/mnt/share/audio/MSK_SRVCALL/RX_TX/RXTX_2021-03/09/in_9030102285_2021-03-09-13-51-01rxtx.wav')"
   ]
  },
  {
   "cell_type": "markdown",
   "metadata": {},
   "source": [
    "### file remove error alert"
   ]
  },
  {
   "cell_type": "code",
   "execution_count": 8,
   "metadata": {},
   "outputs": [],
   "source": [
    "chat = '106129214'"
   ]
  },
  {
   "cell_type": "code",
   "execution_count": 5,
   "metadata": {},
   "outputs": [],
   "source": [
    "with open('telegram_bot.token','r') as file:\n",
    "    telegram_bot_token = file.read().replace('\\n', '')\n",
    "    file.close()"
   ]
  },
  {
   "cell_type": "code",
   "execution_count": 15,
   "metadata": {},
   "outputs": [],
   "source": [
    "def send_to_telegram(chat,message):\n",
    "    headers = {\n",
    "    \"Origin\": \"https://api.telegram.org\",\n",
    "    \"Referer\": 'https://api.telegram.org/bot' + telegram_bot_token,\n",
    "    'User-Agent': 'Mozilla/5.0 (Windows NT 10.0; Win64; x64) AppleWebKit/537.36 (KHTML, like Gecko) Chrome/70.0.3538.110 Safari/537.36'}\n",
    "    #url\t= \"http://scriptlab.net/telegram/bots/relaybot/relaylocked.php?chat=\"+chat+\"&text=\"+message\n",
    "    url = 'https://api.telegram.org/bot' + telegram_bot_token\n",
    "    url += '/sendMessage?chat_id=' + str(chat)\n",
    "    url += '&text=' + str(message)\n",
    "    requests.get(url,headers = headers)"
   ]
  },
  {
   "cell_type": "code",
   "execution_count": 16,
   "metadata": {},
   "outputs": [
    {
     "name": "stdout",
     "output_type": "stream",
     "text": [
      "Error: /home/alex/test_4.txt - No such file or directory.\n"
     ]
    }
   ],
   "source": [
    "#myfile = \"/var/www/html/test_4.txt\"\n",
    "myfile = \"/home/alex/test_4.txt\"\n",
    "try:\n",
    "    os.remove(myfile)\n",
    "    print('succesfully removed', myfile)\n",
    "except OSError as e:  ## if failed, report it back to the user ##\n",
    "    print(\"Error: %s - %s.\" % (e.filename, e.strerror))\n",
    "    send_to_telegram(chat,'Unable to remove file:\\n' + myfile + '\\n' + str(e))"
   ]
  },
  {
   "cell_type": "markdown",
   "metadata": {},
   "source": [
    "### ***"
   ]
  },
  {
   "cell_type": "code",
   "execution_count": 23,
   "metadata": {
    "scrolled": true
   },
   "outputs": [],
   "source": [
    "# select\n",
    "cursor = server_object.conn.cursor()\n",
    "#sql_query = \"select * from perf_log;\"\n",
    "sql_query = \"select \"\n",
    "sql_query += \"record_date, ISNULL(record_date, 0) from queue \"\n",
    "#sql_query += \"where record_date is Null \"\n",
    "sql_query += \"order by ISNULL(record_date, 0) desc, record_date;\"\n",
    "cursor.execute(sql_query)\n",
    "rows = []\n",
    "#for row in cursor.fetchall():\n",
    "#    print(row)\n",
    "#    rows.append(row)"
   ]
  },
  {
   "cell_type": "code",
   "execution_count": 31,
   "metadata": {},
   "outputs": [
    {
     "data": {
      "text/plain": [
       "230"
      ]
     },
     "execution_count": 31,
     "metadata": {},
     "output_type": "execute_result"
    }
   ],
   "source": [
    "len(rows)"
   ]
  },
  {
   "cell_type": "code",
   "execution_count": 60,
   "metadata": {},
   "outputs": [
    {
     "name": "stdout",
     "output_type": "stream",
     "text": [
      "(0, 24969.55999999996, 128)\n",
      "(1, 4926.919999999998, 52)\n",
      "(2, 6574.420000000005, 45)\n",
      "(3, 4786.860000000001, 49)\n",
      "(4, 8733.160000000003, 69)\n",
      "(5, 14827.299999999992, 77)\n",
      "(6, 10175.54, 74)\n",
      "(7, 22766.56, 38)\n",
      "(8, 16021.760000000007, 64)\n",
      "(9, 2963.379999999997, 57)\n",
      "(10, 18047.879999999994, 54)\n",
      "(11, 4111.4000000000015, 60)\n",
      "(12, 2893.86, 49)\n",
      "(13, 6097.759999999994, 56)\n",
      "(14, 8504.520000000002, 56)\n",
      "(15, 13787.759999999987, 58)\n",
      "(16, 34499.080000000045, 77)\n",
      "(17, 2908.8999999999987, 53)\n",
      "(18, 15529.199999999988, 60)\n",
      "(19, 13816.439999999988, 57)\n",
      "(20, 12196.959999999988, 61)\n",
      "(21, 3991.8199999999997, 41)\n",
      "(22, 7416.539999999995, 63)\n",
      "(23, 8700.320000000005, 62)\n",
      "(24, 11277.419999999995, 57)\n",
      "(25, 13973.69999999998, 65)\n",
      "(26, 6924.080000000006, 54)\n",
      "(27, 12595.279999999982, 61)\n",
      "(28, 10292.320000000003, 61)\n"
     ]
    }
   ],
   "source": [
    "server_object = stt_server(0)\n",
    "server_object.source_id = 2\n",
    "cursor = server_object.conn.cursor()\n",
    "\n",
    "query = 'select '\n",
    "query += 'cpu_id, '\n",
    "query += 'sum(duration), '\n",
    "query += 'count(id) as cnt '\n",
    "\"\"\"query += 'max(record_date) as trans_date, '\n",
    "query += 'max(transcribation_date) as rec_date '\"\"\"\n",
    "query += 'from transcribations '\n",
    "query += 'where not cpu_id is null '\n",
    "query += 'group by cpu_id order by cpu_id;'\n",
    "\n",
    "\"\"\"query = 'select '\n",
    "query += 'cpu_id, '\n",
    "query += 'count(distinct filename) as filename, '\n",
    "query += 'max(record_date) as trans_date '\n",
    "#query += 'max(transcribation_date) as rec_date '\n",
    "query += 'from queue group by cpu_id order by cpu_id;'\n",
    "\"\"\"\n",
    "cursor.execute(query)\n",
    "for row in cursor.fetchall():\n",
    "    print(row)"
   ]
  },
  {
   "cell_type": "code",
   "execution_count": 62,
   "metadata": {},
   "outputs": [
    {
     "name": "stdout",
     "output_type": "stream",
     "text": [
      "(0, 33293.21999999993, 179)\n",
      "(1, 12063.480000000018, 107)\n",
      "(2, 10781.14000000001, 95)\n",
      "(3, 8678.560000000001, 98)\n",
      "(4, 12063.219999999992, 107)\n",
      "(5, 19926.199999999983, 128)\n",
      "(6, 21307.52000000001, 124)\n",
      "(7, 46731.360000000044, 78)\n",
      "(8, 21951.619999999984, 117)\n",
      "(9, 7639.68000000001, 109)\n",
      "(10, 27272.160000000025, 94)\n",
      "(11, 8188.899999999996, 122)\n",
      "(12, 9417.379999999994, 101)\n",
      "(13, 11930.859999999982, 107)\n",
      "(14, 12510.699999999999, 104)\n",
      "(15, 19569.019999999997, 115)\n",
      "(16, 54212.840000000084, 121)\n",
      "(17, 9237.539999999985, 116)\n",
      "(18, 23623.679999999982, 107)\n",
      "(19, 21304.439999999984, 94)\n",
      "(20, 20738.579999999994, 112)\n",
      "(21, 9357.040000000005, 93)\n",
      "(22, 12944.339999999971, 121)\n",
      "(23, 12302.600000000026, 107)\n",
      "(24, 21568.519999999997, 118)\n",
      "(25, 22194.439999999962, 112)\n",
      "(26, 13093.999999999998, 105)\n",
      "(27, 16315.359999999973, 102)\n",
      "(28, 14569.300000000008, 108)\n"
     ]
    }
   ],
   "source": [
    "server_object = stt_server(0)\n",
    "server_object.source_id = 2\n",
    "cursor = server_object.conn.cursor()\n",
    "\n",
    "query = 'select '\n",
    "query += 'cpu_id, '\n",
    "query += 'sum(duration), '\n",
    "query += 'count(id) as cnt '\n",
    "query += 'from transcribations '\n",
    "query += 'where not cpu_id is null '\n",
    "query += 'group by cpu_id order by cpu_id;'\n",
    "\n",
    "cursor.execute(query)\n",
    "for row in cursor.fetchall():\n",
    "    print(row)"
   ]
  },
  {
   "cell_type": "code",
   "execution_count": 9,
   "metadata": {},
   "outputs": [
    {
     "name": "stdout",
     "output_type": "stream",
     "text": [
      "(True, 2, None, datetime.datetime(2021, 3, 4, 10, 1, 46))\n",
      "(True, 2, None, datetime.datetime(2021, 3, 4, 10, 1, 10))\n",
      "(True, 2, None, datetime.datetime(2021, 3, 4, 10, 0, 58))\n",
      "(True, 2, None, datetime.datetime(2021, 3, 4, 10, 0, 58))\n",
      "(True, 2, None, datetime.datetime(2021, 3, 4, 10, 0, 58))\n",
      "(True, 2, None, datetime.datetime(2021, 3, 4, 10, 0, 58))\n",
      "(True, 2, None, datetime.datetime(2021, 3, 4, 10, 0, 58))\n",
      "(True, 2, None, datetime.datetime(2021, 3, 4, 10, 0, 58))\n",
      "(True, 2, None, datetime.datetime(2021, 3, 4, 10, 0, 58))\n",
      "(True, 2, None, datetime.datetime(2021, 3, 4, 10, 0, 57))\n"
     ]
    }
   ],
   "source": [
    "server_object = stt_server(0)\n",
    "server_object.source_id = 2\n",
    "cursor = server_object.conn.cursor()\n",
    "query = 'select top 10'\n",
    "#query += 'cpu_id, '\n",
    "#query += 'count(distinct audio_file_name) as filename, '\n",
    "query += 'side, source_id, record_date as trans_date, '\n",
    "query += 'transcribation_date as rec_date '\n",
    "query += 'from transcribations order by transcribation_date desc;'\n",
    "cursor.execute(query)\n",
    "for row in cursor.fetchall():\n",
    "    print(row)"
   ]
  },
  {
   "cell_type": "code",
   "execution_count": null,
   "metadata": {},
   "outputs": [],
   "source": []
  },
  {
   "cell_type": "markdown",
   "metadata": {},
   "source": [
    "### perf_log"
   ]
  },
  {
   "cell_type": "code",
   "execution_count": 64,
   "metadata": {},
   "outputs": [
    {
     "name": "stdout",
     "output_type": "stream",
     "text": [
      "(datetime.datetime(2021, 3, 4, 13, 12, 27), 1)\n",
      "(datetime.datetime(2021, 3, 4, 13, 12, 22), 1)\n",
      "(datetime.datetime(2021, 3, 4, 13, 12, 21), 1)\n",
      "(datetime.datetime(2021, 3, 4, 13, 12, 21), 1)\n"
     ]
    }
   ],
   "source": [
    "server_object = stt_server(0)\n",
    "server_object.source_id = 2\n",
    "\n",
    "cursor = server_object.conn.cursor()\n",
    "\n",
    "sql_query = \"select top 4 transcribation_date, count(distinct audio_file_name) from transcribations group by transcribation_date, audio_file_name order by transcribation_date desc\"\n",
    "cursor.execute(sql_query)\n",
    "for row in cursor.fetchall():\n",
    "    print(row)"
   ]
  },
  {
   "cell_type": "markdown",
   "metadata": {},
   "source": [
    "### performance monitoring"
   ]
  },
  {
   "cell_type": "code",
   "execution_count": 3,
   "metadata": {},
   "outputs": [],
   "source": [
    "server_object = stt_server(0)\n",
    "server_object.source_id = 2"
   ]
  },
  {
   "cell_type": "code",
   "execution_count": 24,
   "metadata": {},
   "outputs": [
    {
     "data": {
      "text/plain": [
       "'0'"
      ]
     },
     "execution_count": 24,
     "metadata": {},
     "output_type": "execute_result"
    }
   ],
   "source": [
    "os.environ.get('WORKERS_COUNT', '0')"
   ]
  },
  {
   "cell_type": "code",
   "execution_count": 28,
   "metadata": {},
   "outputs": [
    {
     "data": {
      "text/plain": [
       "'2021-09-06T11:44:16'"
      ]
     },
     "execution_count": 28,
     "metadata": {},
     "output_type": "execute_result"
    }
   ],
   "source": [
    "datetime.datetime.now().strftime('%Y-%m-%dT%H:%M:%S')"
   ]
  },
  {
   "cell_type": "code",
   "execution_count": 45,
   "metadata": {},
   "outputs": [
    {
     "name": "stdout",
     "output_type": "stream",
     "text": [
      "(0, '1630479379.455455', 4.35, datetime.datetime(2021, 9, 6, 14, 55, 21), 'она пробиралась')\n",
      "(0, '1630479379.455455', 8.168895, datetime.datetime(2021, 9, 6, 14, 55, 21), 'папа')\n",
      "(0, '1630479421.2285654', 18.231295, datetime.datetime(2021, 9, 6, 14, 55, 25), 'договора')\n",
      "(0, '1630479421.2285654', 22.2, datetime.datetime(2021, 9, 6, 14, 55, 25), 'да')\n",
      "(0, '1630479421.2285654', 27.3, datetime.datetime(2021, 9, 6, 14, 55, 25), 'а какое оправдание')\n",
      "(0, '1630479421.2285654', 29.97, datetime.datetime(2021, 9, 6, 14, 55, 25), 'город')\n",
      "(0, '1630479421.2285654', 0.015339, datetime.datetime(2021, 9, 6, 14, 55, 34), 'папа')\n",
      "(0, '1630479421.2285654', 4.644862, datetime.datetime(2021, 9, 6, 14, 55, 34), 'попробуй')\n",
      "(0, '1630479421.2285654', 16.02, datetime.datetime(2021, 9, 6, 14, 55, 34), 'попробуй')\n",
      "(0, '1630479421.2285654', 30.57, datetime.datetime(2021, 9, 6, 14, 55, 34), 'хорошо')\n",
      "(0, '1630479542.455536', 13.38, datetime.datetime(2021, 9, 6, 14, 55, 43), 'а потом')\n",
      "(0, '1630479563.2285779', 19.14, datetime.datetime(2021, 9, 6, 14, 55, 46), 'папа')\n",
      "(0, '1630479563.2285779', 29.43, datetime.datetime(2021, 9, 6, 14, 55, 46), 'папа')\n",
      "(0, '1630479563.2285779', 30.33, datetime.datetime(2021, 9, 6, 14, 55, 46), 'подарок')\n",
      "(0, '1630479563.2285779', 38.55, datetime.datetime(2021, 9, 6, 14, 55, 46), 'скорость')\n",
      "(0, '1630479563.2285779', 43.23, datetime.datetime(2021, 9, 6, 14, 55, 46), 'да')\n",
      "(0, '1630479563.2285779', 47.34, datetime.datetime(2021, 9, 6, 14, 55, 46), 'попробуй')\n",
      "(0, '1630479563.2285779', 50.82, datetime.datetime(2021, 9, 6, 14, 55, 46), 'да')\n",
      "(0, '1630479563.2285779', 59.25, datetime.datetime(2021, 9, 6, 14, 55, 46), 'фонд')\n",
      "(0, '1630479563.2285779', 71.19, datetime.datetime(2021, 9, 6, 14, 55, 46), 'аппарат')\n",
      "(0, '1630479563.2285779', 82.30251, datetime.datetime(2021, 9, 6, 14, 55, 46), 'просто')\n",
      "(0, '1630479563.2285779', 2.19, datetime.datetime(2021, 9, 6, 14, 56, 4), 'только')\n",
      "(0, '1630479563.2285779', 6.45, datetime.datetime(2021, 9, 6, 14, 56, 4), 'куда ты собрался')\n",
      "(0, '1630479563.2285779', 10.737126, datetime.datetime(2021, 9, 6, 14, 56, 4), 'потом')\n",
      "(0, '1630479563.2285779', 13.62, datetime.datetime(2021, 9, 6, 14, 56, 4), 'тогда постарался')\n",
      "(0, '1630479563.2285779', 21.81, datetime.datetime(2021, 9, 6, 14, 56, 4), 'вот оно')\n",
      "(0, '1630479563.2285779', 24.45, datetime.datetime(2021, 9, 6, 14, 56, 4), 'просто')\n",
      "(0, '1630479563.2285779', 31.95, datetime.datetime(2021, 9, 6, 14, 56, 4), 'ладно')\n",
      "(0, '1630479563.2285779', 33.51, datetime.datetime(2021, 9, 6, 14, 56, 4), 'да')\n",
      "(0, '1630479563.2285779', 37.2, datetime.datetime(2021, 9, 6, 14, 56, 4), 'давайте попробуем потом')\n",
      "(0, '1630479563.2285779', 43.65, datetime.datetime(2021, 9, 6, 14, 56, 4), 'чтобы она')\n",
      "(0, '1630479563.2285779', 50.52, datetime.datetime(2021, 9, 6, 14, 56, 4), 'что такое')\n",
      "(0, '1630479563.2285779', 54.81, datetime.datetime(2021, 9, 6, 14, 56, 4), 'просто попробуй')\n",
      "(0, '1630479563.2285779', 61.2, datetime.datetime(2021, 9, 6, 14, 56, 4), 'ну тогда попробуй покататься')\n",
      "(0, '1630479563.2285779', 66.15, datetime.datetime(2021, 9, 6, 14, 56, 4), 'ладно полтора')\n",
      "(0, '1630479563.2285779', 71.22, datetime.datetime(2021, 9, 6, 14, 56, 4), 'наоборот')\n",
      "(0, '1630479563.2285779', 75.18, datetime.datetime(2021, 9, 6, 14, 56, 4), 'но по поводу')\n",
      "(0, '1630479563.2285779', 80.16, datetime.datetime(2021, 9, 6, 14, 56, 4), 'потом')\n",
      "(0, '1630479563.2285779', 83.25, datetime.datetime(2021, 9, 6, 14, 56, 4), 'это было потом')\n",
      "(0, '1630479604.455607', 9.39, datetime.datetime(2021, 9, 6, 14, 56, 31), 'пробормотала')\n",
      "(0, '1630479604.455607', 12.81, datetime.datetime(2021, 9, 6, 14, 56, 31), 'аккурат лапша')\n",
      "(0, '1630479604.455607', 19.828253, datetime.datetime(2021, 9, 6, 14, 56, 31), 'такая')\n",
      "(0, '1630479604.455607', 23.76, datetime.datetime(2021, 9, 6, 14, 56, 31), 'хотелось бы выиграть')\n",
      "(0, '1630479604.455607', 28.05, datetime.datetime(2021, 9, 6, 14, 56, 31), 'продавец')\n",
      "(0, '1630479604.455607', 35.738873, datetime.datetime(2021, 9, 6, 14, 56, 31), 'этот процесс')\n",
      "(0, '1630479604.455607', 40.26, datetime.datetime(2021, 9, 6, 14, 56, 31), 'кто-то городской')\n",
      "(0, '1630479604.455607', 46.08, datetime.datetime(2021, 9, 6, 14, 56, 31), 'прекрати')\n",
      "(0, '1630479604.455607', 47.37, datetime.datetime(2021, 9, 6, 14, 56, 31), 'провода')\n",
      "(0, '1630479604.455607', 49.32, datetime.datetime(2021, 9, 6, 14, 56, 31), 'так вот это')\n",
      "(0, '1630479604.455607', 53.55, datetime.datetime(2021, 9, 6, 14, 56, 31), 'это просто какая-то')\n",
      "(0, '1630479604.455607', 59.7, datetime.datetime(2021, 9, 6, 14, 56, 31), 'не хочу такой')\n",
      "(0, '1630479604.455607', 62.28, datetime.datetime(2021, 9, 6, 14, 56, 31), 'хотя история')\n",
      "(0, '1630479604.455607', 67.29, datetime.datetime(2021, 9, 6, 14, 56, 31), 'готовы')\n",
      "(0, '1630479604.455607', 74.04, datetime.datetime(2021, 9, 6, 14, 56, 31), 'это просто')\n",
      "(0, '1630479604.455607', 77.88, datetime.datetime(2021, 9, 6, 14, 56, 31), 'это о вообще')\n",
      "(0, '1630479604.455607', 83.61, datetime.datetime(2021, 9, 6, 14, 56, 31), 'мне')\n",
      "(0, '1630479604.455607', 89.46, datetime.datetime(2021, 9, 6, 14, 56, 31), 'поскольку')\n",
      "(0, '1630479604.455607', 95.76, datetime.datetime(2021, 9, 6, 14, 56, 31), 'хватит')\n",
      "(0, '1630479604.455607', 96.297253, datetime.datetime(2021, 9, 6, 14, 56, 31), 'тогда не будешь')\n",
      "(0, '1630479604.455607', 102.21, datetime.datetime(2021, 9, 6, 14, 56, 31), 'ладно')\n",
      "(0, '1630479604.455607', 109.47, datetime.datetime(2021, 9, 6, 14, 56, 31), 'дорогой')\n",
      "(0, '1630479604.455607', 113.04, datetime.datetime(2021, 9, 6, 14, 56, 31), 'когда-то')\n",
      "(0, '1630479604.455607', 120.18, datetime.datetime(2021, 9, 6, 14, 56, 31), 'все кончено')\n",
      "(0, '1630479604.455607', 123.39, datetime.datetime(2021, 9, 6, 14, 56, 31), 'так вот это другое')\n",
      "(0, '1630479604.455607', 124.98, datetime.datetime(2021, 9, 6, 14, 56, 31), 'потом дороги')\n",
      "(0, '1630479688.455661', 3.81, datetime.datetime(2021, 9, 6, 14, 57, 10), 'работа')\n",
      "(0, '1630479763.2285945', 13.987917, datetime.datetime(2021, 9, 6, 14, 57, 13), 'равно')\n",
      "(0, '1630479763.2285945', 17.16, datetime.datetime(2021, 9, 6, 14, 57, 13), 'пока')\n",
      "(0, '1630479763.2285945', 23.04, datetime.datetime(2021, 9, 6, 14, 57, 13), 'для начала')\n",
      "(0, '1630479763.2285945', 25.62, datetime.datetime(2021, 9, 6, 14, 57, 13), 'вот у князя')\n",
      "(0, '1630479763.2285945', 27.54, datetime.datetime(2021, 9, 6, 14, 57, 13), 'да капитан')\n",
      "(0, '1630479763.2285945', 37.44, datetime.datetime(2021, 9, 6, 14, 57, 13), 'говорить дорогие мне люди не хотят понимать')\n",
      "(0, '1630479763.2285945', 42.72, datetime.datetime(2021, 9, 6, 14, 57, 13), 'большой проект для тайме')\n",
      "(0, '1630479763.2285945', 46.44, datetime.datetime(2021, 9, 6, 14, 57, 13), 'дай пять')\n",
      "(0, '1630479763.2285945', 48.780106, datetime.datetime(2021, 9, 6, 14, 57, 13), 'попробуй тогда поставить мило')\n",
      "(0, '1630479763.2285945', 51.12, datetime.datetime(2021, 9, 6, 14, 57, 13), 'что происходит')\n",
      "(0, '1630479763.2285945', 52.98, datetime.datetime(2021, 9, 6, 14, 57, 13), 'так')\n",
      "(0, '1630479763.2285945', 57.33, datetime.datetime(2021, 9, 6, 14, 57, 13), 'итак это выпечки')\n",
      "(0, '1630479763.2285945', 59.88, datetime.datetime(2021, 9, 6, 14, 57, 13), 'этот парень')\n",
      "(0, '1630479763.2285945', 64.02, datetime.datetime(2021, 9, 6, 14, 57, 13), 'и')\n",
      "(0, '1630479763.2285945', 69.27, datetime.datetime(2021, 9, 6, 14, 57, 13), 'или')\n",
      "(0, '1630479763.2285945', 76.47, datetime.datetime(2021, 9, 6, 14, 57, 13), 'на тот случай чтобы его надо было дать ещё нет не так очень хотите добраться компании')\n",
      "(0, '1630479763.2285945', 84.69, datetime.datetime(2021, 9, 6, 14, 57, 13), 'это нельзя')\n",
      "(0, '1630479763.2285945', 90.480425, datetime.datetime(2021, 9, 6, 14, 57, 13), 'идите')\n",
      "(0, '1630479763.2285945', 92.73, datetime.datetime(2021, 9, 6, 14, 57, 13), 'видите ли')\n",
      "(0, '1630479763.2285945', 96.938921, datetime.datetime(2021, 9, 6, 14, 57, 13), 'я понял понял')\n",
      "(0, '1630479763.2285945', 100.29, datetime.datetime(2021, 9, 6, 14, 57, 13), 'он')\n",
      "(0, '1630479763.2285945', 108.48, datetime.datetime(2021, 9, 6, 14, 57, 13), 'не понял')\n",
      "(0, '1630479763.2285945', 113.76, datetime.datetime(2021, 9, 6, 14, 57, 13), 'да я тоже думаю просто потому что как-то продажи')\n",
      "(0, '1630479763.2285945', 116.4, datetime.datetime(2021, 9, 6, 14, 57, 13), 'через год')\n",
      "(0, '1630479763.2285945', 119.28, datetime.datetime(2021, 9, 6, 14, 57, 13), 'но')\n",
      "(0, '1630479763.2285945', 133.89, datetime.datetime(2021, 9, 6, 14, 57, 13), 'да и правда конечно')\n",
      "(0, '1630479763.2285945', 147.06, datetime.datetime(2021, 9, 6, 14, 57, 13), 'да да да да да да')\n",
      "(0, '1630479763.2285945', 150.09, datetime.datetime(2021, 9, 6, 14, 57, 13), 'он опять начнёт')\n",
      "(1, '1630477879.2284533', 2.228699, datetime.datetime(2021, 9, 6, 14, 55, 11), 'какова')\n",
      "(1, '1630477879.2284533', 9.830956, datetime.datetime(2021, 9, 6, 14, 55, 11), 'покупаю')\n",
      "(1, '1630477879.2284533', 13.62, datetime.datetime(2021, 9, 6, 14, 55, 11), 'она')\n",
      "(1, '1630477879.2284533', 16.53, datetime.datetime(2021, 9, 6, 14, 55, 11), 'что')\n",
      "(1, '1630477879.2284533', 25.47, datetime.datetime(2021, 9, 6, 14, 55, 11), 'надо попробовать')\n",
      "(1, '1630477879.2284533', 27.57, datetime.datetime(2021, 9, 6, 14, 55, 11), 'пора показать')\n",
      "(1, '1630477879.2284533', 34.29, datetime.datetime(2021, 9, 6, 14, 55, 11), 'попробуй попробуй')\n",
      "(1, '1630477879.2284533', 39.75, datetime.datetime(2021, 9, 6, 14, 55, 11), 'хотя бы пару вопросов')\n",
      "(1, '1630477879.2284533', 45.36, datetime.datetime(2021, 9, 6, 14, 55, 11), 'пробовал')\n",
      "(1, '1630477879.2284533', 49.89, datetime.datetime(2021, 9, 6, 14, 55, 11), 'а потом')\n",
      "(1, '1630477879.2284533', 54.42, datetime.datetime(2021, 9, 6, 14, 55, 11), 'попробую')\n",
      "(1, '1630477879.2284533', 60.18, datetime.datetime(2021, 9, 6, 14, 55, 11), 'пока')\n",
      "(1, '1630477879.2284533', 64.44, datetime.datetime(2021, 9, 6, 14, 55, 11), 'вопрос')\n",
      "(1, '1630477879.2284533', 82.62, datetime.datetime(2021, 9, 6, 14, 55, 11), 'попробовал')\n",
      "(1, '1630477879.2284533', 86.04, datetime.datetime(2021, 9, 6, 14, 55, 11), 'такое')\n",
      "(1, '1630477879.2284533', 95.317288, datetime.datetime(2021, 9, 6, 14, 55, 11), 'папа')\n",
      "(1, '1630477927.454029', 8.64, datetime.datetime(2021, 9, 6, 14, 55, 41), 'да')\n",
      "(1, '1630477927.454029', 10.71, datetime.datetime(2021, 9, 6, 14, 55, 41), 'пер')\n",
      "(1, '1630477927.454029', 17.22, datetime.datetime(2021, 9, 6, 14, 55, 41), 'пара вопросов')\n",
      "(1, '1630477927.454029', 23.76, datetime.datetime(2021, 9, 6, 14, 55, 41), 'все хорошо')\n",
      "(1, '1630477927.454029', 26.37, datetime.datetime(2021, 9, 6, 14, 55, 41), 'она такова какова академика и крамер')\n",
      "(1, '1630477927.454029', 32.31, datetime.datetime(2021, 9, 6, 14, 55, 41), 'так как они такие как она')\n",
      "(1, '1630477927.454029', 35.31, datetime.datetime(2021, 9, 6, 14, 55, 41), 'у тебя какая')\n",
      "(1, '1630477927.454029', 38.85, datetime.datetime(2021, 9, 6, 14, 55, 41), 'этот')\n",
      "(1, '1630477927.454029', 44.28, datetime.datetime(2021, 9, 6, 14, 55, 41), 'посоветуй')\n",
      "(1, '1630477927.454029', 51.33, datetime.datetime(2021, 9, 6, 14, 55, 41), 'но только предположительно его приходят на работу')\n",
      "(1, '1630478032.454086', 2.91, datetime.datetime(2021, 9, 6, 14, 55, 57), 'что')\n",
      "(1, '1630478111.454165', 8.4, datetime.datetime(2021, 9, 6, 14, 55, 59), 'от отца и матери')\n",
      "(1, '1630478111.454165', 13.29, datetime.datetime(2021, 9, 6, 14, 55, 59), 'порядке')\n",
      "(1, '1630478111.454165', 18.84, datetime.datetime(2021, 9, 6, 14, 55, 59), 'а я такая')\n",
      "(1, '1630478111.454165', 24.81, datetime.datetime(2021, 9, 6, 14, 55, 59), 'все хотят')\n",
      "(1, '1630478134.2284661', 9.350728, datetime.datetime(2021, 9, 6, 14, 56, 6), 'порядок')\n",
      "(1, '1630478134.2284661', 10.23, datetime.datetime(2021, 9, 6, 14, 56, 6), 'такова')\n",
      "(1, '1630478134.2284661', 15.411108, datetime.datetime(2021, 9, 6, 14, 56, 6), 'поняла')\n",
      "(1, '1630478134.2284661', 18.42, datetime.datetime(2021, 9, 6, 14, 56, 6), 'согласен')\n",
      "(1, '1630478134.2284661', 30.18, datetime.datetime(2021, 9, 6, 14, 56, 6), 'когда')\n",
      "(1, '1630478134.2284661', 36.0, datetime.datetime(2021, 9, 6, 14, 56, 6), 'папа')\n",
      "(1, '1630478134.2284661', 37.08, datetime.datetime(2021, 9, 6, 14, 56, 6), 'это плохо потому что')\n",
      "(1, '1630478134.2284661', 43.47, datetime.datetime(2021, 9, 6, 14, 56, 6), 'бросай')\n",
      "(1, '1630478134.2284661', 48.21, datetime.datetime(2021, 9, 6, 14, 56, 6), 'даже')\n",
      "(1, '1630478134.2284661', 54.0, datetime.datetime(2021, 9, 6, 14, 56, 6), 'статус')\n",
      "(1, '1630478134.2284661', 57.99, datetime.datetime(2021, 9, 6, 14, 56, 6), 'захотят')\n",
      "(1, '1630478134.2284661', 65.4, datetime.datetime(2021, 9, 6, 14, 56, 6), 'это')\n",
      "(1, '1630478134.2284661', 69.36, datetime.datetime(2021, 9, 6, 14, 56, 6), 'это')\n",
      "(1, '1630478134.2284661', 75.03, datetime.datetime(2021, 9, 6, 14, 56, 6), 'красота')\n",
      "(1, '1630478134.2284661', 79.5, datetime.datetime(2021, 9, 6, 14, 56, 6), 'готов')\n",
      "(1, '1630478134.2284661', 99.09, datetime.datetime(2021, 9, 6, 14, 56, 6), 'посмотрите')\n",
      "(1, '1630478134.2284661', 7.41, datetime.datetime(2021, 9, 6, 14, 56, 32), 'страх')\n",
      "(1, '1630478134.2284661', 19.62, datetime.datetime(2021, 9, 6, 14, 56, 32), 'моя')\n",
      "(1, '1630478134.2284661', 20.297364, datetime.datetime(2021, 9, 6, 14, 56, 32), 'правда')\n",
      "(1, '1630478134.2284661', 28.02, datetime.datetime(2021, 9, 6, 14, 56, 32), 'говорить')\n",
      "(1, '1630478134.2284661', 32.148593, datetime.datetime(2021, 9, 6, 14, 56, 32), 'так сказать')\n",
      "(1, '1630478134.2284661', 36.99, datetime.datetime(2021, 9, 6, 14, 56, 32), 'поскольку')\n",
      "(1, '1630478134.2284661', 48.15, datetime.datetime(2021, 9, 6, 14, 56, 32), 'голову')\n",
      "(1, '1630478134.2284661', 56.91, datetime.datetime(2021, 9, 6, 14, 56, 32), 'папа')\n",
      "(1, '1630478134.2284661', 61.08, datetime.datetime(2021, 9, 6, 14, 56, 32), 'пап')\n",
      "(1, '1630478134.2284661', 68.94, datetime.datetime(2021, 9, 6, 14, 56, 32), 'когда')\n",
      "(1, '1630478134.2284661', 72.69, datetime.datetime(2021, 9, 6, 14, 56, 32), 'спасибо')\n",
      "(1, '1630478134.2284661', 78.99, datetime.datetime(2021, 9, 6, 14, 56, 32), 'попробуйте')\n",
      "(1, '1630478134.2284661', 86.64, datetime.datetime(2021, 9, 6, 14, 56, 32), 'фотографии')\n",
      "(1, '1630478134.2284661', 91.017166, datetime.datetime(2021, 9, 6, 14, 56, 32), 'согласен')\n",
      "(1, '1630478134.2284661', 93.36, datetime.datetime(2021, 9, 6, 14, 56, 32), 'когда')\n",
      "(1, '1630478180.454231', 7.44, datetime.datetime(2021, 9, 6, 14, 56, 56), 'я сейчас занят')\n",
      "(1, '1630478180.454231', 12.51, datetime.datetime(2021, 9, 6, 14, 56, 56), 'я')\n",
      "(1, '1630478180.454231', 17.79, datetime.datetime(2021, 9, 6, 14, 56, 56), 'давайте')\n",
      "(1, '1630478180.454231', 22.53, datetime.datetime(2021, 9, 6, 14, 56, 56), 'какая-то говорит какая-то')\n",
      "(1, '1630478180.454231', 25.71, datetime.datetime(2021, 9, 6, 14, 56, 56), 'да диагностики')\n",
      "(1, '1630478180.454231', 28.741599, datetime.datetime(2021, 9, 6, 14, 56, 56), 'хотя понятие')\n",
      "(1, '1630478180.454231', 34.44, datetime.datetime(2021, 9, 6, 14, 56, 56), 'я не могу этого сделать')\n",
      "(1, '1630478180.454231', 38.22, datetime.datetime(2021, 9, 6, 14, 56, 56), 'обратно где-нибудь')\n",
      "(1, '1630478180.454231', 43.56, datetime.datetime(2021, 9, 6, 14, 56, 56), 'хотите')\n",
      "(1, '1630478220.454269', 0.0, datetime.datetime(2021, 9, 6, 14, 57, 8), '')\n",
      "(1, '1630478229.2284729', 26.85, datetime.datetime(2021, 9, 6, 14, 57, 9), 'она попала')\n",
      "(1, '1630478229.2284729', 29.9904, datetime.datetime(2021, 9, 6, 14, 57, 9), 'понятно')\n",
      "(1, '1630478229.2284729', 33.84, datetime.datetime(2021, 9, 6, 14, 57, 9), 'давайте просто просто собраться')\n",
      "(1, '1630478229.2284729', 37.5, datetime.datetime(2021, 9, 6, 14, 57, 9), 'консерватизм стол')\n",
      "(1, '1630478229.2284729', 45.54, datetime.datetime(2021, 9, 6, 14, 57, 9), 'давно потом я покупала подарки')\n",
      "(1, '1630478229.2284729', 48.0, datetime.datetime(2021, 9, 6, 14, 57, 9), 'ладно')\n",
      "(1, '1630478229.2284729', 49.68, datetime.datetime(2021, 9, 6, 14, 57, 9), 'хорошо')\n",
      "(1, '1630478229.2284729', 50.94, datetime.datetime(2021, 9, 6, 14, 57, 9), 'какая-то попытка тоже стоит одному')\n",
      "(1, '1630478229.2284729', 61.77, datetime.datetime(2021, 9, 6, 14, 57, 9), 'от того звонков')\n",
      "(1, '1630478229.2284729', 69.9, datetime.datetime(2021, 9, 6, 14, 57, 9), 'лампа')\n",
      "(1, '1630478229.2284729', 84.486255, datetime.datetime(2021, 9, 6, 14, 57, 9), 'вот так')\n",
      "(1, '1630478229.2284729', 0.014381, datetime.datetime(2021, 9, 6, 14, 57, 23), 'папа')\n",
      "(1, '1630478229.2284729', 4.644815, datetime.datetime(2021, 9, 6, 14, 57, 23), 'попробуй')\n",
      "(1, '1630478229.2284729', 19.972961, datetime.datetime(2021, 9, 6, 14, 57, 23), 'повторяю')\n",
      "(1, '1630478229.2284729', 21.36, datetime.datetime(2021, 9, 6, 14, 57, 23), 'проект рыба')\n",
      "(1, '1630478229.2284729', 24.06, datetime.datetime(2021, 9, 6, 14, 57, 23), 'он')\n",
      "(1, '1630478229.2284729', 37.11, datetime.datetime(2021, 9, 6, 14, 57, 23), 'раз')\n",
      "(1, '1630478229.2284729', 40.8, datetime.datetime(2021, 9, 6, 14, 57, 23), 'так')\n",
      "(1, '1630478229.2284729', 42.3, datetime.datetime(2021, 9, 6, 14, 57, 23), 'шок')\n",
      "(1, '1630478229.2284729', 53.34, datetime.datetime(2021, 9, 6, 14, 57, 23), 'а потом')\n",
      "(1, '1630478229.2284729', 71.061921, datetime.datetime(2021, 9, 6, 14, 57, 23), 'продолжай')\n",
      "(1, '1630478229.2284729', 83.46, datetime.datetime(2021, 9, 6, 14, 57, 23), 'чтобы')\n",
      "(1, '1630478325.454410', 11.621889, datetime.datetime(2021, 9, 6, 14, 57, 42), 'права')\n",
      "(1, '1630478325.454410', 16.05, datetime.datetime(2021, 9, 6, 14, 57, 42), 'она попробовала')\n",
      "(1, '1630478457.2284901', 4.59, datetime.datetime(2021, 9, 6, 14, 57, 47), 'вас')\n",
      "(2, '1630477161.453434', 8.7, datetime.datetime(2021, 9, 6, 14, 55, 10), 'лаков')\n",
      "(2, '1630477161.453434', 12.96, datetime.datetime(2021, 9, 6, 14, 55, 10), 'а')\n",
      "(2, '1630477161.453434', 17.58, datetime.datetime(2021, 9, 6, 14, 55, 10), 'куда')\n",
      "(2, '1630477161.453434', 20.79, datetime.datetime(2021, 9, 6, 14, 55, 10), 'у гробу')\n",
      "(2, '1630477161.453434', 24.416768, datetime.datetime(2021, 9, 6, 14, 55, 10), 'ворота')\n",
      "(2, '1630477161.453434', 31.77, datetime.datetime(2021, 9, 6, 14, 55, 10), 'от кого')\n",
      "(2, '1630477161.453434', 37.099482, datetime.datetime(2021, 9, 6, 14, 55, 10), 'конкурс')\n",
      "(2, '1630477161.453434', 42.27, datetime.datetime(2021, 9, 6, 14, 55, 10), 'так это вам')\n",
      "(2, '1630477161.453434', 47.28, datetime.datetime(2021, 9, 6, 14, 55, 10), 'когда вы')\n",
      "(2, '1630477161.453434', 49.29, datetime.datetime(2021, 9, 6, 14, 55, 10), 'так')\n",
      "(2, '1630477161.453434', 55.65, datetime.datetime(2021, 9, 6, 14, 55, 10), 'так')\n",
      "(2, '1630477161.453434', 62.127847, datetime.datetime(2021, 9, 6, 14, 55, 10), 'это')\n",
      "(2, '1630477161.453434', 68.82, datetime.datetime(2021, 9, 6, 14, 55, 10), 'правда')\n",
      "(2, '1630477212.453503', 8.85, datetime.datetime(2021, 9, 6, 14, 55, 31), 'ворота')\n",
      "(2, '1630477212.453503', 11.88, datetime.datetime(2021, 9, 6, 14, 55, 31), 'склада')\n",
      "(2, '1630477212.453503', 18.409567, datetime.datetime(2021, 9, 6, 14, 55, 31), 'пока папа')\n",
      "(2, '1630477212.453503', 24.45, datetime.datetime(2021, 9, 6, 14, 55, 31), 'потому что')\n",
      "(2, '1630477212.453503', 25.86, datetime.datetime(2021, 9, 6, 14, 55, 31), 'а потом')\n",
      "(2, '1630477212.453503', 30.63, datetime.datetime(2021, 9, 6, 14, 55, 31), 'пока')\n",
      "(2, '1630477212.453503', 36.93, datetime.datetime(2021, 9, 6, 14, 55, 31), 'вот сказок')\n",
      "(2, '1630477212.453503', 40.8, datetime.datetime(2021, 9, 6, 14, 55, 31), 'а потом пошла готово')\n",
      "(2, '1630477212.453503', 47.347196, datetime.datetime(2021, 9, 6, 14, 55, 31), 'вас')\n",
      "(2, '1630477212.453503', 51.309741, datetime.datetime(2021, 9, 6, 14, 55, 31), 'потом а потом он убрался')\n",
      "(2, '1630477212.453503', 54.63, datetime.datetime(2021, 9, 6, 14, 55, 31), 'ой')\n",
      "(2, '1630477212.453503', 67.59, datetime.datetime(2021, 9, 6, 14, 55, 31), 'потому что')\n",
      "(2, '1630477212.453503', 78.12, datetime.datetime(2021, 9, 6, 14, 55, 31), 'самое')\n",
      "(2, '1630477212.453503', 79.59, datetime.datetime(2021, 9, 6, 14, 55, 31), 'правда')\n",
      "(2, '1630477212.453503', 84.24, datetime.datetime(2021, 9, 6, 14, 55, 31), 'я')\n",
      "(2, '1630477212.453503', 90.6, datetime.datetime(2021, 9, 6, 14, 55, 31), 'папа')\n",
      "(2, '1630477212.453503', 96.27, datetime.datetime(2021, 9, 6, 14, 55, 31), 'по моему выбору')\n",
      "(2, '1630477212.453503', 103.14, datetime.datetime(2021, 9, 6, 14, 55, 31), 'правда')\n",
      "(2, '1630477212.453503', 103.44, datetime.datetime(2021, 9, 6, 14, 55, 31), 'могу я')\n",
      "(2, '1630477212.453503', 108.84, datetime.datetime(2021, 9, 6, 14, 55, 31), 'же')\n",
      "(2, '1630477212.453503', 116.91, datetime.datetime(2021, 9, 6, 14, 55, 31), 'даже')\n",
      "(2, '1630477212.453503', 121.65, datetime.datetime(2021, 9, 6, 14, 55, 31), 'что')\n",
      "(2, '1630477212.453503', 127.92, datetime.datetime(2021, 9, 6, 14, 55, 31), 'поворота')\n",
      "(2, '1630477212.453503', 128.91, datetime.datetime(2021, 9, 6, 14, 55, 31), 'потом')\n",
      "(2, '1630477273.2284263', 2.91, datetime.datetime(2021, 9, 6, 14, 56, 10), 'догадаться')\n",
      "(2, '1630477273.2284263', 0.0, datetime.datetime(2021, 9, 6, 14, 56, 11), '')\n",
      "(2, '1630477309.453576', 0.0, datetime.datetime(2021, 9, 6, 14, 56, 12), '')\n",
      "(2, '1630477391.453638', 0.0, datetime.datetime(2021, 9, 6, 14, 56, 13), '')\n",
      "(2, '1630477468.2284372', 15.78, datetime.datetime(2021, 9, 6, 14, 56, 15), 'ладно ладно')\n",
      "(2, '1630477468.2284372', 2.61, datetime.datetime(2021, 9, 6, 14, 56, 20), 'давай')\n",
      "(2, '1630477468.2284372', 8.155645, datetime.datetime(2021, 9, 6, 14, 56, 20), 'отражает')\n",
      "(2, '1630477468.2284372', 13.992777, datetime.datetime(2021, 9, 6, 14, 56, 20), 'разврата')\n",
      "(2, '1630477468.2284372', 18.235082, datetime.datetime(2021, 9, 6, 14, 56, 20), 'так давайте сопоставим сотрудников о дорогой')\n",
      "(2, '1630477468.2284372', 22.26, datetime.datetime(2021, 9, 6, 14, 56, 20), 'потому что')\n",
      "(2, '1630477468.2284372', 37.71, datetime.datetime(2021, 9, 6, 14, 56, 20), 'потому что')\n",
      "(2, '1630477475.453707', 0.0, datetime.datetime(2021, 9, 6, 14, 56, 30), '')\n",
      "(2, '1630477545.453782', 6.51, datetime.datetime(2021, 9, 6, 14, 56, 32), 'а')\n",
      "(2, '1630477545.453782', 9.24, datetime.datetime(2021, 9, 6, 14, 56, 32), 'можно вас на пару шагов')\n",
      "(2, '1630477545.453782', 13.74, datetime.datetime(2021, 9, 6, 14, 56, 32), 'сторонам')\n",
      "(2, '1630477545.453782', 21.3, datetime.datetime(2021, 9, 6, 14, 56, 32), 'а вот')\n",
      "(2, '1630477545.453782', 26.55, datetime.datetime(2021, 9, 6, 14, 56, 32), 'мама')\n",
      "(2, '1630477545.453782', 38.88, datetime.datetime(2021, 9, 6, 14, 56, 32), 'да')\n",
      "(2, '1630477545.453782', 72.03, datetime.datetime(2021, 9, 6, 14, 56, 32), 'папа')\n",
      "(2, '1630477576.2284436', 3.87, datetime.datetime(2021, 9, 6, 14, 56, 41), 'лететь')\n",
      "(2, '1630477576.2284436', 4.38, datetime.datetime(2021, 9, 6, 14, 56, 42), 'наверняка')\n",
      "(2, '1630477683.2284467', 0.0, datetime.datetime(2021, 9, 6, 14, 56, 44), '')\n",
      "(2, '1630477683.2284467', 0.009973, datetime.datetime(2021, 9, 6, 14, 56, 44), 'папа')\n",
      "(2, '1630477687.453868', 5.7, datetime.datetime(2021, 9, 6, 14, 56, 47), 'как')\n",
      "(2, '1630477687.453868', 11.22, datetime.datetime(2021, 9, 6, 14, 56, 47), 'давай')\n",
      "(2, '1630477687.453868', 17.07, datetime.datetime(2021, 9, 6, 14, 56, 47), 'он')\n",
      "(2, '1630477687.453868', 22.77, datetime.datetime(2021, 9, 6, 14, 56, 47), 'ладно')\n",
      "(2, '1630477687.453868', 25.38, datetime.datetime(2021, 9, 6, 14, 56, 47), 'почему')\n",
      "(2, '1630477687.453868', 30.57, datetime.datetime(2021, 9, 6, 14, 56, 47), 'он')\n",
      "(2, '1630477687.453868', 38.1, datetime.datetime(2021, 9, 6, 14, 56, 47), 'ребята')\n",
      "(2, '1630477687.453868', 50.91, datetime.datetime(2021, 9, 6, 14, 56, 47), 'потом')\n",
      "(2, '1630477687.453868', 65.25, datetime.datetime(2021, 9, 6, 14, 56, 47), 'вокруг')\n",
      "(2, '1630477687.453868', 70.41, datetime.datetime(2021, 9, 6, 14, 56, 47), 'давайте')\n",
      "(2, '1630477687.453868', 74.1, datetime.datetime(2021, 9, 6, 14, 56, 47), 'как это')\n",
      "(2, '1630477810.453943', 4.59189, datetime.datetime(2021, 9, 6, 14, 57, 9), 'вас')\n",
      "(2, '1630477810.453943', 8.91, datetime.datetime(2021, 9, 6, 14, 57, 9), 'папа')\n",
      "(2, '1630477810.453943', 12.18, datetime.datetime(2021, 9, 6, 14, 57, 9), 'попутно')\n",
      "(2, '1630477810.453943', 15.15, datetime.datetime(2021, 9, 6, 14, 57, 9), 'просто по поводу какого-то')\n",
      "(2, '1630477810.453943', 19.74, datetime.datetime(2021, 9, 6, 14, 57, 9), 'я как раз об этом')\n",
      "(2, '1630477810.453943', 23.22, datetime.datetime(2021, 9, 6, 14, 57, 9), 'пока')\n",
      "(2, '1630477810.453943', 36.33, datetime.datetime(2021, 9, 6, 14, 57, 9), 'готовы')\n",
      "(2, '1630477810.453943', 41.22, datetime.datetime(2021, 9, 6, 14, 57, 9), 'что')\n",
      "(2, '1630477810.453943', 43.89, datetime.datetime(2021, 9, 6, 14, 57, 9), 'попробуй пожалуйста')\n",
      "(2, '1630477810.453943', 53.34, datetime.datetime(2021, 9, 6, 14, 57, 9), 'пока')\n",
      "(2, '1630477810.453943', 55.02, datetime.datetime(2021, 9, 6, 14, 57, 9), 'тогда давай')\n",
      "(2, '1630477810.453943', 60.09, datetime.datetime(2021, 9, 6, 14, 57, 9), 'правда')\n",
      "(2, '1630477810.453943', 66.75, datetime.datetime(2021, 9, 6, 14, 57, 9), 'нет')\n",
      "(2, '1630477810.453943', 69.03, datetime.datetime(2021, 9, 6, 14, 57, 9), 'просто')\n",
      "(2, '1630477810.453943', 78.45, datetime.datetime(2021, 9, 6, 14, 57, 9), 'аппарат')\n",
      "(2, '1630477810.453943', 79.68, datetime.datetime(2021, 9, 6, 14, 57, 9), 'аппарата')\n",
      "(2, '1630477810.453943', 87.0, datetime.datetime(2021, 9, 6, 14, 57, 9), 'папа папа')\n",
      "(2, '1630477810.453943', 93.63, datetime.datetime(2021, 9, 6, 14, 57, 9), 'же')\n",
      "(2, '1630477810.453943', 105.69, datetime.datetime(2021, 9, 6, 14, 57, 9), 'спокойно')\n",
      "(2, '1630477900.2284542', 3.33, datetime.datetime(2021, 9, 6, 14, 57, 38), 'поняли')\n",
      "(2, '1630477900.2284542', 8.1, datetime.datetime(2021, 9, 6, 14, 57, 38), 'хорош')\n",
      "(2, '1630477900.2284542', 11.07, datetime.datetime(2021, 9, 6, 14, 57, 38), 'добра')\n",
      "(2, '1630477900.2284542', 18.39, datetime.datetime(2021, 9, 6, 14, 57, 38), 'нас вопрос')\n",
      "(2, '1630477900.2284542', 23.539374, datetime.datetime(2021, 9, 6, 14, 57, 38), 'вот что')\n",
      "(2, '1630477900.2284542', 25.92, datetime.datetime(2021, 9, 6, 14, 57, 38), 'класс')\n",
      "(3, '1630476454.2283798', 4.17, datetime.datetime(2021, 9, 6, 14, 55, 10), 'папа')\n",
      "(3, '1630476454.2283798', 7.14, datetime.datetime(2021, 9, 6, 14, 55, 10), 'потом')\n",
      "(3, '1630476454.2283798', 14.25, datetime.datetime(2021, 9, 6, 14, 55, 10), 'пока')\n",
      "(3, '1630476454.2283798', 15.84, datetime.datetime(2021, 9, 6, 14, 55, 10), 'да')\n",
      "(3, '1630476454.2283798', 24.887538, datetime.datetime(2021, 9, 6, 14, 55, 10), 'папа')\n",
      "(3, '1630476454.2283798', 34.89, datetime.datetime(2021, 9, 6, 14, 55, 10), 'попробуй')\n",
      "(3, '1630476454.2283798', 38.01, datetime.datetime(2021, 9, 6, 14, 55, 10), 'да')\n",
      "(3, '1630476454.2283798', 44.88, datetime.datetime(2021, 9, 6, 14, 55, 10), 'сейчас')\n",
      "(3, '1630476454.2283798', 50.94, datetime.datetime(2021, 9, 6, 14, 55, 10), 'пора')\n",
      "(3, '1630476454.2283798', 55.86, datetime.datetime(2021, 9, 6, 14, 55, 10), 'пока')\n",
      "(3, '1630476454.2283798', 60.27, datetime.datetime(2021, 9, 6, 14, 55, 10), 'булгакова')\n",
      "(3, '1630476454.2283798', 62.43, datetime.datetime(2021, 9, 6, 14, 55, 10), 'какая-то')\n",
      "(3, '1630476454.2283798', 72.09, datetime.datetime(2021, 9, 6, 14, 55, 10), 'права')\n",
      "(3, '1630476585.453061', 8.01, datetime.datetime(2021, 9, 6, 14, 55, 30), 'о боже')\n",
      "(3, '1630476585.453061', 10.68, datetime.datetime(2021, 9, 6, 14, 55, 30), 'что вас')\n",
      "(3, '1630476585.453061', 16.11, datetime.datetime(2021, 9, 6, 14, 55, 30), 'урок')\n",
      "(3, '1630476585.453061', 18.84, datetime.datetime(2021, 9, 6, 14, 55, 30), 'лайн')\n",
      "(3, '1630476585.453061', 19.92, datetime.datetime(2021, 9, 6, 14, 55, 30), 'он')\n",
      "(3, '1630476585.453061', 28.86, datetime.datetime(2021, 9, 6, 14, 55, 30), 'что зовёт')\n",
      "(3, '1630476585.453061', 30.84, datetime.datetime(2021, 9, 6, 14, 55, 30), 'папа')\n",
      "(3, '1630476585.453061', 37.47, datetime.datetime(2021, 9, 6, 14, 55, 30), 'а')\n",
      "(3, '1630476585.453061', 44.37, datetime.datetime(2021, 9, 6, 14, 55, 30), 'пора')\n",
      "(3, '1630476585.453061', 48.66, datetime.datetime(2021, 9, 6, 14, 55, 30), 'обороте плаву')\n",
      "(3, '1630476585.453061', 51.12, datetime.datetime(2021, 9, 6, 14, 55, 30), 'у вас на обрабатывать получится')\n",
      "(3, '1630476627.2283866', 3.48, datetime.datetime(2021, 9, 6, 14, 55, 44), 'а потом')\n",
      "(3, '1630476627.2283866', 5.52, datetime.datetime(2021, 9, 6, 14, 55, 44), 'ладно потом я задал вопрос')\n",
      "(3, '1630476627.2283866', 12.78, datetime.datetime(2021, 9, 6, 14, 55, 44), 'вот так')\n",
      "(3, '1630476627.2283866', 13.38, datetime.datetime(2021, 9, 6, 14, 55, 44), 'по вопросу вопросам')\n",
      "(3, '1630476627.2283866', 18.72, datetime.datetime(2021, 9, 6, 14, 55, 44), 'ладно')\n",
      "(3, '1630476627.2283866', 24.84, datetime.datetime(2021, 9, 6, 14, 55, 44), 'да')\n",
      "(3, '1630476627.2283866', 44.07, datetime.datetime(2021, 9, 6, 14, 55, 44), 'по поводу того')\n",
      "(3, '1630476627.2283866', 49.65, datetime.datetime(2021, 9, 6, 14, 55, 44), 'это круто')\n",
      "(3, '1630476627.2283866', 52.330616, datetime.datetime(2021, 9, 6, 14, 55, 44), 'вот она')\n",
      "(3, '1630476627.2283866', 60.18, datetime.datetime(2021, 9, 6, 14, 55, 44), 'супер')\n",
      "(3, '1630476627.2283866', 63.6, datetime.datetime(2021, 9, 6, 14, 55, 44), 'ладно')\n",
      "(3, '1630476627.2283866', 66.48, datetime.datetime(2021, 9, 6, 14, 55, 44), 'потому что по поводу плутона')\n",
      "(3, '1630476627.2283866', 69.78, datetime.datetime(2021, 9, 6, 14, 55, 44), 'что там')\n",
      "(3, '1630476627.2283866', 73.89, datetime.datetime(2021, 9, 6, 14, 55, 44), 'где-то там')\n",
      "(3, '1630476627.2283866', 78.75, datetime.datetime(2021, 9, 6, 14, 55, 44), 'потому что')\n",
      "(3, '1630476627.2283866', 2.43, datetime.datetime(2021, 9, 6, 14, 56, 7), 'браток')\n",
      "(3, '1630476627.2283866', 11.49, datetime.datetime(2021, 9, 6, 14, 56, 7), 'пожалуйста')\n",
      "(3, '1630476627.2283866', 18.06, datetime.datetime(2021, 9, 6, 14, 56, 7), 'парковка павла')\n",
      "(3, '1630476627.2283866', 24.09, datetime.datetime(2021, 9, 6, 14, 56, 7), 'чтобы')\n",
      "(3, '1630476627.2283866', 38.46, datetime.datetime(2021, 9, 6, 14, 56, 7), 'о')\n",
      "(3, '1630476627.2283866', 41.49, datetime.datetime(2021, 9, 6, 14, 56, 7), 'робота')\n",
      "(3, '1630476627.2283866', 46.14, datetime.datetime(2021, 9, 6, 14, 56, 7), 'ладно')\n",
      "(3, '1630476627.2283866', 57.24, datetime.datetime(2021, 9, 6, 14, 56, 7), 'по поводу')\n",
      "(3, '1630476728.453131', 0.0, datetime.datetime(2021, 9, 6, 14, 56, 28), '')\n",
      "(3, '1630476807.2283981', 0.0, datetime.datetime(2021, 9, 6, 14, 56, 29), '')\n",
      "(3, '1630476807.2283981', 0.0, datetime.datetime(2021, 9, 6, 14, 56, 29), '')\n",
      "(3, '1630476814.453192', 7.65, datetime.datetime(2021, 9, 6, 14, 56, 30), 'хорошо')\n",
      "(3, '1630476814.453192', 10.38, datetime.datetime(2021, 9, 6, 14, 56, 30), 'мне')\n",
      "(3, '1630476814.453192', 21.42, datetime.datetime(2021, 9, 6, 14, 56, 30), 'так')\n",
      "(3, '1630476814.453192', 26.407392, datetime.datetime(2021, 9, 6, 14, 56, 30), 'посмотри давай посмотрим')\n",
      "(3, '1630476814.453192', 28.74, datetime.datetime(2021, 9, 6, 14, 56, 30), 'итак я приеду сегодня так')\n",
      "(3, '1630476814.453192', 40.05, datetime.datetime(2021, 9, 6, 14, 56, 30), 'выбирайте')\n",
      "(3, '1630476814.453192', 44.28, datetime.datetime(2021, 9, 6, 14, 56, 30), 'теперь')\n",
      "(3, '1630476814.453192', 46.732288, datetime.datetime(2021, 9, 6, 14, 56, 30), 'я поняла')\n",
      "(3, '1630476814.453192', 55.14, datetime.datetime(2021, 9, 6, 14, 56, 30), 'после проверки ваша карьера этому')\n",
      "(3, '1630476814.453192', 60.689729, datetime.datetime(2021, 9, 6, 14, 56, 30), 'не подпишете')\n",
      "(3, '1630476814.453192', 66.78, datetime.datetime(2021, 9, 6, 14, 56, 30), 'поэтому потому что ты мне показала')\n",
      "(3, '1630476814.453192', 69.33, datetime.datetime(2021, 9, 6, 14, 56, 30), 'не просто так')\n",
      "(3, '1630476814.453192', 73.44, datetime.datetime(2021, 9, 6, 14, 56, 30), 'по-моему правильно')\n",
      "(3, '1630476814.453192', 80.82, datetime.datetime(2021, 9, 6, 14, 56, 30), 'значит это такое')\n",
      "(3, '1630476814.453192', 83.94, datetime.datetime(2021, 9, 6, 14, 56, 30), 'так значит него')\n",
      "(3, '1630476814.453192', 85.273704, datetime.datetime(2021, 9, 6, 14, 56, 30), 'могу')\n",
      "(3, '1630476814.453192', 90.3, datetime.datetime(2021, 9, 6, 14, 56, 30), 'могу')\n",
      "(3, '1630476814.453192', 98.07, datetime.datetime(2021, 9, 6, 14, 56, 30), 'всего доброго')\n",
      "(3, '1630476814.453192', 99.39, datetime.datetime(2021, 9, 6, 14, 56, 30), 'как определить что гранит')\n",
      "(3, '1630476814.453192', 101.43, datetime.datetime(2021, 9, 6, 14, 56, 30), 'наверное')\n",
      "(3, '1630476814.453192', 102.99, datetime.datetime(2021, 9, 6, 14, 56, 30), 'хорошо')\n",
      "(3, '1630476897.2284045', 6.18, datetime.datetime(2021, 9, 6, 14, 57, 6), 'аппарата')\n",
      "(3, '1630476897.2284045', 11.435334, datetime.datetime(2021, 9, 6, 14, 57, 6), 'со мной')\n",
      "(3, '1630476897.2284045', 15.51, datetime.datetime(2021, 9, 6, 14, 57, 6), 'этого')\n",
      "(3, '1630476897.2284045', 43.02, datetime.datetime(2021, 9, 6, 14, 57, 6), 'она')\n",
      "(3, '1630476897.2284045', 48.99, datetime.datetime(2021, 9, 6, 14, 57, 6), 'аккуратно')\n",
      "(3, '1630476897.2284045', 53.07, datetime.datetime(2021, 9, 6, 14, 57, 6), 'потом')\n",
      "(3, '1630476897.2284045', 2.97, datetime.datetime(2021, 9, 6, 14, 57, 17), 'маловато')\n",
      "(3, '1630476897.2284045', 17.58, datetime.datetime(2021, 9, 6, 14, 57, 17), 'а папа')\n",
      "(3, '1630476897.2284045', 25.26, datetime.datetime(2021, 9, 6, 14, 57, 17), 'привет')\n",
      "(3, '1630476897.2284045', 32.94, datetime.datetime(2021, 9, 6, 14, 57, 17), 'у вас')\n",
      "(3, '1630476897.2284045', 42.09, datetime.datetime(2021, 9, 6, 14, 57, 17), 'мастера')\n",
      "(3, '1630476897.2284045', 46.37536, datetime.datetime(2021, 9, 6, 14, 57, 17), 'поздравляю')\n",
      "(3, '1630476897.2284045', 50.52, datetime.datetime(2021, 9, 6, 14, 57, 17), 'просто как правило')\n",
      "(3, '1630476897.2284045', 52.32, datetime.datetime(2021, 9, 6, 14, 57, 17), 'и')\n",
      "(3, '1630476897.2284045', 57.36, datetime.datetime(2021, 9, 6, 14, 57, 17), 'и')\n",
      "(3, '1630476899.453244', 18.39, datetime.datetime(2021, 9, 6, 14, 57, 31), 'а вообще')\n",
      "(3, '1630476899.453244', 22.8, datetime.datetime(2021, 9, 6, 14, 57, 31), 'сейчас')\n",
      "(3, '1630476899.453244', 29.76, datetime.datetime(2021, 9, 6, 14, 57, 31), 'шоколад')\n",
      "(3, '1630476899.453244', 35.64, datetime.datetime(2021, 9, 6, 14, 57, 31), 'вот')\n",
      "(3, '1630477018.453310', 3.87, datetime.datetime(2021, 9, 6, 14, 57, 38), 'то есть')\n",
      "(3, '1630477018.453310', 9.81, datetime.datetime(2021, 9, 6, 14, 57, 38), 'также')\n",
      "(3, '1630477018.453310', 14.49, datetime.datetime(2021, 9, 6, 14, 57, 38), 'аппарат')\n",
      "(3, '1630477018.453310', 16.59, datetime.datetime(2021, 9, 6, 14, 57, 38), 'позвоню')\n",
      "(3, '1630477018.453310', 19.71, datetime.datetime(2021, 9, 6, 14, 57, 38), 'два не так же')\n",
      "(3, '1630477018.453310', 24.33, datetime.datetime(2021, 9, 6, 14, 57, 38), 'эрик')\n",
      "(3, '1630477018.453310', 31.11, datetime.datetime(2021, 9, 6, 14, 57, 38), 'а сейчас редактора перевозят потом давайте давайте')\n",
      "(4, '1630475833.452668', 0.06, datetime.datetime(2021, 9, 6, 14, 55, 7), 'и')\n",
      "(4, '1630475833.452668', 17.46, datetime.datetime(2021, 9, 6, 14, 55, 7), 'автор но приезжайте сегодня хорошо там в час же ночь')\n",
      "(4, '1630475833.452668', 23.55, datetime.datetime(2021, 9, 6, 14, 55, 7), 'это ну а так как получится звонить титана там елена будет')\n",
      "(4, '1630475850.2283430', 10.56, datetime.datetime(2021, 9, 6, 14, 55, 14), 'да добрый день меня александр зовут вот и мы вчера весь день мастера рождали по ремонту холодильников он нам так и не позвонил как вы сказали')\n",
      "(4, '1630475850.2283430', 21.18, datetime.datetime(2021, 9, 6, 14, 55, 14), 'хотела прояснить ситуацию')\n",
      "(4, '1630475850.2283430', 25.92, datetime.datetime(2021, 9, 6, 14, 55, 14), 'видное завидное четыре')\n",
      "(4, '1630475850.2283430', 29.16, datetime.datetime(2021, 9, 6, 14, 55, 14), 'гарантийный ремонт')\n",
      "(4, '1630475850.2283430', 38.58, datetime.datetime(2021, 9, 6, 14, 55, 14), 'нет он нам не звонил вообще не звонил виктором не звонил обиход диск')\n",
      "(4, '1630475850.2283430', 46.29, datetime.datetime(2021, 9, 6, 14, 55, 14), 'мы днём мы сначала позвонили вон дэвид потом от вашей службы позвонили нам в этом было где-то часов в одиннадцать дня все записали сказали ждите звонка мастера от весь день он но и даже не позвонил')\n",
      "(4, '1630475850.2283430', 63.06, datetime.datetime(2021, 9, 6, 14, 55, 14), 'так когда он придёт сами понимаете без холодильника уже вторые сутки пошло')\n",
      "(4, '1630475850.2283430', 70.197371, datetime.datetime(2021, 9, 6, 14, 55, 14), 'он сегодня позвонит то вчера так же говорил')\n",
      "(4, '1630475850.2283430', 76.95, datetime.datetime(2021, 9, 6, 14, 55, 14), 'спасибо')\n",
      "(4, '1630475850.2283430', 78.15, datetime.datetime(2021, 9, 6, 14, 55, 14), 'ждём')\n",
      "(4, '1630475850.2283430', 0.06, datetime.datetime(2021, 9, 6, 14, 55, 29), 'и')\n",
      "(4, '1630475850.2283430', 7.65, datetime.datetime(2021, 9, 6, 14, 55, 29), 'единая служба сервиса оператор ольга добрый день')\n",
      "(4, '1630475850.2283430', 23.407742, datetime.datetime(2021, 9, 6, 14, 55, 29), 'секундочку адрес какой у вас')\n",
      "(4, '1630475850.2283430', 36.18, datetime.datetime(2021, 9, 6, 14, 55, 29), 'так но он вам звонил что сказал')\n",
      "(4, '1630475850.2283430', 41.91, datetime.datetime(2021, 9, 6, 14, 55, 29), 'вчера форуме или заявочку позднем оформили или когда')\n",
      "(4, '1630475850.2283430', 58.74, datetime.datetime(2021, 9, 6, 14, 55, 29), 'понятно но я мастеру сообщения отправила что вам позвонил')\n",
      "(4, '1630475850.2283430', 65.37, datetime.datetime(2021, 9, 6, 14, 55, 29), 'да конечно он вам позвонит уже с мастером договорить все время ждите звоночков ну вот я ему сообщение отправила чтобы он позвонил')\n",
      "(4, '1630475850.2283430', 76.65, datetime.datetime(2021, 9, 6, 14, 55, 29), 'ждите звоночка')\n",
      "(4, '1630475959.452745', 0.06, datetime.datetime(2021, 9, 6, 14, 55, 43), 'и')\n",
      "(4, '1630475959.452745', 21.72, datetime.datetime(2021, 9, 6, 14, 55, 43), 'и')\n",
      "(4, '1630475959.452745', 28.59, datetime.datetime(2021, 9, 6, 14, 55, 43), 'и')\n",
      "(4, '1630476010.2283484', 9.09, datetime.datetime(2021, 9, 6, 14, 55, 49), 'здравствуйте')\n",
      "(4, '1630476010.2283484', 10.56, datetime.datetime(2021, 9, 6, 14, 55, 49), 'вот скажите мне бы нужно ставить два стекла удалого окна в обыкновенную')\n",
      "(4, '1630476010.2283484', 0.06, datetime.datetime(2021, 9, 6, 14, 55, 54), 'и')\n",
      "(4, '1630476010.2283484', 6.45, datetime.datetime(2021, 9, 6, 14, 55, 54), 'геноцида сервис оператор катерина')\n",
      "(4, '1630476010.2283484', 14.97, datetime.datetime(2021, 9, 6, 14, 55, 54), 'мы этим не занимаемся')\n",
      "(4, '1630476096.452814', 0.06, datetime.datetime(2021, 9, 6, 14, 55, 59), 'и')\n",
      "(4, '1630476096.452814', 2.46, datetime.datetime(2021, 9, 6, 14, 55, 59), 'и')\n",
      "(4, '1630476096.452814', 8.19, datetime.datetime(2021, 9, 6, 14, 55, 59), 'и')\n",
      "(4, '1630476096.452814', 14.16, datetime.datetime(2021, 9, 6, 14, 55, 59), 'и')\n",
      "(4, '1630476096.452814', 20.1, datetime.datetime(2021, 9, 6, 14, 55, 59), 'и')\n",
      "(4, '1630476096.452814', 26.04, datetime.datetime(2021, 9, 6, 14, 55, 59), 'э')\n",
      "(4, '1630476149.2283642', 6.75, datetime.datetime(2021, 9, 6, 14, 56, 6), 'здравствуйте вот у нас хватит велик')\n",
      "(4, '1630476149.2283642', 9.6, datetime.datetime(2021, 9, 6, 14, 56, 6), 'это самая или морозец так он работает и как и у это сама мотор')\n",
      "(4, '1630476149.2283642', 17.55, datetime.datetime(2021, 9, 6, 14, 56, 6), 'да')\n",
      "(4, '1630476149.2283642', 19.68, datetime.datetime(2021, 9, 6, 14, 56, 6), 'так это самообман')\n",
      "(4, '1630476149.2283642', 21.81, datetime.datetime(2021, 9, 6, 14, 56, 6), 'модель ну')\n",
      "(4, '1630476149.2283642', 25.95, datetime.datetime(2021, 9, 6, 14, 56, 6), 'да')\n",
      "(4, '1630476149.2283642', 29.49, datetime.datetime(2021, 9, 6, 14, 56, 6), 'я не три года наверное не прошло')\n",
      "(4, '1630476149.2283642', 37.41, datetime.datetime(2021, 9, 6, 14, 56, 6), 'ой')\n",
      "(4, '1630476149.2283642', 42.3, datetime.datetime(2021, 9, 6, 14, 56, 6), 'ой чека и руб потерян то')\n",
      "(4, '1630476149.2283642', 46.23, datetime.datetime(2021, 9, 6, 14, 56, 6), 'потери джек и а это как её то паспорт и это все если гарантийный талон есть')\n",
      "(4, '1630476149.2283642', 62.85, datetime.datetime(2021, 9, 6, 14, 56, 6), 'наверное')\n",
      "(4, '1630476149.2283642', 67.68, datetime.datetime(2021, 9, 6, 14, 56, 6), 'прошло на таль а когда я его покупал')\n",
      "(4, '1630476149.2283642', 74.49, datetime.datetime(2021, 9, 6, 14, 56, 6), 'а все все гарантийный талон прошёл')\n",
      "(4, '1630476149.2283642', 87.78, datetime.datetime(2021, 9, 6, 14, 56, 6), 'извините города сама сейчас спросить а это с мастером сколько вызов будет стоит')\n",
      "(4, '1630476149.2283642', 106.29, datetime.datetime(2021, 9, 6, 14, 56, 6), 'чуть ли не час он позволит да')\n",
      "(4, '1630476149.2283642', 109.77, datetime.datetime(2021, 9, 6, 14, 56, 6), 'вот и записывайте тогда')\n",
      "(4, '1630476149.2283642', 116.7, datetime.datetime(2021, 9, 6, 14, 56, 6), 'господи да это как это видеть')\n",
      "(4, '1630476149.2283642', 121.08, datetime.datetime(2021, 9, 6, 14, 56, 6), 'единая служба сервиса дисконтная на карта')\n",
      "(4, '1630476149.2283642', 128.49, datetime.datetime(2021, 9, 6, 14, 56, 6), 'с какой')\n",
      "(4, '1630476149.2283642', 132.3, datetime.datetime(2021, 9, 6, 14, 56, 6), 'вверху с правой стороны')\n",
      "(4, '1630476149.2283642', 137.7, datetime.datetime(2021, 9, 6, 14, 56, 6), 'серия но триста')\n",
      "(4, '1630476149.2283642', 145.35, datetime.datetime(2021, 9, 6, 14, 56, 6), 'сейчас сейчас')\n",
      "(4, '1630476149.2283642', 148.031323, datetime.datetime(2021, 9, 6, 14, 56, 6), 'сейчас у особи модель модель модель мхом')\n",
      "(4, '1630476149.2283642', 155.07, datetime.datetime(2021, 9, 6, 14, 56, 6), 'двадцать восемь тридцать пять девяносто сейчас скажу девяносто')\n",
      "(4, '1630476149.2283642', 164.22, datetime.datetime(2021, 9, 6, 14, 56, 6), 'гришенька николай павлович')\n",
      "(4, '1630476149.2283642', 171.0, datetime.datetime(2021, 9, 6, 14, 56, 6), 'улица медицинская')\n",
      "(4, '1630476149.2283642', 174.99, datetime.datetime(2021, 9, 6, 14, 56, 6), 'дом дом два')\n",
      "(4, '1630476149.2283642', 178.32, datetime.datetime(2021, 9, 6, 14, 56, 6), 'корпус два квартира двести семьдесят два')\n",
      "(4, '1630476149.2283642', 184.41, datetime.datetime(2021, 9, 6, 14, 56, 6), 'подъезд восьмой')\n",
      "(4, '1630476149.2283642', 187.74, datetime.datetime(2021, 9, 6, 14, 56, 6), 'шестой')\n",
      "(4, '1630476149.2283642', 192.66, datetime.datetime(2021, 9, 6, 14, 56, 6), 'вот')\n",
      "(4, '1630476149.2283642', 194.85, datetime.datetime(2021, 9, 6, 14, 56, 6), 'сейчас сейчас на так каков до скотта')\n",
      "(4, '1630476149.2283642', 198.54, datetime.datetime(2021, 9, 6, 14, 56, 6), 'кот какой подъезда')\n",
      "(4, '1630476149.2283642', 203.13, datetime.datetime(2021, 9, 6, 14, 56, 6), 'шесть два два идти')\n",
      "(4, '1630476149.2283642', 205.44, datetime.datetime(2021, 9, 6, 14, 56, 6), 'девять честь два два девять шесть во два')\n",
      "(4, '1630476149.2283642', 211.14, datetime.datetime(2021, 9, 6, 14, 56, 6), 'чего')\n",
      "(4, '1630476149.2283642', 215.1, datetime.datetime(2021, 9, 6, 14, 56, 6), 'не метро это')\n",
      "(4, '1630476149.2283642', 217.65, datetime.datetime(2021, 9, 6, 14, 56, 6), 'пражскую от нас недалеко')\n",
      "(4, '1630476149.2283642', 222.57, datetime.datetime(2021, 9, 6, 14, 56, 6), 'телефон мой')\n",
      "(4, '1630476149.2283642', 226.32, datetime.datetime(2021, 9, 6, 14, 56, 6), 'восемь девятьсот семьдесят семь')\n",
      "(4, '1630476149.2283642', 229.74, datetime.datetime(2021, 9, 6, 14, 56, 6), 'шестьсот тридцать два')\n",
      "(4, '1630476149.2283642', 233.52, datetime.datetime(2021, 9, 6, 14, 56, 6), 'сорок четыре двадцать девять')\n",
      "(4, '1630476149.2283642', 239.55, datetime.datetime(2021, 9, 6, 14, 56, 6), 'да')\n",
      "(4, '1630476149.2283642', 254.91, datetime.datetime(2021, 9, 6, 14, 56, 6), 'все правильно')\n",
      "(4, '1630476149.2283642', 266.04, datetime.datetime(2021, 9, 6, 14, 56, 6), 'подождите мне записывать номер заказа')\n",
      "(4, '1630476149.2283642', 273.51, datetime.datetime(2021, 9, 6, 14, 56, 6), 'они это и течение какого этого времени будут звонить')\n",
      "(4, '1630476149.2283642', 281.22, datetime.datetime(2021, 9, 6, 14, 56, 6), 'спасибо')\n",
      "(4, '1630476149.2283642', 284.58, datetime.datetime(2021, 9, 6, 14, 56, 6), 'всего хорошего вам')\n",
      "(4, '1630476149.2283642', 288.21, datetime.datetime(2021, 9, 6, 14, 56, 6), 'господи')\n",
      "(4, '1630476149.2283642', 0.06, datetime.datetime(2021, 9, 6, 14, 57, 11), 'и')\n",
      "(4, '1630476149.2283642', 2.64, datetime.datetime(2021, 9, 6, 14, 57, 11), 'здравствуйте едет в сервис оператору и выслушав вас')\n",
      "(4, '1630476149.2283642', 8.04, datetime.datetime(2021, 9, 6, 14, 57, 11), 'костусев')\n",
      "(4, '1630476149.2283642', 15.78, datetime.datetime(2021, 9, 6, 14, 57, 11), 'мотор работает холодны как называется')\n",
      "(4, '1630476149.2283642', 21.66, datetime.datetime(2021, 9, 6, 14, 57, 11), 'новому гарантия закончилась гарантия у вас')\n",
      "(4, '1630476149.2283642', 27.24, datetime.datetime(2021, 9, 6, 14, 57, 11), 'три года прошло')\n",
      "(4, '1630476149.2283642', 31.77, datetime.datetime(2021, 9, 6, 14, 57, 11), 'так но это важно смотрите гарантии на того когда покупали холодильник')\n",
      "(4, '1630476149.2283642', 39.42, datetime.datetime(2021, 9, 6, 14, 57, 11), 'кассовый чек есть у вас')\n",
      "(4, '1630476149.2283642', 45.48, datetime.datetime(2021, 9, 6, 14, 57, 11), 'ну на место мадрид надо')\n",
      "(4, '1630476149.2283642', 54.03, datetime.datetime(2021, 9, 6, 14, 57, 11), 'но вас точно три года не прошли тебе и три года прошло')\n",
      "(4, '1630476149.2283642', 64.8, datetime.datetime(2021, 9, 6, 14, 57, 11), 'наверное что')\n",
      "(4, '1630476149.2283642', 75.39, datetime.datetime(2021, 9, 6, 14, 57, 11), 'то есть прошла да хорошо да да пожалуйста могу вас записать на любой день можно на сегодня мастер перезвонить течение часа договориться о времени визитом записать вас')\n",
      "(4, '1630476149.2283642', 94.23, datetime.datetime(2021, 9, 6, 14, 57, 11), 'вызов на лимон бесплатно да все остальное да когда дома он перезвонит броня точнее ответит на ваши вопросы абсолютно на любой день могу записать а звоночек будет сегодня в течение часа')\n",
      "(4, '1630476149.2283642', 108.03, datetime.datetime(2021, 9, 6, 14, 57, 11), 'да да не звонил')\n",
      "(4, '1630476149.2283642', 111.75, datetime.datetime(2021, 9, 6, 14, 57, 11), 'записываю скажите откуда вы о нас узнали с какой рекламы не подскажет то')\n",
      "(4, '1630476149.2283642', 119.25, datetime.datetime(2021, 9, 6, 14, 57, 11), 'магнит карты нас дисконтную')\n",
      "(4, '1630476149.2283642', 123.15, datetime.datetime(2021, 9, 6, 14, 57, 11), 'но во что сервисная карта номер карты посмотрите вверху справа пожалуйста семьдесят три цифры должно быть вверху с правой стороны самца вверху справа')\n",
      "(4, '1630476149.2283642', 133.92, datetime.datetime(2021, 9, 6, 14, 57, 11), 'гм')\n",
      "(5, '1630475586.452426', 14.91, datetime.datetime(2021, 9, 6, 14, 55, 1), 'и')\n",
      "(5, '1630475586.452426', 16.14, datetime.datetime(2021, 9, 6, 14, 55, 1), 'а ну да добрый день мастер по ремонту половинок')\n",
      "(5, '1630475586.452426', 19.615642, datetime.datetime(2021, 9, 6, 14, 55, 1), 'что у вас получилось')\n",
      "(5, '1630475586.452426', 25.59, datetime.datetime(2021, 9, 6, 14, 55, 1), 'да')\n",
      "(5, '1630475586.452426', 29.7, datetime.datetime(2021, 9, 6, 14, 55, 1), 'скажите ну просто или простой холодильник')\n",
      "(5, '1630475586.452426', 34.77, datetime.datetime(2021, 9, 6, 14, 55, 1), 'да')\n",
      "(5, '1630475586.452426', 58.14, datetime.datetime(2021, 9, 6, 14, 55, 1), 'понятно смотрите где-то с двенадцати до четырёх или с одиннадцати до трёх планирует быть в вашем районе бирюлёво')\n",
      "(5, '1630475586.452426', 67.881387, datetime.datetime(2021, 9, 6, 14, 55, 1), 'так получится как получится я вам уху время обозначаю я просто еду по адресам не знаю у кого сколько пробуду липецкая тридцать корпус есть какой то корпус есть какой то')\n",
      "(5, '1630475586.452426', 80.25, datetime.datetime(2021, 9, 6, 14, 55, 1), 'квартиру на смотрите')\n",
      "(5, '1630475586.452426', 88.59, datetime.datetime(2021, 9, 6, 14, 55, 1), 'это этаж пятьдесят восьмая пятьдесят восемь а домофон кое-что дома')\n",
      "(5, '1630475586.452426', 95.91, datetime.datetime(2021, 9, 6, 14, 55, 1), 'по квартире но все ожидайте буду буду посмотрим разберёмся')\n",
      "(5, '1630475586.452426', 102.99, datetime.datetime(2021, 9, 6, 14, 55, 1), 'ну мой мобильник с собой держите хорошо')\n",
      "(5, '1630475586.452426', 107.64, datetime.datetime(2021, 9, 6, 14, 55, 1), 'не все')\n",
      "(5, '1630475598.2283309', 7.35, datetime.datetime(2021, 9, 6, 14, 55, 28), 'здравствуйте')\n",
      "(5, '1630475598.2283309', 10.35, datetime.datetime(2021, 9, 6, 14, 55, 28), 'алло это служба сервисы айсберг')\n",
      "(5, '1630475598.2283309', 18.6, datetime.datetime(2021, 9, 6, 14, 55, 28), 'девушка расскажите я вам то то хочу сказать мы делали заявку в вашу службу сервиса по ремонту по поводу ремонта телевизора диспетчер мне сказала что мастер перезвон течение часа')\n",
      "(5, '1630475598.2283309', 35.79, datetime.datetime(2021, 9, 6, 14, 55, 28), 'мы кровь')\n",
      "(5, '1630475598.2283309', 38.28, datetime.datetime(2021, 9, 6, 14, 55, 28), 'подождите а мага сейчас мы прождали три дня никто нам не звонил мастер позвонил через неделю')\n",
      "(5, '1630475598.2283309', 49.08, datetime.datetime(2021, 9, 6, 14, 55, 28), 'да вот такая служба')\n",
      "(5, '1630475598.2283309', 54.6, datetime.datetime(2021, 9, 6, 14, 55, 28), 'я пост')\n",
      "(5, '1630475598.2283309', 55.95, datetime.datetime(2021, 9, 6, 14, 55, 28), 'хай что вот')\n",
      "(5, '1630475598.2283309', 60.42, datetime.datetime(2021, 9, 6, 14, 55, 28), 'получается')\n",
      "(5, '1630475598.2283309', 63.63, datetime.datetime(2021, 9, 6, 14, 55, 28), 'да ничего просто хочу сказать какая хорошилов сырость на службе')\n",
      "(5, '1630475598.2283309', 0.06, datetime.datetime(2021, 9, 6, 14, 55, 41), 'и')\n",
      "(5, '1630475598.2283309', 3.51, datetime.datetime(2021, 9, 6, 14, 55, 41), 'геноцида рас оператора катерина рост')\n",
      "(5, '1630475598.2283309', 11.22, datetime.datetime(2021, 9, 6, 14, 55, 41), 'да я сша')\n",
      "(5, '1630475598.2283309', 16.95, datetime.datetime(2021, 9, 6, 14, 55, 41), 'айсберг')\n",
      "(5, '1630475598.2283309', 28.65, datetime.datetime(2021, 9, 6, 14, 55, 41), 'назад')\n",
      "(5, '1630475598.2283309', 36.09, datetime.datetime(2021, 9, 6, 14, 55, 41), 'когда вы за')\n",
      "(5, '1630475598.2283309', 52.38, datetime.datetime(2021, 9, 6, 14, 55, 41), 'сейчас какой вопрос вас вас уолтер')\n",
      "(5, '1630475598.2283309', 60.51, datetime.datetime(2021, 9, 6, 14, 55, 41), 'я вас устройство дав да что')\n",
      "(5, '1630475598.2283309', 68.04, datetime.datetime(2021, 9, 6, 14, 55, 41), 'я вас поняла')\n",
      "(5, '1630475674.452529', 15.51, datetime.datetime(2021, 9, 6, 14, 55, 57), 'алло')\n",
      "(5, '1630475674.452529', 18.36, datetime.datetime(2021, 9, 6, 14, 55, 57), 'вот и отлично')\n",
      "(5, '1630475674.452529', 23.19, datetime.datetime(2021, 9, 6, 14, 55, 57), 'алло')\n",
      "(5, '1630475674.452529', 27.54, datetime.datetime(2021, 9, 6, 14, 55, 57), 'все отлично визе')\n",
      "(5, '1630475674.452529', 34.11, datetime.datetime(2021, 9, 6, 14, 55, 57), 'так')\n",
      "(5, '1630475674.452529', 35.55, datetime.datetime(2021, 9, 6, 14, 55, 57), 'и')\n",
      "(5, '1630475674.452529', 39.96, datetime.datetime(2021, 9, 6, 14, 55, 57), 'и теперь я один до двенадцати я буду у вас')\n",
      "(5, '1630475674.452529', 46.89, datetime.datetime(2021, 9, 6, 14, 55, 57), 'все хорошо хорошо хорошо')\n",
      "(5, '1630475745.452603', 14.94, datetime.datetime(2021, 9, 6, 14, 56, 9), 'налогов бродяг мать ремонт швейных машин по подзарядке ваш скажите пожалуйста если подъеду где-то с десяти до часу удобно будет')\n",
      "(5, '1630475745.452603', 33.39, datetime.datetime(2021, 9, 6, 14, 56, 9), 'ну давайте будем пробовать адрес и давайте уточним алтуфьевское шоссе тринадцать корпуса один квартир')\n",
      "(5, '1630475745.452603', 41.73, datetime.datetime(2021, 9, 6, 14, 56, 9), 'сто семь подъезд и этаж')\n",
      "(5, '1630475745.452603', 47.19, datetime.datetime(2021, 9, 6, 14, 56, 9), 'домофон номер квартиры или козла')\n",
      "(5, '1630475745.452603', 57.99, datetime.datetime(2021, 9, 6, 14, 56, 9), 'два девяносто три')\n",
      "(5, '1630475745.452603', 60.18, datetime.datetime(2021, 9, 6, 14, 56, 9), 'все хорошо это дождались')\n",
      "(5, '1630475873.452702', 0.0, datetime.datetime(2021, 9, 6, 14, 56, 28), '')\n",
      "(5, '1630475887.2283434', 10.35, datetime.datetime(2021, 9, 6, 14, 56, 33), 'здравствуйте июня')\n",
      "(5, '1630475887.2283434', 12.81, datetime.datetime(2021, 9, 6, 14, 56, 33), 'подскажите тот самый ремонт холодильников')\n",
      "(5, '1630475887.2283434', 16.62, datetime.datetime(2021, 9, 6, 14, 56, 33), 'не могу как нормальные чеки этот самый дисконтной карте')\n",
      "(5, '1630475887.2283434', 23.01743, datetime.datetime(2021, 9, 6, 14, 56, 33), 'чем все-таки')\n",
      "(5, '1630475887.2283434', 24.81, datetime.datetime(2021, 9, 6, 14, 56, 33), 'да с холодильником он перестал морозить')\n",
      "(5, '1630475887.2283434', 33.6, datetime.datetime(2021, 9, 6, 14, 56, 33), 'стену')\n",
      "(5, '1630475887.2283434', 38.312091, datetime.datetime(2021, 9, 6, 14, 56, 33), 'раствор революционеров')\n",
      "(5, '1630475887.2283434', 49.05, datetime.datetime(2021, 9, 6, 14, 56, 33), 'да я просто хотя больше по ценам как чего')\n",
      "(5, '1630475887.2283434', 58.11, datetime.datetime(2021, 9, 6, 14, 56, 33), 'но на за или заправка фреоном сколько стоит знать')\n",
      "(5, '1630475887.2283434', 67.08, datetime.datetime(2021, 9, 6, 14, 56, 33), 'ну планирование по целям хотя бы азбук')\n",
      "(5, '1630475887.2283434', 83.04, datetime.datetime(2021, 9, 6, 14, 56, 33), 'ну а да вы не спрашивали')\n",
      "(5, '1630475887.2283434', 96.33, datetime.datetime(2021, 9, 6, 14, 56, 33), 'запишите')\n",
      "(5, '1630475887.2283434', 105.15, datetime.datetime(2021, 9, 6, 14, 56, 33), 'мораль морозилки ещё и есть')\n",
      "(5, '1630475887.2283434', 108.84, datetime.datetime(2021, 9, 6, 14, 56, 33), 'у')\n",
      "(5, '1630475887.2283434', 110.43, datetime.datetime(2021, 9, 6, 14, 56, 33), 'да')\n",
      "(5, '1630475887.2283434', 112.194302, datetime.datetime(2021, 9, 6, 14, 56, 33), 'этому')\n",
      "(5, '1630475887.2283434', 114.6, datetime.datetime(2021, 9, 6, 14, 56, 33), 'можно считать его нету')\n",
      "(5, '1630475887.2283434', 119.64, datetime.datetime(2021, 9, 6, 14, 56, 33), 'улица детская двести шестьдесят два')\n",
      "(5, '1630475887.2283434', 123.654126, datetime.datetime(2021, 9, 6, 14, 56, 33), 'улица детская двести шестьдесят два')\n",
      "(5, '1630475887.2283434', 127.86, datetime.datetime(2021, 9, 6, 14, 56, 33), 'не ползли по улицам')\n",
      "(5, '1630475887.2283434', 134.28, datetime.datetime(2021, 9, 6, 14, 56, 33), 'да да да частный сектор это вот рядом в церкви')\n",
      "(5, '1630475887.2283434', 139.92, datetime.datetime(2021, 9, 6, 14, 56, 33), 'у неё внизу частный сектор')\n",
      "(5, '1630475887.2283434', 143.55, datetime.datetime(2021, 9, 6, 14, 56, 33), 'но вот и не высветил')\n",
      "(5, '1630475887.2283434', 149.76, datetime.datetime(2021, 9, 6, 14, 56, 33), 'восемь девятьсот двадцать восемь')\n",
      "(5, '1630475887.2283434', 155.58, datetime.datetime(2021, 9, 6, 14, 56, 33), 'девять ноль семь')\n",
      "(5, '1630475887.2283434', 160.62, datetime.datetime(2021, 9, 6, 14, 56, 33), 'либо ещё один')\n",
      "(5, '1630475887.2283434', 166.26, datetime.datetime(2021, 9, 6, 14, 56, 33), 'на восемь девятьсот двадцать восемь')\n",
      "(5, '1630475887.2283434', 171.6, datetime.datetime(2021, 9, 6, 14, 56, 33), 'двадцать два')\n",
      "(5, '1630475887.2283434', 174.12, datetime.datetime(2021, 9, 6, 14, 56, 33), 'шестьдесят три ночи')\n",
      "(5, '1630475887.2283434', 183.15, datetime.datetime(2021, 9, 6, 14, 56, 33), 'да ну можно как бы по как на городской звони так и модно и этот второй как')\n",
      "(5, '1630475887.2283434', 190.5, datetime.datetime(2021, 9, 6, 14, 56, 33), 'михаил юревич')\n",
      "(5, '1630475887.2283434', 199.2, datetime.datetime(2021, 9, 6, 14, 56, 33), 'скажите')\n",
      "(5, '1630475887.2283434', 201.36, datetime.datetime(2021, 9, 6, 14, 56, 33), 'кидки гарантией написано на этом целовальники этикеток стоит ещё')\n",
      "(5, '1630475887.2283434', 212.46, datetime.datetime(2021, 9, 6, 14, 56, 33), 'ну одна карта семьсот вторая')\n",
      "(5, '1630475887.2283434', 222.72, datetime.datetime(2021, 9, 6, 14, 56, 33), 'арт')\n",
      "(5, '1630475887.2283434', 0.06, datetime.datetime(2021, 9, 6, 14, 57, 40), 'и')\n",
      "(5, '1630475887.2283434', 6.3, datetime.datetime(2021, 9, 6, 14, 57, 40), 'здравствуйте единая служба сервиса оператора юлия')\n",
      "(5, '1630475887.2283434', 22.65, datetime.datetime(2021, 9, 6, 14, 57, 40), 'вас холодильник место семьсот что')\n",
      "(5, '1630475887.2283434', 27.99, datetime.datetime(2021, 9, 6, 14, 57, 40), 'как лазерник называется')\n",
      "(6, '1630476204.2283677', 0.06, datetime.datetime(2021, 9, 6, 14, 55, 29), 'и')\n",
      "(6, '1630476204.2283677', 4.26, datetime.datetime(2021, 9, 6, 14, 55, 29), 'деньгах автосервиса оператор ролика добрый день')\n",
      "(6, '1630476204.2283677', 13.23, datetime.datetime(2021, 9, 6, 14, 55, 29), 'как холодильник называется')\n",
      "(6, '1630476204.2283677', 19.47, datetime.datetime(2021, 9, 6, 14, 55, 29), 'двухкамерный да')\n",
      "(6, '1630476204.2283677', 23.31, datetime.datetime(2021, 9, 6, 14, 55, 29), 'что не карточкам проявляется')\n",
      "(6, '1630476204.2283677', 27.06, datetime.datetime(2021, 9, 6, 14, 55, 29), 'в чем проявляется неисправность')\n",
      "(6, '1630476204.2283677', 41.31, datetime.datetime(2021, 9, 6, 14, 55, 29), 'ну то есть мотор работает не отключается да')\n",
      "(6, '1630476204.2283677', 48.6, datetime.datetime(2021, 9, 6, 14, 55, 29), 'холод есть нет')\n",
      "(6, '1630476204.2283677', 57.9, datetime.datetime(2021, 9, 6, 14, 55, 29), 'в москве или в области живете')\n",
      "(6, '1630476204.2283677', 60.99, datetime.datetime(2021, 9, 6, 14, 55, 29), 'живете в москве или в области')\n",
      "(6, '1630476204.2283677', 64.23, datetime.datetime(2021, 9, 6, 14, 55, 29), 'наш телефон где посмотрели')\n",
      "(6, '1630476204.2283677', 69.48, datetime.datetime(2021, 9, 6, 14, 55, 29), 'магните хвоста')\n",
      "(6, '1630476204.2283677', 73.47, datetime.datetime(2021, 9, 6, 14, 55, 29), 'на магните в правом верхнем углу стоит номер скажите ему пожалуйста')\n",
      "(6, '1630476204.2283677', 82.59, datetime.datetime(2021, 9, 6, 14, 55, 29), 'для мастера нужен телефон ваш и адрес он будет звонить сегодня в течение часа')\n",
      "(6, '1630476204.2283677', 89.04, datetime.datetime(2021, 9, 6, 14, 55, 29), 'как вас зовут телефон ваш')\n",
      "(6, '1630476204.2283677', 93.9, datetime.datetime(2021, 9, 6, 14, 55, 29), 'телефон ваш')\n",
      "(6, '1630476204.2283677', 96.06, datetime.datetime(2021, 9, 6, 14, 55, 29), 'это домашние')\n",
      "(6, '1630476204.2283677', 98.94, datetime.datetime(2021, 9, 6, 14, 55, 29), 'первая цифра какие код города')\n",
      "(6, '1630476204.2283677', 103.92, datetime.datetime(2021, 9, 6, 14, 55, 29), 'дальше')\n",
      "(6, '1630476204.2283677', 113.7, datetime.datetime(2021, 9, 6, 14, 55, 29), 'адрес какой')\n",
      "(6, '1630476204.2283677', 122.34, datetime.datetime(2021, 9, 6, 14, 55, 29), 'да он')\n",
      "(6, '1630476204.2283677', 125.82, datetime.datetime(2021, 9, 6, 14, 55, 29), 'дом какой')\n",
      "(6, '1630476204.2283677', 131.28, datetime.datetime(2021, 9, 6, 14, 55, 29), 'подъезд и этаж')\n",
      "(6, '1630476204.2283677', 136.11, datetime.datetime(2021, 9, 6, 14, 55, 29), 'домофон или кот в подьезде есть')\n",
      "(6, '1630476204.2283677', 141.57, datetime.datetime(2021, 9, 6, 14, 55, 29), 'скажите какой')\n",
      "(6, '1630476204.2283677', 145.62, datetime.datetime(2021, 9, 6, 14, 55, 29), 'гм')\n",
      "(6, '1630476204.2283677', 151.68, datetime.datetime(2021, 9, 6, 14, 55, 29), 'метро войковская да')\n",
      "(6, '1630476204.2283677', 157.32, datetime.datetime(2021, 9, 6, 14, 55, 29), 'виктор ваш телефон четыреста девяносто девять сто пятьдесят четыре пятьдесят двадцать четыре третий михайловский переулок двадцать один квартира восемьдесят')\n",
      "(6, '1630476204.2283677', 167.19, datetime.datetime(2021, 9, 6, 14, 55, 29), 'в течении часа мастер будет вам звонить что')\n",
      "(6, '1630476204.2283677', 174.9, datetime.datetime(2021, 9, 6, 14, 55, 29), 'он вам позвонит вы это все с мастером обсудите мастер будет звонить в течение часа')\n",
      "(6, '1630476204.2283677', 182.88, datetime.datetime(2021, 9, 6, 14, 55, 29), 'ваша заявка сто пятьдесят сто шестьдесят пять ноль пять пятьдесят девять')\n",
      "(6, '1630476204.2283677', 189.57, datetime.datetime(2021, 9, 6, 14, 55, 29), 'пять ноль пять пятьдесят девять')\n",
      "(6, '1630476204.2283677', 199.11, datetime.datetime(2021, 9, 6, 14, 55, 29), 'да')\n",
      "(6, '1630476204.2283677', 202.17, datetime.datetime(2021, 9, 6, 14, 55, 29), 'все ждите звоночек от мастера всего доброго до свидания')\n",
      "(6, '1630476204.2283677', 206.82, datetime.datetime(2021, 9, 6, 14, 55, 29), 'пожалуйста')\n",
      "(6, '1630476317.452933', 0.09, datetime.datetime(2021, 9, 6, 14, 56, 11), 'и')\n",
      "(6, '1630476390.2283757', 30.06, datetime.datetime(2021, 9, 6, 14, 56, 14), 'здравствуйте скажите пожалуйста электрика я могу вызвать у вас')\n",
      "(6, '1630476390.2283757', 37.59, datetime.datetime(2021, 9, 6, 14, 56, 14), 'ну мне нужно посмотреть что можно ли в нашей квартире установить водонагреватель и у меня выключатель в комнате карате')\n",
      "(6, '1630476390.2283757', 46.2, datetime.datetime(2021, 9, 6, 14, 56, 14), 'что-то я боюсь им пользоваться замыкает')\n",
      "(6, '1630476390.2283757', 51.6, datetime.datetime(2021, 9, 6, 14, 56, 14), 'в люстре лампочки лопаются')\n",
      "(6, '1630476390.2283757', 60.75, datetime.datetime(2021, 9, 6, 14, 56, 14), 'у меня тут не один магнетик')\n",
      "(6, '1630476390.2283757', 64.8, datetime.datetime(2021, 9, 6, 14, 56, 14), 'дисконтная карта двести тридцать три двести тридцать и я бы хотела знать сколько вызов стоит и когда он будет')\n",
      "(6, '1630476390.2283757', 85.56, datetime.datetime(2021, 9, 6, 14, 56, 14), 'хорошо я согласна')\n",
      "(6, '1630476390.2283757', 90.51, datetime.datetime(2021, 9, 6, 14, 56, 14), 'в санкт-петербурге красногвардейский район улица тухачевского')\n",
      "(6, '1630476390.2283757', 115.47, datetime.datetime(2021, 9, 6, 14, 56, 14), 'пять')\n",
      "(6, '1630476390.2283757', 118.56, datetime.datetime(2021, 9, 6, 14, 56, 14), 'корпус два')\n",
      "(6, '1630476390.2283757', 120.96, datetime.datetime(2021, 9, 6, 14, 56, 14), 'квартира сорок четыре')\n",
      "(6, '1630476390.2283757', 126.03, datetime.datetime(2021, 9, 6, 14, 56, 14), 'у нас тут метро если только с пересадкой финляндский вокзал или чернышевского дальше с финляндского вокзала сто шестой автобус тридцать седьмой а с чернышевского сто пятой нет сто пятой не доезжает далеко')\n",
      "(6, '1630476390.2283757', 145.41, datetime.datetime(2021, 9, 6, 14, 56, 14), 'а')\n",
      "(6, '1630476390.2283757', 148.62, datetime.datetime(2021, 9, 6, 14, 56, 14), 'восемь девятьсот шестьдесят двести шестьдесят сорок семь девяносто пять')\n",
      "(6, '1630476390.2283757', 159.15, datetime.datetime(2021, 9, 6, 14, 56, 14), 'нина алексеевна')\n",
      "(6, '1630476390.2283757', 172.29, datetime.datetime(2021, 9, 6, 14, 56, 14), 'правильно')\n",
      "(6, '1630476390.2283757', 176.88, datetime.datetime(2021, 9, 6, 14, 56, 14), 'совершенно верно')\n",
      "(6, '1630476390.2283757', 190.47, datetime.datetime(2021, 9, 6, 14, 56, 14), 'хорошо спасибо большое')\n",
      "(6, '1630476390.2283757', 193.44, datetime.datetime(2021, 9, 6, 14, 56, 14), 'всего доброго до свидания')\n",
      "(6, '1630476390.2283757', 0.03, datetime.datetime(2021, 9, 6, 14, 56, 50), 'здравствуйте вас приветствует единая служба сервиса к сожалению сейчас все операторы заняты ваш звонок очень важен для нас пожалуйста дождитесь ответа оператора')\n",
      "(6, '1630476390.2283757', 27.87, datetime.datetime(2021, 9, 6, 14, 56, 50), 'моя служба сервиса елена здравствуйте')\n",
      "(6, '1630476390.2283757', 34.68, datetime.datetime(2021, 9, 6, 14, 56, 50), 'да конечно можете а что у вас случилось')\n",
      "(6, '1630476390.2283757', 54.72, datetime.datetime(2021, 9, 6, 14, 56, 50), 'понятно а скажите пожалуйста у вас наш номер телефона из какой рекламы у вас какое-то магнитик вкладыш')\n",
      "(6, '1630476390.2283757', 74.52, datetime.datetime(2021, 9, 6, 14, 56, 50), 'вылов бесплатно и сам оплачивается уже работа мастера по поводу стоимости можно спросить у мастера если мы с вами сделаем заказ вам в течение часа перезвонит')\n",
      "(6, '1630476390.2283757', 86.88, datetime.datetime(2021, 9, 6, 14, 56, 50), 'а вы находитесь скажите пожалуйста санкт-петербурге или области')\n",
      "(6, '1630476390.2283757', 95.04, datetime.datetime(2021, 9, 6, 14, 56, 50), 'сейчас одну секундочку')\n",
      "(6, '1630476390.2283757', 112.62, datetime.datetime(2021, 9, 6, 14, 56, 50), 'так маршала тухачевского дом')\n",
      "(6, '1630476390.2283757', 117.57, datetime.datetime(2021, 9, 6, 14, 56, 50), 'пять')\n",
      "(6, '1630476390.2283757', 123.24, datetime.datetime(2021, 9, 6, 14, 56, 50), 'сорок четыре а какое метро у вас ближайше')\n",
      "(6, '1630476390.2283757', 142.23, datetime.datetime(2021, 9, 6, 14, 56, 50), 'да мне просто для ориентира митт ромни пока проезд ка телефон вас скажите пожалуйста')\n",
      "(6, '1630476390.2283757', 150.99, datetime.datetime(2021, 9, 6, 14, 56, 50), 'так')\n",
      "(6, '1630476390.2283757', 156.57, datetime.datetime(2021, 9, 6, 14, 56, 50), 'сорок семь девяносто пять а зовут вас')\n",
      "(6, '1630476390.2283757', 165.0, datetime.datetime(2021, 9, 6, 14, 56, 50), 'так нина алексеевна давайте проверим девятьсот шестьдесят двести шестьдесят сорок семь девяносто пять правильно')\n",
      "(6, '1630476390.2283757', 173.22, datetime.datetime(2021, 9, 6, 14, 56, 50), 'маршала тухачевского дом пять корпус два квартир сорок четыре')\n",
      "(6, '1630476390.2283757', 178.38, datetime.datetime(2021, 9, 6, 14, 56, 50), 'все тогда в течение часа ожидайте пожалуйста звонок мастера у него уточняйте что вы хотели если договоритесь он по этой же заявке к вам и подъедет у вас будет заявочку четыреста двадцать восемь восемьсот семьдесят один')\n",
      "(6, '1630476390.2283757', 192.457896, datetime.datetime(2021, 9, 6, 14, 56, 50), 'всего доброго ожидайте пожалуйста')\n",
      "(6, '1630476495.2283811', 7.26, datetime.datetime(2021, 9, 6, 14, 57, 34), 'о сути девушка подскажите пожалуйста а вот ремонт например бачка от унитаза вот делаете вы')\n",
      "(6, '1630476495.2283811', 15.9, datetime.datetime(2021, 9, 6, 14, 57, 34), 'бри')\n",
      "(6, '1630476495.2283811', 29.91, datetime.datetime(2021, 9, 6, 14, 57, 34), 'а то есть он посмотрит а что скажет да как чего это вот а это у меня одинцово это же что сего тоже может сегодня')\n",
      "(6, '1630476495.2283811', 42.48, datetime.datetime(2021, 9, 6, 14, 57, 34), 'ну да запишите потому что я сегодня отпросилась как раз')\n",
      "(6, '1630476495.2283811', 49.35, datetime.datetime(2021, 9, 6, 14, 57, 34), 'а вот и бросают в эти ящики магний тут магнит карт')\n",
      "(7, '1630476209.2283679', 0.0, datetime.datetime(2021, 9, 6, 14, 55, 16), '')\n",
      "(7, '1630476209.2283679', 0.0, datetime.datetime(2021, 9, 6, 14, 55, 16), '')\n",
      "(7, '1630476209.452890', 7.56, datetime.datetime(2021, 9, 6, 14, 55, 16), 'добрый день это мастер по поводу холодильника')\n",
      "(7, '1630476209.452890', 11.7, datetime.datetime(2021, 9, 6, 14, 55, 16), 'что случилось рассказываете')\n",
      "(7, '1630476209.452890', 18.48, datetime.datetime(2021, 9, 6, 14, 55, 16), 'так как давно приобретали')\n",
      "(7, '1630476209.452890', 25.35, datetime.datetime(2021, 9, 6, 14, 55, 16), 'когда оно приобретали')\n",
      "(7, '1630476209.452890', 37.17, datetime.datetime(2021, 9, 6, 14, 55, 16), 'ага')\n",
      "(7, '1630476209.452890', 47.4, datetime.datetime(2021, 9, 6, 14, 55, 16), 'ну прям относительно недавно да')\n",
      "(7, '1630476209.452890', 57.27, datetime.datetime(2021, 9, 6, 14, 55, 16), 'хорошо ладненько так но в любом случае нужно подъехать дай мне посмотреть будет и все сделаем')\n",
      "(7, '1630476209.452890', 64.83, datetime.datetime(2021, 9, 6, 14, 55, 16), 'так смотрите подъехать смогу')\n",
      "(7, '1630476209.452890', 68.97, datetime.datetime(2021, 9, 6, 14, 55, 16), 'либо сегодня если сегодня успеет ты думаешь что завтра точно смогу у вас быть от предварительно позвонить')\n",
      "(7, '1630476209.452890', 78.21, datetime.datetime(2021, 9, 6, 14, 55, 16), 'но если у меня получится то обязательно сегодня приеду')\n",
      "(7, '1630476209.452890', 85.08, datetime.datetime(2021, 9, 6, 14, 55, 16), 'а я понял')\n",
      "(7, '1630476209.452890', 87.63, datetime.datetime(2021, 9, 6, 14, 55, 16), 'будем стараться тогда')\n",
      "(7, '1630476209.452890', 95.19, datetime.datetime(2021, 9, 6, 14, 55, 16), 'ну я приеду посмотрю')\n",
      "(7, '1630476209.452890', 98.34, datetime.datetime(2021, 9, 6, 14, 55, 16), 'за')\n",
      "(7, '1630476209.452890', 100.084622, datetime.datetime(2021, 9, 6, 14, 55, 16), 'там видно будет')\n",
      "(7, '1630476209.452890', 105.03, datetime.datetime(2021, 9, 6, 14, 55, 16), 'я понял понял да если но я думаю что сегодня успею')\n",
      "(7, '1630476209.452890', 109.32, datetime.datetime(2021, 9, 6, 14, 55, 16), 'это есть никаких форс-мажоров не будет то сегодня нет')\n",
      "(7, '1630476209.452890', 120.93, datetime.datetime(2021, 9, 6, 14, 55, 16), 'а')\n",
      "(7, '1630476209.452890', 123.54, datetime.datetime(2021, 9, 6, 14, 55, 16), 'я понял понял хорошо тогда предварительно вам позвоню')\n",
      "(7, '1630476209.452890', 128.28, datetime.datetime(2021, 9, 6, 14, 55, 16), 'вот перед выездом и уже тогда видно будет')\n",
      "(7, '1630476209.452890', 133.98, datetime.datetime(2021, 9, 6, 14, 55, 16), 'тогда ещё не заставляй что даст тыча')\n",
      "(7, '1630476341.452966', 0.0, datetime.datetime(2021, 9, 6, 14, 55, 46), '')\n",
      "(7, '1630476400.2283760', 16.41, datetime.datetime(2021, 9, 6, 14, 55, 50), 'здравствуйте мне только что звонил мастер я не смогла ответить я на линейке первого сентября можно сказать чтобы передать ему чтобы он перезвонил или он сам перезвонит ещё раз')\n",
      "(7, '1630476400.2283760', 29.25, datetime.datetime(2021, 9, 6, 14, 55, 50), 'ага ну ладно хорошо')\n",
      "(7, '1630476400.2283760', 0.03, datetime.datetime(2021, 9, 6, 14, 55, 58), 'здравствуйте вас приветствует единая служба сервиса к сожалению сейчас все операторы заняты ваш звонок очень важен для нас пожалуйста дождитесь ответа оператора')\n",
      "(7, '1630476400.2283760', 14.37, datetime.datetime(2021, 9, 6, 14, 55, 58), 'сервис оператор екатерина жест')\n",
      "(7, '1630476400.2283760', 27.12, datetime.datetime(2021, 9, 6, 14, 55, 58), 'перезвони сам заткнись')\n",
      "(7, '1630476524.2283827', 8.13, datetime.datetime(2021, 9, 6, 14, 56, 7), 'теперь')\n",
      "(7, '1630476524.2283827', 12.69, datetime.datetime(2021, 9, 6, 14, 56, 7), 'ой алло здравствуйте а мне наверное мастерс вашего номера звонил не звонил что я так с ними свяжусь да')\n",
      "(7, '1630476524.2283827', 21.33, datetime.datetime(2021, 9, 6, 14, 56, 7), 'мой номер телефона восемь девятьсот девять шесть восемь три сорок пять тридцать девять')\n",
      "(7, '1630476524.2283827', 33.66, datetime.datetime(2021, 9, 6, 14, 56, 7), 'да да да да да')\n",
      "(7, '1630476524.2283827', 39.42, datetime.datetime(2021, 9, 6, 14, 56, 7), 'да хорошо ты что-то не услышала я могу спасибо большое')\n",
      "(7, '1630476524.2283827', 0.06, datetime.datetime(2021, 9, 6, 14, 56, 17), 'и')\n",
      "(7, '1630476524.2283827', 9.6, datetime.datetime(2021, 9, 6, 14, 56, 17), 'единая служба сервиса оператор елена здравствуйте')\n",
      "(7, '1630476524.2283827', 18.459651, datetime.datetime(2021, 9, 6, 14, 56, 17), 'номер заявки или номер телефона скажите пожалуйста')\n",
      "(7, '1630476524.2283827', 32.28, datetime.datetime(2021, 9, 6, 14, 56, 17), 'так бескудниковский бульвар тридцать два')\n",
      "(7, '1630476524.2283827', 34.56, datetime.datetime(2021, 9, 6, 14, 56, 17), 'шесть швейная машина нас')\n",
      "(7, '1630476524.2283827', 37.11, datetime.datetime(2021, 9, 6, 14, 56, 17), 'сейчас мы напишем чтобы он вам перезвонил')\n",
      "(7, '1630476554.453043', 31.35, datetime.datetime(2021, 9, 6, 14, 56, 27), 'и')\n",
      "(7, '1630476554.453043', 40.5, datetime.datetime(2021, 9, 6, 14, 56, 27), 'смерть')\n",
      "(7, '1630476554.453043', 47.76, datetime.datetime(2021, 9, 6, 14, 56, 27), 'но')\n",
      "(7, '1630476653.453089', 0.50371, datetime.datetime(2021, 9, 6, 14, 56, 41), 'и и и')\n",
      "(7, '1630476680.2283909', 8.04, datetime.datetime(2021, 9, 6, 14, 56, 48), 'скажите пожалуйста а вот на сегодня можно вызвать мастера по плитам')\n",
      "(7, '1630476680.2283909', 15.78, datetime.datetime(2021, 9, 6, 14, 56, 48), 'плита горения')\n",
      "(7, '1630476680.2283909', 20.07, datetime.datetime(2021, 9, 6, 14, 56, 48), 'она комбинированная')\n",
      "(7, '1630476680.2283909', 30.24, datetime.datetime(2021, 9, 6, 14, 56, 48), 'смотри значит комфорт то есть я включаю газ идёт то есть если спичкой зажигаю однако порта зажигается то есть а вот сама по себе с электроподжигом не идёт не зажигает да да вот и вы знаете вот когда я открываю духовку это буквально случилось')\n",
      "(7, '1630476680.2283909', 48.0, datetime.datetime(2021, 9, 6, 14, 56, 48), 'два дня назад там что-то хрустнуло и вот когда духовку дверку открываешь женщина фиксировалась да я приобрёл чуть-чуть она меня держится а сейчас он не полностью отваливается будем говорить так')\n",
      "(7, '1630476680.2283909', 60.15, datetime.datetime(2021, 9, 6, 14, 56, 48), 'то есть именно какой-то механизм там и за пружинками что там сломалась я не понимаю в этом деле')\n",
      "(7, '1630476680.2283909', 70.02, datetime.datetime(2021, 9, 6, 14, 56, 48), 'да да да да')\n",
      "(7, '1630476680.2283909', 72.66, datetime.datetime(2021, 9, 6, 14, 56, 48), 'петербург')\n",
      "(7, '1630476680.2283909', 75.81, datetime.datetime(2021, 9, 6, 14, 56, 48), 'да у нас он давно уже из рекламы и все тут ваши как тоже обращаюсь к вам')\n",
      "(7, '1630476680.2283909', 87.48, datetime.datetime(2021, 9, 6, 14, 56, 48), 'скажите пожалуйста а можно после обеда')\n",
      "(7, '1630476680.2283909', 90.66, datetime.datetime(2021, 9, 6, 14, 56, 48), 'и этой')\n",
      "(7, '1630476680.2283909', 95.13, datetime.datetime(2021, 9, 6, 14, 56, 48), 'хорошо')\n",
      "(7, '1630476680.2283909', 97.26, datetime.datetime(2021, 9, 6, 14, 56, 48), 'татьяна')\n",
      "(7, '1630476680.2283909', 103.47, datetime.datetime(2021, 9, 6, 14, 56, 48), 'девятьсот двадцать один')\n",
      "(7, '1630476680.2283909', 106.92, datetime.datetime(2021, 9, 6, 14, 56, 48), 'триста сорок')\n",
      "(7, '1630476680.2283909', 110.04, datetime.datetime(2021, 9, 6, 14, 56, 48), 'семь пять')\n",
      "(7, '1630476680.2283909', 112.71, datetime.datetime(2021, 9, 6, 14, 56, 48), 'восемь четыре')\n",
      "(7, '1630476680.2283909', 116.16, datetime.datetime(2021, 9, 6, 14, 56, 48), 'светлана с сто семь')\n",
      "(7, '1630476680.2283909', 120.54, datetime.datetime(2021, 9, 6, 14, 56, 48), 'сто сорок три')\n",
      "(7, '1630476680.2283909', 128.25, datetime.datetime(2021, 9, 6, 14, 56, 48), 'нет они без корпуса')\n",
      "(7, '1630476680.2283909', 132.9, datetime.datetime(2021, 9, 6, 14, 56, 48), 'первый этаж четвёртый поди с любого конца')\n",
      "(7, '1630476680.2283909', 140.97, datetime.datetime(2021, 9, 6, 14, 56, 48), 'в домофон')\n",
      "(7, '1630476680.2283909', 144.72, datetime.datetime(2021, 9, 6, 14, 56, 48), 'гражданский')\n",
      "(7, '1630476680.2283909', 157.23, datetime.datetime(2021, 9, 6, 14, 56, 48), 'да')\n",
      "(7, '1630476680.2283909', 161.19, datetime.datetime(2021, 9, 6, 14, 56, 48), 'сказать по поводу оплаты')\n",
      "(7, '1630476680.2283909', 163.23, datetime.datetime(2021, 9, 6, 14, 56, 48), 'что у меня')\n",
      "(7, '1630476680.2283909', 167.22, datetime.datetime(2021, 9, 6, 14, 56, 48), 'вызов сколько стоит')\n",
      "(7, '1630476680.2283909', 179.85, datetime.datetime(2021, 9, 6, 14, 56, 48), 'в течении двух часов позвонит')\n",
      "(7, '1630476680.2283909', 182.55, datetime.datetime(2021, 9, 6, 14, 56, 48), 'спасибо большое')\n",
      "(7, '1630476680.2283909', 187.02, datetime.datetime(2021, 9, 6, 14, 56, 48), 'сейчас секундочку запишу четыреста двадцать восемь')\n",
      "(7, '1630476680.2283909', 192.75, datetime.datetime(2021, 9, 6, 14, 56, 48), 'семь семь три все записал')\n",
      "(7, '1630476680.2283909', 0.06, datetime.datetime(2021, 9, 6, 14, 57, 37), 'и')\n",
      "(7, '1630476680.2283909', 5.13, datetime.datetime(2021, 9, 6, 14, 57, 37), 'иди нашего сервиса оператор роль готов')\n",
      "(7, '1630476680.2283909', 13.47, datetime.datetime(2021, 9, 6, 14, 57, 37), 'можно да плита как называется')\n",
      "(7, '1630476680.2283909', 18.84, datetime.datetime(2021, 9, 6, 14, 57, 37), 'электрическая газовая')\n",
      "(7, '1630476680.2283909', 28.41, datetime.datetime(2021, 9, 6, 14, 57, 37), 'в чем неисправность')\n",
      "(7, '1630476680.2283909', 40.71, datetime.datetime(2021, 9, 6, 14, 57, 37), 'не работает электроподжиг')\n",
      "(8, '1630475654.2283318', 23.19, datetime.datetime(2021, 9, 6, 14, 55, 11), 'здравствуйте')\n",
      "(8, '1630475654.2283318', 25.53, datetime.datetime(2021, 9, 6, 14, 55, 11), 'эта женщина я только недавно звонил заявку на улице борисовские пропадали труба')\n",
      "(8, '1630475654.2283318', 32.01, datetime.datetime(2021, 9, 6, 14, 55, 11), 'заявка на швейную машину ремонт')\n",
      "(8, '1630475654.2283318', 35.043153, datetime.datetime(2021, 9, 6, 14, 55, 11), 'я попрошу сейчас отснять вы знаете мне срочно позвонили в поликлинику прийти я не знаем во сколько я перезвоню пока смерть')\n",
      "(8, '1630475654.2283318', 47.49, datetime.datetime(2021, 9, 6, 14, 55, 11), 'вы знаете я перезвоню мой хорошее потому что дело с врачами я не знаю что они не скажут ладно')\n",
      "(8, '1630475654.2283318', 56.7, datetime.datetime(2021, 9, 6, 14, 55, 11), 'но я перезвоню я горе снимите пока вы снимите я перезвоню')\n",
      "(8, '1630475654.2283318', 0.03, datetime.datetime(2021, 9, 6, 14, 55, 23), 'здравствуйте вас приветствует единая служба сервиса к сожалению сейчас все операторы заняты ваш звонок очень важен для нас пожалуйста дождитесь ответа оператора')\n",
      "(8, '1630475654.2283318', 19.5, datetime.datetime(2021, 9, 6, 14, 55, 23), 'здравствуйте есть свой сервис оператор ольга слушаю вас')\n",
      "(8, '1630475654.2283318', 42.93, datetime.datetime(2021, 9, 6, 14, 55, 23), 'но назад не хотите перенести заявочку назавтра')\n",
      "(8, '1630475654.2283318', 53.19, datetime.datetime(2021, 9, 6, 14, 55, 23), 'то есть вы отказываетесь переносить не хотеть-то')\n",
      "(8, '1630475654.2283318', 58.35, datetime.datetime(2021, 9, 6, 14, 55, 23), 'хорошо хорошо хорошо')\n",
      "(8, '1630475654.2283318', 60.99, datetime.datetime(2021, 9, 6, 14, 55, 23), 'хорошо хорошо')\n",
      "(8, '1630475684.452534', 0.06, datetime.datetime(2021, 9, 6, 14, 55, 36), 'и')\n",
      "(8, '1630475684.452534', 12.87, datetime.datetime(2021, 9, 6, 14, 55, 36), 'а алло')\n",
      "(8, '1630475684.452534', 15.18, datetime.datetime(2021, 9, 6, 14, 55, 36), 'ам')\n",
      "(8, '1630475684.452534', 16.92, datetime.datetime(2021, 9, 6, 14, 55, 36), 'да')\n",
      "(8, '1630475684.452534', 21.09, datetime.datetime(2021, 9, 6, 14, 55, 36), 'да конечно я буду ждать третьей')\n",
      "(8, '1630475758.452622', 0.09, datetime.datetime(2021, 9, 6, 14, 55, 40), 'и')\n",
      "(8, '1630475758.452622', 18.51, datetime.datetime(2021, 9, 6, 14, 55, 40), 'и')\n",
      "(8, '1630475758.452622', 24.24, datetime.datetime(2021, 9, 6, 14, 55, 40), 'и')\n",
      "(8, '1630475758.452622', 30.24, datetime.datetime(2021, 9, 6, 14, 55, 40), 'и')\n",
      "(8, '1630475758.452622', 33.99, datetime.datetime(2021, 9, 6, 14, 55, 40), 'да сквоша')\n",
      "(8, '1630475758.452622', 38.91, datetime.datetime(2021, 9, 6, 14, 55, 40), 'да здравствуйте')\n",
      "(8, '1630475758.452622', 41.043274, datetime.datetime(2021, 9, 6, 14, 55, 40), 'я рад что та вот позвонила')\n",
      "(8, '1630475758.452622', 44.79, datetime.datetime(2021, 9, 6, 14, 55, 40), 'мой хороший скажите вот сразу стоимость я пенсионер вот у меня сейчас скажу швейная машина чайная мы знаете да вот значит вставляю вы знаете ставила когда вот неделю назад это шила все нормально было')\n",
      "(8, '1630475758.452622', 62.01, datetime.datetime(2021, 9, 6, 14, 55, 40), 'что-то достала хотела пошить вчера и вот челнок вытащу вот где челнок вот знаете саш только вставляю а она не вставляет чего-то ограничителя колесо кручу и вот знаете ограничители то есть дальше')\n",
      "(8, '1630475758.452622', 78.99, datetime.datetime(2021, 9, 6, 14, 55, 40), 'не крутится колесо поняли да которое где челнок там ограничителя есть по бокам')\n",
      "(8, '1630475758.452622', 86.79, datetime.datetime(2021, 9, 6, 14, 55, 40), 'вот вытащил думаю может начать не и неплотно туда вставила нет опять также вот так вот')\n",
      "(8, '1630475758.452622', 98.1, datetime.datetime(2021, 9, 6, 14, 55, 40), 'наверное из-за того и шпулька не наматывается я да наверное я просто швея мотористка на моторе двадцать пять лет на фабрике отработала немножко то понимаю но дальше я боялась там что-либо делать')\n",
      "(8, '1630475758.452622', 115.59, datetime.datetime(2021, 9, 6, 14, 55, 40), 'ну вот ну вот скажите вот что я вам сказала')\n",
      "(8, '1630475758.452622', 121.77, datetime.datetime(2021, 9, 6, 14, 55, 40), 'вы сможете сделать')\n",
      "(8, '1630475758.452622', 126.0, datetime.datetime(2021, 9, 6, 14, 55, 40), 'а какова стоимость приблизительно')\n",
      "(8, '1630475758.452622', 135.15, datetime.datetime(2021, 9, 6, 14, 55, 40), 'ну вот и если вот смотрите вот вот вот а если я и я просто тест на отец с вами за полторы под ездите')\n",
      "(8, '1630475758.452622', 146.76, datetime.datetime(2021, 9, 6, 14, 55, 40), 'так не работаете')\n",
      "(8, '1630475758.452622', 154.98, datetime.datetime(2021, 9, 6, 14, 55, 40), 'скажите ваш да вот это домашний телефон не можете ли мобильной')\n",
      "(8, '1630475758.452622', 164.37, datetime.datetime(2021, 9, 6, 14, 55, 40), 'ну призвана приблизительную стоимость какова')\n",
      "(8, '1630475758.452622', 171.69, datetime.datetime(2021, 9, 6, 14, 55, 40), 'ну тысяч я просто вот сейчас вот и врачу туда-сюда а если я после заявку перенесу позвоню это возможно')\n",
      "(8, '1630475758.452622', 183.33, datetime.datetime(2021, 9, 6, 14, 55, 40), 'во сколько')\n",
      "(8, '1630475758.452622', 188.1, datetime.datetime(2021, 9, 6, 14, 55, 40), 'но на мобильный да')\n",
      "(8, '1630475758.452622', 191.88, datetime.datetime(2021, 9, 6, 14, 55, 40), 'да на модель')\n",
      "(8, '1630475758.452622', 194.25, datetime.datetime(2021, 9, 6, 14, 55, 40), 'ну')\n",
      "(8, '1630475758.452622', 197.01, datetime.datetime(2021, 9, 6, 14, 55, 40), 'ну вот мобильная я говорю на мобильном')\n",
      "(8, '1630475758.452622', 201.09, datetime.datetime(2021, 9, 6, 14, 55, 40), 'вот во сколько вы примерно подходите')\n",
      "(8, '1630475758.452622', 206.239438, datetime.datetime(2021, 9, 6, 14, 55, 40), 'девять')\n",
      "(8, '1630475758.452622', 208.35, datetime.datetime(2021, 9, 6, 14, 55, 40), 'хорошо')\n",
      "(8, '1630475758.452622', 209.67, datetime.datetime(2021, 9, 6, 14, 55, 40), 'ноль')\n",
      "(8, '1630475758.452622', 212.16, datetime.datetime(2021, 9, 6, 14, 55, 40), 'позову нет')\n",
      "(8, '1630475758.452622', 213.75, datetime.datetime(2021, 9, 6, 14, 55, 40), 'все спасибо')\n",
      "(8, '1630475923.452719', 0.09, datetime.datetime(2021, 9, 6, 14, 56, 43), 'и')\n",
      "(8, '1630475923.452719', 23.94, datetime.datetime(2021, 9, 6, 14, 56, 43), 'и')\n",
      "(8, '1630475923.452719', 29.94, datetime.datetime(2021, 9, 6, 14, 56, 43), 'и')\n",
      "(8, '1630475923.452719', 35.94, datetime.datetime(2021, 9, 6, 14, 56, 43), 'и')\n",
      "(8, '1630475946.2283444', 0.0, datetime.datetime(2021, 9, 6, 14, 56, 51), '')\n",
      "(8, '1630475946.2283444', 0.0, datetime.datetime(2021, 9, 6, 14, 56, 51), '')\n",
      "(8, '1630476030.452787', 0.06, datetime.datetime(2021, 9, 6, 14, 56, 51), 'и')\n",
      "(8, '1630476030.452787', 18.51, datetime.datetime(2021, 9, 6, 14, 56, 51), 'и')\n",
      "(8, '1630476030.452787', 24.78, datetime.datetime(2021, 9, 6, 14, 56, 51), 'и')\n",
      "(8, '1630476030.452787', 30.96, datetime.datetime(2021, 9, 6, 14, 56, 51), 'и')\n",
      "(8, '1630476030.452787', 36.96, datetime.datetime(2021, 9, 6, 14, 56, 51), 'и')\n",
      "(8, '1630476030.452787', 42.96, datetime.datetime(2021, 9, 6, 14, 56, 51), 'и')\n",
      "(8, '1630476030.452787', 49.47, datetime.datetime(2021, 9, 6, 14, 56, 51), 'и')\n",
      "(8, '1630476030.452787', 55.08, datetime.datetime(2021, 9, 6, 14, 56, 51), 'и')\n",
      "(8, '1630476030.452787', 61.05, datetime.datetime(2021, 9, 6, 14, 56, 51), 'э э')\n",
      "(8, '1630476030.452787', 69.21, datetime.datetime(2021, 9, 6, 14, 56, 51), 'э')\n",
      "(8, '1630476030.452787', 75.445503, datetime.datetime(2021, 9, 6, 14, 56, 51), 'и')\n",
      "(8, '1630476030.452787', 81.36, datetime.datetime(2021, 9, 6, 14, 56, 51), 'и')\n",
      "(8, '1630476030.452787', 82.56, datetime.datetime(2021, 9, 6, 14, 56, 51), 'э')\n",
      "(8, '1630476030.452787', 88.08, datetime.datetime(2021, 9, 6, 14, 56, 51), 'э')\n",
      "(8, '1630476030.452787', 93.51, datetime.datetime(2021, 9, 6, 14, 56, 51), 'и')\n",
      "(8, '1630476039.2283508', 23.998991, datetime.datetime(2021, 9, 6, 14, 57, 10), 'не здравствуйте')\n",
      "(8, '1630476039.2283508', 25.92, datetime.datetime(2021, 9, 6, 14, 57, 10), 'мне нужен электрик')\n",
      "(8, '1630476039.2283508', 33.51, datetime.datetime(2021, 9, 6, 14, 57, 10), 'маршал замкнул розетку две розетки дней работ')\n",
      "(8, '1630476039.2283508', 52.83, datetime.datetime(2021, 9, 6, 14, 57, 10), 'в петербурге')\n",
      "(8, '1630476039.2283508', 57.9, datetime.datetime(2021, 9, 6, 14, 57, 10), 'он магнетик')\n",
      "(8, '1630476039.2283508', 64.89, datetime.datetime(2021, 9, 6, 14, 57, 10), 'он')\n",
      "(8, '1630476039.2283508', 71.55, datetime.datetime(2021, 9, 6, 14, 57, 10), 'а')\n",
      "(8, '1630476039.2283508', 73.08, datetime.datetime(2021, 9, 6, 14, 57, 10), 'тридцать шесть')\n",
      "(8, '1630476039.2283508', 81.87, datetime.datetime(2021, 9, 6, 14, 57, 10), 'маршала захарова одинадцать')\n",
      "(8, '1630476039.2283508', 95.22, datetime.datetime(2021, 9, 6, 14, 57, 10), 'квартира сто двадцать четвёртый этаж')\n",
      "(8, '1630476039.2283508', 100.74, datetime.datetime(2021, 9, 6, 14, 57, 10), 'четвёртый')\n",
      "(8, '1630476039.2283508', 103.71, datetime.datetime(2021, 9, 6, 14, 57, 10), 'да да')\n",
      "(8, '1630476039.2283508', 106.17, datetime.datetime(2021, 9, 6, 14, 57, 10), 'да да да')\n",
      "(8, '1630476039.2283508', 108.72, datetime.datetime(2021, 9, 6, 14, 57, 10), 'да квартира сто двадцать')\n",
      "(8, '1630476039.2283508', 113.37, datetime.datetime(2021, 9, 6, 14, 57, 10), 'ветеранов')\n",
      "(8, '1630476039.2283508', 116.46, datetime.datetime(2021, 9, 6, 14, 57, 10), 'ветеран лень идти')\n",
      "(8, '1630476039.2283508', 118.56, datetime.datetime(2021, 9, 6, 14, 57, 10), 'ленинские вечера')\n",
      "(8, '1630476039.2283508', 122.73, datetime.datetime(2021, 9, 6, 14, 57, 10), 'восемь девятьсот восемнадцать')\n",
      "(8, '1630476039.2283508', 126.54, datetime.datetime(2021, 9, 6, 14, 57, 10), 'семьсот лет сестры')\n",
      "(8, '1630476039.2283508', 129.12, datetime.datetime(2021, 9, 6, 14, 57, 10), 'ноль шесть шестьдесят девять')\n",
      "(8, '1630476039.2283508', 135.39, datetime.datetime(2021, 9, 6, 14, 57, 10), 'анна')\n",
      "(8, '1630476039.2283508', 146.49, datetime.datetime(2021, 9, 6, 14, 57, 10), 'иди')\n",
      "(8, '1630476039.2283508', 154.35, datetime.datetime(2021, 9, 6, 14, 57, 10), 'да да да все верно')\n",
      "(9, '1630476696.2283924', 0.0, datetime.datetime(2021, 9, 6, 14, 55, 3), '')\n",
      "(9, '1630476696.2283924', 0.06, datetime.datetime(2021, 9, 6, 14, 55, 6), 'и')\n",
      "(9, '1630476774.453179', 12.15, datetime.datetime(2021, 9, 6, 14, 55, 8), 'алло добрый день единая служба сервиса мастер александр')\n",
      "(9, '1630476774.453179', 16.14524, datetime.datetime(2021, 9, 6, 14, 55, 8), 'меня то что за ёлочка поступила скажите что вам необходимо сделать')\n",
      "(9, '1630476774.453179', 32.4, datetime.datetime(2021, 9, 6, 14, 55, 8), 'так я вас понял сейчас единственно своё временем разберусь')\n",
      "(9, '1630476774.453179', 39.18, datetime.datetime(2021, 9, 6, 14, 55, 8), 'так так так так так')\n",
      "(9, '1630476774.453179', 43.74, datetime.datetime(2021, 9, 6, 14, 55, 8), 'смотрите к сожалению на')\n",
      "(9, '1630476774.453179', 52.17, datetime.datetime(2021, 9, 6, 14, 55, 8), 'верно')\n",
      "(9, '1630476774.453179', 54.72, datetime.datetime(2021, 9, 6, 14, 55, 8), 'на третье число только смогу к вам подъехать посмотреть все смесители')\n",
      "(9, '1630476774.453179', 59.61, datetime.datetime(2021, 9, 6, 14, 55, 8), 'сколько будет')\n",
      "(9, '1630476774.453179', 61.89, datetime.datetime(2021, 9, 6, 14, 55, 8), 'да да да')\n",
      "(9, '1630476774.453179', 67.77, datetime.datetime(2021, 9, 6, 14, 55, 8), 'так что обманщик')\n",
      "(9, '1630476774.453179', 69.6, datetime.datetime(2021, 9, 6, 14, 55, 8), 'бомбочку')\n",
      "(9, '1630476774.453179', 71.79, datetime.datetime(2021, 9, 6, 14, 55, 8), 'но')\n",
      "(9, '1630476774.453179', 86.19, datetime.datetime(2021, 9, 6, 14, 55, 8), 'так же не только вот семнадцатая девятнадцатая числом семнадцатого можем за демонтаж произвести заливку сделать и пускай девятнадцатого как раз')\n",
      "(9, '1630476774.453179', 99.39, datetime.datetime(2021, 9, 6, 14, 55, 8), 'девятнадцатого уже завершились')\n",
      "(9, '1630476774.453179', 114.0, datetime.datetime(2021, 9, 6, 14, 55, 8), 'ну смотрите')\n",
      "(9, '1630476774.453179', 117.0, datetime.datetime(2021, 9, 6, 14, 55, 8), 'демонтажные работы тому порядка')\n",
      "(9, '1630476774.453179', 120.0, datetime.datetime(2021, 9, 6, 14, 55, 8), 'трёхсот рублей квадратный метр')\n",
      "(9, '1630476774.453179', 122.79, datetime.datetime(2021, 9, 6, 14, 55, 8), 'заливка')\n",
      "(9, '1630476774.453179', 125.52, datetime.datetime(2021, 9, 6, 14, 55, 8), 'это семьсот пятьдесят а если не ошибаюсь квадратный метр самовыравнивающиеся смеси ламинат чека восемьсот пятьдесят рублей квадратный метр')\n",
      "(9, '1630476774.453179', 135.84, datetime.datetime(2021, 9, 6, 14, 55, 8), 'ну и плюс плюс плинтуса триста пятьдесят рублей погонный метр')\n",
      "(9, '1630476774.453179', 155.88, datetime.datetime(2021, 9, 6, 14, 55, 8), 'так двадцатого секундочку')\n",
      "(9, '1630476774.453179', 160.65, datetime.datetime(2021, 9, 6, 14, 55, 8), 'одну секунду смотрел')\n",
      "(9, '1630476774.453179', 168.54, datetime.datetime(2021, 9, 6, 14, 55, 8), 'нет к сожалению смотрите не к сожалению двадцатая в первую')\n",
      "(9, '1630476774.453179', 174.6, datetime.datetime(2021, 9, 6, 14, 55, 8), 'это заняты у меня второе двадцать третье тут')\n",
      "(9, '1630476774.453179', 181.83, datetime.datetime(2021, 9, 6, 14, 55, 8), 'сложнее уже там в заказнике тоже записано скорее всего отпадут но не уверен поэтому не могу вам такого гарантировать')\n",
      "(9, '1630476774.453179', 193.62, datetime.datetime(2021, 9, 6, 14, 55, 8), 'вот семнадцатая девятнадцатая у меня гарантия они свободны')\n",
      "(9, '1630476774.453179', 202.38, datetime.datetime(2021, 9, 6, 14, 55, 8), 'тогда я смогу вам только завтра ответить')\n",
      "(9, '1630476774.453179', 205.98, datetime.datetime(2021, 9, 6, 14, 55, 8), 'позвоните девочки на эти даты')\n",
      "(9, '1630476774.453179', 209.67, datetime.datetime(2021, 9, 6, 14, 55, 8), 'будут они работать не будут и вам монжуа не сообщу')\n",
      "(9, '1630476774.453179', 215.19, datetime.datetime(2021, 9, 6, 14, 55, 8), 'хорошо')\n",
      "(9, '1630476774.453179', 216.99, datetime.datetime(2021, 9, 6, 14, 55, 8), 'все тогда все добро')\n",
      "(9, '1630476774.453179', 221.04, datetime.datetime(2021, 9, 6, 14, 55, 8), 'нет я не один мастер но раз мы зовём поступила значит посчитали что я посвободнее')\n",
      "(9, '1630476774.453179', 227.46, datetime.datetime(2021, 9, 6, 14, 55, 8), 'бригадир распределяет тоже не просто так')\n",
      "(9, '1630476774.453179', 237.3, datetime.datetime(2021, 9, 6, 14, 55, 8), 'хорошо')\n",
      "(9, '1630476774.453179', 238.59, datetime.datetime(2021, 9, 6, 14, 55, 8), 'сегодня вечером или завтра я вам звоню')\n",
      "(9, '1630476774.453179', 242.58, datetime.datetime(2021, 9, 6, 14, 55, 8), 'да александр')\n",
      "(9, '1630476774.453179', 246.9, datetime.datetime(2021, 9, 6, 14, 55, 8), 'все сегодня утром')\n",
      "(9, '1630476854.453218', 25.47, datetime.datetime(2021, 9, 6, 14, 56, 14), 'а возрасту середина служба сервиса сантехника анализа девушка прошла по фильтру что с ним')\n",
      "(9, '1630476854.453218', 53.61, datetime.datetime(2021, 9, 6, 14, 56, 14), 'я понял понял о чем вы говорите')\n",
      "(9, '1630476854.453218', 67.47, datetime.datetime(2021, 9, 6, 14, 56, 14), 'вода перекрываются да')\n",
      "(9, '1630476854.453218', 71.04, datetime.datetime(2021, 9, 6, 14, 56, 14), 'понял но хорошо понял для вас услышал я вас где-то буду часа через полтора примерно')\n",
      "(9, '1630476854.453218', 83.22, datetime.datetime(2021, 9, 6, 14, 56, 14), 'все у вас какой номер подъезда')\n",
      "(9, '1630476854.453218', 87.0, datetime.datetime(2021, 9, 6, 14, 56, 14), 'второй я вам позвоню')\n",
      "(9, '1630476854.453218', 90.45, datetime.datetime(2021, 9, 6, 14, 56, 14), 'спасибо')\n",
      "(9, '1630476854.453218', 92.22, datetime.datetime(2021, 9, 6, 14, 56, 14), 'вы знаете я просто за рулём сейчас уже не совсем удобно')\n",
      "(9, '1630476854.453218', 99.33, datetime.datetime(2021, 9, 6, 14, 56, 14), 'хорошо до свидания')\n",
      "(9, '1630476856.2284026', 21.81, datetime.datetime(2021, 9, 6, 14, 56, 37), 'здравствуйте подскажите пожалуйста можно вызвать вот мастер по ремонт стиральной машинки')\n",
      "(9, '1630476856.2284026', 30.42, datetime.datetime(2021, 9, 6, 14, 56, 37), 'самсунг')\n",
      "(9, '1630476856.2284026', 33.03, datetime.datetime(2021, 9, 6, 14, 56, 37), 'нет химки')\n",
      "(9, '1630476856.2284026', 41.97, datetime.datetime(2021, 9, 6, 14, 56, 37), 'а ещё скажите пажес по выходным а не работает или только в будни как вот')\n",
      "(9, '1630476856.2284026', 47.52, datetime.datetime(2021, 9, 6, 14, 56, 37), 'работы да')\n",
      "(9, '1630476856.2284026', 50.91, datetime.datetime(2021, 9, 6, 14, 56, 37), 'ага')\n",
      "(9, '1630476856.2284026', 52.95, datetime.datetime(2021, 9, 6, 14, 56, 37), 'у нас нет у нас а она шатается барабан и прям он шатается и гремит начинает греметь при отжиме')\n",
      "(9, '1630476856.2284026', 62.52, datetime.datetime(2021, 9, 6, 14, 56, 37), 'а это приблизительно хотя ск мастер')\n",
      "(9, '1630476856.2284026', 68.25, datetime.datetime(2021, 9, 6, 14, 56, 37), 'ага')\n",
      "(9, '1630476856.2284026', 69.87, datetime.datetime(2021, 9, 6, 14, 56, 37), 'так')\n",
      "(9, '1630476856.2284026', 72.21, datetime.datetime(2021, 9, 6, 14, 56, 37), 'а у химки улиц молодёжная')\n",
      "(9, '1630476856.2284026', 91.47, datetime.datetime(2021, 9, 6, 14, 56, 37), 'а потом двенадцать друг девять')\n",
      "(9, '1630476856.2284026', 95.19, datetime.datetime(2021, 9, 6, 14, 56, 37), 'а квартира двадцать шесть')\n",
      "(9, '1630476856.2284026', 97.47, datetime.datetime(2021, 9, 6, 14, 56, 37), 'там домов')\n",
      "(9, '1630476856.2284026', 99.12, datetime.datetime(2021, 9, 6, 14, 56, 37), 'пятый этаж дома фонд в отцы')\n",
      "(9, '1630476856.2284026', 104.22, datetime.datetime(2021, 9, 6, 14, 56, 37), 'девятьсот шестнадцать пятьсот шестьдесят восемь')\n",
      "(9, '1630476856.2284026', 108.63, datetime.datetime(2021, 9, 6, 14, 56, 37), 'ноль три шестнадцать')\n",
      "(9, '1630476856.2284026', 113.76, datetime.datetime(2021, 9, 6, 14, 56, 37), 'кришна честно то есть это дирк передать мастера с ним уже договариваться по день какой время да вот так как-то')\n",
      "(9, '1630476856.2284026', 125.31, datetime.datetime(2021, 9, 6, 14, 56, 37), 'ага аха')\n",
      "(9, '1630476856.2284026', 132.33, datetime.datetime(2021, 9, 6, 14, 56, 37), 'татьяна юрьевна')\n",
      "(9, '1630476856.2284026', 139.41, datetime.datetime(2021, 9, 6, 14, 56, 37), 'да нет это так то ж я работой а не могу желательно')\n",
      "(9, '1630476856.2284026', 146.94, datetime.datetime(2021, 9, 6, 14, 56, 37), 'да напишите пожалуйста')\n",
      "(9, '1630476856.2284026', 153.66, datetime.datetime(2021, 9, 6, 14, 56, 37), 'да')\n",
      "(9, '1630476856.2284026', 158.22, datetime.datetime(2021, 9, 6, 14, 56, 37), 'так сто шестьдесят пять')\n",
      "(9, '1630476856.2284026', 162.9, datetime.datetime(2021, 9, 6, 14, 56, 37), 'все спасибо всего доброго')\n",
      "(9, '1630476856.2284026', 0.03, datetime.datetime(2021, 9, 6, 14, 57, 17), 'здравствуйте вас приветствует единая служба сервиса к сожалению сейчас все операторы заняты ваш звонок очень важен для нас пожалуйста дождитесь ответа оператора')\n",
      "(9, '1630476856.2284026', 18.42, datetime.datetime(2021, 9, 6, 14, 57, 17), 'то есть единая служба сервиса оператора юля')\n",
      "(9, '1630476856.2284026', 28.92, datetime.datetime(2021, 9, 6, 14, 57, 17), 'какая машина как называют москве находите территориально')\n",
      "(9, '1630476856.2284026', 34.56, datetime.datetime(2021, 9, 6, 14, 57, 17), 'перезвонит мастер в течение часа с ним договориться по времени по ремонту вопросы задавайте ваши данные запишу ваш')\n",
      "(9, '1630476856.2284026', 45.54, datetime.datetime(2021, 9, 6, 14, 57, 17), 'работают они посменно работают ответьте на звонок время уже согласуется с мастером у вас что не так не включается вода не набирает')\n",
      "(9, '1630476856.2284026', 59.73, datetime.datetime(2021, 9, 6, 14, 57, 17), 'гремит шатается барабан')\n",
      "(9, '1630476856.2284026', 62.43, datetime.datetime(2021, 9, 6, 14, 57, 17), 'адрес адрес продукт мастеру пожалуйста вопросы задавайте он вам будет предварительно звонит сейчас адрес продиктуйте ваш улиц какая')\n",
      "(9, '1630476856.2284026', 75.48, datetime.datetime(2021, 9, 6, 14, 57, 17), 'как секунду')\n",
      "(9, '1630476856.2284026', 81.39, datetime.datetime(2021, 9, 6, 14, 57, 17), 'кейси')\n",
      "(9, '1630476856.2284026', 89.7, datetime.datetime(2021, 9, 6, 14, 57, 17), 'так молодёжная дом')\n",
      "(9, '1630476856.2284026', 97.32, datetime.datetime(2021, 9, 6, 14, 57, 17), 'солист это')\n",
      "(9, '1630476856.2284026', 102.54, datetime.datetime(2021, 9, 6, 14, 57, 17), 'телефон контактное ваш')\n",
      "(9, '1630476856.2284026', 110.46, datetime.datetime(2021, 9, 6, 14, 57, 17), 'девятьсот шестнадцать пятьсот шестьдесят восемь ноль три шестнадцать')\n",
      "(10, '1630651960.535890', 0.06, datetime.datetime(2021, 9, 6, 14, 56, 28), 'и')\n",
      "(10, '1630651960.535890', 24.15, datetime.datetime(2021, 9, 6, 14, 56, 28), 'и')\n",
      "(10, '1630651960.535890', 30.15, datetime.datetime(2021, 9, 6, 14, 56, 28), 'и')\n",
      "(10, '1630651960.535890', 36.06, datetime.datetime(2021, 9, 6, 14, 56, 28), 'и')\n",
      "(10, '1630651960.535890', 42.0, datetime.datetime(2021, 9, 6, 14, 56, 28), 'э')\n",
      "(10, '1630651960.535890', 48.0, datetime.datetime(2021, 9, 6, 14, 56, 28), 'и э')\n",
      "(10, '1630651960.535890', 54.12, datetime.datetime(2021, 9, 6, 14, 56, 28), 'э')\n",
      "(10, '1630651960.535890', 60.09, datetime.datetime(2021, 9, 6, 14, 56, 28), 'э')\n",
      "(10, '1630651960.535890', 67.14, datetime.datetime(2021, 9, 6, 14, 56, 28), 'и')\n",
      "(10, '1630651960.535890', 73.14, datetime.datetime(2021, 9, 6, 14, 56, 28), 'и')\n",
      "(10, '1630651960.535890', 79.14, datetime.datetime(2021, 9, 6, 14, 56, 28), 'и')\n",
      "(10, '1630651960.535890', 85.14, datetime.datetime(2021, 9, 6, 14, 56, 28), 'и')\n",
      "(10, '1630652015.535936', 0.06, datetime.datetime(2021, 9, 6, 14, 56, 45), 'и')\n",
      "(10, '1630652015.535936', 16.89, datetime.datetime(2021, 9, 6, 14, 56, 45), 'алло')\n",
      "(10, '1630652015.535936', 19.8, datetime.datetime(2021, 9, 6, 14, 56, 45), 'красота')\n",
      "(10, '1630652015.535936', 25.71, datetime.datetime(2021, 9, 6, 14, 56, 45), 'на понял вас')\n",
      "(10, '1630652015.535936', 31.32, datetime.datetime(2021, 9, 6, 14, 56, 45), 'а')\n",
      "(10, '1630652015.535936', 34.65, datetime.datetime(2021, 9, 6, 14, 56, 45), 'микроволновка да так понимаю')\n",
      "(10, '1630652015.535936', 38.04, datetime.datetime(2021, 9, 6, 14, 56, 45), 'аппарат')\n",
      "(10, '1630652015.535936', 39.66, datetime.datetime(2021, 9, 6, 14, 56, 45), 'самого самара микроволновка работает она вот')\n",
      "(10, '1630652015.535936', 45.21, datetime.datetime(2021, 9, 6, 14, 56, 45), 'кнопочка работы')\n",
      "(10, '1630652015.535936', 47.04, datetime.datetime(2021, 9, 6, 14, 56, 45), 'часы показывают')\n",
      "(10, '1630652015.535936', 49.44, datetime.datetime(2021, 9, 6, 14, 56, 45), 'только единственная она не греет в этой это положил нажимает прогреть')\n",
      "(10, '1630652015.535936', 56.52, datetime.datetime(2021, 9, 6, 14, 56, 45), 'баллмер отчитался и я выставка лета холодная')\n",
      "(10, '1630652015.535936', 64.56, datetime.datetime(2021, 9, 6, 14, 56, 45), 'да')\n",
      "(10, '1630652015.535936', 67.59, datetime.datetime(2021, 9, 6, 14, 56, 45), 'а что')\n",
      "(10, '1630652015.535936', 71.059666, datetime.datetime(2021, 9, 6, 14, 56, 45), 'не не не не она да про пятна и не в прайме')\n",
      "(10, '1630652015.535936', 87.06, datetime.datetime(2021, 9, 6, 14, 56, 45), 'сегодня можете подъехать да')\n",
      "(10, '1630652015.535936', 92.49, datetime.datetime(2021, 9, 6, 14, 56, 45), 'а если работа будет выполнена диагностика оплачиваете да')\n",
      "(10, '1630652015.535936', 98.85, datetime.datetime(2021, 9, 6, 14, 56, 45), 'а сколько всего обойдётся')\n",
      "(10, '1630652015.535936', 115.23, datetime.datetime(2021, 9, 6, 14, 56, 45), 'сколько последних он')\n",
      "(10, '1630652015.535936', 120.36, datetime.datetime(2021, 9, 6, 14, 56, 45), 'семисот тысяч семьсот правильно как понимаю')\n",
      "(10, '1630652015.535936', 127.83, datetime.datetime(2021, 9, 6, 14, 56, 45), 'но а вы мамаша когда проблема вы')\n",
      "(10, '1630652015.535936', 133.32, datetime.datetime(2021, 9, 6, 14, 56, 45), 'примерно представляется что можно быть')\n",
      "(10, '1630652015.535936', 137.61, datetime.datetime(2021, 9, 6, 14, 56, 45), 'а что там примерно')\n",
      "(10, '1630652015.535936', 148.74, datetime.datetime(2021, 9, 6, 14, 56, 45), 'понятно')\n",
      "(10, '1630652015.535936', 150.66, datetime.datetime(2021, 9, 6, 14, 56, 45), 'а поскольку вы можете приехать')\n",
      "(10, '1630652015.535936', 158.88, datetime.datetime(2021, 9, 6, 14, 56, 45), 'какая центральную это центр москвы')\n",
      "(10, '1630652015.535936', 178.89, datetime.datetime(2021, 9, 6, 14, 56, 45), 'а вы диагностику как привлекательно мест лили')\n",
      "(10, '1630652015.535936', 182.49, datetime.datetime(2021, 9, 6, 14, 56, 45), 'как')\n",
      "(10, '1630652015.535936', 184.59, datetime.datetime(2021, 9, 6, 14, 56, 45), 'понял')\n",
      "(10, '1630652015.535936', 185.82, datetime.datetime(2021, 9, 6, 14, 56, 45), 'хорошо оплаты так производит у вас')\n",
      "(10, '1630652015.535936', 191.016577, datetime.datetime(2021, 9, 6, 14, 56, 45), 'да как я могу плит пройдите оплату')\n",
      "(10, '1630652015.535936', 197.91, datetime.datetime(2021, 9, 6, 14, 56, 45), 'по карте')\n",
      "(11, '1630650315.534543', 0.0, datetime.datetime(2021, 9, 6, 14, 55, 9), '')\n",
      "(11, '1630650375.534612', 0.0, datetime.datetime(2021, 9, 6, 14, 55, 15), '')\n",
      "(11, '1630650484.534696', 0.0, datetime.datetime(2021, 9, 6, 14, 55, 15), '')\n",
      "(11, '1630650583.534748', 13.71, datetime.datetime(2021, 9, 6, 14, 55, 18), 'роджер я в домофон звоню')\n",
      "(11, '1630650665.534801', 18.482562, datetime.datetime(2021, 9, 6, 14, 55, 23), 'да что там случилось опять')\n",
      "(11, '1630650665.534801', 21.9, datetime.datetime(2021, 9, 6, 14, 55, 23), 'чулок по график')\n",
      "(11, '1630650665.534801', 30.12, datetime.datetime(2021, 9, 6, 14, 55, 23), 'так')\n",
      "(11, '1630650665.534801', 55.71, datetime.datetime(2021, 9, 6, 14, 55, 23), 'как ваш урок наш вроде открыл открытое и оставляли дверь')\n",
      "(11, '1630650665.534801', 60.12, datetime.datetime(2021, 9, 6, 14, 55, 23), 'мы же открыта дверь оставляли ли вы закрыли её потом')\n",
      "(11, '1630650665.534801', 67.02, datetime.datetime(2021, 9, 6, 14, 55, 23), 'гм')\n",
      "(11, '1630650665.534801', 69.6, datetime.datetime(2021, 9, 6, 14, 55, 23), 'все великолепно')\n",
      "(11, '1630650665.534801', 71.37, datetime.datetime(2021, 9, 6, 14, 55, 23), 'галина давай ты сейчас просто на вызове сейчас здесь закончу и сразу к вам подъеду тогда')\n",
      "(11, '1630650665.534801', 80.97, datetime.datetime(2021, 9, 6, 14, 55, 23), 'не надо не надо ничего лучше меня подождите я докончу сейчас на заявочку и к вам подседа')\n",
      "(11, '1630650665.534801', 90.45, datetime.datetime(2021, 9, 6, 14, 55, 23), 'хорошо хорошо')\n",
      "(11, '1630650665.534801', 93.54, datetime.datetime(2021, 9, 6, 14, 55, 23), 'да не места')\n",
      "(11, '1630650718.534842', 0.0, datetime.datetime(2021, 9, 6, 14, 55, 46), '')\n",
      "(11, '1630650760.534908', 0.0, datetime.datetime(2021, 9, 6, 14, 55, 53), '')\n",
      "(11, '1630650829.534976', 16.8, datetime.datetime(2021, 9, 6, 14, 56, 1), 'але')\n",
      "(11, '1630650829.534976', 19.14, datetime.datetime(2021, 9, 6, 14, 56, 1), 'это для мастер')\n",
      "(11, '1630650829.534976', 22.270712, datetime.datetime(2021, 9, 6, 14, 56, 1), 'а не по вашей заявке вчера не получилось приехать давайте на сегодня договоримся когда можно')\n",
      "(11, '1630650829.534976', 37.68, datetime.datetime(2021, 9, 6, 14, 56, 1), 'я всегда в первой половине дня буду у вас этому этаж до двенадцати этими номер подъезда этаж квартиру')\n",
      "(11, '1630650829.534976', 52.92, datetime.datetime(2021, 9, 6, 14, 56, 1), 'домофон работает')\n",
      "(11, '1630650829.534976', 59.31, datetime.datetime(2021, 9, 6, 14, 56, 1), 'три')\n",
      "(11, '1630650829.534976', 63.42, datetime.datetime(2021, 9, 6, 14, 56, 1), 'четыре')\n",
      "(11, '1630650829.534976', 68.46, datetime.datetime(2021, 9, 6, 14, 56, 1), 'я записал ожидать')\n",
      "(11, '1630650856.535013', 9.72, datetime.datetime(2021, 9, 6, 14, 56, 22), 'алло да сессия пропала')\n",
      "(11, '1630650856.535013', 15.81, datetime.datetime(2021, 9, 6, 14, 56, 22), 'что')\n",
      "(11, '1630650856.535013', 20.94, datetime.datetime(2021, 9, 6, 14, 56, 22), 'цена смеситель какой будете какой диапазоне хотите покупать')\n",
      "(11, '1630650856.535013', 30.42, datetime.datetime(2021, 9, 6, 14, 56, 22), 'ну если не совсем плохой так у вас получается')\n",
      "(11, '1630650856.535013', 35.34, datetime.datetime(2021, 9, 6, 14, 56, 22), 'этот на кухне до райана')\n",
      "(11, '1630650856.535013', 38.13, datetime.datetime(2021, 9, 6, 14, 56, 22), 'да')\n",
      "(11, '1630650856.535013', 39.797347, datetime.datetime(2021, 9, 6, 14, 56, 22), 'он стоит примерно шестым')\n",
      "(11, '1630650856.535013', 44.34, datetime.datetime(2021, 9, 6, 14, 56, 22), 'шесть семь')\n",
      "(11, '1630650856.535013', 45.75, datetime.datetime(2021, 9, 6, 14, 56, 22), 'шесть шесть тире семь тысяч а она примерно да и работа примерно но мне надо посмотреть что у вас там как стоит работа примерно а бут ну конечно попался я могут указывать не там за дома но работа и')\n",
      "(11, '1630650856.535013', 66.059634, datetime.datetime(2021, 9, 6, 14, 56, 22), 'ты и все нормально складывается значит рейтинг семьи и лавины могу да')\n",
      "(11, '1630650856.535013', 74.49, datetime.datetime(2021, 9, 6, 14, 56, 22), 'да')\n",
      "(11, '1630650856.535013', 76.98, datetime.datetime(2021, 9, 6, 14, 56, 22), 'и ты где то там где то вам в районе ну грубо говоря надпись вмиг то обойдётся примерно если что-то переделывать не менара я не знаю там надо смотреть и я могу сказать')\n",
      "(11, '1630650856.535013', 92.7, datetime.datetime(2021, 9, 6, 14, 56, 22), 'ну а жена гибкой подводки')\n",
      "(11, '1630650856.535013', 98.7, datetime.datetime(2021, 9, 6, 14, 56, 22), 'а ну вот это это уже как бы облегчает а то у некоторых ещё')\n",
      "(11, '1630650856.535013', 103.92, datetime.datetime(2021, 9, 6, 14, 56, 22), 'с каких времён трубы стоят эти металлические кольца уже')\n",
      "(11, '1630650856.535013', 115.65, datetime.datetime(2021, 9, 6, 14, 56, 22), 'понятно')\n",
      "(11, '1630650856.535013', 117.63, datetime.datetime(2021, 9, 6, 14, 56, 22), 'я понял от ну вот это примерно вот в таком диапазоне рассчитывайте')\n",
      "(11, '1630650856.535013', 125.302134, datetime.datetime(2021, 9, 6, 14, 56, 22), 'раз ты такая ожидайте подкрутить не звонка я когда я доела заявку сразу победу')\n",
      "(11, '1630650856.535013', 134.7, datetime.datetime(2021, 9, 6, 14, 56, 22), 'ну примерно да примерно плюс-минус я не знаю там там за сургут')\n",
      "(11, '1630650856.535013', 139.44, datetime.datetime(2021, 9, 6, 14, 56, 22), 'о к тому времени провожу тебя не могу')\n",
      "(11, '1630650856.535013', 143.64, datetime.datetime(2021, 9, 6, 14, 56, 22), 'да нет конечно не обману я сделаю вам воскресенье в льву и приеду виды даже за пазы приеду и посмотрим там и память дню')\n",
      "(11, '1630650856.535013', 153.9, datetime.datetime(2021, 9, 6, 14, 56, 22), 'важно метро')\n",
      "(11, '1630650856.535013', 158.61, datetime.datetime(2021, 9, 6, 14, 56, 22), 'магазины и среда')\n",
      "(11, '1630650856.535013', 161.233213, datetime.datetime(2021, 9, 6, 14, 56, 22), 'теперь магазина ездим технически обижайся')\n",
      "(11, '1630650856.535013', 168.21, datetime.datetime(2021, 9, 6, 14, 56, 22), 'мы все разберёмся тогда все всего доброго')\n",
      "(11, '1630650918.535076', 0.36, datetime.datetime(2021, 9, 6, 14, 57, 25), 'сейчас подойду')\n",
      "(11, '1630650970.535134', 3.15, datetime.datetime(2021, 9, 6, 14, 57, 32), 'но я же наклейку')\n",
      "(11, '1630650970.535134', 15.27, datetime.datetime(2021, 9, 6, 14, 57, 32), 'гм')\n",
      "(11, '1630650970.535134', 24.24, datetime.datetime(2021, 9, 6, 14, 57, 32), 'сейчас я им позвоню')\n",
      "(11, '1630650970.535134', 31.17, datetime.datetime(2021, 9, 6, 14, 57, 32), 'может пока следующем попробуйте прошить')\n",
      "(11, '1630651069.535187', 13.53, datetime.datetime(2021, 9, 6, 14, 57, 42), 'здравствуйте мастер стиральная машина вас беспокоит переносили за девочками теперешних')\n",
      "(12, '1630649738.533897', 0.06, datetime.datetime(2021, 9, 6, 14, 55, 42), 'и')\n",
      "(12, '1630649738.533897', 6.48, datetime.datetime(2021, 9, 6, 14, 55, 42), 'и')\n",
      "(12, '1630649738.533897', 18.51, datetime.datetime(2021, 9, 6, 14, 55, 42), 'и')\n",
      "(12, '1630649738.533897', 24.33, datetime.datetime(2021, 9, 6, 14, 55, 42), 'э')\n",
      "(12, '1630649738.533897', 30.33, datetime.datetime(2021, 9, 6, 14, 55, 42), 'э')\n",
      "(12, '1630649738.533897', 36.33, datetime.datetime(2021, 9, 6, 14, 55, 42), 'э')\n",
      "(12, '1630649738.533897', 42.33, datetime.datetime(2021, 9, 6, 14, 55, 42), 'и')\n",
      "(12, '1630649738.533897', 48.33, datetime.datetime(2021, 9, 6, 14, 55, 42), 'и')\n",
      "(12, '1630649738.533897', 54.33, datetime.datetime(2021, 9, 6, 14, 55, 42), 'и')\n",
      "(12, '1630649738.533897', 60.33, datetime.datetime(2021, 9, 6, 14, 55, 42), 'и')\n",
      "(12, '1630649738.533897', 66.33, datetime.datetime(2021, 9, 6, 14, 55, 42), 'и')\n",
      "(12, '1630649824.533949', 0.06, datetime.datetime(2021, 9, 6, 14, 55, 57), 'и')\n",
      "(12, '1630649824.533949', 11.19, datetime.datetime(2021, 9, 6, 14, 55, 57), 'алло')\n",
      "(12, '1630649824.533949', 13.74, datetime.datetime(2021, 9, 6, 14, 55, 57), 'натра')\n",
      "(12, '1630649824.533949', 16.38, datetime.datetime(2021, 9, 6, 14, 55, 57), 'да пятьсот пятнадцать пятьсот пятнадцать')\n",
      "(12, '1630649824.533949', 21.6, datetime.datetime(2021, 9, 6, 14, 55, 57), 'через сколько будет')\n",
      "(12, '1630649824.533949', 24.93, datetime.datetime(2021, 9, 6, 14, 55, 57), 'четвёрка')\n",
      "(12, '1630649824.533949', 29.31, datetime.datetime(2021, 9, 6, 14, 55, 57), 'да давай отсюда')\n",
      "(12, '1630649888.534016', 0.06, datetime.datetime(2021, 9, 6, 14, 56, 6), 'и')\n",
      "(12, '1630649888.534016', 8.22, datetime.datetime(2021, 9, 6, 14, 56, 6), 'але')\n",
      "(12, '1630649888.534016', 11.28, datetime.datetime(2021, 9, 6, 14, 56, 6), 'тарас')\n",
      "(12, '1630649888.534016', 15.42, datetime.datetime(2021, 9, 6, 14, 56, 6), 'хорошо')\n",
      "(12, '1630649888.534016', 16.89, datetime.datetime(2021, 9, 6, 14, 56, 6), 'вы знаете театр и да')\n",
      "(12, '1630649888.534016', 23.85, datetime.datetime(2021, 9, 6, 14, 56, 6), 'сто восемь семь код сто восемь семь кварте нажимайте')\n",
      "(12, '1630649888.534016', 29.963251, datetime.datetime(2021, 9, 6, 14, 56, 6), 'и вы знаете что у меня да')\n",
      "(12, '1630649888.534016', 34.89, datetime.datetime(2021, 9, 6, 14, 56, 6), 'да шнур готов в розетку втыкается в телевизора')\n",
      "(12, '1630649888.534016', 44.94, datetime.datetime(2021, 9, 6, 14, 56, 6), 'этаж же шестьдесят шестой подъезд четвёртое')\n",
      "(12, '1630649888.534016', 54.42, datetime.datetime(2021, 9, 6, 14, 56, 6), 'корпусу один дом двадцать шесть корпус')\n",
      "(12, '1630649888.534016', 59.16, datetime.datetime(2021, 9, 6, 14, 56, 6), 'все')\n",
      "(12, '1630649938.534053', 0.06, datetime.datetime(2021, 9, 6, 14, 56, 23), 'и')\n",
      "(12, '1630649938.534053', 18.33, datetime.datetime(2021, 9, 6, 14, 56, 23), 'она')\n",
      "(12, '1630649938.534053', 23.25, datetime.datetime(2021, 9, 6, 14, 56, 23), 'мавроди')\n",
      "(12, '1630649938.534053', 25.38, datetime.datetime(2021, 9, 6, 14, 56, 23), 'но я бы хотела')\n",
      "(12, '1630649938.534053', 28.11, datetime.datetime(2021, 9, 6, 14, 56, 23), 'значит та дверь деревянная')\n",
      "(12, '1630649938.534053', 31.92, datetime.datetime(2021, 9, 6, 14, 56, 23), 'её надо снять в комнате снять и установить в кладовке в кладовке не хватает одного откоса там какое-то расстояние по размерам и мере она подходит только вот там')\n",
      "(12, '1630649938.534053', 46.08, datetime.datetime(2021, 9, 6, 14, 56, 23), 'ну как досель потому что от курса не хватает')\n",
      "(12, '1630649938.534053', 59.659607, datetime.datetime(2021, 9, 6, 14, 56, 23), 'поняла')\n",
      "(12, '1630649990.534103', 0.06, datetime.datetime(2021, 9, 6, 14, 56, 41), 'и')\n",
      "(12, '1630649990.534103', 18.06, datetime.datetime(2021, 9, 6, 14, 56, 41), 'алло')\n",
      "(12, '1630649990.534103', 21.21, datetime.datetime(2021, 9, 6, 14, 56, 41), 'да траст')\n",
      "(12, '1630649990.534103', 28.89, datetime.datetime(2021, 9, 6, 14, 56, 41), 'сэр стаж катаре')\n",
      "(12, '1630649990.534103', 33.72, datetime.datetime(2021, 9, 6, 14, 56, 41), 'так четвёртая подъезд это этаж сто шестьдесят один вы')\n",
      "(12, '1630649990.534103', 42.45, datetime.datetime(2021, 9, 6, 14, 56, 41), 'скажите пожалуйста а все-таки от по ценам как примерно будет на какую сумму рассчитывать')\n",
      "(12, '1630649990.534103', 53.19, datetime.datetime(2021, 9, 6, 14, 56, 41), 'а вы то канале принимают карточку не да')\n",
      "(12, '1630649990.534103', 59.7, datetime.datetime(2021, 9, 6, 14, 56, 41), 'ну ладно сейчас кальвин скажу просто я не знаю сколько снимать примерно хотя на западных верю')\n",
      "(12, '1630649990.534103', 67.56, datetime.datetime(2021, 9, 6, 14, 56, 41), 'там я думаю ничего страшного какая плата ладно посмотрим сейчас сюда')\n",
      "(12, '1630650037.534180', 0.06, datetime.datetime(2021, 9, 6, 14, 57, 1), 'и')\n",
      "(12, '1630650037.534180', 25.26, datetime.datetime(2021, 9, 6, 14, 57, 1), 'алло')\n",
      "(12, '1630650037.534180', 27.9, datetime.datetime(2021, 9, 6, 14, 57, 1), 'доброе')\n",
      "(12, '1630650037.534180', 30.15, datetime.datetime(2021, 9, 6, 14, 57, 1), 'мулы')\n",
      "(12, '1630650037.534180', 38.04, datetime.datetime(2021, 9, 6, 14, 57, 1), 'ну понятно')\n",
      "(12, '1630650037.534180', 39.78, datetime.datetime(2021, 9, 6, 14, 57, 1), 'ремонт у меня настройка')\n",
      "(12, '1630650037.534180', 47.07, datetime.datetime(2021, 9, 6, 14, 57, 1), 'ну ясно ну хорошо что хоть позвонили по крайней мере то хорошо уже ясно но все хорошее свидание')\n",
      "(12, '1630650083.534252', 0.06, datetime.datetime(2021, 9, 6, 14, 57, 14), 'и')\n",
      "(12, '1630650083.534252', 11.01, datetime.datetime(2021, 9, 6, 14, 57, 14), 'да')\n",
      "(12, '1630650083.534252', 13.71, datetime.datetime(2021, 9, 6, 14, 57, 14), 'нравится')\n",
      "(12, '1630650083.534252', 17.31, datetime.datetime(2021, 9, 6, 14, 57, 14), 'на фошон')\n",
      "(12, '1630650083.534252', 23.716212, datetime.datetime(2021, 9, 6, 14, 57, 14), 'да')\n",
      "(12, '1630650083.534252', 25.89, datetime.datetime(2021, 9, 6, 14, 57, 14), 'не все всё сразу сделали и туалет и все и ванную')\n",
      "(12, '1630650083.534252', 31.92, datetime.datetime(2021, 9, 6, 14, 57, 14), 'но кого-то дочь моя нашла')\n",
      "(12, '1630650083.534252', 35.73, datetime.datetime(2021, 9, 6, 14, 57, 14), 'вот кто должен был подключить нам этот самый туалет')\n",
      "(12, '1630650083.534252', 43.98, datetime.datetime(2021, 9, 6, 14, 57, 14), 'ну мы договаривались но в цене не сошлись')\n",
      "(12, '1630650083.534252', 49.08, datetime.datetime(2021, 9, 6, 14, 57, 14), 'дочь сказал что я этот дождь сказал что ей это дорого')\n",
      "(12, '1630650083.534252', 55.62, datetime.datetime(2021, 9, 6, 14, 57, 14), 'спасибо')\n",
      "(12, '1630650110.534292', 0.06, datetime.datetime(2021, 9, 6, 14, 57, 29), 'и')\n",
      "(12, '1630650110.534292', 12.06, datetime.datetime(2021, 9, 6, 14, 57, 29), 'орёшь')\n",
      "(12, '1630650110.534292', 14.64, datetime.datetime(2021, 9, 6, 14, 57, 29), 'доброе утро')\n",
      "(12, '1630650110.534292', 24.78, datetime.datetime(2021, 9, 6, 14, 57, 29), 'да михаил только вы знаете вот и просто я вот одна там сказать баба')\n",
      "(12, '1630650110.534292', 31.23, datetime.datetime(2021, 9, 6, 14, 57, 29), 'но в общем вы знаете я ничего не понимаю в этих странах')\n",
      "(12, '1630650110.534292', 35.04, datetime.datetime(2021, 9, 6, 14, 57, 29), 'ну то есть я не могу сама купить этот сместить это потому что если я куплю')\n",
      "(12, '1630650110.534292', 41.04, datetime.datetime(2021, 9, 6, 14, 57, 29), 'татьяна')\n",
      "(12, '1630650110.534292', 50.34, datetime.datetime(2021, 9, 6, 14, 57, 29), 'жениха')\n",
      "(12, '1630650110.534292', 59.4, datetime.datetime(2021, 9, 6, 14, 57, 29), 'у пятый подъезд у меня первый этаж домофон восемь и старика квартира')\n",
      "(12, '1630650110.534292', 73.11, datetime.datetime(2021, 9, 6, 14, 57, 29), 'не')\n",
      "(12, '1630650110.534292', 74.49, datetime.datetime(2021, 9, 6, 14, 57, 29), 'да')\n",
      "(12, '1630650110.534292', 79.41, datetime.datetime(2021, 9, 6, 14, 57, 29), 'да да да да')\n",
      "(12, '1630650110.534292', 85.8, datetime.datetime(2021, 9, 6, 14, 57, 29), 'спасибо вам огромное буду вас ждать')\n",
      "(13, '1630649709.533876', 23.43, datetime.datetime(2021, 9, 6, 14, 55, 42), 'алло здравствуйте')\n",
      "(13, '1630649709.533876', 27.03, datetime.datetime(2021, 9, 6, 14, 55, 42), 'это вот александр по сантехнике не получил')\n",
      "(13, '1630649709.533876', 30.93, datetime.datetime(2021, 9, 6, 14, 55, 42), 'александр по сантехнике')\n",
      "(13, '1630649709.533876', 35.34, datetime.datetime(2021, 9, 6, 14, 55, 42), 'здравствуйте')\n",
      "(13, '1630649709.533876', 41.82, datetime.datetime(2021, 9, 6, 14, 55, 42), 'хорошо я понял хорошо')\n",
      "(13, '1630649709.533876', 45.3, datetime.datetime(2021, 9, 6, 14, 55, 42), 'хорошо')\n",
      "(13, '1630649760.533912', 11.1, datetime.datetime(2021, 9, 6, 14, 55, 52), 'алло')\n",
      "(13, '1630649760.533912', 13.56, datetime.datetime(2021, 9, 6, 14, 55, 52), 'здравствуй это мастер по плите беспокоит вас меня зовут сергей')\n",
      "(13, '1630649760.533912', 31.14, datetime.datetime(2021, 9, 6, 14, 55, 52), 'а')\n",
      "(13, '1630649760.533912', 32.727499, datetime.datetime(2021, 9, 6, 14, 55, 52), 'да конечно скажите у вас стеклокерамика')\n",
      "(13, '1630649760.533912', 39.99, datetime.datetime(2021, 9, 6, 14, 55, 52), 'то есть вы включаете комфорт она не регулирует температуру')\n",
      "(13, '1630649760.533912', 51.0, datetime.datetime(2021, 9, 6, 14, 55, 52), 'я понял не регулируется но я по-моему там нужно смотреть там либо в самом нагревательном элементе проблема но он целый естественно там есть термодатчик либо в самом направлении')\n",
      "(13, '1630649760.533912', 60.69, datetime.datetime(2021, 9, 6, 14, 55, 52), 'адам это ремонтируем по месту подъехать могу это да')\n",
      "(13, '1630649760.533912', 75.42, datetime.datetime(2021, 9, 6, 14, 55, 52), 'но')\n",
      "(13, '1630649760.533912', 78.21, datetime.datetime(2021, 9, 6, 14, 55, 52), 'но в среднем среднем где-то от четырёх до шести')\n",
      "(13, '1630649828.533954', 9.3, datetime.datetime(2021, 9, 6, 14, 56, 16), 'добрый день')\n",
      "(13, '1630649828.533954', 11.7, datetime.datetime(2021, 9, 6, 14, 56, 16), 'это фирма айсберг клеток вас беспокоит что случилось')\n",
      "(13, '1630649828.533954', 28.77, datetime.datetime(2021, 9, 6, 14, 56, 16), 'делаю но это надо подъехать на месте посмотреть и')\n",
      "(13, '1630649828.533954', 42.399932, datetime.datetime(2021, 9, 6, 14, 56, 16), 'айсберги работами')\n",
      "(13, '1630649828.533954', 60.42, datetime.datetime(2021, 9, 6, 14, 56, 16), 'это диспетчера номер телефон можете на это же звонить или на этом же меня подсоединяться')\n",
      "(13, '1630649828.533954', 70.02, datetime.datetime(2021, 9, 6, 14, 56, 16), 'дня')\n",
      "(13, '1630649897.534024', 26.04, datetime.datetime(2021, 9, 6, 14, 56, 32), 'здравствуйте меня зовут валерия по поводу ремонт холодильник')\n",
      "(13, '1630649897.534024', 33.18, datetime.datetime(2021, 9, 6, 14, 56, 32), 'если дом с девяти до одиннадцати могу подойти')\n",
      "(13, '1630649897.534024', 46.11, datetime.datetime(2021, 9, 6, 14, 56, 32), 'шестьсот рублей диагностика все остальное на месте')\n",
      "(13, '1630649897.534024', 58.83, datetime.datetime(2021, 9, 6, 14, 56, 32), 'в основном есть')\n",
      "(13, '1630649897.534024', 74.7, datetime.datetime(2021, 9, 6, 14, 56, 32), 'я могу вам позвонить когда вам когда вы будете решение примет скажет прийти я вам перезвоню')\n",
      "(13, '1630649897.534024', 83.97, datetime.datetime(2021, 9, 6, 14, 56, 32), 'но я могу в любой день перезвонить вы говорите когда зад от когда позвонит')\n",
      "(13, '1630649897.534024', 104.22, datetime.datetime(2021, 9, 6, 14, 56, 32), 'звонить тринадцатого числа хорошо')\n",
      "(13, '1630649897.534024', 109.53, datetime.datetime(2021, 9, 6, 14, 56, 32), 'пожалуйста до свидания')\n",
      "(13, '1630649947.534061', 0.0, datetime.datetime(2021, 9, 6, 14, 56, 53), '')\n",
      "(13, '1630649991.534113', 14.61, datetime.datetime(2021, 9, 6, 14, 56, 53), 'олегу бачату этот подключился')\n",
      "(13, '1630649991.534113', 20.22, datetime.datetime(2021, 9, 6, 14, 56, 53), 'но смотрите')\n",
      "(13, '1630649991.534113', 21.6, datetime.datetime(2021, 9, 6, 14, 56, 53), 'но на следующей неделе должен приехать на красное село да и заодно как бы заеду к вам')\n",
      "(13, '1630649991.534113', 32.64, datetime.datetime(2021, 9, 6, 14, 56, 53), 'вот')\n",
      "(13, '1630649991.534113', 36.6, datetime.datetime(2021, 9, 6, 14, 56, 53), 'да да да я по этому номеру вам позвоню')\n",
      "(13, '1630649991.534113', 42.66, datetime.datetime(2021, 9, 6, 14, 56, 53), 'свидание')\n",
      "(13, '1630650049.534206', 13.53, datetime.datetime(2021, 9, 6, 14, 57, 6), 'но возраста мастер вас беспокоит мы с вами договорились на пятницу')\n",
      "(13, '1630650049.534206', 20.46, datetime.datetime(2021, 9, 6, 14, 57, 6), 'аля ну так вот в течение часа')\n",
      "(13, '1630650049.534206', 26.25, datetime.datetime(2021, 9, 6, 14, 57, 6), 'все ожидать')\n",
      "(13, '1630650095.534260', 21.15, datetime.datetime(2021, 9, 6, 14, 57, 16), 'алло здравствуйте это ваш мастер беспокоит насчёт телевизора')\n",
      "(13, '1630650095.534260', 25.29, datetime.datetime(2021, 9, 6, 14, 57, 16), 'да ну да вот я сейчас у до трёх буду а сегодня я бы хотел уточнить адрес зяблика сюда скоро подсоединена квартира')\n",
      "(13, '1630650095.534260', 37.62, datetime.datetime(2021, 9, 6, 14, 57, 16), 'ой чтоб адрес добра сейчас гурьевский проезда')\n",
      "(13, '1630650095.534260', 44.49, datetime.datetime(2021, 9, 6, 14, 57, 16), 'да гурьевск пресс квартира')\n",
      "(13, '1630650095.534260', 51.6, datetime.datetime(2021, 9, 6, 14, 57, 16), 'да семнадцать корпус один а квартира')\n",
      "(13, '1630650095.534260', 58.26, datetime.datetime(2021, 9, 6, 14, 57, 16), 'двести шестьдесят два подвесы таши к под риса можно ещё')\n",
      "(13, '1630650095.534260', 65.04, datetime.datetime(2021, 9, 6, 14, 57, 16), 'эх руда какой подвесы какой этаж вот и кот двери подверг')\n",
      "(13, '1630650095.534260', 76.08, datetime.datetime(2021, 9, 6, 14, 57, 16), 'двести шестьдесят два домофон все услышал сейчас этот рог ждите чего')\n",
      "(13, '1630650095.534260', 82.71, datetime.datetime(2021, 9, 6, 14, 57, 16), 'да да да я слышу')\n",
      "(13, '1630650095.534260', 86.97, datetime.datetime(2021, 9, 6, 14, 57, 16), 'да то')\n",
      "(13, '1630650095.534260', 96.03, datetime.datetime(2021, 9, 6, 14, 57, 16), 'алло')\n",
      "(13, '1630650095.534260', 98.49, datetime.datetime(2021, 9, 6, 14, 57, 16), 'слышите меня говорю я горы на миг разберёмся там надо смотри осмотреть его сначала и по-человечески быть собой')\n",
      "(13, '1630650095.534260', 123.9, datetime.datetime(2021, 9, 6, 14, 57, 16), 'для слышите меня алло')\n",
      "(13, '1630650095.534260', 126.57, datetime.datetime(2021, 9, 6, 14, 57, 16), 'игры с часу до трёх буду вас все спасибо')\n",
      "(13, '1630650095.534260', 130.95, datetime.datetime(2021, 9, 6, 14, 57, 16), 'да содовой')\n",
      "(14, '1630650180.534373', 0.06, datetime.datetime(2021, 9, 6, 14, 55, 8), 'и')\n",
      "(14, '1630650180.534373', 18.51, datetime.datetime(2021, 9, 6, 14, 55, 8), 'и')\n",
      "(14, '1630650180.534373', 24.15, datetime.datetime(2021, 9, 6, 14, 55, 8), 'и')\n",
      "(14, '1630650180.534373', 30.15, datetime.datetime(2021, 9, 6, 14, 55, 8), 'и')\n",
      "(14, '1630650238.534447', 0.0, datetime.datetime(2021, 9, 6, 14, 55, 18), '')\n",
      "(14, '1630650284.534495', 0.06, datetime.datetime(2021, 9, 6, 14, 55, 18), 'и')\n",
      "(14, '1630650284.534495', 18.51, datetime.datetime(2021, 9, 6, 14, 55, 18), 'и')\n",
      "(14, '1630650284.534495', 24.15, datetime.datetime(2021, 9, 6, 14, 55, 18), 'и')\n",
      "(14, '1630650284.534495', 30.12, datetime.datetime(2021, 9, 6, 14, 55, 18), 'и')\n",
      "(14, '1630650284.534495', 34.98, datetime.datetime(2021, 9, 6, 14, 55, 18), 'и')\n",
      "(14, '1630650284.534495', 40.56, datetime.datetime(2021, 9, 6, 14, 55, 18), 'а')\n",
      "(14, '1630650297.534520', 0.06, datetime.datetime(2021, 9, 6, 14, 55, 31), 'и')\n",
      "(14, '1630650297.534520', 18.66, datetime.datetime(2021, 9, 6, 14, 55, 31), 'и')\n",
      "(14, '1630650297.534520', 24.54, datetime.datetime(2021, 9, 6, 14, 55, 31), 'она')\n",
      "(14, '1630650297.534520', 27.12, datetime.datetime(2021, 9, 6, 14, 55, 31), 'здрасьте')\n",
      "(14, '1630650297.534520', 32.34, datetime.datetime(2021, 9, 6, 14, 55, 31), 'а')\n",
      "(14, '1630650297.534520', 35.16, datetime.datetime(2021, 9, 6, 14, 55, 31), 'да да да')\n",
      "(14, '1630650297.534520', 39.03, datetime.datetime(2021, 9, 6, 14, 55, 31), 'но короче он нас подсекал просто мы купили новые внутренности')\n",
      "(14, '1630650297.534520', 45.42, datetime.datetime(2021, 9, 6, 14, 55, 31), 'нам надо их поменять')\n",
      "(14, '1630650297.534520', 64.83, datetime.datetime(2021, 9, 6, 14, 55, 31), 'сейчас подожди минуточку')\n",
      "(14, '1630650297.534520', 68.04, datetime.datetime(2021, 9, 6, 14, 55, 31), 'а когда вы сможете подъехать')\n",
      "(14, '1630650297.534520', 74.52, datetime.datetime(2021, 9, 6, 14, 55, 31), 'ништяк семьсот')\n",
      "(14, '1630650297.534520', 87.81, datetime.datetime(2021, 9, 6, 14, 55, 31), 'но сейчас я с мужем советую вам перезвоню')\n",
      "(14, '1630650297.534520', 99.48, datetime.datetime(2021, 9, 6, 14, 55, 31), 'все понятно сейчас я вам час пятнадцать перезвоню')\n",
      "(14, '1630650297.534520', 104.94, datetime.datetime(2021, 9, 6, 14, 55, 31), 'ну')\n",
      "(14, '1630650297.534520', 106.59, datetime.datetime(2021, 9, 6, 14, 55, 31), 'к этому звоню который нам делал')\n",
      "(14, '1630650297.534520', 111.18, datetime.datetime(2021, 9, 6, 14, 55, 31), 'от полутора до двух тысяч чтобы скорее всего')\n",
      "(14, '1630650297.534520', 117.36, datetime.datetime(2021, 9, 6, 14, 55, 31), 'мне кажется пусть делают')\n",
      "(14, '1630650354.534575', 0.06, datetime.datetime(2021, 9, 6, 14, 56, 10), 'и')\n",
      "(14, '1630650354.534575', 22.77, datetime.datetime(2021, 9, 6, 14, 56, 10), 'а')\n",
      "(14, '1630650354.534575', 23.91, datetime.datetime(2021, 9, 6, 14, 56, 10), 'шуша')\n",
      "(14, '1630650354.534575', 30.032699, datetime.datetime(2021, 9, 6, 14, 56, 10), 'словах')\n",
      "(14, '1630650354.534575', 39.36, datetime.datetime(2021, 9, 6, 14, 56, 10), 'кажется сена')\n",
      "(14, '1630650354.534575', 42.42, datetime.datetime(2021, 9, 6, 14, 56, 10), 'то не отказали')\n",
      "(14, '1630650401.534640', 0.06, datetime.datetime(2021, 9, 6, 14, 56, 23), 'и')\n",
      "(14, '1630650401.534640', 6.54, datetime.datetime(2021, 9, 6, 14, 56, 23), 'и')\n",
      "(14, '1630650401.534640', 13.47, datetime.datetime(2021, 9, 6, 14, 56, 23), 'и')\n",
      "(14, '1630650401.534640', 18.54, datetime.datetime(2021, 9, 6, 14, 56, 23), 'и')\n",
      "(14, '1630650401.534640', 24.39, datetime.datetime(2021, 9, 6, 14, 56, 23), 'э')\n",
      "(14, '1630650401.534640', 30.39, datetime.datetime(2021, 9, 6, 14, 56, 23), 'э')\n",
      "(14, '1630650491.534701', 0.06, datetime.datetime(2021, 9, 6, 14, 56, 33), 'и')\n",
      "(14, '1630650491.534701', 9.63, datetime.datetime(2021, 9, 6, 14, 56, 33), 'алло')\n",
      "(14, '1630650491.534701', 13.05, datetime.datetime(2021, 9, 6, 14, 56, 33), 'ап а чё не')\n",
      "(14, '1630650491.534701', 18.69, datetime.datetime(2021, 9, 6, 14, 56, 33), 'да да да да да да был такой и был')\n",
      "(14, '1630650491.534701', 29.52, datetime.datetime(2021, 9, 6, 14, 56, 33), 'но я претензий не имею мне сегодня до трёх не в три часа к врачу на')\n",
      "(14, '1630650491.534701', 37.89, datetime.datetime(2021, 9, 6, 14, 56, 33), 'и')\n",
      "(14, '1630650491.534701', 40.8, datetime.datetime(2021, 9, 6, 14, 56, 33), 'ну хоть предупредить чтобы я никак дурочка не торчала одна')\n",
      "(14, '1630650491.534701', 45.3, datetime.datetime(2021, 9, 6, 14, 56, 33), 'одна')\n",
      "(14, '1630650491.534701', 50.49, datetime.datetime(2021, 9, 6, 14, 56, 33), 'но если сегодня не сможете давайте в субботу')\n",
      "(14, '1630650491.534701', 60.10782, datetime.datetime(2021, 9, 6, 14, 56, 33), 'у меня ведь сечёт у меня клюёт понимаете')\n",
      "(14, '1630650491.534701', 66.96, datetime.datetime(2021, 9, 6, 14, 56, 33), 'может быть сегодня все таки как-нибудь вырветесь а хоть как-нибудь')\n",
      "(14, '1630650491.534701', 88.59, datetime.datetime(2021, 9, 6, 14, 56, 33), 'ну есть у вас такое состояние туда там я переболел я знаю какая тяжёлая штука')\n",
      "(14, '1630650491.534701', 104.01, datetime.datetime(2021, 9, 6, 14, 56, 33), 'ну поняла поняла')\n",
      "(14, '1630650491.534701', 109.62, datetime.datetime(2021, 9, 6, 14, 56, 33), 'вот у меня такой день блин получился тож вчера неудачный')\n",
      "(14, '1630650491.534701', 120.3, datetime.datetime(2021, 9, 6, 14, 56, 33), 'попробуйте и сегодня никто не поедет тогда уж буду ждать суббота воскресенье да от какой день но вы предупредите меня потом в какое время когда')\n",
      "(14, '1630650491.534701', 132.434194, datetime.datetime(2021, 9, 6, 14, 56, 33), 'а')\n",
      "(14, '1630650491.534701', 135.72, datetime.datetime(2021, 9, 6, 14, 56, 33), 'хорошо')\n",
      "(14, '1630650617.534768', 0.06, datetime.datetime(2021, 9, 6, 14, 57, 23), 'и')\n",
      "(14, '1630650617.534768', 19.02, datetime.datetime(2021, 9, 6, 14, 57, 23), 'а гоша')\n",
      "(14, '1630650617.534768', 26.25, datetime.datetime(2021, 9, 6, 14, 57, 23), 'да а я вчера ручки у меня сломать')\n",
      "(14, '1630650617.534768', 42.63, datetime.datetime(2021, 9, 6, 14, 57, 23), 'ну в смысле сколько сколько за день два')\n",
      "(14, '1630650617.534768', 59.28, datetime.datetime(2021, 9, 6, 14, 57, 23), 'ну я в хорошо постеры')\n",
      "(14, '1630650683.534809', 0.06, datetime.datetime(2021, 9, 6, 14, 57, 43), 'и')\n",
      "(14, '1630650683.534809', 21.06, datetime.datetime(2021, 9, 6, 14, 57, 43), 'ага')\n",
      "(15, '1630650705.534827', 0.0, datetime.datetime(2021, 9, 6, 14, 56, 19), '')\n",
      "(15, '1630650735.534862', 15.0, datetime.datetime(2021, 9, 6, 14, 56, 29), 'я')\n",
      "(15, '1630650735.534862', 15.24, datetime.datetime(2021, 9, 6, 14, 56, 29), 'за день сервиса мастер сергей')\n",
      "(15, '1630650735.534862', 20.46, datetime.datetime(2021, 9, 6, 14, 56, 29), 'добрый день единая служба сервиса мастер сергей')\n",
      "(15, '1630650735.534862', 27.0, datetime.datetime(2021, 9, 6, 14, 56, 29), 'хорошо слушаю вас что вам нужно сделать')\n",
      "(15, '1630650735.534862', 35.4, datetime.datetime(2021, 9, 6, 14, 56, 29), 'а')\n",
      "(15, '1630650735.534862', 35.52, datetime.datetime(2021, 9, 6, 14, 56, 29), 'да')\n",
      "(15, '1630650735.534862', 46.77, datetime.datetime(2021, 9, 6, 14, 56, 29), 'столько лет к этому')\n",
      "(15, '1630650735.534862', 49.92, datetime.datetime(2021, 9, 6, 14, 56, 29), 'действительно да')\n",
      "(15, '1630650735.534862', 54.27, datetime.datetime(2021, 9, 6, 14, 56, 29), 'понятно')\n",
      "(15, '1630650735.534862', 57.81, datetime.datetime(2021, 9, 6, 14, 56, 29), 'можно попробовать отремонтировать но скорее всего я вам предлагаю приобрести и я вам его у меня')\n",
      "(15, '1630650735.534862', 70.2, datetime.datetime(2021, 9, 6, 14, 56, 29), 'понятно ну в воскресенье я вам приеду в воскресенье')\n",
      "(15, '1630650735.534862', 76.29, datetime.datetime(2021, 9, 6, 14, 56, 29), 'во второй половине дня')\n",
      "(15, '1630650735.534862', 81.84, datetime.datetime(2021, 9, 6, 14, 56, 29), 'ну где-то примерно рассчитывайте')\n",
      "(15, '1630650735.534862', 84.48, datetime.datetime(2021, 9, 6, 14, 56, 29), 'два часа два')\n",
      "(15, '1630650735.534862', 88.05, datetime.datetime(2021, 9, 6, 14, 56, 29), 'да')\n",
      "(15, '1630650735.534862', 89.52, datetime.datetime(2021, 9, 6, 14, 56, 29), 'переменам')\n",
      "(15, '1630650735.534862', 93.18, datetime.datetime(2021, 9, 6, 14, 56, 29), 'да я как буду приезжать')\n",
      "(15, '1630650735.534862', 96.09687, datetime.datetime(2021, 9, 6, 14, 56, 29), 'у меня метро калужская калужская буду выпить я наберу')\n",
      "(15, '1630650735.534862', 100.77, datetime.datetime(2021, 9, 6, 14, 56, 29), 'но')\n",
      "(15, '1630650767.534930', 0.0, datetime.datetime(2021, 9, 6, 14, 57, 11), '')\n",
      "(15, '1630650834.534984', 12.72, datetime.datetime(2021, 9, 6, 14, 57, 18), 'или мой добрый')\n",
      "(15, '1630650834.534984', 15.36, datetime.datetime(2021, 9, 6, 14, 57, 18), 'а я могу к вам подъехать гдето вот промежуток наверное двенадцать час то есть вот приблизительно получится пораньше')\n",
      "(15, '1630650834.534984', 23.34, datetime.datetime(2021, 9, 6, 14, 57, 18), 'а вы дома все замечательные сынком')\n",
      "(15, '1630650834.534984', 28.59, datetime.datetime(2021, 9, 6, 14, 57, 18), 'не ну не у меня вот заявка как раз ты потом летом к вам чтобы вот а потом опять у меня заряд поэтому я хочу вот в этот вот промежуточек от роста')\n",
      "(15, '1630650834.534984', 37.98, datetime.datetime(2021, 9, 6, 14, 57, 18), 'не не ориентировочно где-то в районе там двенадцатый час то есть вот плюс-минус вот в этот промежуток')\n",
      "(15, '1630650834.534984', 45.78, datetime.datetime(2021, 9, 6, 14, 57, 18), 'все отлично спасибо')\n",
      "(15, '1630650834.534984', 53.07, datetime.datetime(2021, 9, 6, 14, 57, 18), 'а давайте сразу тогда по адресу пробежимся значит большая академическая восемь и три квартира')\n",
      "(15, '1630650834.534984', 60.21, datetime.datetime(2021, 9, 6, 14, 57, 18), 'триста третий этаж')\n",
      "(15, '1630650834.534984', 63.72, datetime.datetime(2021, 9, 6, 14, 57, 18), 'ещё раз агрессия третья а')\n",
      "(15, '1630650834.534984', 68.28, datetime.datetime(2021, 9, 6, 14, 57, 18), 'подъезд и этаж')\n",
      "(16, '1630650705.534827', 0.06, datetime.datetime(2021, 9, 6, 14, 56, 19), 'и')\n",
      "(16, '1630650705.534827', 6.54, datetime.datetime(2021, 9, 6, 14, 56, 19), 'и')\n",
      "(16, '1630650705.534827', 13.47, datetime.datetime(2021, 9, 6, 14, 56, 19), 'и')\n",
      "(16, '1630650705.534827', 18.54, datetime.datetime(2021, 9, 6, 14, 56, 19), 'и')\n",
      "(16, '1630650705.534827', 24.39, datetime.datetime(2021, 9, 6, 14, 56, 19), 'э')\n",
      "(16, '1630650705.534827', 30.39, datetime.datetime(2021, 9, 6, 14, 56, 19), 'э')\n",
      "(16, '1630650735.534862', 0.06, datetime.datetime(2021, 9, 6, 14, 56, 29), 'и')\n",
      "(16, '1630650735.534862', 13.68, datetime.datetime(2021, 9, 6, 14, 56, 29), 'она здравствуйте')\n",
      "(16, '1630650735.534862', 18.6, datetime.datetime(2021, 9, 6, 14, 56, 29), 'и что что было ещё раз')\n",
      "(16, '1630650735.534862', 23.1, datetime.datetime(2021, 9, 6, 14, 56, 29), 'аль сергей здравствуйте я тоже сергей')\n",
      "(16, '1630650735.534862', 30.45, datetime.datetime(2021, 9, 6, 14, 56, 29), 'лося средоточье с у меня на кухне из отсюда однорукий храм')\n",
      "(16, '1630650735.534862', 36.42, datetime.datetime(2021, 9, 6, 14, 56, 29), 'да и вот-вот когда вы подымаешь его там вот это вот как шарик и какую-то да будет песенка появился этот под оттуда когда то вода течёт оттуда ещё подкапывают')\n",
      "(16, '1630650735.534862', 48.84, datetime.datetime(2021, 9, 6, 14, 56, 29), 'крану')\n",
      "(16, '1630650735.534862', 51.27, datetime.datetime(2021, 9, 6, 14, 56, 29), 'а люди десять наверно')\n",
      "(16, '1630650735.534862', 65.01, datetime.datetime(2021, 9, 6, 14, 56, 29), 'не ты')\n",
      "(16, '1630650735.534862', 66.69, datetime.datetime(2021, 9, 6, 14, 56, 29), 'нет вы уж сами приобретите я не знаю какой')\n",
      "(16, '1630650735.534862', 78.36, datetime.datetime(2021, 9, 6, 14, 56, 29), 'это примерно во второй половине во сколько')\n",
      "(16, '1630650735.534862', 86.34, datetime.datetime(2021, 9, 6, 14, 56, 29), 'в воскресенье в два часа в два в два часа вы ещё позвоните да')\n",
      "(16, '1630650735.534862', 100.56, datetime.datetime(2021, 9, 6, 14, 56, 29), 'да ну')\n",
      "(16, '1630650767.534930', 0.06, datetime.datetime(2021, 9, 6, 14, 57, 11), 'и')\n",
      "(16, '1630650767.534930', 23.55, datetime.datetime(2021, 9, 6, 14, 57, 11), 'и')\n",
      "(16, '1630650834.534984', 0.06, datetime.datetime(2021, 9, 6, 14, 57, 19), 'и')\n",
      "(16, '1630650834.534984', 11.34, datetime.datetime(2021, 9, 6, 14, 57, 19), 'а-ля')\n",
      "(16, '1630650834.534984', 14.31, datetime.datetime(2021, 9, 6, 14, 57, 19), 'здравствуйте')\n",
      "(16, '1630650834.534984', 21.15, datetime.datetime(2021, 9, 6, 14, 57, 19), 'да можно кажеш я я дома')\n",
      "(16, '1630650834.534984', 24.81, datetime.datetime(2021, 9, 6, 14, 57, 19), 'я дома можете в любое время хоть сейчас')\n",
      "(16, '1630650834.534984', 35.07, datetime.datetime(2021, 9, 6, 14, 57, 19), 'а ну хорошо')\n",
      "(16, '1630650834.534984', 36.57, datetime.datetime(2021, 9, 6, 14, 57, 19), 'сейчас сейчас да до двух да')\n",
      "(16, '1630650834.534984', 41.85, datetime.datetime(2021, 9, 6, 14, 57, 19), 'а двенадцать сейчас хорошо просто хорошо я дома это самая кодовый замок работает в рост я из дач приехала и уже забыла работает кодовый замок вы как')\n",
      "(16, '1630650834.534984', 58.35, datetime.datetime(2021, 9, 6, 14, 57, 19), 'двести третья')\n",
      "(16, '1630650834.534984', 61.47, datetime.datetime(2021, 9, 6, 14, 57, 19), 'двести третья двести')\n",
      "(16, '1630650834.534984', 65.76, datetime.datetime(2021, 9, 6, 14, 57, 19), 'двести третья')\n",
      "(16, '1630650834.534984', 68.7, datetime.datetime(2021, 9, 6, 14, 57, 19), 'подъезд')\n",
      "(16, '1630650834.534984', 71.22, datetime.datetime(2021, 9, 6, 14, 57, 19), 'шестой этаж')\n",
      "(17, '1630650251.534464', 12.09, datetime.datetime(2021, 9, 6, 14, 55, 19), 'а ну да забыл про то ваш мастер беспокоит')\n",
      "(17, '1630650251.534464', 15.57, datetime.datetime(2021, 9, 6, 14, 55, 19), 'так ну давайте с трёх до пяти буду вас сегодня хорошо')\n",
      "(17, '1630650251.534464', 23.67, datetime.datetime(2021, 9, 6, 14, 55, 19), 'ну да я на месте ремонтирую')\n",
      "(17, '1630650251.534464', 30.27, datetime.datetime(2021, 9, 6, 14, 55, 19), 'ну да')\n",
      "(17, '1630650251.534464', 34.08, datetime.datetime(2021, 9, 6, 14, 55, 19), 'да это самая с давайте уточним адрес лепестка сорок квартира')\n",
      "(17, '1630650251.534464', 44.79, datetime.datetime(2021, 9, 6, 14, 55, 19), 'а подвижный таз хотя бы но подвес хотела')\n",
      "(17, '1630650251.534464', 51.51, datetime.datetime(2021, 9, 6, 14, 55, 19), 'а')\n",
      "(17, '1630650251.534464', 63.39, datetime.datetime(2021, 9, 6, 14, 55, 19), 'хорошо ещё спасибо понял')\n",
      "(17, '1630650251.534464', 66.51, datetime.datetime(2021, 9, 6, 14, 55, 19), 'понял понял')\n",
      "(17, '1630650251.534464', 68.43, datetime.datetime(2021, 9, 6, 14, 55, 19), 'хорошо')\n",
      "(17, '1630650251.534464', 77.97, datetime.datetime(2021, 9, 6, 14, 55, 19), 'а разберусь разберусь')\n",
      "(17, '1630650251.534464', 88.56, datetime.datetime(2021, 9, 6, 14, 55, 19), 'а')\n",
      "(17, '1630650251.534464', 92.82, datetime.datetime(2021, 9, 6, 14, 55, 19), 'постараюсь хорошо хорошо все договорились что человек')\n",
      "(17, '1630650251.534464', 98.07, datetime.datetime(2021, 9, 6, 14, 55, 19), 'да да')\n",
      "(17, '1630650293.534512', 14.73, datetime.datetime(2021, 9, 6, 14, 55, 51), 'доброе утро')\n",
      "(17, '1630650293.534512', 16.08, datetime.datetime(2021, 9, 6, 14, 55, 51), 'это компания айсберг по вашей заявке')\n",
      "(17, '1630650293.534512', 23.7, datetime.datetime(2021, 9, 6, 14, 55, 51), 'то кэти')\n",
      "(17, '1630650293.534512', 34.26, datetime.datetime(2021, 9, 6, 14, 55, 51), 'стаж трубы')\n",
      "(17, '1630650293.534512', 38.4, datetime.datetime(2021, 9, 6, 14, 55, 51), 'так двери три подраздел нужно вырезать')\n",
      "(17, '1630650293.534512', 49.53, datetime.datetime(2021, 9, 6, 14, 55, 51), 'ну да да да')\n",
      "(17, '1630650293.534512', 51.9, datetime.datetime(2021, 9, 6, 14, 55, 51), 'вести далеко или просто розетки чуть сдвигаются')\n",
      "(17, '1630650293.534512', 63.66, datetime.datetime(2021, 9, 6, 14, 55, 51), 'ввести от общего входа или просто некоторые розетки добавляет переставляет от тех что имеющаяся')\n",
      "(17, '1630650293.534512', 76.71, datetime.datetime(2021, 9, 6, 14, 55, 51), 'две-три они рядом должны быть или просто в разных местах просто пытаюсь понять не сколько столько сколько штробить')\n",
      "(17, '1630650293.534512', 87.24, datetime.datetime(2021, 9, 6, 14, 55, 51), 'но')\n",
      "(17, '1630650293.534512', 105.15, datetime.datetime(2021, 9, 6, 14, 55, 51), 'это не знаем в районе трёх печей')\n",
      "(17, '1630650293.534512', 108.72, datetime.datetime(2021, 9, 6, 14, 55, 51), 'точно вы точно уже на месте сколько струп конкретно и насколько далеко вести вот это все')\n",
      "(17, '1630650293.534512', 124.02, datetime.datetime(2021, 9, 6, 14, 55, 51), 'ну смотря сколько провода если не немного вести от ракеты там метр два то есть если сильно далеко вести от')\n",
      "(17, '1630650293.534512', 134.97, datetime.datetime(2021, 9, 6, 14, 55, 51), 'от входа')\n",
      "(17, '1630650293.534512', 142.95, datetime.datetime(2021, 9, 6, 14, 55, 51), 'тогда лучше купить его потому что пятиметровый продают')\n",
      "(17, '1630650293.534512', 150.81, datetime.datetime(2021, 9, 6, 14, 55, 51), 'ну да три дня тройной провод два с половиной сечения')\n",
      "(17, '1630650293.534512', 157.11, datetime.datetime(2021, 9, 6, 14, 55, 51), 'если что')\n",
      "(17, '1630650293.534512', 162.09, datetime.datetime(2021, 9, 6, 14, 55, 51), 'да алую лучше если в этом балу то здесь зелёные')\n",
      "(17, '1630650293.534512', 177.06, datetime.datetime(2021, 9, 6, 14, 55, 51), 'хорошо ладно')\n",
      "(17, '1630650293.534512', 179.85, datetime.datetime(2021, 9, 6, 14, 55, 51), 'до свидания')\n",
      "(17, '1630650305.534535', 0.0, datetime.datetime(2021, 9, 6, 14, 56, 52), '')\n",
      "(17, '1630650372.534599', 0.0, datetime.datetime(2021, 9, 6, 14, 57, 12), '')\n",
      "(17, '1630650452.534676', 1.02, datetime.datetime(2021, 9, 6, 14, 57, 21), 'в каждом из десяти')\n",
      "(17, '1630650452.534676', 5.968894, datetime.datetime(2021, 9, 6, 14, 57, 21), 'доброе утро это мастер по ремонту холодильников андрей меня зовут я буду у вас примерно с десяти до одиннадцати вот промежуток времени')\n",
      "(17, '1630650452.534676', 14.4, datetime.datetime(2021, 9, 6, 14, 57, 21), 'хорошо там машину можно поставить возле дома или надо там шлагбаум открывать')\n",
      "(17, '1630650572.534743', 0.0, datetime.datetime(2021, 9, 6, 14, 57, 34), '')\n",
      "(17, '1630650659.534796', 0.0, datetime.datetime(2021, 9, 6, 14, 57, 36), '')\n"
     ]
    }
   ],
   "source": [
    "# select\n",
    "cursor = server_object.conn.cursor()\n",
    "#sql_query = \"select * from perf_log;\"\n",
    "#sql_query = \"select top 10 filepath, filename, duration, source_id, \"\n",
    "#sql_query = \"select transcribation_date, linkedid, side, start, text \"\n",
    "sql_query = \"select cpu_id, linkedid, start, transcribation_date, text \"\n",
    "#sql_query += \"record_date, src, dst, linkedid from queue \"\n",
    "sql_query += \" from transcribations \"\n",
    "sql_query += \" where transcribation_date>'2021-09-06T14:55:00' \"\n",
    "sql_query += \" order by cpu_id, transcribation_date, linkedid, side, start;\"\n",
    "cursor.execute(sql_query)\n",
    "rows = []\n",
    "for row in cursor.fetchall():\n",
    "    print(row)\n",
    "    rows.append(row)"
   ]
  },
  {
   "cell_type": "code",
   "execution_count": 25,
   "metadata": {},
   "outputs": [
    {
     "name": "stdout",
     "output_type": "stream",
     "text": [
      "('audio/stereo/RXTX_2021-09/01/', 'in_74993566419_2021-09-01-08-16-36rxtx.wav', 0)\n",
      "('audio/stereo/RXTX_2021-09/01/', 'in_79168209597_2021-09-01-08-17-11rxtx.wav', 1)\n",
      "('audio/stereo/RXTX_2021-09/01/', 'in_79057461349_2021-09-01-08-19-41rxtx.wav', 2)\n",
      "('audio/stereo/RXTX_2021-09/01/', 'in_4953138091_2021-09-01-08-19-42rxtx.wav', 3)\n",
      "('audio/stereo/RXTX_2021-09/01/', 'in_78312813259_2021-09-01-08-19-44rxtx.wav', 4)\n",
      "('audio/stereo/RXTX_2021-09/01/', 'in_4957237230_2021-09-01-08-19-56rxtx.wav', 5)\n",
      "('audio/stereo/RXTX_2021-09/01/', 'in_74954120443_2021-09-01-08-20-30rxtx.wav', 6)\n",
      "('audio/stereo/RXTX_2021-09/01/', 'in_8127770011_2021-09-01-08-20-43rxtx.wav', 7)\n",
      "('audio/stereo/RXTX_2021-09/01/', 'in_8127770011_2021-09-01-08-21-13rxtx.wav', 8)\n",
      "('audio/stereo/RXTX_2021-09/01/', 'in_4954719677_2021-09-01-08-21-14rxtx.wav', 9)\n"
     ]
    }
   ],
   "source": [
    "# select\n",
    "cursor = server_object.conn.cursor()\n",
    "#sql_query = \"select * from perf_log;\"\n",
    "#sql_query = \"select top 10 filepath, filename, duration, source_id, \"\n",
    "sql_query = \"select top 10 filepath, filename, cpu_id \"\n",
    "#sql_query += \"record_date, src, dst, linkedid from queue \"\n",
    "sql_query += \" from queue \"\n",
    "#sql_query += \"where cpu_id='\"+str(server_object.cpu_id)+\"' \"\n",
    "sql_query += \"order by record_date, filename;\"\n",
    "cursor.execute(sql_query)\n",
    "rows = []\n",
    "for row in cursor.fetchall():\n",
    "    print(row)\n",
    "    rows.append(row)"
   ]
  },
  {
   "cell_type": "code",
   "execution_count": 10,
   "metadata": {},
   "outputs": [
    {
     "data": {
      "text/plain": [
       "1926"
      ]
     },
     "execution_count": 10,
     "metadata": {},
     "output_type": "execute_result"
    }
   ],
   "source": [
    "len(rows)"
   ]
  },
  {
   "cell_type": "code",
   "execution_count": 4,
   "metadata": {},
   "outputs": [],
   "source": [
    "server_object = stt_server(0)\n",
    "server_object.source_id = 2\n",
    "cursor = server_object.conn.cursor()"
   ]
  },
  {
   "cell_type": "code",
   "execution_count": 34,
   "metadata": {},
   "outputs": [],
   "source": [
    "# Delete from perf_log\n",
    "server_object = stt_server(0)\n",
    "sql_query = \"delete from perf_log;\"\n",
    "cursor = server_object.conn.cursor()\n",
    "cursor.execute(sql_query)\n",
    "server_object.conn.commit() # autocommit"
   ]
  },
  {
   "cell_type": "code",
   "execution_count": 75,
   "metadata": {},
   "outputs": [],
   "source": [
    "query = \"select event_date from perf_log where cores = 9 and event_date = '2021-03-05 14:49:12';\"\n",
    "cursor.execute(query)\n",
    "for row in cursor.fetchall():\n",
    "    print(row)"
   ]
  },
  {
   "cell_type": "code",
   "execution_count": 76,
   "metadata": {},
   "outputs": [],
   "source": [
    "server_object = stt_server(0)\n",
    "sql_query = \"delete from perf_log where cores = 9 and event_date = '2021-03-05 14:49:12';\"\n",
    "cursor = server_object.conn.cursor()\n",
    "#cursor.execute(sql_query)\n",
    "#server_object.conn.commit() # autocommit"
   ]
  },
  {
   "cell_type": "code",
   "execution_count": 58,
   "metadata": {},
   "outputs": [
    {
     "name": "stdout",
     "output_type": "stream",
     "text": [
      "(12.394242525100708, 41.14, '1614936540.2023716')\n"
     ]
    }
   ],
   "source": [
    "# select from perflog\n",
    "sql_query = \"select top 10 time, duration, linkedid from perf_log where step = 2;\"\n",
    "cursor.execute(sql_query)\n",
    "for row in cursor.fetchall():\n",
    "    print(row)"
   ]
  },
  {
   "cell_type": "code",
   "execution_count": 10,
   "metadata": {},
   "outputs": [
    {
     "name": "stdout",
     "output_type": "stream",
     "text": [
      "(440.6440496997757, 128.1874653626724, 9816)\n"
     ]
    }
   ],
   "source": [
    "# perf_log stat: transcribing\n",
    "sql_query = \"select avg(time), avg(duration), count(linkedid) from perf_log \"\n",
    "sql_query += \"where step = 1 and source_id = 1;\"\n",
    "cursor.execute(sql_query)\n",
    "for row in cursor.fetchall():\n",
    "    print(row)"
   ]
  },
  {
   "cell_type": "code",
   "execution_count": 45,
   "metadata": {},
   "outputs": [
    {
     "name": "stdout",
     "output_type": "stream",
     "text": [
      "(None, None, 0)\n"
     ]
    }
   ],
   "source": [
    "# perf_log stat: transcribing\n",
    "sql_query = \"select avg(time), avg(duration), count(linkedid) from perf_log \"\n",
    "sql_query += \"where step = 2 and source_id = 1;\"\n",
    "cursor.execute(sql_query)\n",
    "for row in cursor.fetchall():\n",
    "    print(row)"
   ]
  },
  {
   "cell_type": "code",
   "execution_count": 129,
   "metadata": {},
   "outputs": [
    {
     "name": "stdout",
     "output_type": "stream",
     "text": [
      "insert into perf_log(event_date, step, time, cpu, file_name, duration, linkedid, source_id) values ('2021-03-04 15:28:57', 2, 4, 0, '', '30', '9879.378429', '2');\n"
     ]
    }
   ],
   "source": [
    "# insert func\n",
    "server_object.perf_log(2, 4, 30, '9879.378429')"
   ]
  },
  {
   "cell_type": "code",
   "execution_count": 29,
   "metadata": {},
   "outputs": [],
   "source": [
    "import time"
   ]
  },
  {
   "cell_type": "code",
   "execution_count": 32,
   "metadata": {},
   "outputs": [
    {
     "data": {
      "text/plain": [
       "('ms', 2)"
      ]
     },
     "execution_count": 32,
     "metadata": {},
     "output_type": "execute_result"
    }
   ],
   "source": [
    "trans_start = datetime.datetime.now()\n",
    "time.sleep(2.5)\n",
    "trans_end = datetime.datetime.now()\n",
    "trans_diff_ms = (trans_end - trans_start)#.microseconds / 1000000\n",
    "'ms', trans_diff_ms.seconds# + trans_diff_ms.microseconds / 1000000b"
   ]
  },
  {
   "cell_type": "code",
   "execution_count": 38,
   "metadata": {},
   "outputs": [
    {
     "name": "stdout",
     "output_type": "stream",
     "text": [
      "1.3016088008880615\n"
     ]
    }
   ],
   "source": [
    "import time\n",
    "start = time.time()\n",
    "\n",
    "time.sleep(1.3)  # or do something more productive\n",
    "\n",
    "done = time.time()\n",
    "elapsed = done - start\n",
    "print(elapsed)"
   ]
  },
  {
   "cell_type": "markdown",
   "metadata": {},
   "source": [
    "### last transcribed"
   ]
  },
  {
   "cell_type": "code",
   "execution_count": null,
   "metadata": {},
   "outputs": [],
   "source": [
    "server_object = stt_server(0)\n",
    "server_object.source_id = 2\n",
    "\n",
    "cursor = server_object.conn.cursor()\n",
    "\n",
    "#sql_query = \"select audio_file_name, linkedid, record_date, start, side, text from transcribations where source_id = '2' order by record_date, start, side;\"\n",
    "sql_query = \"select top 4 linkedid, transcribation_date, record_date, audio_file_name from transcribations \"\n",
    "sql_query += \"where linkedid = '1614577576.20753637'\"\n",
    "#sql_query += \"where source_id = '2' and \"\n",
    "#sql_query += \"transcribation_date<'2021-02-15 12:00:00' \"\n",
    "sql_query += \"order by record_date desc, start desc;\"\n",
    "cursor.execute(sql_query)\n",
    "for row in cursor.fetchall():\n",
    "    print(row)"
   ]
  },
  {
   "cell_type": "markdown",
   "metadata": {},
   "source": [
    "### date repair"
   ]
  },
  {
   "cell_type": "code",
   "execution_count": null,
   "metadata": {},
   "outputs": [],
   "source": []
  },
  {
   "cell_type": "markdown",
   "metadata": {},
   "source": [
    "### check date cdr"
   ]
  },
  {
   "cell_type": "code",
   "execution_count": null,
   "metadata": {},
   "outputs": [],
   "source": []
  },
  {
   "cell_type": "code",
   "execution_count": null,
   "metadata": {},
   "outputs": [],
   "source": [
    "uniqueid = '1612432458.1443773'\n",
    "cursor = server_object.mysql_conn[server_object.source_id].cursor()\n",
    "query = \"select calldate from cdr where uniqueid = '\"+uniqueid+\"' limit 1;\"\n",
    "cursor.execute(query)\n",
    "for row in cursor.fetchall():\n",
    "    #rec_date = str(row[0])\n",
    "    print(row[0])"
   ]
  },
  {
   "cell_type": "markdown",
   "metadata": {},
   "source": [
    "### file list 1"
   ]
  },
  {
   "cell_type": "code",
   "execution_count": null,
   "metadata": {},
   "outputs": [],
   "source": [
    "server_object = stt_server(0)\n",
    "server_object.source_id = 1"
   ]
  },
  {
   "cell_type": "code",
   "execution_count": null,
   "metadata": {},
   "outputs": [],
   "source": [
    "complete_files = server_object.get_sql_complete_files()\n",
    "len(complete_files)"
   ]
  },
  {
   "cell_type": "code",
   "execution_count": null,
   "metadata": {},
   "outputs": [],
   "source": [
    "new_files = server_object.get_fs_files_list(complete_files)\n",
    "len(new_files)"
   ]
  },
  {
   "cell_type": "code",
   "execution_count": null,
   "metadata": {},
   "outputs": [],
   "source": [
    "new_files[0]"
   ]
  },
  {
   "cell_type": "markdown",
   "metadata": {},
   "source": [
    "### file list 2"
   ]
  },
  {
   "cell_type": "code",
   "execution_count": null,
   "metadata": {},
   "outputs": [],
   "source": [
    "server_object = stt_server(0)\n",
    "server_object.source_id = 2"
   ]
  },
  {
   "cell_type": "code",
   "execution_count": null,
   "metadata": {},
   "outputs": [],
   "source": [
    "complete_files_2 = server_object.get_sql_complete_files()\n",
    "len(complete_files_2)"
   ]
  },
  {
   "cell_type": "code",
   "execution_count": null,
   "metadata": {},
   "outputs": [],
   "source": [
    "new_files_2 = server_object.get_fs_files_list(complete_files_2)\n",
    "len(new_files_2)"
   ]
  },
  {
   "cell_type": "code",
   "execution_count": null,
   "metadata": {},
   "outputs": [],
   "source": [
    "new_files_2[0]"
   ]
  },
  {
   "cell_type": "markdown",
   "metadata": {},
   "source": [
    "### next"
   ]
  },
  {
   "cell_type": "code",
   "execution_count": null,
   "metadata": {},
   "outputs": [],
   "source": [
    "def find_files(catalog):\n",
    "    fd_list = []\n",
    "    for root, dirs, files in os.walk(catalog):        \n",
    "        #find_files += [os.path.join(root, name) for name in files if name[-4:] == '.wav'] \n",
    "        for filename in files:\n",
    "            if filename[-4:] == '.wav':\n",
    "                #print(filename)\n",
    "                rec_source_date = re.findall(r'\\d{4}-\\d{2}-\\d{2}-\\d{2}-\\d{2}-\\d{2}', filename)\n",
    "                if len(rec_source_date) and len(rec_source_date[0]):\n",
    "                    rec_date = rec_source_date[0][:10] + ' ' + rec_source_date[0][11:].replace('-', ':')\n",
    "                    \n",
    "                    if len(re.findall(r'\\d{4}-\\d{2}-\\d{2} \\d{2}:\\d{2}:\\d{2}', rec_date)) == 0:\n",
    "                        rec_date = 'Null'\n",
    "                        print('0 Unable to extract date:', root, filename)\n",
    "\n",
    "                    fd_list.append({\n",
    "                        'filepath': root,\n",
    "                        'filename': filename,\n",
    "                        'rec_date': rec_date\n",
    "                    })\n",
    "                else:\n",
    "                    print('1 Unable to extract date:', root, filename)\n",
    "    return fd_list"
   ]
  },
  {
   "cell_type": "code",
   "execution_count": null,
   "metadata": {},
   "outputs": [],
   "source": [
    "fs_list = find_files(server_object.original_storage_path[server_object.source_id])\n",
    "len(fs_list), fs_list[0]"
   ]
  },
  {
   "cell_type": "markdown",
   "metadata": {},
   "source": [
    "### remove complete files"
   ]
  },
  {
   "cell_type": "code",
   "execution_count": null,
   "metadata": {},
   "outputs": [],
   "source": [
    "transcribed = []\n",
    "server_object = stt_server(0)\n",
    "server_object.source_id = 1\n",
    "cursor = server_object.conn.cursor()\n",
    "sql_query = \"select distinct audio_file_name as filename, date_y, date_m, date_d\"\n",
    "sql_query += \" from transcribations where source_id=1;\"\n",
    "cursor.execute(sql_query)\n",
    "for row in cursor.fetchall():\n",
    "    transcribed.append({\n",
    "                'filename': row[0],\n",
    "                'date_y': row[1],\n",
    "                'date_m': row[2],\n",
    "                'date_d': row[3],\n",
    "            })\n",
    "len(transcribed), transcribed[0]"
   ]
  },
  {
   "cell_type": "code",
   "execution_count": null,
   "metadata": {},
   "outputs": [],
   "source": [
    "full_path = server_object.original_storage_path[1]\n",
    "full_path += 'RXTX_' + transcribed[0]['date_y']\n",
    "full_path += '-' + transcribed[0]['date_m'] + '/'\n",
    "full_path += transcribed[0]['date_d'] + '/'\n",
    "full_path += transcribed[0]['filename']\n",
    "os.path.isfile(full_path), full_path"
   ]
  },
  {
   "cell_type": "markdown",
   "metadata": {},
   "source": [
    "# end"
   ]
  },
  {
   "cell_type": "code",
   "execution_count": null,
   "metadata": {},
   "outputs": [],
   "source": [
    "server_object = stt_server(0)\n",
    "server_object.set_today_ymd()\n",
    "for source_id in server_object.sources: # ['call', 'master']\n",
    "    #server_object.source_id = server_object.sources['call']\n",
    "    server_object.source_id = server_object.get_source_id(source_id)\n",
    "    complete_files\t= server_object.get_sql_complete_files()\n",
    "    incomplete_count = 0\n",
    "    complete_count = 0\n",
    "    print('server_object.source_id', server_object.source_id)\n",
    "    for filename, rec_date in server_object.get_fs_files_list():\n",
    "        print(filename, rec_date)\n",
    "    break"
   ]
  },
  {
   "cell_type": "code",
   "execution_count": 10,
   "metadata": {},
   "outputs": [
    {
     "data": {
      "text/plain": [
       "'hi\\\\'"
      ]
     },
     "execution_count": 10,
     "metadata": {},
     "output_type": "execute_result"
    }
   ],
   "source": [
    "'hi' + chr(92)"
   ]
  },
  {
   "cell_type": "code",
   "execution_count": null,
   "metadata": {},
   "outputs": [],
   "source": [
    "complete_files"
   ]
  },
  {
   "cell_type": "code",
   "execution_count": null,
   "metadata": {},
   "outputs": [],
   "source": [
    "server_object = stt_server(0)\n",
    "server_object.source_id = 2\n",
    "fd_list = server_object.get_fs_files_list()\n",
    "len(fd_list)"
   ]
  },
  {
   "cell_type": "code",
   "execution_count": null,
   "metadata": {},
   "outputs": [],
   "source": [
    "fd_list[0]"
   ]
  },
  {
   "cell_type": "code",
   "execution_count": null,
   "metadata": {},
   "outputs": [],
   "source": [
    "df = pd.DataFrame(fd_list)\n",
    "df.sort_values(['rec_date', 'filename'], ascending=False, inplace=True)"
   ]
  },
  {
   "cell_type": "code",
   "execution_count": null,
   "metadata": {},
   "outputs": [],
   "source": [
    "#df[df.rec_date=='Null']\n",
    "for f,d in df.values:\n",
    "    print(f,d)\n",
    "    break"
   ]
  },
  {
   "cell_type": "code",
   "execution_count": null,
   "metadata": {},
   "outputs": [],
   "source": [
    "filename = '1612946589.1564912-in.wav'\n",
    "uniqueid = re.findall(r'^\\d*.\\d*', filename)[0]\n",
    "uniqueid"
   ]
  },
  {
   "cell_type": "code",
   "execution_count": null,
   "metadata": {},
   "outputs": [],
   "source": [
    "cursor = server_object.mysql_conn[server_object.source_id].cursor()\n",
    "query = \"select calldate from cdr where uniqueid = '\"+uniqueid+\"' limit 1;\"\n",
    "cursor.execute(query)\n",
    "for row in cursor.fetchall():\n",
    "    #rec_date = str(row[0])\n",
    "    print(row[0])"
   ]
  },
  {
   "cell_type": "code",
   "execution_count": null,
   "metadata": {},
   "outputs": [],
   "source": [
    "def get_source_id(source_name):\n",
    "    for source in server_object.sources.items():\n",
    "        if source[0] == source_name:\n",
    "            return source[1]\n",
    "    return 0\n",
    "get_source_id('master')"
   ]
  },
  {
   "cell_type": "code",
   "execution_count": null,
   "metadata": {},
   "outputs": [],
   "source": [
    "server_object.rec_date = 'Null'\n",
    "filename = 'in_4957237230_2021-02-10-07-16-03rxtx.wav'\n",
    "rec_source_date = re.findall(r'\\d{4}-\\d{2}-\\d{2}-\\d{2}-\\d{2}-\\d{2}', filename)[0]                \n",
    "if len(rec_source_date):\n",
    "    server_object.rec_date = rec_source_date[:10] + ' ' + rec_source_date[11:].replace('-', ':')\n",
    "if len(re.findall(r'\\d{4}-\\d{2}-\\d{2} \\d{2}:\\d{2}:\\d{2}', server_object.rec_date)) == 0:\n",
    "    print('Unable to extract date from filename', filename)\n",
    "server_object.rec_date"
   ]
  },
  {
   "cell_type": "code",
   "execution_count": null,
   "metadata": {},
   "outputs": [],
   "source": [
    "rec_source_date"
   ]
  },
  {
   "cell_type": "code",
   "execution_count": null,
   "metadata": {},
   "outputs": [],
   "source": [
    "server_object.rec_date"
   ]
  },
  {
   "cell_type": "code",
   "execution_count": null,
   "metadata": {},
   "outputs": [],
   "source": [
    "re.findall(r'\\d{4}-\\d{2}-\\d{2} \\d{2}:\\d{2}:\\d{2}', server_object.rec_date)"
   ]
  },
  {
   "cell_type": "code",
   "execution_count": null,
   "metadata": {},
   "outputs": [],
   "source": [
    "for source_id in server_object.sources:\n",
    "    print(get_source_id(source_id))"
   ]
  },
  {
   "cell_type": "code",
   "execution_count": 4,
   "metadata": {},
   "outputs": [],
   "source": [
    "server_object = stt_server(0)\n",
    "server_object.source_id = 1"
   ]
  },
  {
   "cell_type": "code",
   "execution_count": null,
   "metadata": {},
   "outputs": [],
   "source": [
    "files = server_object.get_fs_files_list()\n",
    "len(files), files[0]"
   ]
  },
  {
   "cell_type": "code",
   "execution_count": null,
   "metadata": {},
   "outputs": [],
   "source": [
    "files"
   ]
  },
  {
   "cell_type": "code",
   "execution_count": null,
   "metadata": {},
   "outputs": [],
   "source": [
    "complete = server_object.get_sql_complete_files()\n",
    "len(complete)"
   ]
  },
  {
   "cell_type": "markdown",
   "metadata": {},
   "source": [
    "### transcribations show columns"
   ]
  },
  {
   "cell_type": "code",
   "execution_count": null,
   "metadata": {},
   "outputs": [],
   "source": [
    "cursor = server_object.conn.cursor()\n",
    "query = \"SELECT column_name FROM information_schema.columns WHERE table_name='transcribations';\"\n",
    "cursor.execute(query)\n",
    "for row in cursor.fetchall():\n",
    "        print(row)"
   ]
  },
  {
   "cell_type": "markdown",
   "metadata": {},
   "source": [
    "### PT1C_cdr_MICO show columns"
   ]
  },
  {
   "cell_type": "code",
   "execution_count": null,
   "metadata": {},
   "outputs": [],
   "source": [
    "cursor = server_object.mysql_conn[1].cursor()\n",
    "query = \"SELECT column_name FROM information_schema.columns WHERE table_name='PT1C_cdr_MICO';\"\n",
    "cursor.execute(query)\n",
    "for row in cursor.fetchall():\n",
    "        print(row)"
   ]
  },
  {
   "cell_type": "markdown",
   "metadata": {},
   "source": [
    "### tables"
   ]
  },
  {
   "cell_type": "code",
   "execution_count": null,
   "metadata": {},
   "outputs": [],
   "source": [
    "cursor = server_object.mysql_conn[1].cursor()\n",
    "query = \"show tables;\"\n",
    "cursor.execute(query)\n",
    "for row in cursor.fetchall():\n",
    "        print(row)"
   ]
  },
  {
   "cell_type": "markdown",
   "metadata": {},
   "source": [
    "### cel columns"
   ]
  },
  {
   "cell_type": "code",
   "execution_count": null,
   "metadata": {},
   "outputs": [],
   "source": [
    "cursor = server_object.mysql_conn[1].cursor()\n",
    "query = \"SELECT column_name FROM information_schema.columns WHERE table_name='cel';\"\n",
    "cursor.execute(query)\n",
    "for row in cursor.fetchall():\n",
    "        print(row)"
   ]
  },
  {
   "cell_type": "code",
   "execution_count": null,
   "metadata": {},
   "outputs": [],
   "source": [
    "cursor = server_object.mysql_conn[1].cursor()\n",
    "uniqueid = '1613647500.1738521'\n",
    "query = \"select calldate, src, dst from cdr where uniqueid = '\" + uniqueid + \"' limit 1;\"\n",
    "cursor.execute(sql_query)\n",
    "for row in cursor.fetchall():\n",
    "    print(row)"
   ]
  },
  {
   "cell_type": "markdown",
   "metadata": {},
   "source": [
    "### select from cel"
   ]
  },
  {
   "cell_type": "code",
   "execution_count": null,
   "metadata": {},
   "outputs": [],
   "source": [
    "cursor = server_object.mysql_conn[1].cursor()\n",
    "\n",
    "sql_query = \"select * from cel where linkedid = '1613049028.1603159';\"\n",
    "cursor.execute(sql_query)\n",
    "for row in cursor.fetchall():\n",
    "    print(row)"
   ]
  },
  {
   "cell_type": "markdown",
   "metadata": {},
   "source": [
    "### queue show columns"
   ]
  },
  {
   "cell_type": "code",
   "execution_count": 77,
   "metadata": {},
   "outputs": [
    {
     "name": "stdout",
     "output_type": "stream",
     "text": [
      "('date',)\n",
      "('cpu_id',)\n",
      "('filepath',)\n",
      "('date_y',)\n",
      "('date_m',)\n",
      "('date_d',)\n",
      "('filename',)\n",
      "('duration',)\n",
      "('record_date',)\n",
      "('source_id',)\n",
      "('src',)\n",
      "('dst',)\n",
      "('linkedid',)\n"
     ]
    }
   ],
   "source": [
    "cursor = server_object.conn.cursor()\n",
    "query = \"SELECT column_name FROM information_schema.columns WHERE table_name='queue';\"\n",
    "cursor.execute(query)\n",
    "for row in cursor.fetchall():\n",
    "        print(row)"
   ]
  },
  {
   "cell_type": "markdown",
   "metadata": {},
   "source": [
    "### transcribations show columns"
   ]
  },
  {
   "cell_type": "code",
   "execution_count": 5,
   "metadata": {},
   "outputs": [
    {
     "name": "stdout",
     "output_type": "stream",
     "text": [
      "('transcribation_date',)\n",
      "('date_y',)\n",
      "('date_m',)\n",
      "('date_d',)\n",
      "('side',)\n",
      "('text',)\n",
      "('start',)\n",
      "('audio_file_name',)\n",
      "('conf',)\n",
      "('end_time',)\n",
      "('sentiment',)\n",
      "('sentiment_pos',)\n",
      "('sentiment_neg',)\n",
      "('ID',)\n",
      "('linkedid',)\n",
      "('dst',)\n",
      "('record_date',)\n",
      "('source_id',)\n",
      "('src',)\n",
      "('cpu_id',)\n",
      "('duration',)\n"
     ]
    }
   ],
   "source": [
    "cursor = server_object.conn.cursor()\n",
    "query = \"SELECT colu1amn_name FROM information_schema.columns WHERE table_name='transcribations';\"\n",
    "cursor.execute(query)\n",
    "for row in cursor.fetchall():\n",
    "        print(row)"
   ]
  },
  {
   "cell_type": "markdown",
   "metadata": {},
   "source": [
    "### transcribed phrases"
   ]
  },
  {
   "cell_type": "code",
   "execution_count": null,
   "metadata": {
    "scrolled": true
   },
   "outputs": [],
   "source": [
    "server_object = stt_server(0)\n",
    "server_object.source_id = 2\n",
    "\n",
    "cursor = server_object.conn.cursor()\n",
    "\n",
    "#sql_query = \"select audio_file_name, linkedid, record_date, start, side, text from transcribations where source_id = '2' order by record_date, start, side;\"\n",
    "sql_query = \"select top 4 conf, src, dst, audio_file_name, side, record_date from transcribations where source_id = '2' group by conf, src, dst, audio_file_name, side, record_date order by record_date desc;\"\n",
    "cursor.execute(sql_query)\n",
    "for row in cursor.fetchall():\n",
    "    print(row)"
   ]
  },
  {
   "cell_type": "code",
   "execution_count": null,
   "metadata": {},
   "outputs": [],
   "source": [
    "cursor = server_object.conn.cursor()\n",
    "\n",
    "sql_query = \"select start, side, src, dst, text from transcribations where linkedid = '1613049028.1603159'\"\n",
    "sql_query += \" order by start, side;\"\n",
    "cursor.execute(sql_query)\n",
    "for row in cursor.fetchall():\n",
    "    print(row)"
   ]
  },
  {
   "cell_type": "markdown",
   "metadata": {},
   "source": [
    "### phrases frequency"
   ]
  },
  {
   "cell_type": "code",
   "execution_count": 79,
   "metadata": {},
   "outputs": [
    {
     "name": "stdout",
     "output_type": "stream",
     "text": [
      "(4, 1, 7)\n",
      "(2, 11, 7)\n",
      "(9, 12, 7)\n",
      "(1, 13, 7)\n",
      "(1, 14, 7)\n",
      "(2, 15, 7)\n",
      "(2, 2, 8)\n",
      "(1, 3, 8)\n",
      "(2, 4, 8)\n",
      "(12, 5, 8)\n",
      "(5, 10, 8)\n",
      "(17, 12, 8)\n",
      "(2, 13, 8)\n",
      "(3, 1, 9)\n",
      "(9, 2, 9)\n",
      "(19, 3, 9)\n",
      "(19, 4, 9)\n",
      "(12, 5, 9)\n",
      "(40, 10, 9)\n",
      "(8, 11, 9)\n",
      "(41, 12, 9)\n",
      "(15, 13, 9)\n",
      "(5, 14, 9)\n",
      "(39, 15, 9)\n",
      "(3, 1, 10)\n",
      "(6, 2, 10)\n",
      "(2, 3, 10)\n",
      "(3, 4, 10)\n",
      "(1, 5, 10)\n",
      "(21, 10, 10)\n",
      "(9, 11, 10)\n",
      "(1, 12, 10)\n",
      "(5, 13, 10)\n",
      "(10, 14, 10)\n",
      "(3, 15, 10)\n",
      "(5, 1, 11)\n",
      "(6, 2, 11)\n",
      "(1, 3, 11)\n",
      "(5, 4, 11)\n",
      "(2, 5, 11)\n",
      "(35, 10, 11)\n",
      "(41, 11, 11)\n",
      "(15, 12, 11)\n",
      "(23, 13, 11)\n",
      "(4, 14, 11)\n",
      "(7, 1, 12)\n",
      "(7, 2, 12)\n",
      "(6, 3, 12)\n",
      "(16, 4, 12)\n",
      "(1, 5, 12)\n",
      "(20, 10, 12)\n",
      "(19, 11, 12)\n",
      "(7, 12, 12)\n",
      "(17, 13, 12)\n",
      "(8, 14, 12)\n",
      "(7, 1, 13)\n",
      "(4, 2, 13)\n",
      "(3, 3, 13)\n",
      "(22, 4, 13)\n",
      "(1, 6, 13)\n",
      "(23, 10, 13)\n",
      "(29, 11, 13)\n",
      "(25, 12, 13)\n",
      "(3, 13, 13)\n",
      "(4, 14, 13)\n",
      "(7, 15, 13)\n",
      "(1, 1, 14)\n",
      "(8, 2, 14)\n",
      "(4, 3, 14)\n",
      "(6, 9, 14)\n",
      "(16, 10, 14)\n",
      "(27, 11, 14)\n",
      "(20, 12, 14)\n",
      "(9, 13, 14)\n",
      "(8, 15, 14)\n",
      "(2, 1, 15)\n",
      "(1, 2, 15)\n",
      "(12, 3, 15)\n",
      "(2, 4, 15)\n",
      "(6, 9, 15)\n",
      "(16, 10, 15)\n",
      "(8, 11, 15)\n",
      "(12, 13, 15)\n",
      "(1, 2, 16)\n",
      "(29, 3, 16)\n",
      "(2, 4, 16)\n",
      "(1, 9, 16)\n",
      "(4, 10, 16)\n",
      "(11, 11, 16)\n",
      "(6, 12, 16)\n",
      "(1, 13, 16)\n",
      "(1, 15, 16)\n",
      "(34, 3, 17)\n",
      "(1, 4, 17)\n",
      "(24, 9, 17)\n",
      "(6, 10, 17)\n",
      "(3, 11, 17)\n",
      "(5, 12, 17)\n",
      "(2, 15, 17)\n",
      "(1, 1, 18)\n",
      "(7, 2, 18)\n",
      "(1, 4, 18)\n",
      "(46, 9, 18)\n",
      "(22, 10, 18)\n",
      "(4, 11, 18)\n",
      "(13, 12, 18)\n",
      "(12, 1, 19)\n",
      "(6, 2, 19)\n",
      "(26, 3, 19)\n",
      "(9, 4, 19)\n",
      "(74, 9, 19)\n",
      "(53, 10, 19)\n",
      "(48, 11, 19)\n",
      "(15, 12, 19)\n",
      "(8, 13, 19)\n",
      "(5, 1, 20)\n",
      "(4, 3, 20)\n",
      "(28, 4, 20)\n",
      "(1, 9, 20)\n",
      "(33, 10, 20)\n",
      "(12, 11, 20)\n",
      "(8, 12, 20)\n",
      "(7, 13, 20)\n",
      "(2, 14, 20)\n",
      "(7, 1, 21)\n",
      "(4, 2, 21)\n",
      "(7, 3, 21)\n",
      "(62, 4, 21)\n",
      "(6, 10, 21)\n",
      "(4, 11, 21)\n",
      "(7, 12, 21)\n",
      "(23, 13, 21)\n"
     ]
    }
   ],
   "source": [
    "server_object = stt_server(0)\n",
    "server_object.source_id = 2\n",
    "\n",
    "cursor = server_object.conn.cursor()\n",
    "\n",
    "sql_query = \"select count(id), day(record_date), DATEPART(HOUR, record_date)\" \n",
    "sql_query += \" from transcribations where \"\n",
    "sql_query += \" record_date > '2021-03-01 00:00:00' and \"\n",
    "sql_query += \" text like '%операторы заняты%' \"\n",
    "sql_query += \" group by day(record_date), DATEPART(HOUR, record_date);\"\n",
    "#cursor.execute(sql_query)\n",
    "#for row in cursor.fetchall():\n",
    "#    print(row)\n",
    "df = read_sql()"
   ]
  },
  {
   "cell_type": "markdown",
   "metadata": {},
   "source": [
    "### get record date from cdr"
   ]
  },
  {
   "cell_type": "code",
   "execution_count": null,
   "metadata": {},
   "outputs": [],
   "source": [
    "cursor = server_object.mysql_conn[server_object.source_id].cursor()\n",
    "query = \"SELECT * FROM cdr WHERE uniqueid = '1613049028.1603159';\"\n",
    "cursor.execute(query)\n",
    "for row in cursor.fetchall():\n",
    "        print(row)"
   ]
  },
  {
   "cell_type": "code",
   "execution_count": null,
   "metadata": {},
   "outputs": [],
   "source": [
    "cursor = server_object.mysql_conn[server_object.source_id].cursor()\n",
    "query = \"SELECT column_name FROM information_schema.columns WHERE table_name='cdr';\"\n",
    "cursor.execute(query)\n",
    "for row in cursor.fetchall():\n",
    "        print(row)"
   ]
  },
  {
   "cell_type": "code",
   "execution_count": null,
   "metadata": {},
   "outputs": [],
   "source": [
    "server_object.source_id = 2\n",
    "#server_object.original_file_name = '1612427793.1440877-in.wav'#files[0] #debug\n",
    "server_object.original_file_name = '1612427793.1440877-in.wav'#files[0] #debug\n",
    "uniqueid = re.findall(r'^\\d*.\\d*', server_object.original_file_name)[0]\n",
    "print('uniqueid', uniqueid)\n",
    "cursor = server_object.mysql_conn[server_object.source_id].cursor()\n",
    "#query = \"select src, dst from cdr where uniqueid = '\"+uniqueid+\"' limit 1;\"\n",
    "query = \"select calldate, src, dst from cdr where uniqueid = '\"+uniqueid+\"' limit 1;\"\n",
    "cursor.execute(query)\n",
    "for row in cursor.fetchall():\n",
    "    print(row)"
   ]
  },
  {
   "cell_type": "markdown",
   "metadata": {},
   "source": [
    "### insert into queue debug"
   ]
  },
  {
   "cell_type": "code",
   "execution_count": null,
   "metadata": {},
   "outputs": [],
   "source": [
    "server_object = stt_server(0)\n",
    "sql_query = \"insert into transcribations( audio_file_name, transcribation_date, date_y, date_m, date_d, text, start, end_time, side, conf, linkedid, src, dst, record_date, source_id) values ( '1613048825.1603082-in.wav', '2021-02-11T16:51:28', '2021', '02', '11', 'аллё здравствуйте вячеслав мареку компании единственная служба сервиса звоню по вашему резюме на избита удобно сейчас разговаривать', '6.27', '15.6', '0', '0.8597108235294117', '1613048825.1603082', '', '','None' ,'2');\"\n",
    "#cursor = server_object.conn.cursor()\n",
    "#cursor.execute(sql_query)\n",
    "#server_object.conn.commit() # autocommit"
   ]
  },
  {
   "cell_type": "code",
   "execution_count": 8,
   "metadata": {},
   "outputs": [
    {
     "ename": "IndexError",
     "evalue": "list index out of range",
     "output_type": "error",
     "traceback": [
      "\u001b[0;31m---------------------------------------------------------------------------\u001b[0m",
      "\u001b[0;31mIndexError\u001b[0m                                Traceback (most recent call last)",
      "\u001b[0;32m<ipython-input-8-5f045fbcb592>\u001b[0m in \u001b[0;36m<module>\u001b[0;34m\u001b[0m\n\u001b[1;32m      3\u001b[0m \u001b[0mlen\u001b[0m\u001b[0;34m(\u001b[0m\u001b[0mr_d\u001b[0m\u001b[0;34m)\u001b[0m \u001b[0;32mand\u001b[0m \u001b[0mlen\u001b[0m\u001b[0;34m(\u001b[0m\u001b[0mr_d\u001b[0m\u001b[0;34m[\u001b[0m\u001b[0;36m0\u001b[0m\u001b[0;34m]\u001b[0m\u001b[0;34m)\u001b[0m \u001b[0;34m==\u001b[0m \u001b[0;36m21\u001b[0m\u001b[0;34m\u001b[0m\u001b[0;34m\u001b[0m\u001b[0m\n\u001b[1;32m      4\u001b[0m \u001b[0msrc\u001b[0m \u001b[0;34m=\u001b[0m \u001b[0mre\u001b[0m\u001b[0;34m.\u001b[0m\u001b[0mfindall\u001b[0m\u001b[0;34m(\u001b[0m\u001b[0;34mr'c.*d'\u001b[0m\u001b[0;34m,\u001b[0m \u001b[0mfilename\u001b[0m\u001b[0;34m)\u001b[0m\u001b[0;34m[\u001b[0m\u001b[0;36m0\u001b[0m\u001b[0;34m]\u001b[0m\u001b[0;34m[\u001b[0m\u001b[0;36m1\u001b[0m\u001b[0;34m:\u001b[0m\u001b[0;34m]\u001b[0m\u001b[0;34m[\u001b[0m\u001b[0;34m:\u001b[0m\u001b[0;34m-\u001b[0m\u001b[0;36m1\u001b[0m\u001b[0;34m]\u001b[0m\u001b[0;34m\u001b[0m\u001b[0;34m\u001b[0m\u001b[0m\n\u001b[0;32m----> 5\u001b[0;31m \u001b[0mdst\u001b[0m \u001b[0;34m=\u001b[0m \u001b[0mre\u001b[0m\u001b[0;34m.\u001b[0m\u001b[0mfindall\u001b[0m\u001b[0;34m(\u001b[0m\u001b[0;34mr'e.*f'\u001b[0m\u001b[0;34m,\u001b[0m \u001b[0mfilename\u001b[0m\u001b[0;34m)\u001b[0m\u001b[0;34m[\u001b[0m\u001b[0;36m0\u001b[0m\u001b[0;34m]\u001b[0m\u001b[0;34m[\u001b[0m\u001b[0;36m1\u001b[0m\u001b[0;34m:\u001b[0m\u001b[0;34m]\u001b[0m\u001b[0;34m[\u001b[0m\u001b[0;34m:\u001b[0m\u001b[0;34m-\u001b[0m\u001b[0;36m1\u001b[0m\u001b[0;34m]\u001b[0m\u001b[0;34m\u001b[0m\u001b[0;34m\u001b[0m\u001b[0m\n\u001b[0m\u001b[1;32m      6\u001b[0m \u001b[0mlinkedid\u001b[0m \u001b[0;34m=\u001b[0m \u001b[0mre\u001b[0m\u001b[0;34m.\u001b[0m\u001b[0mfindall\u001b[0m\u001b[0;34m(\u001b[0m\u001b[0;34mr'g.*h'\u001b[0m\u001b[0;34m,\u001b[0m \u001b[0mfilename\u001b[0m\u001b[0;34m)\u001b[0m\u001b[0;34m[\u001b[0m\u001b[0;36m0\u001b[0m\u001b[0;34m]\u001b[0m\u001b[0;34m[\u001b[0m\u001b[0;36m1\u001b[0m\u001b[0;34m:\u001b[0m\u001b[0;34m]\u001b[0m\u001b[0;34m[\u001b[0m\u001b[0;34m:\u001b[0m\u001b[0;34m-\u001b[0m\u001b[0;36m1\u001b[0m\u001b[0;34m]\u001b[0m\u001b[0;34m\u001b[0m\u001b[0;34m\u001b[0m\u001b[0m\n",
      "\u001b[0;31mIndexError\u001b[0m: list index out of range"
     ]
    }
   ],
   "source": [
    "filename = 'a2021-04-28t11:04:00b_c9312881912d_e9652533655_g1619597038.22506573.wav'\n",
    "r_d = re.findall(r'a.*b', filename)\n",
    "len(r_d) and len(r_d[0]) == 21\n",
    "src = re.findall(r'c.*d', filename)[0][1:][:-1]\n",
    "dst = re.findall(r'e.*f', filename)[0][1:][:-1]\n",
    "linkedid = re.findall(r'g.*h', filename)[0][1:][:-1]"
   ]
  },
  {
   "cell_type": "markdown",
   "metadata": {},
   "source": [
    "### delete from queue"
   ]
  },
  {
   "cell_type": "code",
   "execution_count": 4,
   "metadata": {},
   "outputs": [],
   "source": [
    "server_object = stt_server(0)\n",
    "#server_object.source_id = 1\n",
    "cursor = server_object.conn.cursor()\n",
    "sql_query = \"delete from queue where cpu_id > 8;\"\n",
    "#sql_query = \"delete from queue;\"\n",
    "cursor.execute(sql_query)\n",
    "server_object.conn.commit() # autocommit"
   ]
  },
  {
   "cell_type": "code",
   "execution_count": 14,
   "metadata": {},
   "outputs": [
    {
     "data": {
      "text/plain": [
       "9764332"
      ]
     },
     "execution_count": 14,
     "metadata": {},
     "output_type": "execute_result"
    }
   ],
   "source": [
    "import os\n",
    "filepath = 'temp/0.wav'\n",
    "os.stat(filepath).st_size"
   ]
  },
  {
   "cell_type": "code",
   "execution_count": 15,
   "metadata": {},
   "outputs": [
    {
     "data": {
      "text/plain": [
       "11463724"
      ]
     },
     "execution_count": 15,
     "metadata": {},
     "output_type": "execute_result"
    }
   ],
   "source": [
    "filepath = 'temp/1.wav'\n",
    "os.stat(filepath).st_size"
   ]
  },
  {
   "cell_type": "code",
   "execution_count": 17,
   "metadata": {},
   "outputs": [
    {
     "data": {
      "text/plain": [
       "44"
      ]
     },
     "execution_count": 17,
     "metadata": {},
     "output_type": "execute_result"
    }
   ],
   "source": [
    "filepath = 'temp/x.wav'\n",
    "os.stat(filepath).st_size"
   ]
  },
  {
   "cell_type": "code",
   "execution_count": 18,
   "metadata": {},
   "outputs": [
    {
     "data": {
      "text/plain": [
       "os.stat_result(st_mode=33261, st_ino=10962410353839872416, st_dev=52, st_nlink=1, st_uid=1000, st_gid=1000, st_size=44, st_atime=1619605622, st_mtime=1619605206, st_ctime=1619605206)"
      ]
     },
     "execution_count": 18,
     "metadata": {},
     "output_type": "execute_result"
    }
   ],
   "source": [
    "zero = os.stat(filepath)\n",
    "zero"
   ]
  },
  {
   "cell_type": "code",
   "execution_count": 19,
   "metadata": {},
   "outputs": [
    {
     "data": {
      "text/plain": [
       "1619605206.62161"
      ]
     },
     "execution_count": 19,
     "metadata": {},
     "output_type": "execute_result"
    }
   ],
   "source": [
    "zero.st_mtime"
   ]
  },
  {
   "cell_type": "code",
   "execution_count": 23,
   "metadata": {},
   "outputs": [
    {
     "data": {
      "text/plain": [
       "1619606211.822073"
      ]
     },
     "execution_count": 23,
     "metadata": {},
     "output_type": "execute_result"
    }
   ],
   "source": [
    "import time\n",
    "time.time()"
   ]
  },
  {
   "cell_type": "code",
   "execution_count": 24,
   "metadata": {},
   "outputs": [
    {
     "data": {
      "text/plain": [
       "1020.4520812034607"
      ]
     },
     "execution_count": 24,
     "metadata": {},
     "output_type": "execute_result"
    }
   ],
   "source": [
    "time.time() - zero.st_mtime"
   ]
  },
  {
   "cell_type": "markdown",
   "metadata": {},
   "source": [
    "### select from queue"
   ]
  },
  {
   "cell_type": "code",
   "execution_count": 4,
   "metadata": {},
   "outputs": [
    {
     "name": "stdout",
     "output_type": "stream",
     "text": [
      "# 1\n"
     ]
    }
   ],
   "source": [
    "server_object = stt_server(0)\n",
    "server_object.source_id = 2\n",
    "\n",
    "cursor = server_object.conn.cursor()\n",
    "#sql_query = \"select count(filename) from queue where source_id = '\"+str(server_object.source_id)+\"';\"\n",
    "#sql_query = \"select distinct cpu_id from queue where source_id = '\"+str(server_object.source_id)+\"';\"\n",
    "#sql_query = \"select filename, record_date, cpu_id, duration, source_id from queue \"\n",
    "#sql_query += \"where source_id='\" + str(server_object.source_id) + \"' \"\n",
    "#sql_query += \"where duration=60 \"\n",
    "#sql_query += \"order by record_date;\"\n",
    "\n",
    "print('# 1')\n",
    "#sql_query = \"select record_date, count(filename) from queue \"\n",
    "#sql_query += \"where source_id='2' and record_date is Null group by record_date;\"\n",
    "sql_query = \"select source_id, count(filename) from queue group by source_id;\"\n",
    "#sql_query = \"select distinct filename from queue where source_id = 2;\"\n",
    "#sql_query += \"limit 1;\"\n",
    "cursor.execute(sql_query)\n",
    "for row in cursor.fetchall():\n",
    "    print(row)"
   ]
  },
  {
   "cell_type": "code",
   "execution_count": 5,
   "metadata": {
    "scrolled": false
   },
   "outputs": [
    {
     "name": "stdout",
     "output_type": "stream",
     "text": [
      "# 1\n",
      "(datetime.datetime(2021, 3, 17, 10, 47, 21), 3, '/mnt/share/audio/MSK_SRVCALL/RX_TX/RXTX_2021-03/15/', None, None, None, 'in_4999788748_2021-03-15-17-04-25rxtx.wav', 234.48, datetime.datetime(2021, 3, 15, 17, 4, 25), 1, '4999788748', '5010', '1615817064.2188004')\n",
      "# 2\n",
      "# count 1\n",
      "(325,)\n",
      "# count 2\n",
      "(0,)\n",
      "# cpus\n"
     ]
    }
   ],
   "source": [
    "server_object = stt_server(0)\n",
    "server_object.source_id = 2\n",
    "\n",
    "cursor = server_object.conn.cursor()\n",
    "#sql_query = \"select count(filename) from queue where source_id = '\"+str(server_object.source_id)+\"';\"\n",
    "#sql_query = \"select distinct cpu_id from queue where source_id = '\"+str(server_object.source_id)+\"';\"\n",
    "#sql_query = \"select filename, record_date, cpu_id, duration, source_id from queue \"\n",
    "#sql_query += \"where source_id='\" + str(server_object.source_id) + \"' \"\n",
    "#sql_query += \"where duration=60 \"\n",
    "#sql_query += \"order by record_date;\"\n",
    "\n",
    "print('# 1')\n",
    "sql_query = \"select top 1 * from queue \"\n",
    "sql_query += \"where source_id='1';\"\n",
    "#sql_query += \"limit 1;\"\n",
    "cursor.execute(sql_query)\n",
    "for row in cursor.fetchall():\n",
    "    #print(row[0], row[1], row[2], row[3])\n",
    "    print(row)\n",
    "\n",
    "print('# 2')\n",
    "sql_query = \"select top 1 * from queue \"\n",
    "sql_query += \"where source_id='2' \"\n",
    "sql_query += \"order by record_date;\"\n",
    "#sql_query += \"limit 1;\"\n",
    "cursor.execute(sql_query)\n",
    "for row in cursor.fetchall():\n",
    "    #print(row[0], row[1], row[2], row[3])\n",
    "    print(row)\n",
    "    \n",
    "print('# count 1')\n",
    "sql_query = \"select count(filename) from queue where source_id = '1';\"\n",
    "#sql_query += \"limit 1;\"\n",
    "cursor.execute(sql_query)\n",
    "for row in cursor.fetchall():\n",
    "    #print(row[0], row[1], row[2], row[3])\n",
    "    print(row)\n",
    "    \n",
    "print('# count 2')\n",
    "sql_query = \"select count(filename) from queue where source_id = '2';\"\n",
    "#sql_query += \"limit 1;\"\n",
    "cursor.execute(sql_query)\n",
    "for row in cursor.fetchall():\n",
    "    #print(row[0], row[1], row[2], row[3])\n",
    "    print(row)\n",
    "    \n",
    "print('# cpus')\n",
    "sql_query = \"select distinct cpu_id from queue where cpu_id='30' order by cpu_id;\"\n",
    "cursor.execute(sql_query)\n",
    "for row in cursor.fetchall():\n",
    "    #print(row[0], row[1], row[2], row[3])\n",
    "    print(row)\n"
   ]
  },
  {
   "cell_type": "markdown",
   "metadata": {},
   "source": [
    "### call queue"
   ]
  },
  {
   "cell_type": "code",
   "execution_count": 24,
   "metadata": {},
   "outputs": [],
   "source": [
    "server_object = stt_server(0)\n",
    "server_object.source_id = 1\n",
    "cursor = server_object.conn.cursor()\n",
    "#sql_query = \"select top 2 * from queue where source_id='1' and duration = 0;\"\n",
    "sql_query = \"select top 200 record_date from queue where source_id='2' and duration >5 order by record_date;\"\n",
    "#sql_query = \"select count(filename) from queue where source_id='2' and duration >5;\"\n",
    "cursor.execute(sql_query)\n",
    "#for row in cursor.fetchall():    \n",
    "#    print(row)"
   ]
  },
  {
   "cell_type": "markdown",
   "metadata": {},
   "source": [
    "### delete from transcribations"
   ]
  },
  {
   "cell_type": "code",
   "execution_count": null,
   "metadata": {},
   "outputs": [],
   "source": [
    "cursor = server_object.conn.cursor()\n",
    "sql_query = \"delete from transcribations where source_id = '2';\"\n",
    "#cursor.execute(sql_query)\n",
    "#server_object.conn.commit() # autocommit"
   ]
  },
  {
   "cell_type": "code",
   "execution_count": null,
   "metadata": {},
   "outputs": [],
   "source": [
    "sql_query"
   ]
  },
  {
   "cell_type": "code",
   "execution_count": null,
   "metadata": {},
   "outputs": [],
   "source": [
    "server_object.get_sql_complete_files()"
   ]
  },
  {
   "cell_type": "markdown",
   "metadata": {},
   "source": [
    "### select from transcribations"
   ]
  },
  {
   "cell_type": "code",
   "execution_count": 19,
   "metadata": {},
   "outputs": [
    {
     "name": "stdout",
     "output_type": "stream",
     "text": [
      "(datetime.datetime(2021, 4, 30, 14, 5, 31), False, 'a2021-04-30t14:05:31b_c9268605509d_e9031764565f_g1619780728.40367h-in.wav')\n",
      "(datetime.datetime(2021, 4, 30, 14, 5, 31), True, 'a2021-04-30t14:05:31b_c9268605509d_e9031764565f_g1619780728.40367h-out.wav')\n",
      "(datetime.datetime(2021, 4, 30, 13, 54, 54), False, 'a2021-04-30t13:54:54b_c9160596375d_e9169119636f_g1619780092.39883h-in.wav')\n",
      "(datetime.datetime(2021, 4, 30, 13, 54, 54), True, 'a2021-04-30t13:54:54b_c9160596375d_e9169119636f_g1619780092.39883h-out.wav')\n",
      "(datetime.datetime(2021, 4, 30, 13, 14, 24), True, 'a2021-04-30t13:14:24b_c9260096272d_e9099230506f_g1619777662.38210h.wav')\n",
      "(datetime.datetime(2021, 4, 30, 13, 14, 24), True, 'a2021-04-30t13:14:24b_c9260096272d_e9099230506f_g1619777662.38210h.wav')\n",
      "(datetime.datetime(2021, 4, 30, 13, 14, 24), True, 'a2021-04-30t13:14:24b_c9260096272d_e9099230506f_g1619777662.38210h.wav')\n",
      "(datetime.datetime(2021, 4, 30, 13, 14, 24), True, 'a2021-04-30t13:14:24b_c9260096272d_e9099230506f_g1619777662.38210h.wav')\n",
      "(datetime.datetime(2021, 4, 30, 13, 14, 24), True, 'a2021-04-30t13:14:24b_c9260096272d_e9099230506f_g1619777662.38210h.wav')\n",
      "(datetime.datetime(2021, 4, 30, 13, 14, 24), True, 'a2021-04-30t13:14:24b_c9260096272d_e9099230506f_g1619777662.38210h.wav')\n",
      "(datetime.datetime(2021, 4, 30, 13, 14, 24), True, 'a2021-04-30t13:14:24b_c9260096272d_e9099230506f_g1619777662.38210h.wav')\n",
      "(datetime.datetime(2021, 4, 30, 13, 14, 24), True, 'a2021-04-30t13:14:24b_c9260096272d_e9099230506f_g1619777662.38210h.wav')\n",
      "(datetime.datetime(2021, 4, 30, 13, 14, 24), True, 'a2021-04-30t13:14:24b_c9260096272d_e9099230506f_g1619777662.38210h.wav')\n",
      "(datetime.datetime(2021, 4, 30, 13, 14, 24), True, 'a2021-04-30t13:14:24b_c9260096272d_e9099230506f_g1619777662.38210h.wav')\n",
      "(datetime.datetime(2021, 4, 30, 13, 14, 24), True, 'a2021-04-30t13:14:24b_c9260096272d_e9099230506f_g1619777662.38210h.wav')\n",
      "(datetime.datetime(2021, 4, 30, 13, 14, 24), True, 'a2021-04-30t13:14:24b_c9260096272d_e9099230506f_g1619777662.38210h.wav')\n",
      "(datetime.datetime(2021, 4, 30, 13, 14, 24), True, 'a2021-04-30t13:14:24b_c9260096272d_e9099230506f_g1619777662.38210h.wav')\n",
      "(datetime.datetime(2021, 4, 30, 13, 14, 24), True, 'a2021-04-30t13:14:24b_c9260096272d_e9099230506f_g1619777662.38210h.wav')\n",
      "(datetime.datetime(2021, 4, 30, 13, 14, 24), True, 'a2021-04-30t13:14:24b_c9260096272d_e9099230506f_g1619777662.38210h.wav')\n",
      "(datetime.datetime(2021, 4, 30, 13, 14, 24), True, 'a2021-04-30t13:14:24b_c9260096272d_e9099230506f_g1619777662.38210h.wav')\n",
      "(datetime.datetime(2021, 4, 30, 13, 14, 4), True, 'a2021-04-30t13:14:04b_c9252944038d_e9032597469f_g1619777642.38180h.wav')\n",
      "(datetime.datetime(2021, 4, 30, 13, 14, 4), True, 'a2021-04-30t13:14:04b_c9252944038d_e9032597469f_g1619777642.38180h.wav')\n",
      "(datetime.datetime(2021, 4, 30, 13, 14, 4), True, 'a2021-04-30t13:14:04b_c9252944038d_e9032597469f_g1619777642.38180h.wav')\n",
      "(datetime.datetime(2021, 4, 30, 13, 14, 4), True, 'a2021-04-30t13:14:04b_c9252944038d_e9032597469f_g1619777642.38180h.wav')\n",
      "(datetime.datetime(2021, 4, 30, 13, 14, 4), True, 'a2021-04-30t13:14:04b_c9252944038d_e9032597469f_g1619777642.38180h.wav')\n",
      "(datetime.datetime(2021, 4, 30, 13, 14, 4), True, 'a2021-04-30t13:14:04b_c9252944038d_e9032597469f_g1619777642.38180h.wav')\n",
      "(datetime.datetime(2021, 4, 30, 13, 14, 4), True, 'a2021-04-30t13:14:04b_c9252944038d_e9032597469f_g1619777642.38180h.wav')\n",
      "(datetime.datetime(2021, 4, 30, 13, 14, 4), True, 'a2021-04-30t13:14:04b_c9252944038d_e9032597469f_g1619777642.38180h.wav')\n",
      "(datetime.datetime(2021, 4, 30, 13, 14, 4), True, 'a2021-04-30t13:14:04b_c9252944038d_e9032597469f_g1619777642.38180h.wav')\n",
      "(datetime.datetime(2021, 4, 30, 13, 14, 4), True, 'a2021-04-30t13:14:04b_c9252944038d_e9032597469f_g1619777642.38180h.wav')\n",
      "(datetime.datetime(2021, 4, 30, 13, 14, 4), True, 'a2021-04-30t13:14:04b_c9252944038d_e9032597469f_g1619777642.38180h.wav')\n",
      "(datetime.datetime(2021, 4, 30, 13, 14, 4), True, 'a2021-04-30t13:14:04b_c9252944038d_e9032597469f_g1619777642.38180h.wav')\n",
      "(datetime.datetime(2021, 4, 30, 13, 14, 4), True, 'a2021-04-30t13:14:04b_c9252944038d_e9032597469f_g1619777642.38180h.wav')\n",
      "(datetime.datetime(2021, 4, 30, 13, 14, 4), True, 'a2021-04-30t13:14:04b_c9252944038d_e9032597469f_g1619777642.38180h.wav')\n",
      "(datetime.datetime(2021, 4, 30, 13, 14, 4), True, 'a2021-04-30t13:14:04b_c9252944038d_e9032597469f_g1619777642.38180h.wav')\n",
      "(datetime.datetime(2021, 4, 30, 13, 14, 4), True, 'a2021-04-30t13:14:04b_c9252944038d_e9032597469f_g1619777642.38180h.wav')\n",
      "(datetime.datetime(2021, 4, 30, 13, 8, 46), True, 'a2021-04-30t13:08:46b_c9261502010d_e9258656161f_g1619777324.37956h.wav')\n",
      "(datetime.datetime(2021, 4, 30, 13, 8, 46), True, 'a2021-04-30t13:08:46b_c9261502010d_e9258656161f_g1619777324.37956h.wav')\n",
      "(datetime.datetime(2021, 4, 30, 13, 8, 46), True, 'a2021-04-30t13:08:46b_c9261502010d_e9258656161f_g1619777324.37956h.wav')\n",
      "(datetime.datetime(2021, 4, 30, 13, 8, 46), True, 'a2021-04-30t13:08:46b_c9261502010d_e9258656161f_g1619777324.37956h.wav')\n",
      "(datetime.datetime(2021, 4, 30, 13, 8, 46), True, 'a2021-04-30t13:08:46b_c9261502010d_e9258656161f_g1619777324.37956h.wav')\n",
      "(datetime.datetime(2021, 4, 30, 13, 8, 46), True, 'a2021-04-30t13:08:46b_c9261502010d_e9258656161f_g1619777324.37956h.wav')\n",
      "(datetime.datetime(2021, 4, 30, 13, 8, 46), True, 'a2021-04-30t13:08:46b_c9261502010d_e9258656161f_g1619777324.37956h.wav')\n",
      "(datetime.datetime(2021, 4, 30, 13, 8, 46), True, 'a2021-04-30t13:08:46b_c9261502010d_e9258656161f_g1619777324.37956h.wav')\n",
      "(datetime.datetime(2021, 4, 30, 13, 8, 46), True, 'a2021-04-30t13:08:46b_c9261502010d_e9258656161f_g1619777324.37956h.wav')\n",
      "(datetime.datetime(2021, 4, 30, 13, 8, 46), True, 'a2021-04-30t13:08:46b_c9261502010d_e9258656161f_g1619777324.37956h.wav')\n",
      "(datetime.datetime(2021, 4, 30, 13, 8, 46), True, 'a2021-04-30t13:08:46b_c9261502010d_e9258656161f_g1619777324.37956h.wav')\n",
      "(datetime.datetime(2021, 4, 30, 13, 8, 46), True, 'a2021-04-30t13:08:46b_c9261502010d_e9258656161f_g1619777324.37956h.wav')\n",
      "(datetime.datetime(2021, 4, 30, 13, 8, 46), True, 'a2021-04-30t13:08:46b_c9261502010d_e9258656161f_g1619777324.37956h.wav')\n",
      "(datetime.datetime(2021, 4, 30, 13, 8, 46), True, 'a2021-04-30t13:08:46b_c9261502010d_e9258656161f_g1619777324.37956h.wav')\n",
      "(datetime.datetime(2021, 4, 30, 13, 8, 46), True, 'a2021-04-30t13:08:46b_c9261502010d_e9258656161f_g1619777324.37956h.wav')\n",
      "(datetime.datetime(2021, 4, 30, 13, 8, 46), True, 'a2021-04-30t13:08:46b_c9261502010d_e9258656161f_g1619777324.37956h.wav')\n",
      "(datetime.datetime(2021, 4, 30, 13, 8, 46), True, 'a2021-04-30t13:08:46b_c9261502010d_e9258656161f_g1619777324.37956h.wav')\n",
      "(datetime.datetime(2021, 4, 30, 13, 8, 36), True, 'a2021-04-30t13:08:36b_c9166018681d_e9057953177f_g1619777313.37946h.wav')\n",
      "(datetime.datetime(2021, 4, 30, 13, 8, 36), True, 'a2021-04-30t13:08:36b_c9166018681d_e9057953177f_g1619777313.37946h.wav')\n",
      "(datetime.datetime(2021, 4, 30, 13, 8, 36), True, 'a2021-04-30t13:08:36b_c9166018681d_e9057953177f_g1619777313.37946h.wav')\n",
      "(datetime.datetime(2021, 4, 30, 13, 8, 36), True, 'a2021-04-30t13:08:36b_c9166018681d_e9057953177f_g1619777313.37946h.wav')\n",
      "(datetime.datetime(2021, 4, 30, 13, 8, 36), True, 'a2021-04-30t13:08:36b_c9166018681d_e9057953177f_g1619777313.37946h.wav')\n",
      "(datetime.datetime(2021, 4, 30, 13, 8, 36), True, 'a2021-04-30t13:08:36b_c9166018681d_e9057953177f_g1619777313.37946h.wav')\n",
      "(datetime.datetime(2021, 4, 30, 13, 8, 36), True, 'a2021-04-30t13:08:36b_c9166018681d_e9057953177f_g1619777313.37946h.wav')\n",
      "(datetime.datetime(2021, 4, 30, 13, 8, 36), True, 'a2021-04-30t13:08:36b_c9166018681d_e9057953177f_g1619777313.37946h.wav')\n",
      "(datetime.datetime(2021, 4, 30, 13, 8, 36), True, 'a2021-04-30t13:08:36b_c9166018681d_e9057953177f_g1619777313.37946h.wav')\n",
      "(datetime.datetime(2021, 4, 30, 13, 8, 36), True, 'a2021-04-30t13:08:36b_c9166018681d_e9057953177f_g1619777313.37946h.wav')\n",
      "(datetime.datetime(2021, 4, 30, 13, 7, 18), True, 'a2021-04-30t13:07:18b_c9055757025d_e9060459869f_g1619777236.37890h.wav')\n",
      "(datetime.datetime(2021, 4, 30, 13, 7, 18), True, 'a2021-04-30t13:07:18b_c9055757025d_e9060459869f_g1619777236.37890h.wav')\n",
      "(datetime.datetime(2021, 4, 30, 13, 7, 18), True, 'a2021-04-30t13:07:18b_c9055757025d_e9060459869f_g1619777236.37890h.wav')\n",
      "(datetime.datetime(2021, 4, 30, 13, 7, 18), True, 'a2021-04-30t13:07:18b_c9055757025d_e9060459869f_g1619777236.37890h.wav')\n",
      "(datetime.datetime(2021, 4, 30, 13, 7, 18), True, 'a2021-04-30t13:07:18b_c9055757025d_e9060459869f_g1619777236.37890h.wav')\n",
      "(datetime.datetime(2021, 4, 30, 13, 7, 18), True, 'a2021-04-30t13:07:18b_c9055757025d_e9060459869f_g1619777236.37890h.wav')\n",
      "(datetime.datetime(2021, 4, 30, 13, 7, 18), True, 'a2021-04-30t13:07:18b_c9055757025d_e9060459869f_g1619777236.37890h.wav')\n",
      "(datetime.datetime(2021, 4, 30, 13, 7, 18), True, 'a2021-04-30t13:07:18b_c9055757025d_e9060459869f_g1619777236.37890h.wav')\n",
      "(datetime.datetime(2021, 4, 30, 13, 7, 18), True, 'a2021-04-30t13:07:18b_c9055757025d_e9060459869f_g1619777236.37890h.wav')\n",
      "(datetime.datetime(2021, 4, 30, 13, 7, 18), True, 'a2021-04-30t13:07:18b_c9055757025d_e9060459869f_g1619777236.37890h.wav')\n",
      "(datetime.datetime(2021, 4, 30, 13, 6, 23), True, 'a2021-04-30t13:06:23b_c9062409229d_e9052217787f_g1619777181.37834h.wav')\n",
      "(datetime.datetime(2021, 4, 30, 13, 6, 23), True, 'a2021-04-30t13:06:23b_c9062409229d_e9052217787f_g1619777181.37834h.wav')\n",
      "(datetime.datetime(2021, 4, 30, 13, 6, 23), True, 'a2021-04-30t13:06:23b_c9062409229d_e9052217787f_g1619777181.37834h.wav')\n",
      "(datetime.datetime(2021, 4, 30, 13, 6, 23), True, 'a2021-04-30t13:06:23b_c9062409229d_e9052217787f_g1619777181.37834h.wav')\n",
      "(datetime.datetime(2021, 4, 30, 13, 6, 23), True, 'a2021-04-30t13:06:23b_c9062409229d_e9052217787f_g1619777181.37834h.wav')\n",
      "(datetime.datetime(2021, 4, 30, 13, 6, 23), True, 'a2021-04-30t13:06:23b_c9062409229d_e9052217787f_g1619777181.37834h.wav')\n",
      "(datetime.datetime(2021, 4, 30, 13, 6, 23), True, 'a2021-04-30t13:06:23b_c9062409229d_e9052217787f_g1619777181.37834h.wav')\n",
      "(datetime.datetime(2021, 4, 30, 13, 6, 23), True, 'a2021-04-30t13:06:23b_c9062409229d_e9052217787f_g1619777181.37834h.wav')\n",
      "(datetime.datetime(2021, 4, 30, 13, 5, 32), True, 'a2021-04-30t13:05:32b_c9219965003d_e9219311696f_g1619777130.37787h.wav')\n",
      "(datetime.datetime(2021, 4, 30, 13, 5, 32), True, 'a2021-04-30t13:05:32b_c9219965003d_e9219311696f_g1619777130.37787h.wav')\n",
      "(datetime.datetime(2021, 4, 30, 13, 5, 32), True, 'a2021-04-30t13:05:32b_c9219965003d_e9219311696f_g1619777130.37787h.wav')\n",
      "(datetime.datetime(2021, 4, 30, 13, 5, 32), True, 'a2021-04-30t13:05:32b_c9219965003d_e9219311696f_g1619777130.37787h.wav')\n",
      "(datetime.datetime(2021, 4, 30, 13, 5, 32), True, 'a2021-04-30t13:05:32b_c9219965003d_e9219311696f_g1619777130.37787h.wav')\n",
      "(datetime.datetime(2021, 4, 30, 13, 4, 19), True, 'a2021-04-30t13:04:19b_c9045522987d_e9213630963f_g1619777056.37741h.wav')\n",
      "(datetime.datetime(2021, 4, 30, 13, 4, 19), True, 'a2021-04-30t13:04:19b_c9045522987d_e9213630963f_g1619777056.37741h.wav')\n",
      "(datetime.datetime(2021, 4, 30, 13, 4, 19), True, 'a2021-04-30t13:04:19b_c9045522987d_e9213630963f_g1619777056.37741h.wav')\n",
      "(datetime.datetime(2021, 4, 30, 13, 4, 19), True, 'a2021-04-30t13:04:19b_c9045522987d_e9213630963f_g1619777056.37741h.wav')\n",
      "(datetime.datetime(2021, 4, 30, 13, 4, 19), True, 'a2021-04-30t13:04:19b_c9045522987d_e9213630963f_g1619777056.37741h.wav')\n",
      "(datetime.datetime(2021, 4, 30, 13, 4, 19), True, 'a2021-04-30t13:04:19b_c9045522987d_e9213630963f_g1619777056.37741h.wav')\n",
      "(datetime.datetime(2021, 4, 30, 13, 4, 19), True, 'a2021-04-30t13:04:19b_c9045522987d_e9213630963f_g1619777056.37741h.wav')\n",
      "(datetime.datetime(2021, 4, 30, 13, 4, 19), True, 'a2021-04-30t13:04:19b_c9045522987d_e9213630963f_g1619777056.37741h.wav')\n",
      "(datetime.datetime(2021, 4, 30, 13, 4, 19), True, 'a2021-04-30t13:04:19b_c9045522987d_e9213630963f_g1619777056.37741h.wav')\n",
      "(datetime.datetime(2021, 4, 30, 13, 4, 19), True, 'a2021-04-30t13:04:19b_c9045522987d_e9213630963f_g1619777056.37741h.wav')\n",
      "(datetime.datetime(2021, 4, 30, 13, 4, 19), True, 'a2021-04-30t13:04:19b_c9045522987d_e9213630963f_g1619777056.37741h.wav')\n",
      "(datetime.datetime(2021, 4, 30, 13, 4, 19), True, 'a2021-04-30t13:04:19b_c9045522987d_e9213630963f_g1619777056.37741h.wav')\n",
      "(datetime.datetime(2021, 4, 30, 13, 1, 40), True, 'a2021-04-30t13:01:40b_c9166018681d_e9654376338f_g1619776898.37605h.wav')\n",
      "(datetime.datetime(2021, 4, 30, 13, 1, 40), True, 'a2021-04-30t13:01:40b_c9166018681d_e9654376338f_g1619776898.37605h.wav')\n"
     ]
    }
   ],
   "source": [
    "server_object = stt_server(0)\n",
    "#server_object.source_id = 1\n",
    "\n",
    "cursor = server_object.conn.cursor()\n",
    "sql_query = \"select top 100 record_date, side, audio_file_name from transcribations where source_id = 2 and not record_date = '' order by record_date desc, start desc;\"\n",
    "cursor.execute(sql_query)\n",
    "for row in cursor.fetchall():\n",
    "    print(row)"
   ]
  },
  {
   "cell_type": "markdown",
   "metadata": {},
   "source": [
    "# other"
   ]
  },
  {
   "cell_type": "code",
   "execution_count": null,
   "metadata": {},
   "outputs": [],
   "source": [
    "import datetime"
   ]
  },
  {
   "cell_type": "code",
   "execution_count": null,
   "metadata": {},
   "outputs": [],
   "source": [
    "cur_date = datetime.datetime.now()\n",
    "DD = datetime.timedelta(days=int(365 / 2))\n",
    "crop_date = cur_date - DD\n",
    "cur_date_y = crop_date.strftime(\"%Y\")\n",
    "cur_date_m = crop_date.strftime(\"%m\")\n",
    "cur_date_d = crop_date.strftime(\"%d\")\n",
    "cur_date_y, cur_date_m, cur_date_d"
   ]
  },
  {
   "cell_type": "code",
   "execution_count": null,
   "metadata": {},
   "outputs": [],
   "source": [
    "cur_date = datetime.datetime.now()\n",
    "cur_date"
   ]
  },
  {
   "cell_type": "code",
   "execution_count": null,
   "metadata": {},
   "outputs": [],
   "source": [
    "DD = datetime.timedelta(days=int(365/2))\n",
    "crop_date = cur_date - DD\n",
    "crop_date"
   ]
  },
  {
   "cell_type": "code",
   "execution_count": null,
   "metadata": {},
   "outputs": [],
   "source": [
    "#datetime.datetime.now().year\n",
    "datetime.datetime.now().strftime(\"%Y\")"
   ]
  },
  {
   "cell_type": "code",
   "execution_count": null,
   "metadata": {},
   "outputs": [],
   "source": [
    "#datetime.datetime.now().month\n",
    "datetime.datetime.now().strftime(\"%m\")"
   ]
  },
  {
   "cell_type": "code",
   "execution_count": null,
   "metadata": {},
   "outputs": [],
   "source": [
    "cur_date = datetime.datetime.strptime(\"2021-04-12T07:00:00Z\",\"%Y-%m-%dT%H:%M:%SZ\")\n",
    "DD = datetime.timedelta(days=int(365 / 2))\n",
    "crop_date = cur_date - DD\n",
    "#datetime.datetime.strptime(str(datetime.datetime.now()),\"%m\")\n",
    "crop_date"
   ]
  },
  {
   "cell_type": "code",
   "execution_count": null,
   "metadata": {},
   "outputs": [],
   "source": [
    "#datetime.datetime.now().day\n",
    "datetime.datetime.now().strftime(\"%d\")"
   ]
  },
  {
   "cell_type": "code",
   "execution_count": null,
   "metadata": {},
   "outputs": [],
   "source": [
    "import pandas as pd\n",
    "from init_server import stt_server\n",
    "from deeppavlov import build_model, configs\n",
    "import numpy as np"
   ]
  },
  {
   "cell_type": "code",
   "execution_count": null,
   "metadata": {},
   "outputs": [],
   "source": [
    "BATCH_SIZE = 3"
   ]
  },
  {
   "cell_type": "code",
   "execution_count": null,
   "metadata": {},
   "outputs": [],
   "source": [
    "server_object = stt_server(0)"
   ]
  },
  {
   "cell_type": "code",
   "execution_count": null,
   "metadata": {},
   "outputs": [],
   "source": [
    "query = \"\"\"\n",
    "    select top \"\"\"+str(BATCH_SIZE)+\"\"\" \n",
    "    id,\n",
    "    text,\n",
    "    sentiment\n",
    "    from transcribations \n",
    "    where sentiment is NULL and text!=''\n",
    "    \"\"\""
   ]
  },
  {
   "cell_type": "code",
   "execution_count": null,
   "metadata": {},
   "outputs": [],
   "source": [
    "df = pd.read_sql(query, server_object.conn)"
   ]
  },
  {
   "cell_type": "markdown",
   "metadata": {},
   "source": [
    "model = build_model(configs.classifiers.rusentiment_bert, download=True) #download first time\n",
    "res = model(df.text)\n",
    "df['sentiment'] = model(df.text)"
   ]
  },
  {
   "cell_type": "code",
   "execution_count": null,
   "metadata": {},
   "outputs": [],
   "source": [
    "print(df)"
   ]
  },
  {
   "cell_type": "code",
   "execution_count": null,
   "metadata": {},
   "outputs": [],
   "source": [
    "df['sentiment'] = ['neutral','negative','skip']"
   ]
  },
  {
   "cell_type": "code",
   "execution_count": null,
   "metadata": {},
   "outputs": [],
   "source": [
    "df"
   ]
  },
  {
   "cell_type": "code",
   "execution_count": null,
   "metadata": {},
   "outputs": [],
   "source": [
    "for index, row in df.iterrows():\n",
    "    print(index, row.id,row.sentiment)"
   ]
  },
  {
   "cell_type": "code",
   "execution_count": null,
   "metadata": {},
   "outputs": [],
   "source": [
    "for row in df.values:\n",
    "    print(row.sentiment)"
   ]
  },
  {
   "cell_type": "code",
   "execution_count": null,
   "metadata": {},
   "outputs": [],
   "source": [
    "for index, row in df.iterrows():\n",
    "    if row.sentiment == 'negative':\n",
    "        neg = 1\n",
    "        pos = 0\n",
    "    else:\n",
    "        neg = 0\n",
    "        pos = 1\n",
    "    query = \"update transcribations set \"\n",
    "    query += \"sentiment = '\"+row.sentiment+\"', \"\n",
    "    query += \"sentiment_neg = \"+str(neg)+\", \"\n",
    "    query += \"sentiment_pos = \"+str(pos)+\" \"\n",
    "    query += \"where id = \"+str(row.id)\n",
    "    break"
   ]
  },
  {
   "cell_type": "code",
   "execution_count": null,
   "metadata": {},
   "outputs": [],
   "source": [
    "query"
   ]
  },
  {
   "cell_type": "code",
   "execution_count": null,
   "metadata": {},
   "outputs": [],
   "source": [
    "df['sentiment_neg']=np.zeros(len(df))\n",
    "df['sentiment_pos']=np.zeros(len(df))"
   ]
  },
  {
   "cell_type": "code",
   "execution_count": null,
   "metadata": {},
   "outputs": [],
   "source": [
    "sentiments = pd.DataFrame(columns=['sentiment','sentiment_neg','sentiment_pos'])"
   ]
  },
  {
   "cell_type": "code",
   "execution_count": null,
   "metadata": {},
   "outputs": [],
   "source": [
    "sentiments = sentiments.append(pd.DataFrame({\n",
    "    'sentiment':\n",
    "        [\n",
    "            'negative',\n",
    "            'positive',\n",
    "            'neutral',\n",
    "            'speech',\n",
    "            'skip'\n",
    "        ],\n",
    "    'sentiment_neg':\n",
    "        [\n",
    "            1,0,0,0,0\n",
    "        ],\n",
    "    'sentiment_pos':\n",
    "        [\n",
    "            0,1,1,1,1\n",
    "        ]\n",
    "}))"
   ]
  },
  {
   "cell_type": "code",
   "execution_count": null,
   "metadata": {
    "scrolled": true
   },
   "outputs": [],
   "source": [
    "sentiments"
   ]
  },
  {
   "cell_type": "code",
   "execution_count": null,
   "metadata": {
    "scrolled": true
   },
   "outputs": [],
   "source": [
    "df"
   ]
  },
  {
   "cell_type": "code",
   "execution_count": null,
   "metadata": {},
   "outputs": [],
   "source": [
    "df[df.sentiment=='negative'].sentiment_neg=np.ones(len(df[df.sentiment=='negative']))"
   ]
  },
  {
   "cell_type": "code",
   "execution_count": null,
   "metadata": {},
   "outputs": [],
   "source": [
    "df[df.sentiment=='negative']"
   ]
  },
  {
   "cell_type": "code",
   "execution_count": null,
   "metadata": {},
   "outputs": [],
   "source": [
    "df[df.sentiment=='negative'].sentiment_neg=[1]"
   ]
  },
  {
   "cell_type": "code",
   "execution_count": null,
   "metadata": {},
   "outputs": [],
   "source": [
    "df[df.sentiment=='negative'].sentiment_neg"
   ]
  },
  {
   "cell_type": "code",
   "execution_count": null,
   "metadata": {},
   "outputs": [],
   "source": [
    "df.set_value[df.sentiment=='negative']['sentiment_neg']=np.ones(len(df[df.sentiment=='negative']))\n",
    "#df[df.sentiment!='negative']['sentiment_pos']=1\n",
    "#df.fillna(0)\n",
    "#df.set_value('C', 'x', 10)"
   ]
  },
  {
   "cell_type": "code",
   "execution_count": null,
   "metadata": {},
   "outputs": [],
   "source": [
    "df[df.sentiment=='negative']['sentiment_neg']"
   ]
  },
  {
   "cell_type": "code",
   "execution_count": 9,
   "metadata": {},
   "outputs": [
    {
     "name": "stdout",
     "output_type": "stream",
     "text": [
      "Collecting simplejson\n",
      "\u001b[?25l  Downloading https://files.pythonhosted.org/packages/a8/04/377418ac1e530ce2a196b54c6552c018fdf1fe776718053efb1f216bffcd/simplejson-3.17.2-cp37-cp37m-manylinux2010_x86_64.whl (128kB)\n",
      "\u001b[K    100% |████████████████████████████████| 133kB 1.6MB/s ta 0:00:01\n",
      "\u001b[?25hInstalling collected packages: simplejson\n",
      "Successfully installed simplejson-3.17.2\n",
      "Note: you may need to restart the kernel to use updated packages.\n"
     ]
    }
   ],
   "source": [
    "%pip install simplejson"
   ]
  },
  {
   "cell_type": "code",
   "execution_count": 18,
   "metadata": {},
   "outputs": [],
   "source": [
    "#import pickle\n",
    "#import simplejson\n",
    "#import json\n",
    "import numpy as np\n",
    "\n",
    "telegram_users={\n",
    "    'Фролов Максим Евгеньевич':'@FrolovMaxim',\n",
    "    'Сотников Артём Игоревич':'@vindento',\n",
    "    'Семенов Олег Владимирович':'@SemyonovOleg',            \n",
    "    'Юрасов Алексей Александрович':'@format37',\n",
    "    'Полухин Владимир Геннадьевич':'@Polukhin_Vladimir',\n",
    "    'Бывальцев Виктор Валентинович':'@I23vitiaz321',\n",
    "    'Кузьмин Евгений Андреевич':'@SummerDevil',\n",
    "    'Дрожжин Николай Сергеевич':'@nikolay3697',\n",
    "    'Мизякин Антон Сергеевич':'@MadMizyaka',\n",
    "    'Васильев Дмитрий Александрович':'@DVasilev',\n",
    "    'Головин Олег Дмитриевич':'@Enaleven',\n",
    "    'Бойко Илья Вадимович':'@IlyaBoiko',\n",
    "    'Васильченко Евгения Алексеевна':'@Vasilcka',\n",
    "    }\n",
    "\n",
    "#with open('users.pickle', 'wb') as fp:\n",
    "#    pickle.dump(telegram_users, fp)\n",
    "#with open(\"telegram_users.txt\", \"w\") as outfile:\n",
    "#    outfile.write(\"\\n\".join(telegram_users))\n",
    "#with open('telegram_users.json', 'wb') as file:\n",
    "    #simplejson.dump(telegram_users, file)\n",
    "#    file.write(json.dumps(telegram_users))\n",
    "#np.save('users.npy', telegram_users) \n",
    "with open('users.txt', 'w') as file:\n",
    "    file.write(str(telegram_users))"
   ]
  },
  {
   "cell_type": "code",
   "execution_count": 19,
   "metadata": {},
   "outputs": [
    {
     "data": {
      "text/plain": [
       "{'Фролов Максим Евгеньевич': '@FrolovMaxim',\n",
       " 'Сотников Артём Игоревич': '@vindento',\n",
       " 'Семенов Олег Владимирович': '@SemyonovOleg',\n",
       " 'Юрасов Алексей Александрович': '@format37',\n",
       " 'Полухин Владимир Геннадьевич': '@Polukhin_Vladimir',\n",
       " 'Бывальцев Виктор Валентинович': '@I23vitiaz321',\n",
       " 'Кузьмин Евгений Андреевич': '@SummerDevil',\n",
       " 'Дрожжин Николай Сергеевич': '@nikolay3697',\n",
       " 'Мизякин Антон Сергеевич': '@MadMizyaka',\n",
       " 'Васильев Дмитрий Александрович': '@DVasilev',\n",
       " 'Головин Олег Дмитриевич': '@Enaleven',\n",
       " 'Бойко Илья Вадимович': '@IlyaBoiko',\n",
       " 'Васильченко Евгения Алексеевна': '@Vasilcka'}"
      ]
     },
     "execution_count": 19,
     "metadata": {},
     "output_type": "execute_result"
    }
   ],
   "source": [
    "with open('users.txt', 'r') as file:\n",
    "    ty = eval(file.read())\n",
    "ty"
   ]
  },
  {
   "cell_type": "code",
   "execution_count": 6,
   "metadata": {},
   "outputs": [],
   "source": [
    "#Now read the file back into a Python list object\n",
    "with open('test.txt', 'r') as f:\n",
    "    a = json.loads(f.read())\n",
    "\n",
    "#with open ('users.pickle', 'rb') as fp:\n",
    "#    tu = pickle.load(fp)\n",
    "#with open(\"outfile\", \"w\") as outfile:\n",
    "#    outfile.write(\"\\n\".join(str(item) for item in itemlist))"
   ]
  },
  {
   "cell_type": "code",
   "execution_count": 15,
   "metadata": {},
   "outputs": [
    {
     "data": {
      "text/plain": [
       "{'Фролов Максим Евгеньевич': '@FrolovMaxim',\n",
       " 'Сотников Артём Игоревич': '@vindento',\n",
       " 'Семенов Олег Владимирович': '@SemyonovOleg',\n",
       " 'Юрасов Алексей Александрович': '@format37',\n",
       " 'Полухин Владимир Геннадьевич': '@Polukhin_Vladimir',\n",
       " 'Бывальцев Виктор Валентинович': '@I23vitiaz321',\n",
       " 'Кузьмин Евгений Андреевич': '@SummerDevil',\n",
       " 'Дрожжин Николай Сергеевич': '@nikolay3697',\n",
       " 'Мизякин Антон Сергеевич': '@MadMizyaka',\n",
       " 'Васильев Дмитрий Александрович': '@DVasilev',\n",
       " 'Головин Олег Дмитриевич': '@Enaleven',\n",
       " 'Бойко Илья Вадимович': '@IlyaBoiko',\n",
       " 'Васильченко Евгения Алексеевна': '@Vasilcka'}"
      ]
     },
     "execution_count": 15,
     "metadata": {},
     "output_type": "execute_result"
    }
   ],
   "source": [
    "eval(str(telegram_users))"
   ]
  },
  {
   "cell_type": "code",
   "execution_count": 16,
   "metadata": {},
   "outputs": [],
   "source": [
    "json.dump( telegram_users, open( \"myfile.json\", 'w' ) )"
   ]
  },
  {
   "cell_type": "code",
   "execution_count": 25,
   "metadata": {},
   "outputs": [
    {
     "name": "stdout",
     "output_type": "stream",
     "text": [
      "Requirement already satisfied: urllib3 in /home/alex/anaconda3/lib/python3.7/site-packages (1.24.1)\n",
      "Note: you may need to restart the kernel to use updated packages.\n"
     ]
    }
   ],
   "source": [
    "%pip install urllib3"
   ]
  },
  {
   "cell_type": "code",
   "execution_count": 31,
   "metadata": {},
   "outputs": [
    {
     "name": "stderr",
     "output_type": "stream",
     "text": [
      "/home/alex/anaconda3/lib/python3.7/site-packages/urllib3/connectionpool.py:847: InsecureRequestWarning: Unverified HTTPS request is being made. Adding certificate verification is strongly advised. See: https://urllib3.readthedocs.io/en/latest/advanced-usage.html#ssl-warnings\n",
      "  InsecureRequestWarning)\n"
     ]
    },
    {
     "data": {
      "text/plain": [
       "{'Фролов Максим Евгеньевич': '@FrolovMaxim',\n",
       " 'Сотников Артём Игоревич': '@vindento',\n",
       " 'Семенов Олег Владимирович': '@SemyonovOleg',\n",
       " 'Юрасов Алексей Александрович': '@format37',\n",
       " 'Полухин Владимир Геннадьевич': '@Polukhin_Vladimir',\n",
       " 'Бывальцев Виктор Валентинович': '@I23vitiaz321',\n",
       " 'Кузьмин Евгений Андреевич': '@SummerDevil',\n",
       " 'Дрожжин Николай Сергеевич': '@nikolay3697',\n",
       " 'Мизякин Антон Сергеевич': '@MadMizyaka',\n",
       " 'Васильев Дмитрий Александрович': '@DVasilev',\n",
       " 'Головин Олег Дмитриевич': '@Enaleven',\n",
       " 'Бойко Илья Вадимович': '@IlyaBoiko',\n",
       " 'Васильченко Евгения Алексеевна': '@Vasilcka'}"
      ]
     },
     "execution_count": 31,
     "metadata": {},
     "output_type": "execute_result"
    }
   ],
   "source": [
    "import urllib3\n",
    "http = urllib3.PoolManager()\n",
    "url = 'https://raw.githubusercontent.com/format37/servicedeskplus/master/sdp_monitoring/users.txt'\n",
    "response = http.request('GET', url)\n",
    "eval(response.data.decode('utf-8'))"
   ]
  }
 ],
 "metadata": {
  "kernelspec": {
   "display_name": "Python 3",
   "language": "python",
   "name": "python3"
  },
  "language_info": {
   "codemirror_mode": {
    "name": "ipython",
    "version": 3
   },
   "file_extension": ".py",
   "mimetype": "text/x-python",
   "name": "python",
   "nbconvert_exporter": "python",
   "pygments_lexer": "ipython3",
   "version": "3.9.2"
  }
 },
 "nbformat": 4,
 "nbformat_minor": 4
}
