{
 "cells": [
  {
   "cell_type": "code",
   "execution_count": 1,
   "metadata": {},
   "outputs": [],
   "source": [
    "# sudo service mysql stop\n",
    "# docker run --name mysql_call -p 3306:3306 -e MYSQL_ROOT_PASSWORD=your_secret_pwd -d mysql:latest"
   ]
  },
  {
   "cell_type": "code",
   "execution_count": 66,
   "metadata": {},
   "outputs": [],
   "source": [
    "import pymysql\n",
    "import pandas as pd\n",
    "import numpy as np\n",
    "from datetime import datetime\n",
    "import re\n",
    "#import datetime"
   ]
  },
  {
   "cell_type": "code",
   "execution_count": 2,
   "metadata": {},
   "outputs": [],
   "source": [
    "with open('mysql_local.pass','r') as file:\n",
    "    mysql_pass = file.read().replace('\\n', '')\n",
    "    file.close()"
   ]
  },
  {
   "cell_type": "code",
   "execution_count": 3,
   "metadata": {},
   "outputs": [],
   "source": [
    "conn = pymysql.connect(\n",
    "            host = '10.2.4.87', \n",
    "            user = 'root',\n",
    "            passwd = mysql_pass,\n",
    "            db = 'mysql',\n",
    "            autocommit = True\n",
    "        )"
   ]
  },
  {
   "cell_type": "code",
   "execution_count": 4,
   "metadata": {},
   "outputs": [],
   "source": [
    "cursor = conn.cursor()"
   ]
  },
  {
   "cell_type": "code",
   "execution_count": 40,
   "metadata": {},
   "outputs": [
    {
     "data": {
      "text/plain": [
       "1"
      ]
     },
     "execution_count": 40,
     "metadata": {},
     "output_type": "execute_result"
    }
   ],
   "source": [
    "query = \"create database 1c;\"\n",
    "cursor.execute(query)"
   ]
  },
  {
   "cell_type": "code",
   "execution_count": 5,
   "metadata": {},
   "outputs": [],
   "source": [
    "query = \"use 1c;\"\n",
    "cursor.execute(query)\n",
    "for row in cursor.fetchall():\n",
    "    print(row)"
   ]
  },
  {
   "cell_type": "code",
   "execution_count": 6,
   "metadata": {},
   "outputs": [
    {
     "name": "stdout",
     "output_type": "stream",
     "text": [
      "('calls',)\n"
     ]
    }
   ],
   "source": [
    "query = \"show tables;\"\n",
    "cursor.execute(query)\n",
    "for row in cursor.fetchall():\n",
    "    print(row)"
   ]
  },
  {
   "cell_type": "code",
   "execution_count": 32,
   "metadata": {},
   "outputs": [],
   "source": [
    "#--create table users ( id int not null auto_increment, token varchar(36), \n",
    "#email varchar(64), event_date DATETIME, primary key (id) );\n",
    "query = \"create table calls\"\n",
    "query += \" (\"\n",
    "query += \" id int not null auto_increment,\"\n",
    "query += \" call_date DATETIME,\"\n",
    "query += \" ak BOOLEAN,\"\n",
    "query += \" miko BOOLEAN,\"\n",
    "query += \" mrm BOOLEAN,\"\n",
    "query += \" incoming BOOLEAN,\"\n",
    "query += \" linkedid varchar(64),\"\n",
    "query += \" base_name varchar(64),\"\n",
    "query += \" primary key (id)\"\n",
    "query += \" );\"\n",
    "cursor.execute(query)\n",
    "for row in cursor.fetchall():\n",
    "    print(row)"
   ]
  },
  {
   "cell_type": "code",
   "execution_count": 31,
   "metadata": {},
   "outputs": [],
   "source": [
    "query = \"drop table calls;\"\n",
    "cursor.execute(query)\n",
    "for row in cursor.fetchall():\n",
    "    print(row)"
   ]
  },
  {
   "cell_type": "code",
   "execution_count": 84,
   "metadata": {},
   "outputs": [],
   "source": [
    "query = \"delete from calls;\"\n",
    "cursor.execute(query)\n",
    "for row in cursor.fetchall():\n",
    "    print(row)"
   ]
  },
  {
   "cell_type": "code",
   "execution_count": 87,
   "metadata": {},
   "outputs": [
    {
     "data": {
      "text/html": [
       "<div>\n",
       "<style scoped>\n",
       "    .dataframe tbody tr th:only-of-type {\n",
       "        vertical-align: middle;\n",
       "    }\n",
       "\n",
       "    .dataframe tbody tr th {\n",
       "        vertical-align: top;\n",
       "    }\n",
       "\n",
       "    .dataframe thead th {\n",
       "        text-align: right;\n",
       "    }\n",
       "</style>\n",
       "<table border=\"1\" class=\"dataframe\">\n",
       "  <thead>\n",
       "    <tr style=\"text-align: right;\">\n",
       "      <th></th>\n",
       "      <th>id</th>\n",
       "      <th>call_date</th>\n",
       "      <th>ak</th>\n",
       "      <th>miko</th>\n",
       "      <th>mrm</th>\n",
       "      <th>incoming</th>\n",
       "      <th>linkedid</th>\n",
       "      <th>base_name</th>\n",
       "    </tr>\n",
       "  </thead>\n",
       "  <tbody>\n",
       "    <tr>\n",
       "      <th>0</th>\n",
       "      <td>7255</td>\n",
       "      <td>2021-04-22 07:18:32</td>\n",
       "      <td>0</td>\n",
       "      <td>1</td>\n",
       "      <td>0</td>\n",
       "      <td>0</td>\n",
       "      <td>1619065299.3050508</td>\n",
       "      <td>1c_service_region</td>\n",
       "    </tr>\n",
       "    <tr>\n",
       "      <th>1</th>\n",
       "      <td>7256</td>\n",
       "      <td>2021-04-22 07:24:41</td>\n",
       "      <td>1</td>\n",
       "      <td>0</td>\n",
       "      <td>1</td>\n",
       "      <td>0</td>\n",
       "      <td>1619065479.22323747</td>\n",
       "      <td>1c_service_region</td>\n",
       "    </tr>\n",
       "    <tr>\n",
       "      <th>2</th>\n",
       "      <td>7257</td>\n",
       "      <td>2021-04-22 07:49:02</td>\n",
       "      <td>0</td>\n",
       "      <td>1</td>\n",
       "      <td>0</td>\n",
       "      <td>0</td>\n",
       "      <td>1619067128.3050609</td>\n",
       "      <td>1c_service_region</td>\n",
       "    </tr>\n",
       "    <tr>\n",
       "      <th>3</th>\n",
       "      <td>7258</td>\n",
       "      <td>2021-04-22 07:51:29</td>\n",
       "      <td>0</td>\n",
       "      <td>1</td>\n",
       "      <td>0</td>\n",
       "      <td>0</td>\n",
       "      <td>1619067276.3050641</td>\n",
       "      <td>1c_service_region</td>\n",
       "    </tr>\n",
       "    <tr>\n",
       "      <th>4</th>\n",
       "      <td>7259</td>\n",
       "      <td>2021-04-22 08:01:26</td>\n",
       "      <td>0</td>\n",
       "      <td>1</td>\n",
       "      <td>0</td>\n",
       "      <td>0</td>\n",
       "      <td>1619067872.3050737</td>\n",
       "      <td>1c_service_region</td>\n",
       "    </tr>\n",
       "    <tr>\n",
       "      <th>...</th>\n",
       "      <td>...</td>\n",
       "      <td>...</td>\n",
       "      <td>...</td>\n",
       "      <td>...</td>\n",
       "      <td>...</td>\n",
       "      <td>...</td>\n",
       "      <td>...</td>\n",
       "      <td>...</td>\n",
       "    </tr>\n",
       "    <tr>\n",
       "      <th>10654</th>\n",
       "      <td>17909</td>\n",
       "      <td>2021-04-22 21:36:05</td>\n",
       "      <td>0</td>\n",
       "      <td>1</td>\n",
       "      <td>0</td>\n",
       "      <td>0</td>\n",
       "      <td>1619116712.3074504</td>\n",
       "      <td>1c_service_spb</td>\n",
       "    </tr>\n",
       "    <tr>\n",
       "      <th>10655</th>\n",
       "      <td>17910</td>\n",
       "      <td>2021-04-22 21:40:50</td>\n",
       "      <td>0</td>\n",
       "      <td>1</td>\n",
       "      <td>0</td>\n",
       "      <td>1</td>\n",
       "      <td>1619116992.3074538</td>\n",
       "      <td>1c_service_spb</td>\n",
       "    </tr>\n",
       "    <tr>\n",
       "      <th>10656</th>\n",
       "      <td>17911</td>\n",
       "      <td>2021-04-22 21:53:17</td>\n",
       "      <td>0</td>\n",
       "      <td>1</td>\n",
       "      <td>0</td>\n",
       "      <td>1</td>\n",
       "      <td>1619117737.3074547</td>\n",
       "      <td>1c_service_spb</td>\n",
       "    </tr>\n",
       "    <tr>\n",
       "      <th>10657</th>\n",
       "      <td>17912</td>\n",
       "      <td>2021-04-22 22:14:15</td>\n",
       "      <td>0</td>\n",
       "      <td>1</td>\n",
       "      <td>0</td>\n",
       "      <td>1</td>\n",
       "      <td>1619118984.3074555</td>\n",
       "      <td>1c_service_spb</td>\n",
       "    </tr>\n",
       "    <tr>\n",
       "      <th>10658</th>\n",
       "      <td>17913</td>\n",
       "      <td>2021-04-22 22:54:15</td>\n",
       "      <td>0</td>\n",
       "      <td>1</td>\n",
       "      <td>0</td>\n",
       "      <td>1</td>\n",
       "      <td>1619121379.3074581</td>\n",
       "      <td>1c_service_spb</td>\n",
       "    </tr>\n",
       "  </tbody>\n",
       "</table>\n",
       "<p>10659 rows × 8 columns</p>\n",
       "</div>"
      ],
      "text/plain": [
       "          id           call_date  ak  miko  mrm  incoming  \\\n",
       "0       7255 2021-04-22 07:18:32   0     1    0         0   \n",
       "1       7256 2021-04-22 07:24:41   1     0    1         0   \n",
       "2       7257 2021-04-22 07:49:02   0     1    0         0   \n",
       "3       7258 2021-04-22 07:51:29   0     1    0         0   \n",
       "4       7259 2021-04-22 08:01:26   0     1    0         0   \n",
       "...      ...                 ...  ..   ...  ...       ...   \n",
       "10654  17909 2021-04-22 21:36:05   0     1    0         0   \n",
       "10655  17910 2021-04-22 21:40:50   0     1    0         1   \n",
       "10656  17911 2021-04-22 21:53:17   0     1    0         1   \n",
       "10657  17912 2021-04-22 22:14:15   0     1    0         1   \n",
       "10658  17913 2021-04-22 22:54:15   0     1    0         1   \n",
       "\n",
       "                  linkedid          base_name  \n",
       "0       1619065299.3050508  1c_service_region  \n",
       "1      1619065479.22323747  1c_service_region  \n",
       "2       1619067128.3050609  1c_service_region  \n",
       "3       1619067276.3050641  1c_service_region  \n",
       "4       1619067872.3050737  1c_service_region  \n",
       "...                    ...                ...  \n",
       "10654   1619116712.3074504     1c_service_spb  \n",
       "10655   1619116992.3074538     1c_service_spb  \n",
       "10656   1619117737.3074547     1c_service_spb  \n",
       "10657   1619118984.3074555     1c_service_spb  \n",
       "10658   1619121379.3074581     1c_service_spb  \n",
       "\n",
       "[10659 rows x 8 columns]"
      ]
     },
     "execution_count": 87,
     "metadata": {},
     "output_type": "execute_result"
    }
   ],
   "source": [
    "query = \"SELECT * from calls;\"\n",
    "calls = pd.read_sql(query, con = conn)\n",
    "calls"
   ]
  },
  {
   "cell_type": "code",
   "execution_count": 79,
   "metadata": {},
   "outputs": [],
   "source": [
    "calls.linkedid = calls.linkedid.str.replace('.WAV','')"
   ]
  },
  {
   "cell_type": "code",
   "execution_count": 81,
   "metadata": {},
   "outputs": [
    {
     "data": {
      "text/html": [
       "<div>\n",
       "<style scoped>\n",
       "    .dataframe tbody tr th:only-of-type {\n",
       "        vertical-align: middle;\n",
       "    }\n",
       "\n",
       "    .dataframe tbody tr th {\n",
       "        vertical-align: top;\n",
       "    }\n",
       "\n",
       "    .dataframe thead th {\n",
       "        text-align: right;\n",
       "    }\n",
       "</style>\n",
       "<table border=\"1\" class=\"dataframe\">\n",
       "  <thead>\n",
       "    <tr style=\"text-align: right;\">\n",
       "      <th></th>\n",
       "      <th>id</th>\n",
       "      <th>call_date</th>\n",
       "      <th>ak</th>\n",
       "      <th>miko</th>\n",
       "      <th>mrm</th>\n",
       "      <th>incoming</th>\n",
       "      <th>linkedid</th>\n",
       "      <th>base_name</th>\n",
       "    </tr>\n",
       "  </thead>\n",
       "  <tbody>\n",
       "  </tbody>\n",
       "</table>\n",
       "</div>"
      ],
      "text/plain": [
       "Empty DataFrame\n",
       "Columns: [id, call_date, ak, miko, mrm, incoming, linkedid, base_name]\n",
       "Index: []"
      ]
     },
     "execution_count": 81,
     "metadata": {},
     "output_type": "execute_result"
    }
   ],
   "source": [
    "calls[calls.linkedid=='1619120428.22353330.WAV']"
   ]
  },
  {
   "cell_type": "code",
   "execution_count": 71,
   "metadata": {},
   "outputs": [],
   "source": [
    "def get_base_name(val):\n",
    "    return re.findall( r'\"(.*?)\"', val)[1]"
   ]
  },
  {
   "cell_type": "code",
   "execution_count": 73,
   "metadata": {},
   "outputs": [],
   "source": [
    "df.base_name = df.base_name.apply(get_base_name)"
   ]
  },
  {
   "cell_type": "code",
   "execution_count": 74,
   "metadata": {},
   "outputs": [
    {
     "data": {
      "text/html": [
       "<div>\n",
       "<style scoped>\n",
       "    .dataframe tbody tr th:only-of-type {\n",
       "        vertical-align: middle;\n",
       "    }\n",
       "\n",
       "    .dataframe tbody tr th {\n",
       "        vertical-align: top;\n",
       "    }\n",
       "\n",
       "    .dataframe thead th {\n",
       "        text-align: right;\n",
       "    }\n",
       "</style>\n",
       "<table border=\"1\" class=\"dataframe\">\n",
       "  <thead>\n",
       "    <tr style=\"text-align: right;\">\n",
       "      <th></th>\n",
       "      <th>call_date</th>\n",
       "      <th>ak</th>\n",
       "      <th>miko</th>\n",
       "      <th>mrm</th>\n",
       "      <th>incoming</th>\n",
       "      <th>linkedid</th>\n",
       "      <th>base_name</th>\n",
       "    </tr>\n",
       "  </thead>\n",
       "  <tbody>\n",
       "    <tr>\n",
       "      <th>0</th>\n",
       "      <td>2021-04-22 07:18:32</td>\n",
       "      <td>False</td>\n",
       "      <td>True</td>\n",
       "      <td>False</td>\n",
       "      <td>False</td>\n",
       "      <td>1619065299.3050508</td>\n",
       "      <td>1c_service_region</td>\n",
       "    </tr>\n",
       "    <tr>\n",
       "      <th>1</th>\n",
       "      <td>2021-04-22 07:24:41</td>\n",
       "      <td>True</td>\n",
       "      <td>False</td>\n",
       "      <td>True</td>\n",
       "      <td>False</td>\n",
       "      <td>1619065479.22323747.WAV</td>\n",
       "      <td>1c_service_region</td>\n",
       "    </tr>\n",
       "  </tbody>\n",
       "</table>\n",
       "</div>"
      ],
      "text/plain": [
       "            call_date     ak   miko    mrm  incoming                 linkedid  \\\n",
       "0 2021-04-22 07:18:32  False   True  False     False       1619065299.3050508   \n",
       "1 2021-04-22 07:24:41   True  False   True     False  1619065479.22323747.WAV   \n",
       "\n",
       "           base_name  \n",
       "0  1c_service_region  \n",
       "1  1c_service_region  "
      ]
     },
     "execution_count": 74,
     "metadata": {},
     "output_type": "execute_result"
    }
   ],
   "source": [
    "df"
   ]
  },
  {
   "cell_type": "code",
   "execution_count": 70,
   "metadata": {},
   "outputs": [
    {
     "data": {
      "text/html": [
       "<div>\n",
       "<style scoped>\n",
       "    .dataframe tbody tr th:only-of-type {\n",
       "        vertical-align: middle;\n",
       "    }\n",
       "\n",
       "    .dataframe tbody tr th {\n",
       "        vertical-align: top;\n",
       "    }\n",
       "\n",
       "    .dataframe thead th {\n",
       "        text-align: right;\n",
       "    }\n",
       "</style>\n",
       "<table border=\"1\" class=\"dataframe\">\n",
       "  <thead>\n",
       "    <tr style=\"text-align: right;\">\n",
       "      <th></th>\n",
       "      <th>call_date</th>\n",
       "      <th>ak</th>\n",
       "      <th>miko</th>\n",
       "      <th>mrm</th>\n",
       "      <th>incoming</th>\n",
       "      <th>linkedid</th>\n",
       "      <th>base_name</th>\n",
       "    </tr>\n",
       "  </thead>\n",
       "  <tbody>\n",
       "    <tr>\n",
       "      <th>0</th>\n",
       "      <td>2021-04-22 07:18:32</td>\n",
       "      <td>False</td>\n",
       "      <td>True</td>\n",
       "      <td>False</td>\n",
       "      <td>False</td>\n",
       "      <td>1619065299.3050508</td>\n",
       "      <td>Srvr=\"msk-srv1c01\" Ref=\"1c_service_region\"</td>\n",
       "    </tr>\n",
       "    <tr>\n",
       "      <th>1</th>\n",
       "      <td>2021-04-22 07:24:41</td>\n",
       "      <td>True</td>\n",
       "      <td>False</td>\n",
       "      <td>True</td>\n",
       "      <td>False</td>\n",
       "      <td>1619065479.22323747.WAV</td>\n",
       "      <td>Srvr=\"msk-srv1c01\" Ref=\"1c_service_region\"</td>\n",
       "    </tr>\n",
       "  </tbody>\n",
       "</table>\n",
       "</div>"
      ],
      "text/plain": [
       "            call_date     ak   miko    mrm  incoming                 linkedid  \\\n",
       "0 2021-04-22 07:18:32  False   True  False     False       1619065299.3050508   \n",
       "1 2021-04-22 07:24:41   True  False   True     False  1619065479.22323747.WAV   \n",
       "\n",
       "                                     base_name  \n",
       "0  Srvr=\"msk-srv1c01\" Ref=\"1c_service_region\"   \n",
       "1   Srvr=\"msk-srv1c01\" Ref=\"1c_service_region\"  "
      ]
     },
     "execution_count": 70,
     "metadata": {},
     "output_type": "execute_result"
    }
   ],
   "source": [
    "df.base_name = df.base_name.str.replace(r'\"(.*?)\"', '')"
   ]
  },
  {
   "cell_type": "code",
   "execution_count": 69,
   "metadata": {},
   "outputs": [
    {
     "data": {
      "text/plain": [
       "'1c_service_region'"
      ]
     },
     "execution_count": 69,
     "metadata": {},
     "output_type": "execute_result"
    }
   ],
   "source": [
    "word = 'Srvr=\"msk-srv1c01\" Ref=\"1c_service_region\"'\n",
    "re.findall( r'\"(.*?)\"', word)[1]"
   ]
  },
  {
   "cell_type": "code",
   "execution_count": 67,
   "metadata": {},
   "outputs": [
    {
     "data": {
      "text/plain": [
       "['all cats are', 'all dogs are']"
      ]
     },
     "execution_count": 67,
     "metadata": {},
     "output_type": "execute_result"
    }
   ],
   "source": [
    "re.findall( r'all (.*?) are', 'all cats are smarter than dogs, all dogs are dumber than cats')\n",
    "# Output: ['cats', 'dogs']\n",
    "\n",
    "[x.group() for x in re.finditer( r'all (.*?) are', 'all cats are smarter than dogs, all dogs are dumber than cats')]\n",
    "# Output: ['all cats are', 'all dogs are']"
   ]
  },
  {
   "cell_type": "code",
   "execution_count": 62,
   "metadata": {},
   "outputs": [
    {
     "data": {
      "text/html": [
       "<div>\n",
       "<style scoped>\n",
       "    .dataframe tbody tr th:only-of-type {\n",
       "        vertical-align: middle;\n",
       "    }\n",
       "\n",
       "    .dataframe tbody tr th {\n",
       "        vertical-align: top;\n",
       "    }\n",
       "\n",
       "    .dataframe thead th {\n",
       "        text-align: right;\n",
       "    }\n",
       "</style>\n",
       "<table border=\"1\" class=\"dataframe\">\n",
       "  <thead>\n",
       "    <tr style=\"text-align: right;\">\n",
       "      <th></th>\n",
       "      <th>COLUMN_NAME</th>\n",
       "    </tr>\n",
       "  </thead>\n",
       "  <tbody>\n",
       "    <tr>\n",
       "      <th>0</th>\n",
       "      <td>id</td>\n",
       "    </tr>\n",
       "    <tr>\n",
       "      <th>1</th>\n",
       "      <td>call_date</td>\n",
       "    </tr>\n",
       "    <tr>\n",
       "      <th>2</th>\n",
       "      <td>ak</td>\n",
       "    </tr>\n",
       "    <tr>\n",
       "      <th>3</th>\n",
       "      <td>miko</td>\n",
       "    </tr>\n",
       "    <tr>\n",
       "      <th>4</th>\n",
       "      <td>mrm</td>\n",
       "    </tr>\n",
       "    <tr>\n",
       "      <th>5</th>\n",
       "      <td>incoming</td>\n",
       "    </tr>\n",
       "    <tr>\n",
       "      <th>6</th>\n",
       "      <td>linkedid</td>\n",
       "    </tr>\n",
       "    <tr>\n",
       "      <th>7</th>\n",
       "      <td>base_name</td>\n",
       "    </tr>\n",
       "  </tbody>\n",
       "</table>\n",
       "</div>"
      ],
      "text/plain": [
       "  COLUMN_NAME\n",
       "0          id\n",
       "1   call_date\n",
       "2          ak\n",
       "3        miko\n",
       "4         mrm\n",
       "5    incoming\n",
       "6    linkedid\n",
       "7   base_name"
      ]
     },
     "execution_count": 62,
     "metadata": {},
     "output_type": "execute_result"
    }
   ],
   "source": [
    "query = \"SELECT column_name FROM information_schema.columns WHERE table_name='calls';\"\n",
    "calls = pd.read_sql(query, con = conn)\n",
    "calls"
   ]
  },
  {
   "cell_type": "code",
   "execution_count": 34,
   "metadata": {},
   "outputs": [
    {
     "data": {
      "text/html": [
       "<div>\n",
       "<style scoped>\n",
       "    .dataframe tbody tr th:only-of-type {\n",
       "        vertical-align: middle;\n",
       "    }\n",
       "\n",
       "    .dataframe tbody tr th {\n",
       "        vertical-align: top;\n",
       "    }\n",
       "\n",
       "    .dataframe thead th {\n",
       "        text-align: right;\n",
       "    }\n",
       "</style>\n",
       "<table border=\"1\" class=\"dataframe\">\n",
       "  <thead>\n",
       "    <tr style=\"text-align: right;\">\n",
       "      <th></th>\n",
       "      <th>COLUMN_NAME</th>\n",
       "    </tr>\n",
       "  </thead>\n",
       "  <tbody>\n",
       "    <tr>\n",
       "      <th>0</th>\n",
       "      <td>id</td>\n",
       "    </tr>\n",
       "    <tr>\n",
       "      <th>1</th>\n",
       "      <td>call_date</td>\n",
       "    </tr>\n",
       "    <tr>\n",
       "      <th>2</th>\n",
       "      <td>ak</td>\n",
       "    </tr>\n",
       "    <tr>\n",
       "      <th>3</th>\n",
       "      <td>miko</td>\n",
       "    </tr>\n",
       "    <tr>\n",
       "      <th>4</th>\n",
       "      <td>mrm</td>\n",
       "    </tr>\n",
       "    <tr>\n",
       "      <th>5</th>\n",
       "      <td>incoming</td>\n",
       "    </tr>\n",
       "    <tr>\n",
       "      <th>6</th>\n",
       "      <td>linkedid</td>\n",
       "    </tr>\n",
       "    <tr>\n",
       "      <th>7</th>\n",
       "      <td>base_name</td>\n",
       "    </tr>\n",
       "  </tbody>\n",
       "</table>\n",
       "</div>"
      ],
      "text/plain": [
       "  COLUMN_NAME\n",
       "0          id\n",
       "1   call_date\n",
       "2          ak\n",
       "3        miko\n",
       "4         mrm\n",
       "5    incoming\n",
       "6    linkedid\n",
       "7   base_name"
      ]
     },
     "execution_count": 34,
     "metadata": {},
     "output_type": "execute_result"
    }
   ],
   "source": [
    "query = \"SELECT column_name FROM information_schema.columns WHERE table_name='calls';\"\n",
    "calls = pd.read_sql(query, con = conn)\n",
    "calls"
   ]
  },
  {
   "cell_type": "code",
   "execution_count": 57,
   "metadata": {
    "scrolled": false
   },
   "outputs": [
    {
     "data": {
      "text/plain": [
       "(Timestamp('2021-04-22 07:18:32'), pandas._libs.tslibs.timestamps.Timestamp)"
      ]
     },
     "execution_count": 57,
     "metadata": {},
     "output_type": "execute_result"
    }
   ],
   "source": [
    "filename = 'data.csv'\n",
    "dateparser = lambda x: datetime.strptime(x, \"%d.%m.%Y %H:%M:%S\")\n",
    "dtypes = {\n",
    "        'call_date': 'datetime64',\n",
    "        'ak': 'bool',\n",
    "        'miko': 'bool',\n",
    "         'mrm': 'bool',\n",
    "         'incoming': 'bool',\n",
    "         'linkedid': 'str',\n",
    "         'base_name': 'str',\n",
    "     }\n",
    "#df = pd.read_csv(filename, ';', dtype=dtypes, parse_dates = True)\n",
    "#df = pd.read_csv(filename, ';', parse_dates = True)\n",
    "df = pd.read_csv(filename, ';', parse_dates = ['call_date'], date_parser=dateparser)\n",
    "df.call_date.iloc[0], type(df.call_date.iloc[0])"
   ]
  },
  {
   "cell_type": "code",
   "execution_count": 60,
   "metadata": {},
   "outputs": [
    {
     "data": {
      "text/plain": [
       "('Srvr=\"msk-srv1c01\" Ref=\"1c_service_region\" ', str)"
      ]
     },
     "execution_count": 60,
     "metadata": {},
     "output_type": "execute_result"
    }
   ],
   "source": [
    "df.base_name.iloc[0], type(df.base_name.iloc[0])"
   ]
  }
 ],
 "metadata": {
  "kernelspec": {
   "display_name": "Python 3",
   "language": "python",
   "name": "python3"
  },
  "language_info": {
   "codemirror_mode": {
    "name": "ipython",
    "version": 3
   },
   "file_extension": ".py",
   "mimetype": "text/x-python",
   "name": "python",
   "nbconvert_exporter": "python",
   "pygments_lexer": "ipython3",
   "version": "3.7.6"
  }
 },
 "nbformat": 4,
 "nbformat_minor": 4
}
