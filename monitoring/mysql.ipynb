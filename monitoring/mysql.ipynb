{
 "cells": [
  {
   "cell_type": "code",
   "execution_count": 1,
   "metadata": {},
   "outputs": [],
   "source": [
    "# sudo service mysql stop\n",
    "# docker run --name mysql_call -p 3306:3306 -e MYSQL_ROOT_PASSWORD=your_secret_pwd -d mysql:latest"
   ]
  },
  {
   "cell_type": "code",
   "execution_count": 2,
   "metadata": {},
   "outputs": [],
   "source": [
    "import pymssql\n",
    "import pymysql\n",
    "import pandas as pd\n",
    "import numpy as np\n",
    "import datetime\n",
    "import re\n",
    "import matplotlib.pyplot as plt"
   ]
  },
  {
   "cell_type": "markdown",
   "metadata": {},
   "source": [
    "### connection init"
   ]
  },
  {
   "cell_type": "code",
   "execution_count": 3,
   "metadata": {},
   "outputs": [],
   "source": [
    "# calls\n",
    "with open('mysql_local.pass','r') as file:\n",
    "    calls_pass = file.read().replace('\\n', '')\n",
    "    file.close()\n",
    "calls_conn = pymysql.connect(\n",
    "            host = '10.2.4.87', \n",
    "            user = 'root',\n",
    "            passwd = calls_pass,\n",
    "            db = '1c',\n",
    "            autocommit = True\n",
    "        )\n",
    "calls_cursor = calls_conn.cursor()"
   ]
  },
  {
   "cell_type": "code",
   "execution_count": 4,
   "metadata": {},
   "outputs": [],
   "source": [
    "# transcribations\n",
    "with open('sql.pass','r') as file:\n",
    "    trans_pass = file.read().replace('\\n', '')\n",
    "    file.close()            \n",
    "trans_conn = pymssql.connect(\n",
    "            server = '10.2.4.124',\n",
    "            user = 'ICECORP\\\\1c_sql',\n",
    "            password = trans_pass,\n",
    "            database = 'voice_ai',\n",
    "            #autocommit=True\n",
    "        )\n",
    "trans_cursor = trans_conn.cursor()"
   ]
  },
  {
   "cell_type": "code",
   "execution_count": 5,
   "metadata": {},
   "outputs": [],
   "source": [
    "# mico96 (КЦ)\n",
    "with open('mysql.pass','r') as file:\n",
    "    mico_pass = file.read().replace('\\n', '')\n",
    "    file.close()\n",
    "mico_conn = pymysql.connect(\n",
    "            host = '10.2.4.146', \n",
    "            user = 'asterisk',\n",
    "            passwd = mico_pass,\n",
    "            db = 'MICO_96',\n",
    "            #autocommit = True\n",
    "        )\n",
    "mico_cursor = mico_conn.cursor()"
   ]
  },
  {
   "cell_type": "code",
   "execution_count": 6,
   "metadata": {},
   "outputs": [],
   "source": [
    "# mrm\n",
    "with open('mysql.pass','r') as file:\n",
    "    mico_pass = file.read().replace('\\n', '')\n",
    "    file.close()\n",
    "mico_conn = pymysql.connect(\n",
    "            host = '10.2.4.146', \n",
    "            user = 'asterisk',\n",
    "            passwd = mico_pass,\n",
    "            db = 'MICO_96',\n",
    "            #autocommit = True\n",
    "        )\n",
    "mico_cursor = mico_conn.cursor()"
   ]
  },
  {
   "cell_type": "markdown",
   "metadata": {},
   "source": [
    "### check mico96"
   ]
  },
  {
   "cell_type": "code",
   "execution_count": null,
   "metadata": {},
   "outputs": [],
   "source": [
    "query = \"show tables;\"\n",
    "tables = pd.read_sql(query, con = mico_conn)\n",
    "tables"
   ]
  },
  {
   "cell_type": "code",
   "execution_count": null,
   "metadata": {},
   "outputs": [],
   "source": [
    "query = \"SELECT * from PT1C_cdr_MICO where calldate>'2021-04-26' limit 2;\"\n",
    "mico = pd.read_sql(query, con = mico_conn)\n",
    "mico"
   ]
  },
  {
   "cell_type": "code",
   "execution_count": null,
   "metadata": {},
   "outputs": [],
   "source": [
    "query = \"SELECT calldate, src, dst, linkedid, peeraccount\"\n",
    "query += \" from PT1C_cdr_MICO where calldate>'2021-04-26 12:05:00'\"\n",
    "#query += \" and calldate<'2021-04-26 11:46:00'\"\n",
    "#query += \" and peeraccount>'1619426331.30788'\"\n",
    "#query += \" and linkedid>'1619426331.3078800'\"\n",
    "#query += \" and linkedid<'1619426520.3078906'\"\n",
    "#query += \" order by peeraccount limit 50;\"\n",
    "#\" and not peeraccount = ''\"\n",
    "#query += \" and linkedid ='1619426653.3078971'\"\n",
    "#query += \" and peeraccount ='1619426653.3078971'\"\n",
    "#query += \" and peeraccount ='1619425635.3078414'\"\n",
    "query += \" order by calldate limit 50;\"\n",
    "mico = pd.read_sql(query, con = mico_conn)\n",
    "mico"
   ]
  },
  {
   "cell_type": "code",
   "execution_count": null,
   "metadata": {},
   "outputs": [],
   "source": [
    "# transcribations\n",
    "query = \"SELECT distinct top 50 record_date, src, dst, linkedid, source_id from transcribations\"\n",
    "query += \" where record_date>='2021-04-26 12:05:00'\"#\" and source_id=2\"\n",
    "#query += \" and linkedid>'1619426331.3078800'\"\n",
    "#query += \" and linkedid<'1619426520.3078906'\"\n",
    "query += \" order by record_date;\"\n",
    "#query += \" order by linkedid;\"\n",
    "#query += \" where record_date>='\"+date_from+\"' and linkedid = '1619424473.3077800';\"\n",
    "tr = pd.read_sql(query, con = trans_conn)\n",
    "#tr[tr.linkedid=='1619424473.3077800']\n",
    "tr"
   ]
  },
  {
   "cell_type": "markdown",
   "metadata": {},
   "source": [
    "### report"
   ]
  },
  {
   "cell_type": "code",
   "execution_count": 34,
   "metadata": {},
   "outputs": [],
   "source": [
    "def plot_grouped(df, header):\n",
    "    \n",
    "    df = df.drop(['base_name','_merge', 'call_date'], axis = 1)\n",
    "    df = df.groupby(['day', 'ak', 'miko', 'mrm', 'incoming', 'outcoming']).count()\n",
    "    # df.groupby('param')['group'].nunique()\n",
    "    for i in range(6):\n",
    "        df.reset_index(level=0, inplace=True)\n",
    "    df.incoming *= df.linkedid\n",
    "    df.outcoming *= df.linkedid\n",
    "    df.mrm *= df.linkedid\n",
    "    df.miko *= df.linkedid\n",
    "    df.ak *= df.linkedid\n",
    "\n",
    "    grp = []\n",
    "    tmp = df[['day', 'incoming']].groupby('day').sum()\n",
    "    tmp.reset_index(level=0, inplace=True)\n",
    "    grp.append(tmp)\n",
    "    tmp = df[['day', 'outcoming']].groupby('day').sum()\n",
    "    tmp.reset_index(level=0, inplace=True)\n",
    "    grp.append(tmp)\n",
    "    tmp = df[['day', 'ak']].groupby('day').sum()\n",
    "    tmp.reset_index(level=0, inplace=True)\n",
    "    grp.append(tmp)\n",
    "    tmp = df[['day', 'miko']].groupby('day').sum()\n",
    "    tmp.reset_index(level=0, inplace=True)\n",
    "    grp.append(tmp)\n",
    "    tmp = df[['day', 'mrm']].groupby('day').sum()\n",
    "    tmp.reset_index(level=0, inplace=True)\n",
    "    grp.append(tmp)\n",
    "    tmp = df[['day', 'linkedid']].groupby('day').sum()\n",
    "    tmp.reset_index(level=0, inplace=True)\n",
    "    grp.append(tmp)\n",
    "\n",
    "    df = grp[0]\n",
    "    for i in range(5):\n",
    "        df = df.merge(grp[i+1], on='day', how='left')\n",
    "\n",
    "    calls_max = df.linkedid.max()*3\n",
    "    # Decide Colors \n",
    "    mycolors = ['tab:blue', 'tab:orange', 'tab:green', 'tab:grey', 'red']\n",
    "\n",
    "    # Draw Plot and Annotate\n",
    "    fig, ax = plt.subplots(1,1,figsize=(16, 9), dpi= 80)\n",
    "    columns = df.columns[1:6]\n",
    "    labs = columns.values.tolist()\n",
    "\n",
    "    # Prepare data\n",
    "    x  = df['day'].values.tolist()\n",
    "    y0 = df[columns[0]].values.tolist()\n",
    "    y1 = df[columns[1]].values.tolist()\n",
    "    y2 = df[columns[2]].values.tolist()\n",
    "    y3 = df[columns[3]].values.tolist()\n",
    "    y4 = df[columns[4]].values.tolist()\n",
    "    y = np.vstack([y0, y1, y2, y3, y4])\n",
    "\n",
    "    # Plot for each column\n",
    "    labs = columns.values.tolist()\n",
    "    ax = plt.gca()\n",
    "    ax.stackplot(x, y, labels=labs, colors=mycolors, alpha=0.8)\n",
    "\n",
    "    # Decorations\n",
    "    ax.set_title(header, fontsize=18)\n",
    "    ax.set(ylim=[0, calls_max])\n",
    "    ax.legend(fontsize=10, ncol=4)\n",
    "    plt.xticks(x[::5], fontsize=10, horizontalalignment='center')\n",
    "    plt.yticks(np.arange(calls_max, calls_max, calls_max/5), fontsize=10)\n",
    "    plt.xlim(x[0], x[-1])\n",
    "\n",
    "    # Lighten borders\n",
    "    plt.gca().spines[\"top\"].set_alpha(0)\n",
    "    plt.gca().spines[\"bottom\"].set_alpha(.3)\n",
    "    plt.gca().spines[\"right\"].set_alpha(0)\n",
    "    plt.gca().spines[\"left\"].set_alpha(.3)\n",
    "\n",
    "    plt.show()"
   ]
  },
  {
   "cell_type": "code",
   "execution_count": 8,
   "metadata": {
    "scrolled": true
   },
   "outputs": [
    {
     "data": {
      "text/html": [
       "<div>\n",
       "<style scoped>\n",
       "    .dataframe tbody tr th:only-of-type {\n",
       "        vertical-align: middle;\n",
       "    }\n",
       "\n",
       "    .dataframe tbody tr th {\n",
       "        vertical-align: top;\n",
       "    }\n",
       "\n",
       "    .dataframe thead th {\n",
       "        text-align: right;\n",
       "    }\n",
       "</style>\n",
       "<table border=\"1\" class=\"dataframe\">\n",
       "  <thead>\n",
       "    <tr style=\"text-align: right;\">\n",
       "      <th></th>\n",
       "      <th>day</th>\n",
       "      <th>call_date</th>\n",
       "      <th>ak</th>\n",
       "      <th>miko</th>\n",
       "      <th>mrm</th>\n",
       "      <th>incoming</th>\n",
       "      <th>outcoming</th>\n",
       "      <th>linkedid</th>\n",
       "      <th>base_name</th>\n",
       "    </tr>\n",
       "  </thead>\n",
       "  <tbody>\n",
       "    <tr>\n",
       "      <th>0</th>\n",
       "      <td>22</td>\n",
       "      <td>2021-04-22</td>\n",
       "      <td>0</td>\n",
       "      <td>1</td>\n",
       "      <td>0</td>\n",
       "      <td>0</td>\n",
       "      <td>1</td>\n",
       "      <td>1619065299.3050508</td>\n",
       "      <td>1c_service_region</td>\n",
       "    </tr>\n",
       "    <tr>\n",
       "      <th>1</th>\n",
       "      <td>22</td>\n",
       "      <td>2021-04-22</td>\n",
       "      <td>1</td>\n",
       "      <td>0</td>\n",
       "      <td>1</td>\n",
       "      <td>0</td>\n",
       "      <td>1</td>\n",
       "      <td>1619065479.22323747</td>\n",
       "      <td>1c_service_region</td>\n",
       "    </tr>\n",
       "    <tr>\n",
       "      <th>2</th>\n",
       "      <td>22</td>\n",
       "      <td>2021-04-22</td>\n",
       "      <td>0</td>\n",
       "      <td>1</td>\n",
       "      <td>0</td>\n",
       "      <td>0</td>\n",
       "      <td>1</td>\n",
       "      <td>1619067128.3050609</td>\n",
       "      <td>1c_service_region</td>\n",
       "    </tr>\n",
       "    <tr>\n",
       "      <th>3</th>\n",
       "      <td>22</td>\n",
       "      <td>2021-04-22</td>\n",
       "      <td>0</td>\n",
       "      <td>1</td>\n",
       "      <td>0</td>\n",
       "      <td>0</td>\n",
       "      <td>1</td>\n",
       "      <td>1619067276.3050641</td>\n",
       "      <td>1c_service_region</td>\n",
       "    </tr>\n",
       "    <tr>\n",
       "      <th>4</th>\n",
       "      <td>22</td>\n",
       "      <td>2021-04-22</td>\n",
       "      <td>0</td>\n",
       "      <td>1</td>\n",
       "      <td>0</td>\n",
       "      <td>0</td>\n",
       "      <td>1</td>\n",
       "      <td>1619067872.3050737</td>\n",
       "      <td>1c_service_region</td>\n",
       "    </tr>\n",
       "    <tr>\n",
       "      <th>...</th>\n",
       "      <td>...</td>\n",
       "      <td>...</td>\n",
       "      <td>...</td>\n",
       "      <td>...</td>\n",
       "      <td>...</td>\n",
       "      <td>...</td>\n",
       "      <td>...</td>\n",
       "      <td>...</td>\n",
       "      <td>...</td>\n",
       "    </tr>\n",
       "    <tr>\n",
       "      <th>50058</th>\n",
       "      <td>26</td>\n",
       "      <td>2021-04-26</td>\n",
       "      <td>0</td>\n",
       "      <td>1</td>\n",
       "      <td>0</td>\n",
       "      <td>1</td>\n",
       "      <td>0</td>\n",
       "      <td>1619464402.3161309</td>\n",
       "      <td>1C_Service</td>\n",
       "    </tr>\n",
       "    <tr>\n",
       "      <th>50059</th>\n",
       "      <td>26</td>\n",
       "      <td>2021-04-26</td>\n",
       "      <td>0</td>\n",
       "      <td>1</td>\n",
       "      <td>0</td>\n",
       "      <td>1</td>\n",
       "      <td>0</td>\n",
       "      <td>1619464421.3161311</td>\n",
       "      <td>1C_Service</td>\n",
       "    </tr>\n",
       "    <tr>\n",
       "      <th>50060</th>\n",
       "      <td>26</td>\n",
       "      <td>2021-04-26</td>\n",
       "      <td>0</td>\n",
       "      <td>1</td>\n",
       "      <td>0</td>\n",
       "      <td>1</td>\n",
       "      <td>0</td>\n",
       "      <td>1619464569.3161333</td>\n",
       "      <td>1C_Service</td>\n",
       "    </tr>\n",
       "    <tr>\n",
       "      <th>50061</th>\n",
       "      <td>26</td>\n",
       "      <td>2021-04-26</td>\n",
       "      <td>0</td>\n",
       "      <td>1</td>\n",
       "      <td>0</td>\n",
       "      <td>0</td>\n",
       "      <td>1</td>\n",
       "      <td>1619464968.3161341</td>\n",
       "      <td>1C_Service</td>\n",
       "    </tr>\n",
       "    <tr>\n",
       "      <th>50062</th>\n",
       "      <td>26</td>\n",
       "      <td>2021-04-26</td>\n",
       "      <td>0</td>\n",
       "      <td>1</td>\n",
       "      <td>0</td>\n",
       "      <td>1</td>\n",
       "      <td>0</td>\n",
       "      <td>1619465845.3161345</td>\n",
       "      <td>1C_Service</td>\n",
       "    </tr>\n",
       "  </tbody>\n",
       "</table>\n",
       "<p>50063 rows × 9 columns</p>\n",
       "</div>"
      ],
      "text/plain": [
       "       day   call_date  ak  miko  mrm  incoming  outcoming  \\\n",
       "0       22  2021-04-22   0     1    0         0          1   \n",
       "1       22  2021-04-22   1     0    1         0          1   \n",
       "2       22  2021-04-22   0     1    0         0          1   \n",
       "3       22  2021-04-22   0     1    0         0          1   \n",
       "4       22  2021-04-22   0     1    0         0          1   \n",
       "...    ...         ...  ..   ...  ...       ...        ...   \n",
       "50058   26  2021-04-26   0     1    0         1          0   \n",
       "50059   26  2021-04-26   0     1    0         1          0   \n",
       "50060   26  2021-04-26   0     1    0         1          0   \n",
       "50061   26  2021-04-26   0     1    0         0          1   \n",
       "50062   26  2021-04-26   0     1    0         1          0   \n",
       "\n",
       "                  linkedid          base_name  \n",
       "0       1619065299.3050508  1c_service_region  \n",
       "1      1619065479.22323747  1c_service_region  \n",
       "2       1619067128.3050609  1c_service_region  \n",
       "3       1619067276.3050641  1c_service_region  \n",
       "4       1619067872.3050737  1c_service_region  \n",
       "...                    ...                ...  \n",
       "50058   1619464402.3161309         1C_Service  \n",
       "50059   1619464421.3161311         1C_Service  \n",
       "50060   1619464569.3161333         1C_Service  \n",
       "50061   1619464968.3161341         1C_Service  \n",
       "50062   1619465845.3161345         1C_Service  \n",
       "\n",
       "[50063 rows x 9 columns]"
      ]
     },
     "execution_count": 8,
     "metadata": {},
     "output_type": "execute_result"
    }
   ],
   "source": [
    "# calls\n",
    "#query = \"SELECT cast(call_date as date), ak, miko, mrm, incoming, linkedid, base_name from calls;\"\n",
    "query = \"SELECT day(call_date) as day, date(call_date) as call_date, ak, miko, mrm, incoming, not incoming as outcoming, linkedid, base_name from calls;\"\n",
    "#query = \"SELECT * from calls;\"\n",
    "calls = pd.read_sql(query, con = calls_conn)\n",
    "date_min = calls.call_date.min()\n",
    "date_max = calls.call_date.max()\n",
    "#calls.drop(['id'], axis = 1, inplace = True)\n",
    "calls"
   ]
  },
  {
   "cell_type": "code",
   "execution_count": 9,
   "metadata": {},
   "outputs": [],
   "source": [
    "date_from = datetime.datetime.strptime(str(date_min), '%Y-%m-%d').strftime('%Y%m%d %H:%M:%S.000')\n",
    "date_toto = datetime.datetime.strptime(str(date_max), '%Y-%m-%d').strftime('%Y%m%d %H:%M:%S.000')"
   ]
  },
  {
   "cell_type": "code",
   "execution_count": 10,
   "metadata": {},
   "outputs": [
    {
     "data": {
      "text/html": [
       "<div>\n",
       "<style scoped>\n",
       "    .dataframe tbody tr th:only-of-type {\n",
       "        vertical-align: middle;\n",
       "    }\n",
       "\n",
       "    .dataframe tbody tr th {\n",
       "        vertical-align: top;\n",
       "    }\n",
       "\n",
       "    .dataframe thead th {\n",
       "        text-align: right;\n",
       "    }\n",
       "</style>\n",
       "<table border=\"1\" class=\"dataframe\">\n",
       "  <thead>\n",
       "    <tr style=\"text-align: right;\">\n",
       "      <th></th>\n",
       "      <th>linkedid</th>\n",
       "    </tr>\n",
       "  </thead>\n",
       "  <tbody>\n",
       "    <tr>\n",
       "      <th>0</th>\n",
       "      <td>1619064714.3050495</td>\n",
       "    </tr>\n",
       "    <tr>\n",
       "      <th>1</th>\n",
       "      <td>1619064753.3050498</td>\n",
       "    </tr>\n",
       "    <tr>\n",
       "      <th>2</th>\n",
       "      <td>1619064800.3050500</td>\n",
       "    </tr>\n",
       "    <tr>\n",
       "      <th>3</th>\n",
       "      <td>1619065011.3050502</td>\n",
       "    </tr>\n",
       "    <tr>\n",
       "      <th>4</th>\n",
       "      <td>1619065029.3050504</td>\n",
       "    </tr>\n",
       "    <tr>\n",
       "      <th>...</th>\n",
       "      <td>...</td>\n",
       "    </tr>\n",
       "    <tr>\n",
       "      <th>31118</th>\n",
       "      <td>1619464569.3161333</td>\n",
       "    </tr>\n",
       "    <tr>\n",
       "      <th>31119</th>\n",
       "      <td>1619464811.3094075</td>\n",
       "    </tr>\n",
       "    <tr>\n",
       "      <th>31120</th>\n",
       "      <td>1619465234.3161343</td>\n",
       "    </tr>\n",
       "    <tr>\n",
       "      <th>31121</th>\n",
       "      <td>1619465845.3161345</td>\n",
       "    </tr>\n",
       "    <tr>\n",
       "      <th>31122</th>\n",
       "      <td>1619466757.3161347</td>\n",
       "    </tr>\n",
       "  </tbody>\n",
       "</table>\n",
       "<p>31123 rows × 1 columns</p>\n",
       "</div>"
      ],
      "text/plain": [
       "                 linkedid\n",
       "0      1619064714.3050495\n",
       "1      1619064753.3050498\n",
       "2      1619064800.3050500\n",
       "3      1619065011.3050502\n",
       "4      1619065029.3050504\n",
       "...                   ...\n",
       "31118  1619464569.3161333\n",
       "31119  1619464811.3094075\n",
       "31120  1619465234.3161343\n",
       "31121  1619465845.3161345\n",
       "31122  1619466757.3161347\n",
       "\n",
       "[31123 rows x 1 columns]"
      ]
     },
     "execution_count": 10,
     "metadata": {},
     "output_type": "execute_result"
    }
   ],
   "source": [
    "# transcribations\n",
    "#query = \"SELECT distinct cast(record_date as date) as record_date, linkedid from transcribations\"\n",
    "query = \"SELECT distinct linkedid from transcribations\"\n",
    "query += \" where cast(record_date as date)>='\"+date_from+\"' and cast(record_date as date)<='\"+date_toto+\"';\"\n",
    "trans = pd.read_sql(query, con = trans_conn)\n",
    "trans"
   ]
  },
  {
   "cell_type": "code",
   "execution_count": 32,
   "metadata": {},
   "outputs": [
    {
     "data": {
      "text/html": [
       "<div>\n",
       "<style scoped>\n",
       "    .dataframe tbody tr th:only-of-type {\n",
       "        vertical-align: middle;\n",
       "    }\n",
       "\n",
       "    .dataframe tbody tr th {\n",
       "        vertical-align: top;\n",
       "    }\n",
       "\n",
       "    .dataframe thead th {\n",
       "        text-align: right;\n",
       "    }\n",
       "</style>\n",
       "<table border=\"1\" class=\"dataframe\">\n",
       "  <thead>\n",
       "    <tr style=\"text-align: right;\">\n",
       "      <th></th>\n",
       "      <th>day</th>\n",
       "      <th>call_date</th>\n",
       "      <th>ak</th>\n",
       "      <th>miko</th>\n",
       "      <th>mrm</th>\n",
       "      <th>incoming</th>\n",
       "      <th>outcoming</th>\n",
       "      <th>linkedid</th>\n",
       "      <th>base_name</th>\n",
       "      <th>_merge</th>\n",
       "    </tr>\n",
       "  </thead>\n",
       "  <tbody>\n",
       "    <tr>\n",
       "      <th>13</th>\n",
       "      <td>22.0</td>\n",
       "      <td>2021-04-22</td>\n",
       "      <td>0.0</td>\n",
       "      <td>1.0</td>\n",
       "      <td>0.0</td>\n",
       "      <td>1.0</td>\n",
       "      <td>0.0</td>\n",
       "      <td>1619067964.3050777</td>\n",
       "      <td>1c_service_region</td>\n",
       "      <td>both</td>\n",
       "    </tr>\n",
       "    <tr>\n",
       "      <th>14</th>\n",
       "      <td>22.0</td>\n",
       "      <td>2021-04-22</td>\n",
       "      <td>0.0</td>\n",
       "      <td>1.0</td>\n",
       "      <td>0.0</td>\n",
       "      <td>1.0</td>\n",
       "      <td>0.0</td>\n",
       "      <td>1619068197.3050932</td>\n",
       "      <td>1c_service_region</td>\n",
       "      <td>both</td>\n",
       "    </tr>\n",
       "    <tr>\n",
       "      <th>48</th>\n",
       "      <td>22.0</td>\n",
       "      <td>2021-04-22</td>\n",
       "      <td>0.0</td>\n",
       "      <td>1.0</td>\n",
       "      <td>0.0</td>\n",
       "      <td>1.0</td>\n",
       "      <td>0.0</td>\n",
       "      <td>1619068392.3050993</td>\n",
       "      <td>1c_service_region</td>\n",
       "      <td>both</td>\n",
       "    </tr>\n",
       "    <tr>\n",
       "      <th>60</th>\n",
       "      <td>22.0</td>\n",
       "      <td>2021-04-22</td>\n",
       "      <td>0.0</td>\n",
       "      <td>1.0</td>\n",
       "      <td>0.0</td>\n",
       "      <td>1.0</td>\n",
       "      <td>0.0</td>\n",
       "      <td>1619068716.3051072</td>\n",
       "      <td>1c_service_region</td>\n",
       "      <td>both</td>\n",
       "    </tr>\n",
       "    <tr>\n",
       "      <th>180</th>\n",
       "      <td>22.0</td>\n",
       "      <td>2021-04-22</td>\n",
       "      <td>0.0</td>\n",
       "      <td>1.0</td>\n",
       "      <td>0.0</td>\n",
       "      <td>1.0</td>\n",
       "      <td>0.0</td>\n",
       "      <td>1619069072.3051248</td>\n",
       "      <td>1c_service_region</td>\n",
       "      <td>both</td>\n",
       "    </tr>\n",
       "    <tr>\n",
       "      <th>...</th>\n",
       "      <td>...</td>\n",
       "      <td>...</td>\n",
       "      <td>...</td>\n",
       "      <td>...</td>\n",
       "      <td>...</td>\n",
       "      <td>...</td>\n",
       "      <td>...</td>\n",
       "      <td>...</td>\n",
       "      <td>...</td>\n",
       "      <td>...</td>\n",
       "    </tr>\n",
       "    <tr>\n",
       "      <th>50057</th>\n",
       "      <td>26.0</td>\n",
       "      <td>2021-04-26</td>\n",
       "      <td>0.0</td>\n",
       "      <td>1.0</td>\n",
       "      <td>0.0</td>\n",
       "      <td>1.0</td>\n",
       "      <td>0.0</td>\n",
       "      <td>1619464028.3161305</td>\n",
       "      <td>1C_Service</td>\n",
       "      <td>both</td>\n",
       "    </tr>\n",
       "    <tr>\n",
       "      <th>50059</th>\n",
       "      <td>26.0</td>\n",
       "      <td>2021-04-26</td>\n",
       "      <td>0.0</td>\n",
       "      <td>1.0</td>\n",
       "      <td>0.0</td>\n",
       "      <td>1.0</td>\n",
       "      <td>0.0</td>\n",
       "      <td>1619464402.3161309</td>\n",
       "      <td>1C_Service</td>\n",
       "      <td>both</td>\n",
       "    </tr>\n",
       "    <tr>\n",
       "      <th>50060</th>\n",
       "      <td>26.0</td>\n",
       "      <td>2021-04-26</td>\n",
       "      <td>0.0</td>\n",
       "      <td>1.0</td>\n",
       "      <td>0.0</td>\n",
       "      <td>1.0</td>\n",
       "      <td>0.0</td>\n",
       "      <td>1619464421.3161311</td>\n",
       "      <td>1C_Service</td>\n",
       "      <td>both</td>\n",
       "    </tr>\n",
       "    <tr>\n",
       "      <th>50061</th>\n",
       "      <td>26.0</td>\n",
       "      <td>2021-04-26</td>\n",
       "      <td>0.0</td>\n",
       "      <td>1.0</td>\n",
       "      <td>0.0</td>\n",
       "      <td>1.0</td>\n",
       "      <td>0.0</td>\n",
       "      <td>1619464569.3161333</td>\n",
       "      <td>1C_Service</td>\n",
       "      <td>both</td>\n",
       "    </tr>\n",
       "    <tr>\n",
       "      <th>50062</th>\n",
       "      <td>26.0</td>\n",
       "      <td>2021-04-26</td>\n",
       "      <td>0.0</td>\n",
       "      <td>1.0</td>\n",
       "      <td>0.0</td>\n",
       "      <td>1.0</td>\n",
       "      <td>0.0</td>\n",
       "      <td>1619465845.3161345</td>\n",
       "      <td>1C_Service</td>\n",
       "      <td>both</td>\n",
       "    </tr>\n",
       "  </tbody>\n",
       "</table>\n",
       "<p>10606 rows × 10 columns</p>\n",
       "</div>"
      ],
      "text/plain": [
       "        day   call_date   ak  miko  mrm  incoming  outcoming  \\\n",
       "13     22.0  2021-04-22  0.0   1.0  0.0       1.0        0.0   \n",
       "14     22.0  2021-04-22  0.0   1.0  0.0       1.0        0.0   \n",
       "48     22.0  2021-04-22  0.0   1.0  0.0       1.0        0.0   \n",
       "60     22.0  2021-04-22  0.0   1.0  0.0       1.0        0.0   \n",
       "180    22.0  2021-04-22  0.0   1.0  0.0       1.0        0.0   \n",
       "...     ...         ...  ...   ...  ...       ...        ...   \n",
       "50057  26.0  2021-04-26  0.0   1.0  0.0       1.0        0.0   \n",
       "50059  26.0  2021-04-26  0.0   1.0  0.0       1.0        0.0   \n",
       "50060  26.0  2021-04-26  0.0   1.0  0.0       1.0        0.0   \n",
       "50061  26.0  2021-04-26  0.0   1.0  0.0       1.0        0.0   \n",
       "50062  26.0  2021-04-26  0.0   1.0  0.0       1.0        0.0   \n",
       "\n",
       "                 linkedid          base_name _merge  \n",
       "13     1619067964.3050777  1c_service_region   both  \n",
       "14     1619068197.3050932  1c_service_region   both  \n",
       "48     1619068392.3050993  1c_service_region   both  \n",
       "60     1619068716.3051072  1c_service_region   both  \n",
       "180    1619069072.3051248  1c_service_region   both  \n",
       "...                   ...                ...    ...  \n",
       "50057  1619464028.3161305         1C_Service   both  \n",
       "50059  1619464402.3161309         1C_Service   both  \n",
       "50060  1619464421.3161311         1C_Service   both  \n",
       "50061  1619464569.3161333         1C_Service   both  \n",
       "50062  1619465845.3161345         1C_Service   both  \n",
       "\n",
       "[10606 rows x 10 columns]"
      ]
     },
     "execution_count": 32,
     "metadata": {},
     "output_type": "execute_result"
    }
   ],
   "source": [
    "df"
   ]
  },
  {
   "cell_type": "code",
   "execution_count": 11,
   "metadata": {},
   "outputs": [
    {
     "data": {
      "text/plain": [
       "(datetime.date(2021, 4, 22), datetime.date(2021, 4, 26))"
      ]
     },
     "execution_count": 11,
     "metadata": {},
     "output_type": "execute_result"
    }
   ],
   "source": [
    "date_min, date_max"
   ]
  },
  {
   "cell_type": "code",
   "execution_count": 12,
   "metadata": {},
   "outputs": [
    {
     "data": {
      "text/plain": [
       "(50063, 31123)"
      ]
     },
     "execution_count": 12,
     "metadata": {},
     "output_type": "execute_result"
    }
   ],
   "source": [
    "len(calls), len(trans)"
   ]
  },
  {
   "cell_type": "code",
   "execution_count": 14,
   "metadata": {},
   "outputs": [],
   "source": [
    "df_all = pd.merge(calls, trans, on='linkedid', how=\"outer\", indicator=True)"
   ]
  },
  {
   "cell_type": "code",
   "execution_count": 25,
   "metadata": {},
   "outputs": [
    {
     "data": {
      "text/plain": [
       "20334"
      ]
     },
     "execution_count": 25,
     "metadata": {},
     "output_type": "execute_result"
    }
   ],
   "source": []
  },
  {
   "cell_type": "code",
   "execution_count": 26,
   "metadata": {},
   "outputs": [
    {
     "name": "stdout",
     "output_type": "stream",
     "text": [
      "Звонков: 30767\n",
      "Расшифровок: 31123\n",
      "Связь установлена: 10433\n",
      "Идентификатор расшифровки не найден среди звонков: 20334\n"
     ]
    }
   ],
   "source": [
    "print('Звонков:', len(calls.linkedid.unique()))\n",
    "print('Расшифровок:', len(trans.linkedid.unique()))\n",
    "print('Связь установлена:', len(df_all[df_all._merge == 'both'].linkedid.unique()))\n",
    "print('Идентификатор расшифровки не найден среди звонков:', len(df_all[df_all._merge == 'left_only'].linkedid.unique()))"
   ]
  },
  {
   "cell_type": "code",
   "execution_count": 15,
   "metadata": {},
   "outputs": [
    {
     "data": {
      "text/plain": [
       "(39457, 10606, 20690)"
      ]
     },
     "execution_count": 15,
     "metadata": {},
     "output_type": "execute_result"
    }
   ],
   "source": [
    "print(len(df_all[df_all._merge == 'left_only']), , len(df_all[df_all._merge == 'right_only'])"
   ]
  },
  {
   "cell_type": "code",
   "execution_count": 35,
   "metadata": {},
   "outputs": [
    {
     "data": {
      "image/png": "[encoded data removed]",
      "text/plain": [
       "<Figure size 1280x720 with 1 Axes>"
      ]
     },
     "metadata": {
      "needs_background": "light"
     },
     "output_type": "display_data"
    }
   ],
   "source": [
    "df = df_all[df_all._merge == 'both']\n",
    "plot_grouped(df, 'Соединение установлено')"
   ]
  },
  {
   "cell_type": "code",
   "execution_count": 17,
   "metadata": {},
   "outputs": [
    {
     "data": {
      "image/png": "[encoded data removed]",
      "text/plain": [
       "<Figure size 1280x720 with 1 Axes>"
      ]
     },
     "metadata": {
      "needs_background": "light"
     },
     "output_type": "display_data"
    }
   ],
   "source": [
    "df = df_all[df_all._merge == 'left_only']\n",
    "plot_grouped(df, 'Соединение не установлено')"
   ]
  },
  {
   "cell_type": "markdown",
   "metadata": {},
   "source": [
    "### database maintance"
   ]
  },
  {
   "cell_type": "code",
   "execution_count": null,
   "metadata": {},
   "outputs": [],
   "source": [
    "query = \"create database 1c;\"\n",
    "cursor.execute(query)"
   ]
  },
  {
   "cell_type": "code",
   "execution_count": null,
   "metadata": {},
   "outputs": [],
   "source": [
    "query = \"use 1c;\"\n",
    "cursor.execute(query)\n",
    "for row in cursor.fetchall():\n",
    "    print(row)"
   ]
  },
  {
   "cell_type": "code",
   "execution_count": null,
   "metadata": {},
   "outputs": [],
   "source": [
    "query = \"show tables;\"\n",
    "cursor.execute(query)\n",
    "for row in cursor.fetchall():\n",
    "    print(row)"
   ]
  },
  {
   "cell_type": "code",
   "execution_count": null,
   "metadata": {},
   "outputs": [],
   "source": [
    "#--create table users ( id int not null auto_increment, token varchar(36), \n",
    "#email varchar(64), event_date DATETIME, primary key (id) );\n",
    "query = \"create table calls\"\n",
    "query += \" (\"\n",
    "query += \" id int not null auto_increment,\"\n",
    "query += \" call_date DATETIME,\"\n",
    "query += \" ak BOOLEAN,\"\n",
    "query += \" miko BOOLEAN,\"\n",
    "query += \" mrm BOOLEAN,\"\n",
    "query += \" incoming BOOLEAN,\"\n",
    "query += \" linkedid varchar(64),\"\n",
    "query += \" base_name varchar(64),\"\n",
    "query += \" primary key (id)\"\n",
    "query += \" );\"\n",
    "cursor.execute(query)\n",
    "for row in cursor.fetchall():\n",
    "    print(row)"
   ]
  },
  {
   "cell_type": "code",
   "execution_count": null,
   "metadata": {},
   "outputs": [],
   "source": [
    "query = \"drop table calls;\"\n",
    "cursor.execute(query)\n",
    "for row in cursor.fetchall():\n",
    "    print(row)"
   ]
  },
  {
   "cell_type": "code",
   "execution_count": null,
   "metadata": {},
   "outputs": [],
   "source": [
    "query = \"delete from calls;\"\n",
    "cursor.execute(query)\n",
    "for row in cursor.fetchall():\n",
    "    print(row)"
   ]
  },
  {
   "cell_type": "markdown",
   "metadata": {},
   "source": [
    "### experiments"
   ]
  },
  {
   "cell_type": "code",
   "execution_count": null,
   "metadata": {},
   "outputs": [],
   "source": [
    "calls.linkedid = calls.linkedid.str.replace('.WAV','')"
   ]
  },
  {
   "cell_type": "code",
   "execution_count": null,
   "metadata": {},
   "outputs": [],
   "source": [
    "calls[calls.linkedid=='1619120428.22353330.WAV']"
   ]
  },
  {
   "cell_type": "code",
   "execution_count": null,
   "metadata": {},
   "outputs": [],
   "source": [
    "def get_base_name(val):\n",
    "    return re.findall( r'\"(.*?)\"', val)[1]"
   ]
  },
  {
   "cell_type": "code",
   "execution_count": null,
   "metadata": {},
   "outputs": [],
   "source": [
    "df.base_name = df.base_name.apply(get_base_name)"
   ]
  },
  {
   "cell_type": "code",
   "execution_count": null,
   "metadata": {},
   "outputs": [],
   "source": [
    "df.base_name = df.base_name.str.replace(r'\"(.*?)\"', '')"
   ]
  },
  {
   "cell_type": "code",
   "execution_count": null,
   "metadata": {},
   "outputs": [],
   "source": [
    "word = 'Srvr=\"msk-srv1c01\" Ref=\"1c_service_region\"'\n",
    "re.findall( r'\"(.*?)\"', word)[1]"
   ]
  },
  {
   "cell_type": "code",
   "execution_count": null,
   "metadata": {},
   "outputs": [],
   "source": [
    "re.findall( r'all (.*?) are', 'all cats are smarter than dogs, all dogs are dumber than cats')\n",
    "# Output: ['cats', 'dogs']\n",
    "\n",
    "[x.group() for x in re.finditer( r'all (.*?) are', 'all cats are smarter than dogs, all dogs are dumber than cats')]\n",
    "# Output: ['all cats are', 'all dogs are']"
   ]
  },
  {
   "cell_type": "code",
   "execution_count": null,
   "metadata": {},
   "outputs": [],
   "source": [
    "query = \"SELECT column_name FROM information_schema.columns WHERE table_name='calls';\"\n",
    "calls = pd.read_sql(query, con = conn)\n",
    "calls"
   ]
  },
  {
   "cell_type": "code",
   "execution_count": null,
   "metadata": {},
   "outputs": [],
   "source": [
    "query = \"SELECT column_name FROM information_schema.columns WHERE table_name='calls';\"\n",
    "calls = pd.read_sql(query, con = conn)\n",
    "calls"
   ]
  },
  {
   "cell_type": "code",
   "execution_count": null,
   "metadata": {
    "scrolled": false
   },
   "outputs": [],
   "source": [
    "filename = 'data.csv'\n",
    "dateparser = lambda x: datetime.datetime.strptime(x, \"%d.%m.%Y %H:%M:%S\")\n",
    "dtypes = {\n",
    "        'call_date': 'datetime64',\n",
    "        'ak': 'bool',\n",
    "        'miko': 'bool',\n",
    "         'mrm': 'bool',\n",
    "         'incoming': 'bool',\n",
    "         'linkedid': 'str',\n",
    "         'base_name': 'str',\n",
    "     }\n",
    "#df = pd.read_csv(filename, ';', dtype=dtypes, parse_dates = True)\n",
    "#df = pd.read_csv(filename, ';', parse_dates = True)\n",
    "df = pd.read_csv(filename, ';', parse_dates = ['call_date'], date_parser=dateparser)\n",
    "df.call_date.iloc[0], type(df.call_date.iloc[0])"
   ]
  },
  {
   "cell_type": "code",
   "execution_count": null,
   "metadata": {},
   "outputs": [],
   "source": [
    "df.base_name.iloc[0], type(df.base_name.iloc[0])"
   ]
  },
  {
   "cell_type": "code",
   "execution_count": 51,
   "metadata": {},
   "outputs": [
    {
     "data": {
      "text/html": [
       "<div>\n",
       "<style scoped>\n",
       "    .dataframe tbody tr th:only-of-type {\n",
       "        vertical-align: middle;\n",
       "    }\n",
       "\n",
       "    .dataframe tbody tr th {\n",
       "        vertical-align: top;\n",
       "    }\n",
       "\n",
       "    .dataframe thead th {\n",
       "        text-align: right;\n",
       "    }\n",
       "</style>\n",
       "<table border=\"1\" class=\"dataframe\">\n",
       "  <thead>\n",
       "    <tr style=\"text-align: right;\">\n",
       "      <th></th>\n",
       "      <th>src</th>\n",
       "      <th>dst</th>\n",
       "      <th>linkedid</th>\n",
       "      <th>record_date</th>\n",
       "      <th>duration</th>\n",
       "    </tr>\n",
       "  </thead>\n",
       "  <tbody>\n",
       "    <tr>\n",
       "      <th>0</th>\n",
       "      <td>5076</td>\n",
       "      <td>89661206965</td>\n",
       "      <td>1619413224.3071862</td>\n",
       "      <td>2021-04-26 08:00:24</td>\n",
       "      <td>0.0</td>\n",
       "    </tr>\n",
       "  </tbody>\n",
       "</table>\n",
       "</div>"
      ],
      "text/plain": [
       "    src          dst            linkedid         record_date  duration\n",
       "0  5076  89661206965  1619413224.3071862 2021-04-26 08:00:24       0.0"
      ]
     },
     "execution_count": 51,
     "metadata": {},
     "output_type": "execute_result"
    }
   ],
   "source": [
    "# search for call\n",
    "query = \"SELECT distinct src, dst, linkedid, record_date, duration from transcribations\"\n",
    "#query = \"SELECT linkedid, record_date, start, text from transcribations\"\n",
    "#query += \" where record_date>'2021.04.26 08:00:00' and record_date<'2021.04.26 08:10:00'\"\n",
    "query += \" where record_date='2021-04-26 08:00:24'\"\n",
    "query += \" order by record_date;\"\n",
    "columns = pd.read_sql(query, con = trans_conn)\n",
    "columns"
   ]
  },
  {
   "cell_type": "code",
   "execution_count": null,
   "metadata": {},
   "outputs": [],
   "source": [
    "# search for call\n",
    "query = \"SELECT linkedid, text from transcribations\"\n",
    "query += \" where record_date>'2021.04.26 00:00:00' and record_date<'2021.04.27 00:00:00'\"\n",
    "query += \" group by linkedid, text;\"\n",
    "columns = pd.read_sql(query, con = trans_conn)\n",
    "columns"
   ]
  },
  {
   "cell_type": "code",
   "execution_count": 36,
   "metadata": {
    "scrolled": true
   },
   "outputs": [
    {
     "data": {
      "text/html": [
       "<div>\n",
       "<style scoped>\n",
       "    .dataframe tbody tr th:only-of-type {\n",
       "        vertical-align: middle;\n",
       "    }\n",
       "\n",
       "    .dataframe tbody tr th {\n",
       "        vertical-align: top;\n",
       "    }\n",
       "\n",
       "    .dataframe thead th {\n",
       "        text-align: right;\n",
       "    }\n",
       "</style>\n",
       "<table border=\"1\" class=\"dataframe\">\n",
       "  <thead>\n",
       "    <tr style=\"text-align: right;\">\n",
       "      <th></th>\n",
       "      <th>column_name</th>\n",
       "    </tr>\n",
       "  </thead>\n",
       "  <tbody>\n",
       "    <tr>\n",
       "      <th>0</th>\n",
       "      <td>transcribation_date</td>\n",
       "    </tr>\n",
       "    <tr>\n",
       "      <th>1</th>\n",
       "      <td>date_y</td>\n",
       "    </tr>\n",
       "    <tr>\n",
       "      <th>2</th>\n",
       "      <td>date_m</td>\n",
       "    </tr>\n",
       "    <tr>\n",
       "      <th>3</th>\n",
       "      <td>date_d</td>\n",
       "    </tr>\n",
       "    <tr>\n",
       "      <th>4</th>\n",
       "      <td>side</td>\n",
       "    </tr>\n",
       "    <tr>\n",
       "      <th>5</th>\n",
       "      <td>text</td>\n",
       "    </tr>\n",
       "    <tr>\n",
       "      <th>6</th>\n",
       "      <td>start</td>\n",
       "    </tr>\n",
       "    <tr>\n",
       "      <th>7</th>\n",
       "      <td>audio_file_name</td>\n",
       "    </tr>\n",
       "    <tr>\n",
       "      <th>8</th>\n",
       "      <td>conf</td>\n",
       "    </tr>\n",
       "    <tr>\n",
       "      <th>9</th>\n",
       "      <td>end_time</td>\n",
       "    </tr>\n",
       "    <tr>\n",
       "      <th>10</th>\n",
       "      <td>sentiment</td>\n",
       "    </tr>\n",
       "    <tr>\n",
       "      <th>11</th>\n",
       "      <td>sentiment_pos</td>\n",
       "    </tr>\n",
       "    <tr>\n",
       "      <th>12</th>\n",
       "      <td>sentiment_neg</td>\n",
       "    </tr>\n",
       "    <tr>\n",
       "      <th>13</th>\n",
       "      <td>ID</td>\n",
       "    </tr>\n",
       "    <tr>\n",
       "      <th>14</th>\n",
       "      <td>linkedid</td>\n",
       "    </tr>\n",
       "    <tr>\n",
       "      <th>15</th>\n",
       "      <td>dst</td>\n",
       "    </tr>\n",
       "    <tr>\n",
       "      <th>16</th>\n",
       "      <td>record_date</td>\n",
       "    </tr>\n",
       "    <tr>\n",
       "      <th>17</th>\n",
       "      <td>source_id</td>\n",
       "    </tr>\n",
       "    <tr>\n",
       "      <th>18</th>\n",
       "      <td>src</td>\n",
       "    </tr>\n",
       "    <tr>\n",
       "      <th>19</th>\n",
       "      <td>cpu_id</td>\n",
       "    </tr>\n",
       "    <tr>\n",
       "      <th>20</th>\n",
       "      <td>duration</td>\n",
       "    </tr>\n",
       "  </tbody>\n",
       "</table>\n",
       "</div>"
      ],
      "text/plain": [
       "            column_name\n",
       "0   transcribation_date\n",
       "1                date_y\n",
       "2                date_m\n",
       "3                date_d\n",
       "4                  side\n",
       "5                  text\n",
       "6                 start\n",
       "7       audio_file_name\n",
       "8                  conf\n",
       "9              end_time\n",
       "10            sentiment\n",
       "11        sentiment_pos\n",
       "12        sentiment_neg\n",
       "13                   ID\n",
       "14             linkedid\n",
       "15                  dst\n",
       "16          record_date\n",
       "17            source_id\n",
       "18                  src\n",
       "19               cpu_id\n",
       "20             duration"
      ]
     },
     "execution_count": 36,
     "metadata": {},
     "output_type": "execute_result"
    }
   ],
   "source": [
    "query = \"SELECT column_name FROM information_schema.columns WHERE table_name='transcribations';\"\n",
    "columns = pd.read_sql(query, con = trans_conn)\n",
    "columns"
   ]
  }
 ],
 "metadata": {
  "kernelspec": {
   "display_name": "Python 3",
   "language": "python",
   "name": "python3"
  },
  "language_info": {
   "codemirror_mode": {
    "name": "ipython",
    "version": 3
   },
   "file_extension": ".py",
   "mimetype": "text/x-python",
   "name": "python",
   "nbconvert_exporter": "python",
   "pygments_lexer": "ipython3",
   "version": "3.8.9"
  }
 },
 "nbformat": 4,
 "nbformat_minor": 4
}
