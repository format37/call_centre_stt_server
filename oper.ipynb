{
 "cells": [
  {
   "cell_type": "code",
   "execution_count": 1,
   "metadata": {},
   "outputs": [],
   "source": [
    "import pymssql as ms_sql\n",
    "import pymysql as mysql\n",
    "import datetime\n",
    "import progressbar"
   ]
  },
  {
   "cell_type": "code",
   "execution_count": 2,
   "metadata": {},
   "outputs": [],
   "source": [
    "def connect_mssql():\n",
    "    ms_sql_base = 'voice_ai'\n",
    "    ms_sql_server = '10.2.4.124'\n",
    "    ms_sql_login = 'ICECORP\\\\1c_sql'\n",
    "\n",
    "    with open('sql.pass', 'r') as file:\n",
    "        ms_sql_pass = file.read().replace('\\n', '')\n",
    "        file.close()\n",
    "\n",
    "    return ms_sql.connect(ms_sql_server,\n",
    "                          ms_sql_login,\n",
    "                          ms_sql_pass,\n",
    "                          ms_sql_base)\n",
    "\n",
    "\n",
    "def connect_mysql():\n",
    "\n",
    "    mysql_name = 'MICO_96'\n",
    "    mysql_server = '10.2.4.146'\n",
    "    mysql_login = 'asterisk'\n",
    "    with open('mysql.pass','r') as file:\n",
    "        mysql_pass = file.read().replace('\\n', '')\n",
    "        file.close()\n",
    "    #mysql_pass = '12WsxcdE34'\n",
    "    \n",
    "    return mysql.connect(\n",
    "        mysql_server, \n",
    "        mysql_login, \n",
    "        mysql_pass,\n",
    "        mysql_name\n",
    "    )"
   ]
  },
  {
   "cell_type": "markdown",
   "metadata": {},
   "source": [
    "### source_id"
   ]
  },
  {
   "cell_type": "code",
   "execution_count": 24,
   "metadata": {},
   "outputs": [
    {
     "name": "stdout",
     "output_type": "stream",
     "text": [
      "queue\n",
      "[0]\n",
      "[370]\n",
      "transcribations\n",
      "[0]\n",
      "[267759]\n"
     ]
    }
   ],
   "source": [
    "ms_sql_conn = connect_mssql()\n",
    "job_len = 0\n",
    "with ms_sql_conn:\n",
    "    print('queue')\n",
    "    query = \"select count(filename) from queue where source_id is NULL;\"\n",
    "    cursor = ms_sql_conn.cursor()\n",
    "    cursor.execute(query)\n",
    "    for row in cursor.fetchall():\n",
    "        print([r for r in row])\n",
    "        \n",
    "    query = \"select count(filename) from queue where source_id is not NULL;\"\n",
    "    cursor = ms_sql_conn.cursor()\n",
    "    cursor.execute(query)\n",
    "    for row in cursor.fetchall():\n",
    "        print([r for r in row])\n",
    "    \n",
    "    print('transcribations')\n",
    "    query = \"select count(distinct audio_file_name) from transcribations where source_id is NULL;\"\n",
    "    cursor = ms_sql_conn.cursor()\n",
    "    cursor.execute(query)\n",
    "    for row in cursor.fetchall():\n",
    "        print([r for r in row])\n",
    "        \n",
    "    query = \"select count(distinct audio_file_name) from transcribations where source_id is not NULL;\"\n",
    "    cursor = ms_sql_conn.cursor()\n",
    "    cursor.execute(query)\n",
    "    for row in cursor.fetchall():\n",
    "        print([r for r in row])\n",
    "        \n",
    "    \"\"\"query = \"select source_id from transcribations where source_id is not NULL;\"\n",
    "    cursor = ms_sql_conn.cursor()\n",
    "    cursor.execute(query)\n",
    "    for row in cursor.fetchall():\n",
    "        print([r for r in row])\"\"\""
   ]
  },
  {
   "cell_type": "code",
   "execution_count": 23,
   "metadata": {},
   "outputs": [
    {
     "name": "stdout",
     "output_type": "stream",
     "text": [
      "queue\n"
     ]
    }
   ],
   "source": [
    "\"\"\"# update\n",
    "ms_sql_conn = connect_mssql()\n",
    "job_len = 0\n",
    "with ms_sql_conn:\n",
    "    print('queue')\n",
    "    #query = \"select count(filename) from queue where source_id is NULL;\"\n",
    "    #query = \"update queue set source_id = 1 where source_id is NULL;\"\n",
    "    query = \"update transcribations set source_id = 1 where source_id is NULL;\"\n",
    "    cursor = ms_sql_conn.cursor()\n",
    "    cursor.execute(query)\n",
    "    #for row in cursor.fetchall():\n",
    "    #    print([r for r in row])\n",
    "    ms_sql_conn.commit()\"\"\""
   ]
  },
  {
   "cell_type": "markdown",
   "metadata": {},
   "source": [
    "### queue"
   ]
  },
  {
   "cell_type": "code",
   "execution_count": 3,
   "metadata": {},
   "outputs": [
    {
     "name": "stdout",
     "output_type": "stream",
     "text": [
      "['in_4957237230_2020-10-09-07-36-05rxtx.wav']\n"
     ]
    }
   ],
   "source": [
    "ms_sql_conn = connect_mssql()\n",
    "job_len = 0\n",
    "with ms_sql_conn:\n",
    "    query = \"select top 1 audio_file_name from transcribations;\"\n",
    "    cursor = ms_sql_conn.cursor()\n",
    "    cursor.execute(query)\n",
    "    for row in cursor.fetchall():\n",
    "        print([r for r in row])"
   ]
  },
  {
   "cell_type": "code",
   "execution_count": 4,
   "metadata": {},
   "outputs": [],
   "source": [
    "cpu_cores = [i for i in range(0,15)]"
   ]
  },
  {
   "cell_type": "code",
   "execution_count": 7,
   "metadata": {},
   "outputs": [],
   "source": [
    "#cursor = self.conn.cursor()\n",
    "ms_sql_conn = connect_mssql()\n",
    "with ms_sql_conn:\n",
    "    cursor = ms_sql_conn.cursor()\n",
    "    sql_query = '''\n",
    "    IF OBJECT_ID('tempdb..#tmp_cpu_queue_len') IS NOT NULL\n",
    "    DROP TABLE #tmp_cpu_queue_len;\n",
    "\n",
    "    CREATE TABLE #tmp_cpu_queue_len\n",
    "    (\n",
    "    cpu_id INT,\n",
    "    files_count int\n",
    "    );\n",
    "\n",
    "    INSERT INTO #tmp_cpu_queue_len \n",
    "    '''\n",
    "    for i in cpu_cores:\n",
    "        if i==0:\n",
    "            sql_query += 'select 0 as cpu_id, 0 as files_count '\n",
    "        else:\n",
    "            sql_query += 'union all select '+str(i)+',0 '\n",
    "    sql_query += 'union all\tselect cpu_id, count(filename) from queue group by cpu_id; '\n",
    "    sql_query += 'select top 1 cpu_id, max(files_count) '\n",
    "    sql_query += 'from #tmp_cpu_queue_len group by cpu_id order by max(files_count), cpu_id;'\n",
    "    \n",
    "    cursor.execute(sql_query)\n",
    "    result = 0\n",
    "    for row in cursor.fetchall():\n",
    "        result+=1\n",
    "        cpu_id = int(row[0])\n",
    "    if result==0:\n",
    "        print('error: unable to get shortest_queue_cpu')\n",
    "        cpu_id = 0"
   ]
  },
  {
   "cell_type": "code",
   "execution_count": 8,
   "metadata": {},
   "outputs": [
    {
     "data": {
      "text/plain": [
       "(1, 10)"
      ]
     },
     "execution_count": 8,
     "metadata": {},
     "output_type": "execute_result"
    }
   ],
   "source": [
    "result, cpu_id"
   ]
  },
  {
   "cell_type": "markdown",
   "metadata": {},
   "source": [
    "### regexp date from file"
   ]
  },
  {
   "cell_type": "code",
   "execution_count": 33,
   "metadata": {},
   "outputs": [
    {
     "name": "stdout",
     "output_type": "stream",
     "text": [
      "[7413999]\n"
     ]
    }
   ],
   "source": [
    "#bar = progressbar.ProgressBar(maxval=job_len).start()\n",
    "ms_sql_conn = connect_mssql()\n",
    "job_len = 0\n",
    "with ms_sql_conn:\n",
    "    query = \"select top 2 \\\n",
    "    CAST(CAST(date_y AS varchar) + '-' + CAST(date_m AS varchar) + '-' + CAST(date_d AS varchar) AS DATETIME) \\\n",
    "    from transcribations;\"\n",
    "    query = \"select top 1 audio_file_name from transcribations;\"\n",
    "    \n",
    "    query = \"select count(id) from transcribations where record_date is Null;\"\n",
    "    query = \"update transcribations set record_date = \\\n",
    "    CAST(CAST(date_y AS varchar) + '-' + CAST(date_m AS varchar) + '-' + CAST(date_d AS varchar) AS DATETIME) \\\n",
    "    where record_date is Null_;\"\n",
    "    \n",
    "    query = \"select top 2 \\\n",
    "    CAST(CAST(date_y AS varchar) + '-' + CAST(date_m AS varchar) + '-' + CAST(date_d AS varchar) AS DATETIME) \\\n",
    "    from transcribations \\\n",
    "    where record_date is Null;\"\n",
    "    #'%[^-A-Za-z0-9/.+$]%'\n",
    "    \n",
    "    query = \"select top 2 \\\n",
    "    audio_file_name, \\\n",
    "    PATINDEX('%____-__-__-__-__-__%', audio_file_name), \\\n",
    "    SUBSTRING ( audio_file_name ,PATINDEX('%____-__-__-__-__-__%', audio_file_name) , 4 ), \\\n",
    "    SUBSTRING ( audio_file_name ,PATINDEX('%____-__-__-__-__-__%', audio_file_name)+5 , 2 ), \\\n",
    "    SUBSTRING ( audio_file_name ,PATINDEX('%____-__-__-__-__-__%', audio_file_name)+8 , 2 ), \\\n",
    "    SUBSTRING ( audio_file_name ,PATINDEX('%____-__-__-__-__-__%', audio_file_name)+11 , 2 ), \\\n",
    "    SUBSTRING ( audio_file_name ,PATINDEX('%____-__-__-__-__-__%', audio_file_name)+14 , 2 ), \\\n",
    "    SUBSTRING ( audio_file_name ,PATINDEX('%____-__-__-__-__-__%', audio_file_name)+17 , 2 ) \\\n",
    "    from transcribations \\\n",
    "    where record_date is Null;\"\n",
    "    #'%[^-A-Za-z0-9/.+$]%'\n",
    "    #SUBSTRING(name, 2, 3) \n",
    "    #\\d{4}-\\d{2}-\\d{2}-\\d{2}-\\d{2}-\\d{2}\n",
    "    \n",
    "    query = \"select top 2 \\\n",
    "    audio_file_name, \\\n",
    "    CAST( \\\n",
    "    SUBSTRING ( audio_file_name ,PATINDEX('%____-__-__-__-__-__%', audio_file_name) , 10 ) + ' ' + \\\n",
    "    SUBSTRING ( audio_file_name ,PATINDEX('%____-__-__-__-__-__%', audio_file_name) +11 , 2 ) + ':' + \\\n",
    "    SUBSTRING ( audio_file_name ,PATINDEX('%____-__-__-__-__-__%', audio_file_name) +14 , 2 ) + ':' +\\\n",
    "    SUBSTRING ( audio_file_name ,PATINDEX('%____-__-__-__-__-__%', audio_file_name) +17 , 2 ) \\\n",
    "    AS DATETIME) \\\n",
    "    from transcribations \\\n",
    "    where record_date is Null;\"\n",
    "    \n",
    "    query = \"select top 2 \\\n",
    "    audio_file_name, \\\n",
    "    CAST( \\\n",
    "    SUBSTRING ( audio_file_name ,PATINDEX('%____-__-__-__-__-__%', audio_file_name) , 10 ) + ' ' + \\\n",
    "    SUBSTRING ( audio_file_name ,PATINDEX('%____-__-__-__-__-__%', audio_file_name) +11 , 2 ) + ':' + \\\n",
    "    SUBSTRING ( audio_file_name ,PATINDEX('%____-__-__-__-__-__%', audio_file_name) +14 , 2 ) + ':' +\\\n",
    "    SUBSTRING ( audio_file_name ,PATINDEX('%____-__-__-__-__-__%', audio_file_name) +17 , 2 ) \\\n",
    "    AS DATETIME) \\\n",
    "    from transcribations \\\n",
    "    where CAST( \\\n",
    "    SUBSTRING ( audio_file_name ,PATINDEX('%____-__-__-__-__-__%', audio_file_name) , 10 ) + ' ' + \\\n",
    "    SUBSTRING ( audio_file_name ,PATINDEX('%____-__-__-__-__-__%', audio_file_name) +11 , 2 ) + ':' + \\\n",
    "    SUBSTRING ( audio_file_name ,PATINDEX('%____-__-__-__-__-__%', audio_file_name) +14 , 2 ) + ':' +\\\n",
    "    SUBSTRING ( audio_file_name ,PATINDEX('%____-__-__-__-__-__%', audio_file_name) +17 , 2 ) \\\n",
    "    AS DATETIME) is Null;\"\n",
    "    \n",
    "    \n",
    "    \n",
    "    query = \"update transcribations set record_date = \\\n",
    "    CAST( \\\n",
    "    SUBSTRING ( audio_file_name ,PATINDEX('%____-__-__-__-__-__%', audio_file_name) , 10 ) + ' ' + \\\n",
    "    SUBSTRING ( audio_file_name ,PATINDEX('%____-__-__-__-__-__%', audio_file_name) +11 , 2 ) + ':' + \\\n",
    "    SUBSTRING ( audio_file_name ,PATINDEX('%____-__-__-__-__-__%', audio_file_name) +14 , 2 ) + ':' +\\\n",
    "    SUBSTRING ( audio_file_name ,PATINDEX('%____-__-__-__-__-__%', audio_file_name) +17 , 2 ) \\\n",
    "    AS DATETIME) \\\n",
    "    where record_date is Null;\"\n",
    "    \n",
    "    query = \"select count(id) from transcribations where record_date is Null;\"\n",
    "    \n",
    "    cursor = ms_sql_conn.cursor()\n",
    "    cursor.execute(query)\n",
    "    for row in cursor.fetchall():\n",
    "        print([r for r in row])"
   ]
  },
  {
   "cell_type": "code",
   "execution_count": 41,
   "metadata": {},
   "outputs": [
    {
     "name": "stdout",
     "output_type": "stream",
     "text": [
      "[7413999]\n"
     ]
    }
   ],
   "source": [
    "ms_sql_conn = connect_mssql()\n",
    "job_len = 0\n",
    "with ms_sql_conn:\n",
    "    query = \"select count(id) from transcribations where record_date is Null;\"\n",
    "    \n",
    "    cursor = ms_sql_conn.cursor()\n",
    "    cursor.execute(query)\n",
    "    for row in cursor.fetchall():\n",
    "        print([r for r in row])"
   ]
  },
  {
   "cell_type": "code",
   "execution_count": 64,
   "metadata": {},
   "outputs": [
    {
     "name": "stdout",
     "output_type": "stream",
     "text": [
      "update transcribations set record_date =     CAST(     SUBSTRING ( audio_file_name ,PATINDEX('%____-__-__-__-__-__%', audio_file_name) , 10 ) + ' ' +     SUBSTRING ( audio_file_name ,PATINDEX('%____-__-__-__-__-__%', audio_file_name) +11 , 2 ) + ':' +     SUBSTRING ( audio_file_name ,PATINDEX('%____-__-__-__-__-__%', audio_file_name) +14 , 2 ) + ':' +    SUBSTRING ( audio_file_name ,PATINDEX('%____-__-__-__-__-__%', audio_file_name) +17 , 2 )     AS DATETIME)     where record_date is Null;\n"
     ]
    }
   ],
   "source": [
    "ms_sql_conn = connect_mssql()\n",
    "job_len = 0\n",
    "with ms_sql_conn:    \n",
    "    \n",
    "    query = \"update transcribations set record_date = \\\n",
    "    CAST( \\\n",
    "    SUBSTRING ( audio_file_name ,PATINDEX('%____-__-__-__-__-__%', audio_file_name) , 10 ) + ' ' + \\\n",
    "    SUBSTRING ( audio_file_name ,PATINDEX('%____-__-__-__-__-__%', audio_file_name) +11 , 2 ) + ':' + \\\n",
    "    SUBSTRING ( audio_file_name ,PATINDEX('%____-__-__-__-__-__%', audio_file_name) +14 , 2 ) + ':' +\\\n",
    "    SUBSTRING ( audio_file_name ,PATINDEX('%____-__-__-__-__-__%', audio_file_name) +17 , 2 ) \\\n",
    "    AS DATETIME) \\\n",
    "    where record_date is Null;\"\n",
    "    \n",
    "    query = \"select top 10 \\\n",
    "    audio_file_name, \\\n",
    "    CAST( \\\n",
    "    SUBSTRING ( audio_file_name ,PATINDEX('%____-__-__-__-__-__%', audio_file_name) , 10 ) + ' ' + \\\n",
    "    SUBSTRING ( audio_file_name ,PATINDEX('%____-__-__-__-__-__%', audio_file_name) +11 , 2 ) + ':' + \\\n",
    "    SUBSTRING ( audio_file_name ,PATINDEX('%____-__-__-__-__-__%', audio_file_name) +14 , 2 ) + ':' +\\\n",
    "    SUBSTRING ( audio_file_name ,PATINDEX('%____-__-__-__-__-__%', audio_file_name) +17 , 2 ) \\\n",
    "    AS TEXT) \\\n",
    "    from transcribations \\\n",
    "    where record_date is Null;\"\n",
    "    \n",
    "    \n",
    "    \n",
    "    \n",
    "    \n",
    "    #cursor = ms_sql_conn.cursor()\n",
    "    #cursor.execute(query)\n",
    "    #for row in cursor.fetchall():\n",
    "    #    print([r for r in row])\n",
    "    print(query)"
   ]
  },
  {
   "cell_type": "code",
   "execution_count": 65,
   "metadata": {},
   "outputs": [
    {
     "name": "stdout",
     "output_type": "stream",
     "text": [
      "[0]\n"
     ]
    }
   ],
   "source": [
    "ms_sql_conn = connect_mssql()\n",
    "job_len = 0\n",
    "with ms_sql_conn:\n",
    "    query = \"select count(id) from transcribations where record_date is Null;\"\n",
    "    \n",
    "    cursor = ms_sql_conn.cursor()\n",
    "    cursor.execute(query)\n",
    "    for row in cursor.fetchall():\n",
    "        print([r for r in row])"
   ]
  },
  {
   "cell_type": "code",
   "execution_count": 33,
   "metadata": {},
   "outputs": [
    {
     "data": {
      "text/plain": [
       "'in_4957237230_2020-10-09-07-36-05rxtx.wav'"
      ]
     },
     "execution_count": 33,
     "metadata": {},
     "output_type": "execute_result"
    }
   ],
   "source": [
    "row[0]"
   ]
  },
  {
   "cell_type": "code",
   "execution_count": 35,
   "metadata": {},
   "outputs": [],
   "source": [
    "regex = '\\d{4}-\\d{2}-\\d{2}-\\d{2}-\\d{2}-\\d{2}'"
   ]
  },
  {
   "cell_type": "code",
   "execution_count": 34,
   "metadata": {},
   "outputs": [],
   "source": [
    "import re"
   ]
  },
  {
   "cell_type": "code",
   "execution_count": 39,
   "metadata": {},
   "outputs": [
    {
     "data": {
      "text/plain": [
       "'2020-10-09-07-36-05'"
      ]
     },
     "execution_count": 39,
     "metadata": {},
     "output_type": "execute_result"
    }
   ],
   "source": [
    "rec_source_date = re.findall(r'\\d{4}-\\d{2}-\\d{2}-\\d{2}-\\d{2}-\\d{2}', row[0])[0]\n",
    "rec_source_date"
   ]
  },
  {
   "cell_type": "code",
   "execution_count": 48,
   "metadata": {},
   "outputs": [
    {
     "data": {
      "text/plain": [
       "'2020-10-09 07:36:05'"
      ]
     },
     "execution_count": 48,
     "metadata": {},
     "output_type": "execute_result"
    }
   ],
   "source": [
    "rec_date = rec_source_date[:10] + ' ' + rec_source_date[11:].replace('-', ':')\n",
    "rec_date"
   ]
  },
  {
   "cell_type": "code",
   "execution_count": 7,
   "metadata": {},
   "outputs": [],
   "source": [
    "def read_job_len():\n",
    "    ms_sql_conn = connect_mssql()\n",
    "    # read job length\n",
    "    job_len = 0\n",
    "    with ms_sql_conn:\n",
    "        query = \"\"\"select\n",
    "        count(distinct audio_file_name)\n",
    "        from transcribations\n",
    "        where audio_file_name!='' and\n",
    "        text!='' and\n",
    "        dst is null;\"\"\"        \n",
    "        cursor = ms_sql_conn.cursor()\n",
    "        cursor.execute(query)\n",
    "        for row in cursor.fetchall():\n",
    "            job_len = row[0]\n",
    "\n",
    "    if job_len == 0:\n",
    "        print('nothing to do. exit')\n",
    "        exit()\n",
    "\n",
    "    return job_len"
   ]
  },
  {
   "cell_type": "code",
   "execution_count": 4,
   "metadata": {},
   "outputs": [],
   "source": [
    "def read_file_name():\n",
    "    ms_sql_conn = connect_mssql()\n",
    "    file_name = ''\n",
    "    # read filename from transcribations\n",
    "    with ms_sql_conn:\n",
    "        query = \"\"\"select top 1\n",
    "        audio_file_name,\n",
    "        date_y,\n",
    "        date_m,\n",
    "        date_d\n",
    "        from transcribations\n",
    "        where text!='' and\n",
    "        dst is null and\n",
    "        audio_file_name!=''\n",
    "        order by\n",
    "        date_y,\n",
    "        date_m,\n",
    "        date_d,\n",
    "        transcribation_date;\"\"\"\n",
    "        cursor = ms_sql_conn.cursor()\n",
    "        cursor.execute(query)\n",
    "        for row in cursor.fetchall():\n",
    "            file_name = row[0]\n",
    "            date_y = row[1]\n",
    "            date_m = row[2]\n",
    "            date_d = row[3]\n",
    "\n",
    "    if file_name == '':\n",
    "        print('empty filename. exit')\n",
    "        exit()\n",
    "\n",
    "    return file_name, date_y, date_m, date_d"
   ]
  },
  {
   "cell_type": "code",
   "execution_count": 14,
   "metadata": {},
   "outputs": [],
   "source": [
    "def read_dst(file_name, date_y, date_m, date_d):\n",
    "    #query = \"select SUBSTRING(dstchannel, 5, 4) from PT1C_cdr_MICO limit 10\"\n",
    "    my_sql_conn = connect_mysql()\n",
    "    # read linkedid from CDR\n",
    "    linkedid = ''\n",
    "    filename = file_name.replace('rxtx.wav', '')\n",
    "    idy, idm, idd = int(date_y), int(date_m), int(date_d)\n",
    "    date_from = datetime.datetime(idy, idm, idd)\n",
    "    date_toto = date_from+datetime.timedelta(days=1)\n",
    "    sdf = str(date_from)\n",
    "    f_0 = '%Y-%m-%d %H:%M:%S'\n",
    "    f_1 = '%Y-%m-%dT%H:%M:%S'\n",
    "    date_from = datetime.datetime.strptime(sdf, f_0).strftime(f_1)\n",
    "    date_toto = datetime.datetime.strptime(str(date_toto), f_0).strftime(f_1)\n",
    "    with my_sql_conn:\n",
    "        query = \"\"\"select\n",
    "            SUBSTRING(dstchannel, 5, 4) as dst\n",
    "            from PT1C_cdr_MICO as PT1C_cdr_MICO\n",
    "            where\n",
    "            calldate>'\"\"\"+date_from+\"\"\"' and\n",
    "            calldate<'\"\"\"+date_toto+\"\"\"' and\n",
    "            PT1C_cdr_MICO.recordingfile LIKE '%\"\"\"+filename+\"\"\"%'\n",
    "            limit 1\"\"\"\n",
    "        cursor = my_sql_conn.cursor()\n",
    "        cursor.execute(query)\n",
    "        for row in cursor.fetchall():\n",
    "            dst = row[0]\n",
    "\n",
    "    if dst == '':\n",
    "        print('linkedid for '+filename+' is empty. exit')\n",
    "        exit()\n",
    "\n",
    "    return dst"
   ]
  },
  {
   "cell_type": "code",
   "execution_count": 25,
   "metadata": {},
   "outputs": [],
   "source": [
    "def update_transcribations(file_name, dst):\n",
    "    ms_sql_conn = connect_mssql()\n",
    "    with ms_sql_conn:\n",
    "        cursor = ms_sql_conn.cursor()\n",
    "        query = \"\"\"update transcribations\n",
    "        set dst = '\"\"\"+dst+\"\"\"'\n",
    "        where audio_file_name='\"\"\"+file_name+\"';\"\n",
    "        print(query)\n",
    "        #cursor.execute(query)\n",
    "        #ms_sql_conn.commit()"
   ]
  },
  {
   "cell_type": "code",
   "execution_count": 22,
   "metadata": {},
   "outputs": [
    {
     "data": {
      "text/plain": [
       "'in_9163652085_2020-10-09-07-11-39rxtx.wav'"
      ]
     },
     "execution_count": 22,
     "metadata": {},
     "output_type": "execute_result"
    }
   ],
   "source": [
    "file_name, date_y, date_m, date_d = read_file_name()\n",
    "file_name"
   ]
  },
  {
   "cell_type": "code",
   "execution_count": 23,
   "metadata": {},
   "outputs": [
    {
     "data": {
      "text/plain": [
       "'5011'"
      ]
     },
     "execution_count": 23,
     "metadata": {},
     "output_type": "execute_result"
    }
   ],
   "source": [
    "dst = read_dst(file_name, date_y, date_m, date_d)\n",
    "dst"
   ]
  },
  {
   "cell_type": "code",
   "execution_count": 26,
   "metadata": {},
   "outputs": [
    {
     "name": "stdout",
     "output_type": "stream",
     "text": [
      "update transcribations\n",
      "        set dst = '5011'\n",
      "        where audio_file_name='in_9163652085_2020-10-09-07-11-39rxtx.wav';\n"
     ]
    }
   ],
   "source": [
    "update_transcribations(file_name, dst)"
   ]
  },
  {
   "cell_type": "code",
   "execution_count": 27,
   "metadata": {},
   "outputs": [
    {
     "ename": "NameError",
     "evalue": "name 'progressbar' is not defined",
     "output_type": "error",
     "traceback": [
      "\u001b[0;31m---------------------------------------------------------------------------\u001b[0m",
      "\u001b[0;31mNameError\u001b[0m                                 Traceback (most recent call last)",
      "\u001b[0;32m<ipython-input-27-bb274487933c>\u001b[0m in \u001b[0;36m<module>\u001b[0;34m\u001b[0m\n\u001b[1;32m      1\u001b[0m \u001b[0mjob_len\u001b[0m \u001b[0;34m=\u001b[0m \u001b[0mread_job_len\u001b[0m\u001b[0;34m(\u001b[0m\u001b[0;34m)\u001b[0m\u001b[0;34m\u001b[0m\u001b[0;34m\u001b[0m\u001b[0m\n\u001b[1;32m      2\u001b[0m \u001b[0;34m\u001b[0m\u001b[0m\n\u001b[0;32m----> 3\u001b[0;31m \u001b[0mbar\u001b[0m \u001b[0;34m=\u001b[0m \u001b[0mprogressbar\u001b[0m\u001b[0;34m.\u001b[0m\u001b[0mProgressBar\u001b[0m\u001b[0;34m(\u001b[0m\u001b[0mmaxval\u001b[0m\u001b[0;34m=\u001b[0m\u001b[0mjob_len\u001b[0m\u001b[0;34m)\u001b[0m\u001b[0;34m.\u001b[0m\u001b[0mstart\u001b[0m\u001b[0;34m(\u001b[0m\u001b[0;34m)\u001b[0m\u001b[0;34m\u001b[0m\u001b[0;34m\u001b[0m\u001b[0m\n\u001b[0m\u001b[1;32m      4\u001b[0m \u001b[0mstep\u001b[0m \u001b[0;34m=\u001b[0m \u001b[0;36m0\u001b[0m\u001b[0;34m\u001b[0m\u001b[0;34m\u001b[0m\u001b[0m\n\u001b[1;32m      5\u001b[0m \u001b[0;31m#while(True):\u001b[0m\u001b[0;34m\u001b[0m\u001b[0;34m\u001b[0m\u001b[0;34m\u001b[0m\u001b[0m\n",
      "\u001b[0;31mNameError\u001b[0m: name 'progressbar' is not defined"
     ]
    }
   ],
   "source": [
    "job_len = read_job_len()\n",
    "\n",
    "bar = progressbar.ProgressBar(maxval=job_len).start()\n",
    "step = 0\n",
    "#while(True):    \n",
    "#file_name, date_y, date_m, date_d = read_file_name()\n",
    "ms_sql_conn = connect_mssql()\n",
    "file_name = ''\n",
    "# read filename from transcribations\n",
    "with ms_sql_conn:\n",
    "    query = \"\"\"select\n",
    "    audio_file_name,\n",
    "    date_y,\n",
    "    date_m,\n",
    "    date_d\n",
    "    from transcribations\n",
    "    where text!='' and\n",
    "    dst is null and\n",
    "    audio_file_name!=''\n",
    "    order by\n",
    "    date_y,\n",
    "    date_m,\n",
    "    date_d,\n",
    "    transcribation_date;\"\"\"\n",
    "    cursor = ms_sql_conn.cursor()\n",
    "    cursor.execute(query)\n",
    "    for row in cursor.fetchall():\n",
    "        bar.update(step)\n",
    "        file_name = row[0]\n",
    "        date_y = row[1]\n",
    "        date_m = row[2]\n",
    "        date_d = row[3]\n",
    "        dst = read_dst(file_name, date_y, date_m, date_d)\n",
    "        update_transcribations(file_name, dst)\n",
    "        step += 1\n",
    "        break"
   ]
  },
  {
   "cell_type": "markdown",
   "metadata": {},
   "source": [
    "# monitoring"
   ]
  },
  {
   "cell_type": "code",
   "execution_count": 20,
   "metadata": {},
   "outputs": [
    {
     "data": {
      "text/plain": [
       "'В очереди: 135'"
      ]
     },
     "execution_count": 20,
     "metadata": {},
     "output_type": "execute_result"
    }
   ],
   "source": [
    "def queue_len():\n",
    "    result = ''\n",
    "    ms_sql_conn = connect_mssql()\n",
    "    with ms_sql_conn:\n",
    "        query = 'select count(distinct filename) as queued from queue;'\n",
    "        cursor = ms_sql_conn.cursor()\n",
    "        cursor.execute(query)\n",
    "        for row in cursor.fetchall():\n",
    "            result += 'В очереди: ' + str(row[0])\n",
    "    return result\n",
    "queue_len()"
   ]
  },
  {
   "cell_type": "code",
   "execution_count": 23,
   "metadata": {},
   "outputs": [
    {
     "data": {
      "text/plain": [
       "'Очередь по ядрам:0: 10\\n1: 11\\n2: 11\\n3: 7\\n4: 10\\n5: 10\\n6: 7\\n7: 9\\n8: 10\\n9: 5\\n10: 9\\n11: 6\\n12: 7\\n13: 9\\n14: 10\\n'"
      ]
     },
     "execution_count": 23,
     "metadata": {},
     "output_type": "execute_result"
    }
   ],
   "source": [
    "def queue_by_cpu():\n",
    "    result = 'Очередь по ядрам:\\n'\n",
    "    ms_sql_conn = connect_mssql()\n",
    "    with ms_sql_conn:\n",
    "        query = 'select cpu_id, count(distinct filename) as filename from queue group by cpu_id order by cpu_id;'\n",
    "        cursor = ms_sql_conn.cursor()\n",
    "        cursor.execute(query)\n",
    "        for row in cursor.fetchall():\n",
    "            result += str(row[0])+': '+str(row[1])+'\\n'\n",
    "    return result\n",
    "queue_by_cpu()"
   ]
  },
  {
   "cell_type": "code",
   "execution_count": 29,
   "metadata": {},
   "outputs": [],
   "source": [
    "#datetime.datetime.now()\n",
    "#date_toto = date_from+datetime.timedelta(days=1)\n"
   ]
  },
  {
   "cell_type": "code",
   "execution_count": 30,
   "metadata": {},
   "outputs": [
    {
     "data": {
      "text/plain": [
       "('2021-01-31T00:00:00', '2021-02-01T00:00:00')"
      ]
     },
     "execution_count": 30,
     "metadata": {},
     "output_type": "execute_result"
    }
   ],
   "source": []
  },
  {
   "cell_type": "code",
   "execution_count": 37,
   "metadata": {},
   "outputs": [
    {
     "data": {
      "text/plain": [
       "'Распознанно за вчера: 1588'"
      ]
     },
     "execution_count": 37,
     "metadata": {},
     "output_type": "execute_result"
    }
   ],
   "source": [
    "def transcribed_yesterday():\n",
    "    result = 'Распознанно за вчера: '\n",
    "\n",
    "    currentdate = datetime.datetime.today()\n",
    "    start_of_day = currentdate.combine(currentdate.date(), currentdate.min.time())\n",
    "    yesterday = start_of_day + datetime.timedelta(days=-1)\n",
    "    df = str(yesterday)\n",
    "    dt = str(start_of_day)\n",
    "    f_0 = '%Y-%m-%d %H:%M:%S'\n",
    "    f_1 = '%Y-%m-%dT%H:%M:%S'\n",
    "    date_from = datetime.datetime.strptime(df, f_0).strftime(f_1)\n",
    "    date_toto = datetime.datetime.strptime(dt, f_0).strftime(f_1)\n",
    "    date_from, date_toto\n",
    "    \n",
    "    ms_sql_conn = connect_mssql()\n",
    "    with ms_sql_conn:\n",
    "        query = \"select count(distinct audio_file_name) as transcribed from transcribations\"\n",
    "        query += \" where transcribation_date>'\"+date_from+\"'\"\n",
    "        query += \" and transcribation_date<'\"+date_toto+\"';\"\n",
    "        cursor = ms_sql_conn.cursor()\n",
    "        cursor.execute(query)\n",
    "        for row in cursor.fetchall():\n",
    "            result += str(row[0])\n",
    "    return result\n",
    "\n",
    "transcribed_yesterday()"
   ]
  }
 ],
 "metadata": {
  "kernelspec": {
   "display_name": "Python 3",
   "language": "python",
   "name": "python3"
  },
  "language_info": {
   "codemirror_mode": {
    "name": "ipython",
    "version": 3
   },
   "file_extension": ".py",
   "mimetype": "text/x-python",
   "name": "python",
   "nbconvert_exporter": "python",
   "pygments_lexer": "ipython3",
   "version": "3.7.6"
  }
 },
 "nbformat": 4,
 "nbformat_minor": 4
}
