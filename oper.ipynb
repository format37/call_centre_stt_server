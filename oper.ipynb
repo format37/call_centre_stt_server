{
 "cells": [
  {
   "cell_type": "code",
   "execution_count": 3,
   "metadata": {},
   "outputs": [],
   "source": [
    "import pymssql as ms_sql\n",
    "import pymysql as mysql\n",
    "import datetime\n",
    "import progressbar"
   ]
  },
  {
   "cell_type": "code",
   "execution_count": 2,
   "metadata": {},
   "outputs": [],
   "source": [
    "def connect_mssql():\n",
    "    ms_sql_base = 'voice_ai'\n",
    "    ms_sql_server = '10.2.4.124'\n",
    "    ms_sql_login = 'ICECORP\\\\1c_sql'\n",
    "\n",
    "    with open('sql.pass', 'r') as file:\n",
    "        ms_sql_pass = file.read().replace('\\n', '')\n",
    "        file.close()\n",
    "\n",
    "    return ms_sql.connect(ms_sql_server,\n",
    "                          ms_sql_login,\n",
    "                          ms_sql_pass,\n",
    "                          ms_sql_base)\n",
    "\n",
    "\n",
    "def connect_mysql():\n",
    "\n",
    "    mysql_name = 'MICO_96'\n",
    "    mysql_server = '10.2.4.146'\n",
    "    mysql_login = 'asterisk'\n",
    "    with open('mysql.pass','r') as file:\n",
    "        mysql_pass = file.read().replace('\\n', '')\n",
    "        file.close()\n",
    "    #mysql_pass = '12WsxcdE34'\n",
    "    \n",
    "    return mysql.connect(\n",
    "        mysql_server, \n",
    "        mysql_login, \n",
    "        mysql_pass,\n",
    "        mysql_name\n",
    "    )"
   ]
  },
  {
   "cell_type": "code",
   "execution_count": 31,
   "metadata": {},
   "outputs": [
    {
     "name": "stdout",
     "output_type": "stream",
     "text": [
      "['in_4957237230_2020-10-09-07-36-05rxtx.wav']\n"
     ]
    }
   ],
   "source": [
    "#bar = progressbar.ProgressBar(maxval=job_len).start()\n",
    "ms_sql_conn = connect_mssql()\n",
    "job_len = 0\n",
    "with ms_sql_conn:\n",
    "    query = \"select top 2 \\\n",
    "    CAST(CAST(date_y AS varchar) + '-' + CAST(date_m AS varchar) + '-' + CAST(date_d AS varchar) AS DATETIME) \\\n",
    "    from transcribations;\"\n",
    "    query = \"select top 1 audio_file_name from transcribations;\"\n",
    "    cursor = ms_sql_conn.cursor()\n",
    "    cursor.execute(query)\n",
    "    for row in cursor.fetchall():\n",
    "        print([r for r in row])"
   ]
  },
  {
   "cell_type": "code",
   "execution_count": 33,
   "metadata": {},
   "outputs": [
    {
     "data": {
      "text/plain": [
       "'in_4957237230_2020-10-09-07-36-05rxtx.wav'"
      ]
     },
     "execution_count": 33,
     "metadata": {},
     "output_type": "execute_result"
    }
   ],
   "source": [
    "row[0]"
   ]
  },
  {
   "cell_type": "code",
   "execution_count": 35,
   "metadata": {},
   "outputs": [],
   "source": [
    "regex = '\\d{4}-\\d{2}-\\d{2}-\\d{2}-\\d{2}-\\d{2}'"
   ]
  },
  {
   "cell_type": "code",
   "execution_count": 34,
   "metadata": {},
   "outputs": [],
   "source": [
    "import re"
   ]
  },
  {
   "cell_type": "code",
   "execution_count": 39,
   "metadata": {},
   "outputs": [
    {
     "data": {
      "text/plain": [
       "'2020-10-09-07-36-05'"
      ]
     },
     "execution_count": 39,
     "metadata": {},
     "output_type": "execute_result"
    }
   ],
   "source": [
    "rec_source_date = re.findall(r'\\d{4}-\\d{2}-\\d{2}-\\d{2}-\\d{2}-\\d{2}', row[0])[0]\n",
    "rec_source_date"
   ]
  },
  {
   "cell_type": "code",
   "execution_count": 48,
   "metadata": {},
   "outputs": [
    {
     "data": {
      "text/plain": [
       "'2020-10-09 07:36:05'"
      ]
     },
     "execution_count": 48,
     "metadata": {},
     "output_type": "execute_result"
    }
   ],
   "source": [
    "rec_date = rec_source_date[:10] + ' ' + rec_source_date[11:].replace('-', ':')\n",
    "rec_date"
   ]
  },
  {
   "cell_type": "code",
   "execution_count": 7,
   "metadata": {},
   "outputs": [],
   "source": [
    "def read_job_len():\n",
    "    ms_sql_conn = connect_mssql()\n",
    "    # read job length\n",
    "    job_len = 0\n",
    "    with ms_sql_conn:\n",
    "        query = \"\"\"select\n",
    "        count(distinct audio_file_name)\n",
    "        from transcribations\n",
    "        where audio_file_name!='' and\n",
    "        text!='' and\n",
    "        dst is null;\"\"\"\n",
    "        cursor = ms_sql_conn.cursor()\n",
    "        cursor.execute(query)\n",
    "        for row in cursor.fetchall():\n",
    "            job_len = row[0]\n",
    "\n",
    "    if job_len == 0:\n",
    "        print('nothing to do. exit')\n",
    "        exit()\n",
    "\n",
    "    return job_len"
   ]
  },
  {
   "cell_type": "code",
   "execution_count": 4,
   "metadata": {},
   "outputs": [],
   "source": [
    "def read_file_name():\n",
    "    ms_sql_conn = connect_mssql()\n",
    "    file_name = ''\n",
    "    # read filename from transcribations\n",
    "    with ms_sql_conn:\n",
    "        query = \"\"\"select top 1\n",
    "        audio_file_name,\n",
    "        date_y,\n",
    "        date_m,\n",
    "        date_d\n",
    "        from transcribations\n",
    "        where text!='' and\n",
    "        dst is null and\n",
    "        audio_file_name!=''\n",
    "        order by\n",
    "        date_y,\n",
    "        date_m,\n",
    "        date_d,\n",
    "        transcribation_date;\"\"\"\n",
    "        cursor = ms_sql_conn.cursor()\n",
    "        cursor.execute(query)\n",
    "        for row in cursor.fetchall():\n",
    "            file_name = row[0]\n",
    "            date_y = row[1]\n",
    "            date_m = row[2]\n",
    "            date_d = row[3]\n",
    "\n",
    "    if file_name == '':\n",
    "        print('empty filename. exit')\n",
    "        exit()\n",
    "\n",
    "    return file_name, date_y, date_m, date_d"
   ]
  },
  {
   "cell_type": "code",
   "execution_count": 14,
   "metadata": {},
   "outputs": [],
   "source": [
    "def read_dst(file_name, date_y, date_m, date_d):\n",
    "    #query = \"select SUBSTRING(dstchannel, 5, 4) from PT1C_cdr_MICO limit 10\"\n",
    "    my_sql_conn = connect_mysql()\n",
    "    # read linkedid from CDR\n",
    "    linkedid = ''\n",
    "    filename = file_name.replace('rxtx.wav', '')\n",
    "    idy, idm, idd = int(date_y), int(date_m), int(date_d)\n",
    "    date_from = datetime.datetime(idy, idm, idd)\n",
    "    date_toto = date_from+datetime.timedelta(days=1)\n",
    "    sdf = str(date_from)\n",
    "    f_0 = '%Y-%m-%d %H:%M:%S'\n",
    "    f_1 = '%Y-%m-%dT%H:%M:%S'\n",
    "    date_from = datetime.datetime.strptime(sdf, f_0).strftime(f_1)\n",
    "    date_toto = datetime.datetime.strptime(str(date_toto), f_0).strftime(f_1)\n",
    "    with my_sql_conn:\n",
    "        query = \"\"\"select\n",
    "            SUBSTRING(dstchannel, 5, 4) as dst\n",
    "            from PT1C_cdr_MICO as PT1C_cdr_MICO\n",
    "            where\n",
    "            calldate>'\"\"\"+date_from+\"\"\"' and\n",
    "            calldate<'\"\"\"+date_toto+\"\"\"' and\n",
    "            PT1C_cdr_MICO.recordingfile LIKE '%\"\"\"+filename+\"\"\"%'\n",
    "            limit 1\"\"\"\n",
    "        cursor = my_sql_conn.cursor()\n",
    "        cursor.execute(query)\n",
    "        for row in cursor.fetchall():\n",
    "            dst = row[0]\n",
    "\n",
    "    if dst == '':\n",
    "        print('linkedid for '+filename+' is empty. exit')\n",
    "        exit()\n",
    "\n",
    "    return dst"
   ]
  },
  {
   "cell_type": "code",
   "execution_count": 25,
   "metadata": {},
   "outputs": [],
   "source": [
    "def update_transcribations(file_name, dst):\n",
    "    ms_sql_conn = connect_mssql()\n",
    "    with ms_sql_conn:\n",
    "        cursor = ms_sql_conn.cursor()\n",
    "        query = \"\"\"update transcribations\n",
    "        set dst = '\"\"\"+dst+\"\"\"'\n",
    "        where audio_file_name='\"\"\"+file_name+\"';\"\n",
    "        print(query)\n",
    "        #cursor.execute(query)\n",
    "        #ms_sql_conn.commit()"
   ]
  },
  {
   "cell_type": "code",
   "execution_count": 22,
   "metadata": {},
   "outputs": [
    {
     "data": {
      "text/plain": [
       "'in_9163652085_2020-10-09-07-11-39rxtx.wav'"
      ]
     },
     "execution_count": 22,
     "metadata": {},
     "output_type": "execute_result"
    }
   ],
   "source": [
    "file_name, date_y, date_m, date_d = read_file_name()\n",
    "file_name"
   ]
  },
  {
   "cell_type": "code",
   "execution_count": 23,
   "metadata": {},
   "outputs": [
    {
     "data": {
      "text/plain": [
       "'5011'"
      ]
     },
     "execution_count": 23,
     "metadata": {},
     "output_type": "execute_result"
    }
   ],
   "source": [
    "dst = read_dst(file_name, date_y, date_m, date_d)\n",
    "dst"
   ]
  },
  {
   "cell_type": "code",
   "execution_count": 26,
   "metadata": {},
   "outputs": [
    {
     "name": "stdout",
     "output_type": "stream",
     "text": [
      "update transcribations\n",
      "        set dst = '5011'\n",
      "        where audio_file_name='in_9163652085_2020-10-09-07-11-39rxtx.wav';\n"
     ]
    }
   ],
   "source": [
    "update_transcribations(file_name, dst)"
   ]
  },
  {
   "cell_type": "code",
   "execution_count": 27,
   "metadata": {},
   "outputs": [
    {
     "ename": "NameError",
     "evalue": "name 'progressbar' is not defined",
     "output_type": "error",
     "traceback": [
      "\u001b[0;31m---------------------------------------------------------------------------\u001b[0m",
      "\u001b[0;31mNameError\u001b[0m                                 Traceback (most recent call last)",
      "\u001b[0;32m<ipython-input-27-bb274487933c>\u001b[0m in \u001b[0;36m<module>\u001b[0;34m\u001b[0m\n\u001b[1;32m      1\u001b[0m \u001b[0mjob_len\u001b[0m \u001b[0;34m=\u001b[0m \u001b[0mread_job_len\u001b[0m\u001b[0;34m(\u001b[0m\u001b[0;34m)\u001b[0m\u001b[0;34m\u001b[0m\u001b[0;34m\u001b[0m\u001b[0m\n\u001b[1;32m      2\u001b[0m \u001b[0;34m\u001b[0m\u001b[0m\n\u001b[0;32m----> 3\u001b[0;31m \u001b[0mbar\u001b[0m \u001b[0;34m=\u001b[0m \u001b[0mprogressbar\u001b[0m\u001b[0;34m.\u001b[0m\u001b[0mProgressBar\u001b[0m\u001b[0;34m(\u001b[0m\u001b[0mmaxval\u001b[0m\u001b[0;34m=\u001b[0m\u001b[0mjob_len\u001b[0m\u001b[0;34m)\u001b[0m\u001b[0;34m.\u001b[0m\u001b[0mstart\u001b[0m\u001b[0;34m(\u001b[0m\u001b[0;34m)\u001b[0m\u001b[0;34m\u001b[0m\u001b[0;34m\u001b[0m\u001b[0m\n\u001b[0m\u001b[1;32m      4\u001b[0m \u001b[0mstep\u001b[0m \u001b[0;34m=\u001b[0m \u001b[0;36m0\u001b[0m\u001b[0;34m\u001b[0m\u001b[0;34m\u001b[0m\u001b[0m\n\u001b[1;32m      5\u001b[0m \u001b[0;31m#while(True):\u001b[0m\u001b[0;34m\u001b[0m\u001b[0;34m\u001b[0m\u001b[0;34m\u001b[0m\u001b[0m\n",
      "\u001b[0;31mNameError\u001b[0m: name 'progressbar' is not defined"
     ]
    }
   ],
   "source": [
    "job_len = read_job_len()\n",
    "\n",
    "bar = progressbar.ProgressBar(maxval=job_len).start()\n",
    "step = 0\n",
    "#while(True):    \n",
    "#file_name, date_y, date_m, date_d = read_file_name()\n",
    "ms_sql_conn = connect_mssql()\n",
    "file_name = ''\n",
    "# read filename from transcribations\n",
    "with ms_sql_conn:\n",
    "    query = \"\"\"select\n",
    "    audio_file_name,\n",
    "    date_y,\n",
    "    date_m,\n",
    "    date_d\n",
    "    from transcribations\n",
    "    where text!='' and\n",
    "    dst is null and\n",
    "    audio_file_name!=''\n",
    "    order by\n",
    "    date_y,\n",
    "    date_m,\n",
    "    date_d,\n",
    "    transcribation_date;\"\"\"\n",
    "    cursor = ms_sql_conn.cursor()\n",
    "    cursor.execute(query)\n",
    "    for row in cursor.fetchall():\n",
    "        bar.update(step)\n",
    "        file_name = row[0]\n",
    "        date_y = row[1]\n",
    "        date_m = row[2]\n",
    "        date_d = row[3]\n",
    "        dst = read_dst(file_name, date_y, date_m, date_d)\n",
    "        update_transcribations(file_name, dst)\n",
    "        step += 1\n",
    "        break"
   ]
  }
 ],
 "metadata": {
  "kernelspec": {
   "display_name": "Python 3",
   "language": "python",
   "name": "python3"
  },
  "language_info": {
   "codemirror_mode": {
    "name": "ipython",
    "version": 3
   },
   "file_extension": ".py",
   "mimetype": "text/x-python",
   "name": "python",
   "nbconvert_exporter": "python",
   "pygments_lexer": "ipython3",
   "version": "3.7.6"
  }
 },
 "nbformat": 4,
 "nbformat_minor": 4
}
