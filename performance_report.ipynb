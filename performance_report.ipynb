{
 "cells": [
  {
   "cell_type": "code",
   "execution_count": 1,
   "metadata": {},
   "outputs": [],
   "source": [
    "report_date = '2021-04-12 11:00:00'"
   ]
  },
  {
   "cell_type": "code",
   "execution_count": 2,
   "metadata": {},
   "outputs": [],
   "source": [
    "import pandas as pd\n",
    "import pymssql\n",
    "import matplotlib.pyplot as plt\n",
    "from sklearn.linear_model import LinearRegression\n",
    "import numpy as np\n",
    "from scipy.optimize import curve_fit\n",
    "import datetime"
   ]
  },
  {
   "cell_type": "code",
   "execution_count": 3,
   "metadata": {},
   "outputs": [],
   "source": [
    "def ms_sql_con():\n",
    "    sql_name = 'voice_ai'\n",
    "    sql_server = '10.2.4.124'\n",
    "    sql_login = 'ICECORP\\\\1c_sql'\n",
    "\n",
    "    with open('sql.pass','r') as file:\n",
    "        sql_pass = file.read().replace('\\n', '')\n",
    "        file.close()\n",
    "\n",
    "    return pymssql.connect(\n",
    "            server = sql_server,\n",
    "            user = sql_login,\n",
    "            password = sql_pass,\n",
    "            database = sql_name,\n",
    "            # autocommit=True\n",
    "        )"
   ]
  },
  {
   "cell_type": "code",
   "execution_count": 4,
   "metadata": {},
   "outputs": [],
   "source": [
    "def read_sql(query):\n",
    "    return pd.read_sql(query, con=ms_sql_con(), parse_dates=None)"
   ]
  },
  {
   "cell_type": "code",
   "execution_count": 5,
   "metadata": {},
   "outputs": [],
   "source": [
    "def spent_time_vs_duration():\n",
    "    print('spent time vs audio record duration')    \n",
    "    df.plot(x=\"duration\", y=[\"time\"],  kind=\"scatter\", colors = df['color'])\n",
    "    plt.show()"
   ]
  },
  {
   "cell_type": "code",
   "execution_count": 6,
   "metadata": {},
   "outputs": [],
   "source": [
    "def spent_time_vs_date():\n",
    "    print('spent time on timeline')\n",
    "    df['time_int'] = pd.to_timedelta(df.event_date).dt.total_seconds().astype(int)\n",
    "    df['time_int'] = df['time_int'] - df.time_int.min()\n",
    "    df.plot(x=\"time_int\", y=[\"time\"],  kind=\"scatter\", colors = df['color'])\n",
    "    plt.show()"
   ]
  },
  {
   "cell_type": "code",
   "execution_count": 7,
   "metadata": {},
   "outputs": [],
   "source": [
    "def coef():\n",
    "    x_train = np.array(df.duration).reshape(-1, 1)\n",
    "    y_train = np.array(df.time).reshape(-1, 1)\n",
    "    model = LinearRegression().fit(x_train, y_train)\n",
    "    y_pred = model.predict(x_train)\n",
    "    plt.scatter(x_train, y_train,  color='gray')\n",
    "    plt.plot(x_train, y_pred, color='red', linewidth=2)\n",
    "    plt.show()\n",
    "    print('linear regression coef', model.coef_)\n",
    "    return model.coef_[0][0]"
   ]
  },
  {
   "cell_type": "code",
   "execution_count": 8,
   "metadata": {},
   "outputs": [],
   "source": [
    "def performance():\n",
    "    \n",
    "   \n",
    "    print('performance: seconds of recognized audio per 10 min')\n",
    "    counter = [0 for _ in range(int(df.time_int.max()/600))]\n",
    "    \n",
    "    for index, row in df.iterrows():\n",
    "        cell = int(row.time_int/600)\n",
    "        if len(counter) < cell + 1:\n",
    "            counter.append(0)\n",
    "        counter[cell] += row.duration   \n",
    "\n",
    "    counter.insert(0,0)\n",
    "    counter.pop(len(counter) - 1)\n",
    "    plt.plot([x for x in range(len(counter))], counter, 'o', color='red', linewidth=2)\n",
    "    plt.show()\n",
    "    print([int(c) for c in counter])"
   ]
  },
  {
   "cell_type": "code",
   "execution_count": 9,
   "metadata": {},
   "outputs": [],
   "source": [
    "def perf_cores():\n",
    "\n",
    "    print('performance by cores count:')\n",
    "    \n",
    "    df['time_int'] = pd.to_timedelta(df.event_date).dt.total_seconds().astype(int)\n",
    "    df['time_int'] = df['time_int'] - df.time_int.min()\n",
    "\n",
    "    counter = [[] for _ in range(int(df.time_int.max()/600))]\n",
    "\n",
    "    for index, row in df.iterrows():\n",
    "        cell = int(row.time_int/600)\n",
    "        if len(counter) < cell + 1:\n",
    "            counter.append([])\n",
    "        counter[cell].append(row.cores)\n",
    "\n",
    "    cores = np.nan_to_num( [np.mean(c) for c in counter] )\n",
    "\n",
    "    counter = [0 for _ in range(int(df.time_int.max()/600))]\n",
    "\n",
    "    for index, row in df.iterrows():\n",
    "        cell = int(row.time_int/600)\n",
    "        if len(counter) < cell + 1:\n",
    "            counter.append(0)\n",
    "        counter[cell] += row.duration   \n",
    "\n",
    "    counter.insert(0,0)\n",
    "    counter.pop(len(counter) - 1)\n",
    "    \n",
    "    pc = pd.DataFrame([cores, counter]).T\n",
    "    pc.columns = ['cores', 'time']\n",
    "    pc = pd.DataFrame(pc.groupby('cores').mean())\n",
    "    pc.reset_index(level=0, inplace=True)\n",
    "    \n",
    "    plt.plot(pc.cores, pc.time, 'o', color='red', linewidth=2)\n",
    "    plt.show()"
   ]
  },
  {
   "cell_type": "code",
   "execution_count": 10,
   "metadata": {},
   "outputs": [],
   "source": [
    "def cores_to_performance_calculated(report_date):\n",
    "    \n",
    "    print('cores count performance calculated:')\n",
    "    \n",
    "    query = \"select cores, time, duration\"\n",
    "    query += \" from perf_log \"\n",
    "    query += \" where step = 2 and event_date > '\"+report_date+\"' and time > 5;\"\n",
    "    df = read_sql()\n",
    "    df['td'] = df.time/df.duration\n",
    "    df['perf'] = df.time/df.duration/df.cores\n",
    "    df.drop(['duration','time'], axis=1, inplace=True)\n",
    "\n",
    "    #meantd = df.groupby(df.cores).mean()\n",
    "    #meantd.reset_index(level=0, inplace=True)\n",
    "    #plt.plot(meantd.cores, meantd.td, 'o')\n",
    "\n",
    "    #mediantd = df.groupby(df.cores).median()\n",
    "    #mediantd.reset_index(level=0, inplace=True)\n",
    "    #plt.plot(mediantd.cores, mediantd.td, 'o')\n",
    "\n",
    "    mediantd = df.groupby(df.cores).median()\n",
    "    mediantd.reset_index(level=0, inplace=True)\n",
    "    plt.plot(mediantd.cores, mediantd.perf, 'o')"
   ]
  },
  {
   "cell_type": "code",
   "execution_count": 11,
   "metadata": {},
   "outputs": [],
   "source": [
    "def reco_prognose():\n",
    "    query = \"select sum(duration) from queue\"\n",
    "    df_queued = pd.read_sql(query, con=ms_sql_con())\n",
    "    queued_duration = float(df_queued.iloc[0])\n",
    "    time_prognose = queued_duration * performance_coef\n",
    "    print('recognize time prognose:', int(time_prognose), 'sec')\n",
    "    print('or', int(time_prognose/60), 'min')\n",
    "    print('or', int(time_prognose/60/60), 'h')\n",
    "    print('or', int(time_prognose/60/60/24), 'd')"
   ]
  },
  {
   "cell_type": "code",
   "execution_count": 12,
   "metadata": {},
   "outputs": [],
   "source": [
    "def colorator(source_id):\n",
    "    return 'red' if source_id == 1 else 'green'"
   ]
  },
  {
   "cell_type": "code",
   "execution_count": 13,
   "metadata": {},
   "outputs": [],
   "source": [
    "def earliest_records():\n",
    "    print('earliest records')\n",
    "    query = \"select source_id, min(record_date) from queue group by source_id order by source_id;\"\n",
    "    df_queued = pd.read_sql(query, con=ms_sql_con())\n",
    "    print(df_queued)"
   ]
  },
  {
   "cell_type": "code",
   "execution_count": 14,
   "metadata": {},
   "outputs": [],
   "source": [
    "#query = \"select event_date, cpu, time, duration from perf_log where step = 1 and duration<400 and time > 1000;\"\n",
    "#query = \"select cpu, count(cpu) as cnt, sum(time) as time_sum from perf_log where step = 2 and time > 1000 group by cpu order by cpu;\"\n",
    "#query = \"select event_date, time as time_sum from perf_log where step = 2 and cpu = 3 order by event_date;\""
   ]
  },
  {
   "cell_type": "code",
   "execution_count": 15,
   "metadata": {},
   "outputs": [],
   "source": [
    "def plot_cpu_usage():\n",
    "    df.groupby(['cpu']).sum().plot(y = ['time'], kind=\"bar\")"
   ]
  },
  {
   "cell_type": "code",
   "execution_count": 16,
   "metadata": {},
   "outputs": [],
   "source": [
    "def queue_time_vs_date():\n",
    "    queue['color'] = queue['source_id'].apply(colorator)\n",
    "    \n",
    "    q_a = queue[queue.source_id == 1]\n",
    "    q_b = queue[queue.source_id == 2]\n",
    "    \n",
    "    ratio = max(queue.queued_seconds_from_now) / max(queue.recorded_seconds_from_now) * 10\n",
    "    fig, ax = plt.subplots(1, 1, figsize=(15, 10), dpi=80)\n",
    "    \n",
    "    ax.scatter(\n",
    "        q_a.queued_seconds_from_now, \n",
    "        q_a.recorded_seconds_from_now, \n",
    "        color=q_a['color'],\n",
    "        label=\"call\",\n",
    "         marker = 'x'\n",
    "    )\n",
    "    ax.scatter(\n",
    "        q_b.queued_seconds_from_now, \n",
    "        q_b.recorded_seconds_from_now, \n",
    "        color=q_b['color'],\n",
    "        label=\"mrm\",\n",
    "        marker = '.'\n",
    "    )\n",
    "    currentdate = datetime.datetime.today()\n",
    "    currentdate = currentdate.strftime('%Y.%m.%d %H:%M:%S')\n",
    "    #datetime.datetime.strptime(df, f_0).strftime(f_1)\n",
    "    ax.set_title('Очередь ' + currentdate, fontsize=18)\n",
    "\n",
    "    # Set common labels\n",
    "    ax.set_xlabel('Добавлено, сек. назад', fontsize=18)\n",
    "    ax.set_ylabel('Записано, сек. назад', fontsize=18)\n",
    "    \n",
    "    plt.legend(bbox_to_anchor=(1, 1), loc='upper left', ncol=1)\n",
    "    plt.savefig('queue.png')"
   ]
  },
  {
   "cell_type": "code",
   "execution_count": 17,
   "metadata": {
    "scrolled": false
   },
   "outputs": [
    {
     "name": "stdout",
     "output_type": "stream",
     "text": [
      "spent time vs audio record duration\n"
     ]
    },
    {
     "name": "stderr",
     "output_type": "stream",
     "text": [
      "/home/alex/.local/lib/python3.7/site-packages/pandas/plotting/_matplotlib/core.py:203: UserWarning: 'colors' is being deprecated. Please use 'color'instead of 'colors'\n",
      "  \"'colors' is being deprecated. Please use 'color'\"\n"
     ]
    },
    {
     "data": {
      "image/png": "[encoded data removed]",
      "text/plain": [
       "<Figure size 432x288 with 1 Axes>"
      ]
     },
     "metadata": {
      "needs_background": "light"
     },
     "output_type": "display_data"
    },
    {
     "data": {
      "image/png": "[encoded data removed]",
      "text/plain": [
       "<Figure size 432x288 with 1 Axes>"
      ]
     },
     "metadata": {
      "needs_background": "light"
     },
     "output_type": "display_data"
    },
    {
     "name": "stdout",
     "output_type": "stream",
     "text": [
      "linear regression coef [[0.46381123]]\n",
      "spent time on timeline\n"
     ]
    },
    {
     "name": "stderr",
     "output_type": "stream",
     "text": [
      "/home/alex/.local/lib/python3.7/site-packages/pandas/util/_decorators.py:208: FutureWarning: Passing datetime64-dtype data to TimedeltaIndex is deprecated, will raise a TypeError in a future version\n",
      "  return func(*args, **kwargs)\n",
      "/home/alex/.local/lib/python3.7/site-packages/pandas/plotting/_matplotlib/core.py:203: UserWarning: 'colors' is being deprecated. Please use 'color'instead of 'colors'\n",
      "  \"'colors' is being deprecated. Please use 'color'\"\n"
     ]
    },
    {
     "data": {
      "image/png": "[encoded data removed]",
      "text/plain": [
       "<Figure size 432x288 with 1 Axes>"
      ]
     },
     "metadata": {
      "needs_background": "light"
     },
     "output_type": "display_data"
    },
    {
     "name": "stdout",
     "output_type": "stream",
     "text": [
      "performance: seconds of recognized audio per 10 min\n"
     ]
    },
    {
     "data": {
      "image/png": "[encoded data removed]",
      "text/plain": [
       "<Figure size 432x288 with 1 Axes>"
      ]
     },
     "metadata": {
      "needs_background": "light"
     },
     "output_type": "display_data"
    },
    {
     "name": "stdout",
     "output_type": "stream",
     "text": [
      "[0, 6658, 7321, 8522, 9346]\n",
      "performance by cores count:\n"
     ]
    },
    {
     "name": "stderr",
     "output_type": "stream",
     "text": [
      "/home/alex/.local/lib/python3.7/site-packages/pandas/util/_decorators.py:208: FutureWarning: Passing datetime64-dtype data to TimedeltaIndex is deprecated, will raise a TypeError in a future version\n",
      "  return func(*args, **kwargs)\n"
     ]
    },
    {
     "data": {
      "image/png": "[encoded data removed]",
      "text/plain": [
       "<Figure size 432x288 with 1 Axes>"
      ]
     },
     "metadata": {
      "needs_background": "light"
     },
     "output_type": "display_data"
    },
    {
     "name": "stdout",
     "output_type": "stream",
     "text": [
      "recognize time prognose: 382666 sec\n",
      "or 6377 min\n",
      "or 106 h\n",
      "or 4 d\n",
      "earliest records\n",
      "   source_id                    \n",
      "0          1 2021-04-09 07:31:52\n",
      "1          2 2021-04-12 11:23:16\n"
     ]
    },
    {
     "data": {
      "image/png": "[encoded data removed]",
      "text/plain": [
       "<Figure size 432x288 with 1 Axes>"
      ]
     },
     "metadata": {
      "needs_background": "light"
     },
     "output_type": "display_data"
    },
    {
     "data": {
      "image/png": "[encoded data removed]",
      "text/plain": [
       "<Figure size 1200x800 with 1 Axes>"
      ]
     },
     "metadata": {
      "needs_background": "light"
     },
     "output_type": "display_data"
    }
   ],
   "source": [
    "query = \"select event_date, cpu, time, duration, source_id, cores\"\n",
    "query += \" from perf_log \"\n",
    "#query += \" where cores = 9 and step = 2 and event_date > '2021-03-12 15:27:00' and time > 5;\"\n",
    "query += \" where step = 2 and event_date > '\"+report_date+\"' and time > 5;\"\n",
    "df = read_sql(query)\n",
    "df['color'] = df['source_id'].apply(colorator)\n",
    "spent_time_vs_duration()\n",
    "performance_coef = coef()\n",
    "#print('9 cores')\n",
    "spent_time_vs_date()\n",
    "performance()\n",
    "perf_cores()\n",
    "plot_cpu_usage()\n",
    "reco_prognose()\n",
    "earliest_records()\n",
    "\n",
    "query = \"select\"\n",
    "query += \" source_id,\"\n",
    "query += \" DATEDIFF(second, date, getdate()) as queued_seconds_from_now,\"\n",
    "query += \" DATEDIFF(second, record_date, getdate()) as recorded_seconds_from_now\"\n",
    "query += \" from queue order by record_date;\"\n",
    "queue = read_sql(query)\n",
    "queue_time_vs_date()"
   ]
  },
  {
   "cell_type": "code",
   "execution_count": 18,
   "metadata": {},
   "outputs": [],
   "source": [
    "#cores_to_performance_calculated()"
   ]
  },
  {
   "cell_type": "code",
   "execution_count": 19,
   "metadata": {},
   "outputs": [
    {
     "data": {
      "text/html": [
       "<div>\n",
       "<style scoped>\n",
       "    .dataframe tbody tr th:only-of-type {\n",
       "        vertical-align: middle;\n",
       "    }\n",
       "\n",
       "    .dataframe tbody tr th {\n",
       "        vertical-align: top;\n",
       "    }\n",
       "\n",
       "    .dataframe thead th {\n",
       "        text-align: right;\n",
       "    }\n",
       "</style>\n",
       "<table border=\"1\" class=\"dataframe\">\n",
       "  <thead>\n",
       "    <tr style=\"text-align: right;\">\n",
       "      <th></th>\n",
       "      <th>column_name</th>\n",
       "    </tr>\n",
       "  </thead>\n",
       "  <tbody>\n",
       "    <tr>\n",
       "      <th>0</th>\n",
       "      <td>date</td>\n",
       "    </tr>\n",
       "    <tr>\n",
       "      <th>1</th>\n",
       "      <td>cpu_id</td>\n",
       "    </tr>\n",
       "    <tr>\n",
       "      <th>2</th>\n",
       "      <td>filepath</td>\n",
       "    </tr>\n",
       "    <tr>\n",
       "      <th>3</th>\n",
       "      <td>date_y</td>\n",
       "    </tr>\n",
       "    <tr>\n",
       "      <th>4</th>\n",
       "      <td>date_m</td>\n",
       "    </tr>\n",
       "    <tr>\n",
       "      <th>5</th>\n",
       "      <td>date_d</td>\n",
       "    </tr>\n",
       "    <tr>\n",
       "      <th>6</th>\n",
       "      <td>filename</td>\n",
       "    </tr>\n",
       "    <tr>\n",
       "      <th>7</th>\n",
       "      <td>duration</td>\n",
       "    </tr>\n",
       "    <tr>\n",
       "      <th>8</th>\n",
       "      <td>record_date</td>\n",
       "    </tr>\n",
       "    <tr>\n",
       "      <th>9</th>\n",
       "      <td>source_id</td>\n",
       "    </tr>\n",
       "    <tr>\n",
       "      <th>10</th>\n",
       "      <td>src</td>\n",
       "    </tr>\n",
       "    <tr>\n",
       "      <th>11</th>\n",
       "      <td>dst</td>\n",
       "    </tr>\n",
       "    <tr>\n",
       "      <th>12</th>\n",
       "      <td>linkedid</td>\n",
       "    </tr>\n",
       "    <tr>\n",
       "      <th>13</th>\n",
       "      <td>version</td>\n",
       "    </tr>\n",
       "  </tbody>\n",
       "</table>\n",
       "</div>"
      ],
      "text/plain": [
       "    column_name\n",
       "0          date\n",
       "1        cpu_id\n",
       "2      filepath\n",
       "3        date_y\n",
       "4        date_m\n",
       "5        date_d\n",
       "6      filename\n",
       "7      duration\n",
       "8   record_date\n",
       "9     source_id\n",
       "10          src\n",
       "11          dst\n",
       "12     linkedid\n",
       "13      version"
      ]
     },
     "execution_count": 19,
     "metadata": {},
     "output_type": "execute_result"
    }
   ],
   "source": [
    "# queue\n",
    "query = \"SELECT column_name FROM information_schema.columns WHERE table_name='queue';\"\n",
    "queue = read_sql(query)\n",
    "queue"
   ]
  },
  {
   "cell_type": "code",
   "execution_count": 21,
   "metadata": {},
   "outputs": [
    {
     "data": {
      "text/html": [
       "<div>\n",
       "<style scoped>\n",
       "    .dataframe tbody tr th:only-of-type {\n",
       "        vertical-align: middle;\n",
       "    }\n",
       "\n",
       "    .dataframe tbody tr th {\n",
       "        vertical-align: top;\n",
       "    }\n",
       "\n",
       "    .dataframe thead th {\n",
       "        text-align: right;\n",
       "    }\n",
       "</style>\n",
       "<table border=\"1\" class=\"dataframe\">\n",
       "  <thead>\n",
       "    <tr style=\"text-align: right;\">\n",
       "      <th></th>\n",
       "      <th>version</th>\n",
       "      <th>filename</th>\n",
       "    </tr>\n",
       "  </thead>\n",
       "  <tbody>\n",
       "    <tr>\n",
       "      <th>0</th>\n",
       "      <td>1</td>\n",
       "      <td>a2021-04-12t11:42:00b_c9773540238d_e8926875147...</td>\n",
       "    </tr>\n",
       "    <tr>\n",
       "      <th>1</th>\n",
       "      <td>1</td>\n",
       "      <td>a2021-04-12t11:42:00b_c9773540238d_e8926875147...</td>\n",
       "    </tr>\n",
       "    <tr>\n",
       "      <th>2</th>\n",
       "      <td>1</td>\n",
       "      <td>a2021-04-12t11:41:43b_c9689595864d_e8964529217...</td>\n",
       "    </tr>\n",
       "    <tr>\n",
       "      <th>3</th>\n",
       "      <td>1</td>\n",
       "      <td>a2021-04-12t11:41:43b_c9689595864d_e8964529217...</td>\n",
       "    </tr>\n",
       "    <tr>\n",
       "      <th>4</th>\n",
       "      <td>1</td>\n",
       "      <td>a2021-04-12t11:41:36b_c9267369966d_e8916802053...</td>\n",
       "    </tr>\n",
       "    <tr>\n",
       "      <th>...</th>\n",
       "      <td>...</td>\n",
       "      <td>...</td>\n",
       "    </tr>\n",
       "    <tr>\n",
       "      <th>6768</th>\n",
       "      <td>0</td>\n",
       "      <td>in_79143428216_2021-04-09-07-38-32rxtx.wav</td>\n",
       "    </tr>\n",
       "    <tr>\n",
       "      <th>6769</th>\n",
       "      <td>0</td>\n",
       "      <td>in_79309419718_2021-04-09-07-37-35rxtx.wav</td>\n",
       "    </tr>\n",
       "    <tr>\n",
       "      <th>6770</th>\n",
       "      <td>0</td>\n",
       "      <td>in_9057334008_2021-04-09-07-35-23rxtx.wav</td>\n",
       "    </tr>\n",
       "    <tr>\n",
       "      <th>6771</th>\n",
       "      <td>0</td>\n",
       "      <td>in_79081794748_2021-04-09-07-33-48rxtx.wav</td>\n",
       "    </tr>\n",
       "    <tr>\n",
       "      <th>6772</th>\n",
       "      <td>0</td>\n",
       "      <td>in_9670525012_2021-04-09-07-31-52rxtx.wav</td>\n",
       "    </tr>\n",
       "  </tbody>\n",
       "</table>\n",
       "<p>6773 rows × 2 columns</p>\n",
       "</div>"
      ],
      "text/plain": [
       "      version                                           filename\n",
       "0           1  a2021-04-12t11:42:00b_c9773540238d_e8926875147...\n",
       "1           1  a2021-04-12t11:42:00b_c9773540238d_e8926875147...\n",
       "2           1  a2021-04-12t11:41:43b_c9689595864d_e8964529217...\n",
       "3           1  a2021-04-12t11:41:43b_c9689595864d_e8964529217...\n",
       "4           1  a2021-04-12t11:41:36b_c9267369966d_e8916802053...\n",
       "...       ...                                                ...\n",
       "6768        0         in_79143428216_2021-04-09-07-38-32rxtx.wav\n",
       "6769        0         in_79309419718_2021-04-09-07-37-35rxtx.wav\n",
       "6770        0          in_9057334008_2021-04-09-07-35-23rxtx.wav\n",
       "6771        0         in_79081794748_2021-04-09-07-33-48rxtx.wav\n",
       "6772        0          in_9670525012_2021-04-09-07-31-52rxtx.wav\n",
       "\n",
       "[6773 rows x 2 columns]"
      ]
     },
     "execution_count": 21,
     "metadata": {},
     "output_type": "execute_result"
    }
   ],
   "source": [
    "query = \"SELECT version, filename FROM queue order by record_date desc;\"\n",
    "queue = read_sql(query)\n",
    "queue"
   ]
  }
 ],
 "metadata": {
  "kernelspec": {
   "display_name": "Python 3",
   "language": "python",
   "name": "python3"
  },
  "language_info": {
   "codemirror_mode": {
    "name": "ipython",
    "version": 3
   },
   "file_extension": ".py",
   "mimetype": "text/x-python",
   "name": "python",
   "nbconvert_exporter": "python",
   "pygments_lexer": "ipython3",
   "version": "3.7.6"
  }
 },
 "nbformat": 4,
 "nbformat_minor": 4
}
