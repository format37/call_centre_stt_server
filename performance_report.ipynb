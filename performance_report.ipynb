{
 "cells": [
  {
   "cell_type": "code",
   "execution_count": 20,
   "metadata": {},
   "outputs": [],
   "source": [
    "report_date = '2021-08-23 00:00:00'"
   ]
  },
  {
   "cell_type": "code",
   "execution_count": 21,
   "metadata": {},
   "outputs": [],
   "source": [
    "# !pip install pandas\n",
    "# !pip install pymssql\n",
    "# !pip install sklearn\n",
    "#!pip install pendulum"
   ]
  },
  {
   "cell_type": "code",
   "execution_count": 22,
   "metadata": {},
   "outputs": [],
   "source": [
    "import pandas as pd\n",
    "import pymssql\n",
    "import matplotlib.pyplot as plt\n",
    "from sklearn.linear_model import LinearRegression\n",
    "import numpy as np\n",
    "from scipy.optimize import curve_fit\n",
    "import datetime\n",
    "import pendulum\n",
    "import pytz"
   ]
  },
  {
   "cell_type": "code",
   "execution_count": 23,
   "metadata": {},
   "outputs": [],
   "source": [
    "def ms_sql_con():\n",
    "    sql_name = 'voice_ai'\n",
    "    sql_server = '10.2.4.124'\n",
    "    sql_login = 'ICECORP\\\\1c_sql'\n",
    "\n",
    "    with open('sql.pass','r') as file:\n",
    "        sql_pass = file.read().replace('\\n', '')\n",
    "        file.close()\n",
    "\n",
    "    return pymssql.connect(\n",
    "            server = sql_server,\n",
    "            user = sql_login,\n",
    "            password = sql_pass,\n",
    "            database = sql_name,\n",
    "            # autocommit=True\n",
    "        )"
   ]
  },
  {
   "cell_type": "code",
   "execution_count": 24,
   "metadata": {},
   "outputs": [],
   "source": [
    "def read_sql(query):\n",
    "    return pd.read_sql(query, con=ms_sql_con(), parse_dates=None)"
   ]
  },
  {
   "cell_type": "code",
   "execution_count": 25,
   "metadata": {},
   "outputs": [],
   "source": [
    "def spent_time_vs_duration():\n",
    "    print('spent time vs audio record duration')    \n",
    "    df.plot(x=\"duration\", y=[\"time\"],  kind=\"scatter\", colors = df['color'])\n",
    "    plt.show()"
   ]
  },
  {
   "cell_type": "code",
   "execution_count": 26,
   "metadata": {},
   "outputs": [],
   "source": [
    "def spent_time_vs_date():\n",
    "    print('spent time on timeline')\n",
    "    df['time_int'] = pd.to_timedelta(df.event_date).dt.total_seconds().astype(int)\n",
    "    df['time_int'] = df['time_int'] - df.time_int.min()\n",
    "    df.plot(x=\"time_int\", y=[\"time\"],  kind=\"scatter\", colors = df['color'])\n",
    "    plt.show()"
   ]
  },
  {
   "cell_type": "code",
   "execution_count": 27,
   "metadata": {},
   "outputs": [],
   "source": [
    "def coef():\n",
    "    x_train = np.array(df.duration).reshape(-1, 1)\n",
    "    y_train = np.array(df.time).reshape(-1, 1)\n",
    "    model = LinearRegression().fit(x_train, y_train)\n",
    "    y_pred = model.predict(x_train)\n",
    "    plt.scatter(x_train, y_train,  color='gray')\n",
    "    plt.plot(x_train, y_pred, color='red', linewidth=2)\n",
    "    plt.show()\n",
    "    print('linear regression coef', model.coef_)\n",
    "    return model.coef_[0][0]"
   ]
  },
  {
   "cell_type": "code",
   "execution_count": 28,
   "metadata": {},
   "outputs": [],
   "source": [
    "def performance():\n",
    "    \n",
    "   \n",
    "    print('performance: seconds of recognized audio per 10 min')\n",
    "    counter = [0 for _ in range(int(df.time_int.max()/600))]\n",
    "    \n",
    "    for index, row in df.iterrows():\n",
    "        cell = int(row.time_int/600)\n",
    "        if len(counter) < cell + 1:\n",
    "            counter.append(0)\n",
    "        counter[cell] += row.duration   \n",
    "\n",
    "    counter.insert(0,0)\n",
    "    counter.pop(len(counter) - 1)\n",
    "    plt.plot([x for x in range(len(counter))], counter, 'o', color='red', linewidth=2)\n",
    "    plt.show()\n",
    "    print([int(c) for c in counter])"
   ]
  },
  {
   "cell_type": "code",
   "execution_count": 29,
   "metadata": {},
   "outputs": [],
   "source": [
    "def perf_cores():\n",
    "\n",
    "    print('performance by cores count:')\n",
    "    \n",
    "    df['time_int'] = pd.to_timedelta(df.event_date).dt.total_seconds().astype(int)\n",
    "    df['time_int'] = df['time_int'] - df.time_int.min()\n",
    "\n",
    "    counter = [[] for _ in range(int(df.time_int.max()/600))]\n",
    "\n",
    "    for index, row in df.iterrows():\n",
    "        cell = int(row.time_int/600)\n",
    "        if len(counter) < cell + 1:\n",
    "            counter.append([])\n",
    "        counter[cell].append(row.cores)\n",
    "\n",
    "    cores = np.nan_to_num( [np.mean(c) for c in counter] )\n",
    "\n",
    "    counter = [0 for _ in range(int(df.time_int.max()/600))]\n",
    "\n",
    "    for index, row in df.iterrows():\n",
    "        cell = int(row.time_int/600)\n",
    "        if len(counter) < cell + 1:\n",
    "            counter.append(0)\n",
    "        counter[cell] += row.duration   \n",
    "\n",
    "    counter.insert(0,0)\n",
    "    counter.pop(len(counter) - 1)\n",
    "    \n",
    "    pc = pd.DataFrame([cores, counter]).T\n",
    "    pc.columns = ['cores', 'time']\n",
    "    pc = pd.DataFrame(pc.groupby('cores').mean())\n",
    "    pc.reset_index(level=0, inplace=True)\n",
    "    \n",
    "    plt.plot(pc.cores, pc.time, 'o', color='red', linewidth=2)\n",
    "    plt.show()"
   ]
  },
  {
   "cell_type": "code",
   "execution_count": 30,
   "metadata": {},
   "outputs": [],
   "source": [
    "def cores_to_performance_calculated(report_date):\n",
    "    \n",
    "    print('cores count performance calculated:')\n",
    "    \n",
    "    query = \"select cores, time, duration\"\n",
    "    query += \" from perf_log \"\n",
    "    query += \" where step = 2 and event_date > '\"+report_date+\"' and time > 5;\"\n",
    "    df = read_sql()\n",
    "    df['td'] = df.time/df.duration\n",
    "    df['perf'] = df.time/df.duration/df.cores\n",
    "    df.drop(['duration','time'], axis=1, inplace=True)\n",
    "\n",
    "    #meantd = df.groupby(df.cores).mean()\n",
    "    #meantd.reset_index(level=0, inplace=True)\n",
    "    #plt.plot(meantd.cores, meantd.td, 'o')\n",
    "\n",
    "    #mediantd = df.groupby(df.cores).median()\n",
    "    #mediantd.reset_index(level=0, inplace=True)\n",
    "    #plt.plot(mediantd.cores, mediantd.td, 'o')\n",
    "\n",
    "    mediantd = df.groupby(df.cores).median()\n",
    "    mediantd.reset_index(level=0, inplace=True)\n",
    "    plt.plot(mediantd.cores, mediantd.perf, 'o')"
   ]
  },
  {
   "cell_type": "code",
   "execution_count": 31,
   "metadata": {},
   "outputs": [],
   "source": [
    "def reco_prognose():\n",
    "    query = \"select sum(duration) from queue\"\n",
    "    df_queued = pd.read_sql(query, con=ms_sql_con())\n",
    "    queued_duration = float(df_queued.iloc[0])\n",
    "    time_prognose = queued_duration * performance_coef\n",
    "    print('recognize time prognose:', int(time_prognose), 'sec')\n",
    "    print('or', int(time_prognose/60), 'min')\n",
    "    print('or', int(time_prognose/60/60), 'h')\n",
    "    print('or', int(time_prognose/60/60/24), 'd')"
   ]
  },
  {
   "cell_type": "code",
   "execution_count": 32,
   "metadata": {},
   "outputs": [],
   "source": [
    "def colorator(source_id):\n",
    "    return 'red' if source_id == 1 else 'green'"
   ]
  },
  {
   "cell_type": "code",
   "execution_count": 33,
   "metadata": {},
   "outputs": [],
   "source": [
    "def earliest_records():\n",
    "    print('earliest records')\n",
    "    query = \"select source_id, min(record_date) from queue group by source_id order by source_id;\"\n",
    "    df_queued = pd.read_sql(query, con=ms_sql_con())\n",
    "    print(df_queued)"
   ]
  },
  {
   "cell_type": "code",
   "execution_count": 34,
   "metadata": {},
   "outputs": [],
   "source": [
    "#query = \"select event_date, cpu, time, duration from perf_log where step = 1 and duration<400 and time > 1000;\"\n",
    "#query = \"select cpu, count(cpu) as cnt, sum(time) as time_sum from perf_log where step = 2 and time > 1000 group by cpu order by cpu;\"\n",
    "#query = \"select event_date, time as time_sum from perf_log where step = 2 and cpu = 3 order by event_date;\""
   ]
  },
  {
   "cell_type": "code",
   "execution_count": 35,
   "metadata": {},
   "outputs": [],
   "source": [
    "def plot_cpu_usage():\n",
    "    df.groupby(['cpu']).sum().plot(y = ['time'], kind=\"bar\")"
   ]
  },
  {
   "cell_type": "code",
   "execution_count": 36,
   "metadata": {},
   "outputs": [],
   "source": [
    "def queue_time_vs_date():\n",
    "    queue['color'] = queue['source_id'].apply(colorator)\n",
    "    \n",
    "    q_a = queue[queue.source_id == 1]\n",
    "    q_b = queue[queue.source_id == 2]\n",
    "    \n",
    "    ratio = max(queue.queued_seconds_from_now) / max(queue.recorded_seconds_from_now) * 10\n",
    "    fig, ax = plt.subplots(1, 1, figsize=(15, 10), dpi=80)\n",
    "    \n",
    "    ax.scatter(\n",
    "        q_a.queued_seconds_from_now, \n",
    "        q_a.recorded_seconds_from_now, \n",
    "        color=q_a['color'],\n",
    "        label=\"call\",\n",
    "         marker = 'x'\n",
    "    )\n",
    "    ax.scatter(\n",
    "        q_b.queued_seconds_from_now, \n",
    "        q_b.recorded_seconds_from_now, \n",
    "        color=q_b['color'],\n",
    "        label=\"mrm\",\n",
    "        marker = '.'\n",
    "    )\n",
    "    currentdate = datetime.datetime.today()\n",
    "    currentdate = currentdate.strftime('%Y.%m.%d %H:%M:%S')\n",
    "    #datetime.datetime.strptime(df, f_0).strftime(f_1)\n",
    "    ax.set_title('Очередь ' + currentdate, fontsize=18)\n",
    "\n",
    "    # Set common labels\n",
    "    ax.set_xlabel('Добавлено, сек. назад', fontsize=18)\n",
    "    ax.set_ylabel('Записано, сек. назад', fontsize=18)\n",
    "    \n",
    "    plt.legend(bbox_to_anchor=(1, 1), loc='upper left', ncol=1)\n",
    "    plt.savefig('queue.png')"
   ]
  },
  {
   "cell_type": "code",
   "execution_count": 80,
   "metadata": {
    "scrolled": false
   },
   "outputs": [
    {
     "name": "stdout",
     "output_type": "stream",
     "text": [
      "spent time vs audio record duration\n"
     ]
    },
    {
     "name": "stderr",
     "output_type": "stream",
     "text": [
      "/home/alex/.local/lib/python3.7/site-packages/pandas/plotting/_matplotlib/core.py:203: UserWarning: 'colors' is being deprecated. Please use 'color'instead of 'colors'\n",
      "  \"'colors' is being deprecated. Please use 'color'\"\n"
     ]
    },
    {
     "data": {
      "image/png": "[encoded data removed]",
      "text/plain": [
       "<Figure size 432x288 with 1 Axes>"
      ]
     },
     "metadata": {
      "needs_background": "light"
     },
     "output_type": "display_data"
    },
    {
     "data": {
      "image/png": "[encoded data removed]",
      "text/plain": [
       "<Figure size 432x288 with 1 Axes>"
      ]
     },
     "metadata": {
      "needs_background": "light"
     },
     "output_type": "display_data"
    },
    {
     "name": "stdout",
     "output_type": "stream",
     "text": [
      "linear regression coef [[0.79431413]]\n",
      "spent time on timeline\n"
     ]
    },
    {
     "name": "stderr",
     "output_type": "stream",
     "text": [
      "/home/alex/.local/lib/python3.7/site-packages/pandas/util/_decorators.py:208: FutureWarning: Passing datetime64-dtype data to TimedeltaIndex is deprecated, will raise a TypeError in a future version\n",
      "  return func(*args, **kwargs)\n",
      "/home/alex/.local/lib/python3.7/site-packages/pandas/plotting/_matplotlib/core.py:203: UserWarning: 'colors' is being deprecated. Please use 'color'instead of 'colors'\n",
      "  \"'colors' is being deprecated. Please use 'color'\"\n"
     ]
    },
    {
     "data": {
      "image/png": "[encoded data removed]",
      "text/plain": [
       "<Figure size 432x288 with 1 Axes>"
      ]
     },
     "metadata": {
      "needs_background": "light"
     },
     "output_type": "display_data"
    },
    {
     "name": "stdout",
     "output_type": "stream",
     "text": [
      "performance: seconds of recognized audio per 10 min\n"
     ]
    },
    {
     "data": {
      "image/png": "[encoded data removed]",
      "text/plain": [
       "<Figure size 432x288 with 1 Axes>"
      ]
     },
     "metadata": {
      "needs_background": "light"
     },
     "output_type": "display_data"
    },
    {
     "name": "stdout",
     "output_type": "stream",
     "text": [
      "[0, 9369, 9992, 9028, 9014, 9948, 9015, 8284, 10501, 8946, 9900, 8811, 8501, 11743, 8593, 9577, 9184, 9652, 8939, 8779, 9339, 9765, 9435, 9293, 9193, 9304, 9720, 9198, 10093, 9350, 8749, 8747, 9930, 10035, 8844, 9129, 8797, 9408, 9647, 9244, 9524, 9639, 9066, 9056, 9297, 9174, 9260, 9260, 9689, 8919, 9235, 8711, 10048, 8124, 9086, 10396, 9856, 7682, 9696, 8901, 9503, 9194, 9276, 7809, 9894, 9084, 9919, 9092, 9073, 9371, 9922, 9696, 8946, 8906, 10338, 8333, 8995, 9007, 9363, 10076, 7880, 9507, 11200, 9379, 8288, 9815, 8943, 9197, 9413, 8949, 9358, 9694, 9414, 9416, 8841, 9742, 9400, 9165, 9515, 9806, 9668, 9137, 8919, 10045, 9019, 8732, 10142, 9045, 9618, 9348, 8858, 9310, 9446, 9272, 9014, 9240, 9089, 10296, 8741, 9925, 8862, 9463, 9551, 9058, 8295, 9315, 9713, 9905, 9232, 9451, 9088, 9539, 9319, 9871, 9455, 9263, 9604, 9279, 9347, 9509, 9069, 9214, 9035, 9703, 10509, 9023, 9293, 9035, 10055, 9749, 9250, 8638, 9446, 9446, 9867, 8952, 8604, 9851, 9239, 9189, 9260, 8838, 9832, 8973, 9474, 9718, 8559, 9084, 9331, 7786, 9542, 9283, 9602, 8303, 9637, 9506, 9514, 9718, 8960, 9605, 8171, 8849, 8725, 9522, 9489, 8985, 8683, 8900, 8784, 9713, 8902, 9932, 9600, 8880, 9154, 9391, 9254, 10095, 9683]\n",
      "performance by cores count:\n"
     ]
    },
    {
     "name": "stderr",
     "output_type": "stream",
     "text": [
      "/home/alex/.local/lib/python3.7/site-packages/pandas/util/_decorators.py:208: FutureWarning: Passing datetime64-dtype data to TimedeltaIndex is deprecated, will raise a TypeError in a future version\n",
      "  return func(*args, **kwargs)\n"
     ]
    },
    {
     "data": {
      "image/png": "[encoded data removed]",
      "text/plain": [
       "<Figure size 432x288 with 1 Axes>"
      ]
     },
     "metadata": {
      "needs_background": "light"
     },
     "output_type": "display_data"
    },
    {
     "name": "stdout",
     "output_type": "stream",
     "text": [
      "recognize time prognose: 637076 sec\n",
      "or 10617 min\n",
      "or 176 h\n",
      "or 7 d\n",
      "earliest records\n",
      "   source_id                    \n",
      "0          1 2021-04-13 18:29:45\n",
      "1          2 2021-04-13 18:30:07\n"
     ]
    },
    {
     "data": {
      "image/png": "[encoded data removed]",
      "text/plain": [
       "<Figure size 432x288 with 1 Axes>"
      ]
     },
     "metadata": {
      "needs_background": "light"
     },
     "output_type": "display_data"
    },
    {
     "data": {
      "image/png": "[encoded data removed]",
      "text/plain": [
       "<Figure size 1200x800 with 1 Axes>"
      ]
     },
     "metadata": {
      "needs_background": "light"
     },
     "output_type": "display_data"
    }
   ],
   "source": [
    "query = \"select event_date, cpu, time, duration, source_id, cores\"\n",
    "query += \" from perf_log \"\n",
    "#query += \" where cores = 9 and step = 2 and event_date > '2021-03-12 15:27:00' and time > 5;\"\n",
    "query += \" where step = 2 and event_date > '\"+report_date+\"' and time > 5;\"\n",
    "df = read_sql(query)\n",
    "df['color'] = df['source_id'].apply(colorator)\n",
    "spent_time_vs_duration()\n",
    "performance_coef = coef()\n",
    "#print('9 cores')\n",
    "spent_time_vs_date()\n",
    "performance()\n",
    "perf_cores()\n",
    "plot_cpu_usage()\n",
    "reco_prognose()\n",
    "earliest_records()\n",
    "\n",
    "query = \"select\"\n",
    "query += \" source_id,\"\n",
    "query += \" DATEDIFF(second, date, getdate()) as queued_seconds_from_now,\"\n",
    "query += \" DATEDIFF(second, record_date, getdate()) as recorded_seconds_from_now\"\n",
    "query += \" from queue order by record_date;\"\n",
    "queue = read_sql(query)\n",
    "queue_time_vs_date()"
   ]
  },
  {
   "cell_type": "code",
   "execution_count": 132,
   "metadata": {
    "scrolled": false
   },
   "outputs": [
    {
     "data": {
      "image/png": "[encoded data removed]",
      "text/plain": [
       "<Figure size 1200x800 with 1 Axes>"
      ]
     },
     "metadata": {
      "needs_background": "light"
     },
     "output_type": "display_data"
    }
   ],
   "source": [
    "query = \"select\"\n",
    "query += \" source_id,\"\n",
    "query += \" DATEDIFF(second, date, getdate()) as queued_seconds_from_now,\"\n",
    "query += \" DATEDIFF(second, record_date, getdate()) as recorded_seconds_from_now\"\n",
    "query += \" from queue order by record_date;\"\n",
    "queue = read_sql(query)\n",
    "queue_time_vs_date()"
   ]
  },
  {
   "cell_type": "code",
   "execution_count": 42,
   "metadata": {},
   "outputs": [
    {
     "data": {
      "image/png": "[encoded data removed]",
      "text/plain": [
       "<Figure size 1200x800 with 1 Axes>"
      ]
     },
     "metadata": {
      "needs_background": "light"
     },
     "output_type": "display_data"
    }
   ],
   "source": [
    "query = \"select\"\n",
    "query += \" source_id,\"\n",
    "query += \" DATEDIFF(second, date, getdate()) as queued_seconds_from_now,\"\n",
    "query += \" DATEDIFF(second, record_date, getdate()) as recorded_seconds_from_now\"\n",
    "query += \" from queue order by record_date;\"\n",
    "queue = read_sql(query)\n",
    "queue_time_vs_date()"
   ]
  },
  {
   "cell_type": "code",
   "execution_count": 81,
   "metadata": {},
   "outputs": [],
   "source": [
    "#cores_to_performance_calculated()"
   ]
  },
  {
   "cell_type": "code",
   "execution_count": 82,
   "metadata": {},
   "outputs": [
    {
     "data": {
      "text/html": [
       "<div>\n",
       "<style scoped>\n",
       "    .dataframe tbody tr th:only-of-type {\n",
       "        vertical-align: middle;\n",
       "    }\n",
       "\n",
       "    .dataframe tbody tr th {\n",
       "        vertical-align: top;\n",
       "    }\n",
       "\n",
       "    .dataframe thead th {\n",
       "        text-align: right;\n",
       "    }\n",
       "</style>\n",
       "<table border=\"1\" class=\"dataframe\">\n",
       "  <thead>\n",
       "    <tr style=\"text-align: right;\">\n",
       "      <th></th>\n",
       "      <th>column_name</th>\n",
       "    </tr>\n",
       "  </thead>\n",
       "  <tbody>\n",
       "    <tr>\n",
       "      <th>0</th>\n",
       "      <td>date</td>\n",
       "    </tr>\n",
       "    <tr>\n",
       "      <th>1</th>\n",
       "      <td>cpu_id</td>\n",
       "    </tr>\n",
       "    <tr>\n",
       "      <th>2</th>\n",
       "      <td>filepath</td>\n",
       "    </tr>\n",
       "    <tr>\n",
       "      <th>3</th>\n",
       "      <td>date_y</td>\n",
       "    </tr>\n",
       "    <tr>\n",
       "      <th>4</th>\n",
       "      <td>date_m</td>\n",
       "    </tr>\n",
       "    <tr>\n",
       "      <th>5</th>\n",
       "      <td>date_d</td>\n",
       "    </tr>\n",
       "    <tr>\n",
       "      <th>6</th>\n",
       "      <td>filename</td>\n",
       "    </tr>\n",
       "    <tr>\n",
       "      <th>7</th>\n",
       "      <td>duration</td>\n",
       "    </tr>\n",
       "    <tr>\n",
       "      <th>8</th>\n",
       "      <td>record_date</td>\n",
       "    </tr>\n",
       "    <tr>\n",
       "      <th>9</th>\n",
       "      <td>source_id</td>\n",
       "    </tr>\n",
       "    <tr>\n",
       "      <th>10</th>\n",
       "      <td>src</td>\n",
       "    </tr>\n",
       "    <tr>\n",
       "      <th>11</th>\n",
       "      <td>dst</td>\n",
       "    </tr>\n",
       "    <tr>\n",
       "      <th>12</th>\n",
       "      <td>linkedid</td>\n",
       "    </tr>\n",
       "    <tr>\n",
       "      <th>13</th>\n",
       "      <td>version</td>\n",
       "    </tr>\n",
       "  </tbody>\n",
       "</table>\n",
       "</div>"
      ],
      "text/plain": [
       "    column_name\n",
       "0          date\n",
       "1        cpu_id\n",
       "2      filepath\n",
       "3        date_y\n",
       "4        date_m\n",
       "5        date_d\n",
       "6      filename\n",
       "7      duration\n",
       "8   record_date\n",
       "9     source_id\n",
       "10          src\n",
       "11          dst\n",
       "12     linkedid\n",
       "13      version"
      ]
     },
     "execution_count": 82,
     "metadata": {},
     "output_type": "execute_result"
    }
   ],
   "source": [
    "# queue\n",
    "query = \"SELECT column_name FROM information_schema.columns WHERE table_name='queue';\"\n",
    "queue = read_sql(query)\n",
    "queue"
   ]
  },
  {
   "cell_type": "code",
   "execution_count": 83,
   "metadata": {},
   "outputs": [
    {
     "data": {
      "text/html": [
       "<div>\n",
       "<style scoped>\n",
       "    .dataframe tbody tr th:only-of-type {\n",
       "        vertical-align: middle;\n",
       "    }\n",
       "\n",
       "    .dataframe tbody tr th {\n",
       "        vertical-align: top;\n",
       "    }\n",
       "\n",
       "    .dataframe thead th {\n",
       "        text-align: right;\n",
       "    }\n",
       "</style>\n",
       "<table border=\"1\" class=\"dataframe\">\n",
       "  <thead>\n",
       "    <tr style=\"text-align: right;\">\n",
       "      <th></th>\n",
       "      <th>version</th>\n",
       "      <th>record_date</th>\n",
       "      <th>filename</th>\n",
       "    </tr>\n",
       "  </thead>\n",
       "  <tbody>\n",
       "    <tr>\n",
       "      <th>0</th>\n",
       "      <td>0</td>\n",
       "      <td>2021-04-13 18:29:45</td>\n",
       "      <td>in_79055029008_2021-04-13-18-29-45rxtx.wav</td>\n",
       "    </tr>\n",
       "    <tr>\n",
       "      <th>1</th>\n",
       "      <td>1</td>\n",
       "      <td>2021-04-13 18:30:07</td>\n",
       "      <td>a2021-04-13t18:30:07b_c9099827168d_e8999820191...</td>\n",
       "    </tr>\n",
       "    <tr>\n",
       "      <th>2</th>\n",
       "      <td>0</td>\n",
       "      <td>2021-04-13 18:30:37</td>\n",
       "      <td>a2021-04-13t18:30:37b_c9111328570d_es_g1618327...</td>\n",
       "    </tr>\n",
       "    <tr>\n",
       "      <th>3</th>\n",
       "      <td>1</td>\n",
       "      <td>2021-04-13 18:32:36</td>\n",
       "      <td>a2021-04-13t18:32:36b_c1467d_e89041277107f_g16...</td>\n",
       "    </tr>\n",
       "    <tr>\n",
       "      <th>4</th>\n",
       "      <td>1</td>\n",
       "      <td>2021-04-13 18:33:41</td>\n",
       "      <td>a2021-04-13t18:33:41b_c9689595864d_e8915479879...</td>\n",
       "    </tr>\n",
       "    <tr>\n",
       "      <th>...</th>\n",
       "      <td>...</td>\n",
       "      <td>...</td>\n",
       "      <td>...</td>\n",
       "    </tr>\n",
       "    <tr>\n",
       "      <th>10882</th>\n",
       "      <td>1</td>\n",
       "      <td>2021-04-15 08:49:56</td>\n",
       "      <td>a2021-04-15t08:49:56b_c9031798162d_e8925000570...</td>\n",
       "    </tr>\n",
       "    <tr>\n",
       "      <th>10883</th>\n",
       "      <td>1</td>\n",
       "      <td>2021-04-15 08:50:02</td>\n",
       "      <td>a2021-04-15t08:50:02b_c9168145353d_e8926209048...</td>\n",
       "    </tr>\n",
       "    <tr>\n",
       "      <th>10884</th>\n",
       "      <td>1</td>\n",
       "      <td>2021-04-15 08:50:02</td>\n",
       "      <td>a2021-04-15t08:50:02b_c9168145353d_e8926209048...</td>\n",
       "    </tr>\n",
       "    <tr>\n",
       "      <th>10885</th>\n",
       "      <td>1</td>\n",
       "      <td>2021-04-15 08:50:22</td>\n",
       "      <td>a2021-04-15t08:50:22b_c9162577685d_e8916379835...</td>\n",
       "    </tr>\n",
       "    <tr>\n",
       "      <th>10886</th>\n",
       "      <td>1</td>\n",
       "      <td>2021-04-15 08:50:22</td>\n",
       "      <td>a2021-04-15t08:50:22b_c9162577685d_e8916379835...</td>\n",
       "    </tr>\n",
       "  </tbody>\n",
       "</table>\n",
       "<p>10887 rows × 3 columns</p>\n",
       "</div>"
      ],
      "text/plain": [
       "       version         record_date  \\\n",
       "0            0 2021-04-13 18:29:45   \n",
       "1            1 2021-04-13 18:30:07   \n",
       "2            0 2021-04-13 18:30:37   \n",
       "3            1 2021-04-13 18:32:36   \n",
       "4            1 2021-04-13 18:33:41   \n",
       "...        ...                 ...   \n",
       "10882        1 2021-04-15 08:49:56   \n",
       "10883        1 2021-04-15 08:50:02   \n",
       "10884        1 2021-04-15 08:50:02   \n",
       "10885        1 2021-04-15 08:50:22   \n",
       "10886        1 2021-04-15 08:50:22   \n",
       "\n",
       "                                                filename  \n",
       "0             in_79055029008_2021-04-13-18-29-45rxtx.wav  \n",
       "1      a2021-04-13t18:30:07b_c9099827168d_e8999820191...  \n",
       "2      a2021-04-13t18:30:37b_c9111328570d_es_g1618327...  \n",
       "3      a2021-04-13t18:32:36b_c1467d_e89041277107f_g16...  \n",
       "4      a2021-04-13t18:33:41b_c9689595864d_e8915479879...  \n",
       "...                                                  ...  \n",
       "10882  a2021-04-15t08:49:56b_c9031798162d_e8925000570...  \n",
       "10883  a2021-04-15t08:50:02b_c9168145353d_e8926209048...  \n",
       "10884  a2021-04-15t08:50:02b_c9168145353d_e8926209048...  \n",
       "10885  a2021-04-15t08:50:22b_c9162577685d_e8916379835...  \n",
       "10886  a2021-04-15t08:50:22b_c9162577685d_e8916379835...  \n",
       "\n",
       "[10887 rows x 3 columns]"
      ]
     },
     "execution_count": 83,
     "metadata": {},
     "output_type": "execute_result"
    }
   ],
   "source": [
    "query = \"SELECT version, record_date, filename FROM queue order by record_date;\"\n",
    "queue = read_sql(query)\n",
    "queue"
   ]
  },
  {
   "cell_type": "code",
   "execution_count": null,
   "metadata": {},
   "outputs": [],
   "source": [
    "# queue by cpu\n",
    "query = \"SELECT cpu_id, count(linkedid) FROM queue group by cpu_id order by cpu_id;\"\n",
    "queue = read_sql(query)\n",
    "queue"
   ]
  },
  {
   "cell_type": "code",
   "execution_count": 4,
   "metadata": {},
   "outputs": [
    {
     "ename": "NameError",
     "evalue": "name 'read_sql' is not defined",
     "output_type": "error",
     "traceback": [
      "\u001b[0;31m---------------------------------------------------------------------------\u001b[0m",
      "\u001b[0;31mNameError\u001b[0m                                 Traceback (most recent call last)",
      "\u001b[0;32m<ipython-input-4-851da0f3ea32>\u001b[0m in \u001b[0;36m<module>\u001b[0;34m\u001b[0m\n\u001b[1;32m      1\u001b[0m \u001b[0;31m# queue by cpu\u001b[0m\u001b[0;34m\u001b[0m\u001b[0;34m\u001b[0m\u001b[0;34m\u001b[0m\u001b[0m\n\u001b[1;32m      2\u001b[0m \u001b[0mquery\u001b[0m \u001b[0;34m=\u001b[0m \u001b[0;34m\"SELECT cpu_id, count(linkedid) FROM queue group by cpu_id order by count(linkedid) desc;\"\u001b[0m\u001b[0;34m\u001b[0m\u001b[0;34m\u001b[0m\u001b[0m\n\u001b[0;32m----> 3\u001b[0;31m \u001b[0mqueue\u001b[0m \u001b[0;34m=\u001b[0m \u001b[0mread_sql\u001b[0m\u001b[0;34m(\u001b[0m\u001b[0mquery\u001b[0m\u001b[0;34m)\u001b[0m\u001b[0;34m\u001b[0m\u001b[0;34m\u001b[0m\u001b[0m\n\u001b[0m\u001b[1;32m      4\u001b[0m \u001b[0mqueue\u001b[0m\u001b[0;34m\u001b[0m\u001b[0;34m\u001b[0m\u001b[0m\n",
      "\u001b[0;31mNameError\u001b[0m: name 'read_sql' is not defined"
     ]
    }
   ],
   "source": [
    "# queue by cpu\n",
    "query = \"SELECT cpu_id, count(linkedid) FROM queue group by cpu_id order by count(linkedid) desc;\"\n",
    "queue = read_sql(query)\n",
    "queue"
   ]
  },
  {
   "cell_type": "code",
   "execution_count": 41,
   "metadata": {
    "scrolled": false
   },
   "outputs": [
    {
     "name": "stdout",
     "output_type": "stream",
     "text": [
      "2021-09-07 07:44:53.352415+03:00\n"
     ]
    },
    {
     "data": {
      "text/html": [
       "<div>\n",
       "<style scoped>\n",
       "    .dataframe tbody tr th:only-of-type {\n",
       "        vertical-align: middle;\n",
       "    }\n",
       "\n",
       "    .dataframe tbody tr th {\n",
       "        vertical-align: top;\n",
       "    }\n",
       "\n",
       "    .dataframe thead th {\n",
       "        text-align: right;\n",
       "    }\n",
       "</style>\n",
       "<table border=\"1\" class=\"dataframe\">\n",
       "  <thead>\n",
       "    <tr style=\"text-align: right;\">\n",
       "      <th></th>\n",
       "      <th>cpu_id</th>\n",
       "      <th></th>\n",
       "    </tr>\n",
       "  </thead>\n",
       "  <tbody>\n",
       "    <tr>\n",
       "      <th>0</th>\n",
       "      <td>0</td>\n",
       "      <td>1727</td>\n",
       "    </tr>\n",
       "    <tr>\n",
       "      <th>1</th>\n",
       "      <td>1</td>\n",
       "      <td>1729</td>\n",
       "    </tr>\n",
       "    <tr>\n",
       "      <th>2</th>\n",
       "      <td>2</td>\n",
       "      <td>1735</td>\n",
       "    </tr>\n",
       "    <tr>\n",
       "      <th>3</th>\n",
       "      <td>3</td>\n",
       "      <td>1728</td>\n",
       "    </tr>\n",
       "    <tr>\n",
       "      <th>4</th>\n",
       "      <td>4</td>\n",
       "      <td>1735</td>\n",
       "    </tr>\n",
       "    <tr>\n",
       "      <th>5</th>\n",
       "      <td>5</td>\n",
       "      <td>1724</td>\n",
       "    </tr>\n",
       "    <tr>\n",
       "      <th>6</th>\n",
       "      <td>6</td>\n",
       "      <td>1736</td>\n",
       "    </tr>\n",
       "    <tr>\n",
       "      <th>7</th>\n",
       "      <td>7</td>\n",
       "      <td>1732</td>\n",
       "    </tr>\n",
       "    <tr>\n",
       "      <th>8</th>\n",
       "      <td>8</td>\n",
       "      <td>1733</td>\n",
       "    </tr>\n",
       "  </tbody>\n",
       "</table>\n",
       "</div>"
      ],
      "text/plain": [
       "   cpu_id      \n",
       "0       0  1727\n",
       "1       1  1729\n",
       "2       2  1735\n",
       "3       3  1728\n",
       "4       4  1735\n",
       "5       5  1724\n",
       "6       6  1736\n",
       "7       7  1732\n",
       "8       8  1733"
      ]
     },
     "execution_count": 41,
     "metadata": {},
     "output_type": "execute_result"
    }
   ],
   "source": [
    "# queue by cpu\n",
    "print(datetime.datetime.now().astimezone(pytz.timezone('Europe/Moscow')))\n",
    "query = \"SELECT cpu_id, count(linkedid) FROM queue group by cpu_id order by cpu_id;\"\n",
    "queue = read_sql(query)\n",
    "queue"
   ]
  },
  {
   "cell_type": "code",
   "execution_count": 18,
   "metadata": {},
   "outputs": [
    {
     "name": "stdout",
     "output_type": "stream",
     "text": [
      "2021-09-07 07:16:43.889474+03:00\n"
     ]
    },
    {
     "data": {
      "text/html": [
       "<div>\n",
       "<style scoped>\n",
       "    .dataframe tbody tr th:only-of-type {\n",
       "        vertical-align: middle;\n",
       "    }\n",
       "\n",
       "    .dataframe tbody tr th {\n",
       "        vertical-align: top;\n",
       "    }\n",
       "\n",
       "    .dataframe thead th {\n",
       "        text-align: right;\n",
       "    }\n",
       "</style>\n",
       "<table border=\"1\" class=\"dataframe\">\n",
       "  <thead>\n",
       "    <tr style=\"text-align: right;\">\n",
       "      <th></th>\n",
       "      <th>cpu_id</th>\n",
       "      <th></th>\n",
       "    </tr>\n",
       "  </thead>\n",
       "  <tbody>\n",
       "    <tr>\n",
       "      <th>0</th>\n",
       "      <td>9</td>\n",
       "      <td>1610</td>\n",
       "    </tr>\n",
       "    <tr>\n",
       "      <th>1</th>\n",
       "      <td>10</td>\n",
       "      <td>1611</td>\n",
       "    </tr>\n",
       "    <tr>\n",
       "      <th>2</th>\n",
       "      <td>11</td>\n",
       "      <td>1610</td>\n",
       "    </tr>\n",
       "    <tr>\n",
       "      <th>3</th>\n",
       "      <td>12</td>\n",
       "      <td>1591</td>\n",
       "    </tr>\n",
       "    <tr>\n",
       "      <th>4</th>\n",
       "      <td>13</td>\n",
       "      <td>1597</td>\n",
       "    </tr>\n",
       "    <tr>\n",
       "      <th>5</th>\n",
       "      <td>14</td>\n",
       "      <td>1589</td>\n",
       "    </tr>\n",
       "    <tr>\n",
       "      <th>6</th>\n",
       "      <td>15</td>\n",
       "      <td>1581</td>\n",
       "    </tr>\n",
       "    <tr>\n",
       "      <th>7</th>\n",
       "      <td>16</td>\n",
       "      <td>1624</td>\n",
       "    </tr>\n",
       "    <tr>\n",
       "      <th>8</th>\n",
       "      <td>17</td>\n",
       "      <td>1583</td>\n",
       "    </tr>\n",
       "    <tr>\n",
       "      <th>9</th>\n",
       "      <td>18</td>\n",
       "      <td>1593</td>\n",
       "    </tr>\n",
       "    <tr>\n",
       "      <th>10</th>\n",
       "      <td>19</td>\n",
       "      <td>1606</td>\n",
       "    </tr>\n",
       "  </tbody>\n",
       "</table>\n",
       "</div>"
      ],
      "text/plain": [
       "    cpu_id      \n",
       "0        9  1610\n",
       "1       10  1611\n",
       "2       11  1610\n",
       "3       12  1591\n",
       "4       13  1597\n",
       "5       14  1589\n",
       "6       15  1581\n",
       "7       16  1624\n",
       "8       17  1583\n",
       "9       18  1593\n",
       "10      19  1606"
      ]
     },
     "execution_count": 18,
     "metadata": {},
     "output_type": "execute_result"
    }
   ],
   "source": [
    "# queue by cpu\n",
    "print(datetime.datetime.now().astimezone(pytz.timezone('Europe/Moscow')))\n",
    "query = \"SELECT cpu_id, count(linkedid) FROM queue group by cpu_id order by cpu_id;\"\n",
    "queue = read_sql(query)\n",
    "queue"
   ]
  },
  {
   "cell_type": "markdown",
   "metadata": {},
   "source": [
    "### scratch"
   ]
  },
  {
   "cell_type": "code",
   "execution_count": 38,
   "metadata": {},
   "outputs": [
    {
     "data": {
      "text/html": [
       "<div>\n",
       "<style scoped>\n",
       "    .dataframe tbody tr th:only-of-type {\n",
       "        vertical-align: middle;\n",
       "    }\n",
       "\n",
       "    .dataframe tbody tr th {\n",
       "        vertical-align: top;\n",
       "    }\n",
       "\n",
       "    .dataframe thead th {\n",
       "        text-align: right;\n",
       "    }\n",
       "</style>\n",
       "<table border=\"1\" class=\"dataframe\">\n",
       "  <thead>\n",
       "    <tr style=\"text-align: right;\">\n",
       "      <th></th>\n",
       "      <th>column_name</th>\n",
       "    </tr>\n",
       "  </thead>\n",
       "  <tbody>\n",
       "    <tr>\n",
       "      <th>0</th>\n",
       "      <td>event_date</td>\n",
       "    </tr>\n",
       "    <tr>\n",
       "      <th>1</th>\n",
       "      <td>step</td>\n",
       "    </tr>\n",
       "    <tr>\n",
       "      <th>2</th>\n",
       "      <td>cpu</td>\n",
       "    </tr>\n",
       "    <tr>\n",
       "      <th>3</th>\n",
       "      <td>duration</td>\n",
       "    </tr>\n",
       "    <tr>\n",
       "      <th>4</th>\n",
       "      <td>linkedid</td>\n",
       "    </tr>\n",
       "    <tr>\n",
       "      <th>5</th>\n",
       "      <td>source_id</td>\n",
       "    </tr>\n",
       "    <tr>\n",
       "      <th>6</th>\n",
       "      <td>cores</td>\n",
       "    </tr>\n",
       "    <tr>\n",
       "      <th>7</th>\n",
       "      <td>time</td>\n",
       "    </tr>\n",
       "    <tr>\n",
       "      <th>8</th>\n",
       "      <td>file_name</td>\n",
       "    </tr>\n",
       "  </tbody>\n",
       "</table>\n",
       "</div>"
      ],
      "text/plain": [
       "  column_name\n",
       "0  event_date\n",
       "1        step\n",
       "2         cpu\n",
       "3    duration\n",
       "4    linkedid\n",
       "5   source_id\n",
       "6       cores\n",
       "7        time\n",
       "8   file_name"
      ]
     },
     "execution_count": 38,
     "metadata": {},
     "output_type": "execute_result"
    }
   ],
   "source": [
    "query = \"SELECT column_name FROM information_schema.columns WHERE table_name='perf_log';\"\n",
    "df = read_sql(query)\n",
    "df"
   ]
  },
  {
   "cell_type": "code",
   "execution_count": 78,
   "metadata": {},
   "outputs": [],
   "source": [
    "start_date = '2021-09-06 16:10:00'\n",
    "end_date = '2022-08-25 00:00:00'\n",
    "\n",
    "query = \"select file_name, cpu, time, duration\"\n",
    "query += \" from perf_log \"\n",
    "query += \" where step = 2 and event_date > '\"+start_date+\"' and time > 5\"\n",
    "query += \" and event_date < '\"+end_date+\"';\"\n",
    "df = read_sql(query)\n",
    "df['td'] = df.duration/df.time"
   ]
  },
  {
   "cell_type": "code",
   "execution_count": 79,
   "metadata": {},
   "outputs": [
    {
     "data": {
      "text/plain": [
       "1429"
      ]
     },
     "execution_count": 79,
     "metadata": {},
     "output_type": "execute_result"
    }
   ],
   "source": [
    "len(df)"
   ]
  },
  {
   "cell_type": "code",
   "execution_count": 80,
   "metadata": {},
   "outputs": [
    {
     "data": {
      "text/plain": [
       "<AxesSubplot:title={'center':'Транскрибация аудиофайлов'}, xlabel='Ядро', ylabel='Количество файлов'>"
      ]
     },
     "execution_count": 80,
     "metadata": {},
     "output_type": "execute_result"
    },
    {
     "data": {
      "image/png": "[encoded data removed]",
      "text/plain": [
       "<Figure size 432x288 with 1 Axes>"
      ]
     },
     "metadata": {
      "needs_background": "light"
     },
     "output_type": "display_data"
    }
   ],
   "source": [
    "#df.groupby(['cpu']).count().plot(y = ['file_name'], kind=\"bar\")\n",
    "df.groupby('cpu').count().plot(\n",
    "    y = ['file_name'], \n",
    "    kind=\"bar\", \n",
    "    xlabel='Ядро', \n",
    "    ylabel='Количество файлов', \n",
    "    title='Транскрибация аудиофайлов'\n",
    ")"
   ]
  },
  {
   "cell_type": "code",
   "execution_count": 81,
   "metadata": {},
   "outputs": [],
   "source": [
    "df.drop(['file_name', 'time', 'duration'], axis=1, inplace = True)"
   ]
  },
  {
   "cell_type": "code",
   "execution_count": 82,
   "metadata": {},
   "outputs": [
    {
     "data": {
      "text/plain": [
       "<AxesSubplot:title={'center':'Медианная производительность транскрибации'}, xlabel='cpu', ylabel='Производительность'>"
      ]
     },
     "execution_count": 82,
     "metadata": {},
     "output_type": "execute_result"
    },
    {
     "data": {
      "image/png": "[encoded data removed]",
      "text/plain": [
       "<Figure size 432x288 with 1 Axes>"
      ]
     },
     "metadata": {
      "needs_background": "light"
     },
     "output_type": "display_data"
    }
   ],
   "source": [
    "df.groupby('cpu').median().plot(\n",
    "    y = ['td'], \n",
    "    kind=\"bar\", \n",
    "    xlabel='cpu', \n",
    "    ylabel='Производительность', \n",
    "    title='Медианная производительность транскрибации'\n",
    ")"
   ]
  },
  {
   "cell_type": "code",
   "execution_count": 83,
   "metadata": {
    "scrolled": false
   },
   "outputs": [
    {
     "data": {
      "text/plain": [
       "<AxesSubplot:title={'center':'Средняя производительность транскрибации'}, xlabel='cpu', ylabel='Производительность'>"
      ]
     },
     "execution_count": 83,
     "metadata": {},
     "output_type": "execute_result"
    },
    {
     "data": {
      "image/png": "[encoded data removed]",
      "text/plain": [
       "<Figure size 432x288 with 1 Axes>"
      ]
     },
     "metadata": {
      "needs_background": "light"
     },
     "output_type": "display_data"
    }
   ],
   "source": [
    "df.groupby('cpu').mean().plot(\n",
    "    y = ['td'], \n",
    "    kind=\"bar\", \n",
    "    xlabel='cpu', \n",
    "    ylabel='Производительность', \n",
    "    title='Средняя производительность транскрибации'\n",
    ")"
   ]
  },
  {
   "cell_type": "markdown",
   "metadata": {},
   "source": [
    "### check transcribations"
   ]
  },
  {
   "cell_type": "code",
   "execution_count": 21,
   "metadata": {},
   "outputs": [
    {
     "data": {
      "text/html": [
       "<div>\n",
       "<style scoped>\n",
       "    .dataframe tbody tr th:only-of-type {\n",
       "        vertical-align: middle;\n",
       "    }\n",
       "\n",
       "    .dataframe tbody tr th {\n",
       "        vertical-align: top;\n",
       "    }\n",
       "\n",
       "    .dataframe thead th {\n",
       "        text-align: right;\n",
       "    }\n",
       "</style>\n",
       "<table border=\"1\" class=\"dataframe\">\n",
       "  <thead>\n",
       "    <tr style=\"text-align: right;\">\n",
       "      <th></th>\n",
       "      <th>column_name</th>\n",
       "    </tr>\n",
       "  </thead>\n",
       "  <tbody>\n",
       "    <tr>\n",
       "      <th>0</th>\n",
       "      <td>transcribation_date</td>\n",
       "    </tr>\n",
       "    <tr>\n",
       "      <th>1</th>\n",
       "      <td>date_y</td>\n",
       "    </tr>\n",
       "    <tr>\n",
       "      <th>2</th>\n",
       "      <td>date_m</td>\n",
       "    </tr>\n",
       "    <tr>\n",
       "      <th>3</th>\n",
       "      <td>date_d</td>\n",
       "    </tr>\n",
       "    <tr>\n",
       "      <th>4</th>\n",
       "      <td>side</td>\n",
       "    </tr>\n",
       "    <tr>\n",
       "      <th>5</th>\n",
       "      <td>text</td>\n",
       "    </tr>\n",
       "    <tr>\n",
       "      <th>6</th>\n",
       "      <td>start</td>\n",
       "    </tr>\n",
       "    <tr>\n",
       "      <th>7</th>\n",
       "      <td>audio_file_name</td>\n",
       "    </tr>\n",
       "    <tr>\n",
       "      <th>8</th>\n",
       "      <td>conf</td>\n",
       "    </tr>\n",
       "    <tr>\n",
       "      <th>9</th>\n",
       "      <td>end_time</td>\n",
       "    </tr>\n",
       "    <tr>\n",
       "      <th>10</th>\n",
       "      <td>sentiment</td>\n",
       "    </tr>\n",
       "    <tr>\n",
       "      <th>11</th>\n",
       "      <td>sentiment_pos</td>\n",
       "    </tr>\n",
       "    <tr>\n",
       "      <th>12</th>\n",
       "      <td>sentiment_neg</td>\n",
       "    </tr>\n",
       "    <tr>\n",
       "      <th>13</th>\n",
       "      <td>ID</td>\n",
       "    </tr>\n",
       "    <tr>\n",
       "      <th>14</th>\n",
       "      <td>linkedid</td>\n",
       "    </tr>\n",
       "    <tr>\n",
       "      <th>15</th>\n",
       "      <td>dst</td>\n",
       "    </tr>\n",
       "    <tr>\n",
       "      <th>16</th>\n",
       "      <td>record_date</td>\n",
       "    </tr>\n",
       "    <tr>\n",
       "      <th>17</th>\n",
       "      <td>source_id</td>\n",
       "    </tr>\n",
       "    <tr>\n",
       "      <th>18</th>\n",
       "      <td>src</td>\n",
       "    </tr>\n",
       "    <tr>\n",
       "      <th>19</th>\n",
       "      <td>cpu_id</td>\n",
       "    </tr>\n",
       "    <tr>\n",
       "      <th>20</th>\n",
       "      <td>duration</td>\n",
       "    </tr>\n",
       "    <tr>\n",
       "      <th>21</th>\n",
       "      <td>file_size</td>\n",
       "    </tr>\n",
       "    <tr>\n",
       "      <th>22</th>\n",
       "      <td>queue_date</td>\n",
       "    </tr>\n",
       "  </tbody>\n",
       "</table>\n",
       "</div>"
      ],
      "text/plain": [
       "            column_name\n",
       "0   transcribation_date\n",
       "1                date_y\n",
       "2                date_m\n",
       "3                date_d\n",
       "4                  side\n",
       "5                  text\n",
       "6                 start\n",
       "7       audio_file_name\n",
       "8                  conf\n",
       "9              end_time\n",
       "10            sentiment\n",
       "11        sentiment_pos\n",
       "12        sentiment_neg\n",
       "13                   ID\n",
       "14             linkedid\n",
       "15                  dst\n",
       "16          record_date\n",
       "17            source_id\n",
       "18                  src\n",
       "19               cpu_id\n",
       "20             duration\n",
       "21            file_size\n",
       "22           queue_date"
      ]
     },
     "execution_count": 21,
     "metadata": {},
     "output_type": "execute_result"
    }
   ],
   "source": [
    "# queue\n",
    "query = \"SELECT column_name FROM information_schema.columns WHERE table_name='transcribations';\"\n",
    "queue = read_sql(query)\n",
    "queue"
   ]
  },
  {
   "cell_type": "code",
   "execution_count": 46,
   "metadata": {},
   "outputs": [
    {
     "data": {
      "text/html": [
       "<div>\n",
       "<style scoped>\n",
       "    .dataframe tbody tr th:only-of-type {\n",
       "        vertical-align: middle;\n",
       "    }\n",
       "\n",
       "    .dataframe tbody tr th {\n",
       "        vertical-align: top;\n",
       "    }\n",
       "\n",
       "    .dataframe thead th {\n",
       "        text-align: right;\n",
       "    }\n",
       "</style>\n",
       "<table border=\"1\" class=\"dataframe\">\n",
       "  <thead>\n",
       "    <tr style=\"text-align: right;\">\n",
       "      <th></th>\n",
       "      <th>cpu_id</th>\n",
       "      <th>linkedid</th>\n",
       "      <th>start</th>\n",
       "      <th>side</th>\n",
       "      <th>text</th>\n",
       "    </tr>\n",
       "  </thead>\n",
       "  <tbody>\n",
       "    <tr>\n",
       "      <th>0</th>\n",
       "      <td>0</td>\n",
       "      <td>1630654997.539729</td>\n",
       "      <td>13.615830</td>\n",
       "      <td>True</td>\n",
       "      <td>добро пожаловать</td>\n",
       "    </tr>\n",
       "    <tr>\n",
       "      <th>1</th>\n",
       "      <td>0</td>\n",
       "      <td>1630655541.540519</td>\n",
       "      <td>6.450000</td>\n",
       "      <td>False</td>\n",
       "      <td>давай</td>\n",
       "    </tr>\n",
       "    <tr>\n",
       "      <th>2</th>\n",
       "      <td>0</td>\n",
       "      <td>1630655541.540519</td>\n",
       "      <td>8.580000</td>\n",
       "      <td>False</td>\n",
       "      <td>хорошо</td>\n",
       "    </tr>\n",
       "    <tr>\n",
       "      <th>3</th>\n",
       "      <td>0</td>\n",
       "      <td>1630655541.540519</td>\n",
       "      <td>9.960000</td>\n",
       "      <td>False</td>\n",
       "      <td>мама</td>\n",
       "    </tr>\n",
       "    <tr>\n",
       "      <th>4</th>\n",
       "      <td>0</td>\n",
       "      <td>1630655541.540519</td>\n",
       "      <td>14.460000</td>\n",
       "      <td>False</td>\n",
       "      <td>вам пора покупать продукты кто-то пытается</td>\n",
       "    </tr>\n",
       "    <tr>\n",
       "      <th>5</th>\n",
       "      <td>0</td>\n",
       "      <td>1630655541.540519</td>\n",
       "      <td>19.410000</td>\n",
       "      <td>False</td>\n",
       "      <td>отключение включено</td>\n",
       "    </tr>\n",
       "    <tr>\n",
       "      <th>6</th>\n",
       "      <td>0</td>\n",
       "      <td>1630655541.540519</td>\n",
       "      <td>21.090000</td>\n",
       "      <td>False</td>\n",
       "      <td>папа папа папа папа папа мама и папа</td>\n",
       "    </tr>\n",
       "    <tr>\n",
       "      <th>7</th>\n",
       "      <td>0</td>\n",
       "      <td>1630655541.540519</td>\n",
       "      <td>27.103896</td>\n",
       "      <td>False</td>\n",
       "      <td>папа мама папа баба</td>\n",
       "    </tr>\n",
       "    <tr>\n",
       "      <th>8</th>\n",
       "      <td>0</td>\n",
       "      <td>1630655903.540952</td>\n",
       "      <td>10.410000</td>\n",
       "      <td>True</td>\n",
       "      <td>игра</td>\n",
       "    </tr>\n",
       "    <tr>\n",
       "      <th>9</th>\n",
       "      <td>0</td>\n",
       "      <td>1630655903.540952</td>\n",
       "      <td>15.870000</td>\n",
       "      <td>True</td>\n",
       "      <td>а я стороны</td>\n",
       "    </tr>\n",
       "  </tbody>\n",
       "</table>\n",
       "</div>"
      ],
      "text/plain": [
       "   cpu_id           linkedid      start   side  \\\n",
       "0       0  1630654997.539729  13.615830   True   \n",
       "1       0  1630655541.540519   6.450000  False   \n",
       "2       0  1630655541.540519   8.580000  False   \n",
       "3       0  1630655541.540519   9.960000  False   \n",
       "4       0  1630655541.540519  14.460000  False   \n",
       "5       0  1630655541.540519  19.410000  False   \n",
       "6       0  1630655541.540519  21.090000  False   \n",
       "7       0  1630655541.540519  27.103896  False   \n",
       "8       0  1630655903.540952  10.410000   True   \n",
       "9       0  1630655903.540952  15.870000   True   \n",
       "\n",
       "                                         text  \n",
       "0                            добро пожаловать  \n",
       "1                                       давай  \n",
       "2                                      хорошо  \n",
       "3                                        мама  \n",
       "4  вам пора покупать продукты кто-то пытается  \n",
       "5                         отключение включено  \n",
       "6        папа папа папа папа папа мама и папа  \n",
       "7                         папа мама папа баба  \n",
       "8                                        игра  \n",
       "9                                 а я стороны  "
      ]
     },
     "execution_count": 46,
     "metadata": {},
     "output_type": "execute_result"
    }
   ],
   "source": [
    "#report_date = '2021-08-23 14:06:17'\n",
    "#report_date = '2021-08-24 11:25:00'\n",
    "report_date = '2021-09-07 07:40:00'\n",
    "query = \"select top 10 cpu_id, linkedid, start, side, text\"\n",
    "#query = \"select file_name, cpu\"\n",
    "query += \" from transcribations \"\n",
    "query += \" where transcribation_date > '\"+report_date+\"' \"\n",
    "query += \" and duration > 5 and source_id = 2\"\n",
    "#query += \" and audio_file_name = 'in_78632641676_2021-08-23-12-11-03rxtx.wav'\"\n",
    "query += \" order by cpu_id, linkedid, start;\"\n",
    "df = read_sql(query)\n",
    "df"
   ]
  },
  {
   "cell_type": "code",
   "execution_count": 61,
   "metadata": {},
   "outputs": [
    {
     "data": {
      "text/html": [
       "<div>\n",
       "<style scoped>\n",
       "    .dataframe tbody tr th:only-of-type {\n",
       "        vertical-align: middle;\n",
       "    }\n",
       "\n",
       "    .dataframe tbody tr th {\n",
       "        vertical-align: top;\n",
       "    }\n",
       "\n",
       "    .dataframe thead th {\n",
       "        text-align: right;\n",
       "    }\n",
       "</style>\n",
       "<table border=\"1\" class=\"dataframe\">\n",
       "  <thead>\n",
       "    <tr style=\"text-align: right;\">\n",
       "      <th></th>\n",
       "      <th>source_id</th>\n",
       "      <th>cpu_id</th>\n",
       "      <th>linkedid</th>\n",
       "      <th>start</th>\n",
       "      <th>side</th>\n",
       "      <th>text</th>\n",
       "    </tr>\n",
       "  </thead>\n",
       "  <tbody>\n",
       "    <tr>\n",
       "      <th>0</th>\n",
       "      <td>1</td>\n",
       "      <td>0</td>\n",
       "      <td>1629709604.2051480</td>\n",
       "      <td>0.0</td>\n",
       "      <td>False</td>\n",
       "      <td></td>\n",
       "    </tr>\n",
       "    <tr>\n",
       "      <th>1</th>\n",
       "      <td>1</td>\n",
       "      <td>0</td>\n",
       "      <td>1629709604.2051480</td>\n",
       "      <td>0.0</td>\n",
       "      <td>True</td>\n",
       "      <td></td>\n",
       "    </tr>\n",
       "  </tbody>\n",
       "</table>\n",
       "</div>"
      ],
      "text/plain": [
       "   source_id  cpu_id            linkedid  start   side text\n",
       "0          1       0  1629709604.2051480    0.0  False     \n",
       "1          1       0  1629709604.2051480    0.0   True     "
      ]
     },
     "execution_count": 61,
     "metadata": {},
     "output_type": "execute_result"
    }
   ],
   "source": [
    "df"
   ]
  },
  {
   "cell_type": "code",
   "execution_count": 44,
   "metadata": {},
   "outputs": [
    {
     "name": "stdout",
     "output_type": "stream",
     "text": [
      "добро пожаловать\n",
      "давай\n",
      "хорошо\n",
      "мама\n",
      "вам пора покупать продукты кто-то пытается\n",
      "отключение включено\n",
      "папа папа папа папа папа мама и папа\n",
      "папа мама папа баба\n",
      "игра\n",
      "а я стороны\n"
     ]
    }
   ],
   "source": [
    "for idx, row in df.iterrows():\n",
    "    print(row.text)"
   ]
  },
  {
   "cell_type": "markdown",
   "metadata": {},
   "source": [
    "# DROP WRONG"
   ]
  },
  {
   "cell_type": "code",
   "execution_count": 78,
   "metadata": {},
   "outputs": [
    {
     "data": {
      "text/html": [
       "<div>\n",
       "<style scoped>\n",
       "    .dataframe tbody tr th:only-of-type {\n",
       "        vertical-align: middle;\n",
       "    }\n",
       "\n",
       "    .dataframe tbody tr th {\n",
       "        vertical-align: top;\n",
       "    }\n",
       "\n",
       "    .dataframe thead th {\n",
       "        text-align: right;\n",
       "    }\n",
       "</style>\n",
       "<table border=\"1\" class=\"dataframe\">\n",
       "  <thead>\n",
       "    <tr style=\"text-align: right;\">\n",
       "      <th></th>\n",
       "      <th>source_id</th>\n",
       "      <th>cpu_id</th>\n",
       "      <th>linkedid</th>\n",
       "      <th>start</th>\n",
       "      <th>side</th>\n",
       "      <th>text</th>\n",
       "    </tr>\n",
       "  </thead>\n",
       "  <tbody>\n",
       "    <tr>\n",
       "      <th>0</th>\n",
       "      <td>1</td>\n",
       "      <td>1</td>\n",
       "      <td>1629357991.1954401</td>\n",
       "      <td>0.061233</td>\n",
       "      <td>True</td>\n",
       "      <td>и</td>\n",
       "    </tr>\n",
       "    <tr>\n",
       "      <th>1</th>\n",
       "      <td>1</td>\n",
       "      <td>1</td>\n",
       "      <td>1629357991.1954401</td>\n",
       "      <td>4.260000</td>\n",
       "      <td>True</td>\n",
       "      <td>здравствуйте единая служба сервиса оператора юля</td>\n",
       "    </tr>\n",
       "    <tr>\n",
       "      <th>2</th>\n",
       "      <td>1</td>\n",
       "      <td>1</td>\n",
       "      <td>1629357991.1954401</td>\n",
       "      <td>13.890000</td>\n",
       "      <td>True</td>\n",
       "      <td>стиральная машина какая как называется</td>\n",
       "    </tr>\n",
       "    <tr>\n",
       "      <th>3</th>\n",
       "      <td>1</td>\n",
       "      <td>1</td>\n",
       "      <td>1629357991.1954401</td>\n",
       "      <td>18.660000</td>\n",
       "      <td>True</td>\n",
       "      <td>мож черте города находятся территориально</td>\n",
       "    </tr>\n",
       "    <tr>\n",
       "      <th>4</th>\n",
       "      <td>1</td>\n",
       "      <td>1</td>\n",
       "      <td>1629357991.1954401</td>\n",
       "      <td>24.450000</td>\n",
       "      <td>True</td>\n",
       "      <td>вон в городе ли в области находитесь</td>\n",
       "    </tr>\n",
       "    <tr>\n",
       "      <th>...</th>\n",
       "      <td>...</td>\n",
       "      <td>...</td>\n",
       "      <td>...</td>\n",
       "      <td>...</td>\n",
       "      <td>...</td>\n",
       "      <td>...</td>\n",
       "    </tr>\n",
       "    <tr>\n",
       "      <th>95</th>\n",
       "      <td>1</td>\n",
       "      <td>1</td>\n",
       "      <td>1629358552.1954886</td>\n",
       "      <td>91.650000</td>\n",
       "      <td>False</td>\n",
       "      <td>покажи истории может быть ты принесёшь номер н...</td>\n",
       "    </tr>\n",
       "    <tr>\n",
       "      <th>96</th>\n",
       "      <td>1</td>\n",
       "      <td>1</td>\n",
       "      <td>1629358552.1954886</td>\n",
       "      <td>100.320000</td>\n",
       "      <td>False</td>\n",
       "      <td>серия дот</td>\n",
       "    </tr>\n",
       "    <tr>\n",
       "      <th>97</th>\n",
       "      <td>1</td>\n",
       "      <td>1</td>\n",
       "      <td>1629358552.1954886</td>\n",
       "      <td>102.030000</td>\n",
       "      <td>True</td>\n",
       "      <td>все всё этого достаточно больше ничего не надо...</td>\n",
       "    </tr>\n",
       "    <tr>\n",
       "      <th>98</th>\n",
       "      <td>1</td>\n",
       "      <td>1</td>\n",
       "      <td>1629358552.1954886</td>\n",
       "      <td>104.100000</td>\n",
       "      <td>False</td>\n",
       "      <td>позже эти у тебя</td>\n",
       "    </tr>\n",
       "    <tr>\n",
       "      <th>99</th>\n",
       "      <td>1</td>\n",
       "      <td>1</td>\n",
       "      <td>1629358552.1954886</td>\n",
       "      <td>106.763584</td>\n",
       "      <td>False</td>\n",
       "      <td>давай репортаж</td>\n",
       "    </tr>\n",
       "  </tbody>\n",
       "</table>\n",
       "<p>100 rows × 6 columns</p>\n",
       "</div>"
      ],
      "text/plain": [
       "    source_id  cpu_id            linkedid       start   side  \\\n",
       "0           1       1  1629357991.1954401    0.061233   True   \n",
       "1           1       1  1629357991.1954401    4.260000   True   \n",
       "2           1       1  1629357991.1954401   13.890000   True   \n",
       "3           1       1  1629357991.1954401   18.660000   True   \n",
       "4           1       1  1629357991.1954401   24.450000   True   \n",
       "..        ...     ...                 ...         ...    ...   \n",
       "95          1       1  1629358552.1954886   91.650000  False   \n",
       "96          1       1  1629358552.1954886  100.320000  False   \n",
       "97          1       1  1629358552.1954886  102.030000   True   \n",
       "98          1       1  1629358552.1954886  104.100000  False   \n",
       "99          1       1  1629358552.1954886  106.763584  False   \n",
       "\n",
       "                                                 text  \n",
       "0                                                   и  \n",
       "1    здравствуйте единая служба сервиса оператора юля  \n",
       "2              стиральная машина какая как называется  \n",
       "3           мож черте города находятся территориально  \n",
       "4                вон в городе ли в области находитесь  \n",
       "..                                                ...  \n",
       "95  покажи истории может быть ты принесёшь номер н...  \n",
       "96                                          серия дот  \n",
       "97  все всё этого достаточно больше ничего не надо...  \n",
       "98                                   позже эти у тебя  \n",
       "99                                     давай репортаж  \n",
       "\n",
       "[100 rows x 6 columns]"
      ]
     },
     "execution_count": 78,
     "metadata": {},
     "output_type": "execute_result"
    }
   ],
   "source": [
    "start_date = '2021-08-23 15:10:00'\n",
    "end_date = '2021-08-24 15:32:00'\n",
    "query = \"select top 100 source_id, cpu_id, linkedid, start, side, text\"\n",
    "#query = \"select file_name, cpu\"\n",
    "query += \" from transcribations \"\n",
    "query += \" where cpu_id < 2\"\n",
    "query += \" and source_id = 1\"\n",
    "query += \" and transcribation_date > '\"+start_date+\"' \"\n",
    "query += \" and transcribation_date < '\"+end_date+\"' \"\n",
    "query += \" and duration > 5\"\n",
    "#query += \" and audio_file_name = 'in_78632641676_2021-08-23-12-11-03rxtx.wav'\"\n",
    "query += \" order by linkedid, start;\"\n",
    "df = read_sql(query)\n",
    "df"
   ]
  },
  {
   "cell_type": "markdown",
   "metadata": {},
   "source": [
    "### queue"
   ]
  },
  {
   "cell_type": "code",
   "execution_count": 18,
   "metadata": {},
   "outputs": [
    {
     "data": {
      "text/html": [
       "<div>\n",
       "<style scoped>\n",
       "    .dataframe tbody tr th:only-of-type {\n",
       "        vertical-align: middle;\n",
       "    }\n",
       "\n",
       "    .dataframe tbody tr th {\n",
       "        vertical-align: top;\n",
       "    }\n",
       "\n",
       "    .dataframe thead th {\n",
       "        text-align: right;\n",
       "    }\n",
       "</style>\n",
       "<table border=\"1\" class=\"dataframe\">\n",
       "  <thead>\n",
       "    <tr style=\"text-align: right;\">\n",
       "      <th></th>\n",
       "      <th>column_name</th>\n",
       "    </tr>\n",
       "  </thead>\n",
       "  <tbody>\n",
       "    <tr>\n",
       "      <th>0</th>\n",
       "      <td>transcribation_date</td>\n",
       "    </tr>\n",
       "    <tr>\n",
       "      <th>1</th>\n",
       "      <td>date_y</td>\n",
       "    </tr>\n",
       "    <tr>\n",
       "      <th>2</th>\n",
       "      <td>date_m</td>\n",
       "    </tr>\n",
       "    <tr>\n",
       "      <th>3</th>\n",
       "      <td>date_d</td>\n",
       "    </tr>\n",
       "    <tr>\n",
       "      <th>4</th>\n",
       "      <td>side</td>\n",
       "    </tr>\n",
       "    <tr>\n",
       "      <th>5</th>\n",
       "      <td>text</td>\n",
       "    </tr>\n",
       "    <tr>\n",
       "      <th>6</th>\n",
       "      <td>start</td>\n",
       "    </tr>\n",
       "    <tr>\n",
       "      <th>7</th>\n",
       "      <td>audio_file_name</td>\n",
       "    </tr>\n",
       "    <tr>\n",
       "      <th>8</th>\n",
       "      <td>conf</td>\n",
       "    </tr>\n",
       "    <tr>\n",
       "      <th>9</th>\n",
       "      <td>end_time</td>\n",
       "    </tr>\n",
       "    <tr>\n",
       "      <th>10</th>\n",
       "      <td>sentiment</td>\n",
       "    </tr>\n",
       "    <tr>\n",
       "      <th>11</th>\n",
       "      <td>sentiment_pos</td>\n",
       "    </tr>\n",
       "    <tr>\n",
       "      <th>12</th>\n",
       "      <td>sentiment_neg</td>\n",
       "    </tr>\n",
       "    <tr>\n",
       "      <th>13</th>\n",
       "      <td>ID</td>\n",
       "    </tr>\n",
       "    <tr>\n",
       "      <th>14</th>\n",
       "      <td>linkedid</td>\n",
       "    </tr>\n",
       "    <tr>\n",
       "      <th>15</th>\n",
       "      <td>dst</td>\n",
       "    </tr>\n",
       "    <tr>\n",
       "      <th>16</th>\n",
       "      <td>record_date</td>\n",
       "    </tr>\n",
       "    <tr>\n",
       "      <th>17</th>\n",
       "      <td>source_id</td>\n",
       "    </tr>\n",
       "    <tr>\n",
       "      <th>18</th>\n",
       "      <td>src</td>\n",
       "    </tr>\n",
       "    <tr>\n",
       "      <th>19</th>\n",
       "      <td>cpu_id</td>\n",
       "    </tr>\n",
       "    <tr>\n",
       "      <th>20</th>\n",
       "      <td>duration</td>\n",
       "    </tr>\n",
       "    <tr>\n",
       "      <th>21</th>\n",
       "      <td>file_size</td>\n",
       "    </tr>\n",
       "    <tr>\n",
       "      <th>22</th>\n",
       "      <td>queue_date</td>\n",
       "    </tr>\n",
       "  </tbody>\n",
       "</table>\n",
       "</div>"
      ],
      "text/plain": [
       "            column_name\n",
       "0   transcribation_date\n",
       "1                date_y\n",
       "2                date_m\n",
       "3                date_d\n",
       "4                  side\n",
       "5                  text\n",
       "6                 start\n",
       "7       audio_file_name\n",
       "8                  conf\n",
       "9              end_time\n",
       "10            sentiment\n",
       "11        sentiment_pos\n",
       "12        sentiment_neg\n",
       "13                   ID\n",
       "14             linkedid\n",
       "15                  dst\n",
       "16          record_date\n",
       "17            source_id\n",
       "18                  src\n",
       "19               cpu_id\n",
       "20             duration\n",
       "21            file_size\n",
       "22           queue_date"
      ]
     },
     "execution_count": 18,
     "metadata": {},
     "output_type": "execute_result"
    }
   ],
   "source": [
    "query = \"SELECT column_name FROM information_schema.columns WHERE table_name='transcribations';\"\n",
    "queue = read_sql(query)\n",
    "queue"
   ]
  },
  {
   "cell_type": "code",
   "execution_count": null,
   "metadata": {},
   "outputs": [],
   "source": [
    "### server debug"
   ]
  },
  {
   "cell_type": "code",
   "execution_count": 33,
   "metadata": {},
   "outputs": [
    {
     "data": {
      "text/html": [
       "<div>\n",
       "<style scoped>\n",
       "    .dataframe tbody tr th:only-of-type {\n",
       "        vertical-align: middle;\n",
       "    }\n",
       "\n",
       "    .dataframe tbody tr th {\n",
       "        vertical-align: top;\n",
       "    }\n",
       "\n",
       "    .dataframe thead th {\n",
       "        text-align: right;\n",
       "    }\n",
       "</style>\n",
       "<table border=\"1\" class=\"dataframe\">\n",
       "  <thead>\n",
       "    <tr style=\"text-align: right;\">\n",
       "      <th></th>\n",
       "      <th>filepath</th>\n",
       "      <th>filename</th>\n",
       "      <th>duration</th>\n",
       "      <th>source_id</th>\n",
       "      <th>record_date</th>\n",
       "      <th>src</th>\n",
       "      <th>dst</th>\n",
       "      <th>linkedid</th>\n",
       "      <th>file_size</th>\n",
       "      <th>date</th>\n",
       "    </tr>\n",
       "  </thead>\n",
       "  <tbody>\n",
       "    <tr>\n",
       "      <th>0</th>\n",
       "      <td>/mnt/share/audio/MSK_SRVCALL/RX_TX/RXTX_2021-0...</td>\n",
       "      <td>in_4996120291_2021-08-27-08-43-32rxtx.wav</td>\n",
       "      <td>68.16</td>\n",
       "      <td>1</td>\n",
       "      <td>2021-08-27 08:43:32</td>\n",
       "      <td>4996120291</td>\n",
       "      <td>5042</td>\n",
       "      <td>1630043011.2156553</td>\n",
       "      <td>2181164</td>\n",
       "      <td>2021-08-27 09:31:06</td>\n",
       "    </tr>\n",
       "    <tr>\n",
       "      <th>1</th>\n",
       "      <td>/mnt/share/audio/MSK_SRVCALL/RX_TX/RXTX_2021-0...</td>\n",
       "      <td>in_8127770011_2021-08-27-08-44-12rxtx.wav</td>\n",
       "      <td>9.24</td>\n",
       "      <td>1</td>\n",
       "      <td>2021-08-27 08:44:12</td>\n",
       "      <td>8127770011</td>\n",
       "      <td>5010</td>\n",
       "      <td>1630043050.2156576</td>\n",
       "      <td>295724</td>\n",
       "      <td>2021-08-27 09:31:06</td>\n",
       "    </tr>\n",
       "    <tr>\n",
       "      <th>2</th>\n",
       "      <td>/mnt/share/audio/MSK_SRVCALL/RX_TX/RXTX_2021-0...</td>\n",
       "      <td>in_8127770011_2021-08-27-08-44-44rxtx.wav</td>\n",
       "      <td>16.76</td>\n",
       "      <td>1</td>\n",
       "      <td>2021-08-27 08:44:44</td>\n",
       "      <td>8127770011</td>\n",
       "      <td>5042</td>\n",
       "      <td>1630043082.2156606</td>\n",
       "      <td>536364</td>\n",
       "      <td>2021-08-27 09:31:07</td>\n",
       "    </tr>\n",
       "    <tr>\n",
       "      <th>3</th>\n",
       "      <td>/mnt/share/audio/MSK_SRVCALL/RX_TX/RXTX_2021-0...</td>\n",
       "      <td>in_79063695054_2021-08-27-08-45-21rxtx.wav</td>\n",
       "      <td>7.94</td>\n",
       "      <td>1</td>\n",
       "      <td>2021-08-27 08:45:21</td>\n",
       "      <td>79063695054</td>\n",
       "      <td>None</td>\n",
       "      <td>1630043119.2156628</td>\n",
       "      <td>254124</td>\n",
       "      <td>2021-08-27 09:31:07</td>\n",
       "    </tr>\n",
       "    <tr>\n",
       "      <th>4</th>\n",
       "      <td>/mnt/share/audio/MSK_SRVCALL/RX_TX/RXTX_2021-0...</td>\n",
       "      <td>in_78314222525_2021-08-27-08-45-48rxtx.wav</td>\n",
       "      <td>49.96</td>\n",
       "      <td>1</td>\n",
       "      <td>2021-08-27 08:45:48</td>\n",
       "      <td>78314222525</td>\n",
       "      <td>5021</td>\n",
       "      <td>1630043147.2156666</td>\n",
       "      <td>1598764</td>\n",
       "      <td>2021-08-27 09:31:08</td>\n",
       "    </tr>\n",
       "    <tr>\n",
       "      <th>...</th>\n",
       "      <td>...</td>\n",
       "      <td>...</td>\n",
       "      <td>...</td>\n",
       "      <td>...</td>\n",
       "      <td>...</td>\n",
       "      <td>...</td>\n",
       "      <td>...</td>\n",
       "      <td>...</td>\n",
       "      <td>...</td>\n",
       "      <td>...</td>\n",
       "    </tr>\n",
       "    <tr>\n",
       "      <th>60</th>\n",
       "      <td>/mnt/share/audio_master/MSK_MRM/REC_IN_OUT/</td>\n",
       "      <td>a2021-08-27t09:31:07b_c9254214853d_e9857969400...</td>\n",
       "      <td>52.28</td>\n",
       "      <td>2</td>\n",
       "      <td>2021-08-27 09:31:07</td>\n",
       "      <td>9254214853</td>\n",
       "      <td>9857969400</td>\n",
       "      <td>1630045865.284160</td>\n",
       "      <td>836524</td>\n",
       "      <td>2021-08-27 09:42:26</td>\n",
       "    </tr>\n",
       "    <tr>\n",
       "      <th>61</th>\n",
       "      <td>/mnt/share/audio_master/MSK_MRM/REC_IN_OUT/</td>\n",
       "      <td>a2021-08-27t09:31:19b_c9811890939d_e9213497425...</td>\n",
       "      <td>34.60</td>\n",
       "      <td>2</td>\n",
       "      <td>2021-08-27 09:31:19</td>\n",
       "      <td>9811890939</td>\n",
       "      <td>9213497425</td>\n",
       "      <td>1630045877.284171</td>\n",
       "      <td>553644</td>\n",
       "      <td>2021-08-27 09:42:26</td>\n",
       "    </tr>\n",
       "    <tr>\n",
       "      <th>62</th>\n",
       "      <td>/mnt/share/audio_master/MSK_MRM/REC_IN_OUT/</td>\n",
       "      <td>a2021-08-27t09:31:19b_c9811890939d_e9213497425...</td>\n",
       "      <td>34.80</td>\n",
       "      <td>2</td>\n",
       "      <td>2021-08-27 09:31:19</td>\n",
       "      <td>9811890939</td>\n",
       "      <td>9213497425</td>\n",
       "      <td>1630045877.284171</td>\n",
       "      <td>556844</td>\n",
       "      <td>2021-08-27 09:42:26</td>\n",
       "    </tr>\n",
       "    <tr>\n",
       "      <th>63</th>\n",
       "      <td>/mnt/share/audio_master/MSK_MRM/REC_IN_OUT/</td>\n",
       "      <td>a2021-08-27t09:31:36b_c9957826046d_e9067370483...</td>\n",
       "      <td>36.98</td>\n",
       "      <td>2</td>\n",
       "      <td>2021-08-27 09:31:36</td>\n",
       "      <td>9957826046</td>\n",
       "      <td>9067370483</td>\n",
       "      <td>1630045894.284186</td>\n",
       "      <td>591724</td>\n",
       "      <td>2021-08-27 09:42:26</td>\n",
       "    </tr>\n",
       "    <tr>\n",
       "      <th>64</th>\n",
       "      <td>/mnt/share/audio_master/MSK_MRM/REC_IN_OUT/</td>\n",
       "      <td>a2021-08-27t09:31:36b_c9957826046d_e9067370483...</td>\n",
       "      <td>36.84</td>\n",
       "      <td>2</td>\n",
       "      <td>2021-08-27 09:31:36</td>\n",
       "      <td>9957826046</td>\n",
       "      <td>9067370483</td>\n",
       "      <td>1630045894.284186</td>\n",
       "      <td>589484</td>\n",
       "      <td>2021-08-27 09:42:27</td>\n",
       "    </tr>\n",
       "  </tbody>\n",
       "</table>\n",
       "<p>65 rows × 10 columns</p>\n",
       "</div>"
      ],
      "text/plain": [
       "                                             filepath  \\\n",
       "0   /mnt/share/audio/MSK_SRVCALL/RX_TX/RXTX_2021-0...   \n",
       "1   /mnt/share/audio/MSK_SRVCALL/RX_TX/RXTX_2021-0...   \n",
       "2   /mnt/share/audio/MSK_SRVCALL/RX_TX/RXTX_2021-0...   \n",
       "3   /mnt/share/audio/MSK_SRVCALL/RX_TX/RXTX_2021-0...   \n",
       "4   /mnt/share/audio/MSK_SRVCALL/RX_TX/RXTX_2021-0...   \n",
       "..                                                ...   \n",
       "60        /mnt/share/audio_master/MSK_MRM/REC_IN_OUT/   \n",
       "61        /mnt/share/audio_master/MSK_MRM/REC_IN_OUT/   \n",
       "62        /mnt/share/audio_master/MSK_MRM/REC_IN_OUT/   \n",
       "63        /mnt/share/audio_master/MSK_MRM/REC_IN_OUT/   \n",
       "64        /mnt/share/audio_master/MSK_MRM/REC_IN_OUT/   \n",
       "\n",
       "                                             filename  duration  source_id  \\\n",
       "0           in_4996120291_2021-08-27-08-43-32rxtx.wav     68.16          1   \n",
       "1           in_8127770011_2021-08-27-08-44-12rxtx.wav      9.24          1   \n",
       "2           in_8127770011_2021-08-27-08-44-44rxtx.wav     16.76          1   \n",
       "3          in_79063695054_2021-08-27-08-45-21rxtx.wav      7.94          1   \n",
       "4          in_78314222525_2021-08-27-08-45-48rxtx.wav     49.96          1   \n",
       "..                                                ...       ...        ...   \n",
       "60  a2021-08-27t09:31:07b_c9254214853d_e9857969400...     52.28          2   \n",
       "61  a2021-08-27t09:31:19b_c9811890939d_e9213497425...     34.60          2   \n",
       "62  a2021-08-27t09:31:19b_c9811890939d_e9213497425...     34.80          2   \n",
       "63  a2021-08-27t09:31:36b_c9957826046d_e9067370483...     36.98          2   \n",
       "64  a2021-08-27t09:31:36b_c9957826046d_e9067370483...     36.84          2   \n",
       "\n",
       "           record_date          src         dst            linkedid  \\\n",
       "0  2021-08-27 08:43:32   4996120291        5042  1630043011.2156553   \n",
       "1  2021-08-27 08:44:12   8127770011        5010  1630043050.2156576   \n",
       "2  2021-08-27 08:44:44   8127770011        5042  1630043082.2156606   \n",
       "3  2021-08-27 08:45:21  79063695054        None  1630043119.2156628   \n",
       "4  2021-08-27 08:45:48  78314222525        5021  1630043147.2156666   \n",
       "..                 ...          ...         ...                 ...   \n",
       "60 2021-08-27 09:31:07   9254214853  9857969400   1630045865.284160   \n",
       "61 2021-08-27 09:31:19   9811890939  9213497425   1630045877.284171   \n",
       "62 2021-08-27 09:31:19   9811890939  9213497425   1630045877.284171   \n",
       "63 2021-08-27 09:31:36   9957826046  9067370483   1630045894.284186   \n",
       "64 2021-08-27 09:31:36   9957826046  9067370483   1630045894.284186   \n",
       "\n",
       "    file_size                date  \n",
       "0     2181164 2021-08-27 09:31:06  \n",
       "1      295724 2021-08-27 09:31:06  \n",
       "2      536364 2021-08-27 09:31:07  \n",
       "3      254124 2021-08-27 09:31:07  \n",
       "4     1598764 2021-08-27 09:31:08  \n",
       "..        ...                 ...  \n",
       "60     836524 2021-08-27 09:42:26  \n",
       "61     553644 2021-08-27 09:42:26  \n",
       "62     556844 2021-08-27 09:42:26  \n",
       "63     591724 2021-08-27 09:42:26  \n",
       "64     589484 2021-08-27 09:42:27  \n",
       "\n",
       "[65 rows x 10 columns]"
      ]
     },
     "execution_count": 33,
     "metadata": {},
     "output_type": "execute_result"
    }
   ],
   "source": [
    "batch_size = 100\n",
    "cpu_id = 11\n",
    "past_in_minutes = pendulum.now().add(minutes=-6).strftime('%Y-%m-%d %H:%M:%S')\n",
    "sql_query = \"select top \"+str(batch_size)+\" filepath, filename, duration, source_id, \"\n",
    "sql_query += \"record_date, src, dst, linkedid, file_size, date from queue \"\n",
    "sql_query += \"where cpu_id='\" + str(cpu_id) + \"' \"\n",
    "sql_query += \"and ( (source_id = '2' and record_date < '\" + past_in_minutes + \"') or not source_id = '2' ) \"\n",
    "#sql_query += \"order by ISNULL(record_date, 0) desc, record_date, linkedid, filename;\"\n",
    "sql_query += \"order by record_date, filename;\"\n",
    "\n",
    "queue = read_sql(sql_query)\n",
    "queue"
   ]
  }
 ],
 "metadata": {
  "kernelspec": {
   "display_name": "Python 3",
   "language": "python",
   "name": "python3"
  },
  "language_info": {
   "codemirror_mode": {
    "name": "ipython",
    "version": 3
   },
   "file_extension": ".py",
   "mimetype": "text/x-python",
   "name": "python",
   "nbconvert_exporter": "python",
   "pygments_lexer": "ipython3",
   "version": "3.9.2"
  }
 },
 "nbformat": 4,
 "nbformat_minor": 4
}
