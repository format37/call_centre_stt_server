{
 "cells": [
  {
   "cell_type": "code",
   "execution_count": 1,
   "metadata": {},
   "outputs": [],
   "source": [
    "import pandas as pd\n",
    "import pymssql\n",
    "import matplotlib.pyplot as plt\n",
    "from sklearn.linear_model import LinearRegression\n",
    "import numpy as np"
   ]
  },
  {
   "cell_type": "code",
   "execution_count": 2,
   "metadata": {},
   "outputs": [],
   "source": [
    "def ms_sql_con():\n",
    "    sql_name = 'voice_ai'\n",
    "    sql_server = '10.2.4.124'\n",
    "    sql_login = 'ICECORP\\\\1c_sql'\n",
    "\n",
    "    with open('sql.pass','r') as file:\n",
    "        sql_pass = file.read().replace('\\n', '')\n",
    "        file.close()\n",
    "\n",
    "    return pymssql.connect(\n",
    "            server = sql_server,\n",
    "            user = sql_login,\n",
    "            password = sql_pass,\n",
    "            database = sql_name,\n",
    "            # autocommit=True\n",
    "        )"
   ]
  },
  {
   "cell_type": "code",
   "execution_count": 3,
   "metadata": {},
   "outputs": [],
   "source": [
    "def read_sql():\n",
    "    return pd.read_sql(query, con=ms_sql_con(), parse_dates=None)"
   ]
  },
  {
   "cell_type": "code",
   "execution_count": 4,
   "metadata": {},
   "outputs": [],
   "source": [
    "def spent_time_vs_duration():\n",
    "    print('spent time vs audio record duration')\n",
    "    df.plot(x=\"duration\", y=[\"time\"],  kind=\"scatter\")\n",
    "    plt.show()"
   ]
  },
  {
   "cell_type": "code",
   "execution_count": 5,
   "metadata": {},
   "outputs": [],
   "source": [
    "def spent_time_vs_date():\n",
    "    print('spent time on timeline')\n",
    "    df['time_int'] = pd.to_timedelta(df.event_date).dt.total_seconds().astype(int)\n",
    "    df['time_int'] = df['time_int'] - df.time_int.min()\n",
    "    df.plot(x=\"time_int\", y=[\"time\"],  kind=\"scatter\")\n",
    "    plt.show()"
   ]
  },
  {
   "cell_type": "code",
   "execution_count": 6,
   "metadata": {},
   "outputs": [],
   "source": [
    "def coef():\n",
    "    x_train = np.array(df.duration).reshape(-1, 1)\n",
    "    y_train = np.array(df.time).reshape(-1, 1)\n",
    "    model = LinearRegression().fit(x_train, y_train)\n",
    "    y_pred = model.predict(x_train)\n",
    "    plt.scatter(x_train, y_train,  color='gray')\n",
    "    plt.plot(x_train, y_pred, color='red', linewidth=2)\n",
    "    plt.show()\n",
    "    print('linear regression coef', model.coef_)\n",
    "    return model.coef_[0][0]"
   ]
  },
  {
   "cell_type": "code",
   "execution_count": 7,
   "metadata": {},
   "outputs": [],
   "source": [
    "def performance():\n",
    "    print('performance: seconds of recognized audio per 10 min')\n",
    "    counter = [0 for _ in range(int(df.time_int.max()/600))]\n",
    "    \n",
    "    for index, row in df.iterrows():\n",
    "        cell = int(row.time_int/600)\n",
    "        if len(counter) < cell + 1:\n",
    "            counter.append(0)\n",
    "        counter[cell] += row.duration   \n",
    "\n",
    "    counter.insert(0,0)\n",
    "    counter.pop(len(counter) - 1)\n",
    "    plt.plot([x for x in range(len(counter))], counter, 'o', color='red', linewidth=2)\n",
    "    plt.show()\n",
    "    print([int(c) for c in counter])"
   ]
  },
  {
   "cell_type": "code",
   "execution_count": 8,
   "metadata": {},
   "outputs": [],
   "source": [
    "def reco_prognose():\n",
    "    query = \"select sum(duration) from queue where source_id = 2\" # ToDo: remove source_id\n",
    "    df_queued = pd.read_sql(query, con=ms_sql_con())\n",
    "    queued_duration = float(df_queued.iloc[0])\n",
    "    time_prognose = queued_duration * performance_coef\n",
    "    print('recognize time prognose:', int(time_prognose), 'sec')\n",
    "    print('or', int(time_prognose/60), 'min')\n",
    "    print('or', int(time_prognose/60/60), 'h')\n",
    "    print('or', int(time_prognose/60/60/24), 'd')"
   ]
  },
  {
   "cell_type": "code",
   "execution_count": 9,
   "metadata": {},
   "outputs": [],
   "source": [
    "#query = \"select event_date, cpu, time, duration from perf_log where step = 1 and duration<400 and time > 1000;\"\n",
    "#query = \"select cpu, count(cpu) as cnt, sum(time) as time_sum from perf_log where step = 2 and time > 1000 group by cpu order by cpu;\"\n",
    "#query = \"select event_date, time as time_sum from perf_log where step = 2 and cpu = 3 order by event_date;\""
   ]
  },
  {
   "cell_type": "code",
   "execution_count": 10,
   "metadata": {
    "scrolled": false
   },
   "outputs": [
    {
     "name": "stdout",
     "output_type": "stream",
     "text": [
      "spent time vs audio record duration\n"
     ]
    },
    {
     "data": {
      "image/png": "[encoded data removed]",
      "text/plain": [
       "<Figure size 432x288 with 1 Axes>"
      ]
     },
     "metadata": {
      "needs_background": "light"
     },
     "output_type": "display_data"
    },
    {
     "data": {
      "image/png": "[encoded data removed]",
      "text/plain": [
       "<Figure size 432x288 with 1 Axes>"
      ]
     },
     "metadata": {
      "needs_background": "light"
     },
     "output_type": "display_data"
    },
    {
     "name": "stdout",
     "output_type": "stream",
     "text": [
      "linear regression coef [[0.4834593]]\n",
      "9 cores\n",
      "spent time on timeline\n"
     ]
    },
    {
     "name": "stderr",
     "output_type": "stream",
     "text": [
      "/home/alex/.local/lib/python3.7/site-packages/pandas/util/_decorators.py:208: FutureWarning: Passing datetime64-dtype data to TimedeltaIndex is deprecated, will raise a TypeError in a future version\n",
      "  return func(*args, **kwargs)\n"
     ]
    },
    {
     "data": {
      "image/png": "[encoded data removed]",
      "text/plain": [
       "<Figure size 432x288 with 1 Axes>"
      ]
     },
     "metadata": {
      "needs_background": "light"
     },
     "output_type": "display_data"
    },
    {
     "name": "stdout",
     "output_type": "stream",
     "text": [
      "performance: seconds of recognized audio per 10 min\n"
     ]
    },
    {
     "data": {
      "image/png": "[encoded data removed]",
      "text/plain": [
       "<Figure size 432x288 with 1 Axes>"
      ]
     },
     "metadata": {
      "needs_background": "light"
     },
     "output_type": "display_data"
    },
    {
     "name": "stdout",
     "output_type": "stream",
     "text": [
      "[0]\n",
      "recognize time prognose: 45529 sec\n",
      "or 758 min\n",
      "or 12 h\n",
      "or 0 d\n"
     ]
    }
   ],
   "source": [
    "query = \"select event_date, cpu, time, duration \"\n",
    "query += \"from perf_log \"\n",
    "query += \"where cores = 9 and step = 0 and event_date > '2021-03-09 16:10:00';\"\n",
    "df = read_sql()\n",
    "spent_time_vs_duration()\n",
    "performance_coef = coef()\n",
    "print('9 cores')\n",
    "spent_time_vs_date()\n",
    "performance()\n",
    "reco_prognose()"
   ]
  }
 ],
 "metadata": {
  "kernelspec": {
   "display_name": "Python 3",
   "language": "python",
   "name": "python3"
  },
  "language_info": {
   "codemirror_mode": {
    "name": "ipython",
    "version": 3
   },
   "file_extension": ".py",
   "mimetype": "text/x-python",
   "name": "python",
   "nbconvert_exporter": "python",
   "pygments_lexer": "ipython3",
   "version": "3.7.6"
  }
 },
 "nbformat": 4,
 "nbformat_minor": 4
}
