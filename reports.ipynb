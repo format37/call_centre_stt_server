{
 "cells": [
  {
   "cell_type": "code",
   "execution_count": 2,
   "metadata": {},
   "outputs": [],
   "source": [
    "import pandas as pd\n",
    "import pymssql\n",
    "import matplotlib.pyplot as plt\n",
    "from sklearn.linear_model import LinearRegression\n",
    "import numpy as np\n",
    "from scipy.optimize import curve_fit"
   ]
  },
  {
   "cell_type": "code",
   "execution_count": 3,
   "metadata": {},
   "outputs": [],
   "source": [
    "def ms_sql_con():\n",
    "    sql_name = 'voice_ai'\n",
    "    sql_server = '10.2.4.124'\n",
    "    sql_login = 'ICECORP\\\\1c_sql'\n",
    "\n",
    "    with open('sql.pass','r') as file:\n",
    "        sql_pass = file.read().replace('\\n', '')\n",
    "        file.close()\n",
    "\n",
    "    return pymssql.connect(\n",
    "            server = sql_server,\n",
    "            user = sql_login,\n",
    "            password = sql_pass,\n",
    "            database = sql_name,\n",
    "        )"
   ]
  },
  {
   "cell_type": "code",
   "execution_count": 4,
   "metadata": {},
   "outputs": [],
   "source": [
    "def read_sql(query):\n",
    "    return pd.read_sql(query, con=ms_sql_con(), parse_dates=None)"
   ]
  },
  {
   "cell_type": "code",
   "execution_count": 5,
   "metadata": {},
   "outputs": [],
   "source": [
    "def phrases_per_hour(date_from, date_to, phrase):\n",
    "    query = \"select month(record_date) as m,  day(record_date) as d, DATEPART(HOUR, record_date) as h, count(id) as c\" \n",
    "    query += \" from transcribations where \"\n",
    "    query += \" record_date > '\"+date_from+\"' and \"\n",
    "    query += \" record_date < '\"+date_to+\"' and \"\n",
    "    query += \" text like '%\"+phrase+\"%' \"\n",
    "    query += \" group by month(record_date), day(record_date), DATEPART(HOUR, record_date)\"\n",
    "    query += \" order by month(record_date), day(record_date), DATEPART(HOUR, record_date);\"\n",
    "    df = read_sql(query)\n",
    "    \n",
    "    df.drop(['m', 'd'], axis = 1, inplace = True)\n",
    "    df = df.groupby(df.h).median()\n",
    "    df.reset_index(level=0, inplace=True)\n",
    "    \n",
    "    plt.bar(df.h, df.c)\n",
    "    plt.show()"
   ]
  },
  {
   "cell_type": "code",
   "execution_count": 6,
   "metadata": {},
   "outputs": [],
   "source": [
    "def silence_timing(date_from, date_to):\n",
    "\n",
    "    def convert_false(val):\n",
    "        return not val\n",
    "    \n",
    "    query = \"select\"\n",
    "    query += \" sum(end_time - start) as time,\"\n",
    "    query += \" DATEPART(HOUR, record_date) as h,\"\n",
    "    query += \" linkedid,\"\n",
    "    query += \" side,\"\n",
    "    query += \" duration\"\n",
    "    query += \" from transcribations\"\n",
    "    query += \" where\"\n",
    "    query += \" record_date > '\"+date_from+\"' and \"\n",
    "    query += \" record_date < '\"+date_to+\"' and\"\n",
    "    query += \" duration > 0 \"\n",
    "    query += \" group by record_date, linkedid, side, duration\"\n",
    "    query += \" order by linkedid, side;\"\n",
    "    df = read_sql(query)\n",
    "    df['a'] = df.time*df.side\n",
    "    df.side = df.side.apply(convert_false)\n",
    "    df['b'] = df.time*df.side\n",
    "    df.drop(['time', 'side'], axis = 1, inplace = True)\n",
    "    df = df.groupby(['h', 'linkedid', 'duration']).sum()\n",
    "    df.reset_index(level=0, inplace=True)\n",
    "    df.reset_index(level=0, inplace=True)\n",
    "    df.reset_index(level=0, inplace=True)\n",
    "    df.drop(['linkedid'], axis = 1, inplace = True)\n",
    "    df.reset_index(level=0, inplace=True)\n",
    "    df['part_a'] = df.a/df.duration\n",
    "    df['part_b'] = df.b/df.duration\n",
    "    df['part_silence'] = 1 - df.part_a - df.part_b\n",
    "    df.drop(['duration', 'a', 'b'], axis = 1, inplace = True)\n",
    "    df = df.groupby(['h']).mean()\n",
    "    df.reset_index(level=0, inplace=True)\n",
    "    df.drop(['index'], axis = 1, inplace = True)\n",
    "    df.sort_values(['h'], inplace = True)\n",
    "    df.plot(x = 'h', y = ['part_a', 'part_b', 'part_silence'], style = '.')    "
   ]
  },
  {
   "cell_type": "code",
   "execution_count": 7,
   "metadata": {},
   "outputs": [
    {
     "data": {
      "image/png": "[encoded data removed]",
      "text/plain": [
       "<Figure size 432x288 with 1 Axes>"
      ]
     },
     "metadata": {
      "needs_background": "light"
     },
     "output_type": "display_data"
    }
   ],
   "source": [
    "phrases_per_hour('2021-03-04 00:00:00', '2021-03-05 00:00:00', 'операторы заняты')"
   ]
  },
  {
   "cell_type": "code",
   "execution_count": 8,
   "metadata": {},
   "outputs": [
    {
     "data": {
      "image/png": "[encoded data removed]",
      "text/plain": [
       "<Figure size 432x288 with 1 Axes>"
      ]
     },
     "metadata": {
      "needs_background": "light"
     },
     "output_type": "display_data"
    }
   ],
   "source": [
    "silence_timing('2021-03-01 00:00:00', '2021-03-02 00:00:00')"
   ]
  },
  {
   "cell_type": "code",
   "execution_count": 9,
   "metadata": {},
   "outputs": [],
   "source": [
    "### developing"
   ]
  },
  {
   "cell_type": "code",
   "execution_count": 10,
   "metadata": {},
   "outputs": [
    {
     "data": {
      "text/html": [
       "<div>\n",
       "<style scoped>\n",
       "    .dataframe tbody tr th:only-of-type {\n",
       "        vertical-align: middle;\n",
       "    }\n",
       "\n",
       "    .dataframe tbody tr th {\n",
       "        vertical-align: top;\n",
       "    }\n",
       "\n",
       "    .dataframe thead th {\n",
       "        text-align: right;\n",
       "    }\n",
       "</style>\n",
       "<table border=\"1\" class=\"dataframe\">\n",
       "  <thead>\n",
       "    <tr style=\"text-align: right;\">\n",
       "      <th></th>\n",
       "      <th>column_name</th>\n",
       "    </tr>\n",
       "  </thead>\n",
       "  <tbody>\n",
       "    <tr>\n",
       "      <th>0</th>\n",
       "      <td>transcribation_date</td>\n",
       "    </tr>\n",
       "    <tr>\n",
       "      <th>1</th>\n",
       "      <td>date_y</td>\n",
       "    </tr>\n",
       "    <tr>\n",
       "      <th>2</th>\n",
       "      <td>date_m</td>\n",
       "    </tr>\n",
       "    <tr>\n",
       "      <th>3</th>\n",
       "      <td>date_d</td>\n",
       "    </tr>\n",
       "    <tr>\n",
       "      <th>4</th>\n",
       "      <td>side</td>\n",
       "    </tr>\n",
       "    <tr>\n",
       "      <th>5</th>\n",
       "      <td>text</td>\n",
       "    </tr>\n",
       "    <tr>\n",
       "      <th>6</th>\n",
       "      <td>start</td>\n",
       "    </tr>\n",
       "    <tr>\n",
       "      <th>7</th>\n",
       "      <td>audio_file_name</td>\n",
       "    </tr>\n",
       "    <tr>\n",
       "      <th>8</th>\n",
       "      <td>conf</td>\n",
       "    </tr>\n",
       "    <tr>\n",
       "      <th>9</th>\n",
       "      <td>end_time</td>\n",
       "    </tr>\n",
       "    <tr>\n",
       "      <th>10</th>\n",
       "      <td>sentiment</td>\n",
       "    </tr>\n",
       "    <tr>\n",
       "      <th>11</th>\n",
       "      <td>sentiment_pos</td>\n",
       "    </tr>\n",
       "    <tr>\n",
       "      <th>12</th>\n",
       "      <td>sentiment_neg</td>\n",
       "    </tr>\n",
       "    <tr>\n",
       "      <th>13</th>\n",
       "      <td>ID</td>\n",
       "    </tr>\n",
       "    <tr>\n",
       "      <th>14</th>\n",
       "      <td>linkedid</td>\n",
       "    </tr>\n",
       "    <tr>\n",
       "      <th>15</th>\n",
       "      <td>dst</td>\n",
       "    </tr>\n",
       "    <tr>\n",
       "      <th>16</th>\n",
       "      <td>record_date</td>\n",
       "    </tr>\n",
       "    <tr>\n",
       "      <th>17</th>\n",
       "      <td>source_id</td>\n",
       "    </tr>\n",
       "    <tr>\n",
       "      <th>18</th>\n",
       "      <td>src</td>\n",
       "    </tr>\n",
       "    <tr>\n",
       "      <th>19</th>\n",
       "      <td>cpu_id</td>\n",
       "    </tr>\n",
       "    <tr>\n",
       "      <th>20</th>\n",
       "      <td>duration</td>\n",
       "    </tr>\n",
       "  </tbody>\n",
       "</table>\n",
       "</div>"
      ],
      "text/plain": [
       "            column_name\n",
       "0   transcribation_date\n",
       "1                date_y\n",
       "2                date_m\n",
       "3                date_d\n",
       "4                  side\n",
       "5                  text\n",
       "6                 start\n",
       "7       audio_file_name\n",
       "8                  conf\n",
       "9              end_time\n",
       "10            sentiment\n",
       "11        sentiment_pos\n",
       "12        sentiment_neg\n",
       "13                   ID\n",
       "14             linkedid\n",
       "15                  dst\n",
       "16          record_date\n",
       "17            source_id\n",
       "18                  src\n",
       "19               cpu_id\n",
       "20             duration"
      ]
     },
     "execution_count": 10,
     "metadata": {},
     "output_type": "execute_result"
    }
   ],
   "source": [
    "query = \"SELECT column_name FROM information_schema.columns WHERE table_name='transcribations';\"\n",
    "df = read_sql(query)\n",
    "df"
   ]
  }
 ],
 "metadata": {
  "kernelspec": {
   "display_name": "Python 3",
   "language": "python",
   "name": "python3"
  },
  "language_info": {
   "codemirror_mode": {
    "name": "ipython",
    "version": 3
   },
   "file_extension": ".py",
   "mimetype": "text/x-python",
   "name": "python",
   "nbconvert_exporter": "python",
   "pygments_lexer": "ipython3",
   "version": "3.7.6"
  }
 },
 "nbformat": 4,
 "nbformat_minor": 4
}
