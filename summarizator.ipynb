{
 "cells": [
  {
   "cell_type": "code",
   "execution_count": null,
   "metadata": {},
   "outputs": [],
   "source": [
    "# %pip install pymssql"
   ]
  },
  {
   "cell_type": "code",
   "execution_count": 161,
   "metadata": {},
   "outputs": [],
   "source": [
    "import pymssql\n",
    "import pandas as pd\n",
    "import redis\n",
    "import time\n",
    "import datetime\n",
    "from ipywidgets import IntProgress\n",
    "import difflib\n",
    "import numpy as np\n",
    "import matplotlib.pyplot as plt"
   ]
  },
  {
   "cell_type": "code",
   "execution_count": 2,
   "metadata": {},
   "outputs": [],
   "source": [
    "#REDIS_IP = '10.2.5.212'\n",
    "REDIS_IP = 'localhost'"
   ]
  },
  {
   "cell_type": "code",
   "execution_count": 3,
   "metadata": {},
   "outputs": [],
   "source": [
    "def ms_sql_con():\n",
    "    sql_name = 'voice_ai'\n",
    "    sql_server = '10.2.4.124'\n",
    "    sql_login = 'ICECORP\\\\1c_sql'\n",
    "\n",
    "    with open('sql.pass','r') as file:\n",
    "        sql_pass = file.read().replace('\\n', '')\n",
    "        file.close()\n",
    "\n",
    "    return pymssql.connect(\n",
    "            server = sql_server,\n",
    "            user = sql_login,\n",
    "            password = sql_pass,\n",
    "            database = sql_name,\n",
    "            autocommit=True\n",
    "        )"
   ]
  },
  {
   "cell_type": "code",
   "execution_count": 4,
   "metadata": {},
   "outputs": [],
   "source": [
    "def read_sql(query):\n",
    "    return pd.read_sql(query, con=ms_sql_con(), parse_dates=None)"
   ]
  },
  {
   "cell_type": "code",
   "execution_count": 5,
   "metadata": {},
   "outputs": [],
   "source": [
    "def concatenate_linkedid_side(side, record_date, linkedid):\n",
    "    query = \"SELECT text from transcribations where \"\n",
    "    query += \" side=\"+str(side)+\" and \"\n",
    "    query += \" record_date = '\"+str(record_date)+\"' and \"\n",
    "    query += \" linkedid = '\"+str(linkedid)+\"';\"\n",
    "    text_df = read_sql(query)\n",
    "    phrases_count = len(text_df)\n",
    "    text_full = ', '.join([row.text for _id, row in text_df.iterrows()])\n",
    "    return text_full, phrases_count"
   ]
  },
  {
   "cell_type": "code",
   "execution_count": 6,
   "metadata": {},
   "outputs": [],
   "source": [
    "def summarize(text, phrases_count):\n",
    "    #if phrases_count<2 or len(text)<255:\n",
    "    #    return text\n",
    "    subscriber = redis.StrictRedis(host=REDIS_IP)\n",
    "    publisher = redis.StrictRedis(host=REDIS_IP) \n",
    "    pub = publisher.pubsub()\n",
    "    sub = subscriber.pubsub()\n",
    "    sub.subscribe('summarus_client')\n",
    "    # send\n",
    "    publisher.publish(\"summarus_server\", text)\n",
    "    # receive\n",
    "    while True:\n",
    "        message = sub.get_message()\n",
    "        if message and message['type']!='subscribe':\n",
    "            return message['data'].decode(\"utf-8\")\n",
    "        time.sleep(1)"
   ]
  },
  {
   "cell_type": "code",
   "execution_count": 7,
   "metadata": {},
   "outputs": [],
   "source": [
    "def sum_to_sql(linkedid, recor_date, side, text, phrases_count, text_length):\n",
    "    current_date = datetime.datetime.now().strftime('%Y-%m-%d %H:%M:%S')\n",
    "    query = \"insert into summarization(linkedid, record_date, sum_date, side, text, phrases_count, text_length) \"\n",
    "    query += \" values(\"\n",
    "    query += \"'\"+str(linkedid)+\"',\"\n",
    "    query += \"'\"+str(recor_date)+\"',\"\n",
    "    query += \"'\"+str(current_date)+\"',\"\n",
    "    query += str(side)+\",\"\n",
    "    query += \"'\"+str(text)+\"',\"\n",
    "    query += \"'\"+str(phrases_count)+\"',\"\n",
    "    query += \"'\"+str(text_length)+\"'\"\n",
    "    query += \");\"\n",
    "    #df = read_sql(query)\n",
    "    \n",
    "    conn = ms_sql_con()  \n",
    "    cursor = conn.cursor()\n",
    "    cursor.execute(query)\n",
    "    # conn.commit()"
   ]
  },
  {
   "cell_type": "code",
   "execution_count": null,
   "metadata": {},
   "outputs": [],
   "source": [
    "# queue\n",
    "query = \"SELECT column_name FROM information_schema.columns WHERE table_name='queue';\"\n",
    "queue = read_sql(query)\n",
    "queue"
   ]
  },
  {
   "cell_type": "code",
   "execution_count": null,
   "metadata": {},
   "outputs": [],
   "source": [
    "# transcribations\n",
    "query = \"SELECT column_name FROM information_schema.columns WHERE table_name='transcribations';\"\n",
    "queue = read_sql(query)\n",
    "queue"
   ]
  },
  {
   "cell_type": "markdown",
   "metadata": {},
   "source": [
    "### queue linkedid list"
   ]
  },
  {
   "cell_type": "code",
   "execution_count": null,
   "metadata": {},
   "outputs": [],
   "source": [
    "# queue\n",
    "query = \"SELECT distinct record_date, linkedid from queue;\"\n",
    "queue = read_sql(query)\n",
    "len(queue)"
   ]
  },
  {
   "cell_type": "markdown",
   "metadata": {},
   "source": [
    "### transcribations linkedid list"
   ]
  },
  {
   "cell_type": "code",
   "execution_count": null,
   "metadata": {},
   "outputs": [],
   "source": [
    "# queue\n",
    "query = \"SELECT distinct top 10 record_date, linkedid from transcribations;\"\n",
    "df = read_sql(query)\n",
    "df"
   ]
  },
  {
   "cell_type": "code",
   "execution_count": null,
   "metadata": {},
   "outputs": [],
   "source": [
    "query = \"SELECT distinct top 100 trans.record_date, trans.linkedid\"\n",
    "query += \" from transcribations as trans\"\n",
    "query += \" left join queue as queue\"\n",
    "query += \" on trans.record_date=queue.record_date\"\n",
    "query += \" and trans.linkedid=queue.linkedid\"\n",
    "query += \" where \"\n",
    "query += \" trans.record_date > '2021-06-04 00:00:00' and\"\n",
    "query += \" isnull(queue.linkedid,'x')='x'\"\n",
    "query += \" order by record_date desc;\"\n",
    "%time df = read_sql(query)\n",
    "len(df)"
   ]
  },
  {
   "cell_type": "markdown",
   "metadata": {},
   "source": [
    "# start"
   ]
  },
  {
   "cell_type": "code",
   "execution_count": 7,
   "metadata": {},
   "outputs": [],
   "source": [
    "BATCH_SIZE = 1000\n",
    "MAX_TEXT_SIZE = 1023"
   ]
  },
  {
   "cell_type": "code",
   "execution_count": null,
   "metadata": {},
   "outputs": [],
   "source": [
    "# obtain datetime limits\n",
    "#query = \"select min(record_date) from queue where not isnull(record_date,'2021-06-07 13:34:51')='2021-06-07 13:34:51';\"\n",
    "query = \"select linkedid from queue;\"\n",
    "df = read_sql(query)\n",
    "if len(df):\n",
    "    query = \"select min(record_date) from queue where not isnull(record_date,'')='';\"\n",
    "    df = read_sql(query)\n",
    "    queue_first_record = str(df.iloc()[0][0])\n",
    "else:\n",
    "    queue_first_record = datetime.datetime.now().strftime('%Y-%m-%d %H:%M:%S')\n",
    "\n",
    "query = \"select max(record_date) from summarization;\"\n",
    "df = read_sql(query)\n",
    "summarization_first_record = str(df.iloc()[0][0])"
   ]
  },
  {
   "cell_type": "code",
   "execution_count": null,
   "metadata": {},
   "outputs": [],
   "source": []
  },
  {
   "cell_type": "code",
   "execution_count": null,
   "metadata": {},
   "outputs": [],
   "source": [
    "queue_first_record, summarization_first_record"
   ]
  },
  {
   "cell_type": "code",
   "execution_count": null,
   "metadata": {},
   "outputs": [],
   "source": [
    "query"
   ]
  },
  {
   "cell_type": "code",
   "execution_count": null,
   "metadata": {},
   "outputs": [],
   "source": [
    "query = \"SELECT distinct top \"+str(BATCH_SIZE)+\" record_date, linkedid\"\n",
    "query += \" from transcribations\"\n",
    "query += \" where \"\n",
    "query += \" record_date < '\"+queue_first_record+\"' and\"\n",
    "query += \" not linkedid in (select distinct linkedid from summarization)\"\n",
    "query += \" order by record_date desc;\"\n",
    "df = read_sql(query)\n",
    "len(df)"
   ]
  },
  {
   "cell_type": "code",
   "execution_count": null,
   "metadata": {},
   "outputs": [],
   "source": [
    "#text_full"
   ]
  },
  {
   "cell_type": "code",
   "execution_count": null,
   "metadata": {},
   "outputs": [],
   "source": [
    "for _id, row in df.iterrows():\n",
    "    \n",
    "    for side in range(2):\n",
    "        text_full, phrases_count = concatenate_linkedid_side(side, row.record_date, row.linkedid)\n",
    "        text_short = summarize(text_full, phrases_count)\n",
    "        sum_to_sql(row.linkedid, row.record_date, side, text_short, phrases_count, len(text_full))"
   ]
  },
  {
   "cell_type": "code",
   "execution_count": null,
   "metadata": {},
   "outputs": [],
   "source": [
    "len('Российский мастер по ремонту стиральных машин, с кем можно переговорить, пожаловался на то, что белье не попадает в барабан, барабан не крутится, не вращается, он перетащил машинку с одного места на второе, а она почему-то перестала стирать, да, да нет москва, а я давно как ты взял эту самую визитку у этого почтовом ящике и вот по ней и звоню айсберг вот визитка, да конечно номер триста шестнадцать серия, спасибо спасибо, да пожалуй, да.')"
   ]
  },
  {
   "cell_type": "code",
   "execution_count": null,
   "metadata": {},
   "outputs": [],
   "source": [
    "query = \"SELECT * from summarization\"\n",
    "query += \" where  record_date = '2021.05.30 11:46:10' and linkedid = '1622364369.119129' and side = '0';\"\n",
    "df = read_sql(query)\n",
    "df"
   ]
  },
  {
   "cell_type": "code",
   "execution_count": 8,
   "metadata": {},
   "outputs": [
    {
     "data": {
      "text/plain": [
       "'\\nСуммаризации, ожидающие загрузку: 5\\n== За вчера ==\\nНовых суммаризаций: 6378\\nload_msk: 6378\\nload_spb: 6378\\nload_reg: 6378'"
      ]
     },
     "execution_count": 8,
     "metadata": {},
     "output_type": "execute_result"
    }
   ],
   "source": [
    "def summarization():\n",
    "    message = ''\n",
    "    query = \"SELECT count(linkedid) from summarization\"\n",
    "    query += \" where isnull(load_msk,0) = 0 or isnull(load_spb,0) = 0 or isnull(load_reg,0) = 0;\"\n",
    "    df = read_sql(query)\n",
    "    message += '\\nСуммаризации, ожидающие загрузку: ' + str(df.iloc()[0][0])\n",
    "    \n",
    "    message += '\\n== За вчера =='\n",
    "    \n",
    "    currentdate = datetime.datetime.today()\n",
    "    start_of_day = currentdate.combine(currentdate.date(), currentdate.min.time())\n",
    "    yesterday = start_of_day + datetime.timedelta(days=-1)\n",
    "    df = str(yesterday)\n",
    "    dt = str(start_of_day)\n",
    "    f_0 = '%Y-%m-%d %H:%M:%S'\n",
    "    f_1 = '%Y-%m-%dT%H:%M:%S'\n",
    "    date_from = datetime.datetime.strptime(df, f_0).strftime(f_1)\n",
    "    date_toto = datetime.datetime.strptime(dt, f_0).strftime(f_1)\n",
    "    \n",
    "    query = \"SELECT count(linkedid) from summarization\"\n",
    "    query += \" where sum_date>'\" + date_from + \"'\"\n",
    "    query += \" and sum_date<'\" + date_toto + \"';\"\n",
    "    df = read_sql(query)\n",
    "    message += '\\nНовых суммаризаций: ' + str(df.iloc()[0][0])\n",
    "    \n",
    "    for city in ['load_msk', 'load_spb', 'load_reg']:\n",
    "        query = \"SELECT count(linkedid) from summarization\"\n",
    "        query += \" where sum_date>'\" + date_from + \"'\"\n",
    "        query += \" and sum_date<'\" + date_toto + \"'\"\n",
    "        query += \" and isnull(\"+city+\",0) = 1;\"\n",
    "        df = read_sql(query)\n",
    "        message += '\\n'+city+': ' + str(df.iloc()[0][0])      \n",
    "    \n",
    "    return message\n",
    "    \n",
    "summarization()"
   ]
  },
  {
   "cell_type": "code",
   "execution_count": 193,
   "metadata": {},
   "outputs": [
    {
     "data": {
      "text/plain": [
       "146395"
      ]
     },
     "execution_count": 193,
     "metadata": {},
     "output_type": "execute_result"
    }
   ],
   "source": [
    "query = \"SELECT count(linkedid) from summarization;\"\n",
    "df = read_sql(query)\n",
    "df.iloc()[0][0]"
   ]
  },
  {
   "cell_type": "code",
   "execution_count": 191,
   "metadata": {},
   "outputs": [
    {
     "data": {
      "text/plain": [
       "146395"
      ]
     },
     "execution_count": 191,
     "metadata": {},
     "output_type": "execute_result"
    }
   ],
   "source": [
    "query = \"SELECT count(linkedid) from summarization;\"\n",
    "df = read_sql(query)\n",
    "df.iloc()[0][0]"
   ]
  },
  {
   "cell_type": "code",
   "execution_count": 192,
   "metadata": {},
   "outputs": [
    {
     "data": {
      "text/html": [
       "<div>\n",
       "<style scoped>\n",
       "    .dataframe tbody tr th:only-of-type {\n",
       "        vertical-align: middle;\n",
       "    }\n",
       "\n",
       "    .dataframe tbody tr th {\n",
       "        vertical-align: top;\n",
       "    }\n",
       "\n",
       "    .dataframe thead th {\n",
       "        text-align: right;\n",
       "    }\n",
       "</style>\n",
       "<table border=\"1\" class=\"dataframe\">\n",
       "  <thead>\n",
       "    <tr style=\"text-align: right;\">\n",
       "      <th></th>\n",
       "      <th></th>\n",
       "    </tr>\n",
       "  </thead>\n",
       "  <tbody>\n",
       "    <tr>\n",
       "      <th>0</th>\n",
       "      <td>2021-06-18 12:06:00</td>\n",
       "    </tr>\n",
       "  </tbody>\n",
       "</table>\n",
       "</div>"
      ],
      "text/plain": [
       "                     \n",
       "0 2021-06-18 12:06:00"
      ]
     },
     "execution_count": 192,
     "metadata": {},
     "output_type": "execute_result"
    }
   ],
   "source": [
    "query = \"SELECT max(record_date) from summarization;\"\n",
    "df = read_sql(query)\n",
    "df"
   ]
  },
  {
   "cell_type": "code",
   "execution_count": 125,
   "metadata": {},
   "outputs": [
    {
     "data": {
      "text/html": [
       "<div>\n",
       "<style scoped>\n",
       "    .dataframe tbody tr th:only-of-type {\n",
       "        vertical-align: middle;\n",
       "    }\n",
       "\n",
       "    .dataframe tbody tr th {\n",
       "        vertical-align: top;\n",
       "    }\n",
       "\n",
       "    .dataframe thead th {\n",
       "        text-align: right;\n",
       "    }\n",
       "</style>\n",
       "<table border=\"1\" class=\"dataframe\">\n",
       "  <thead>\n",
       "    <tr style=\"text-align: right;\">\n",
       "      <th></th>\n",
       "      <th></th>\n",
       "    </tr>\n",
       "  </thead>\n",
       "  <tbody>\n",
       "    <tr>\n",
       "      <th>0</th>\n",
       "      <td>2021-06-18 11:29:43</td>\n",
       "    </tr>\n",
       "  </tbody>\n",
       "</table>\n",
       "</div>"
      ],
      "text/plain": [
       "                     \n",
       "0 2021-06-18 11:29:43"
      ]
     },
     "execution_count": 125,
     "metadata": {},
     "output_type": "execute_result"
    }
   ],
   "source": [
    "query = \"SELECT max(sum_date) from summarization;\"\n",
    "df = read_sql(query)\n",
    "df"
   ]
  },
  {
   "cell_type": "code",
   "execution_count": null,
   "metadata": {},
   "outputs": [],
   "source": [
    "query = \"SELECT * from summarization order by sum_date desc;\"\n",
    "df = read_sql(query)\n",
    "min(df.record_date), max(df.record_date)"
   ]
  },
  {
   "cell_type": "code",
   "execution_count": null,
   "metadata": {},
   "outputs": [],
   "source": [
    "df"
   ]
  },
  {
   "cell_type": "code",
   "execution_count": null,
   "metadata": {},
   "outputs": [],
   "source": [
    "query = \"SELECT * from summarization order by sum_date desc;\"\n",
    "df = read_sql(query)\n",
    "#for _id, row in df.iterrows():\n",
    "    #df.text.iloc()[3]\n",
    "#    print(row.sum_date, row.record_date)\n",
    "min(df.record_date), max(df.record_date)"
   ]
  },
  {
   "cell_type": "code",
   "execution_count": null,
   "metadata": {},
   "outputs": [],
   "source": [
    "query = \"SELECT max(record_date) from transcribations;\"\n",
    "df = read_sql(query)\n",
    "df"
   ]
  },
  {
   "cell_type": "code",
   "execution_count": null,
   "metadata": {},
   "outputs": [],
   "source": [
    "min(df.record_date), max(df.record_date)"
   ]
  },
  {
   "cell_type": "code",
   "execution_count": null,
   "metadata": {},
   "outputs": [],
   "source": [
    "min(df.record_date), max(df.record_date)"
   ]
  },
  {
   "cell_type": "code",
   "execution_count": null,
   "metadata": {},
   "outputs": [],
   "source": [
    "row"
   ]
  },
  {
   "cell_type": "markdown",
   "metadata": {},
   "source": [
    "query = \"SELECT column_name FROM information_schema.columns WHERE table_name='summarization';\"\n",
    "queue = read_sql(query)\n",
    "queue"
   ]
  },
  {
   "cell_type": "code",
   "execution_count": null,
   "metadata": {},
   "outputs": [],
   "source": [
    "query = \"SELECT linkedid, side, text from summarization where \"\n",
    "query += \" linkedid = '1622976650.277074';\"\n",
    "df = read_sql(query)\n",
    "df"
   ]
  },
  {
   "cell_type": "code",
   "execution_count": null,
   "metadata": {},
   "outputs": [],
   "source": [
    "# select\n",
    "query = \"SELECT side, text from transcribations where \"\n",
    "query += \" record_date = '2021-06-04 12:33:20' and linkedid = '1622799198.236534';\"\n",
    "df = read_sql(query)\n",
    "', '.join([row.text for _id, row in df.iterrows()])"
   ]
  },
  {
   "cell_type": "code",
   "execution_count": null,
   "metadata": {},
   "outputs": [],
   "source": [
    "len('здравствуйте скажите пожалуйста мастера можно вызвать по ремонту холодильников сна, москве, стянул, он бы уже давно да, двух, он там где морозильник не сама м-ра телка вот обычно помещаю стал работать как морозилку, да да да, о нет магнитики разброс, вверху справа но мне наверно старая ещё три семнадцать, восемь девятьсот девять, девятьсот восемьдесят один пятьдесят один, семьдесят, галина, улица онежская, дом тридцать пять, корпус два квартира двести пятьдесят семь, третий подъезд пятый этаж без лифта, водный стадион, да, сто пятьдесят девять сорок пять восемьдесят четыре, хорошо спасибо, и, кузбасс сервиса оператору, могу принять заявку в течение часа мастер перезвонит у него все уточнить и подберёте временно визит живете в москве и области, холодильник как называется, гарантия закончилась от производителя холодильник двухкамерные трёхкамерные что не работает, и, промерзание шкафа да да, вы нас стефан узнали где магнит визитка сервисная книжка, вверху справа три цифры какие стоят на магнитных карт сможет отказать, на, спасибо мы указываем адрес телефон в течение час поступит звонок телефон вас скажите, зовут вас как, гален улиц какая у вас, номер дома, корпус есть, квартира, подъезд и этаж, метро какое-то ближайшее, давайте проверим а несколько тридцать пять корпус два квартира два пять семь подъезд третий этаж пятый телефон девятьсот девять девять восемь один пять один семьдесят северном, техника авто номер вашей заявки будет сто пятьдесят девять сорок пять восемьдесят четыре, сорок пять восемьдесят четыре ждите звонок пожалуйста, пожалуйста свидания')"
   ]
  },
  {
   "cell_type": "code",
   "execution_count": null,
   "metadata": {},
   "outputs": [],
   "source": [
    "a = 'hello world'\n",
    "a[:3]"
   ]
  },
  {
   "cell_type": "code",
   "execution_count": null,
   "metadata": {},
   "outputs": [],
   "source": [
    "#df.text.iloc()[3]"
   ]
  },
  {
   "cell_type": "markdown",
   "metadata": {},
   "source": [
    "# DELETE"
   ]
  },
  {
   "cell_type": "code",
   "execution_count": null,
   "metadata": {},
   "outputs": [],
   "source": [
    "# delete\n",
    "query = \"DELETE from summarization;\"\n",
    "conn = ms_sql_con()  \n",
    "#cursor = conn.cursor()\n",
    "#cursor.execute(query)"
   ]
  },
  {
   "cell_type": "code",
   "execution_count": null,
   "metadata": {},
   "outputs": [],
   "source": [
    "tx = \"Statesman's Dilemma (Стандард) (США) (английский) (на английском языке) (в переводе на русский) (с английской буквы «С» — «С») (СССР) (далее — США) (Атлант) (КНР) (Англия) (Британия) (Нью-Йорк) (Великобритания, Канада) (Боснийская) (Монголия)\""
   ]
  },
  {
   "cell_type": "code",
   "execution_count": null,
   "metadata": {},
   "outputs": [],
   "source": [
    "tx.replace(\"'\",\"\").replace('\"','')"
   ]
  },
  {
   "cell_type": "code",
   "execution_count": null,
   "metadata": {},
   "outputs": [],
   "source": [
    "side = 0\n",
    "query = \"SELECT text, source_id from transcribations where \"\n",
    "query += \" side=\"+str(side)+\" and \"\n",
    "#query += \" record_date = '\"+str(record_date)+\"' and \"\n",
    "query += \" linkedid = '1622799198.236534';\"\n",
    "text_df = read_sql(query)\n",
    "phrases_count = len(text_df)\n",
    "text_full = ', '.join([row.text for _id, row in text_df.iterrows()])\n",
    "text_full, phrases_count, min(text_df.source_id)"
   ]
  },
  {
   "cell_type": "code",
   "execution_count": null,
   "metadata": {},
   "outputs": [],
   "source": [
    "# update summarization field"
   ]
  },
  {
   "cell_type": "code",
   "execution_count": null,
   "metadata": {},
   "outputs": [],
   "source": [
    "query = \"SELECT distinct\"\n",
    "query += \" summarization.record_date, summarization.linkedid, transcribations.source_id\"\n",
    "query += \" from summarization\"\n",
    "query += \" inner join transcribations on\"\n",
    "query += \" summarization.record_date = transcribations.record_date and\"\n",
    "query += \" summarization.linkedid = transcribations.linkedid\"\n",
    "query += \" where \"\n",
    "query += \" isnull(summarization.source_id,-1)=-1;\"\n",
    "df = read_sql(query)\n",
    "len(df)"
   ]
  },
  {
   "cell_type": "code",
   "execution_count": null,
   "metadata": {},
   "outputs": [],
   "source": [
    "# 13518"
   ]
  },
  {
   "cell_type": "code",
   "execution_count": null,
   "metadata": {},
   "outputs": [],
   "source": [
    "prgBar = IntProgress(min = 0, max = len(df))\n",
    "display(prgBar)\n",
    "for _id, row in df.iterrows():\n",
    "    query = \"update summarization set source_id = '\"+str(row.source_id)+\"' where \"\n",
    "    query += \" record_date = '\"+str(row.record_date)+\"' and\"\n",
    "    query += \" linkedid = '\"+str(row.linkedid)+\"';\"    \n",
    "    conn = ms_sql_con()  \n",
    "    cursor = conn.cursor()\n",
    "    cursor.execute(query)   \n",
    "    prgBar.value = prgBar.value + 1"
   ]
  },
  {
   "cell_type": "code",
   "execution_count": null,
   "metadata": {},
   "outputs": [],
   "source": [
    "query = \"SELECT * from summarization where \"\n",
    "query += \" load_msk = 1;\"\n",
    "df = read_sql(query)\n",
    "len(df)"
   ]
  },
  {
   "cell_type": "markdown",
   "metadata": {},
   "source": [
    "### quality upgrade"
   ]
  },
  {
   "cell_type": "code",
   "execution_count": 198,
   "metadata": {},
   "outputs": [],
   "source": [
    "def get_jaccard_sim(str1, str2): \n",
    "    a = set(str1.split()) \n",
    "    b = set(str2.split())\n",
    "    c = a.intersection(b)\n",
    "    denominator = (len(a) + len(b) - len(c))\n",
    "    if denominator > 0:\n",
    "        return float(len(c) / denominator)\n",
    "    else:\n",
    "        return 0"
   ]
  },
  {
   "cell_type": "code",
   "execution_count": 169,
   "metadata": {},
   "outputs": [],
   "source": [
    "linkedid = '1624003201.233862'"
   ]
  },
  {
   "cell_type": "code",
   "execution_count": 170,
   "metadata": {},
   "outputs": [
    {
     "data": {
      "text/plain": [
       "Timestamp('2021-06-18 11:00:03')"
      ]
     },
     "execution_count": 170,
     "metadata": {},
     "output_type": "execute_result"
    }
   ],
   "source": [
    "query = \"SELECT top 1 record_date from transcribations where \"\n",
    "query += \" linkedid = '\"+linkedid+\"';\"\n",
    "df = read_sql(query)\n",
    "record_date = df.record_date.iloc()[0]\n",
    "record_date"
   ]
  },
  {
   "cell_type": "code",
   "execution_count": 175,
   "metadata": {},
   "outputs": [
    {
     "data": {
      "text/plain": [
       "'алло здравствуйте ян, алло, хотел по поводу телевизора запросить ремонт, нет вам первый раз баню, влюбится, ну тогда за айсберг, да в магниты магнит, что там есть, та сразу, триста десять, мистер шарп, пос, понять тонко тонко да да да, это пища на метр по ходу, да да да да да, просто у меня, да там все работает просто на экране да какой тут полоса проявился сторону, ну да да да да, такое ведь такая да да, ну как будто идёт снизу наверх, там прям посередине, и не так сильно заметно когда тёмная дай-ка, да давайте этот телефон мы вам косячить, надо давайте, азиль, азии, город люберцы стойкость и район люберцы улица хлеб заводской проезд дом девять, корпуса нету там просто дом где курт лет двадцати, один повеса, да да да, шестой, а домофона нету но мне сначала надо будь то с мастером поговорить проконсультироваться узнавать, да ты один, двести десять, тринадцать сорок ты, этак километров пять, да да да да да, хорошо что все'"
      ]
     },
     "execution_count": 175,
     "metadata": {},
     "output_type": "execute_result"
    }
   ],
   "source": [
    "text_full, phrases_count = concatenate_linkedid_side(\n",
    "    side = 0, \n",
    "    record_date = record_date,\n",
    "    linkedid = linkedid\n",
    ")\n",
    "text_full"
   ]
  },
  {
   "cell_type": "code",
   "execution_count": 183,
   "metadata": {},
   "outputs": [
    {
     "data": {
      "text/plain": [
       "['На днях скончался один из самых известных в России певцов, музыкантов, актеров, актёров, продюсеров, писателей, литераторов, композиторов, поэтов, художников и музыкантов.',\n",
       " 0.12850678733031673,\n",
       " 0.02158273381294964]"
      ]
     },
     "execution_count": 183,
     "metadata": {},
     "output_type": "execute_result"
    }
   ],
   "source": [
    "text_short = summarize(text_full, phrases_count)\n",
    "[\n",
    "    text_short, \n",
    "    difflib.SequenceMatcher(None, text_full, text_short).ratio(), \n",
    "    get_jaccard_sim(text_full, text_short)\n",
    "]"
   ]
  },
  {
   "cell_type": "code",
   "execution_count": 184,
   "metadata": {},
   "outputs": [
    {
     "data": {
      "text/plain": [
       "['Скажите, пожалуйста, у меня не работает телефон, который я купил в прошлом месяце, и я не знаю, что с ним делать, потому что у меня все работает просто на экране да какой тут полоса проявился сторону да да да такое ведь такая да да ну как будто идёт снизу наверх там прям посередине и не так сильно заметно когда тёмная дай-ка.',\n",
       " 0.08564631245043616,\n",
       " 0.2246376811594203]"
      ]
     },
     "execution_count": 184,
     "metadata": {},
     "output_type": "execute_result"
    }
   ],
   "source": [
    "text_short = summarize(text_full.replace(',',' '), phrases_count)\n",
    "[\n",
    "    text_short, \n",
    "    difflib.SequenceMatcher(None, text_full, text_short).ratio(), \n",
    "    get_jaccard_sim(text_full, text_short)\n",
    "]"
   ]
  },
  {
   "cell_type": "code",
   "execution_count": 185,
   "metadata": {},
   "outputs": [
    {
     "data": {
      "text/plain": [
       "['В одном из районных центров города люберцы я застрял на несколько дней - хотел спросить у мастера узнавать, что у меня в квартире не работает айсберг.',\n",
       " 0.11623616236162361,\n",
       " 0.06569343065693431]"
      ]
     },
     "execution_count": 185,
     "metadata": {},
     "output_type": "execute_result"
    }
   ],
   "source": [
    "text_short = summarize(text_full.replace(',',' - '), phrases_count)\n",
    "[\n",
    "    text_short, \n",
    "    difflib.SequenceMatcher(None, text_full, text_short).ratio(), \n",
    "    get_jaccard_sim(text_full, text_short)\n",
    "]"
   ]
  },
  {
   "cell_type": "code",
   "execution_count": 182,
   "metadata": {},
   "outputs": [
    {
     "data": {
      "text/plain": [
       "0.06569343065693431"
      ]
     },
     "execution_count": 182,
     "metadata": {},
     "output_type": "execute_result"
    }
   ],
   "source": []
  },
  {
   "cell_type": "code",
   "execution_count": 156,
   "metadata": {},
   "outputs": [],
   "source": [
    "### list of aproaches:"
   ]
  },
  {
   "cell_type": "code",
   "execution_count": 157,
   "metadata": {},
   "outputs": [
    {
     "data": {
      "text/plain": [
       "([','],\n",
       " 0.21965317919075145,\n",
       " 'Представляю, что у меня в квартире, в которой я живу, есть ремонтные работы, и я хочу спросить у вас о том, сколько времени занимает ремонт, и как вы думаете, почему он занимает столько времени.')"
      ]
     },
     "execution_count": 157,
     "metadata": {},
     "output_type": "execute_result"
    }
   ],
   "source": [
    "text_short = summarize(text_full, phrases_count)\n",
    "best_result = difflib.SequenceMatcher(None, text_full, text_short).ratio()\n",
    "best_replacer = [',']\n",
    "for replacer in [' ', ' - ']:\n",
    "    try_short = summarize(text_full.replace(',', replacer), phrases_count)\n",
    "    try_result = difflib.SequenceMatcher(None, text_full, try_short).ratio()\n",
    "    if try_result > best_result:\n",
    "        text_short = try_short\n",
    "        best_result = try_result\n",
    "        best_replacer = replacer\n",
    "best_replacer, best_result, text_short"
   ]
  },
  {
   "cell_type": "code",
   "execution_count": 86,
   "metadata": {},
   "outputs": [],
   "source": [
    "### stage 2"
   ]
  },
  {
   "cell_type": "code",
   "execution_count": 26,
   "metadata": {},
   "outputs": [
    {
     "data": {
      "text/plain": [
       "'и единая служба сервиса оператор ноэля оставаться, день дом, основном, да у аверченко одном он закреплён заявка, даже не смотрел совершенно крепится татьяна так проверяем беловежская квартира телефона и городской новый номер заявки запишите повторно по гарантии на ремонт после ожидаете звонок мастера цыплята права '"
      ]
     },
     "execution_count": 26,
     "metadata": {},
     "output_type": "execute_result"
    }
   ],
   "source": [
    "text_dropped = ''\n",
    "drop_words = ['один',\n",
    "              'два',\n",
    "              'четыр',\n",
    "              'пять',\n",
    "              'пятнад',\n",
    "              'шесть',\n",
    "              'семь',\n",
    "              'восем',\n",
    "              'девят',\n",
    "              'десят',\n",
    "              'одинадцат',\n",
    "              'двенадцат',\n",
    "              'тринадцат',\n",
    "              'шестнад',\n",
    "              'семнад',\n",
    "              'тридцат',\n",
    "              'сорок',\n",
    "              'девяност',\n",
    "              'сто',\n",
    "              'двест',\n",
    "              'трист'\n",
    "             ]\n",
    "text_dropped = ''\n",
    "for word in text_full.split(' '):\n",
    "    word_ok = True\n",
    "    for drop in drop_words:\n",
    "        if drop in word:\n",
    "            word_ok = False\n",
    "            break\n",
    "    if word_ok:\n",
    "        text_dropped += word+' '\n",
    "text_dropped"
   ]
  },
  {
   "cell_type": "code",
   "execution_count": 32,
   "metadata": {},
   "outputs": [
    {
     "data": {
      "text/plain": [
       "('и единая служба сервиса оператор ноэля оставаться, день дом, основном, да у аверченко одном он закреплён заявка, даже не смотрел совершенно крепится татьяна т',\n",
       " 'ак проверяем беловежская квартира телефона и городской новый номер заявки запишите повторно по гарантии на ремонт после ожидаете звонок мастера цыплята права ')"
      ]
     },
     "execution_count": 32,
     "metadata": {},
     "output_type": "execute_result"
    }
   ],
   "source": [
    "text_dropped[:int(len(text_dropped)/2)], text_dropped[int(len(text_dropped)/2):]"
   ]
  },
  {
   "cell_type": "code",
   "execution_count": 49,
   "metadata": {},
   "outputs": [
    {
     "data": {
      "text/plain": [
       "'В Беловежской области произошла авария, в результате которой погибли пять человек, в том числе двое детей.'"
      ]
     },
     "execution_count": 49,
     "metadata": {},
     "output_type": "execute_result"
    }
   ],
   "source": [
    "text_short = summarize(text_full, phrases_count)\n",
    "text_short"
   ]
  },
  {
   "cell_type": "code",
   "execution_count": 51,
   "metadata": {},
   "outputs": [
    {
     "name": "stdout",
     "output_type": "stream",
     "text": [
      "y\n"
     ]
    },
    {
     "data": {
      "text/plain": [
       "'k'"
      ]
     },
     "execution_count": 51,
     "metadata": {},
     "output_type": "execute_result"
    }
   ],
   "source": [
    "wrong_words = ['погиб']\n",
    "for wrong in wrong_words:\n",
    "    if wrong in text_short:\n",
    "        print('y')\n",
    "'k'"
   ]
  },
  {
   "cell_type": "code",
   "execution_count": 56,
   "metadata": {},
   "outputs": [
    {
     "data": {
      "text/plain": [
       "True"
      ]
     },
     "execution_count": 56,
     "metadata": {},
     "output_type": "execute_result"
    }
   ],
   "source": [
    "'в р' in text_short"
   ]
  },
  {
   "cell_type": "code",
   "execution_count": 48,
   "metadata": {},
   "outputs": [
    {
     "data": {
      "text/plain": [
       "'Эксперты считают, что ремонтные работы в московских квартирах, в том числе и в новостройках, должны быть выполнены в соответствии с запланированными сроками, а не по инициативе владельцев.'"
      ]
     },
     "execution_count": 48,
     "metadata": {},
     "output_type": "execute_result"
    }
   ],
   "source": [
    "text_short = summarize(text_full, phrases_count)\n",
    "\n",
    "wrong_words = ['погиб']\n",
    "for wrong in wrong_words:\n",
    "    if wrong in text_short:\n",
    "        text_short = summarize(text_full.replace(',',''), phrases_count)\n",
    "        break\n",
    "\n",
    "for wrong in wrong_words:\n",
    "    if wrong in text_short:\n",
    "        text_short = text_full[:1023]\n",
    "        break\n",
    "text_short"
   ]
  },
  {
   "cell_type": "code",
   "execution_count": 46,
   "metadata": {},
   "outputs": [
    {
     "data": {
      "text/plain": [
       "'и единая с'"
      ]
     },
     "execution_count": 46,
     "metadata": {},
     "output_type": "execute_result"
    }
   ],
   "source": [
    "text_full[:10]"
   ]
  },
  {
   "cell_type": "code",
   "execution_count": 41,
   "metadata": {},
   "outputs": [
    {
     "data": {
      "text/plain": [
       "'Эксперты считают, что ремонтные работы в московских квартирах, в том числе и в новостройках, должны быть выполнены в соответствии с запланированными сроками, а не по инициативе владельцев.'"
      ]
     },
     "execution_count": 41,
     "metadata": {},
     "output_type": "execute_result"
    }
   ],
   "source": [
    "text_short = summarize(text_full.replace(',',''), phrases_count)\n",
    "text_short"
   ]
  },
  {
   "cell_type": "code",
   "execution_count": 39,
   "metadata": {},
   "outputs": [
    {
     "data": {
      "text/plain": [
       "'В ноябре прошлого года оператор ноэля работал в Санкт-Петербурге и Ленинградской области, а также в Москве и Санкт-Петербургской области.'"
      ]
     },
     "execution_count": 39,
     "metadata": {},
     "output_type": "execute_result"
    }
   ],
   "source": [
    "text_short = summarize(text_dropped[:int(len(text_dropped)/2)].replace(',', ''), phrases_count)\n",
    "text_short"
   ]
  },
  {
   "cell_type": "markdown",
   "metadata": {},
   "source": [
    "# reports"
   ]
  },
  {
   "cell_type": "code",
   "execution_count": 11,
   "metadata": {},
   "outputs": [
    {
     "data": {
      "text/html": [
       "<div>\n",
       "<style scoped>\n",
       "    .dataframe tbody tr th:only-of-type {\n",
       "        vertical-align: middle;\n",
       "    }\n",
       "\n",
       "    .dataframe tbody tr th {\n",
       "        vertical-align: top;\n",
       "    }\n",
       "\n",
       "    .dataframe thead th {\n",
       "        text-align: right;\n",
       "    }\n",
       "</style>\n",
       "<table border=\"1\" class=\"dataframe\">\n",
       "  <thead>\n",
       "    <tr style=\"text-align: right;\">\n",
       "      <th></th>\n",
       "      <th>column_name</th>\n",
       "    </tr>\n",
       "  </thead>\n",
       "  <tbody>\n",
       "    <tr>\n",
       "      <th>0</th>\n",
       "      <td>linkedid</td>\n",
       "    </tr>\n",
       "    <tr>\n",
       "      <th>1</th>\n",
       "      <td>record_date</td>\n",
       "    </tr>\n",
       "    <tr>\n",
       "      <th>2</th>\n",
       "      <td>sum_date</td>\n",
       "    </tr>\n",
       "    <tr>\n",
       "      <th>3</th>\n",
       "      <td>side</td>\n",
       "    </tr>\n",
       "    <tr>\n",
       "      <th>4</th>\n",
       "      <td>load_msk</td>\n",
       "    </tr>\n",
       "    <tr>\n",
       "      <th>5</th>\n",
       "      <td>load_spb</td>\n",
       "    </tr>\n",
       "    <tr>\n",
       "      <th>6</th>\n",
       "      <td>load_reg</td>\n",
       "    </tr>\n",
       "    <tr>\n",
       "      <th>7</th>\n",
       "      <td>phrases_count</td>\n",
       "    </tr>\n",
       "    <tr>\n",
       "      <th>8</th>\n",
       "      <td>text_length</td>\n",
       "    </tr>\n",
       "    <tr>\n",
       "      <th>9</th>\n",
       "      <td>text</td>\n",
       "    </tr>\n",
       "    <tr>\n",
       "      <th>10</th>\n",
       "      <td>source_id</td>\n",
       "    </tr>\n",
       "  </tbody>\n",
       "</table>\n",
       "</div>"
      ],
      "text/plain": [
       "      column_name\n",
       "0        linkedid\n",
       "1     record_date\n",
       "2        sum_date\n",
       "3            side\n",
       "4        load_msk\n",
       "5        load_spb\n",
       "6        load_reg\n",
       "7   phrases_count\n",
       "8     text_length\n",
       "9            text\n",
       "10      source_id"
      ]
     },
     "execution_count": 11,
     "metadata": {},
     "output_type": "execute_result"
    }
   ],
   "source": [
    "query = \"SELECT column_name FROM information_schema.columns WHERE table_name='summarization';\"\n",
    "queue = read_sql(query)\n",
    "queue"
   ]
  },
  {
   "cell_type": "code",
   "execution_count": 33,
   "metadata": {},
   "outputs": [],
   "source": [
    "### summarization monitoring"
   ]
  },
  {
   "cell_type": "code",
   "execution_count": 114,
   "metadata": {},
   "outputs": [
    {
     "name": "stdout",
     "output_type": "stream",
     "text": [
      "2021-07-18T13:34:52\n"
     ]
    }
   ],
   "source": []
  },
  {
   "cell_type": "code",
   "execution_count": 190,
   "metadata": {},
   "outputs": [
    {
     "name": "stdout",
     "output_type": "stream",
     "text": [
      "2021-07-18T15:22:55\n"
     ]
    },
    {
     "name": "stderr",
     "output_type": "stream",
     "text": [
      "<ipython-input-190-bb28c3978997>:72: UserWarning: FixedFormatter should only be used together with FixedLocator\n",
      "  plt.gca().set_xticklabels(labels = df.date, rotation=30)\n"
     ]
    },
    {
     "data": {
      "image/png": "[encoded data removed]",
      "text/plain": [
       "<Figure size 1280x720 with 1 Axes>"
      ]
     },
     "metadata": {
      "needs_background": "light"
     },
     "output_type": "display_data"
    }
   ],
   "source": [
    "start_time = (datetime.datetime.now() + datetime.timedelta(days=-2)).strftime('%Y-%m-%dT%H:%M:%S')\n",
    "print(start_time)\n",
    "query = \"SELECT distinct linkedid, record_date from summarization where record_date>'\"+start_time+\"' and not text='';\"\n",
    "summarized = read_sql(query)\n",
    "query = \"SELECT distinct linkedid, record_date from transcribations where record_date>'\"+start_time+\"' and not text='';\"\n",
    "transcribed = read_sql(query)\n",
    "\n",
    "df = pd.merge(transcribed, summarized, how = 'left', on = 'linkedid')\n",
    "def isnat(s):\n",
    "    return not s is pd.NaT\n",
    "df['summarized'] = df.record_date_y.apply(isnat)\n",
    "\n",
    "def start_of_minute(d):\n",
    "    return d.strftime('%Y-%m-%dT%H:00:00')\n",
    "df.record_date_x = df.record_date_x.apply(start_of_minute)\n",
    "\n",
    "df.drop('record_date_y', 1, inplace = True)\n",
    "df.drop('linkedid', 1, inplace = True)\n",
    "\n",
    "sum_count = df[df.summarized].groupby('record_date_x').count()\n",
    "sum_count.reset_index(inplace = True)\n",
    "sum_count.columns = ['date', 'summarized']\n",
    "\n",
    "unsum_count = df[df.summarized == False].groupby('record_date_x').count()\n",
    "unsum_count.reset_index(inplace = True)\n",
    "unsum_count.columns = ['date', 'unsummarized']\n",
    "\n",
    "df = pd.merge(sum_count,unsum_count, how = 'outer', on = 'date')\n",
    "\n",
    "df.summarized.fillna(0, inplace=True)\n",
    "df.unsummarized.fillna(0, inplace=True)\n",
    "\n",
    "def crop_date(d):\n",
    "    return d[:13].replace('T', ' ')\n",
    "df.date = df.date.apply(crop_date)\n",
    "\n",
    "query = \"select min(record_date) from queue where not isnull(record_date,'')='';\"\n",
    "queue_first_record = read_sql(query)\n",
    "queue_first_record = str(queue_first_record.iloc()[0][0])\n",
    "header = 'Суммаризации \\n_с '+str(start_time).replace('T', ' ')+'\\nпо '+str(queue_first_record)\n",
    "\n",
    "#header = 'Суммаризации'\n",
    "columns = df.columns[1:]\n",
    "mycolors = ['tab:blue', 'tab:red']\n",
    "\n",
    "# Draw Plot and Annotate\n",
    "fig, ax = plt.subplots(1,1,figsize=(16, 9), dpi = 80)\n",
    "\n",
    "labs = columns.values.tolist()\n",
    "\n",
    "# Prepare data\n",
    "x  = df['date'].values.tolist()\n",
    "y0 = df[columns[0]].values.tolist()\n",
    "y1 = df[columns[1]].values.tolist()\n",
    "y = np.vstack([y0, y1])\n",
    "\n",
    "# Plot for each column\n",
    "labs = columns.values.tolist()\n",
    "ax = plt.gca()\n",
    "ax.stackplot(x, y, labels=labs, colors=mycolors, alpha=0.8)\n",
    "\n",
    "# Decorations\n",
    "ax.set_title(header, fontsize=18)\n",
    "ax.legend(fontsize=10, ncol=4)\n",
    "plt.grid(alpha=0.5)\n",
    "\n",
    "# Lighten borders\n",
    "plt.gca().spines[\"top\"].set_alpha(0)\n",
    "plt.gca().spines[\"bottom\"].set_alpha(.3)\n",
    "plt.gca().spines[\"right\"].set_alpha(0)\n",
    "plt.gca().spines[\"left\"].set_alpha(.3)\n",
    "plt.gca().set_xticklabels(labels = df.date, rotation=30)\n",
    "plt.show()\n",
    "#plt.savefig('report.png')"
   ]
  },
  {
   "cell_type": "code",
   "execution_count": 117,
   "metadata": {},
   "outputs": [],
   "source": [
    "\n",
    "#df.head()"
   ]
  },
  {
   "cell_type": "code",
   "execution_count": 118,
   "metadata": {},
   "outputs": [],
   "source": [
    "\n",
    "#df.head()"
   ]
  },
  {
   "cell_type": "code",
   "execution_count": 119,
   "metadata": {},
   "outputs": [],
   "source": [
    "\n",
    "#df.head()"
   ]
  },
  {
   "cell_type": "code",
   "execution_count": 120,
   "metadata": {},
   "outputs": [],
   "source": [
    "\n",
    "#df.head()"
   ]
  },
  {
   "cell_type": "code",
   "execution_count": 121,
   "metadata": {},
   "outputs": [],
   "source": []
  },
  {
   "cell_type": "code",
   "execution_count": 133,
   "metadata": {},
   "outputs": [
    {
     "data": {
      "text/html": [
       "<div>\n",
       "<style scoped>\n",
       "    .dataframe tbody tr th:only-of-type {\n",
       "        vertical-align: middle;\n",
       "    }\n",
       "\n",
       "    .dataframe tbody tr th {\n",
       "        vertical-align: top;\n",
       "    }\n",
       "\n",
       "    .dataframe thead th {\n",
       "        text-align: right;\n",
       "    }\n",
       "</style>\n",
       "<table border=\"1\" class=\"dataframe\">\n",
       "  <thead>\n",
       "    <tr style=\"text-align: right;\">\n",
       "      <th></th>\n",
       "      <th>date</th>\n",
       "      <th>summarized</th>\n",
       "    </tr>\n",
       "  </thead>\n",
       "  <tbody>\n",
       "    <tr>\n",
       "      <th>0</th>\n",
       "      <td>2021-07-18T14:00:00</td>\n",
       "      <td>336</td>\n",
       "    </tr>\n",
       "    <tr>\n",
       "      <th>1</th>\n",
       "      <td>2021-07-18T15:00:00</td>\n",
       "      <td>341</td>\n",
       "    </tr>\n",
       "    <tr>\n",
       "      <th>2</th>\n",
       "      <td>2021-07-18T16:00:00</td>\n",
       "      <td>281</td>\n",
       "    </tr>\n",
       "    <tr>\n",
       "      <th>3</th>\n",
       "      <td>2021-07-18T17:00:00</td>\n",
       "      <td>245</td>\n",
       "    </tr>\n",
       "    <tr>\n",
       "      <th>4</th>\n",
       "      <td>2021-07-18T18:00:00</td>\n",
       "      <td>224</td>\n",
       "    </tr>\n",
       "    <tr>\n",
       "      <th>5</th>\n",
       "      <td>2021-07-18T19:00:00</td>\n",
       "      <td>225</td>\n",
       "    </tr>\n",
       "    <tr>\n",
       "      <th>6</th>\n",
       "      <td>2021-07-18T20:00:00</td>\n",
       "      <td>91</td>\n",
       "    </tr>\n",
       "    <tr>\n",
       "      <th>7</th>\n",
       "      <td>2021-07-18T21:00:00</td>\n",
       "      <td>51</td>\n",
       "    </tr>\n",
       "    <tr>\n",
       "      <th>8</th>\n",
       "      <td>2021-07-18T22:00:00</td>\n",
       "      <td>37</td>\n",
       "    </tr>\n",
       "    <tr>\n",
       "      <th>9</th>\n",
       "      <td>2021-07-18T23:00:00</td>\n",
       "      <td>1</td>\n",
       "    </tr>\n",
       "    <tr>\n",
       "      <th>10</th>\n",
       "      <td>2021-07-19T07:00:00</td>\n",
       "      <td>10</td>\n",
       "    </tr>\n",
       "    <tr>\n",
       "      <th>11</th>\n",
       "      <td>2021-07-19T08:00:00</td>\n",
       "      <td>207</td>\n",
       "    </tr>\n",
       "    <tr>\n",
       "      <th>12</th>\n",
       "      <td>2021-07-19T09:00:00</td>\n",
       "      <td>537</td>\n",
       "    </tr>\n",
       "    <tr>\n",
       "      <th>13</th>\n",
       "      <td>2021-07-19T10:00:00</td>\n",
       "      <td>188</td>\n",
       "    </tr>\n",
       "    <tr>\n",
       "      <th>14</th>\n",
       "      <td>2021-07-19T11:00:00</td>\n",
       "      <td>212</td>\n",
       "    </tr>\n",
       "    <tr>\n",
       "      <th>15</th>\n",
       "      <td>2021-07-19T12:00:00</td>\n",
       "      <td>513</td>\n",
       "    </tr>\n",
       "    <tr>\n",
       "      <th>16</th>\n",
       "      <td>2021-07-19T13:00:00</td>\n",
       "      <td>201</td>\n",
       "    </tr>\n",
       "    <tr>\n",
       "      <th>17</th>\n",
       "      <td>2021-07-19T14:00:00</td>\n",
       "      <td>47</td>\n",
       "    </tr>\n",
       "    <tr>\n",
       "      <th>18</th>\n",
       "      <td>2021-07-19T15:00:00</td>\n",
       "      <td>508</td>\n",
       "    </tr>\n",
       "    <tr>\n",
       "      <th>19</th>\n",
       "      <td>2021-07-19T16:00:00</td>\n",
       "      <td>253</td>\n",
       "    </tr>\n",
       "  </tbody>\n",
       "</table>\n",
       "</div>"
      ],
      "text/plain": [
       "                   date  summarized\n",
       "0   2021-07-18T14:00:00         336\n",
       "1   2021-07-18T15:00:00         341\n",
       "2   2021-07-18T16:00:00         281\n",
       "3   2021-07-18T17:00:00         245\n",
       "4   2021-07-18T18:00:00         224\n",
       "5   2021-07-18T19:00:00         225\n",
       "6   2021-07-18T20:00:00          91\n",
       "7   2021-07-18T21:00:00          51\n",
       "8   2021-07-18T22:00:00          37\n",
       "9   2021-07-18T23:00:00           1\n",
       "10  2021-07-19T07:00:00          10\n",
       "11  2021-07-19T08:00:00         207\n",
       "12  2021-07-19T09:00:00         537\n",
       "13  2021-07-19T10:00:00         188\n",
       "14  2021-07-19T11:00:00         212\n",
       "15  2021-07-19T12:00:00         513\n",
       "16  2021-07-19T13:00:00         201\n",
       "17  2021-07-19T14:00:00          47\n",
       "18  2021-07-19T15:00:00         508\n",
       "19  2021-07-19T16:00:00         253"
      ]
     },
     "execution_count": 133,
     "metadata": {},
     "output_type": "execute_result"
    }
   ],
   "source": [
    "#df['summarized_count'] = \n",
    "\n",
    "sum_count"
   ]
  },
  {
   "cell_type": "code",
   "execution_count": 134,
   "metadata": {},
   "outputs": [
    {
     "data": {
      "text/html": [
       "<div>\n",
       "<style scoped>\n",
       "    .dataframe tbody tr th:only-of-type {\n",
       "        vertical-align: middle;\n",
       "    }\n",
       "\n",
       "    .dataframe tbody tr th {\n",
       "        vertical-align: top;\n",
       "    }\n",
       "\n",
       "    .dataframe thead th {\n",
       "        text-align: right;\n",
       "    }\n",
       "</style>\n",
       "<table border=\"1\" class=\"dataframe\">\n",
       "  <thead>\n",
       "    <tr style=\"text-align: right;\">\n",
       "      <th></th>\n",
       "      <th>date</th>\n",
       "      <th>unsummarized</th>\n",
       "    </tr>\n",
       "  </thead>\n",
       "  <tbody>\n",
       "    <tr>\n",
       "      <th>0</th>\n",
       "      <td>2021-07-18T13:00:00</td>\n",
       "      <td>161</td>\n",
       "    </tr>\n",
       "    <tr>\n",
       "      <th>1</th>\n",
       "      <td>2021-07-18T14:00:00</td>\n",
       "      <td>22</td>\n",
       "    </tr>\n",
       "    <tr>\n",
       "      <th>2</th>\n",
       "      <td>2021-07-19T07:00:00</td>\n",
       "      <td>23</td>\n",
       "    </tr>\n",
       "    <tr>\n",
       "      <th>3</th>\n",
       "      <td>2021-07-19T08:00:00</td>\n",
       "      <td>157</td>\n",
       "    </tr>\n",
       "    <tr>\n",
       "      <th>4</th>\n",
       "      <td>2021-07-19T10:00:00</td>\n",
       "      <td>434</td>\n",
       "    </tr>\n",
       "    <tr>\n",
       "      <th>5</th>\n",
       "      <td>2021-07-19T11:00:00</td>\n",
       "      <td>364</td>\n",
       "    </tr>\n",
       "    <tr>\n",
       "      <th>6</th>\n",
       "      <td>2021-07-19T13:00:00</td>\n",
       "      <td>353</td>\n",
       "    </tr>\n",
       "    <tr>\n",
       "      <th>7</th>\n",
       "      <td>2021-07-19T14:00:00</td>\n",
       "      <td>503</td>\n",
       "    </tr>\n",
       "    <tr>\n",
       "      <th>8</th>\n",
       "      <td>2021-07-19T16:00:00</td>\n",
       "      <td>253</td>\n",
       "    </tr>\n",
       "    <tr>\n",
       "      <th>9</th>\n",
       "      <td>2021-07-19T17:00:00</td>\n",
       "      <td>411</td>\n",
       "    </tr>\n",
       "    <tr>\n",
       "      <th>10</th>\n",
       "      <td>2021-07-19T18:00:00</td>\n",
       "      <td>336</td>\n",
       "    </tr>\n",
       "    <tr>\n",
       "      <th>11</th>\n",
       "      <td>2021-07-19T19:00:00</td>\n",
       "      <td>350</td>\n",
       "    </tr>\n",
       "    <tr>\n",
       "      <th>12</th>\n",
       "      <td>2021-07-19T20:00:00</td>\n",
       "      <td>213</td>\n",
       "    </tr>\n",
       "    <tr>\n",
       "      <th>13</th>\n",
       "      <td>2021-07-19T21:00:00</td>\n",
       "      <td>78</td>\n",
       "    </tr>\n",
       "    <tr>\n",
       "      <th>14</th>\n",
       "      <td>2021-07-19T22:00:00</td>\n",
       "      <td>23</td>\n",
       "    </tr>\n",
       "    <tr>\n",
       "      <th>15</th>\n",
       "      <td>2021-07-20T07:00:00</td>\n",
       "      <td>41</td>\n",
       "    </tr>\n",
       "    <tr>\n",
       "      <th>16</th>\n",
       "      <td>2021-07-20T08:00:00</td>\n",
       "      <td>327</td>\n",
       "    </tr>\n",
       "    <tr>\n",
       "      <th>17</th>\n",
       "      <td>2021-07-20T09:00:00</td>\n",
       "      <td>526</td>\n",
       "    </tr>\n",
       "    <tr>\n",
       "      <th>18</th>\n",
       "      <td>2021-07-20T10:00:00</td>\n",
       "      <td>527</td>\n",
       "    </tr>\n",
       "    <tr>\n",
       "      <th>19</th>\n",
       "      <td>2021-07-20T11:00:00</td>\n",
       "      <td>6</td>\n",
       "    </tr>\n",
       "  </tbody>\n",
       "</table>\n",
       "</div>"
      ],
      "text/plain": [
       "                   date  unsummarized\n",
       "0   2021-07-18T13:00:00           161\n",
       "1   2021-07-18T14:00:00            22\n",
       "2   2021-07-19T07:00:00            23\n",
       "3   2021-07-19T08:00:00           157\n",
       "4   2021-07-19T10:00:00           434\n",
       "5   2021-07-19T11:00:00           364\n",
       "6   2021-07-19T13:00:00           353\n",
       "7   2021-07-19T14:00:00           503\n",
       "8   2021-07-19T16:00:00           253\n",
       "9   2021-07-19T17:00:00           411\n",
       "10  2021-07-19T18:00:00           336\n",
       "11  2021-07-19T19:00:00           350\n",
       "12  2021-07-19T20:00:00           213\n",
       "13  2021-07-19T21:00:00            78\n",
       "14  2021-07-19T22:00:00            23\n",
       "15  2021-07-20T07:00:00            41\n",
       "16  2021-07-20T08:00:00           327\n",
       "17  2021-07-20T09:00:00           526\n",
       "18  2021-07-20T10:00:00           527\n",
       "19  2021-07-20T11:00:00             6"
      ]
     },
     "execution_count": 134,
     "metadata": {},
     "output_type": "execute_result"
    }
   ],
   "source": [
    "\n",
    "unsum_count"
   ]
  },
  {
   "cell_type": "code",
   "execution_count": 138,
   "metadata": {},
   "outputs": [
    {
     "data": {
      "text/html": [
       "<div>\n",
       "<style scoped>\n",
       "    .dataframe tbody tr th:only-of-type {\n",
       "        vertical-align: middle;\n",
       "    }\n",
       "\n",
       "    .dataframe tbody tr th {\n",
       "        vertical-align: top;\n",
       "    }\n",
       "\n",
       "    .dataframe thead th {\n",
       "        text-align: right;\n",
       "    }\n",
       "</style>\n",
       "<table border=\"1\" class=\"dataframe\">\n",
       "  <thead>\n",
       "    <tr style=\"text-align: right;\">\n",
       "      <th></th>\n",
       "      <th>date</th>\n",
       "      <th>summarized</th>\n",
       "      <th>unsummarized</th>\n",
       "    </tr>\n",
       "  </thead>\n",
       "  <tbody>\n",
       "    <tr>\n",
       "      <th>0</th>\n",
       "      <td>2021-07-18T14:00:00</td>\n",
       "      <td>336.0</td>\n",
       "      <td>22.0</td>\n",
       "    </tr>\n",
       "    <tr>\n",
       "      <th>1</th>\n",
       "      <td>2021-07-18T15:00:00</td>\n",
       "      <td>341.0</td>\n",
       "      <td>NaN</td>\n",
       "    </tr>\n",
       "    <tr>\n",
       "      <th>2</th>\n",
       "      <td>2021-07-18T16:00:00</td>\n",
       "      <td>281.0</td>\n",
       "      <td>NaN</td>\n",
       "    </tr>\n",
       "    <tr>\n",
       "      <th>3</th>\n",
       "      <td>2021-07-18T17:00:00</td>\n",
       "      <td>245.0</td>\n",
       "      <td>NaN</td>\n",
       "    </tr>\n",
       "    <tr>\n",
       "      <th>4</th>\n",
       "      <td>2021-07-18T18:00:00</td>\n",
       "      <td>224.0</td>\n",
       "      <td>NaN</td>\n",
       "    </tr>\n",
       "    <tr>\n",
       "      <th>5</th>\n",
       "      <td>2021-07-18T19:00:00</td>\n",
       "      <td>225.0</td>\n",
       "      <td>NaN</td>\n",
       "    </tr>\n",
       "    <tr>\n",
       "      <th>6</th>\n",
       "      <td>2021-07-18T20:00:00</td>\n",
       "      <td>91.0</td>\n",
       "      <td>NaN</td>\n",
       "    </tr>\n",
       "    <tr>\n",
       "      <th>7</th>\n",
       "      <td>2021-07-18T21:00:00</td>\n",
       "      <td>51.0</td>\n",
       "      <td>NaN</td>\n",
       "    </tr>\n",
       "    <tr>\n",
       "      <th>8</th>\n",
       "      <td>2021-07-18T22:00:00</td>\n",
       "      <td>37.0</td>\n",
       "      <td>NaN</td>\n",
       "    </tr>\n",
       "    <tr>\n",
       "      <th>9</th>\n",
       "      <td>2021-07-18T23:00:00</td>\n",
       "      <td>1.0</td>\n",
       "      <td>NaN</td>\n",
       "    </tr>\n",
       "    <tr>\n",
       "      <th>10</th>\n",
       "      <td>2021-07-19T07:00:00</td>\n",
       "      <td>10.0</td>\n",
       "      <td>23.0</td>\n",
       "    </tr>\n",
       "    <tr>\n",
       "      <th>11</th>\n",
       "      <td>2021-07-19T08:00:00</td>\n",
       "      <td>207.0</td>\n",
       "      <td>157.0</td>\n",
       "    </tr>\n",
       "    <tr>\n",
       "      <th>12</th>\n",
       "      <td>2021-07-19T09:00:00</td>\n",
       "      <td>537.0</td>\n",
       "      <td>NaN</td>\n",
       "    </tr>\n",
       "    <tr>\n",
       "      <th>13</th>\n",
       "      <td>2021-07-19T10:00:00</td>\n",
       "      <td>188.0</td>\n",
       "      <td>434.0</td>\n",
       "    </tr>\n",
       "    <tr>\n",
       "      <th>14</th>\n",
       "      <td>2021-07-19T11:00:00</td>\n",
       "      <td>212.0</td>\n",
       "      <td>364.0</td>\n",
       "    </tr>\n",
       "    <tr>\n",
       "      <th>15</th>\n",
       "      <td>2021-07-19T12:00:00</td>\n",
       "      <td>513.0</td>\n",
       "      <td>NaN</td>\n",
       "    </tr>\n",
       "    <tr>\n",
       "      <th>16</th>\n",
       "      <td>2021-07-19T13:00:00</td>\n",
       "      <td>201.0</td>\n",
       "      <td>353.0</td>\n",
       "    </tr>\n",
       "    <tr>\n",
       "      <th>17</th>\n",
       "      <td>2021-07-19T14:00:00</td>\n",
       "      <td>47.0</td>\n",
       "      <td>503.0</td>\n",
       "    </tr>\n",
       "    <tr>\n",
       "      <th>18</th>\n",
       "      <td>2021-07-19T15:00:00</td>\n",
       "      <td>508.0</td>\n",
       "      <td>NaN</td>\n",
       "    </tr>\n",
       "    <tr>\n",
       "      <th>19</th>\n",
       "      <td>2021-07-19T16:00:00</td>\n",
       "      <td>253.0</td>\n",
       "      <td>253.0</td>\n",
       "    </tr>\n",
       "    <tr>\n",
       "      <th>20</th>\n",
       "      <td>2021-07-18T13:00:00</td>\n",
       "      <td>NaN</td>\n",
       "      <td>161.0</td>\n",
       "    </tr>\n",
       "    <tr>\n",
       "      <th>21</th>\n",
       "      <td>2021-07-19T17:00:00</td>\n",
       "      <td>NaN</td>\n",
       "      <td>411.0</td>\n",
       "    </tr>\n",
       "    <tr>\n",
       "      <th>22</th>\n",
       "      <td>2021-07-19T18:00:00</td>\n",
       "      <td>NaN</td>\n",
       "      <td>336.0</td>\n",
       "    </tr>\n",
       "    <tr>\n",
       "      <th>23</th>\n",
       "      <td>2021-07-19T19:00:00</td>\n",
       "      <td>NaN</td>\n",
       "      <td>350.0</td>\n",
       "    </tr>\n",
       "    <tr>\n",
       "      <th>24</th>\n",
       "      <td>2021-07-19T20:00:00</td>\n",
       "      <td>NaN</td>\n",
       "      <td>213.0</td>\n",
       "    </tr>\n",
       "    <tr>\n",
       "      <th>25</th>\n",
       "      <td>2021-07-19T21:00:00</td>\n",
       "      <td>NaN</td>\n",
       "      <td>78.0</td>\n",
       "    </tr>\n",
       "    <tr>\n",
       "      <th>26</th>\n",
       "      <td>2021-07-19T22:00:00</td>\n",
       "      <td>NaN</td>\n",
       "      <td>23.0</td>\n",
       "    </tr>\n",
       "    <tr>\n",
       "      <th>27</th>\n",
       "      <td>2021-07-20T07:00:00</td>\n",
       "      <td>NaN</td>\n",
       "      <td>41.0</td>\n",
       "    </tr>\n",
       "    <tr>\n",
       "      <th>28</th>\n",
       "      <td>2021-07-20T08:00:00</td>\n",
       "      <td>NaN</td>\n",
       "      <td>327.0</td>\n",
       "    </tr>\n",
       "    <tr>\n",
       "      <th>29</th>\n",
       "      <td>2021-07-20T09:00:00</td>\n",
       "      <td>NaN</td>\n",
       "      <td>526.0</td>\n",
       "    </tr>\n",
       "    <tr>\n",
       "      <th>30</th>\n",
       "      <td>2021-07-20T10:00:00</td>\n",
       "      <td>NaN</td>\n",
       "      <td>527.0</td>\n",
       "    </tr>\n",
       "    <tr>\n",
       "      <th>31</th>\n",
       "      <td>2021-07-20T11:00:00</td>\n",
       "      <td>NaN</td>\n",
       "      <td>6.0</td>\n",
       "    </tr>\n",
       "  </tbody>\n",
       "</table>\n",
       "</div>"
      ],
      "text/plain": [
       "                   date  summarized  unsummarized\n",
       "0   2021-07-18T14:00:00       336.0          22.0\n",
       "1   2021-07-18T15:00:00       341.0           NaN\n",
       "2   2021-07-18T16:00:00       281.0           NaN\n",
       "3   2021-07-18T17:00:00       245.0           NaN\n",
       "4   2021-07-18T18:00:00       224.0           NaN\n",
       "5   2021-07-18T19:00:00       225.0           NaN\n",
       "6   2021-07-18T20:00:00        91.0           NaN\n",
       "7   2021-07-18T21:00:00        51.0           NaN\n",
       "8   2021-07-18T22:00:00        37.0           NaN\n",
       "9   2021-07-18T23:00:00         1.0           NaN\n",
       "10  2021-07-19T07:00:00        10.0          23.0\n",
       "11  2021-07-19T08:00:00       207.0         157.0\n",
       "12  2021-07-19T09:00:00       537.0           NaN\n",
       "13  2021-07-19T10:00:00       188.0         434.0\n",
       "14  2021-07-19T11:00:00       212.0         364.0\n",
       "15  2021-07-19T12:00:00       513.0           NaN\n",
       "16  2021-07-19T13:00:00       201.0         353.0\n",
       "17  2021-07-19T14:00:00        47.0         503.0\n",
       "18  2021-07-19T15:00:00       508.0           NaN\n",
       "19  2021-07-19T16:00:00       253.0         253.0\n",
       "20  2021-07-18T13:00:00         NaN         161.0\n",
       "21  2021-07-19T17:00:00         NaN         411.0\n",
       "22  2021-07-19T18:00:00         NaN         336.0\n",
       "23  2021-07-19T19:00:00         NaN         350.0\n",
       "24  2021-07-19T20:00:00         NaN         213.0\n",
       "25  2021-07-19T21:00:00         NaN          78.0\n",
       "26  2021-07-19T22:00:00         NaN          23.0\n",
       "27  2021-07-20T07:00:00         NaN          41.0\n",
       "28  2021-07-20T08:00:00         NaN         327.0\n",
       "29  2021-07-20T09:00:00         NaN         526.0\n",
       "30  2021-07-20T10:00:00         NaN         527.0\n",
       "31  2021-07-20T11:00:00         NaN           6.0"
      ]
     },
     "execution_count": 138,
     "metadata": {},
     "output_type": "execute_result"
    }
   ],
   "source": [
    "\n",
    "df"
   ]
  },
  {
   "cell_type": "code",
   "execution_count": 156,
   "metadata": {},
   "outputs": [],
   "source": []
  },
  {
   "cell_type": "code",
   "execution_count": 157,
   "metadata": {},
   "outputs": [
    {
     "data": {
      "text/plain": [
       "<AxesSubplot:>"
      ]
     },
     "execution_count": 157,
     "metadata": {},
     "output_type": "execute_result"
    },
    {
     "data": {
      "image/png": "[encoded data removed]",
      "text/plain": [
       "<Figure size 432x288 with 1 Axes>"
      ]
     },
     "metadata": {
      "needs_background": "light"
     },
     "output_type": "display_data"
    }
   ],
   "source": [
    "df.plot()"
   ]
  },
  {
   "cell_type": "code",
   "execution_count": 176,
   "metadata": {},
   "outputs": [],
   "source": []
  },
  {
   "cell_type": "code",
   "execution_count": 188,
   "metadata": {},
   "outputs": [],
   "source": []
  },
  {
   "cell_type": "code",
   "execution_count": 189,
   "metadata": {},
   "outputs": [
    {
     "name": "stderr",
     "output_type": "stream",
     "text": [
      "<ipython-input-189-c96c6b870f34>:31: UserWarning: FixedFormatter should only be used together with FixedLocator\n",
      "  plt.gca().set_xticklabels(labels = df.date, rotation=30)\n"
     ]
    },
    {
     "data": {
      "image/png": "[encoded data removed]",
      "text/plain": [
       "<Figure size 1280x720 with 1 Axes>"
      ]
     },
     "metadata": {
      "needs_background": "light"
     },
     "output_type": "display_data"
    }
   ],
   "source": []
  },
  {
   "cell_type": "code",
   "execution_count": 179,
   "metadata": {},
   "outputs": [
    {
     "data": {
      "text/plain": [
       "'2021-07-20 09:21:18'"
      ]
     },
     "execution_count": 179,
     "metadata": {},
     "output_type": "execute_result"
    }
   ],
   "source": []
  },
  {
   "cell_type": "code",
   "execution_count": 139,
   "metadata": {},
   "outputs": [],
   "source": [
    "query = \"SELECT column_name FROM information_schema.columns WHERE table_name='transcribations';\"\n",
    "#queue = read_sql(query)\n",
    "#queue"
   ]
  },
  {
   "cell_type": "code",
   "execution_count": 75,
   "metadata": {},
   "outputs": [],
   "source": [
    "query = \"SELECT * from summarization where text like '%погиб%' order by sum_date desc;\"\n",
    "df = read_sql(query)\n",
    "for id, row in df.iterrows():\n",
    "    print(row.text)"
   ]
  },
  {
   "cell_type": "code",
   "execution_count": 76,
   "metadata": {},
   "outputs": [
    {
     "data": {
      "text/plain": [
       "0"
      ]
     },
     "execution_count": 76,
     "metadata": {},
     "output_type": "execute_result"
    }
   ],
   "source": [
    "len(df)"
   ]
  },
  {
   "cell_type": "code",
   "execution_count": 74,
   "metadata": {},
   "outputs": [],
   "source": [
    "#query = \"delete from summarization where text like '%погиб%';\"\n",
    "#df = read_sql(query)"
   ]
  }
 ],
 "metadata": {
  "kernelspec": {
   "display_name": "Python 3",
   "language": "python",
   "name": "python3"
  },
  "language_info": {
   "codemirror_mode": {
    "name": "ipython",
    "version": 3
   },
   "file_extension": ".py",
   "mimetype": "text/x-python",
   "name": "python",
   "nbconvert_exporter": "python",
   "pygments_lexer": "ipython3",
   "version": "3.8.11"
  }
 },
 "nbformat": 4,
 "nbformat_minor": 2
}
