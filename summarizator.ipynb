{
 "cells": [
  {
   "cell_type": "code",
   "execution_count": null,
   "metadata": {},
   "outputs": [],
   "source": [
    "# %pip install pymssql"
   ]
  },
  {
   "cell_type": "code",
   "execution_count": 1,
   "metadata": {},
   "outputs": [],
   "source": [
    "import pymssql\n",
    "import pandas as pd\n",
    "import redis\n",
    "import time\n",
    "import datetime\n",
    "from ipywidgets import IntProgress"
   ]
  },
  {
   "cell_type": "code",
   "execution_count": 2,
   "metadata": {},
   "outputs": [],
   "source": [
    "#REDIS_IP = '10.2.5.212'\n",
    "REDIS_IP = 'localhost'"
   ]
  },
  {
   "cell_type": "code",
   "execution_count": 3,
   "metadata": {},
   "outputs": [],
   "source": [
    "def ms_sql_con():\n",
    "    sql_name = 'voice_ai'\n",
    "    sql_server = '10.2.4.124'\n",
    "    sql_login = 'ICECORP\\\\1c_sql'\n",
    "\n",
    "    with open('sql.pass','r') as file:\n",
    "        sql_pass = file.read().replace('\\n', '')\n",
    "        file.close()\n",
    "\n",
    "    return pymssql.connect(\n",
    "            server = sql_server,\n",
    "            user = sql_login,\n",
    "            password = sql_pass,\n",
    "            database = sql_name,\n",
    "            autocommit=True\n",
    "        )"
   ]
  },
  {
   "cell_type": "code",
   "execution_count": 4,
   "metadata": {},
   "outputs": [],
   "source": [
    "def read_sql(query):\n",
    "    return pd.read_sql(query, con=ms_sql_con(), parse_dates=None)"
   ]
  },
  {
   "cell_type": "code",
   "execution_count": 5,
   "metadata": {},
   "outputs": [],
   "source": [
    "def concatenate_linkedid_side(side, record_date, linkedid):\n",
    "    query = \"SELECT text from transcribations where \"\n",
    "    query += \" side=\"+str(side)+\" and \"\n",
    "    query += \" record_date = '\"+str(record_date)+\"' and \"\n",
    "    query += \" linkedid = '\"+str(linkedid)+\"';\"\n",
    "    text_df = read_sql(query)\n",
    "    phrases_count = len(text_df)\n",
    "    text_full = ', '.join([row.text for _id, row in text_df.iterrows()])\n",
    "    return text_full, phrases_count"
   ]
  },
  {
   "cell_type": "code",
   "execution_count": 37,
   "metadata": {},
   "outputs": [],
   "source": [
    "def summarize(text, phrases_count):\n",
    "    #if phrases_count<2 or len(text)<255:\n",
    "    #    return text\n",
    "    subscriber = redis.StrictRedis(host=REDIS_IP)\n",
    "    publisher = redis.StrictRedis(host=REDIS_IP) \n",
    "    pub = publisher.pubsub()\n",
    "    sub = subscriber.pubsub()\n",
    "    sub.subscribe('summarus_client')\n",
    "    # send\n",
    "    publisher.publish(\"summarus_server\", text)\n",
    "    # receive\n",
    "    while True:\n",
    "        message = sub.get_message()\n",
    "        if message and message['type']!='subscribe':\n",
    "            return message['data'].decode(\"utf-8\")\n",
    "        time.sleep(1)"
   ]
  },
  {
   "cell_type": "code",
   "execution_count": null,
   "metadata": {},
   "outputs": [],
   "source": [
    "def sum_to_sql(linkedid, recor_date, side, text, phrases_count, text_length):\n",
    "    current_date = datetime.datetime.now().strftime('%Y-%m-%d %H:%M:%S')\n",
    "    query = \"insert into summarization(linkedid, record_date, sum_date, side, text, phrases_count, text_length) \"\n",
    "    query += \" values(\"\n",
    "    query += \"'\"+str(linkedid)+\"',\"\n",
    "    query += \"'\"+str(recor_date)+\"',\"\n",
    "    query += \"'\"+str(current_date)+\"',\"\n",
    "    query += str(side)+\",\"\n",
    "    query += \"'\"+str(text)+\"',\"\n",
    "    query += \"'\"+str(phrases_count)+\"',\"\n",
    "    query += \"'\"+str(text_length)+\"'\"\n",
    "    query += \");\"\n",
    "    #df = read_sql(query)\n",
    "    \n",
    "    conn = ms_sql_con()  \n",
    "    cursor = conn.cursor()\n",
    "    cursor.execute(query)\n",
    "    # conn.commit()"
   ]
  },
  {
   "cell_type": "code",
   "execution_count": null,
   "metadata": {},
   "outputs": [],
   "source": [
    "# queue\n",
    "query = \"SELECT column_name FROM information_schema.columns WHERE table_name='queue';\"\n",
    "queue = read_sql(query)\n",
    "queue"
   ]
  },
  {
   "cell_type": "code",
   "execution_count": null,
   "metadata": {},
   "outputs": [],
   "source": [
    "# transcribations\n",
    "query = \"SELECT column_name FROM information_schema.columns WHERE table_name='transcribations';\"\n",
    "queue = read_sql(query)\n",
    "queue"
   ]
  },
  {
   "cell_type": "markdown",
   "metadata": {},
   "source": [
    "### queue linkedid list"
   ]
  },
  {
   "cell_type": "code",
   "execution_count": null,
   "metadata": {},
   "outputs": [],
   "source": [
    "# queue\n",
    "query = \"SELECT distinct record_date, linkedid from queue;\"\n",
    "queue = read_sql(query)\n",
    "len(queue)"
   ]
  },
  {
   "cell_type": "markdown",
   "metadata": {},
   "source": [
    "### transcribations linkedid list"
   ]
  },
  {
   "cell_type": "code",
   "execution_count": null,
   "metadata": {},
   "outputs": [],
   "source": [
    "# queue\n",
    "query = \"SELECT distinct top 10 record_date, linkedid from transcribations;\"\n",
    "df = read_sql(query)\n",
    "df"
   ]
  },
  {
   "cell_type": "code",
   "execution_count": null,
   "metadata": {},
   "outputs": [],
   "source": [
    "query = \"SELECT distinct top 100 trans.record_date, trans.linkedid\"\n",
    "query += \" from transcribations as trans\"\n",
    "query += \" left join queue as queue\"\n",
    "query += \" on trans.record_date=queue.record_date\"\n",
    "query += \" and trans.linkedid=queue.linkedid\"\n",
    "query += \" where \"\n",
    "query += \" trans.record_date > '2021-06-04 00:00:00' and\"\n",
    "query += \" isnull(queue.linkedid,'x')='x'\"\n",
    "query += \" order by record_date desc;\"\n",
    "%time df = read_sql(query)\n",
    "len(df)"
   ]
  },
  {
   "cell_type": "markdown",
   "metadata": {},
   "source": [
    "# start"
   ]
  },
  {
   "cell_type": "code",
   "execution_count": 7,
   "metadata": {},
   "outputs": [],
   "source": [
    "BATCH_SIZE = 1000\n",
    "MAX_TEXT_SIZE = 1023"
   ]
  },
  {
   "cell_type": "code",
   "execution_count": null,
   "metadata": {},
   "outputs": [],
   "source": [
    "# obtain datetime limits\n",
    "#query = \"select min(record_date) from queue where not isnull(record_date,'2021-06-07 13:34:51')='2021-06-07 13:34:51';\"\n",
    "query = \"select linkedid from queue;\"\n",
    "df = read_sql(query)\n",
    "if len(df):\n",
    "    query = \"select min(record_date) from queue where not isnull(record_date,'')='';\"\n",
    "    df = read_sql(query)\n",
    "    queue_first_record = str(df.iloc()[0][0])\n",
    "else:\n",
    "    queue_first_record = datetime.datetime.now().strftime('%Y-%m-%d %H:%M:%S')\n",
    "\n",
    "query = \"select max(record_date) from summarization;\"\n",
    "df = read_sql(query)\n",
    "summarization_first_record = str(df.iloc()[0][0])"
   ]
  },
  {
   "cell_type": "code",
   "execution_count": null,
   "metadata": {},
   "outputs": [],
   "source": []
  },
  {
   "cell_type": "code",
   "execution_count": null,
   "metadata": {},
   "outputs": [],
   "source": [
    "queue_first_record, summarization_first_record"
   ]
  },
  {
   "cell_type": "code",
   "execution_count": null,
   "metadata": {},
   "outputs": [],
   "source": [
    "query"
   ]
  },
  {
   "cell_type": "code",
   "execution_count": null,
   "metadata": {},
   "outputs": [],
   "source": [
    "query = \"SELECT distinct top \"+str(BATCH_SIZE)+\" record_date, linkedid\"\n",
    "query += \" from transcribations\"\n",
    "query += \" where \"\n",
    "query += \" record_date < '\"+queue_first_record+\"' and\"\n",
    "query += \" not linkedid in (select distinct linkedid from summarization)\"\n",
    "query += \" order by record_date desc;\"\n",
    "df = read_sql(query)\n",
    "len(df)"
   ]
  },
  {
   "cell_type": "code",
   "execution_count": null,
   "metadata": {},
   "outputs": [],
   "source": [
    "#text_full"
   ]
  },
  {
   "cell_type": "code",
   "execution_count": null,
   "metadata": {},
   "outputs": [],
   "source": [
    "for _id, row in df.iterrows():\n",
    "    \n",
    "    for side in range(2):\n",
    "        text_full, phrases_count = concatenate_linkedid_side(side, row.record_date, row.linkedid)\n",
    "        text_short = summarize(text_full, phrases_count)\n",
    "        sum_to_sql(row.linkedid, row.record_date, side, text_short, phrases_count, len(text_full))"
   ]
  },
  {
   "cell_type": "code",
   "execution_count": null,
   "metadata": {},
   "outputs": [],
   "source": [
    "len('Российский мастер по ремонту стиральных машин, с кем можно переговорить, пожаловался на то, что белье не попадает в барабан, барабан не крутится, не вращается, он перетащил машинку с одного места на второе, а она почему-то перестала стирать, да, да нет москва, а я давно как ты взял эту самую визитку у этого почтовом ящике и вот по ней и звоню айсберг вот визитка, да конечно номер триста шестнадцать серия, спасибо спасибо, да пожалуй, да.')"
   ]
  },
  {
   "cell_type": "code",
   "execution_count": null,
   "metadata": {},
   "outputs": [],
   "source": [
    "query = \"SELECT * from summarization\"\n",
    "query += \" where  record_date = '2021.05.30 11:46:10' and linkedid = '1622364369.119129' and side = '0';\"\n",
    "df = read_sql(query)\n",
    "df"
   ]
  },
  {
   "cell_type": "code",
   "execution_count": null,
   "metadata": {},
   "outputs": [],
   "source": [
    "def summarization():\n",
    "    message = ''\n",
    "    query = \"SELECT count(linkedid) from summarization\"\n",
    "    query += \" where isnull(load_msk,0) = 0 or isnull(load_spb,0) = 0 or isnull(load_reg,0) = 0;\"\n",
    "    df = read_sql(query)\n",
    "    message += '\\nСуммаризации, ожидающие загрузку: ' + str(df.iloc()[0][0])\n",
    "    \n",
    "    message += '\\n== За вчера =='\n",
    "    \n",
    "    currentdate = datetime.datetime.today()\n",
    "    start_of_day = currentdate.combine(currentdate.date(), currentdate.min.time())\n",
    "    yesterday = start_of_day + datetime.timedelta(days=-1)\n",
    "    df = str(yesterday)\n",
    "    dt = str(start_of_day)\n",
    "    f_0 = '%Y-%m-%d %H:%M:%S'\n",
    "    f_1 = '%Y-%m-%dT%H:%M:%S'\n",
    "    date_from = datetime.datetime.strptime(df, f_0).strftime(f_1)\n",
    "    date_toto = datetime.datetime.strptime(dt, f_0).strftime(f_1)\n",
    "    \n",
    "    query = \"SELECT count(linkedid) from summarization\"\n",
    "    query += \" where sum_date>'\" + date_from + \"'\"\n",
    "    query += \" and sum_date<'\" + date_toto + \"';\"\n",
    "    df = read_sql(query)\n",
    "    message += '\\nНовых суммаризаций: ' + str(df.iloc()[0][0])\n",
    "    \n",
    "    for city in ['load_msk', 'load_spb', 'load_reg']:\n",
    "        query = \"SELECT count(linkedid) from summarization\"\n",
    "        query += \" where sum_date>'\" + date_from + \"'\"\n",
    "        query += \" and sum_date<'\" + date_toto + \"'\"\n",
    "        query += \" and isnull(\"+city+\",0) = 1;\"\n",
    "        df = read_sql(query)\n",
    "        message += '\\n'+city+': ' + str(df.iloc()[0][0])      \n",
    "    \n",
    "    return message\n",
    "    \n",
    "summarization()"
   ]
  },
  {
   "cell_type": "code",
   "execution_count": null,
   "metadata": {},
   "outputs": [],
   "source": [
    "query = \"SELECT count(linkedid) from summarization where ;\"\n",
    "df = read_sql(query)\n",
    "df.iloc()[0][0]"
   ]
  },
  {
   "cell_type": "code",
   "execution_count": null,
   "metadata": {},
   "outputs": [],
   "source": [
    "query = \"SELECT max(sum_date) from summarization;\"\n",
    "df = read_sql(query)\n",
    "df"
   ]
  },
  {
   "cell_type": "code",
   "execution_count": null,
   "metadata": {},
   "outputs": [],
   "source": [
    "query = \"SELECT * from summarization order by sum_date desc;\"\n",
    "df = read_sql(query)\n",
    "min(df.record_date), max(df.record_date)"
   ]
  },
  {
   "cell_type": "code",
   "execution_count": null,
   "metadata": {},
   "outputs": [],
   "source": [
    "df"
   ]
  },
  {
   "cell_type": "code",
   "execution_count": null,
   "metadata": {},
   "outputs": [],
   "source": [
    "query = \"SELECT * from summarization order by sum_date desc;\"\n",
    "df = read_sql(query)\n",
    "#for _id, row in df.iterrows():\n",
    "    #df.text.iloc()[3]\n",
    "#    print(row.sum_date, row.record_date)\n",
    "min(df.record_date), max(df.record_date)"
   ]
  },
  {
   "cell_type": "code",
   "execution_count": null,
   "metadata": {},
   "outputs": [],
   "source": [
    "query = \"SELECT max(record_date) from transcribations;\"\n",
    "df = read_sql(query)\n",
    "df"
   ]
  },
  {
   "cell_type": "code",
   "execution_count": null,
   "metadata": {},
   "outputs": [],
   "source": [
    "min(df.record_date), max(df.record_date)"
   ]
  },
  {
   "cell_type": "code",
   "execution_count": null,
   "metadata": {},
   "outputs": [],
   "source": [
    "min(df.record_date), max(df.record_date)"
   ]
  },
  {
   "cell_type": "code",
   "execution_count": null,
   "metadata": {},
   "outputs": [],
   "source": [
    "row"
   ]
  },
  {
   "cell_type": "markdown",
   "metadata": {},
   "source": [
    "query = \"SELECT column_name FROM information_schema.columns WHERE table_name='summarization';\"\n",
    "queue = read_sql(query)\n",
    "queue"
   ]
  },
  {
   "cell_type": "code",
   "execution_count": null,
   "metadata": {},
   "outputs": [],
   "source": [
    "query = \"SELECT linkedid, side, text from summarization where \"\n",
    "query += \" linkedid = '1622976650.277074';\"\n",
    "df = read_sql(query)\n",
    "df"
   ]
  },
  {
   "cell_type": "code",
   "execution_count": null,
   "metadata": {},
   "outputs": [],
   "source": [
    "# select\n",
    "query = \"SELECT side, text from transcribations where \"\n",
    "query += \" record_date = '2021-06-04 12:33:20' and linkedid = '1622799198.236534';\"\n",
    "df = read_sql(query)\n",
    "', '.join([row.text for _id, row in df.iterrows()])"
   ]
  },
  {
   "cell_type": "code",
   "execution_count": null,
   "metadata": {},
   "outputs": [],
   "source": [
    "len('здравствуйте скажите пожалуйста мастера можно вызвать по ремонту холодильников сна, москве, стянул, он бы уже давно да, двух, он там где морозильник не сама м-ра телка вот обычно помещаю стал работать как морозилку, да да да, о нет магнитики разброс, вверху справа но мне наверно старая ещё три семнадцать, восемь девятьсот девять, девятьсот восемьдесят один пятьдесят один, семьдесят, галина, улица онежская, дом тридцать пять, корпус два квартира двести пятьдесят семь, третий подъезд пятый этаж без лифта, водный стадион, да, сто пятьдесят девять сорок пять восемьдесят четыре, хорошо спасибо, и, кузбасс сервиса оператору, могу принять заявку в течение часа мастер перезвонит у него все уточнить и подберёте временно визит живете в москве и области, холодильник как называется, гарантия закончилась от производителя холодильник двухкамерные трёхкамерные что не работает, и, промерзание шкафа да да, вы нас стефан узнали где магнит визитка сервисная книжка, вверху справа три цифры какие стоят на магнитных карт сможет отказать, на, спасибо мы указываем адрес телефон в течение час поступит звонок телефон вас скажите, зовут вас как, гален улиц какая у вас, номер дома, корпус есть, квартира, подъезд и этаж, метро какое-то ближайшее, давайте проверим а несколько тридцать пять корпус два квартира два пять семь подъезд третий этаж пятый телефон девятьсот девять девять восемь один пять один семьдесят северном, техника авто номер вашей заявки будет сто пятьдесят девять сорок пять восемьдесят четыре, сорок пять восемьдесят четыре ждите звонок пожалуйста, пожалуйста свидания')"
   ]
  },
  {
   "cell_type": "code",
   "execution_count": null,
   "metadata": {},
   "outputs": [],
   "source": [
    "a = 'hello world'\n",
    "a[:3]"
   ]
  },
  {
   "cell_type": "code",
   "execution_count": null,
   "metadata": {},
   "outputs": [],
   "source": [
    "#df.text.iloc()[3]"
   ]
  },
  {
   "cell_type": "markdown",
   "metadata": {},
   "source": [
    "# DELETE"
   ]
  },
  {
   "cell_type": "code",
   "execution_count": null,
   "metadata": {},
   "outputs": [],
   "source": [
    "# delete\n",
    "query = \"DELETE from summarization;\"\n",
    "conn = ms_sql_con()  \n",
    "#cursor = conn.cursor()\n",
    "#cursor.execute(query)"
   ]
  },
  {
   "cell_type": "code",
   "execution_count": null,
   "metadata": {},
   "outputs": [],
   "source": [
    "tx = \"Statesman's Dilemma (Стандард) (США) (английский) (на английском языке) (в переводе на русский) (с английской буквы «С» — «С») (СССР) (далее — США) (Атлант) (КНР) (Англия) (Британия) (Нью-Йорк) (Великобритания, Канада) (Боснийская) (Монголия)\""
   ]
  },
  {
   "cell_type": "code",
   "execution_count": null,
   "metadata": {},
   "outputs": [],
   "source": [
    "tx.replace(\"'\",\"\").replace('\"','')"
   ]
  },
  {
   "cell_type": "code",
   "execution_count": null,
   "metadata": {},
   "outputs": [],
   "source": [
    "side = 0\n",
    "query = \"SELECT text, source_id from transcribations where \"\n",
    "query += \" side=\"+str(side)+\" and \"\n",
    "#query += \" record_date = '\"+str(record_date)+\"' and \"\n",
    "query += \" linkedid = '1622799198.236534';\"\n",
    "text_df = read_sql(query)\n",
    "phrases_count = len(text_df)\n",
    "text_full = ', '.join([row.text for _id, row in text_df.iterrows()])\n",
    "text_full, phrases_count, min(text_df.source_id)"
   ]
  },
  {
   "cell_type": "code",
   "execution_count": null,
   "metadata": {},
   "outputs": [],
   "source": [
    "# update summarization field"
   ]
  },
  {
   "cell_type": "code",
   "execution_count": null,
   "metadata": {},
   "outputs": [],
   "source": [
    "query = \"SELECT distinct\"\n",
    "query += \" summarization.record_date, summarization.linkedid, transcribations.source_id\"\n",
    "query += \" from summarization\"\n",
    "query += \" inner join transcribations on\"\n",
    "query += \" summarization.record_date = transcribations.record_date and\"\n",
    "query += \" summarization.linkedid = transcribations.linkedid\"\n",
    "query += \" where \"\n",
    "query += \" isnull(summarization.source_id,-1)=-1;\"\n",
    "df = read_sql(query)\n",
    "len(df)"
   ]
  },
  {
   "cell_type": "code",
   "execution_count": null,
   "metadata": {},
   "outputs": [],
   "source": [
    "# 13518"
   ]
  },
  {
   "cell_type": "code",
   "execution_count": null,
   "metadata": {},
   "outputs": [],
   "source": [
    "prgBar = IntProgress(min = 0, max = len(df))\n",
    "display(prgBar)\n",
    "for _id, row in df.iterrows():\n",
    "    query = \"update summarization set source_id = '\"+str(row.source_id)+\"' where \"\n",
    "    query += \" record_date = '\"+str(row.record_date)+\"' and\"\n",
    "    query += \" linkedid = '\"+str(row.linkedid)+\"';\"    \n",
    "    conn = ms_sql_con()  \n",
    "    cursor = conn.cursor()\n",
    "    cursor.execute(query)   \n",
    "    prgBar.value = prgBar.value + 1"
   ]
  },
  {
   "cell_type": "code",
   "execution_count": null,
   "metadata": {},
   "outputs": [],
   "source": [
    "query = \"SELECT * from summarization where \"\n",
    "query += \" load_msk = 1;\"\n",
    "df = read_sql(query)\n",
    "len(df)"
   ]
  },
  {
   "cell_type": "markdown",
   "metadata": {},
   "source": [
    "### quality upgrade"
   ]
  },
  {
   "cell_type": "code",
   "execution_count": 11,
   "metadata": {},
   "outputs": [],
   "source": [
    "linkedid = '1623647930.137017'"
   ]
  },
  {
   "cell_type": "code",
   "execution_count": 12,
   "metadata": {},
   "outputs": [
    {
     "data": {
      "text/html": [
       "<div>\n",
       "<style scoped>\n",
       "    .dataframe tbody tr th:only-of-type {\n",
       "        vertical-align: middle;\n",
       "    }\n",
       "\n",
       "    .dataframe tbody tr th {\n",
       "        vertical-align: top;\n",
       "    }\n",
       "\n",
       "    .dataframe thead th {\n",
       "        text-align: right;\n",
       "    }\n",
       "</style>\n",
       "<table border=\"1\" class=\"dataframe\">\n",
       "  <thead>\n",
       "    <tr style=\"text-align: right;\">\n",
       "      <th></th>\n",
       "      <th>record_date</th>\n",
       "    </tr>\n",
       "  </thead>\n",
       "  <tbody>\n",
       "    <tr>\n",
       "      <th>0</th>\n",
       "      <td>2021-06-14 08:18:52</td>\n",
       "    </tr>\n",
       "  </tbody>\n",
       "</table>\n",
       "</div>"
      ],
      "text/plain": [
       "          record_date\n",
       "0 2021-06-14 08:18:52"
      ]
     },
     "execution_count": 12,
     "metadata": {},
     "output_type": "execute_result"
    }
   ],
   "source": [
    "query = \"SELECT top 1 record_date from transcribations where \"\n",
    "query += \" linkedid = '\"+linkedid+\"';\"\n",
    "df = read_sql(query)\n",
    "df"
   ]
  },
  {
   "cell_type": "code",
   "execution_count": 17,
   "metadata": {},
   "outputs": [],
   "source": [
    "text_full, phrases_count = concatenate_linkedid_side(\n",
    "    side = 1, \n",
    "    record_date = '2021.06.14 8:18:52',\n",
    "    linkedid = '1623647930.137017'\n",
    ")"
   ]
  },
  {
   "cell_type": "code",
   "execution_count": 43,
   "metadata": {},
   "outputs": [
    {
     "data": {
      "text/plain": [
       "'и единая служба сервиса оператор ноэля оставаться, день дом, основном, да у аверченко одном сорок девять, он закреплён заявка, даже не смотрел совершенно крепится татьяна так проверяем беловежская сорока девять квартира семьдесят девять два телефона девятьсот шестнадцать девяносто восемь тридцать девять шестьдесят и городской четыреста сорок шесть двадцать два пятьдесят девять, новый номер заявки запишите повторно по гарантии на ремонт сто пятьдесят девять, девяносто два, тридцать четыре, после девяти ожидаете звонок мастера цыплята права'"
      ]
     },
     "execution_count": 43,
     "metadata": {},
     "output_type": "execute_result"
    }
   ],
   "source": [
    "text_full"
   ]
  },
  {
   "cell_type": "code",
   "execution_count": 26,
   "metadata": {},
   "outputs": [
    {
     "data": {
      "text/plain": [
       "'и единая служба сервиса оператор ноэля оставаться, день дом, основном, да у аверченко одном он закреплён заявка, даже не смотрел совершенно крепится татьяна так проверяем беловежская квартира телефона и городской новый номер заявки запишите повторно по гарантии на ремонт после ожидаете звонок мастера цыплята права '"
      ]
     },
     "execution_count": 26,
     "metadata": {},
     "output_type": "execute_result"
    }
   ],
   "source": [
    "text_dropped = ''\n",
    "drop_words = ['один',\n",
    "              'два',\n",
    "              'четыр',\n",
    "              'пять',\n",
    "              'пятнад',\n",
    "              'шесть',\n",
    "              'семь',\n",
    "              'восем',\n",
    "              'девят',\n",
    "              'десят',\n",
    "              'одинадцат',\n",
    "              'двенадцат',\n",
    "              'тринадцат',\n",
    "              'шестнад',\n",
    "              'семнад',\n",
    "              'тридцат',\n",
    "              'сорок',\n",
    "              'девяност',\n",
    "              'сто',\n",
    "              'двест',\n",
    "              'трист'\n",
    "             ]\n",
    "text_dropped = ''\n",
    "for word in text_full.split(' '):\n",
    "    word_ok = True\n",
    "    for drop in drop_words:\n",
    "        if drop in word:\n",
    "            word_ok = False\n",
    "            break\n",
    "    if word_ok:\n",
    "        text_dropped += word+' '\n",
    "text_dropped"
   ]
  },
  {
   "cell_type": "code",
   "execution_count": 32,
   "metadata": {},
   "outputs": [
    {
     "data": {
      "text/plain": [
       "('и единая служба сервиса оператор ноэля оставаться, день дом, основном, да у аверченко одном он закреплён заявка, даже не смотрел совершенно крепится татьяна т',\n",
       " 'ак проверяем беловежская квартира телефона и городской новый номер заявки запишите повторно по гарантии на ремонт после ожидаете звонок мастера цыплята права ')"
      ]
     },
     "execution_count": 32,
     "metadata": {},
     "output_type": "execute_result"
    }
   ],
   "source": [
    "text_dropped[:int(len(text_dropped)/2)], text_dropped[int(len(text_dropped)/2):]"
   ]
  },
  {
   "cell_type": "code",
   "execution_count": 49,
   "metadata": {},
   "outputs": [
    {
     "data": {
      "text/plain": [
       "'В Беловежской области произошла авария, в результате которой погибли пять человек, в том числе двое детей.'"
      ]
     },
     "execution_count": 49,
     "metadata": {},
     "output_type": "execute_result"
    }
   ],
   "source": [
    "text_short = summarize(text_full, phrases_count)\n",
    "text_short"
   ]
  },
  {
   "cell_type": "code",
   "execution_count": 51,
   "metadata": {},
   "outputs": [
    {
     "name": "stdout",
     "output_type": "stream",
     "text": [
      "y\n"
     ]
    },
    {
     "data": {
      "text/plain": [
       "'k'"
      ]
     },
     "execution_count": 51,
     "metadata": {},
     "output_type": "execute_result"
    }
   ],
   "source": [
    "wrong_words = ['погиб']\n",
    "for wrong in wrong_words:\n",
    "    if wrong in text_short:\n",
    "        print('y')\n",
    "'k'"
   ]
  },
  {
   "cell_type": "code",
   "execution_count": 56,
   "metadata": {},
   "outputs": [
    {
     "data": {
      "text/plain": [
       "True"
      ]
     },
     "execution_count": 56,
     "metadata": {},
     "output_type": "execute_result"
    }
   ],
   "source": [
    "'в р' in text_short"
   ]
  },
  {
   "cell_type": "code",
   "execution_count": 48,
   "metadata": {},
   "outputs": [
    {
     "data": {
      "text/plain": [
       "'Эксперты считают, что ремонтные работы в московских квартирах, в том числе и в новостройках, должны быть выполнены в соответствии с запланированными сроками, а не по инициативе владельцев.'"
      ]
     },
     "execution_count": 48,
     "metadata": {},
     "output_type": "execute_result"
    }
   ],
   "source": [
    "text_short = summarize(text_full, phrases_count)\n",
    "\n",
    "wrong_words = ['погиб']\n",
    "for wrong in wrong_words:\n",
    "    if wrong in text_short:\n",
    "        text_short = summarize(text_full.replace(',',''), phrases_count)\n",
    "        break\n",
    "\n",
    "for wrong in wrong_words:\n",
    "    if wrong in text_short:\n",
    "        text_short = text_full[:1023]\n",
    "        break\n",
    "text_short"
   ]
  },
  {
   "cell_type": "code",
   "execution_count": 46,
   "metadata": {},
   "outputs": [
    {
     "data": {
      "text/plain": [
       "'и единая с'"
      ]
     },
     "execution_count": 46,
     "metadata": {},
     "output_type": "execute_result"
    }
   ],
   "source": [
    "text_full[:10]"
   ]
  },
  {
   "cell_type": "code",
   "execution_count": 41,
   "metadata": {},
   "outputs": [
    {
     "data": {
      "text/plain": [
       "'Эксперты считают, что ремонтные работы в московских квартирах, в том числе и в новостройках, должны быть выполнены в соответствии с запланированными сроками, а не по инициативе владельцев.'"
      ]
     },
     "execution_count": 41,
     "metadata": {},
     "output_type": "execute_result"
    }
   ],
   "source": [
    "text_short = summarize(text_full.replace(',',''), phrases_count)\n",
    "text_short"
   ]
  },
  {
   "cell_type": "code",
   "execution_count": 39,
   "metadata": {},
   "outputs": [
    {
     "data": {
      "text/plain": [
       "'В ноябре прошлого года оператор ноэля работал в Санкт-Петербурге и Ленинградской области, а также в Москве и Санкт-Петербургской области.'"
      ]
     },
     "execution_count": 39,
     "metadata": {},
     "output_type": "execute_result"
    }
   ],
   "source": [
    "text_short = summarize(text_dropped[:int(len(text_dropped)/2)].replace(',', ''), phrases_count)\n",
    "text_short"
   ]
  },
  {
   "cell_type": "markdown",
   "metadata": {},
   "source": [
    "# reports"
   ]
  },
  {
   "cell_type": "code",
   "execution_count": 64,
   "metadata": {},
   "outputs": [
    {
     "name": "stdout",
     "output_type": "stream",
     "text": [
      "и\n",
      "Скажите пожалуйста, у меня плита в квартире не индезит из-за того, что я не успела сделать диагностику.\n",
      "На днях у нас произошла неисправность газовой плиты у нас был мастер, который чинил конфорку само, он сказал, что надо заказывать, но я не знаю, сколько это будет стоить.\n",
      "и, мама, да а вы откуда с какой шотландка, лазер кэш уже отменял, но я буду новость в том что передумал, да ел я уже нового буду на образном на эти закрыть рот запёкся, да я уже позвонил к вам, служба уже отменил заказ, да да спасибо\n",
      "алло а это значит холодильника мастер, это альберт, а почему опьянели, хотели новых купите новых, а ты чётко, так все решила сосну\n",
      "и\n",
      "и, и, э, э, э, и, и\n",
      "и, и, э\n",
      "Российский оператор наталья роста цен, который работает на московском рынке холодильников, рассказал, что с ним случилось.\n",
      "Российские мастера по ремонту холодильника, бош, бытовой техники, которые работают в Москве и Подмосковье, предлагают свои услуги.\n",
      "и\n",
      "и\n",
      "и\n",
      "и, здравствуйте\n",
      "и\n",
      "и, алло, но привозите я думаю сами доставим, да\n",
      "Statesman, добрый день. Хочу спросить у тебя про дверку в холодильнике.\n"
     ]
    }
   ],
   "source": [
    "query = \"SELECT * from summarization where sum_date>'2021.06.18 09:19:50' and not text='' order by sum_date desc;\"\n",
    "df = read_sql(query)\n",
    "for id, row in df.iterrows():\n",
    "    print(row.text)"
   ]
  },
  {
   "cell_type": "code",
   "execution_count": 65,
   "metadata": {},
   "outputs": [
    {
     "name": "stdout",
     "output_type": "stream",
     "text": [
      "вокале здравствуйте я могу отменить свой заказ, да да да, ну просто у нас запланирована другому погибнуть поездка из москвы поэтому не смогу встретить да, уже, пока не надо потому что мы едем в отпуск я не знаю когда мы приедем\n",
      "В санкт-петербурге произошла авария с газовой плитой аристон, в которой погибли три человека, в том числе двое детей.\n",
      "Волгоградский проспект, 12 мая, в рамках подготовки к чемпионату мира по хоккею с мячом попал в аварию, в результате чего погибли четыре человека, в том числе двое детей.\n",
      "В конце месяца у нас на даче произошла авария, в результате которой погибли пять человек, в том числе двое детей.\n",
      "В Зеленограде произошла крупная авария, в которой погибли два человека, в том числе двое детей. Причины произошедшего пока неизвестны, но есть предположения, что авария могла произойти из-за халатности мастера.\n",
      "В индийском городе ростове на северо-западе Индии произошла крупная авария, в результате которой погибли три человека, в том числе и я.\n",
      "Накануне ремонта холодильника у нас произошла небольшая авария, в результате которой погибли четыре человека, в том числе двое детей.\n",
      "На днях у нас произошла авария, в которой погибли три человека, в том числе и я, и двое детей.\n",
      "В светлане произошла крупная авария, в которой погибли два человека, в том числе двое детей. Причины произошедшего неизвестны, но есть предположения, что причиной аварии могла стать некачественная диагностика.\n",
      "На днях у нас произошла небольшая авария, в результате которой погибли три человека, в том числе и я, и двое детей.\n",
      "В квартире, где я живу, произошла авария, в которой погибли четыре человека, в том числе и я, и двое детей. Я не знаю, как это произошло, но, как я понял, это произошло из-за того, что у меня одна кнопка, а ручками, но когда газ включаете, вы сейчас получается полностью обесточили всю квартиру, национальное просто захвачены как раз переживал за вас, деталей, плюс минус километр и ну, где-то наверное от трёх до, если это кнопки и если это блог, до шести тысяч, мог блога закоротить потому что нужно.\n",
      "В москве произошла авария с магнитиками роджерс, в которой погибли три человека, в том числе двое детей.\n",
      "На днях у нас произошла небольшая авария, в которой погибли два человека, в том числе и я.\n",
      "В райкинском районе произошла авария, в результате которой погибли четыре человека, в том числе двое детей.\n",
      "Накануне диагностики у нас произошла крупная авария, в результате которой погибли пять человек, в том числе двое детей.\n",
      "Statesman.com опубликовала в своем официальном аккаунте видеозапись, на которой была зафиксирована авария, в результате которой погибли пять человек, в том числе двое детей.\n",
      "ну это опять по поводу холодильника майстер то погиб подъедет мастер там где торт кальтеру что с часу до трёх вот в этом промежутке да, все дети всего хорошего до свидания\n",
      "На днях у нас произошла небольшая авария, в которой погибли три человека, в том числе и я, и двое детей.\n",
      "В тухачевском сервисе по ремонту стиральной машинки произошла авария, в которой погибли пять человек, в том числе двое детей.\n",
      "В турецком Стамбуле произошла очередная авария, в которой погибли три человека, в том числе двое детей.\n",
      "Российский телевизионный мастер, который работает в московском офисе телекоммуникационной компании «Авангард» в Москве, рассказал о том, что в его квартире произошла авария, в результате которой погибли пять человек, в том числе двое детей.\n",
      "В аэропорту Домодедово в пятницу, 3 марта, в рамках подготовки к новому сезону, был зафиксирован случай, когда в здании аэропорта произошла авария, в результате которой погибли четыре человека, в том числе двое детей. Причины произошедшего пока не называются.\n",
      "Накануне ремонта в квартире у нас произошла авария, в которой погибли три человека, в том числе и я, и двое детей.\n",
      "В санкт-петербурге произошла авария с айслером, в результате чего один человек погиб, еще один получил травму.\n",
      "В Рафале произошла крупная авария, в результате которой один человек погиб, еще один получил ранения.\n",
      "В одном из московских автосалонах, где я покупал тео, произошла авария, в которой погибли четыре человека, в том числе и я.\n",
      "В одном из московских офисов сантехники произошла авария, в результате которой погибли четыре человека, в том числе двое детей.\n",
      "Statesman.ru начинает публиковать объявления о том, что в Москве произошла авария, в результате которой один человек погиб, еще один получил травму, в том числе и сам мастер.\n",
      "В красносельском крае произошла авария с стиральной машиной, в результате которой погибли три человека, в том числе двое детей.\n",
      "В светлане произошла крупная авария, в результате которой погибли четыре человека, в том числе двое детей. По предварительным данным, причиной трагедии стала плохая вентиляционная отопительная система.\n",
      "В норвежском городе Хельсинки произошла крупная авария, в результате которой погиб один человек, в том числе и я.\n",
      "В серебрянской области произошла очередная авария с участием холодильника, в которой погибли четыре человека, в том числе и я.\n",
      "В одном из московских районов произошла авария с участием швейных машин, в результате которой погибли пять человек, в том числе и сам павел примак.\n",
      "В москве произошла авария, в которой погибли три человека, в том числе двое детей, а один из них погиб в результате несчастного случая. Причиной трагедии стало то, что оператор наталья трахаться, женятся вас очень пафосно, да оказаться плита, она не на гарантии, а на газовое электрическое, стеклокерамика, а что сослаться, он сказал в плите дело-то, в москеве находитесь, я могу предложить вызвать мастера на сегодня.\n",
      "В Зеленограде произошла очередная авария с участием оператора мобильной связи, в результате которой погибли четыре человека, в том числе двое детей. Причины произошедшего неизвестны, но, скорее всего, авария была связана с человеческим фактором.\n",
      "В театре «Ирис» в волжской набережной произошла авария, в результате которой погибли два человека, в том числе и я.\n",
      "На днях у нас произошла крупная авария, в результате которой погибли три человека, в том числе и я.\n",
      "В санкт-петербурге произошла авария, в результате которой погибли три человека, в том числе и оператор татьянин. При звоне на номер магните посмотрите три цифры верхнем правом углу, улица какая у вас улицей дом, метро ближайшими подскажете, но на машине телефон контактный притоки пожалуйста, как вас зовут кого спросить, проверим телефонов девятьсот шестьдесят два семьсот восемь ноль один восемь три евгения будапеште, семьдесят четыре подъезд этаж квартира давайте внесу, сначала звонок хорошо, ожидайте в течение одного часа мастер перезвонит вам спасибо.\n",
      "В квартире, в которой я живу, недавно произошел крупный пожар, в котором погибли пять человек, в том числе двое детей.\n",
      "В ростовском областном центре произошла крупная авария, в которой погибли три человека, в том числе и я.\n",
      "В индийском городе Мумбаи произошла авария, в результате которой погибли пять человек, в том числе двое детей.\n",
      "Российские водители, если кто-то из них попадет в аварию, могут погибнуть, а если нет, то только до пульта, так что будьте внимательнее.\n",
      "В томасе, в том числе и в Москве, произошла авария, в результате которой погибли три человека, а один из них был госпитализирован с серьезными травмами.\n",
      "В городе Череповце произошла авария, в результате которой погибли четыре человека, в том числе двое детей. Причины произошедшего пока не называются, но, скорее всего, это произошло из-за халатности оператора ольги.\n",
      "В квартире, где я живу, недавно произошла авария, в результате которой погибли три человека, в том числе и я, и двое моих знакомых.\n",
      "погиб\n",
      "В театре «Екатерина Великая» произошла авария, в результате которой погибли два человека, в том числе двое детей.\n",
      "В москве произошла авария, в которой погибли три человека, в том числе и сам водитель, он был госпитализирован в больницу с сильнейшей травмой головы.\n",
      "В москве наследственный москвич попал в аварию, в результате чего погибли три человека, в том числе двое детей.\n",
      "В москве или московской области, в Москве или Подмосковье, в ближайшее время произошла авария, в результате которой погибли три человека, в том числе и сам оператор.\n",
      "В пятницу у меня произошла авария, в результате которой погибли три человека, в том числе и я.\n",
      "ging.dnevnik.ru отреагировал на сообщение о том, что мастер по сантехники петров михаил, вода нагревается, я сейчас посмотрю в прайсе не помню он отгрузки не могу брать поменялся, просто у меня был полон всегда на машину написано ж сейчас граммах, шик, пять четыреста хэзер, я тогда пока отказ поставлю, погибнуть до свидания.\n",
      "Statesman.ru подводит итоги ремонта квартиры в красноуральске. На прошлой неделе у нас произошла авария, в результате которой погибли три человека, в том числе и я.\n",
      "В сервисном центре «Здрасте» в москве, где я работаю, произошла крупная авария, в которой погибли три человека, в том числе и я, а у меня разбилось стекло.\n",
      "В кинотеатре «Вавилов» произошла крупная авария, в результате которой погибли пять человек, в том числе и сам директор.\n",
      "В одном из московских сервисных центров произошла авария с плитой, в результате которой погибли три человека, в том числе двое детей. Причины произошедшего неизвестны, но, скорее всего, произошел брак переключателя.\n",
      "Накануне диагностики газовой трубы у нас произошла авария, в результате которой погибли два человека, в том числе и я, и мой муж, а труба там одна труба будет меняться да, как и этот кокс стоит, две тысячи а работа, ну ладно мухин меня муж отругал сказал позвони и откажись от услуг, а быть за сто рублей должны на телефончик скиньте тогда, все тогда завтра не приезжайте мы ждать не будем до свидания.\n",
      "В жуковском СИЗО «Матросская Тишина» в четверг, 11 марта, состоялась акция протеста против мошенничества в интернете, в результате которой погибли пять человек, в том числе и я.\n",
      "В карельском районе Карельской области произошла авария, в которой погибли четыре человека, в том числе двое детей. Причиной аварии стала неисправность компьютера.\n",
      "Statesmans Cup попал в аварию на северо-западе России, в результате чего погибли четыре человека, в том числе и сам президент страны Владимир Путин. Причины аварии пока не называются, но есть вероятность, что компрессор упал из-за того, что он не выдержал температуру в морозилке.\n",
      "В квартире, где я живу, у нас в доме недавно произошла авария, в результате которой погибли двое человек, в том числе и я, и двое сестры.\n",
      "В одном из московских районов произошла авария, в результате которой погибли четыре человека, в том числе двое детей. Причины произошедшего пока не называются, но, скорее всего, это произошло из-за халатности оператора.\n",
      "В краматорском крае произошла очередная авария, в которой погибли три человека, в том числе и я.\n",
      "Российский специалист по установке кондиционеров, который уже несколько лет работает в Москве, рассказал, что в его квартире произошла авария, в результате чего один человек погиб, еще один получил травму.\n",
      "В одесском скотту франсуа как звонить, одиннадцатый этаж, код папа ещё раз повторюсь, тридцать семь, ключ, сорок, три muoi семь, от пяти до восьми звонка больше не будет ждать когда погибли, да позвоните пожалуйста за полчаса, а скажите пожалуйста ещё вот диагностики от и до, собирать, понятно спасибо, счетами.\n",
      "Накануне продажи катера ксения у нас произошла небольшая авария, в результате которой погибли три человека, в том числе и сам катер.\n",
      "В одном из московских районов произошла крупная авария, в которой погибли три человека, в том числе и я.\n",
      "На днях у нас произошла очередная авария с участием кошек, в результате чего одна из них погибла, а другая скончалась. Как это произошло, я до сих пор не знаю.\n",
      "В марте у нас произошла крупная авария, в которой погибли три человека, в том числе и я, и двое детей, а у меня был сломан ремень, и я хотела с ним посоветоваться, но он у нас два раза чинил машину и сказал, что она на семьдесят процентов будет работать все хорошо, и только кладите белья немного там допустим пододеяльник просто короче говоря она перестала отжимать, но это я сейчас посмотрела он был у нас в конце апреля, я малость стирала потому что я все сомневалась стоит ли мест, пожалуйста, восемь четыре девять девять, сто тридцать восемь, пять один пять один, и что как быть, да дом сен квартира сорок пять, да\n",
      "В санкт-петербурге произошла крупная авария, в результате которой погибли три человека, в том числе и я.\n",
      "В пятницу, 3 марта, в квартире у нас произошла авария, в результате которой погибли три человека, в том числе и я, и двое детей.\n",
      "В Москве в рамках подготовки к чемпионату мира по хоккею с мячом произошел крупный пожар, в результате которого погибли четыре человека, в том числе двое детей. Причины произошедшего неизвестны.\n",
      "В балахнинском сервисе по ремонту техники произошла авария, в которой погибли два человека, в том числе двое детей. Причиной аварии стало то, что мастер не смог дозвониться до оператора.\n",
      "В Рафаэле произошла авария, в результате которой погибли три человека, в том числе двое детей.\n",
      "В квартире царя и комфорта погибла варочная панель фирмы нарды, которая работала, всё выключить соответственно, сенсорные кнопок соответственно в области от этих сенсорных кнопок она как заискрило затрещала пошёл дымок из-под варочной панели соответственно царя, при этом продолжала работать, как-то вот так, с часу до трёх хорошо, да, подъезд второй, десятый этаж второй, триста двадцать четыре, по квартире, на котором погибла.\n",
      "На днях у меня в доме произошла авария, в результате которой погибли три человека, в том числе и я.\n",
      "В сервисном центре ольга, который работает в Москве и Московской области, произошла очередная авария, в которой погибли три человека, в том числе и я.\n",
      "В ростовском областном центре произошла очередная авария, в которой погибли три человека, в том числе и я.\n",
      "В кронштадтском отделе контроля единой службы сервиса произошла авария, в результате которой погибли два человека, в том числе и я.\n",
      "В квартире, где я живу, произошла крупная авария, в которой погибли три человека, в том числе и я, в квартире был разморожен холодильник.\n",
      "В санкт-петербурге произошла авария, в которой погибли три человека, в том числе двое детей.\n",
      "В общем-то я не знаю, как вы, но я знаю, что на данный момент у нас в городе очень много металлических труб, в том числе и в Москве, и в ближайшее время они будут металлическими, так что если кто-то из них попадет в строящуюся трубу, то он может погибнуть, а если нет, то может и не погиб.\n",
      "В москве произошла крупная авария, в результате которой погибли пять человек, в том числе двое детей. Причиной аварии стала неисправность люксовой носки в квартире.\n",
      "В квартире у нас произошла авария, в которой погибли три человека, в том числе и я, и двое детей.\n",
      "В Челябинске произошла авария, в результате которой погибли два человека, в том числе и водитель.\n",
      "В сервисе сервиса мастера владимира, который занимается ремонтом и обслуживанием легковых автомобилей в городе, произошла небольшая авария, в результате которой погибли три человека, в том числе и водитель, который был госпитализирован в больницу с серьезными травмами.\n",
      "В квартире, где я живу, произошла авария, в которой погибли три человека, в том числе и я.\n",
      "С кондиционером у нас произошла небольшая авария, в результате чего один человек погиб, еще один получил травму.\n",
      "В Москве произошла очередная крупная авария, в которой погибли три человека, в том числе и сам оператор единой службы сервиса оператор елена. Причиной аварии стало то, что айсберг на английском пишется не через, потом вы, и с точкой дальше как наша аэс, е, б да, б е, р г, точка ру, да здание.\n",
      "В сервисном центре «Мегафон» произошла авария, в результате которой один человек погиб, еще один получил травму.\n",
      "В одном из московских домов, в котором я жил последние три года, произошла авария, в результате которой погибли четыре человека, в том числе и я.\n",
      "В квартире, где мы живем, произошла авария, в которой погибла плита.\n",
      "В одном из московских офисов «Евросеть» произошла крупная авария, в результате которой один человек погиб, еще один получил ранения.\n",
      "В омской тринадцатой холодильнике произошла небольшая авария, в которой погибли два человека, в том числе и я, и двое детей.\n",
      "На днях у нас произошла крупная авария, в которой погибли четыре человека, в том числе двое детей.\n",
      "В деревне кольца гордиевского произошла авария с стиральной машиной, в результате которой погибли пять человек, в том числе двое детей.\n",
      "На днях у нас произошла авария, в результате которой погибли три человека, в том числе и я.\n",
      "«Светлана» — один из самых известных в России сервисов по ремонту электроники, в том числе и в России. В последнее время в светланском сервисе все чаще возникают проблемы с обслуживанием электроники. В частности, в этом году в светлане произошла массовая авария, в результате которой погибли три человека.\n",
      "В москве произошла крупная авария, в результате которой погибли пять человек, в том числе двое детей.\n",
      "В одном из московских районов на северо-западе калифорнийской области произошла авария, в результате которой погибли три человека, в том числе и я.\n",
      "В одинцовском районном центре произошла авария, в результате которой один человек погиб, еще один получил ранения.\n",
      "В москве произошла авария с напольным кондиционером, в результате чего один человек погиб, еще двое получили ранения, в том числе двое детей.\n",
      "В центре хват рома операторов «Трифон» произошла авария, в результате которой погибли три человека, в том числе двое детей. Причины произошедшего я не знаю, но, скорее всего, это произошло из-за того, что на месте аварии не было коммуникаций.\n",
      "В москве произошла крупная авария с участием одного из операторов мобильной связи, в результате которой погибли пять человек, в том числе двое детей.\n",
      "В москве произошла авария с участием видеорегистратора, в результате чего один человек погиб, еще один получил травму.\n",
      "В пятигорске у меня произошла авария, в которой погибли три человека, в том числе и я, и двое детей.\n",
      "В четверг, 11 марта, в московском метрополитене произошла авария, в которой погибли пять человек, в том числе двое детей. По предварительным данным, причиной аварии стала неисправность автомобиля.\n",
      "Germany, тайлер, здравствуйте вот камнями сахар, твой друг погиб должен приехать можно разметить качестве он не приезжал, мы подчинили экран, восемь девятьсот восемьдесят восемь, девять девять четыре, семьдесят шесть надо дин, да да отвезите пожалуйста заказ, а потому что подчинились самостоятельно, спасибо.\n",
      "На днях у меня произошла авария, в результате которой погибли три человека, в том числе и я.\n",
      "В Москве произошла авария, в результате которой погибли два императора, в том числе и сам император.\n",
      "На днях у нас произошла небольшая авария, в которой погибли три человека, в том числе и я.\n",
      "На днях у нас произошла крупная авария, в результате которой погибли три человека, в том числе двое детей, а один из них скончался.\n",
      "В светлане произошла авария, в которой погибли два человека, в том числе и я, и двое детей. Причины произошедшего я не знаю, но уверяю, что это была авария из-за неисправности электронного оборудования.\n",
      "В одном из московских районов произошла крупная авария, в результате которой погибли три человека, в том числе и пенсионерка.\n",
      "В нижегородской области произошла серьезная авария, в результате которой погибли четыре человека, в том числе двое детей. Причины произошедшего пока не называются.\n",
      "В санкт-петербурге произошла авария с магнитиками, в результате чего один человек погиб, еще один получил травму.\n",
      "В квартире, где я живу, произошла авария, в которой погибли три человека, в том числе и я.\n",
      "В Санкт-Петербурге произошла крупная авария, в которой погибли четыре человека, в том числе двое детей, в одной из московских квартир.\n",
      "В городе нижнем новгороде, который находится в центре Москвы, на северо-западе Москвы, в районе станции метро «Олимпийская» зафиксирована авария, в результате которой погибли пять человек, в том числе двое детей. Позже выяснилось, что авария произошла из-за неисправности диагностического оборудования.\n",
      "В микроволновой печи погиб борту механика, который приходил к нам, о платим сам о, микроволновую печи, девятьсот двадцать ноль шестнадцать тем три, пять, то по какому поводу, да да, он погиб, нужно просто над ним, мы с ним договаривались что он ещё подойдёт сюда значит там кое-какие вопросы остались, об, вас понял.\n",
      "В москве произошла крупная авария, в результате которой погибли три человека, в том числе и оператор светлана.\n",
      "В москве произошла авария с магнитной гортань, в результате чего один человек погиб, двое получили ранения, в том числе двое детей.\n",
      "В москве произошла авария, в которой погибли четыре человека, в том числе двое детей, в одной из московских квартир. Причиной аварии стала неисправность лифта.\n",
      "В раменском районе произошла авария, в результате которой один человек погиб, еще один получил травму, в том числе и водитель, который был госпитализирован в больницу. Причины произошедшего пока не называются, но, скорее всего, это произошло из-за того, что мастер не смог дозвониться до места происшествия до сих пор не найден.\n",
      "Накануне установки стиральной машинки у нас произошла авария, в которой погибли пять человек, в том числе двое детей.\n",
      "В одном из районов Тушино произошла крупная авария, в результате которой погиб один человек, в том числе и я, а еще один человек погиб в результате происшествия.\n",
      "В одном из московских районов произошла крупная техническая авария, в результате которой погибли пять человек, в том числе и оператор катериной ростовой.\n",
      "В четверг в санкт-петербурге в рамках подготовки к чемпионату мира по хоккею с мячом был зафиксирован случай, когда в одной из московских квартир произошла авария, в которой погибли пять человек, в том числе двое детей.\n",
      "В пятницу, 13 марта, в Москве, на северо-западе Москвы, в «Киевском шоссе» произошла крупная авария, в результате которой погибли пять человек, в том числе и сам мастер по ремонту телевизоров.\n",
      "В квартире, где мы живем, недавно произошла авария, в результате которой погибли три человека, в том числе и я.\n",
      "В сервисе «Дарья» произошла авария, в результате которой погибли четыре человека, в том числе двое детей. Оператор сервиса дарья не смог дозвониться до тех пор, пока заявочку оставляли на ремонт.\n",
      "Накануне установки дверей в квартире у нас произошла небольшая авария, в результате которой погибли пять человек, в том числе двое детей.\n",
      "В пятницу, 23 августа, в городе произошел сильный дождь, в результате чего один человек погиб, еще один получил ранения, в том числе двое детей.\n",
      "В доме стиральных машин, в котором я проживаю, произошла авария, в результате которой погибли два человека, в том числе и я.\n",
      "В люберецком районе произошла крупная авария, в результате которой один человек погиб, еще один получил травму.\n",
      "В частном доме в Москве произошла крупная авария, в результате которой один человек погиб, еще один получил травму.\n",
      "В москве произошла авария, в которой погибли три человека, в том числе и двое детей, а один из них сам погиб. Причиной аварии стало то, что заявка на ремонт плиты была приостановлена из-за того, что гарантийный срок сдвинулся с четырнадцати до четырнадцать дней.\n",
      "В сервисе ноэля, где я сейчас работаю, произошла авария, в которой погибли два человека, в том числе и я.\n",
      "На днях у меня был заменён антон се трудовая шей, она была замечена мне в одном из кладбищ в Москве, у нее двоюродная сестра погибла от наркотиков, и она рассказала мне, что она боевая, и что ей не по барабану с крестовиной оптоэлектроники.\n",
      "Российский автомобильный гонщик сергей попал в аварию в костромской деревне, в результате чего погибли три человека, в том числе и сам сергей.\n",
      "В квартире, где мы живем, у нас на юго-западе Москвы, произошла авария, в результате которой погибли три человека, в том числе и я, и двое детей.\n",
      "В москве произошел крупный пожар, в результате которого погибли четыре человека, в том числе двое детей.\n",
      "В филёвской на северо-западе Москвы, недалеко от станции метро «Олимпийская», расположена квартира, в которой, по словам одного из владельцев, произошла авария, в результате которой погибли четыре человека, в том числе двое детей. Причины произошедшего пока не называются.\n",
      "Российские мастера, которые ездят по объектам и дают заявки на оказание помощи в Москве, недовольны тем, что они говорят, что массе погиб сегодня мастер нет, к чему, мы видим это очень странно, а кто может счастлив, никто не может а вашей фирмой даются заявки что вы можете, девушка я вождях сети ведь тиг пообещал он не пришёл, девушка а вы там к, вы вообще не в этой фирме вообще либо писавшая сальника тьмы.\n",
      "В санкт-петербурге произошла крупная авария, в которой погибли три человека, в том числе двое детей. Позвонив в службу сервиса оператора юлии, она сообщила, что с восьми они обзванивают клиентов с восьми до девяти и не видят на потолке соединения счётчиков полотенцесушителя.\n",
      "В одном из московских районов произошла авария, в результате которой один человек погиб, еще один получил ранения.\n",
      "В мытищах произошла крупная авария, в результате которой погибли три человека, в том числе и сам мастер, который проводил диагностику.\n",
      "В ночь на пятницу, 13 июля, в Москве, в одной из московских квартир, на дне рождения Сергея Есенина, произошла авария, в результате которой погибли тридцать человек, в том числе и сам Есенин.\n",
      "На днях у нас произошла авария, в результате которой погибли три человека, в том числе и я.\n",
      "В офисе антивирового антивируса, который уставился в офисе, произошла авария, в которой погибли три человека, в том числе и я.\n",
      "В краснодарском крае произошла крупная авария, в которой погибли два человека, в том числе и водитель.\n",
      "В светлане произошла крупная авария, в результате которой погибли четыре человека, в том числе двое детей. Причины произошедшего пока не называются, но, скорее всего, это произошло из-за технической неисправности.\n",
      "В четверг, в среду, на заводе «Уралвагонзавод» произошла авария, в результате которой погибли пять человек, в том числе один человек.\n",
      "Накануне визита в Москву у нас произошла небольшая авария, в результате которой погибли три человека, в том числе и я.\n",
      "В театре срыв произошла крупная авария, в результате которой погибли два человека, в том числе один человек, который был в больнице. Причины произошедшего пока неизвестны, но есть предположения, что авария могла произойти из-за того, что техника не была доставлена в больницу.\n",
      "В квартире, в которой мы живем, произошла авария, в результате которой погибли два человека, в том числе и я, а в квартире была зафиксирована авария. Как это произошло, до сих пор не известно.\n",
      "В москве произошла крупная авария, в результате которой погибли два человека, в том числе и сам холодильник.\n",
      "В квартире, где мы живем, произошла авария, в которой погибли три человека, в том числе и я.\n",
      "В новгородской области произошла крупная авария, в результате которой погибли пять человек, в том числе двое детей.\n",
      "В Москве произошла авария, в которой погиб президент России Владимир Путин, в результате которой произошли петли, то есть тучи, это закон морей, не могу так сказать, диагностика диагностика платного знаете, диагностика тысяч рублей, подъезд у вас номер такой, поттера, этаж, кодекс домофона не вижу значит по номер квартиры работает адвокат, давайте попробуем что-то изменить.\n",
      "В новгородской области произошла крупная авария, в результате которой погибли три человека, в том числе и сам оператор дарья, он был госпитализирован с многочисленными травмами и травмами различной степени тяжести.\n",
      "В одном из подмосковных рынков произошла крупная авария, в которой погибли три человека, в том числе и я.\n",
      "В москве, на северо-западе Москвы, в двухкомнатной квартире, на юго-востоке Московской области, произошла авария, в результате которой погибли пять человек, в том числе двое детей.\n",
      "Накануне новогодних праздников у нас в квартире произошла небольшая авария, в результате которой погибли три человека, в том числе и я, и двое детей.\n",
      "В квартире, которая расположена рядом с моим домом, произошла авария, в результате которой погибли два человека, в том числе и я, и двое детей.\n",
      "Накануне сервиса по ремонту балкона у нас произошла авария, в которой погибли два человека, в том числе и я.\n",
      "В москве в августе произошла авария, в результате которой погибли два человека, в том числе и я.\n",
      "В москве произошла крупная авария, в результате которой погибли три человека, в том числе и сам водитель, он был госпитализирован в больницу.\n",
      "В солнечногорском районе произошла авария, в результате которой погибли два человека, в том числе и оператор юля.\n",
      "В москве, на северо-западе Москвы, произошла крупная авария, в результате которой погибли пять человек, в том числе один ребенок.\n",
      "В четверг, 10 марта, в московском метрополитене произошла авария, в результате которой погибли два человека, в том числе и птенец. Причиной аварии стало то, что мастер не смог дозвониться до места происшествия.\n",
      "В пражском унитазе произошла авария, в результате которой погибли четыре человека, в том числе двое детей.\n",
      "В российском военном госпитале произошла авария, в результате которой погибли девять человек, в том числе двое детей.\n",
      "На днях я попал в аварию на стиральной машинке, в результате которой погибли три человека, в том числе и я.\n",
      "Накануне приезда в гостиницу у нас произошла небольшая авария, в результате которой погибли три человека, в том числе двое детей.\n",
      "В одном из московских районов произошла авария, в результате которой один человек погиб, еще один получил травму, в том числе и скончался. Причины аварии пока не называются.\n",
      "В московском офисе посудомоечной компании «ален опята татьяна» произошла авария, в результате которой погибли четыре человека, в том числе двое детей.\n",
      "Накануне свадьбы у нас в квартире произошла небольшая авария, в которой погибли три человека, в том числе и я, и двое детей.\n",
      "В харьковском метрополитене произошла авария, в результате которой один человек погиб, еще один получил ранения.\n",
      "В одном из московских офисов произошла авария, в результате которой погибли три человека, в том числе двое детей.\n",
      "В одном из московских районов произошла авария, в результате которой погибли три человека, в том числе двое детей.\n",
      "В москве произошла авария с двухкамерным видеонаблюдением, в которой погибли четыре человека, в том числе двое детей.\n",
      "В одном из районов владимирской области произошла авария, в результате которой погибли пять человек, в том числе двое детей.\n",
      "В одном из московских отелей, где я работала, произошла авария, в результате которой погибли четыре человека, в том числе и я, погибли пять человек, а один из них был ранен. Как это произошло, я не знаю, но позвонила в единую службу сервиса оператора татьяна, чтобы уточнить информацию о произошедшем.\n",
      "В питерском дворце по ремонту кофемашины произошла авария, в результате которой погибли три человека, в том числе и водитель, который был в аварии.\n",
      "Российские компании, которые занимаются установкой кухонных вытяжек, в том числе и люксовых, в последнее время становятся все более и более популярными. В частности, это произошло после того, как в одном из московских домов произошла авария, в результате которой погибли два человека.\n",
      "Statesman.ru начинает работу в Москве. На этой неделе у нас произошла очередная авария, в результате которой погибли четыре человека, в том числе двое детей.\n",
      "погиб отто обучать консультант\n",
      "Российский водитель попал в аварию на юго-западе Москвы, в результате чего погибли пять человек, в том числе и сам водитель, он был госпитализирован в больницу.\n",
      "В квартире, где мы живем, произошла одна из самых громких за последние несколько лет, зафиксирована авария, в которой погибли три человека, в том числе и я.\n",
      "В городе Циолковск в пятницу, 13 февраля, был зафиксирован пожар, в результате которого погибли пять человек, в том числе двое детей. Причины происшествия неизвестны, но, по предварительным данным, произошла авария.\n",
      "Накануне ремонта у нас в квартире произошла авария, в результате которой погибли три человека, в том числе и я, и двое моих знакомых.\n",
      "В одном из московских районов произошла авария, в результате которой погибли четыре человека, в том числе двое детей.\n",
      "В Новокузнецке произошла крупная авария, в результате которой погибли три человека, в том числе и двое детей, а один из них был госпитализирован с серьезными травмами. Причины произошедшего пока не называются, но, скорее всего, это произошло из-за неисправности в квартире.\n",
      "В санкт-петербурге произошла авария с краном на подачу воды для стиральной машины, в результате которой погибли четыре человека, в том числе двое детей.\n",
      "В первомайском году в Москве произошла очередная авария стиральной машины, в результате которой погибли три человека, в том числе и я.\n",
      "В павле орловском историческом комплексе «Олимпийский» в Москве произошла авария, в результате которой погибли пять человек, в том числе и я.\n",
      "В российском сервисе по ремонту стиральной машины в городе владимир произошла авария, в результате которой погибли три человека, в том числе и я.\n",
      "В морозильном отделении в москве произошла авария, в результате которой погибли три человека, в том числе двое детей, а один из них был госпитализирован с серьезными травмами.\n",
      "Граждане владимирской области, пожалуйста, подайте заявление в полицию на проверку в связи с тем, что у вас произошла авария, в результате которой погибли четыре человека, в том числе двое детей.\n",
      "На днях у нас произошла небольшая авария, в результате которой погибли два человека, в том числе и я.\n",
      "Накануне ремонта холодильника у нас произошла авария, в результате которой погибли три человека, в том числе и я.\n",
      "На днях у нас произошла небольшая авария, в результате которой погибли три человека, в том числе и я, и двое детей.\n",
      "В офисе оператора оксана произошла авария, в результате которой погибли три человека, в том числе и я.\n",
      "В одном из домов в Санкт-Петербурге произошла авария, в результате которой погибли четыре человека, в том числе двое детей. Причины аварии пока не называются.\n",
      "В москве произошла авария на мобильном компьютере, ноутбуке или планшете, произошедшая накануне вечером, в результате чего один человек погиб, еще один получил ранения, в том числе один ребенок.\n",
      "В москве на северо-западе Москвы произошла авария, в результате которой погибли пять человек, в том числе двое детей. Причиной трагедии стало то, что холодильник в квартире не вырабатывал холод.\n",
      "В покровской домохозяйственном комплексе «большая покровская дом» произошла авария, в результате которой погибли четыре человека, в том числе двое детей. Причины произошедшего пока не называются.\n",
      "В пятницу, 13 августа, в доме дмитрия и его подельников произошла авария, в результате которой погибли три человека, в том числе и я.\n",
      "В нижнем новгороде в области произошла авария, в результате которой погибли пять человек, в том числе и сотрудники фонда сороса единый оператор.\n",
      "В фонде сороса оператора, который обслуживает мухавскую область, произошла крупная авария, в результате которой погибли четыре человека, в том числе двое детей. Причины произошедшего пока не называются, но, скорее всего, это произошло из-за неисправности кондиционера.\n",
      "В питере, на северо-западе Москвы, в офисе компании «Технологический центр дария» в рамках подготовки к чемпионату мира по хоккею с мячом, произошла крупная авария, в результате которой погибли пять человек, в том числе и президент России Владимир Путин.\n",
      "В ванной была зафиксирована авария, в которой погибли пять человек, в том числе двое детей.\n",
      "В московском сервисе посудомоечной машины «Елена» произошла авария, в результате которой погибли четыре человека, в том числе двое детей.\n",
      "В одном из московских офисов произошла авария, в результате которой погибли четыре человека, в том числе двое детей.\n",
      "На днях у нас в доме произошла авария, в результате которой погибли четыре человека, в том числе двое инвалидов, а один из них был госпитализирован с серьезными травмами.\n",
      "В сервисе дария, который занимается ремонтом квартир в Рязани, произошла авария, в результате которой один человек погиб, еще двое были ранены, а один получил травму.\n",
      "В москве, на севере Москвы, в районе станции метро «Батайская» на северо-западе Московской области произошла авария, в результате которой погибли два человека, в том числе и я.\n",
      "В осенние выходные у нас в квартире произошла авария, в результате которой погибли пять человек, в том числе двое детей.\n",
      "Накануне визита в ольгу у нас произошла небольшая авария, в результате которой один человек погиб, еще двое были ранены, еще несколько человек получили травмы различной степени тяжести, в том числе и я.\n",
      "В городе советский проспект произошла авария, в которой погибли три человека, в том числе двое детей.\n",
      "В одном из московских районов произошла авария, в результате которой погибли пять человек, в том числе двое детей.\n",
      "В урюпинской области произошла крупная авария, в результате которой погибли пять человек, в том числе двое детей.\n",
      "В одном из столичных районов произошла авария с магнитофоном, в результате чего один человек погиб, еще один получил травму, а у другого сломался мобильник.\n",
      "На днях у нас произошла авария с участием яиц, в которой погибли пять человек, в том числе двое детей.\n",
      "Westhampton.com опубликовал в своем микроблоге пост о том, что у нас в городе произошла авария, в результате которой погибли пять человек, в том числе двое детей.\n",
      "В морозилке в Москве произошла крупная авария, в которой погибли три человека, в том числе двое детей.\n",
      "В субботу у нас произошла авария с участием светлана, в результате которой погибли два человека, в том числе двое детей.\n",
      "Накануне визита в стиральную машину у нас произошла небольшая авария, в результате которой погибли три человека, в том числе двое детей.\n",
      "В новоспасском переулке, на улице Таганская, произошла таганская драчка, в результате которой погибли пять человек, в том числе двое детей.\n",
      "В одном из московских районов ленинградской области произошла авария, в результате которой погибли пять человек, в том числе двое детей.\n",
      "На днях у нас в доме произошла крупная авария, в результате которой погибли три человека, в том числе и я, и двое детей.\n",
      "В октябре прошлого года у нас в квартире произошла авария, в результате которой погибли три человека, в том числе и я.\n",
      "В санкт-петербурге произошла авария, в результате которой погибли четыре человека, в том числе двое детей.\n",
      "Представляю, что у меня в квартире, в которой я живу, недавно произошла авария, в результате которой погибли три человека, в том числе и я.\n",
      "В одном из московских районов произошла крупная авария, в результате которой погибли три человека, в том числе и я.\n",
      "В компании «Лилия» в Челябинской области произошла массовая авария стиральной машины, в результате которой погибли три человека, в том числе и сам мастер, который был замешан в аварии.\n",
      "В понедельник у нас произошёл теракт в Манхэттене, в результате которого погибли три человека, в том числе и я, и двое детей.\n",
      "В семнадцать девяносто четыре восемнадцать и девяноста четыре года назад в одном из московских районов произошла авария, в результате которой погибли три человека, в том числе и я.\n",
      "В одном из московских небоскребов произошла авария, в которой погибли пять человек, в том числе и президент России Владимир Путин. По предварительным данным, жертвами аварии стали пять человек.\n",
      "В квартире в краснодаре, где мы живем, произошла авария, в результате которой погибли два человека, в том числе и я.\n",
      "вы знаете мне позвонил мастер по ремонту холодильников сказал что он погиб попасть не может я сам говорит будет ждать около подъезда, я уснула, игольчатая нету, по ногам погодные аномалии это, нет там одни идиоты и палку, попозже он сейчас все аномалии\n",
      "На днях у нас произошла авария с унитазами, в которой погибли три человека, в том числе и я, и двое детей.\n",
      "В одном из московских корпусов в июне произошла авария, в результате которой погибли пять человек, в том числе двое детей.\n",
      "В москве, на северо-западе Москвы, в одном из многоэтажных корпусов многоквартирного жилого дома, произошла авария, в результате которой погибли два человека, в том числе и я.\n",
      "«Зимний холодильник» — это холодильник, в котором погибли от рук жить, а не холодильник, как в пирамиде.\n",
      "В москву приезжает помощник управляющего компании, который опаздывает на пионы, саид, баллон, три тридцать а сорок четыре, летов, он сегодня приедет нет, и мне в любое время подпустил погибли пять, будь то прийти, но вы знаете я свой номер у вас он не отпечатков, нет, я не могу и, а может и пусть позвонит мне, зайди забыла номер телефона так же воды и так звоню и это я могу адрес сразу скажу сразу, я ось ясно, я сейчас позвоню вы посмотрите как упокоиться, а я и если массе подойдёте.\n",
      "Накануне отключения газа у нас в квартире произошла авария, в которой погибли три человека, в том числе двое детей.\n",
      "В понедельник у нас произошла очередная авария, в результате которой погибли три человека, в том числе и я, и двое детей.\n",
      "В санкт-петербургском кол-центре сервиса «Единая служба сервиса» в рамках подготовки к чемпионату мира по хоккею с мячом «Золотая шайба» в 2018 году произошла крупная авария, в результате которой погибли пять человек, в том числе двое детей.\n",
      "В Беловежской области произошла авария, в результате которой погибли пять человек, в том числе двое детей.\n",
      "В четверг, в пятницу, накануне Дня России в Москве произошла авария, в результате которой погибли три человека, в том числе и я.\n",
      "В москве произошла авария с керамикой, в которой погибли четыре человека, в том числе двое детей, в одной из квартир.\n",
      "В канарском отделе милиции произошла авария, в результате которой погибли пять человек, в том числе двое детей.\n",
      "В москве произошла авария, в результате которой погибли три человека, в том числе и сам оператор ольга.\n",
      "В магазине запчастей страсть, который находится в центре Москвы, произошла авария с газовой плитой, в результате которой погиб один человек, в том числе и курьер.\n",
      "В доме, в котором я живу, на северо-западе Москвы, недавно произошла крупная авария, в результате которой погибли три человека, в том числе и я.\n",
      "West Coast Телефонный центр светлана, который работает в светлане, готовится к работе. Накануне у нас произошла авария, в результате которой погибли три человека, в том числе двое детей. Позже они были госпитализированы в больницу с травмами различной степени тяжести.\n",
      "В Киеве на ул. Киевская дом три квартира триста девяносто один, в одном из московских районов, произошла авария, в которой погибли два человека, в том числе и я.\n",
      "В краснодарском крае произошла крупная авария, в результате которой погибли три человека, в том числе и я.\n",
      "В светлане произошла авария, в результате которой один человек погиб, еще один получил травму.\n",
      "В москве произошла крупная авария стиральной машины, в которой погибли пять человек, в том числе двое детей. Причины произошедшего неизвестны, но, по словам мастера, это произошло из-за того, что машина не загрузилась из дозатора, а загрузка белья в и сбоку окошко люк такой или сверху белье загружается, что случилось с машиной.\n",
      "В одном из столичных сервисов операции «Ольга» недавно произошла крупная авария, в результате которой погибли два человека, в том числе и сам мастер операции.\n",
      "На днях у меня произошла авария, в результате которой погибли три человека, в том числе и я, и двое моих знакомых.\n",
      "В нижнем новгороде, в ленском районе, на северо-западе области, в одном из корпусов «Амкара» на севере Москвы, на юге Нижнего Новгорода, в двухэтажном доме, на юго-востоке от МКАД, в доме бывшего губернатора Владимира Путина, на ремонт холодильника, который был отремонтирован в феврале этого года, зафиксирована авария, в результате которой погибли четыре человека, в том числе двое детей.\n",
      "На днях у нас произошла небольшая авария, в которой погибли два человека, в том числе и я, и двое детей.\n",
      "На днях на московском заводе по производству плит для сцены произошла авария, в результате которой погибли три человека, в том числе и сам виктор.\n",
      "В пулковской одиннадцатой квартире, где мы купили холодильник, произошла авария, в результате чего один человек погиб, еще один получил травму, в том числе и сам холодильник. Как это произошло, мы не знаем, но знаем, что это произошло из-за того, что в квартире была дисконтная карта, на которой написано три тридцать один, ноль восемь ноль один.\n",
      "В сервисном центре «Зимняя вишня» в москве произошла крупная авария, в результате которой погибли три человека, в том числе и я.\n",
      "На севере владимирской области произошла крупная авария, в которой погибли три человека, в том числе и сам водитель. Причины произошедшего пока не называются.\n",
      "В москве произошла серьезная авария в одной из московских квартир, в результате чего один человек погиб, еще один получил ранения.\n",
      "В городе Горьковске произошла крупная авария, в которой погибли два человека, в том числе и водитель автомобиля.\n",
      "В одном из московских районов произошла крупная авария, в результате которой погибли четыре человека, в том числе двое детей.\n",
      "Накануне ремонта плоского телевизора у нас произошла небольшая авария, в которой погибли два человека, в том числе и я, и двое детей, а один из них был госпитализирован с серьезными травмами.\n",
      "В светлане произошла авария, в результате которой погибли пять человек, в том числе двое детей.\n",
      "В метро «Славянский бульвар» произошла авария, в результате которой погибли два человека, в том числе водитель легкового грузового автомобиля.\n",
      "и, у какого шлагбаума стоите, сейчас открою подождите и вот подъезд который вот на вас сейчас смотрит а нет вы нигде нет твой номер один да вот не этот подъезд а вот подъезд погибаете и к другому подъезду по подъезжайте\n",
      "В одном из московских районов произошла авария, в результате которой погибли четыре человека, в том числе двое детей.\n",
      "На днях узнаём, что у нас в городе произошла крупная авария, в результате которой погибли два человека, в том числе и я.\n",
      "В ильинском районе на северо-западе Москвы произошла авария стиральной машины, в результате которой погибли пять человек, в том числе двое детей.\n",
      "В светлане произошла крупная авария, в результате которой погибли два человека, в том числе и я.\n",
      "Stateside.ru начинает публиковать объявления о том, что в ближайшее время в России произошла очередная масштабная авария, в результате которой погибли пять человек, в том числе и сам президент страны Владимир Путин.\n",
      "Накануне ремонта холодильника у нас произошла небольшая авария, в которой погибли три человека, в том числе и я, и двое детей.\n",
      "алло здравствуй пальцев, к вам подъехать, банк состоит апостоле, который промзону сбербанка да, один погиб, да меня сбербанка папой, один подъезд, а зачем я уже рядышком я войду его последствия, все понял, но на четыре все я понял хороша погода\n",
      "В четверг в магазине запчастей марина, который находится в центре Москвы, произошла авария, в результате которой погибли четыре человека, в том числе и водитель, который был госпитализирован с серьезными травмами.\n",
      "В московском «Мегафоне» произошла крупная авария, в результате которой погибли четыре человека, в том числе и я.\n",
      "Накануне ремонта в квартире у нас произошла авария, в результате которой погибли три человека, в том числе и я, и двое детей.\n",
      "В Москве, в районе метро коньково, произошла авария, в которой погибли четыре человека, в том числе и я.\n",
      "В бассейне азией произошла авария, в результате которой погибли три человека, в том числе и я.\n",
      "На днях у нас произошла авария, в результате которой погибли три человека, в том числе и я, и двое детей.\n",
      "В фонде «Единая россия» прошла акция по борьбе с терроризмом, в результате которой погибли пять человек, в том числе и президент России Владимир Путин.\n",
      "В Краснодарском крае произошла крупная авария, в которой погибли три человека, в том числе и я.\n",
      "В москве на северо-западе области произошла крупная авария, в результате которой погибли пять человек, в том числе двое детей.\n",
      "В ногинском магазине посудомоечной машины «Уважина» произошла авария, в результате которой погибли два человека, в том числе и сам мастер. Позже он перезвонил мастеру и сообщил о произошедшем.\n",
      "Накануне зимы у нас в городе пушкино произошла авария, в результате которой погибли три человека, в том числе и я, и двое детей.\n",
      "В светлане произошла авария, в результате которой один человек погиб, еще один получил травму.\n",
      "В сервисном центре Сергея Соколовского, который занимается ремонтом квартир в Москве и Подмосковье, произошла очередная авария, в результате которой погибли четыре человека, в том числе двое детей.\n",
      "о возврате скажите номер квартиры и лагерь это мой час, расчёт, сейчас погибнуть\n",
      "В москве произошла авария, в которой погибли четыре человека, в том числе двое детей, в результате чего один человек погиб, еще один получил травму, а один получил серьезные травмы.\n",
      "В москве произошла авария с домофоном, в результате чего один человек погиб, еще один получил травму.\n",
      "В сервисе стефана, который находится в Москве, произошла авария, в результате которой погибли четыре человека, в том числе двое детей.\n",
      "В светлане произошла авария, в которой погибли два человека, в том числе двое детей. Причины произошедшего неизвестны, но, скорее всего, мастера не помнит пять цифр, вас на гарантии или платный ремонт, да компания айсберг, секунду, одинцов белорусской.\n",
      "На гранитном доме гранитный дом пятьдесят четыре, в том числе и на гранитной трассе, произошла авария, в результате которой погибли четыре человека.\n",
      "В магазине, где я делал свой первый заказ, произошла авария, в результате которой погибли три человека, в том числе и я.\n",
      "В одном из московских вагонов произошла авария, в которой погибли пять человек, в том числе и президент России Владимир Путин.\n",
      "В ночь на четверг на платформе «Сушинский» в минском шоссе произошла авария, в которой погибли три человека, в том числе и я.\n",
      "В квартире, в которой я живу, на северо-западе Москвы, недавно произошла крупная авария, в результате которой погибли пять человек, в том числе двое детей.\n",
      "На днях у нас произошла небольшая авария, в которой погибли три человека, в том числе и я, и двое детей.\n",
      "На днях у нас произошла авария с дробильным молотом, в которой погибли три человека, в том числе и я.\n",
      "Спустя несколько дней после того, как я понял предмет погиб хорошо как освобожусь победа, в он городе, но надо смотреть разбираться хорошо ожидать, поверхность, пассажир дальше.\n",
      "В одном из столичных районов ромашкина произошла крупная авария, в которой погибли пять человек, в том числе двое детей. Причиной аварии стала неисправность в одной из квартир в поселке ромашково.\n",
      "Statesman.ru начинает публиковать объявления о том, что в скором времени в Москве может произойти очередная авария, в результате которой погибли четыре человека, в том числе двое детей.\n",
      "В новгородском сервисе электроэнергетики произошла авария, в результате которой один человек погиб, еще один получил травму.\n",
      "В индийской столице произошла авария, в результате которой погибли два человека, в том числе и сам водитель. Причины аварии пока не ясны, но врачи говорят, что это может произойти из-за того, что водитель не выключал все адаптеры.\n",
      "Российский водитель газели «Газель» попал в аварию, в результате чего погибли четыре человека, в том числе двое детей.\n",
      "В одном из московских районов произошла авария, в результате которой погибли два человека, в том числе и я.\n",
      "В театре «Олимпийский» произошла авария стиральной машины, в результате которой погибли четыре человека.\n",
      "В одном из московских районов разгорелся крупный пожар, в результате которого погибли пять человек, в том числе двое детей.\n",
      "В одном из московских районов, где я живу, в частном доме, недавно произошла крупная авария, в результате которой погибли три человека, в том числе и я.\n",
      "В подольске произошла авария, в результате которой погибли два человека, в том числе и оператор ольга. Причиной аварии стало то, что телефон оператора не пропускал звонки, электромонтажные одиннадцать подольск, хорошо сейчас мастер перезвонит вам подожди сейчас будет звонок.\n",
      "В Рязани произошла крупная авария, в результате которой погибли два человека, в том числе и сам мастер.\n",
      "На днях у нас произошла авария, в результате которой погибли два человека, в том числе и я, и двое детей.\n",
      "В холодильнике росте произошла небольшая авария, в результате которой погибли два человека, в том числе и я.\n",
      "В одном из московских районов произошла крупная авария, в результате которой погибли пять человек, в том числе двое детей.\n",
      "В одном из московских районов на северо-западе Москвы произошла авария, в результате которой погибли пять человек, в том числе и президент страны Владимир Путин.\n",
      "На днях у нас произошла авария, в которой погибли три человека, в том числе и я, и двое детей.\n",
      "Российские сантехники, которые хотят срезать трубу из пластмассовой пластмассы, не знают, как это сделать, потому что у нас это техническое обследование там все равно его платить, просто как бы не господи, бесплатно, да да да как, ну консультация шестьсот рублей, ну а быстро не быстро да человек съесть посмотреть а потом уже как погибать так-то быстро делают, то я должна приехать гарри посмотреть потом вы посадите даже загубить закупиться и уже потом делать, но я вам я вам да я говорю пока диди кто дети посмотрела в скажет как это и поиск духе разговаривать.\n",
      "В Ростове-на-Дону произошла авария, в результате которой погибли три человека, в том числе двое детей. Пострадавшие были госпитализированы с тяжелыми травмами.\n",
      "прошу прощения за то, что я не могу найти мастера, который бы мне перезвонил по адресу таганрогская сто сорок девять лет один, восемь девятьсот пятьдесят, восемьсот шестьдесят восемь, пятидесят тем, пятьдесят девять, юля это таганрогаская все сергею др погибнуть, да да, николай николай этого массе, хорошо спасибо.\n",
      "возврат это николай, да я подъехал третий пожалуйста погибнет номере рекорд, хорошо спасибо\n",
      "На днях у нас произошла авария, в результате которой погибли три человека, в том числе двое детей.\n",
      "На днях у нас произошла небольшая авария, в результате которой погибли два человека, в том числе и я.\n",
      "В санкт-петербурге произошла авария, в которой погибли пять человек, в том числе двое детей, в одной из квартир, где ремонтировали ламинат и оклейку стен обоями.\n",
      "В одном из московских офисов произошла авария, в результате которой один человек погиб, еще один получил травму, а один получил ранения.\n",
      "В городе балашиха, в районе железнодорожной улицы, на северо-западе Московской области, произошла авария, в результате которой погибли три человека, в том числе и я.\n",
      "В квартире, где недавно произошел пожар, произошла авария, в которой погибли четыре человека, в том числе двое детей. На место происшествия выехал высокопоставленный специалист, который в течение пятнадцати минут перезвонил с просьбой помочь в ликвидации аварии.\n",
      "В григорийском СИЗО «Матросская Тишина» произошла авария, в результате которой погибли три человека, в том числе и я.\n",
      "В колл-центре лысково мытищи, где я работаю, произошла крупная авария, в результате которой один человек погиб, двое были ранены, а один получил травму.\n",
      "В ростовском областном центре произошла авария, в результате которой погибли три человека, в том числе и я.\n",
      "В нижнем новгороде произошла авария с холодильником самсунга, в результате которой погибли три человека, в том числе и сам самсунг. Причины произошедшего я сейчас уточняю.\n",
      "В субботу у нас произошла авария, в результате которой погибли четыре человека, в том числе двое детей.\n",
      "В одном из московских домов произошла авария, в результате которой погибли три человека, в том числе двое детей.\n",
      "В сервисе посудомоечной машины горения горя, в котором я работала, произошла авария, в которой погибли двое человек, в том числе и я, оператор елена, она пропустила звонок из-за того, что не успела ответить на мою заявку.\n",
      "В квартире, в которой я живу, произошла авария, в котором, помоему, погибли три человека, в том числе и я.\n",
      "В Санкт-Петербурге у нас произошла авария, в результате которой погибли пять человек, в том числе двое детей.\n",
      "В российском сервисе по ремонту холодильников «Фитима» в городе владимир произошла очередная авария, в которой погибли два человека, в том числе и я.\n",
      "В таганрогском сервисе «Светлана» произошла авария, в результате которой один человек погиб, еще один получил ранения.\n",
      "В сервисе «Альло» произошла авария, в результате которой погибли два человека, в том числе и сам водитель. Причины произошедшего пока не сообщаются.\n",
      "В подольском ларисе, расположенном в поселке володи дубинина, произошла авария, в результате которой погибли пять человек, в том числе двое детей.\n",
      "В техникуме, в котором я работаю, произошла авария, в результате которой погиб один человек, в том числе и я.\n",
      "В Москве произошла крупная авария с генератором, в которой погибли пять человек, в том числе двое детей. Помогите, пожалуйста, прокомментировать произошедшее.\n",
      "алло здравствуйте служба сервиса, а я вот подъехал удобно, так я бы погиб подъезда возле второго подъезда, двадцать пять ключ ноль восемь восемь четыре второй этаж да росс, иду\n",
      "В сервисном центре по ремонту бытовой техники «Шахба сороса», который находится в центре Москвы, произошла авария, в результате которой погибли два человека, в том числе и сам петр.\n",
      "В светлане произошла крупная авария, в результате которой погибли три человека, в том числе и сам светланский мастер.\n",
      "В Москве произошла крупная авария, в результате которой один человек погиб, еще один получил травму, а один получил ранения.\n",
      "В кельгианской области произошла авария, в результате которой погибли два человека, в том числе и сам патер.\n",
      "В Краснодарском крае произошла авария с водным нагревателем, в результате чего один человек погиб, еще один получил ранения.\n",
      "В смоленской области произошла авария, в результате которой погибли четыре человека, в том числе двое детей. Причины аварии пока не называются, но, скорее всего, это произошло из-за того, что мастер не смог вовремя перезвонить.\n",
      "В санкт-петербурге произошла авария с плоским современной эльзой, в результате чего один человек погиб, еще один получил травму, в том числе и я.\n",
      "В новокузнецком районе произошла крупная авария, в результате которой погибли пять человек, в том числе двое детей.\n",
      "На днях у нас произошла авария, в результате которой погибли три человека, в том числе и я, и двое детей.\n",
      "В сервисе «Зенит» произошла авария, в результате которой погибли четыре человека, в том числе двое детей. Причины произошедшего пока не называются.\n",
      "В стиральной компании «Сергеев» произошла крупная авария, в результате которой погибли пять человек, в том числе двое детей. Причины произошедшего пока не называются, но, по словам оператора, это произошло из-за того, что стиральная машина не выдержала фронтальной загрузки в окошечко.\n",
      "В москве произошла авария, в которой погибли три человека, в том числе двое детей, а один из них был госпитализирован с серьезными осложнениями. Причины произошедшего пока не называются.\n",
      "Накануне чемпионата мира по хоккею с мячом, который состоялся в Москве, у нас произошла небольшая авария, в результате которой погибли четыре человека, в том числе двое детей.\n",
      "В квартире на северо-западе Москвы, в доме, где недавно произошла авария, произошел сильный пожар, в результате которого погибли четыре человека, в том числе двое детей.\n",
      "В квартире, в которой я живу, на северо-западе Владимирской области, недавно произошла авария, в результате которой погибли четыре человека, в том числе и я.\n",
      "В квартире, где мы живем, на северо-западе Москвы, произошла авария, в результате которой погибли три человека, в том числе и я.\n",
      "В городе кстово в Московской области произошла крупная авария, в результате которой погибли три человека, в том числе и я.\n",
      "В кол-центре «Зелёный» на бывшем историческом бульваре произошла авария, в результате которой погибли пять человек, в том числе двое детей.\n",
      "В одном из московских микрорайонов произошла крупная авария, в результате которой погибли три человека, в том числе и я.\n",
      "В гирляндской стиральной компании «Сорос» произошла крупная авария, в результате которой погибли пять человек, в том числе и сам оператор.\n",
      "В петербургском доме девяноста корпусов произошла авария, в результате которой погибли пять человек, в том числе двое детей. Причины произошедшего неизвестны.\n",
      "В санкт-петербурге произошла авария на проспекте оранжевого сданного, в результате которой погибли четыре человека, в том числе двое детей. Причины произошедшего неизвестны.\n",
      "Statesman.ru начинает публиковать видеоролики о том, как устроена авария в московском метро, в которой погибли пять человек, в том числе двое детей.\n",
      "В санкт-петербурге произошла авария с турбиной, в которой погибли четыре человека, в том числе двое детей. Причиной аварии стала загрузка фронтальной спереди турбины, которая, по словам оператора, не набирает воду.\n",
      "В Санкт-Петербурге произошла крупная авария, в которой погибли три человека, в том числе и я.\n",
      "В москве произошла крупная авария, в которой погибли четыре человека, в том числе и я, а у меня зубка камерной в холодильнике. Как это произошло, я не знаю, но у меня нет точного номера телефона и адреса, но я могу записать ваше обращение на завтрак, если вас все устроит.\n",
      "В москве произошла авария с холодильником либхера, в результате чего один человек погиб, еще один получил травму, в том числе и сам холодильник.\n",
      "В одном из московских офисов оператора мобильной связи «Мегафон» произошла авария, в результате которой погибли четыре человека, в том числе двое детей.\n",
      "В московском метро «Оклахома» в пятницу, 13 марта, произошла авария, в которой погибли три человека, в том числе и я, и двое детей.\n",
      "На днях у нас произошла очередная авария с участием аппарата елена, в результате которой погибли два человека, в том числе и сам Елен.\n",
      "В ростовском сервисном центре светлана, который занимается ремонтом квартир в ростове и области, на этой неделе произошла крупная авария, в результате которой погибли четыре человека, в том числе двое детей.\n",
      "В светлане произошла крупная авария, в которой погибли четыре человека, в том числе двое детей.\n",
      "Накануне визита в клинику нам сообщили о том, что у нас в квартире произошла авария, в результате которой погибли два человека, в том числе и я.\n",
      "я да донбассе беспокоит, пошутил, то случилось у вас, я, так-так-так, пожалуйста, если я подъеду к вам, погибнут, поделом тебе так куколка будет после победы, так какая, этаж, кто-то сзади победу\n",
      "В афинской деревне, где в прошлом году произошла авария, погибли четыре человека, в том числе двое детей.\n",
      "На днях у нас произошла небольшая авария, в которой погибли два человека, в том числе и я.\n",
      "В москве произошла авария, в результате которой погибли три человека, в том числе и я.\n",
      "В санкт-петербурге у меня произошла авария, в результате которой погибли три человека, в том числе и я, а также пострадали несколько человек.\n",
      "В четверг на стадионе таганская произошла авария, в результате которой погибли два человека, в том числе оператор светлана.\n",
      "В московском городе куусинен произошла авария, в которой погибли три человека, в том числе и я, и двое детей.\n",
      "В автосервисе «Айсберг» произошла авария, в результате которой погибли два человека, в том числе и водитель.\n",
      "и, и, э, а, а, амму, алло, лобко вас вижу ключица ну это, нет санса погиб а ты завтра придёшь конечно дать особое, сухо раса создала, о, ну все давай счастливо, того\n",
      "В сервисе автосалона «АвтоВАЗ» произошла небольшая авария, в результате которой погибли три человека, в том числе и водитель.\n",
      "В шотландском городе бербер бернарда, который находится на северо-западе Англии, произошла крупная авария, в результате которой погибли три человека, в том числе и сам трактирщик.\n",
      "В новогорске произошла авария, в которой погибли три человека, в том числе двое детей. Пострадавшие были госпитализированы в тяжелом состоянии.\n",
      "В санкт-петербурге, на проспекте славы, произошла крупная авария, в результате которой погибли три человека, в том числе и петербургский петербуржец.\n",
      "В Новокузнецке произошла крупная авария, в результате которой погибли четыре человека, в том числе двое детей.\n",
      "В квартире, где я живу, на северо-западе Москвы, произошла крупная авария, в которой погибли три человека, в том числе и я.\n",
      "В компании «Ольга» произошла небольшая авария, в результате которой один человек погиб, еще один получил травму.\n",
      "Накануне установки ванны в квартире у нас произошла авария, в результате которой погибли четыре человека, в том числе двое детей.\n",
      "В морской набережной Оценке произошла крупная авария, в результате которой один человек погиб, еще двое получили ранения, а один получил травму. Как это произошло, я не знаю, но бригадир, который выезжал на место происшествия, говорит, что у него есть материалы.\n",
      "В москве произошла крупная авария, в результате которой погибли два человека, в том числе и яблоко.\n",
      "На днях у нас произошла авария, в результате которой погибли три человека, в том числе и я, и двое детей.\n",
      "В краснодаре у нас произошла небольшая авария, в которой погибли четыре человека, в том числе двое детей.\n",
      "В нижегородском филиале «Ростелекома» в рамках подготовки к чемпионату мира по хоккею с мячом «Золотая шайба» попала в аварию, в результате которой погибли пять человек, в том числе двое детей.\n",
      "Накануне ремонта стиральной машины у нас в квартире произошла небольшая авария, в результате которой погибли три человека, в том числе и я, и моя дочь.\n",
      "В светланском сервисе светлана произошла авария, в результате которой погибли два человека, в том числе и водитель вина. Причины произошедшего пока не называются, но есть вероятность, что причиной аварии могла стать ошибка оператора светлана.\n",
      "Statesman.com опубликовал видеозапись с места происшествия в подъезде жилого дома, где произошла авария, в которой погибли четыре человека, в том числе и я.\n",
      "В одном из московских районов произошла авария, в результате которой погибли два человека, в том числе и я.\n",
      "В санкт-петербурге у нас произошла авария, в результате которой погибли три человека, в том числе двое детей.\n",
      "Germany, Россия, Украина, Казахстан, Белоруссия, Армения, Азербайджан, Казахстан и другие страны, в которых произошла авария, в которой погибли пять человек, в том числе двое детей, были ранены и ранены, а также ранены еще несколько человек.\n",
      "В санкт-петербурге у меня в квартире произошла авария, в которой погибли три человека, в том числе и я, и двое детей.\n",
      "В квартире, где я проживаю, произошла авария, в которой погибли четыре человека, в том числе и я, в результате чего в квартире произошел сильный треск. Как это могло произойти, я пока не знаю.\n",
      "В санкт-петербурге у нас произошла авария, в результате которой погибли шесть человек, в том числе двое детей. Причиной аварии стало то, что в квартире не определились номера телефонов.\n",
      "В четверг, 11 марта, на московском метрополитене произошла авария, в результате которой погибли пять человек, в том числе двое детей.\n",
      "В сервисе лонгинов четыре корпус два «Лонгинов» в Нижнем Новгороде произошла крупная авария, в результате которой погибли два человека, в том числе и сам мастер. Причины произошедшего уточняйте у мастера, он вам перезвонит и уточнит все вопросы.\n",
      "В колокольском районном управлении МВД по Московской области возбуждено уголовное дело по факту мошенничества в особо крупном размере, в результате которого погибли пять человек, в том числе двое детей.\n",
      "В одном из московских районов на рублевском шоссе произошла авария, в результате которой погибли четыре человека, в том числе и я.\n",
      "В реутовском фонде сороса произошла авария, в результате которой погибли пять человек, в том числе двое детей. Пострадавшие были госпитализированы с травмами различной степени тяжести.\n",
      "В пятницу, 3 марта, в Москве, на своем мобильном телефоне произошла авария, в результате которой погибли четыре человека, в том числе двое детей. Причины аварии пока не называются, но, по предварительным данным, это произошло из-за неисправности.\n",
      "На днях у нас в крымском доме произошла авария, в результате которой погибли четыре человека, в том числе двое детей.\n",
      "В москве произошла авария стиральной машины, в которой погибли три человека, в том числе и я, и ее водитель.\n",
      "москвичка Елена, узнаём, что у нас в квартире произошла авария, в результате которой погибли три человека, в том числе и я, и двое детей.\n",
      "На днях у нас произошла авария, в результате которой погибли три человека, в том числе и я.\n",
      "Накануне новогодних праздников у нас произошла небольшая авария, в результате которой погибли три человека, в том числе и я.\n",
      "В москве и области в августе произошла крупная авария, в результате которой погибли три человека, в том числе и я.\n",
      "Накануне ремонта холодильника у нас произошла небольшая авария, в которой погибли два человека, в том числе и я, и двое детей, а в ванной случайно упала дверь, и прихожей разгромили и стенку и плинтусы дверь в ванну, и они сказали, что зря его упаковали на утилизацию.\n",
      "В сервисном центре, который занимается ремонтом холодильников в Москве, произошла небольшая авария, в которой погибли три человека, в том числе и я, а в том, что дверь холодильника упала из-за того, что грузчики не доглядели за проводками заслонки.\n",
      "В светлане произошла очередная авария, в результате которой погибли два человека, в том числе и водитель.\n",
      "В компании алиса оператора марина, которая занимается взысканием алисов с физических лиц, на прошлой неделе произошла очередная авария, в результате которой погибли четыре человека, в том числе двое детей.\n",
      "В Москве произошла авария на водном стадионе таганская, в результате которой погибли два человека, в том числе и я.\n",
      "В колл-центре «Олимпийский» в Нижнем Новгороде в рамках подготовки к чемпионату мира по хоккею с мячом в рамках чемпионата мира по футболу в 2018 году произошла массовая авария, в результате которой погибли пять человек, в том числе двое детей.\n",
      "В театре «Екатерина Великая» произошла небольшая авария, в которой погибли два человека, в том числе и я.\n",
      "В субботу, 6 июля, в нашем доме произошла авария, в результате которой погибли три человека, в том числе и я, и двое детей. Причины произошедшего я не знаю, но, скорее всего, это произошло из-за того, что в доме не было электричества.\n",
      "В каревском крае произошла крупная авария, в результате которой погибли три человека, в том числе и сам диспетчер оператора.\n",
      "В светлане произошла крупная авария, в которой погибли три человека, в том числе и я, и двое детей.\n",
      "В светлане произошла авария, в результате которой один человек погиб, еще один получил травму.\n",
      "На днях на таганрогской произошла авария, в результате которой погибли два человека, в том числе и я.\n",
      "В светланском сервисе светлана произошла авария, в которой погибли четыре человека, в том числе двое детей.\n",
      "В Санкт-Петербурге у нас произошла небольшая авария, в результате которой один человек погиб, еще один получил травму, в том числе и водитель, который был в больнице. Причины произошедшего пока не называются.\n",
      "В смысле, в смысле, пробить, когда вы сможете погибла или кто будет другой, ну нет ну может до пенсии вы делаете а деньги потом когда я могу отдать это ещё за два дня делаете дабы середины четырнадцатая какой там вы можете день четырнадцать пятнадцать, даже если такой чтобы не дать неожиданный ответ, входит, ладно, когда во второй половине где-то или когда николай года.\n",
      "В мытищах у нас произошла авария, в которой погибли три человека, в том числе и я.\n",
      "Накануне чемпионата мира по хоккею с мячом, который пройдет в июле в Москве, в России произошла очередная авария, в которой погибли пять человек, в том числе и президент России Владимир Путин.\n",
      "В тракте «Олимпийский» произошла авария, в которой погибли три человека, в том числе и я.\n",
      "В греческом офисе «Сигнум греческое» произошла авария, в результате которой погибли пять человек, в том числе двое детей.\n",
      "В омском техносервисе, который занимается продажей духовых шкафов, на этой неделе произошла очередная авария, в результате которой погибли пять человек, в том числе и сам духовой шкаф.\n",
      "На днях у нас произошла авария, в результате которой погибли три человека, в том числе и я.\n",
      "Накануне ремонта кухни у меня в квартире произошла авария, в результате которой погибли три человека, в том числе и я.\n",
      "В краснодарском крае произошла крупная авария, в результате которой погибли три человека, в том числе и я.\n",
      "В новгородской области произошла крупная авария, в которой погибли три человека, в том числе и сам духовой шкаф, который не греет. Причины произошедшего пока не сообщаются, но, скорее всего, это произошло из-за того, что плита не была отремонтирована.\n",
      "В сервисном центре Мультиварки «Мегафон» в Нижнем Новгороде произошла крупная авария, в результате которой погибли три человека, в том числе один ребенок.\n",
      "В светлане произошла крупная авария, в которой погибли три человека, в том числе двое детей.\n",
      "а, да конечно ты сервиса по ремонту холодильников хотели уточнить о победе работы, да да, громит да, но нужно ещё неделю вы будете дома, хорошо очень велик мы погибнем к вам\n",
      "В новочеркасском сервисе «Мегафон» в Новочеркасске произошла авария, в результате которой один человек погиб, еще один получил травму, в том числе и сам мастер, который был на руках у прейскуранта.\n",
      "В четверг на электричке произошла авария, в результате которой один человек погиб, еще один получил травму, в том числе и я.\n",
      "В театре мария произошла авария, в результате которой погибли два человека, в том числе и сам мастер.\n",
      "Спустя пять лет после того, как в Москве произошла очередная авария, в которой погибли пять человек, в том числе и президент России Владимир Путин, в России произошли очередные крупные политические и экономические потрясения.\n",
      "В камаро «Марина» произошла авария, в результате которой погибли четыре человека, в том числе двое детей.\n",
      "и, она, да, вас застроена, пашков для зала жаль что погиб\n",
      "На днях у нас на брянцеве произошла небольшая авария, в которой погибли два человека, в том числе и я, и двое детей.\n",
      "В Санкт-Петербурге в течение нескольких дней после ремонта в квартире произошел крупный пожар, в результате которого погибли четыре человека, в том числе двое детей, и один человек был ранен. Как это произошло, я пока не знаю, но, по словам эксперта, это произошло из-за того, что мастер не смог договориться с вами о дате и месте происшествия.\n",
      "В холодильнике белаша в москве произошла авария, в результате чего один человек погиб, еще один получил травму.\n",
      "В квартире, где я жил, в тридцатом домике произошла авария, в которой погибла моя бабушка, я не знаю, может быть она вас проливала ананас.\n",
      "В Краснодарском крае произошла крупная авария, в результате которой погибли три человека, в том числе и сам мастер. Причины произошедшего пока не называются.\n",
      "В офисе оператора валерия произошла авария, в результате которой погибли пять человек, в том числе двое кур.\n",
      "В светланском сервисе светлана произошла авария, в результате которой погибли два человека, в том числе и я.\n",
      "В индонезийском городе Нью-Йорке, где я живу, произошла авария, в результате которой погибли два человека, в том числе и я, и водитель.\n",
      "В квартире, где мы живем, произошёл взрыв, в котором погибли четыре человека, в том числе и я, и двое детей, в результате чего в квартире произошел обрыв.\n",
      "Накануне осмотра техники у нас произошла авария, в результате которой погибли пять человек, в том числе двое детей.\n",
      "Накануне визита в гостиницу у нас произошла потасовка, в результате которой погибли два человека, в том числе и я, и двое детей.\n",
      "На днях у нас произошла небольшая авария, в которой погибли три человека, в том числе и я, и двое детей.\n",
      "В колл-центре «Единая Россия», где я работаю, в пятницу, 12 марта, произошла крупная авария, в результате которой погибли два человека, в том числе и я.\n",
      "В одном из московских домохозяйственных комплексов на северо-западе Москвы зафиксирован случай, когда в одной из квартир вспыхнул пожар, в котором погибли пять человек, в том числе двое детей.\n",
      "В сервисе быково раменское произошла авария, в результате чего один человек погиб, еще один получил травму.\n",
      "В Москве произошла крупная авария, в результате которой погибли три человека, в том числе двое детей. По предварительным данным, причиной аварии стала плохая погода.\n",
      "В одном из московских метрополитенов произошла авария, в результате которой погибли три человека, в том числе и я.\n",
      "В санкт-петербурге произошла авария с планерной, в результате чего один человек погиб, еще один получил травму, в том числе и оператора светлана.\n",
      "В судостроительном корпусе «Оксан» произошла крупная авария, в результате которой погибли четыре человека, в том числе один человек.\n",
      "На днях у нас произошла небольшая авария, в результате которой погибли три человека, в том числе и я.\n",
      "В краснодарском крае произошла авария, в результате которой погибли четыре человека, в том числе двое детей.\n",
      "В москве у меня произошла небольшая авария, в результате которой погибли три человека, в том числе и я, и двое моих знакомых.\n",
      "На днях у нас произошла авария, в которой погибли три человека, в том числе и я, и двое детей, а у одного из них сломалась сожжена льда.\n",
      "В стиральной машине, которую мы покупали в прошлом году, произошла авария, в которой погибли три человека, в том числе и я.\n",
      "Накануне ремонта у нас в квартире произошла крупная авария, в результате которой погибли три человека, в том числе и я, и двое детей.\n",
      "В одном из московских районов произошла авария, в результате которой погибли три человека, в том числе и я.\n",
      "В сервисе кратер светлана, который работает в москве и области, произошла авария, в результате которой погибли три человека, в том числе двое детей.\n",
      "натаха, але, спасибо большое, я хотела заводить сама, но увозят на дачу, пока медики это все потому что мне тут валюте заказала машину погода хорошая, а мне восемьдесят лет так что погибает сделав такое, да я переживаю, я перезвоню вам.\n",
      "На днях у меня произошла небольшая авария, в результате которой погибли три человека, в том числе и я.\n",
      "В москве произошла авария, в которой погибли три человека, в том числе двое детей, в результате чего один из них был госпитализирован с серьезными травмами.\n",
      "Накануне установки новой стиральной машины у нас произошла небольшая авария, в результате которой погибли три человека, в том числе двое детей.\n",
      "В связи с тем, что я переезжаю в новую квартиру, у меня кабель есть телевизор, но у меня нет провода, как это я не знаю как обезьянка, велико, да да идее для правильным наверное, да, область подмосковье, да конечно посёлок родники, трудовая небе, да правильно, трудовую семь квартира восемьдесят четыре, второй подъезд восьмой этаж, ей погибну я им не пользовалась.\n",
      "аркадий погиб и тогда он не придёт на встречу, потому что у него нет домофона.\n",
      "В светланском сервисе по ремонту электроники произошла авария, в которой погибли два человека, в том числе двое детей. По предварительным данным, причиной аварии стала неисправность электронного блока питания.\n",
      "В ростове в области произошла авария с микроволновкой, в результате которой погибли четыре человека, в том числе двое детей. Причины произошедшего не сообщаются, но есть вероятность, что это произошло из-за того, что техника была неисправна.\n",
      "В москве произошла авария с зимней морозикой, в которой погибли три человека, в том числе и я, а в квартире, где был куплен мафон, не работает основная камера.\n",
      "В красноярском крае произошла авария с участием стиральной машинки, в результате которой погибли три человека, в том числе двое детей.\n",
      "Накануне ремонта холодильника у нас произошла небольшая авария, в которой погибли три человека, в том числе и я, и двое детей.\n",
      "В четверг, 10 марта, накануне церемонии открытия памятника российскому поэту Сергею Есенину, в Москве произошла очередная потасовка, в результате которой погибли пять человек, в том числе и сам Есенин, он был госпитализирован в больницу в тяжелом состоянии.\n",
      "На днях у нас произошла авария, в результате которой погибли пять человек, в том числе двое детей, а один из них скончался накануне.\n",
      "В обнинском крае произошла крупная авария, в результате которой погибли четыре человека, в том числе двое детей. Причиной трагедии стал отказ местного сантехника от полотенцесушителя, краны которыми можно перекрыть палатин его.\n",
      "В москве у нас произошла авария с морозильником, в результате чего один человек погиб, еще один получил травму, в том числе и я.\n",
      "В сервисе «Автомобилист-Сервис» в городе Череповце произошла авария, в результате чего один человек погиб, еще один получил травму, в том числе и водитель, который был госпитализирован с серьезными травмами. Причины произошедшего пока не называются, но, скорее всего, это произошло из-за неисправности автомобиля.\n",
      "В одном из московских офисов был зафиксирован случай, когда в квартире произошел сильный пожар, в котором погибли пять человек, в том числе двое детей.\n",
      "В квартире, где я живу, недавно произошла крупная авария, в результате которой погибли два человека, в том числе и я.\n",
      "В московском сервисе по ремонту бытовой техники «Мегафон» зафиксирована авария, в результате которой погибли пять человек, в том числе двое детей. Причины произошедшего пока не называются, но, по словам оператора, авария произошла из-за неисправности мобильного телефона.\n",
      "В светлане произошла очередная авария, в результате которой погибли три человека, в том числе двое детей.\n",
      "На днях у нас произошла небольшая авария, в результате которой погибли три человека, в том числе и я, и двое детей.\n",
      "На днях у меня произошла небольшая авария, в результате которой погибли три человека, в том числе и я.\n",
      "В четверг, 4 марта, в Москве произошла очередная авария, в результате которой погибли четыре человека, в том числе двое детей.\n",
      "В коттеджном поселке николина ручей, который находится в российском городе Хабаровск, произошла крупная авария, в результате которой погибли три человека, в том числе и я.\n",
      "В Нижнем Новгороде произошла авария, в которой погибли три человека, в том числе двое детей. По предварительным данным, причиной аварии стала плохая вентиляция.\n",
      "В одном из московских офисов, где я работаю, в очередной раз произошла авария, в которой погибли два человека, в том числе и я.\n",
      "В городе долгопрудный, который находится в центре Москвы, на юго-западе Москвы, произошла авария, в которой погибли три человека, в том числе и я, и двое детей. Машинка упрям ей плохо чёт совсем, совсем плохо, до свидания.\n",
      "В Москве в пятницу, 6 июня, произошла авария, в результате которой погибли два человека, в том числе и сам водитель, который был госпитализирован накануне. Причины произошедшего пока не называются, но, скорее всего, это произошло из-за того, что у него не было мобильного телефона.\n",
      "В москве произошла крупная авария с участием автовладельца, в результате которой погибли три человека, в том числе и сам водитель, он был госпитализирован в больницу.\n",
      "В форде произошла очередная авария, в которой погибли три человека, в том числе и водитель форда. Причиной аварии стало то, что мастер пообещал приехать к восьми вечера.\n",
      "В тверской стиральной посудомоечной компании «Фокус» произошла небольшая авария, в результате которой погибли три человека, в том числе и я.\n",
      "Накануне доставки плитки из леруа у нас произошла небольшая авария, в результате которой погибли три человека, в том числе двое детей.\n",
      "В москве произошла крупная авария, в которой погибли два человека, в том числе и водитель автомобиля. Причиной аварии стала неисправность мотора лёжа.\n",
      "В щербском сервисе «Светлана» в рамках подготовки к чемпионату мира по хоккею с мячом «Золотая шайба» в 2018 году произошел крупный скандал, в результате которого погибли пять человек, в том числе двое детей.\n",
      "На днях у нас произошла очередная авария, в которой погибли три человека, в том числе и я, и двое детей.\n",
      "Накануне визита к врачу у нас произошла небольшая авария, в результате которой погибли четыре человека, в том числе двое детей.\n",
      "Statesman, да иван орёл, да здрасте вам но и, а харшоу я вам да я вам номер домофона сказала, прям погибает и в дверь постучит я открою, даю шестьдесят три решёткой пять тысяч.\n",
      "В квартире, где мы живем, произошла авария, в которой погибли три человека, в том числе двое детей, в квартире не было электричества, поэтому нам пришлось ремонтировать печь, плиты плиты, светлая варочная панель, которая не греет слышу как-то срабатывает, но как- то предохранитель.\n",
      "В кинотеатре звезды, который находится рядом с кинотеатром звезды в центре Москвы, произошла авария, в результате которой погибли три человека, в том числе и я.\n",
      "Statesman.ru начинает свою работу в Москве. На этой неделе у нас произошла авария, в результате которой погибли четыре человека, в том числе двое детей.\n",
      "В одном из московских районов произошла авария, в результате которой погибли три человека, в том числе и я.\n",
      "В москве произошла авария, в результате которой погибли два человека, в том числе и сам пастор.\n",
      "В нагатинской набережной произошла авария, в результате которой погибли четыре человека, в том числе и ядра. По предварительным данным, причиной аварии стала плохая погода.\n",
      "В ванной комнате у меня произошла авария труба одна потекла от горячей водой я её буду менять железяку на пластиковую трубу но чтобы добраться до потолка мне нужно до разобрать вот эту стенку кафельную анал кафель погиб, картон, ну так мы его знаем заделывали когда ремонт делали.\n",
      "В офисе газовой компании у нас произошла крупная утечка газа, в которой погибли три человека, в том числе двое детей.\n",
      "В Москве произошла крупная авария стиральной машины, в результате которой погибли три человека, в том числе и я.\n",
      "Накануне ремонта плиты у нас произошла небольшая авария, в которой погибли три человека, в том числе и я, и двое детей. Позвонив в единую службу сервиса, они рассказали, что нужно сделать для того, чтобы техника заработала, а также рассказали про стоимость диагностики.\n",
      "В сервисе стиральной машинки «Атлант» в турецком городе Турку произошла авария, в результате которой погибли пять человек, в том числе двое детей. Причины произошедшего пока не называются.\n",
      "В спа-центре «Атлант» произошла авария, в которой погибли два человека, в том числе и я.\n",
      "В москве произошла авария, в которой погибли два человека, в том числе двое детей, в результате чего один человек погиб, еще один получил ранения.\n",
      "В сервисе пятеро мария произошла авария, в результате которой один человек погиб, еще один получил травму.\n",
      "На днях у нас произошла крупная авария, в которой погибли три человека, в том числе и я, а у меня заклинило поломалась ручка.\n",
      "В субботу, 12 июля, в московском метрополитене произошла авария, в результате которой погибли пять человек, в том числе двое детей.\n",
      "В Уфе произошла крупная авария, в которой погибли два человека, в том числе двое детей, а один из них был госпитализирован с серьезными травмами. Причины произошедшего пока не называются, но есть предположения, что это произошло из-за халатности мастера.\n",
      "В щёлковском районе Московской области произошла крупная авария, в которой погибли четыре человека, в том числе и самсунг.\n",
      "В сервисном центре «Зимняя вишня» в поселке калинина произошла авария, в результате которой погибли четыре человека, в том числе двое детей.\n",
      "В квартире, где я прописана, недавно произошел крупный пожар, в котором погибли четыре человека, в том числе и я, и двое детей.\n",
      "Накануне визита в гости к родственникам в гостиницу «Зимняя вишня» у нас произошла авария, в результате которой погибли пять человек, в том числе двое детей. Причины произошедшего пока не называются.\n",
      "В четверг в районе часа дня я попытаюсь быть у вас в брызгах, если у вас какие-то ремонтные работы, я могу погибнуть.\n",
      "В одном из московских офисов оператора мобильной связи «Мегафон» произошла авария, в результате которой погибли четыре человека, в том числе двое детей. Причины произошедшего пока не называются, но, скорее всего, это произошло из-за халатности оператора.\n",
      "В июне у нас произошла крупная авария, в результате которой погибли четыре человека, в том числе и я.\n",
      "В валерийском сервисе по ремонту стиральной машины «Валерия» произошла очередная авария, в результате которой погибли четыре человека, в том числе двое детей.\n",
      "В нижнем новгороде, на улице льва толстого, произошла авария, в результате которой погибли пять человек, в том числе двое детей.\n",
      "В сервисе по ремонту бытовой техники «Айсберг» в Осеннем бульваре, который находится в центре Москвы, произошла авария, в которой погибли два человека, в том числе и я.\n",
      "В офисе техно сервиса «Керамзитовый завод» произошла авария, в результате которой погибли два человека, в том числе и я.\n",
      "В ночь на пятницу в городе Нижнем Новгороде произошла авария, в результате которой погибли пять человек, в том числе двое детей.\n",
      "На днях у нас произошла небольшая авария, в которой погибли три человека, в том числе и я, и двое детей.\n",
      "В квартире, где мы живем, недавно произошла авария, в результате которой погибли два человека, в том числе и я, и двое моих знакомых.\n",
      "Российский мастер по ремонту стиральных машинок иван рассказал, что у него в квартире произошла авария, в которой погибли пять человек, в том числе двое детей.\n",
      "Statesman.ru начинает публиковать видео с места происшествий в Крыму, в том числе и с места, где произошла авария, в которой погибли пять человек.\n",
      "В квартире, где мы живем, произошла крупная авария, в результате которой погибли три человека, в том числе и я, и двое детей.\n",
      "В новочеркасском новокузнецком регионе произошла крупная авария, в которой погибли три человека, в том числе и сам виновник трагедии.\n",
      "В санкт-петербургской области произошла крупная авария, в результате которой погибли четыре человека, в том числе двое детей. Причины произошедшего пока не называются.\n",
      "В гирляндской области произошла крупная авария, в которой погибли три человека, в том числе и сам водитель. Причиной аварии стало то, что мотор не работает не шумит, и свет не горит.\n",
      "В москве произошла крупная авария, в которой погибли два человека, в том числе двое детей, в результате чего один из них был госпитализирован с серьезными травмами.\n",
      "В Краснодарском крае произошла крупная авария, в которой погибли три человека, в том числе и я.\n",
      "В квартире, где я живу, произошла авария, в которой погибли четыре человека, в том числе и я.\n",
      "В Москве произошла крупная авария, в результате которой погибли пять человек, в том числе двое детей.\n",
      "В квартире, где мы живем, произошла авария, в которой погибли четыре человека, в том числе двое детей, и в том, что в туалете в квартире не было горячей воды.\n",
      "В квартире у нас произошла авария, в которой погибли три человека, в том числе и я, и двое детей, а в квартире, где мы живем, произошел пожар.\n",
      "В днепровском доме, который открывается по графику, на этой неделе, произошла авария, в результате которой погибли пять человек, в том числе двое детей, а один из них был госпитализирован с серьезными травмами.\n",
      "В ростовском крае произошла крупная авария, в результате которой погибли три человека, в том числе и газовая плита.\n",
      "Начну с того, что у меня не работает стиральная машина почему-то но, а, не знаю, нет, сверху наверное нет, дверка открывается я загружаю, работы шериф, нет москва, нефть вот магнитик, намбер туристов, ведь, так анна, грязь, где место метро кузьминки я чуть не важно радио, те бочки бульвар, и от боба болт и погибает.\n",
      "В стиральной машине, которую я купил в прошлом месяце, произошла авария, в которой погибли три человека, в том числе и я.\n",
      "В москве произошла авария, в которой погиб оператор ольга свыше вас, а у мыса не работает телефон.\n",
      "В крондорском районе на северо-западе Англии произошла авария, в результате которой погибли три человека, в том числе и я.\n",
      "В москве произошла авария, в результате которой погибли два человека, в том числе и я.\n",
      "В сервисе долгопрудного комсомольской звезды произошла авария, в результате которой один человек погиб, еще один получил травму.\n",
      "Накануне ремонта холодильника у нас произошла небольшая авария на трассе, в результате которой погибли три человека, в том числе и я.\n",
      "В сервисе татьяна на комендантском проспекте произошла авария, в которой погибли два человека, в том числе двое детей.\n",
      "В санкт-петербургском филиале светлана произошла авария, в результате которой погибли три человека, в том числе двое детей. Причины произошедшего пока не называются.\n",
      "В квартире, где я живу, произошла авария, в которой погибли пять человек, в том числе и я.\n",
      "В пятницу у нас произошла авария, в результате которой погибли два человека, в том числе и я, и двое детей.\n",
      "На днях у нас произошла очередная авария, в которой погибли два человека, в том числе и я, а в результате произошедшего произошел ряд серьезных неисправностей.\n",
      "Statesman.ru начинает публиковать объявления о том, что у них в квартире произошла авария, в результате чего один человек погиб, еще один получил травму, в том числе и я.\n",
      "В компании светлана в москве произошла крупная авария, в которой погибли три человека, в том числе двое детей. Позже в компании сообщили, что произошедшее произошло из-за того, что у них не было разрешения на работы с газом.\n",
      "В нижнем новгороде, в одной из московских квартир, произошла авария, в которой погибли четыре человека, в том числе двое детей. Причиной аварии стала неисправность холодильника.\n",
      "На днях у нас произошла небольшая авария, в которой погибли три человека, в том числе и я, и двое детей.\n",
      "В израильском аэропорту «Олимпийский» в очередной раз произошла авария, в которой погибли два человека, в том числе и я.\n",
      "На днях у нас произошла страшная авария, в которой погибли три человека, в том числе и я.\n",
      "В стиральной компании «Атлант» произошла крупная авария, в которой погибли четыре человека, в том числе и сам водитель, который был замешан в аварии.\n",
      "В Нижнем Новгороде произошла крупная авария, в результате которой погибли два человека, в том числе и я.\n",
      "В одном из московских сервисных центров произошла авария, в результате которой погибли два человека, в том числе и я.\n",
      "В москве, на юго-западе Москвы, произошла авария, в результате которой погибли два человека, в том числе двое детей.\n",
      "В стефенской оптике произошла авария, в результате которой погибли пять человек, в том числе двое детей. Причины произошедшего пока не называются, но, скорее всего, это произошло из-за неисправности оптики.\n",
      "В субботу у нас произошла небольшая авария, в результате которой погибли три человека, в том числе и я, и двое детей.\n",
      "В сервисе светлана, который занимается ремонтом холодильников в Москве и Подмосковье, на этой неделе произошла очередная авария, в которой погибли два человека, в том числе и я.\n",
      "Российский мастер по газовым плитам, который работает в Москве уже несколько лет, рассказал, что у него в квартире произошла авария, в результате чего плита погибла, а двигатель у него пришёл в негодность. По его словам, после диагностики становится ясно, имеет ли смысл вообще ремонтировать, поскольку и деталей как этой плите возможно уже, продают отыскать, чем пятницу тринадцать да штаб девятой квартиры да пасибо сюда.\n",
      "Stateside.ru начинает публиковать отзывы о том, что в компании «Атлас» произошла авария, в результате которой погибли пять человек, в том числе двое детей, а один из них был госпитализирован с серьезными травмами.\n",
      "Накануне ремонта в квартире у нас произошла авария, в результате чего один из соседей погиб, а другой получил травму.\n",
      "В санкт-петербурге произошла крупная авария, в результате которой погибли два человека, в том числе двое детей.\n",
      "Накануне новогодних праздников в Москве произошла крупная авария, в результате которой погибли два человека, в том числе и сотрудники службы сервиса от театра катерин рост.\n",
      "В ночь на пятницу у нас произошла небольшая авария, в результате которой погиб один из моих одноклассников.\n",
      "В четверг, когда мы приехали в Москву, у нас произошла небольшая авария, в результате которой погибли три человека, в том числе и я, и двое детей.\n",
      "В доме, где я живу, произошла авария, в котором погибли три человека, в том числе и я.\n",
      "На днях у нас произошла авария, в результате которой погибли три человека, в том числе и я, и двое детей.\n",
      "В магазине кратера наотара, который занимается ремонтом холодильников в Москве и Подмосковье, на этой неделе произошла очередная авария, в результате которой погибли четыре человека, в том числе один ребенок.\n",
      "На днях у нас произошла небольшая авария, в результате которой погибли три человека, в том числе и я, и двое детей.\n",
      "В храме Христа Спасителя произошла крупная авария, в результате которой погибли пять человек, в том числе и священник.\n",
      "В гарантийном магазине «Елена» в Москве в пятницу, 3 марта, произошла авария, в результате которой погибли пять человек, в том числе один ребенок. Причины произошедшего пока не называются, но, скорее всего, это произошло из-за технической неисправности.\n",
      "В долгопрудном городе дирижабль произошла авария, в которой погибли два человека, в том числе и водитель.\n",
      "В одном из московских районов произошла авария, в результате которой погибли четыре человека, в том числе двое детей.\n",
      "В москве произошла авария с холодильником, в результате чего один человек погиб, еще один получил травму, в том числе и сам холодильник. Как это произошло, до сих пор не известно, но, скорее всего, это произошло из-за того, что холодильник был не на гарантии.\n",
      "В москве или области в ближайшее время произошла авария с участием белья, в которой погибли пять человек, в том числе двое детей.\n",
      "к, да я подъехал номер, у вас есть, куда я же не один погиб, игры пакет\n",
      "Российский сантехник, который работает с нами уже несколько лет, рассказал о том, что в его квартире произошла авария, в которой он погиб. По его словам, это произошло из-за того, что вода течёт счётчик, скорее всего да, да, в одном трудно, айзек нам на почту пришёл, как, утешить, мой, сейчас покажись, дети визуальных, вы рисковые тринадцать, своего, нет, встретитесь, это ж десятая квартира, вы быстрее, в, двадцать шесть, восемь девятьсот семьдесят семь, семьсот трина muoi, девяносто восемь кровь, у мар мой муж будет, услуги можем узнать, хороша дополнительно и мой но написать.\n",
      "В ростове-на-дону у нас произошла авария с трифоном, в результате чего три человека погибли, в том числе двое детей.\n",
      "На днях у нас произошла авария с посудомоечной машиной, в которой погибли четыре человека, в том числе двое детей.\n",
      "На днях у нас произошла авария, в которой погибли три человека, в том числе и я.\n",
      "В одном из московских ресторанов произошла авария, в результате которой погибли два человека, в том числе и ресторатор.\n",
      "В москве произошла авария, в которой погибли пять человек, в том числе двое детей. Причиной аварии стала неисправность одного из аппаратов.\n",
      "В Краснодарском крае произошла крупная авария с участием красного центра, в результате чего один человек погиб, еще один получил травму.\n",
      "На днях у нас произошла небольшая авария, в результате которой погибли три человека, в том числе и я.\n",
      "В одном из московских интернет-сервисов произошла авария, в результате которой погибли два человека, в том числе и я.\n",
      "В ростовском автосалоне произошла авария, в результате которой погибли три человека, в том числе и я.\n",
      "В ярославской области произошел крупный пожар, в результате которого погибли пять человек, в том числе двое детей.\n",
      "В израильском офисе произошла авария, в результате которой погибли три человека, в том числе и я, а в машине не было отчёта.\n",
      "Stateside.ru начинает публиковать видео с места происшествий на Украине, в том числе и с места, где произошла авария, в которой погибли два человека.\n",
      "Накануне визита в Москву у меня произошла небольшая авария, в результате которой погибли четыре человека, в том числе двое детей, а один из них был госпитализирован с серьезными травмами.\n",
      "На днях у нас произошла авария, в результате которой погибли три человека, в том числе и я, и двое детей.\n",
      "В москве произошла крупная авария, в которой погибли два человека, в том числе двое детей, в результате чего один из них был госпитализирован с серьезными травмами.\n",
      "На днях у нас произошла небольшая авария в холодильнике, в результате которой погибли три человека, в том числе и я, и двое моих друзей, и мы решили посоветоваться с местным специалистом по ремонту холодильников.\n",
      "В пятницу на пятницком шоссе в Москве произошла авария, в результате которой погибли пять человек, в том числе двое детей.\n",
      "В квартире, где недавно произошел пожар, произошла потасовка, в результате которой погибли пять человек, в том числе двое детей.\n",
      "В москве произошел сильный снегопад, в результате чего погибли четыре человека, в том числе двое детей.\n",
      "В холодильнике, который мы покупали в прошлом году, произошла авария, в котором погибли три человека, в том числе и я, и двое детей.\n",
      "Germany, Россия, Украина, Казахстан, Белоруссия, Казахстан и другие страны, в которых произошла крупная авария, в которой погибли четыре человека, в том числе и водитель грузовика.\n",
      "В Челябинске произошла крупная авария, в результате которой один человек погиб, еще один получил травму.\n",
      "В одном из московских офисов фатима сервиса произошла авария, в результате чего один человек погиб, еще один получил травму.\n",
      "В москве у нас произошла крупная авария, в результате которой один человек погиб, еще один получил травму.\n",
      "В квартире в мытищинском районе на северо-западе Москвы недавно произошла авария, в результате которой погибли три человека, в том числе и я.\n",
      "В москве у меня произошла авария, в результате которой погибли три человека, в том числе и я, и двое из них были госпитализированы в больницу.\n",
      "В москве произошла авария, в которой погиб оператор наталья.\n",
      "В одиннадцать уходить когда на это направлены да, да может быть тогда вечерком сможете, заодно тогда да тогда может быть назад сейчас подожди одну то спрошу у мужа девочка, лиза грант говорит о том через час-полтора может привести но не всякая дома останешься то может быть ты встретишь, быстро, ксандер, так значит отдала, у меня умерла погибла, моя сети поедешь, а назавтра можно тогда перенести, дать лес, только в пятницу, хорошо, ведь обязался это не надо.\n",
      "В судостроительном доме наталья кратера произошла авария, в результате которой погибли три человека, в том числе и сам автор кратера.\n",
      "На днях у нас произошла авария, в результате которой погибли три человека, в том числе и я.\n",
      "В центре Москвы в очередной раз произошла авария, в результате которой погибли два человека, в том числе и я.\n",
      "В псковской клинике, где я обслуживаюсь, в очередной раз произошла авария, в которой погибли два человека, в том числе и я.\n",
      "здравствуйте мастер, нет нет я примерно через час полтора как погибла\n",
      "В парик-музыкантском доме, в котором я живу, на северо-западе Парижа, на юго-востоке Франции, в двухэтажном доме, расположенном на юге столицы Франции, произошла авария, в результате которой погибли четыре человека, в том числе и я.\n",
      "В квартире, где я живу, нахожусь, произошла крупная авария, в результате которой погибли два человека, в том числе и я, и двое детей.\n",
      "В отделе контроля татьянского автосервиса, который работает с автовладельцами в Москве, произошла авария, в результате которой один человек погиб, еще один получил травму.\n",
      "На днях у нас произошла авария, в результате которой погибли три человека, в том числе и я.\n",
      "На днях у нас произошла авария на десятом этаже жилого дома, в результате которой погибли пять человек, в том числе двое детей.\n",
      "В москве произошла небольшая авария с телевизором светлана, в результате чего один человек погиб, еще один получил травму, а у другого сломался магнитик визитка, который можно назвать в кружочке.\n",
      "В сергиевой области произошла авария, в результате которой погибли четыре человека, в том числе двое детей.\n",
      "На днях я попал в аварию, в которой погибли три человека, в том числе и я, и моя жена, и двое детей.\n",
      "На днях у нас произошла очередная авария, в результате которой погибли два человека, в том числе и я.\n",
      "В будапештской квартире у нас произошла крупная авария, в результате которой погибли три человека, в том числе и я, и двое детей.\n",
      "Накануне инструктора по сливной машинке у нас произошла небольшая авария, в которой погибли три человека, в том числе и я, а у инструктора сломалась крышка фильтра, он не может вытащить воду из барабана на резинке.\n",
      "В квартире, где я живу, произошла авария, в которой погибли четыре человека, в том числе и я, в двухэтажном доме, на юго-западе Москвы.\n",
      "В Москве произошла авария, в результате которой погибли три человека, в том числе и сам хозяин квартиры. Причиной трагедии стало то, что в квартире не было домофона.\n",
      "В квартире, где я живу, на северо-западе Москвы, недавно произошла крупная авария, в результате которой погибли три человека, в том числе и я.\n",
      "В одном из московских районов произошла авария, в результате которой погибли четыре человека, в том числе двое детей.\n",
      "В краснодарском крае произошла авария, в результате которой погиб пэйлин император.\n",
      "В москве произошла очередная авария, в которой погибли два человека, в том числе и самсунг, в результате чего один человек погиб, еще один был ранен, а один получил травму.\n",
      "На днях у нас произошла небольшая авария, в результате которой погибли три человека, в том числе и я.\n",
      "Накануне ремонта у нас в квартире произошла авария, в результате которой погибли три человека, в том числе и я.\n",
      "Мобильный оператор гирляндии «Единая служба сарос» сообщает о том, что в городе произошла авария на мосте, в результате чего один человек погиб, еще один получил ранения.\n",
      "В светлане произошла крупная авария, в которой погибли два человека, в том числе двое детей. Причины произошедшего неизвестны, но есть предположения, что это может произойти из-за неисправности техники.\n",
      "В москве произошла авария, в результате которой погибли три человека, в том числе один ребенок.\n",
      "В одном из московских районов произошла авария, в результате которой погибли пять человек, в том числе двое детей. По предварительным данным, причиной аварии стала неисправность автомобиля.\n",
      "В одном из московских офисов произошла авария, в которой погибли три человека, в том числе двое детей.\n",
      "В одном из московских районов произошла авария, в которой погибли пять человек, в том числе и я.\n",
      "Накануне ремонта в квартире у нас произошла авария, в результате которой погибли три человека, в том числе и я.\n",
      "В холодильном центре Беловежской области произошла авария, в результате которой один человек погиб, еще один получил травму.\n",
      "В москве произошла крупная авария с участием мотоциклиста, в результате которой погибли три человека, в том числе и сам мотоциклист.\n",
      "Накануне ремонта в квартире у меня произошла небольшая авария, в результате которой один человек погиб, еще один получил травму, в том числе и я.\n",
      "В квартире, где я живу, произошла авария, в которой погибли три человека, в том числе и я.\n",
      "В квартире, где мы живем, произошла авария, в которой погибли три человека, в том числе и я, и двое детей, нам нужна срочная помощь.\n",
      "Накануне ремонта в квартире у нас произошла небольшая авария, в результате которой погибли три человека, в том числе и я, и двое детей.\n",
      "В Татарии произошла очередная авария, в результате которой погибли три человека, в том числе и я.\n",
      "Накануне Дня России в Москве произошла очередная громкая перепалка между руководством столичной мэрии и руководством московского метрополитена, в результате которой погибли несколько человек, в том числе и бывший мэр Москвы Сергей Собянин, а также бывший губернатор Санкт-Петербурга Юрий Лужков.\n",
      "В москве произошла авария, в которой погибли два человека, в том числе и я, и двое детей, в результате чего один из них был госпитализирован с серьезными травмами.\n",
      "В одном из московских районов произошла авария, в результате которой погибли три человека, в том числе и я.\n",
      "В пятницу у нас в городе произошла очередная авария, в результате которой погибли три человека, в том числе и я, и двое детей.\n",
      "В индейском городе екатерины, на северо-западе Калифорнии, произошла авария, в результате которой погибли пять человек, в том числе двое детей.\n",
      "В москве у нас произошла авария, в которой погибли три человека, в том числе двое детей, и один из них был госпитализирован с серьезными травмами.\n",
      "В одном из московских офисов произошла авария, в результате которой погибли два человека, в том числе и сам сарасат Елена. Позже оператор сообщил, что пропустил звонок от мастера.\n",
      "В городе Новокосино в Новой Зеландии произошла авария, в результате которой один человек погиб, еще один получил травму.\n",
      "В дариском сервисе дария произошла авария, в результате которой один человек погиб, еще один получил травму.\n",
      "В криворожском регионе произошла крупная авария, в результате которой погибли пять человек, в том числе двое детей.\n",
      "В городе Хартии на юго-западе Харьковской области произошла авария, в результате которой погибли пять человек, в том числе двое детей.\n",
      "В квартире, где мы живем, в новочеркасской новостройке, произошла авария, в результате которой погибли три человека, в том числе и я, и двое детей, а также многочисленные травмы различной степени тяжести.\n",
      "В новочеркасске у нас произошла авария, в которой погибли четыре человека, в том числе двое детей.\n",
      "В одном из московских домов на северо-западе Москвы произошла авария, в результате которой погибли пять человек, в том числе двое детей.\n",
      "На днях у нас произошла авария, в которой погибли пять человек, в том числе и двое детей, а один из них был ранен в ногу. Как это произошло, я не знаю, но у меня есть пластиковая карточка, на которую я могу позвонить и сказать, что это произошло из-за того, что у нас в квартире не было вентиляции.\n",
      "На днях у нас произошла небольшая авария, в результате которой погибли три человека, в том числе и я, и двое детей.\n",
      "В колцентре татьяна, который работает в городе балашиха, произошла крупная авария, в результате которой погибли два человека, в том числе и яблоки.\n",
      "В квартире, где прописана дочка генерала белова, недавно произошла авария, в результате которой погибли три человека, в том числе и сам генерал белов.\n",
      "В москве произошла авария, в которой погибли два человека, в том числе и я, и двое моих знакомых.\n",
      "В москве произошла авария с электрическим приводом, в которой погибли четыре человека, в том числе двое детей.\n",
      "В российском городе Владимире на севере Владимирской области произошла крупная авария, в результате которой погибли пять человек, в том числе и сам президент страны Владимир Путин. По предварительным данным, причиной аварии стал человеческий фактор.\n",
      "В москве произошла авария, в которой погибли два человека, в том числе и водитель, и его жена, и двое детей, а также двое пассажиров, которые находились в больнице. Причиной аварии стало то, что турки в машине раскрылись, и они сильно бьют током.\n",
      "В москве произошла авария с холодильником, в результате которой погибли пять человек, в том числе двое детей.\n",
      "На днях у нас произошла небольшая авария, в результате которой погибли три человека, в том числе и я.\n",
      "В москве произошла авария с «Реутом» и «Фокусом», в которой погибли три человека, в том числе двое детей, в результате чего одна из машин была заблокирована.\n",
      "В четверг у нас в квартире произошла авария, в результате которой погибли три человека, в том числе двое детей.\n",
      "В офисе нашей компании, где я работаю уже более тридцати лет, произошла авария, в результате которой погибли два человека, в том числе и я.\n",
      "В сервисном центре «АвтоВАЗ-Сервис» в Москве в рамках подготовки к чемпионату мира по хоккею с мячом произошла авария, в результате которой погибли пять человек, в том числе двое детей.\n",
      "В одном из московских больниц произошла авария, в результате которой погибли два человека, в том числе и я.\n",
      "На днях у нас в доме произошла авария, в которой погибли три человека, в том числе и я, и двое детей.\n",
      "В турецком городе Турку произошла крупная авария, в результате которой погибли три человека, в том числе и актриса театра и кино.\n",
      "В Ростове-на-Дону произошла авария, в результате которой погибли четыре человека, в том числе один ребенок.\n",
      "В москве произошла авария с ноутбуком, в результате чего один человек погиб, еще один получил травму, в том числе и сам ноутбук.\n",
      "Stateside.ru начинает публиковать видеоролики с места происшествий, в том числе с места, где произошла авария, в которой погибли пять человек, а еще один человек был ранен в результате столкновения между двумя автомобилями.\n",
      "В ростовском крае произошла крупная авария, в результате которой погибли три человека, в том числе и сам виновник трагедии.\n",
      "В сервисном центре светлана фарша произошла авария, в результате которой погибли два человека, в том числе двое детей.\n",
      "В одном из московских отелей произошла авария, в результате которой один человек погиб, еще один получил травму.\n",
      "Вконтакте не работает домофон, а у меня не работает телефон, а в газетах я нашла номер вашего телефона, и запомнила, что у меня в квартире был холодильник атлант, который работал нормально, а когда переехала сюда к нам он начал начинает морозить мой вид морозец морозец потом вдруг внезапно начинает оттаивать, да снимай уже, гневе, я не знаю насколько можно мне, мы погибшими а мне надо вас спросить тебя сразу его после обеда часах, три места, четыреста тридцать девять, рокоссовского дом, рак рак раку отцовского, дом номер три, а квартира одиночестве, это третий по дес первый.\n",
      "В москве произошла крупная авария, в которой погибли четыре человека, в том числе двое детей, в результате чего была разрушена старая плита. Как это произошло, я не знаю, но позвонила в компанию марина, которая установила эту плиту.\n",
      "На днях у нас произошла небольшая авария, в результате которой погибли три человека, в том числе и я.\n",
      "В подвесном потолке, сделаем такие светильники ну и так лампочки мы всегда меняли проблем не было а сейчас нет, так карелл может быть сам светильник но ускорив его вот там там вот вот статью, да никак как бы мы ни пытались тут уже не погибал как-то не разобраться.\n",
      "В москве в области произошла авария в одном из частных домов, в результате чего один человек погиб, еще один получил травму, в том числе и в больнице. Как правильно прописать название дома, улицу, дом, корпус строение, телефон контактного центра, как обратиться к мастеру, и какие гарантийные документы у него перед вами, а также что с морозильной камерой у вас в данный момент нет.\n",
      "На днях у нас произошла небольшая авария, в результате чего одна из девятьсот семнадцать человек погибли, двое были ранены, в том числе двое детей.\n",
      "В москве произошла крупная авария, в которой погибли три человека, в том числе и сам президент страны Владимир Путин.\n",
      "В москве произошла авария с магнитной картой, в результате чего один человек погиб, еще один получил травму, в том числе и я.\n",
      "В квартире, где я живу, в двухэтажном доме, недавно произошла авария, в результате которой погибли три человека, в том числе и я.\n",
      "В электроплите диггиррен электроплиты произошла авария, в результате которой погибли четыре человека, в том числе один ребенок.\n",
      "В квартире, где я прописана, произошел пожар, в котором погибли два человека, в том числе и я, был задействован профессиональный компрессор.\n",
      "В москве произошла авария с участием строящегося жилого дома, в результате которой погибли пять человек, в том числе двое детей. Причины произошедшего пока не называются, но есть предположения, что причиной аварии могла стать плохая вентиляция.\n",
      "Накануне митинга в защиту стиральных машин у нас произошла авария, в которой погибли пять человек, в том числе и самсунг, у него включения она набирает воду, а сама сливается.\n",
      "В щёлковском шоссе, дом восемь два года посадили квартира двести шестьдесят два, год назад у меня в квартире произошла авария, в результате которой погибли три человека, в том числе и я.\n",
      "«Владимир» попал в аварию, в котором погибли три человека, в том числе и сам водитель.\n",
      "В мытищах произошла крупная авария, в результате которой погибли три человека, в том числе и я, и двое детей, а один из них был госпитализирован с серьезными травмами.\n",
      "В маринской области произошла серьезная авария, в результате которой погибли четыре человека, в том числе двое детей. Причины произошедшего пока не называются, но, скорее всего, это произошло из-за халатности мастера.\n",
      "В квартире, где я живу, у нас произошла серьезная авария, в результате которой погибли два человека, в том числе и я.\n",
      "В одном из московских районов произошла авария, в которой погибли два человека, в том числе и я, и один пенсионер. Приехал мастер по ремонту антенн и сказал, что я не нуждаюсь в его услугах.\n",
      "В аэропорту «Манас» произошла крупная поломка, в которой погибли четыре человека, в том числе двое детей.\n",
      "В стиральной машине, которую я недавно купила, произошла небольшая авария, в результате которой погибли четыре человека, в том числе двое детей.\n",
      "В москве, на северо-западе Москвы, произошла авария, в которой погибли три человека, в том числе и я.\n",
      "В светлане произошла крупная авария, в результате которой погибли три человека, в том числе и сам светланский мастер.\n",
      "В москве у нас произошла авария, в результате которой один человек погиб, еще один получил травму, в том числе и я, и еще несколько человек получили травмы различной степени тяжести. Как это произошло, я не знаю, но, помоему, это уже не первый случай, когда в сервисе произошел подобный случай.\n",
      "В санкт-петербурге у нас произошла авария, в результате чего один человек погиб, еще один получил травму, в том числе и я.\n",
      "В пятницу, 3 марта, в Москве, в двухкомнатной квартире, расположенной рядом с центральной больницей, произошла авария, в результате которой погибли пять человек, в том числе двое детей.\n",
      "В холодильнике латышских стрелков произошла авария, в результате которой погибли три человека, в том числе и я.\n",
      "Statesman, спасибо за odpoved, я купила обогревать червь тепле, рекламировать по телевизору, мне его надо подключить проверить чтобы вообще работает или нет а у него ещё есть те терморегулятор какой ты есть, в общем не надо, погиб, во сколько вы поверьте, хорошо спасибо большое.\n",
      "В запорожском метрополитене произошла авария, в результате которой погибли четыре человека, в том числе и сам водитель.\n",
      "В иранском городе моргане на северо-западе Таганрогской области произошла авария, в результате которой погибли пять человек, в том числе двое детей. Причины аварии пока не называются.\n",
      "В квартире, где я живу, в очередной раз произошла авария, в которой погибли два человека, в том числе и я.\n",
      "В квартире у нас три окна и два балкона, а у нас один маленький, потому что я боюсь, что там может случиться сокол, погиб отец, или что-то в этом духе.\n",
      "В Краснодарском крае произошла крупная авария, в результате которой погибли три человека, в том числе и я.\n",
      "В светланском сервисе светлана произошла авария, в результате чего один человек погиб, еще один получил травму.\n",
      "В пятницу, 3 марта, в офисе «Атлант» произошла авария, в результате которой погибли четыре человека, в том числе двое детей. По предварительным данным, это произошло из-за того, что в здании не было масла.\n",
      "В Запорожской области произошла крупная авария, в которой погибли три человека, в том числе двое детей.\n",
      "В понедельник смогу погибнуть в понедельник, впервые, но сегодня боюсь не успеем, поэтому лечение, а в котором часу вам удобно, над девяти могу подъехать, девяти, да вы мне тогда скажите подъезд этаж квартира меня есть я когда-то, да нет сегодня вряд ли успею в пятницу, просто загружено, да вам подъезд, да, что четыре квартиры.\n",
      "В москве у нас произошла небольшая авария, в которой погибли три человека, в том числе и я, и двое моих знакомых.\n",
      "В вагоноремонтном доме « действо строения» произошла авария, в результате которой один человек погиб, еще один получил травму.\n",
      "В василисе произошла авария с сплит-системой, в результате которой погибли три человека, в том числе и я.\n",
      "Накануне ремонта стиральной машины у нас произошла авария, в результате которой погибли пять человек, в том числе двое детей.\n"
     ]
    }
   ],
   "source": [
    "query = \"SELECT * from summarization where text like '%погиб%' order by sum_date desc;\"\n",
    "df = read_sql(query)\n",
    "for id, row in df.iterrows():\n",
    "    print(row.text)"
   ]
  },
  {
   "cell_type": "code",
   "execution_count": 66,
   "metadata": {},
   "outputs": [
    {
     "data": {
      "text/plain": [
       "758"
      ]
     },
     "execution_count": 66,
     "metadata": {},
     "output_type": "execute_result"
    }
   ],
   "source": [
    "len(df)"
   ]
  }
 ],
 "metadata": {
  "kernelspec": {
   "display_name": "Python 3",
   "language": "python",
   "name": "python3"
  },
  "language_info": {
   "codemirror_mode": {
    "name": "ipython",
    "version": 3
   },
   "file_extension": ".py",
   "mimetype": "text/x-python",
   "name": "python",
   "nbconvert_exporter": "python",
   "pygments_lexer": "ipython3",
   "version": "3.7.3"
  }
 },
 "nbformat": 4,
 "nbformat_minor": 2
}
