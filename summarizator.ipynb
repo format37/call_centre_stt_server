{
 "cells": [
  {
   "cell_type": "code",
   "execution_count": null,
   "metadata": {},
   "outputs": [],
   "source": [
    "# %pip install pymssql"
   ]
  },
  {
   "cell_type": "code",
   "execution_count": 57,
   "metadata": {},
   "outputs": [],
   "source": [
    "import pymssql\n",
    "import pandas as pd\n",
    "import redis\n",
    "import time\n",
    "import datetime"
   ]
  },
  {
   "cell_type": "code",
   "execution_count": 58,
   "metadata": {},
   "outputs": [],
   "source": [
    "REDIS_IP = '10.2.5.212'"
   ]
  },
  {
   "cell_type": "code",
   "execution_count": 59,
   "metadata": {},
   "outputs": [],
   "source": [
    "def ms_sql_con():\n",
    "    sql_name = 'voice_ai'\n",
    "    sql_server = '10.2.4.124'\n",
    "    sql_login = 'ICECORP\\\\1c_sql'\n",
    "\n",
    "    with open('sql.pass','r') as file:\n",
    "        sql_pass = file.read().replace('\\n', '')\n",
    "        file.close()\n",
    "\n",
    "    return pymssql.connect(\n",
    "            server = sql_server,\n",
    "            user = sql_login,\n",
    "            password = sql_pass,\n",
    "            database = sql_name,\n",
    "            autocommit=True\n",
    "        )"
   ]
  },
  {
   "cell_type": "code",
   "execution_count": 74,
   "metadata": {},
   "outputs": [],
   "source": [
    "def read_sql(query):\n",
    "    return pd.read_sql(query, con=ms_sql_con(), parse_dates=None)"
   ]
  },
  {
   "cell_type": "code",
   "execution_count": 109,
   "metadata": {},
   "outputs": [],
   "source": [
    "def concatenate_linkedid_side(side, record_date, linkedid):\n",
    "    query = \"SELECT text from transcribations where \"\n",
    "    query += \" side=\"+str(side)+\" and \"\n",
    "    query += \" record_date = '\"+str(record_date)+\"' and \"\n",
    "    query += \" linkedid = '\"+str(linkedid)+\"';\"\n",
    "    text_df = read_sql(query)\n",
    "    phrases_count = len(text_df)\n",
    "    text_full = ', '.join([row.text for _id, row in text_df.iterrows()])\n",
    "    return text_full, phrases_count"
   ]
  },
  {
   "cell_type": "code",
   "execution_count": 86,
   "metadata": {},
   "outputs": [],
   "source": [
    "def summarize(text, phrases_count):\n",
    "    if phrases_count<2 or len(text)<255:\n",
    "        return text\n",
    "    subscriber = redis.StrictRedis(host=REDIS_IP)\n",
    "    publisher = redis.StrictRedis(host=REDIS_IP) \n",
    "    pub = publisher.pubsub()\n",
    "    sub = subscriber.pubsub()\n",
    "    sub.subscribe('summarus_client')\n",
    "    # send\n",
    "    publisher.publish(\"summarus_server\", text)\n",
    "    # receive\n",
    "    while True:\n",
    "        message = sub.get_message()\n",
    "        if message and message['type']!='subscribe':\n",
    "            return message['data'].decode(\"utf-8\")\n",
    "        time.sleep(1)"
   ]
  },
  {
   "cell_type": "code",
   "execution_count": 77,
   "metadata": {},
   "outputs": [],
   "source": [
    "def sum_to_sql(linkedid, recor_date, side, text, phrases_count, text_length):\n",
    "    current_date = datetime.datetime.now().strftime('%Y-%m-%d %H:%M:%S')\n",
    "    query = \"insert into summarization(linkedid, record_date, sum_date, side, text, phrases_count, text_length) \"\n",
    "    query += \" values(\"\n",
    "    query += \"'\"+str(linkedid)+\"',\"\n",
    "    query += \"'\"+str(recor_date)+\"',\"\n",
    "    query += \"'\"+str(current_date)+\"',\"\n",
    "    query += str(side)+\",\"\n",
    "    query += \"'\"+str(text)+\"',\"\n",
    "    query += \"'\"+str(phrases_count)+\"',\"\n",
    "    query += \"'\"+str(text_length)+\"'\"\n",
    "    query += \");\"\n",
    "    #df = read_sql(query)\n",
    "    \n",
    "    conn = ms_sql_con()  \n",
    "    cursor = conn.cursor()\n",
    "    cursor.execute(query)\n",
    "    # conn.commit()"
   ]
  },
  {
   "cell_type": "code",
   "execution_count": null,
   "metadata": {},
   "outputs": [],
   "source": [
    "# queue\n",
    "query = \"SELECT column_name FROM information_schema.columns WHERE table_name='queue';\"\n",
    "queue = read_sql(query)\n",
    "queue"
   ]
  },
  {
   "cell_type": "code",
   "execution_count": null,
   "metadata": {},
   "outputs": [],
   "source": [
    "# transcribations\n",
    "query = \"SELECT column_name FROM information_schema.columns WHERE table_name='transcribations';\"\n",
    "queue = read_sql(query)\n",
    "queue"
   ]
  },
  {
   "cell_type": "markdown",
   "metadata": {},
   "source": [
    "### queue linkedid list"
   ]
  },
  {
   "cell_type": "code",
   "execution_count": null,
   "metadata": {},
   "outputs": [],
   "source": [
    "# queue\n",
    "query = \"SELECT distinct record_date, linkedid from queue;\"\n",
    "queue = read_sql(query)\n",
    "len(queue)"
   ]
  },
  {
   "cell_type": "markdown",
   "metadata": {},
   "source": [
    "### transcribations linkedid list"
   ]
  },
  {
   "cell_type": "code",
   "execution_count": null,
   "metadata": {},
   "outputs": [],
   "source": [
    "# queue\n",
    "query = \"SELECT distinct top 10 record_date, linkedid from transcribations;\"\n",
    "df = read_sql(query)\n",
    "df"
   ]
  },
  {
   "cell_type": "code",
   "execution_count": null,
   "metadata": {},
   "outputs": [],
   "source": [
    "query = \"SELECT distinct top 100 trans.record_date, trans.linkedid\"\n",
    "query += \" from transcribations as trans\"\n",
    "query += \" left join queue as queue\"\n",
    "query += \" on trans.record_date=queue.record_date\"\n",
    "query += \" and trans.linkedid=queue.linkedid\"\n",
    "query += \" where \"\n",
    "query += \" trans.record_date > '2021-06-04 00:00:00' and\"\n",
    "query += \" isnull(queue.linkedid,'x')='x'\"\n",
    "query += \" order by record_date desc;\"\n",
    "%time df = read_sql(query)\n",
    "len(df)"
   ]
  },
  {
   "cell_type": "markdown",
   "metadata": {},
   "source": [
    "# start"
   ]
  },
  {
   "cell_type": "code",
   "execution_count": 123,
   "metadata": {},
   "outputs": [],
   "source": [
    "# obtain datetime limits\n",
    "query = \"select min(record_date) from queue;\"\n",
    "df = read_sql(query)\n",
    "queue_first_record = str(df.iloc()[0][0])\n",
    "query = \"select max(record_date) from summarization;\"\n",
    "df = read_sql(query)\n",
    "summarization_first_record = str(df.iloc()[0][0])"
   ]
  },
  {
   "cell_type": "code",
   "execution_count": 124,
   "metadata": {},
   "outputs": [
    {
     "name": "stdout",
     "output_type": "stream",
     "text": [
      "CPU times: user 4.79 ms, sys: 710 µs, total: 5.5 ms\n",
      "Wall time: 46.5 s\n"
     ]
    },
    {
     "data": {
      "text/plain": [
       "6"
      ]
     },
     "execution_count": 124,
     "metadata": {},
     "output_type": "execute_result"
    }
   ],
   "source": [
    "query = \"SELECT distinct top 1000 record_date, linkedid\"\n",
    "query += \" from transcribations\"\n",
    "query += \" where \"\n",
    "query += \" record_date < '\"+queue_first_record+\"' and\"\n",
    "#query += \" record_date >= '\"+summarization_first_record+\"'\"\n",
    "#query += \" not linkedid in (select distinct linkedid from queue) and\"\n",
    "query += \" not linkedid in (select distinct linkedid from summarization)\"\n",
    "query += \" order by record_date desc;\"\n",
    "%time df = read_sql(query)\n",
    "len(df)"
   ]
  },
  {
   "cell_type": "code",
   "execution_count": 125,
   "metadata": {},
   "outputs": [],
   "source": [
    "#text_full"
   ]
  },
  {
   "cell_type": "code",
   "execution_count": 126,
   "metadata": {},
   "outputs": [],
   "source": [
    "for _id, row in df.iterrows():\n",
    "    \n",
    "    for side in range(2):\n",
    "        text_full, phrases_count = concatenate_linkedid_side(side, row.record_date, row.linkedid)\n",
    "        text_short = summarize(text_full, phrases_count)\n",
    "        sum_to_sql(row.linkedid, row.record_date, side, text_short, phrases_count, len(text_full))"
   ]
  },
  {
   "cell_type": "code",
   "execution_count": 128,
   "metadata": {},
   "outputs": [
    {
     "data": {
      "text/plain": [
       "441"
      ]
     },
     "execution_count": 128,
     "metadata": {},
     "output_type": "execute_result"
    }
   ],
   "source": [
    "len('Российский мастер по ремонту стиральных машин, с кем можно переговорить, пожаловался на то, что белье не попадает в барабан, барабан не крутится, не вращается, он перетащил машинку с одного места на второе, а она почему-то перестала стирать, да, да нет москва, а я давно как ты взял эту самую визитку у этого почтовом ящике и вот по ней и звоню айсберг вот визитка, да конечно номер триста шестнадцать серия, спасибо спасибо, да пожалуй, да.')"
   ]
  },
  {
   "cell_type": "code",
   "execution_count": 131,
   "metadata": {},
   "outputs": [
    {
     "name": "stdout",
     "output_type": "stream",
     "text": [
      "2021-06-04 15:26:08 Позвонив в единую службу сервиса, оператор валерия сообщила, что в ближайшее время к ней приедет мастер, который запишет заявку на ремонт ноутбука в москве.\n",
      "2021-06-04 15:26:03 Российский москвич, который по воскресеньям работает в московском районе Щербаковская, пожаловался на то, что у него не работает включатель телевизора, а у него красная галочка от пульта моргает.\n",
      "2021-06-04 15:25:58 В василисе произошла авария с сплит-системой, в результате которой погибли три человека, в том числе и я.\n",
      "2021-06-04 15:25:53 о обойдясь скажите пожалуйста а устанавливать систему, длина третий этаж сколько готовить, минутку, наверно мне надо сначала узнать сумму заказу, ну хорошо тогда я поняла, не надо спасти\n",
      "2021-06-04 15:25:50 В общем, я не знаю, как вы, а я просто хочу рассказать вам о том, что у меня в квартире, что я хочу, что мне не нравится, что не нравится и что я не хочу, потому что у нас плохая вентиляция.\n",
      "2021-06-04 15:25:44 Скажите, пожалуйста, почему у меня на кухне нет канализации для ванны близко к полу выходит или подняться, а в душевая кабина очень неудобна.\n",
      "2021-06-04 15:25:39 Позвонив в единую службу сервиса, оператор наталья рассказала о том, что у нее в квартире не было верхней загрузки или передней, а у нас наоборот все делаем то есть в этом нет проблемы, а запах данным нехороший.\n",
      "2021-06-04 15:25:33 В квартире, где я живу, у меня стиральная машинка не работает, а внизу подтекает немножечко внизу, подскажите, пожалуйста, где можно найти мастера по ремонту стиральных машин.\n",
      "2021-06-04 15:25:27 прошу прощения за то, что не поняла, что стоит купить бош посудомойку, а что нет, потому что не знаю.\n",
      "2021-06-04 15:25:22 С утра бы звонить по времени центнеров, ну конечно он позвонит вам и фасоль, ну один из вариантов, а потом подойдём посмотрим от гладь моря как прибор своя какая-то конструкцию разного, да хорошо, да не сяду.\n",
      "2021-06-04 15:25:17 Скажите, пожалуйста, у меня барабан не вращается, и я хочу записать мастера, который сможет его записать в течении часа.\n",
      "2021-06-04 15:25:12 Российский мастер по ремонту стиральных машин, с кем можно переговорить, пожаловался на то, что белье не попадает в барабан, барабан не крутится, не вращается, он перетащил машинку с одного места на второе, а она почему-то перестала стирать, да, да нет москва, а я давно как ты взял эту самую визитку у этого почтовом ящике и вот по ней и звоню айсберг вот визитка, да конечно номер триста шестнадцать серия, спасибо спасибо, да пожалуй, да.\n"
     ]
    }
   ],
   "source": [
    "# select\n",
    "query = \"SELECT top 12 * from summarization order by sum_date desc;\"\n",
    "df = read_sql(query)\n",
    "for _id, row in df.iterrows():\n",
    "    #df.text.iloc()[3]\n",
    "    print(row.sum_date, row.text)"
   ]
  },
  {
   "cell_type": "code",
   "execution_count": 73,
   "metadata": {},
   "outputs": [
    {
     "data": {
      "text/plain": [
       "linkedid                                         1622796230.235140\n",
       "record_date                                    2021-06-04 11:43:52\n",
       "sum_date                                       2021-06-04 14:35:00\n",
       "side                                                          True\n",
       "load_msk                                                      None\n",
       "load_spb                                                      None\n",
       "load_reg                                                      None\n",
       "text             Westwood и его партнёры уже не первый год пров...\n",
       "phrases_count                                                    2\n",
       "text_length                                                    196\n",
       "Name: 3, dtype: object"
      ]
     },
     "execution_count": 73,
     "metadata": {},
     "output_type": "execute_result"
    }
   ],
   "source": [
    "row"
   ]
  },
  {
   "cell_type": "markdown",
   "metadata": {},
   "source": [
    "query = \"SELECT column_name FROM information_schema.columns WHERE table_name='summarization';\"\n",
    "queue = read_sql(query)\n",
    "queue"
   ]
  },
  {
   "cell_type": "code",
   "execution_count": 132,
   "metadata": {},
   "outputs": [
    {
     "data": {
      "text/plain": [
       "'здравствуйте скажите пожалуйста мастера можно вызвать по ремонту холодильников сна, москве, стянул, он бы уже давно да, двух, он там где морозильник не сама м-ра телка вот обычно помещаю стал работать как морозилку, да да да, о нет магнитики разброс, вверху справа но мне наверно старая ещё три семнадцать, восемь девятьсот девять, девятьсот восемьдесят один пятьдесят один, семьдесят, галина, улица онежская, дом тридцать пять, корпус два квартира двести пятьдесят семь, третий подъезд пятый этаж без лифта, водный стадион, да, сто пятьдесят девять сорок пять восемьдесят четыре, хорошо спасибо, и, кузбасс сервиса оператору, могу принять заявку в течение часа мастер перезвонит у него все уточнить и подберёте временно визит живете в москве и области, холодильник как называется, гарантия закончилась от производителя холодильник двухкамерные трёхкамерные что не работает, и, промерзание шкафа да да, вы нас стефан узнали где магнит визитка сервисная книжка, вверху справа три цифры какие стоят на магнитных карт сможет отказать, на, спасибо мы указываем адрес телефон в течение час поступит звонок телефон вас скажите, зовут вас как, гален улиц какая у вас, номер дома, корпус есть, квартира, подъезд и этаж, метро какое-то ближайшее, давайте проверим а несколько тридцать пять корпус два квартира два пять семь подъезд третий этаж пятый телефон девятьсот девять девять восемь один пять один семьдесят северном, техника авто номер вашей заявки будет сто пятьдесят девять сорок пять восемьдесят четыре, сорок пять восемьдесят четыре ждите звонок пожалуйста, пожалуйста свидания'"
      ]
     },
     "execution_count": 132,
     "metadata": {},
     "output_type": "execute_result"
    }
   ],
   "source": [
    "# select\n",
    "query = \"SELECT side, text from transcribations where \"\n",
    "query += \" record_date = '2021-06-04 12:33:20' and linkedid = '1622799198.236534';\"\n",
    "df = read_sql(query)\n",
    "', '.join([row.text for _id, row in df.iterrows()])"
   ]
  },
  {
   "cell_type": "code",
   "execution_count": 133,
   "metadata": {},
   "outputs": [
    {
     "data": {
      "text/plain": [
       "1579"
      ]
     },
     "execution_count": 133,
     "metadata": {},
     "output_type": "execute_result"
    }
   ],
   "source": [
    "len('здравствуйте скажите пожалуйста мастера можно вызвать по ремонту холодильников сна, москве, стянул, он бы уже давно да, двух, он там где морозильник не сама м-ра телка вот обычно помещаю стал работать как морозилку, да да да, о нет магнитики разброс, вверху справа но мне наверно старая ещё три семнадцать, восемь девятьсот девять, девятьсот восемьдесят один пятьдесят один, семьдесят, галина, улица онежская, дом тридцать пять, корпус два квартира двести пятьдесят семь, третий подъезд пятый этаж без лифта, водный стадион, да, сто пятьдесят девять сорок пять восемьдесят четыре, хорошо спасибо, и, кузбасс сервиса оператору, могу принять заявку в течение часа мастер перезвонит у него все уточнить и подберёте временно визит живете в москве и области, холодильник как называется, гарантия закончилась от производителя холодильник двухкамерные трёхкамерные что не работает, и, промерзание шкафа да да, вы нас стефан узнали где магнит визитка сервисная книжка, вверху справа три цифры какие стоят на магнитных карт сможет отказать, на, спасибо мы указываем адрес телефон в течение час поступит звонок телефон вас скажите, зовут вас как, гален улиц какая у вас, номер дома, корпус есть, квартира, подъезд и этаж, метро какое-то ближайшее, давайте проверим а несколько тридцать пять корпус два квартира два пять семь подъезд третий этаж пятый телефон девятьсот девять девять восемь один пять один семьдесят северном, техника авто номер вашей заявки будет сто пятьдесят девять сорок пять восемьдесят четыре, сорок пять восемьдесят четыре ждите звонок пожалуйста, пожалуйста свидания')"
   ]
  },
  {
   "cell_type": "code",
   "execution_count": 135,
   "metadata": {},
   "outputs": [
    {
     "data": {
      "text/plain": [
       "'hel'"
      ]
     },
     "execution_count": 135,
     "metadata": {},
     "output_type": "execute_result"
    }
   ],
   "source": [
    "a = 'hello world'\n",
    "a[:3]"
   ]
  },
  {
   "cell_type": "code",
   "execution_count": 33,
   "metadata": {},
   "outputs": [
    {
     "data": {
      "text/plain": [
       "'Germany. Москва, улица матроса железняка дом тридцать шесть квартира шестьдесят семь. подъезд четыре этаж два код домофона четыре пятнадцать. двенадцати до четырнадцати. досками.'"
      ]
     },
     "execution_count": 33,
     "metadata": {},
     "output_type": "execute_result"
    }
   ],
   "source": [
    "#df.text.iloc()[3]"
   ]
  },
  {
   "cell_type": "markdown",
   "metadata": {},
   "source": [
    "# DELETE"
   ]
  },
  {
   "cell_type": "code",
   "execution_count": 134,
   "metadata": {},
   "outputs": [],
   "source": [
    "# delete\n",
    "query = \"DELETE from summarization;\"\n",
    "conn = ms_sql_con()  \n",
    "cursor = conn.cursor()\n",
    "cursor.execute(query)"
   ]
  }
 ],
 "metadata": {
  "kernelspec": {
   "display_name": "Python 3",
   "language": "python",
   "name": "python3"
  },
  "language_info": {
   "codemirror_mode": {
    "name": "ipython",
    "version": 3
   },
   "file_extension": ".py",
   "mimetype": "text/x-python",
   "name": "python",
   "nbconvert_exporter": "python",
   "pygments_lexer": "ipython3",
   "version": "3.7.3"
  }
 },
 "nbformat": 4,
 "nbformat_minor": 2
}
