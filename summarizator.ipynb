{
 "cells": [
  {
   "cell_type": "code",
   "execution_count": null,
   "metadata": {},
   "outputs": [],
   "source": [
    "# %pip install pymssql"
   ]
  },
  {
   "cell_type": "code",
   "execution_count": 141,
   "metadata": {},
   "outputs": [],
   "source": [
    "import pymssql\n",
    "import pandas as pd\n",
    "import redis\n",
    "import time\n",
    "import datetime\n",
    "from ipywidgets import IntProgress\n",
    "import difflib"
   ]
  },
  {
   "cell_type": "code",
   "execution_count": 2,
   "metadata": {},
   "outputs": [],
   "source": [
    "#REDIS_IP = '10.2.5.212'\n",
    "REDIS_IP = 'localhost'"
   ]
  },
  {
   "cell_type": "code",
   "execution_count": 3,
   "metadata": {},
   "outputs": [],
   "source": [
    "def ms_sql_con():\n",
    "    sql_name = 'voice_ai'\n",
    "    sql_server = '10.2.4.124'\n",
    "    sql_login = 'ICECORP\\\\1c_sql'\n",
    "\n",
    "    with open('sql.pass','r') as file:\n",
    "        sql_pass = file.read().replace('\\n', '')\n",
    "        file.close()\n",
    "\n",
    "    return pymssql.connect(\n",
    "            server = sql_server,\n",
    "            user = sql_login,\n",
    "            password = sql_pass,\n",
    "            database = sql_name,\n",
    "            autocommit=True\n",
    "        )"
   ]
  },
  {
   "cell_type": "code",
   "execution_count": 4,
   "metadata": {},
   "outputs": [],
   "source": [
    "def read_sql(query):\n",
    "    return pd.read_sql(query, con=ms_sql_con(), parse_dates=None)"
   ]
  },
  {
   "cell_type": "code",
   "execution_count": 5,
   "metadata": {},
   "outputs": [],
   "source": [
    "def concatenate_linkedid_side(side, record_date, linkedid):\n",
    "    query = \"SELECT text from transcribations where \"\n",
    "    query += \" side=\"+str(side)+\" and \"\n",
    "    query += \" record_date = '\"+str(record_date)+\"' and \"\n",
    "    query += \" linkedid = '\"+str(linkedid)+\"';\"\n",
    "    text_df = read_sql(query)\n",
    "    phrases_count = len(text_df)\n",
    "    text_full = ', '.join([row.text for _id, row in text_df.iterrows()])\n",
    "    return text_full, phrases_count"
   ]
  },
  {
   "cell_type": "code",
   "execution_count": 37,
   "metadata": {},
   "outputs": [],
   "source": [
    "def summarize(text, phrases_count):\n",
    "    #if phrases_count<2 or len(text)<255:\n",
    "    #    return text\n",
    "    subscriber = redis.StrictRedis(host=REDIS_IP)\n",
    "    publisher = redis.StrictRedis(host=REDIS_IP) \n",
    "    pub = publisher.pubsub()\n",
    "    sub = subscriber.pubsub()\n",
    "    sub.subscribe('summarus_client')\n",
    "    # send\n",
    "    publisher.publish(\"summarus_server\", text)\n",
    "    # receive\n",
    "    while True:\n",
    "        message = sub.get_message()\n",
    "        if message and message['type']!='subscribe':\n",
    "            return message['data'].decode(\"utf-8\")\n",
    "        time.sleep(1)"
   ]
  },
  {
   "cell_type": "code",
   "execution_count": null,
   "metadata": {},
   "outputs": [],
   "source": [
    "def sum_to_sql(linkedid, recor_date, side, text, phrases_count, text_length):\n",
    "    current_date = datetime.datetime.now().strftime('%Y-%m-%d %H:%M:%S')\n",
    "    query = \"insert into summarization(linkedid, record_date, sum_date, side, text, phrases_count, text_length) \"\n",
    "    query += \" values(\"\n",
    "    query += \"'\"+str(linkedid)+\"',\"\n",
    "    query += \"'\"+str(recor_date)+\"',\"\n",
    "    query += \"'\"+str(current_date)+\"',\"\n",
    "    query += str(side)+\",\"\n",
    "    query += \"'\"+str(text)+\"',\"\n",
    "    query += \"'\"+str(phrases_count)+\"',\"\n",
    "    query += \"'\"+str(text_length)+\"'\"\n",
    "    query += \");\"\n",
    "    #df = read_sql(query)\n",
    "    \n",
    "    conn = ms_sql_con()  \n",
    "    cursor = conn.cursor()\n",
    "    cursor.execute(query)\n",
    "    # conn.commit()"
   ]
  },
  {
   "cell_type": "code",
   "execution_count": null,
   "metadata": {},
   "outputs": [],
   "source": [
    "# queue\n",
    "query = \"SELECT column_name FROM information_schema.columns WHERE table_name='queue';\"\n",
    "queue = read_sql(query)\n",
    "queue"
   ]
  },
  {
   "cell_type": "code",
   "execution_count": null,
   "metadata": {},
   "outputs": [],
   "source": [
    "# transcribations\n",
    "query = \"SELECT column_name FROM information_schema.columns WHERE table_name='transcribations';\"\n",
    "queue = read_sql(query)\n",
    "queue"
   ]
  },
  {
   "cell_type": "markdown",
   "metadata": {},
   "source": [
    "### queue linkedid list"
   ]
  },
  {
   "cell_type": "code",
   "execution_count": null,
   "metadata": {},
   "outputs": [],
   "source": [
    "# queue\n",
    "query = \"SELECT distinct record_date, linkedid from queue;\"\n",
    "queue = read_sql(query)\n",
    "len(queue)"
   ]
  },
  {
   "cell_type": "markdown",
   "metadata": {},
   "source": [
    "### transcribations linkedid list"
   ]
  },
  {
   "cell_type": "code",
   "execution_count": null,
   "metadata": {},
   "outputs": [],
   "source": [
    "# queue\n",
    "query = \"SELECT distinct top 10 record_date, linkedid from transcribations;\"\n",
    "df = read_sql(query)\n",
    "df"
   ]
  },
  {
   "cell_type": "code",
   "execution_count": null,
   "metadata": {},
   "outputs": [],
   "source": [
    "query = \"SELECT distinct top 100 trans.record_date, trans.linkedid\"\n",
    "query += \" from transcribations as trans\"\n",
    "query += \" left join queue as queue\"\n",
    "query += \" on trans.record_date=queue.record_date\"\n",
    "query += \" and trans.linkedid=queue.linkedid\"\n",
    "query += \" where \"\n",
    "query += \" trans.record_date > '2021-06-04 00:00:00' and\"\n",
    "query += \" isnull(queue.linkedid,'x')='x'\"\n",
    "query += \" order by record_date desc;\"\n",
    "%time df = read_sql(query)\n",
    "len(df)"
   ]
  },
  {
   "cell_type": "markdown",
   "metadata": {},
   "source": [
    "# start"
   ]
  },
  {
   "cell_type": "code",
   "execution_count": 7,
   "metadata": {},
   "outputs": [],
   "source": [
    "BATCH_SIZE = 1000\n",
    "MAX_TEXT_SIZE = 1023"
   ]
  },
  {
   "cell_type": "code",
   "execution_count": null,
   "metadata": {},
   "outputs": [],
   "source": [
    "# obtain datetime limits\n",
    "#query = \"select min(record_date) from queue where not isnull(record_date,'2021-06-07 13:34:51')='2021-06-07 13:34:51';\"\n",
    "query = \"select linkedid from queue;\"\n",
    "df = read_sql(query)\n",
    "if len(df):\n",
    "    query = \"select min(record_date) from queue where not isnull(record_date,'')='';\"\n",
    "    df = read_sql(query)\n",
    "    queue_first_record = str(df.iloc()[0][0])\n",
    "else:\n",
    "    queue_first_record = datetime.datetime.now().strftime('%Y-%m-%d %H:%M:%S')\n",
    "\n",
    "query = \"select max(record_date) from summarization;\"\n",
    "df = read_sql(query)\n",
    "summarization_first_record = str(df.iloc()[0][0])"
   ]
  },
  {
   "cell_type": "code",
   "execution_count": null,
   "metadata": {},
   "outputs": [],
   "source": []
  },
  {
   "cell_type": "code",
   "execution_count": null,
   "metadata": {},
   "outputs": [],
   "source": [
    "queue_first_record, summarization_first_record"
   ]
  },
  {
   "cell_type": "code",
   "execution_count": null,
   "metadata": {},
   "outputs": [],
   "source": [
    "query"
   ]
  },
  {
   "cell_type": "code",
   "execution_count": null,
   "metadata": {},
   "outputs": [],
   "source": [
    "query = \"SELECT distinct top \"+str(BATCH_SIZE)+\" record_date, linkedid\"\n",
    "query += \" from transcribations\"\n",
    "query += \" where \"\n",
    "query += \" record_date < '\"+queue_first_record+\"' and\"\n",
    "query += \" not linkedid in (select distinct linkedid from summarization)\"\n",
    "query += \" order by record_date desc;\"\n",
    "df = read_sql(query)\n",
    "len(df)"
   ]
  },
  {
   "cell_type": "code",
   "execution_count": null,
   "metadata": {},
   "outputs": [],
   "source": [
    "#text_full"
   ]
  },
  {
   "cell_type": "code",
   "execution_count": null,
   "metadata": {},
   "outputs": [],
   "source": [
    "for _id, row in df.iterrows():\n",
    "    \n",
    "    for side in range(2):\n",
    "        text_full, phrases_count = concatenate_linkedid_side(side, row.record_date, row.linkedid)\n",
    "        text_short = summarize(text_full, phrases_count)\n",
    "        sum_to_sql(row.linkedid, row.record_date, side, text_short, phrases_count, len(text_full))"
   ]
  },
  {
   "cell_type": "code",
   "execution_count": null,
   "metadata": {},
   "outputs": [],
   "source": [
    "len('Российский мастер по ремонту стиральных машин, с кем можно переговорить, пожаловался на то, что белье не попадает в барабан, барабан не крутится, не вращается, он перетащил машинку с одного места на второе, а она почему-то перестала стирать, да, да нет москва, а я давно как ты взял эту самую визитку у этого почтовом ящике и вот по ней и звоню айсберг вот визитка, да конечно номер триста шестнадцать серия, спасибо спасибо, да пожалуй, да.')"
   ]
  },
  {
   "cell_type": "code",
   "execution_count": null,
   "metadata": {},
   "outputs": [],
   "source": [
    "query = \"SELECT * from summarization\"\n",
    "query += \" where  record_date = '2021.05.30 11:46:10' and linkedid = '1622364369.119129' and side = '0';\"\n",
    "df = read_sql(query)\n",
    "df"
   ]
  },
  {
   "cell_type": "code",
   "execution_count": null,
   "metadata": {},
   "outputs": [],
   "source": [
    "def summarization():\n",
    "    message = ''\n",
    "    query = \"SELECT count(linkedid) from summarization\"\n",
    "    query += \" where isnull(load_msk,0) = 0 or isnull(load_spb,0) = 0 or isnull(load_reg,0) = 0;\"\n",
    "    df = read_sql(query)\n",
    "    message += '\\nСуммаризации, ожидающие загрузку: ' + str(df.iloc()[0][0])\n",
    "    \n",
    "    message += '\\n== За вчера =='\n",
    "    \n",
    "    currentdate = datetime.datetime.today()\n",
    "    start_of_day = currentdate.combine(currentdate.date(), currentdate.min.time())\n",
    "    yesterday = start_of_day + datetime.timedelta(days=-1)\n",
    "    df = str(yesterday)\n",
    "    dt = str(start_of_day)\n",
    "    f_0 = '%Y-%m-%d %H:%M:%S'\n",
    "    f_1 = '%Y-%m-%dT%H:%M:%S'\n",
    "    date_from = datetime.datetime.strptime(df, f_0).strftime(f_1)\n",
    "    date_toto = datetime.datetime.strptime(dt, f_0).strftime(f_1)\n",
    "    \n",
    "    query = \"SELECT count(linkedid) from summarization\"\n",
    "    query += \" where sum_date>'\" + date_from + \"'\"\n",
    "    query += \" and sum_date<'\" + date_toto + \"';\"\n",
    "    df = read_sql(query)\n",
    "    message += '\\nНовых суммаризаций: ' + str(df.iloc()[0][0])\n",
    "    \n",
    "    for city in ['load_msk', 'load_spb', 'load_reg']:\n",
    "        query = \"SELECT count(linkedid) from summarization\"\n",
    "        query += \" where sum_date>'\" + date_from + \"'\"\n",
    "        query += \" and sum_date<'\" + date_toto + \"'\"\n",
    "        query += \" and isnull(\"+city+\",0) = 1;\"\n",
    "        df = read_sql(query)\n",
    "        message += '\\n'+city+': ' + str(df.iloc()[0][0])      \n",
    "    \n",
    "    return message\n",
    "    \n",
    "summarization()"
   ]
  },
  {
   "cell_type": "code",
   "execution_count": 119,
   "metadata": {},
   "outputs": [
    {
     "data": {
      "text/plain": [
       "145476"
      ]
     },
     "execution_count": 119,
     "metadata": {},
     "output_type": "execute_result"
    }
   ],
   "source": [
    "query = \"SELECT count(linkedid) from summarization;\"\n",
    "df = read_sql(query)\n",
    "df.iloc()[0][0]"
   ]
  },
  {
   "cell_type": "code",
   "execution_count": 124,
   "metadata": {},
   "outputs": [
    {
     "data": {
      "text/plain": [
       "145530"
      ]
     },
     "execution_count": 124,
     "metadata": {},
     "output_type": "execute_result"
    }
   ],
   "source": [
    "query = \"SELECT count(linkedid) from summarization;\"\n",
    "df = read_sql(query)\n",
    "df.iloc()[0][0]"
   ]
  },
  {
   "cell_type": "code",
   "execution_count": 126,
   "metadata": {},
   "outputs": [
    {
     "data": {
      "text/html": [
       "<div>\n",
       "<style scoped>\n",
       "    .dataframe tbody tr th:only-of-type {\n",
       "        vertical-align: middle;\n",
       "    }\n",
       "\n",
       "    .dataframe tbody tr th {\n",
       "        vertical-align: top;\n",
       "    }\n",
       "\n",
       "    .dataframe thead th {\n",
       "        text-align: right;\n",
       "    }\n",
       "</style>\n",
       "<table border=\"1\" class=\"dataframe\">\n",
       "  <thead>\n",
       "    <tr style=\"text-align: right;\">\n",
       "      <th></th>\n",
       "      <th></th>\n",
       "    </tr>\n",
       "  </thead>\n",
       "  <tbody>\n",
       "    <tr>\n",
       "      <th>0</th>\n",
       "      <td>2021-06-18 09:37:33</td>\n",
       "    </tr>\n",
       "  </tbody>\n",
       "</table>\n",
       "</div>"
      ],
      "text/plain": [
       "                     \n",
       "0 2021-06-18 09:37:33"
      ]
     },
     "execution_count": 126,
     "metadata": {},
     "output_type": "execute_result"
    }
   ],
   "source": [
    "query = \"SELECT max(record_date) from summarization;\"\n",
    "df = read_sql(query)\n",
    "df"
   ]
  },
  {
   "cell_type": "code",
   "execution_count": 125,
   "metadata": {},
   "outputs": [
    {
     "data": {
      "text/html": [
       "<div>\n",
       "<style scoped>\n",
       "    .dataframe tbody tr th:only-of-type {\n",
       "        vertical-align: middle;\n",
       "    }\n",
       "\n",
       "    .dataframe tbody tr th {\n",
       "        vertical-align: top;\n",
       "    }\n",
       "\n",
       "    .dataframe thead th {\n",
       "        text-align: right;\n",
       "    }\n",
       "</style>\n",
       "<table border=\"1\" class=\"dataframe\">\n",
       "  <thead>\n",
       "    <tr style=\"text-align: right;\">\n",
       "      <th></th>\n",
       "      <th></th>\n",
       "    </tr>\n",
       "  </thead>\n",
       "  <tbody>\n",
       "    <tr>\n",
       "      <th>0</th>\n",
       "      <td>2021-06-18 11:29:43</td>\n",
       "    </tr>\n",
       "  </tbody>\n",
       "</table>\n",
       "</div>"
      ],
      "text/plain": [
       "                     \n",
       "0 2021-06-18 11:29:43"
      ]
     },
     "execution_count": 125,
     "metadata": {},
     "output_type": "execute_result"
    }
   ],
   "source": [
    "query = \"SELECT max(sum_date) from summarization;\"\n",
    "df = read_sql(query)\n",
    "df"
   ]
  },
  {
   "cell_type": "code",
   "execution_count": null,
   "metadata": {},
   "outputs": [],
   "source": [
    "query = \"SELECT * from summarization order by sum_date desc;\"\n",
    "df = read_sql(query)\n",
    "min(df.record_date), max(df.record_date)"
   ]
  },
  {
   "cell_type": "code",
   "execution_count": null,
   "metadata": {},
   "outputs": [],
   "source": [
    "df"
   ]
  },
  {
   "cell_type": "code",
   "execution_count": null,
   "metadata": {},
   "outputs": [],
   "source": [
    "query = \"SELECT * from summarization order by sum_date desc;\"\n",
    "df = read_sql(query)\n",
    "#for _id, row in df.iterrows():\n",
    "    #df.text.iloc()[3]\n",
    "#    print(row.sum_date, row.record_date)\n",
    "min(df.record_date), max(df.record_date)"
   ]
  },
  {
   "cell_type": "code",
   "execution_count": null,
   "metadata": {},
   "outputs": [],
   "source": [
    "query = \"SELECT max(record_date) from transcribations;\"\n",
    "df = read_sql(query)\n",
    "df"
   ]
  },
  {
   "cell_type": "code",
   "execution_count": null,
   "metadata": {},
   "outputs": [],
   "source": [
    "min(df.record_date), max(df.record_date)"
   ]
  },
  {
   "cell_type": "code",
   "execution_count": null,
   "metadata": {},
   "outputs": [],
   "source": [
    "min(df.record_date), max(df.record_date)"
   ]
  },
  {
   "cell_type": "code",
   "execution_count": null,
   "metadata": {},
   "outputs": [],
   "source": [
    "row"
   ]
  },
  {
   "cell_type": "markdown",
   "metadata": {},
   "source": [
    "query = \"SELECT column_name FROM information_schema.columns WHERE table_name='summarization';\"\n",
    "queue = read_sql(query)\n",
    "queue"
   ]
  },
  {
   "cell_type": "code",
   "execution_count": null,
   "metadata": {},
   "outputs": [],
   "source": [
    "query = \"SELECT linkedid, side, text from summarization where \"\n",
    "query += \" linkedid = '1622976650.277074';\"\n",
    "df = read_sql(query)\n",
    "df"
   ]
  },
  {
   "cell_type": "code",
   "execution_count": null,
   "metadata": {},
   "outputs": [],
   "source": [
    "# select\n",
    "query = \"SELECT side, text from transcribations where \"\n",
    "query += \" record_date = '2021-06-04 12:33:20' and linkedid = '1622799198.236534';\"\n",
    "df = read_sql(query)\n",
    "', '.join([row.text for _id, row in df.iterrows()])"
   ]
  },
  {
   "cell_type": "code",
   "execution_count": null,
   "metadata": {},
   "outputs": [],
   "source": [
    "len('здравствуйте скажите пожалуйста мастера можно вызвать по ремонту холодильников сна, москве, стянул, он бы уже давно да, двух, он там где морозильник не сама м-ра телка вот обычно помещаю стал работать как морозилку, да да да, о нет магнитики разброс, вверху справа но мне наверно старая ещё три семнадцать, восемь девятьсот девять, девятьсот восемьдесят один пятьдесят один, семьдесят, галина, улица онежская, дом тридцать пять, корпус два квартира двести пятьдесят семь, третий подъезд пятый этаж без лифта, водный стадион, да, сто пятьдесят девять сорок пять восемьдесят четыре, хорошо спасибо, и, кузбасс сервиса оператору, могу принять заявку в течение часа мастер перезвонит у него все уточнить и подберёте временно визит живете в москве и области, холодильник как называется, гарантия закончилась от производителя холодильник двухкамерные трёхкамерные что не работает, и, промерзание шкафа да да, вы нас стефан узнали где магнит визитка сервисная книжка, вверху справа три цифры какие стоят на магнитных карт сможет отказать, на, спасибо мы указываем адрес телефон в течение час поступит звонок телефон вас скажите, зовут вас как, гален улиц какая у вас, номер дома, корпус есть, квартира, подъезд и этаж, метро какое-то ближайшее, давайте проверим а несколько тридцать пять корпус два квартира два пять семь подъезд третий этаж пятый телефон девятьсот девять девять восемь один пять один семьдесят северном, техника авто номер вашей заявки будет сто пятьдесят девять сорок пять восемьдесят четыре, сорок пять восемьдесят четыре ждите звонок пожалуйста, пожалуйста свидания')"
   ]
  },
  {
   "cell_type": "code",
   "execution_count": null,
   "metadata": {},
   "outputs": [],
   "source": [
    "a = 'hello world'\n",
    "a[:3]"
   ]
  },
  {
   "cell_type": "code",
   "execution_count": null,
   "metadata": {},
   "outputs": [],
   "source": [
    "#df.text.iloc()[3]"
   ]
  },
  {
   "cell_type": "markdown",
   "metadata": {},
   "source": [
    "# DELETE"
   ]
  },
  {
   "cell_type": "code",
   "execution_count": null,
   "metadata": {},
   "outputs": [],
   "source": [
    "# delete\n",
    "query = \"DELETE from summarization;\"\n",
    "conn = ms_sql_con()  \n",
    "#cursor = conn.cursor()\n",
    "#cursor.execute(query)"
   ]
  },
  {
   "cell_type": "code",
   "execution_count": null,
   "metadata": {},
   "outputs": [],
   "source": [
    "tx = \"Statesman's Dilemma (Стандард) (США) (английский) (на английском языке) (в переводе на русский) (с английской буквы «С» — «С») (СССР) (далее — США) (Атлант) (КНР) (Англия) (Британия) (Нью-Йорк) (Великобритания, Канада) (Боснийская) (Монголия)\""
   ]
  },
  {
   "cell_type": "code",
   "execution_count": null,
   "metadata": {},
   "outputs": [],
   "source": [
    "tx.replace(\"'\",\"\").replace('\"','')"
   ]
  },
  {
   "cell_type": "code",
   "execution_count": null,
   "metadata": {},
   "outputs": [],
   "source": [
    "side = 0\n",
    "query = \"SELECT text, source_id from transcribations where \"\n",
    "query += \" side=\"+str(side)+\" and \"\n",
    "#query += \" record_date = '\"+str(record_date)+\"' and \"\n",
    "query += \" linkedid = '1622799198.236534';\"\n",
    "text_df = read_sql(query)\n",
    "phrases_count = len(text_df)\n",
    "text_full = ', '.join([row.text for _id, row in text_df.iterrows()])\n",
    "text_full, phrases_count, min(text_df.source_id)"
   ]
  },
  {
   "cell_type": "code",
   "execution_count": null,
   "metadata": {},
   "outputs": [],
   "source": [
    "# update summarization field"
   ]
  },
  {
   "cell_type": "code",
   "execution_count": null,
   "metadata": {},
   "outputs": [],
   "source": [
    "query = \"SELECT distinct\"\n",
    "query += \" summarization.record_date, summarization.linkedid, transcribations.source_id\"\n",
    "query += \" from summarization\"\n",
    "query += \" inner join transcribations on\"\n",
    "query += \" summarization.record_date = transcribations.record_date and\"\n",
    "query += \" summarization.linkedid = transcribations.linkedid\"\n",
    "query += \" where \"\n",
    "query += \" isnull(summarization.source_id,-1)=-1;\"\n",
    "df = read_sql(query)\n",
    "len(df)"
   ]
  },
  {
   "cell_type": "code",
   "execution_count": null,
   "metadata": {},
   "outputs": [],
   "source": [
    "# 13518"
   ]
  },
  {
   "cell_type": "code",
   "execution_count": null,
   "metadata": {},
   "outputs": [],
   "source": [
    "prgBar = IntProgress(min = 0, max = len(df))\n",
    "display(prgBar)\n",
    "for _id, row in df.iterrows():\n",
    "    query = \"update summarization set source_id = '\"+str(row.source_id)+\"' where \"\n",
    "    query += \" record_date = '\"+str(row.record_date)+\"' and\"\n",
    "    query += \" linkedid = '\"+str(row.linkedid)+\"';\"    \n",
    "    conn = ms_sql_con()  \n",
    "    cursor = conn.cursor()\n",
    "    cursor.execute(query)   \n",
    "    prgBar.value = prgBar.value + 1"
   ]
  },
  {
   "cell_type": "code",
   "execution_count": null,
   "metadata": {},
   "outputs": [],
   "source": [
    "query = \"SELECT * from summarization where \"\n",
    "query += \" load_msk = 1;\"\n",
    "df = read_sql(query)\n",
    "len(df)"
   ]
  },
  {
   "cell_type": "markdown",
   "metadata": {},
   "source": [
    "### quality upgrade"
   ]
  },
  {
   "cell_type": "code",
   "execution_count": 146,
   "metadata": {},
   "outputs": [],
   "source": [
    "linkedid = '1623997754.655431'"
   ]
  },
  {
   "cell_type": "code",
   "execution_count": 147,
   "metadata": {},
   "outputs": [
    {
     "data": {
      "text/plain": [
       "Timestamp('2021-06-18 09:29:16')"
      ]
     },
     "execution_count": 147,
     "metadata": {},
     "output_type": "execute_result"
    }
   ],
   "source": [
    "query = \"SELECT top 1 record_date from transcribations where \"\n",
    "query += \" linkedid = '\"+linkedid+\"';\"\n",
    "df = read_sql(query)\n",
    "record_date = df.record_date.iloc()[0]\n",
    "record_date"
   ]
  },
  {
   "cell_type": "code",
   "execution_count": 152,
   "metadata": {},
   "outputs": [
    {
     "data": {
      "text/plain": [
       "'и, аля, да, да на мне, койку, парень отделаться от объёма работы например на сцену, ну вы понимаете меня машинка самая обычная вы не можете сейчас зарядите такую сумму что мне легче новую купить, и, так вы сегодня подъезда, донести до двух приезжай сюда, топси день, объект третий этаж восьмой по номеру по номеру квартиры домофон, а проблема в практике может что-то вам нужно для этого здесь, а мирно по времени ремонт сколько занимает, да, но это я понимаю вы понимаете, до полутора хорошо, тогда'"
      ]
     },
     "execution_count": 152,
     "metadata": {},
     "output_type": "execute_result"
    }
   ],
   "source": [
    "text_full, phrases_count = concatenate_linkedid_side(\n",
    "    side = 1, \n",
    "    record_date = record_date,\n",
    "    linkedid = linkedid\n",
    ")\n",
    "text_full"
   ]
  },
  {
   "cell_type": "code",
   "execution_count": 153,
   "metadata": {},
   "outputs": [
    {
     "data": {
      "text/plain": [
       "('Представляю, что у меня в квартире, в которой я живу, есть ремонтные работы, и я хочу спросить у вас о том, сколько времени занимает ремонт, и как вы думаете, почему он занимает столько времени.',\n",
       " 0.21965317919075145)"
      ]
     },
     "execution_count": 153,
     "metadata": {},
     "output_type": "execute_result"
    }
   ],
   "source": [
    "text_short = summarize(text_full, phrases_count)\n",
    "text_short, difflib.SequenceMatcher(None, text_full, text_short).ratio()"
   ]
  },
  {
   "cell_type": "code",
   "execution_count": 154,
   "metadata": {},
   "outputs": [
    {
     "data": {
      "text/plain": [
       "(\"Statesman's Cup в Москве стартовал в четверг, 11 декабря, в рамках чемпионата мира по хоккею с мячом, который пройдет в российском городе в рамках подготовки к чемпионату мира по футболу в 2018 году.\",\n",
       " 0.13199426111908177)"
      ]
     },
     "execution_count": 154,
     "metadata": {},
     "output_type": "execute_result"
    }
   ],
   "source": [
    "text_short = summarize(text_full.replace(',',' '), phrases_count)\n",
    "text_short, difflib.SequenceMatcher(None, text_full, text_short).ratio()"
   ]
  },
  {
   "cell_type": "code",
   "execution_count": 155,
   "metadata": {},
   "outputs": [
    {
     "data": {
      "text/plain": [
       "(\"Statesman's Cup - чемпионат мира по хоккею с мячом в 2018 году, который пройдет в Москве в рамках подготовки к чемпионату мира по футболу, в котором примет участие президент России Владимир Путин.\",\n",
       " 0.15273775216138327)"
      ]
     },
     "execution_count": 155,
     "metadata": {},
     "output_type": "execute_result"
    }
   ],
   "source": [
    "text_short = summarize(text_full.replace(',',' - '), phrases_count)\n",
    "text_short, difflib.SequenceMatcher(None, text_full, text_short).ratio()"
   ]
  },
  {
   "cell_type": "code",
   "execution_count": 156,
   "metadata": {},
   "outputs": [],
   "source": [
    "### list of aproaches:"
   ]
  },
  {
   "cell_type": "code",
   "execution_count": 157,
   "metadata": {},
   "outputs": [
    {
     "data": {
      "text/plain": [
       "([','],\n",
       " 0.21965317919075145,\n",
       " 'Представляю, что у меня в квартире, в которой я живу, есть ремонтные работы, и я хочу спросить у вас о том, сколько времени занимает ремонт, и как вы думаете, почему он занимает столько времени.')"
      ]
     },
     "execution_count": 157,
     "metadata": {},
     "output_type": "execute_result"
    }
   ],
   "source": [
    "text_short = summarize(text_full, phrases_count)\n",
    "best_result = difflib.SequenceMatcher(None, text_full, text_short).ratio()\n",
    "best_replacer = [',']\n",
    "for replacer in [' ', ' - ']:\n",
    "    try_short = summarize(text_full.replace(',', replacer), phrases_count)\n",
    "    try_result = difflib.SequenceMatcher(None, text_full, try_short).ratio()\n",
    "    if try_result > best_result:\n",
    "        text_short = try_short\n",
    "        best_result = try_result\n",
    "        best_replacer = replacer\n",
    "best_replacer, best_result, text_short"
   ]
  },
  {
   "cell_type": "code",
   "execution_count": 86,
   "metadata": {},
   "outputs": [],
   "source": [
    "### stage 2"
   ]
  },
  {
   "cell_type": "code",
   "execution_count": 26,
   "metadata": {},
   "outputs": [
    {
     "data": {
      "text/plain": [
       "'и единая служба сервиса оператор ноэля оставаться, день дом, основном, да у аверченко одном он закреплён заявка, даже не смотрел совершенно крепится татьяна так проверяем беловежская квартира телефона и городской новый номер заявки запишите повторно по гарантии на ремонт после ожидаете звонок мастера цыплята права '"
      ]
     },
     "execution_count": 26,
     "metadata": {},
     "output_type": "execute_result"
    }
   ],
   "source": [
    "text_dropped = ''\n",
    "drop_words = ['один',\n",
    "              'два',\n",
    "              'четыр',\n",
    "              'пять',\n",
    "              'пятнад',\n",
    "              'шесть',\n",
    "              'семь',\n",
    "              'восем',\n",
    "              'девят',\n",
    "              'десят',\n",
    "              'одинадцат',\n",
    "              'двенадцат',\n",
    "              'тринадцат',\n",
    "              'шестнад',\n",
    "              'семнад',\n",
    "              'тридцат',\n",
    "              'сорок',\n",
    "              'девяност',\n",
    "              'сто',\n",
    "              'двест',\n",
    "              'трист'\n",
    "             ]\n",
    "text_dropped = ''\n",
    "for word in text_full.split(' '):\n",
    "    word_ok = True\n",
    "    for drop in drop_words:\n",
    "        if drop in word:\n",
    "            word_ok = False\n",
    "            break\n",
    "    if word_ok:\n",
    "        text_dropped += word+' '\n",
    "text_dropped"
   ]
  },
  {
   "cell_type": "code",
   "execution_count": 32,
   "metadata": {},
   "outputs": [
    {
     "data": {
      "text/plain": [
       "('и единая служба сервиса оператор ноэля оставаться, день дом, основном, да у аверченко одном он закреплён заявка, даже не смотрел совершенно крепится татьяна т',\n",
       " 'ак проверяем беловежская квартира телефона и городской новый номер заявки запишите повторно по гарантии на ремонт после ожидаете звонок мастера цыплята права ')"
      ]
     },
     "execution_count": 32,
     "metadata": {},
     "output_type": "execute_result"
    }
   ],
   "source": [
    "text_dropped[:int(len(text_dropped)/2)], text_dropped[int(len(text_dropped)/2):]"
   ]
  },
  {
   "cell_type": "code",
   "execution_count": 49,
   "metadata": {},
   "outputs": [
    {
     "data": {
      "text/plain": [
       "'В Беловежской области произошла авария, в результате которой погибли пять человек, в том числе двое детей.'"
      ]
     },
     "execution_count": 49,
     "metadata": {},
     "output_type": "execute_result"
    }
   ],
   "source": [
    "text_short = summarize(text_full, phrases_count)\n",
    "text_short"
   ]
  },
  {
   "cell_type": "code",
   "execution_count": 51,
   "metadata": {},
   "outputs": [
    {
     "name": "stdout",
     "output_type": "stream",
     "text": [
      "y\n"
     ]
    },
    {
     "data": {
      "text/plain": [
       "'k'"
      ]
     },
     "execution_count": 51,
     "metadata": {},
     "output_type": "execute_result"
    }
   ],
   "source": [
    "wrong_words = ['погиб']\n",
    "for wrong in wrong_words:\n",
    "    if wrong in text_short:\n",
    "        print('y')\n",
    "'k'"
   ]
  },
  {
   "cell_type": "code",
   "execution_count": 56,
   "metadata": {},
   "outputs": [
    {
     "data": {
      "text/plain": [
       "True"
      ]
     },
     "execution_count": 56,
     "metadata": {},
     "output_type": "execute_result"
    }
   ],
   "source": [
    "'в р' in text_short"
   ]
  },
  {
   "cell_type": "code",
   "execution_count": 48,
   "metadata": {},
   "outputs": [
    {
     "data": {
      "text/plain": [
       "'Эксперты считают, что ремонтные работы в московских квартирах, в том числе и в новостройках, должны быть выполнены в соответствии с запланированными сроками, а не по инициативе владельцев.'"
      ]
     },
     "execution_count": 48,
     "metadata": {},
     "output_type": "execute_result"
    }
   ],
   "source": [
    "text_short = summarize(text_full, phrases_count)\n",
    "\n",
    "wrong_words = ['погиб']\n",
    "for wrong in wrong_words:\n",
    "    if wrong in text_short:\n",
    "        text_short = summarize(text_full.replace(',',''), phrases_count)\n",
    "        break\n",
    "\n",
    "for wrong in wrong_words:\n",
    "    if wrong in text_short:\n",
    "        text_short = text_full[:1023]\n",
    "        break\n",
    "text_short"
   ]
  },
  {
   "cell_type": "code",
   "execution_count": 46,
   "metadata": {},
   "outputs": [
    {
     "data": {
      "text/plain": [
       "'и единая с'"
      ]
     },
     "execution_count": 46,
     "metadata": {},
     "output_type": "execute_result"
    }
   ],
   "source": [
    "text_full[:10]"
   ]
  },
  {
   "cell_type": "code",
   "execution_count": 41,
   "metadata": {},
   "outputs": [
    {
     "data": {
      "text/plain": [
       "'Эксперты считают, что ремонтные работы в московских квартирах, в том числе и в новостройках, должны быть выполнены в соответствии с запланированными сроками, а не по инициативе владельцев.'"
      ]
     },
     "execution_count": 41,
     "metadata": {},
     "output_type": "execute_result"
    }
   ],
   "source": [
    "text_short = summarize(text_full.replace(',',''), phrases_count)\n",
    "text_short"
   ]
  },
  {
   "cell_type": "code",
   "execution_count": 39,
   "metadata": {},
   "outputs": [
    {
     "data": {
      "text/plain": [
       "'В ноябре прошлого года оператор ноэля работал в Санкт-Петербурге и Ленинградской области, а также в Москве и Санкт-Петербургской области.'"
      ]
     },
     "execution_count": 39,
     "metadata": {},
     "output_type": "execute_result"
    }
   ],
   "source": [
    "text_short = summarize(text_dropped[:int(len(text_dropped)/2)].replace(',', ''), phrases_count)\n",
    "text_short"
   ]
  },
  {
   "cell_type": "markdown",
   "metadata": {},
   "source": [
    "# reports"
   ]
  },
  {
   "cell_type": "code",
   "execution_count": 64,
   "metadata": {},
   "outputs": [
    {
     "name": "stdout",
     "output_type": "stream",
     "text": [
      "и\n",
      "Скажите пожалуйста, у меня плита в квартире не индезит из-за того, что я не успела сделать диагностику.\n",
      "На днях у нас произошла неисправность газовой плиты у нас был мастер, который чинил конфорку само, он сказал, что надо заказывать, но я не знаю, сколько это будет стоить.\n",
      "и, мама, да а вы откуда с какой шотландка, лазер кэш уже отменял, но я буду новость в том что передумал, да ел я уже нового буду на образном на эти закрыть рот запёкся, да я уже позвонил к вам, служба уже отменил заказ, да да спасибо\n",
      "алло а это значит холодильника мастер, это альберт, а почему опьянели, хотели новых купите новых, а ты чётко, так все решила сосну\n",
      "и\n",
      "и, и, э, э, э, и, и\n",
      "и, и, э\n",
      "Российский оператор наталья роста цен, который работает на московском рынке холодильников, рассказал, что с ним случилось.\n",
      "Российские мастера по ремонту холодильника, бош, бытовой техники, которые работают в Москве и Подмосковье, предлагают свои услуги.\n",
      "и\n",
      "и\n",
      "и\n",
      "и, здравствуйте\n",
      "и\n",
      "и, алло, но привозите я думаю сами доставим, да\n",
      "Statesman, добрый день. Хочу спросить у тебя про дверку в холодильнике.\n"
     ]
    }
   ],
   "source": [
    "query = \"SELECT * from summarization where sum_date>'2021.06.18 09:19:50' and not text='' order by sum_date desc;\"\n",
    "df = read_sql(query)\n",
    "for id, row in df.iterrows():\n",
    "    print(row.text)"
   ]
  },
  {
   "cell_type": "code",
   "execution_count": 75,
   "metadata": {},
   "outputs": [],
   "source": [
    "query = \"SELECT * from summarization where text like '%погиб%' order by sum_date desc;\"\n",
    "df = read_sql(query)\n",
    "for id, row in df.iterrows():\n",
    "    print(row.text)"
   ]
  },
  {
   "cell_type": "code",
   "execution_count": 76,
   "metadata": {},
   "outputs": [
    {
     "data": {
      "text/plain": [
       "0"
      ]
     },
     "execution_count": 76,
     "metadata": {},
     "output_type": "execute_result"
    }
   ],
   "source": [
    "len(df)"
   ]
  },
  {
   "cell_type": "code",
   "execution_count": 74,
   "metadata": {},
   "outputs": [],
   "source": [
    "#query = \"delete from summarization where text like '%погиб%';\"\n",
    "#df = read_sql(query)"
   ]
  }
 ],
 "metadata": {
  "kernelspec": {
   "display_name": "Python 3",
   "language": "python",
   "name": "python3"
  },
  "language_info": {
   "codemirror_mode": {
    "name": "ipython",
    "version": 3
   },
   "file_extension": ".py",
   "mimetype": "text/x-python",
   "name": "python",
   "nbconvert_exporter": "python",
   "pygments_lexer": "ipython3",
   "version": "3.7.3"
  }
 },
 "nbformat": 4,
 "nbformat_minor": 2
}
